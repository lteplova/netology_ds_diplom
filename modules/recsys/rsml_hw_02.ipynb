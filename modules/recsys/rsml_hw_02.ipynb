{
  "nbformat": 4,
  "nbformat_minor": 0,
  "metadata": {
    "colab": {
      "provenance": [],
      "toc_visible": true
    },
    "kernelspec": {
      "name": "python3",
      "display_name": "Python 3"
    },
    "language_info": {
      "name": "python"
    }
  },
  "cells": [
    {
      "cell_type": "markdown",
      "source": [
        "# Задание\n",
        "Пакет SURPRISE:\n",
        "\n",
        "    используйте данные MovieLens 1M,\n",
        "    можно использовать любые модели из пакета,\n",
        "    получите RMSE на тестовом сете 0,87 и ниже.\n",
        "\n"
      ],
      "metadata": {
        "id": "oXLCWHc-Ak2a"
      }
    },
    {
      "cell_type": "code",
      "execution_count": null,
      "metadata": {
        "id": "Qmcmr6DrGI03"
      },
      "outputs": [],
      "source": [
        "import pandas as pd\n",
        "import numpy as np\n",
        "from tqdm.notebook import tqdm"
      ]
    },
    {
      "cell_type": "markdown",
      "source": [
        "### Загрузка данных"
      ],
      "metadata": {
        "id": "8kxcnj3Kmjta"
      }
    },
    {
      "cell_type": "code",
      "source": [
        "!wget 'https://drive.google.com/uc?id=1kOh-9U9r0U4e63OAUoB_8JHfrisNxq_-' -O ml-latest-small.zip"
      ],
      "metadata": {
        "colab": {
          "base_uri": "https://localhost:8080/"
        },
        "id": "GIGzaCksGhTS",
        "outputId": "361d0d00-fe8d-4992-db6e-90ee1b8bbd7b"
      },
      "execution_count": null,
      "outputs": [
        {
          "output_type": "stream",
          "name": "stdout",
          "text": [
            "--2023-03-06 12:23:44--  https://drive.google.com/uc?id=1kOh-9U9r0U4e63OAUoB_8JHfrisNxq_-\n",
            "Resolving drive.google.com (drive.google.com)... 142.251.31.139, 142.251.31.113, 142.251.31.102, ...\n",
            "Connecting to drive.google.com (drive.google.com)|142.251.31.139|:443... connected.\n",
            "HTTP request sent, awaiting response... 303 See Other\n",
            "Location: https://doc-14-c4-docs.googleusercontent.com/docs/securesc/ha0ro937gcuc7l7deffksulhg5h7mbp1/m0iciokdb95bvkcj9nkltdo4oeiu2u84/1678105425000/07609373658266146093/*/1kOh-9U9r0U4e63OAUoB_8JHfrisNxq_-?uuid=1ed9ef35-c91a-46c0-bbc9-89c477eb61a7 [following]\n",
            "Warning: wildcards not supported in HTTP.\n",
            "--2023-03-06 12:23:45--  https://doc-14-c4-docs.googleusercontent.com/docs/securesc/ha0ro937gcuc7l7deffksulhg5h7mbp1/m0iciokdb95bvkcj9nkltdo4oeiu2u84/1678105425000/07609373658266146093/*/1kOh-9U9r0U4e63OAUoB_8JHfrisNxq_-?uuid=1ed9ef35-c91a-46c0-bbc9-89c477eb61a7\n",
            "Resolving doc-14-c4-docs.googleusercontent.com (doc-14-c4-docs.googleusercontent.com)... 108.177.119.132, 2a00:1450:4013:c00::84\n",
            "Connecting to doc-14-c4-docs.googleusercontent.com (doc-14-c4-docs.googleusercontent.com)|108.177.119.132|:443... connected.\n",
            "HTTP request sent, awaiting response... 200 OK\n",
            "Length: 978202 (955K) [application/zip]\n",
            "Saving to: ‘ml-latest-small.zip’\n",
            "\n",
            "ml-latest-small.zip 100%[===================>] 955.28K  --.-KB/s    in 0.009s  \n",
            "\n",
            "2023-03-06 12:23:45 (109 MB/s) - ‘ml-latest-small.zip’ saved [978202/978202]\n",
            "\n"
          ]
        }
      ]
    },
    {
      "cell_type": "code",
      "source": [
        "!unzip ml-latest-small.zip"
      ],
      "metadata": {
        "colab": {
          "base_uri": "https://localhost:8080/"
        },
        "id": "-bnkx5eLGlYM",
        "outputId": "a94b0f60-4241-40d1-e5ef-8d0fbe97d9a5"
      },
      "execution_count": null,
      "outputs": [
        {
          "output_type": "stream",
          "name": "stdout",
          "text": [
            "Archive:  ml-latest-small.zip\n",
            "   creating: ml-latest-small/\n",
            "  inflating: ml-latest-small/links.csv  \n",
            "  inflating: ml-latest-small/tags.csv  \n",
            "  inflating: ml-latest-small/ratings.csv  \n",
            "  inflating: ml-latest-small/README.txt  \n",
            "  inflating: ml-latest-small/movies.csv  \n"
          ]
        }
      ]
    },
    {
      "cell_type": "code",
      "source": [
        "links = pd.read_csv('ml-latest-small/links.csv')\n",
        "movies = pd.read_csv('ml-latest-small/movies.csv')\n",
        "ratings = pd.read_csv('ml-latest-small/ratings.csv')\n",
        "tags = pd.read_csv('ml-latest-small/tags.csv')"
      ],
      "metadata": {
        "id": "r1otuRcTG04m"
      },
      "execution_count": null,
      "outputs": []
    },
    {
      "cell_type": "code",
      "source": [
        "movies_with_ratings = movies.merge(ratings, on='movieId').reset_index(drop=True)"
      ],
      "metadata": {
        "id": "k5oqzmNfSM-z"
      },
      "execution_count": null,
      "outputs": []
    },
    {
      "cell_type": "code",
      "source": [
        "movies_with_ratings.info()"
      ],
      "metadata": {
        "colab": {
          "base_uri": "https://localhost:8080/"
        },
        "id": "v46T77ag-_4I",
        "outputId": "c5e5a877-1c60-40b5-c510-76f26fb2d5e2"
      },
      "execution_count": null,
      "outputs": [
        {
          "output_type": "stream",
          "name": "stdout",
          "text": [
            "<class 'pandas.core.frame.DataFrame'>\n",
            "RangeIndex: 100836 entries, 0 to 100835\n",
            "Data columns (total 6 columns):\n",
            " #   Column     Non-Null Count   Dtype  \n",
            "---  ------     --------------   -----  \n",
            " 0   movieId    100836 non-null  int64  \n",
            " 1   title      100836 non-null  object \n",
            " 2   genres     100836 non-null  object \n",
            " 3   userId     100836 non-null  int64  \n",
            " 4   rating     100836 non-null  float64\n",
            " 5   timestamp  100836 non-null  int64  \n",
            "dtypes: float64(1), int64(3), object(2)\n",
            "memory usage: 4.6+ MB\n"
          ]
        }
      ]
    },
    {
      "cell_type": "code",
      "source": [
        "movies_with_ratings"
      ],
      "metadata": {
        "colab": {
          "base_uri": "https://localhost:8080/",
          "height": 423
        },
        "id": "hPjfxSl7AdjZ",
        "outputId": "0923c3f3-e79b-4181-e87b-0e2b984120d7"
      },
      "execution_count": null,
      "outputs": [
        {
          "output_type": "execute_result",
          "data": {
            "text/plain": [
              "        movieId                                      title  \\\n",
              "0             1                           Toy Story (1995)   \n",
              "1             1                           Toy Story (1995)   \n",
              "2             1                           Toy Story (1995)   \n",
              "3             1                           Toy Story (1995)   \n",
              "4             1                           Toy Story (1995)   \n",
              "...         ...                                        ...   \n",
              "100831   193581  Black Butler: Book of the Atlantic (2017)   \n",
              "100832   193583               No Game No Life: Zero (2017)   \n",
              "100833   193585                               Flint (2017)   \n",
              "100834   193587        Bungo Stray Dogs: Dead Apple (2018)   \n",
              "100835   193609        Andrew Dice Clay: Dice Rules (1991)   \n",
              "\n",
              "                                             genres  userId  rating  \\\n",
              "0       Adventure|Animation|Children|Comedy|Fantasy       1     4.0   \n",
              "1       Adventure|Animation|Children|Comedy|Fantasy       5     4.0   \n",
              "2       Adventure|Animation|Children|Comedy|Fantasy       7     4.5   \n",
              "3       Adventure|Animation|Children|Comedy|Fantasy      15     2.5   \n",
              "4       Adventure|Animation|Children|Comedy|Fantasy      17     4.5   \n",
              "...                                             ...     ...     ...   \n",
              "100831              Action|Animation|Comedy|Fantasy     184     4.0   \n",
              "100832                     Animation|Comedy|Fantasy     184     3.5   \n",
              "100833                                        Drama     184     3.5   \n",
              "100834                             Action|Animation     184     3.5   \n",
              "100835                                       Comedy     331     4.0   \n",
              "\n",
              "         timestamp  \n",
              "0        964982703  \n",
              "1        847434962  \n",
              "2       1106635946  \n",
              "3       1510577970  \n",
              "4       1305696483  \n",
              "...            ...  \n",
              "100831  1537109082  \n",
              "100832  1537109545  \n",
              "100833  1537109805  \n",
              "100834  1537110021  \n",
              "100835  1537157606  \n",
              "\n",
              "[100836 rows x 6 columns]"
            ],
            "text/html": [
              "\n",
              "  <div id=\"df-952d7a89-afc7-41a5-bf67-5b7d917d8675\">\n",
              "    <div class=\"colab-df-container\">\n",
              "      <div>\n",
              "<style scoped>\n",
              "    .dataframe tbody tr th:only-of-type {\n",
              "        vertical-align: middle;\n",
              "    }\n",
              "\n",
              "    .dataframe tbody tr th {\n",
              "        vertical-align: top;\n",
              "    }\n",
              "\n",
              "    .dataframe thead th {\n",
              "        text-align: right;\n",
              "    }\n",
              "</style>\n",
              "<table border=\"1\" class=\"dataframe\">\n",
              "  <thead>\n",
              "    <tr style=\"text-align: right;\">\n",
              "      <th></th>\n",
              "      <th>movieId</th>\n",
              "      <th>title</th>\n",
              "      <th>genres</th>\n",
              "      <th>userId</th>\n",
              "      <th>rating</th>\n",
              "      <th>timestamp</th>\n",
              "    </tr>\n",
              "  </thead>\n",
              "  <tbody>\n",
              "    <tr>\n",
              "      <th>0</th>\n",
              "      <td>1</td>\n",
              "      <td>Toy Story (1995)</td>\n",
              "      <td>Adventure|Animation|Children|Comedy|Fantasy</td>\n",
              "      <td>1</td>\n",
              "      <td>4.0</td>\n",
              "      <td>964982703</td>\n",
              "    </tr>\n",
              "    <tr>\n",
              "      <th>1</th>\n",
              "      <td>1</td>\n",
              "      <td>Toy Story (1995)</td>\n",
              "      <td>Adventure|Animation|Children|Comedy|Fantasy</td>\n",
              "      <td>5</td>\n",
              "      <td>4.0</td>\n",
              "      <td>847434962</td>\n",
              "    </tr>\n",
              "    <tr>\n",
              "      <th>2</th>\n",
              "      <td>1</td>\n",
              "      <td>Toy Story (1995)</td>\n",
              "      <td>Adventure|Animation|Children|Comedy|Fantasy</td>\n",
              "      <td>7</td>\n",
              "      <td>4.5</td>\n",
              "      <td>1106635946</td>\n",
              "    </tr>\n",
              "    <tr>\n",
              "      <th>3</th>\n",
              "      <td>1</td>\n",
              "      <td>Toy Story (1995)</td>\n",
              "      <td>Adventure|Animation|Children|Comedy|Fantasy</td>\n",
              "      <td>15</td>\n",
              "      <td>2.5</td>\n",
              "      <td>1510577970</td>\n",
              "    </tr>\n",
              "    <tr>\n",
              "      <th>4</th>\n",
              "      <td>1</td>\n",
              "      <td>Toy Story (1995)</td>\n",
              "      <td>Adventure|Animation|Children|Comedy|Fantasy</td>\n",
              "      <td>17</td>\n",
              "      <td>4.5</td>\n",
              "      <td>1305696483</td>\n",
              "    </tr>\n",
              "    <tr>\n",
              "      <th>...</th>\n",
              "      <td>...</td>\n",
              "      <td>...</td>\n",
              "      <td>...</td>\n",
              "      <td>...</td>\n",
              "      <td>...</td>\n",
              "      <td>...</td>\n",
              "    </tr>\n",
              "    <tr>\n",
              "      <th>100831</th>\n",
              "      <td>193581</td>\n",
              "      <td>Black Butler: Book of the Atlantic (2017)</td>\n",
              "      <td>Action|Animation|Comedy|Fantasy</td>\n",
              "      <td>184</td>\n",
              "      <td>4.0</td>\n",
              "      <td>1537109082</td>\n",
              "    </tr>\n",
              "    <tr>\n",
              "      <th>100832</th>\n",
              "      <td>193583</td>\n",
              "      <td>No Game No Life: Zero (2017)</td>\n",
              "      <td>Animation|Comedy|Fantasy</td>\n",
              "      <td>184</td>\n",
              "      <td>3.5</td>\n",
              "      <td>1537109545</td>\n",
              "    </tr>\n",
              "    <tr>\n",
              "      <th>100833</th>\n",
              "      <td>193585</td>\n",
              "      <td>Flint (2017)</td>\n",
              "      <td>Drama</td>\n",
              "      <td>184</td>\n",
              "      <td>3.5</td>\n",
              "      <td>1537109805</td>\n",
              "    </tr>\n",
              "    <tr>\n",
              "      <th>100834</th>\n",
              "      <td>193587</td>\n",
              "      <td>Bungo Stray Dogs: Dead Apple (2018)</td>\n",
              "      <td>Action|Animation</td>\n",
              "      <td>184</td>\n",
              "      <td>3.5</td>\n",
              "      <td>1537110021</td>\n",
              "    </tr>\n",
              "    <tr>\n",
              "      <th>100835</th>\n",
              "      <td>193609</td>\n",
              "      <td>Andrew Dice Clay: Dice Rules (1991)</td>\n",
              "      <td>Comedy</td>\n",
              "      <td>331</td>\n",
              "      <td>4.0</td>\n",
              "      <td>1537157606</td>\n",
              "    </tr>\n",
              "  </tbody>\n",
              "</table>\n",
              "<p>100836 rows × 6 columns</p>\n",
              "</div>\n",
              "      <button class=\"colab-df-convert\" onclick=\"convertToInteractive('df-952d7a89-afc7-41a5-bf67-5b7d917d8675')\"\n",
              "              title=\"Convert this dataframe to an interactive table.\"\n",
              "              style=\"display:none;\">\n",
              "        \n",
              "  <svg xmlns=\"http://www.w3.org/2000/svg\" height=\"24px\"viewBox=\"0 0 24 24\"\n",
              "       width=\"24px\">\n",
              "    <path d=\"M0 0h24v24H0V0z\" fill=\"none\"/>\n",
              "    <path d=\"M18.56 5.44l.94 2.06.94-2.06 2.06-.94-2.06-.94-.94-2.06-.94 2.06-2.06.94zm-11 1L8.5 8.5l.94-2.06 2.06-.94-2.06-.94L8.5 2.5l-.94 2.06-2.06.94zm10 10l.94 2.06.94-2.06 2.06-.94-2.06-.94-.94-2.06-.94 2.06-2.06.94z\"/><path d=\"M17.41 7.96l-1.37-1.37c-.4-.4-.92-.59-1.43-.59-.52 0-1.04.2-1.43.59L10.3 9.45l-7.72 7.72c-.78.78-.78 2.05 0 2.83L4 21.41c.39.39.9.59 1.41.59.51 0 1.02-.2 1.41-.59l7.78-7.78 2.81-2.81c.8-.78.8-2.07 0-2.86zM5.41 20L4 18.59l7.72-7.72 1.47 1.35L5.41 20z\"/>\n",
              "  </svg>\n",
              "      </button>\n",
              "      \n",
              "  <style>\n",
              "    .colab-df-container {\n",
              "      display:flex;\n",
              "      flex-wrap:wrap;\n",
              "      gap: 12px;\n",
              "    }\n",
              "\n",
              "    .colab-df-convert {\n",
              "      background-color: #E8F0FE;\n",
              "      border: none;\n",
              "      border-radius: 50%;\n",
              "      cursor: pointer;\n",
              "      display: none;\n",
              "      fill: #1967D2;\n",
              "      height: 32px;\n",
              "      padding: 0 0 0 0;\n",
              "      width: 32px;\n",
              "    }\n",
              "\n",
              "    .colab-df-convert:hover {\n",
              "      background-color: #E2EBFA;\n",
              "      box-shadow: 0px 1px 2px rgba(60, 64, 67, 0.3), 0px 1px 3px 1px rgba(60, 64, 67, 0.15);\n",
              "      fill: #174EA6;\n",
              "    }\n",
              "\n",
              "    [theme=dark] .colab-df-convert {\n",
              "      background-color: #3B4455;\n",
              "      fill: #D2E3FC;\n",
              "    }\n",
              "\n",
              "    [theme=dark] .colab-df-convert:hover {\n",
              "      background-color: #434B5C;\n",
              "      box-shadow: 0px 1px 3px 1px rgba(0, 0, 0, 0.15);\n",
              "      filter: drop-shadow(0px 1px 2px rgba(0, 0, 0, 0.3));\n",
              "      fill: #FFFFFF;\n",
              "    }\n",
              "  </style>\n",
              "\n",
              "      <script>\n",
              "        const buttonEl =\n",
              "          document.querySelector('#df-952d7a89-afc7-41a5-bf67-5b7d917d8675 button.colab-df-convert');\n",
              "        buttonEl.style.display =\n",
              "          google.colab.kernel.accessAllowed ? 'block' : 'none';\n",
              "\n",
              "        async function convertToInteractive(key) {\n",
              "          const element = document.querySelector('#df-952d7a89-afc7-41a5-bf67-5b7d917d8675');\n",
              "          const dataTable =\n",
              "            await google.colab.kernel.invokeFunction('convertToInteractive',\n",
              "                                                     [key], {});\n",
              "          if (!dataTable) return;\n",
              "\n",
              "          const docLinkHtml = 'Like what you see? Visit the ' +\n",
              "            '<a target=\"_blank\" href=https://colab.research.google.com/notebooks/data_table.ipynb>data table notebook</a>'\n",
              "            + ' to learn more about interactive tables.';\n",
              "          element.innerHTML = '';\n",
              "          dataTable['output_type'] = 'display_data';\n",
              "          await google.colab.output.renderOutput(dataTable, element);\n",
              "          const docLink = document.createElement('div');\n",
              "          docLink.innerHTML = docLinkHtml;\n",
              "          element.appendChild(docLink);\n",
              "        }\n",
              "      </script>\n",
              "    </div>\n",
              "  </div>\n",
              "  "
            ]
          },
          "metadata": {},
          "execution_count": 7
        }
      ]
    },
    {
      "cell_type": "markdown",
      "source": [
        "### Работа с surprise"
      ],
      "metadata": {
        "id": "sxuc_RBpmebw"
      }
    },
    {
      "cell_type": "code",
      "source": [
        "!pip install surprise"
      ],
      "metadata": {
        "colab": {
          "base_uri": "https://localhost:8080/"
        },
        "id": "Adrw92cmAy7H",
        "outputId": "f74ccdbb-0b71-414a-a018-8ad964918a19"
      },
      "execution_count": null,
      "outputs": [
        {
          "output_type": "stream",
          "name": "stdout",
          "text": [
            "Looking in indexes: https://pypi.org/simple, https://us-python.pkg.dev/colab-wheels/public/simple/\n",
            "Collecting surprise\n",
            "  Downloading surprise-0.1-py2.py3-none-any.whl (1.8 kB)\n",
            "Collecting scikit-surprise\n",
            "  Downloading scikit-surprise-1.1.3.tar.gz (771 kB)\n",
            "\u001b[2K     \u001b[90m━━━━━━━━━━━━━━━━━━━━━━━━━━━━━━━━━━━━━━\u001b[0m \u001b[32m772.0/772.0 KB\u001b[0m \u001b[31m27.9 MB/s\u001b[0m eta \u001b[36m0:00:00\u001b[0m\n",
            "\u001b[?25h  Preparing metadata (setup.py) ... \u001b[?25l\u001b[?25hdone\n",
            "Requirement already satisfied: joblib>=1.0.0 in /usr/local/lib/python3.8/dist-packages (from scikit-surprise->surprise) (1.2.0)\n",
            "Requirement already satisfied: numpy>=1.17.3 in /usr/local/lib/python3.8/dist-packages (from scikit-surprise->surprise) (1.22.4)\n",
            "Requirement already satisfied: scipy>=1.3.2 in /usr/local/lib/python3.8/dist-packages (from scikit-surprise->surprise) (1.10.1)\n",
            "Building wheels for collected packages: scikit-surprise\n",
            "  Building wheel for scikit-surprise (setup.py) ... \u001b[?25l\u001b[?25hdone\n",
            "  Created wheel for scikit-surprise: filename=scikit_surprise-1.1.3-cp38-cp38-linux_x86_64.whl size=3366509 sha256=82b23135f63f6a19b64f73ef24b6479a35314d6cf5aa3ce5b9a461e0a10a7499\n",
            "  Stored in directory: /root/.cache/pip/wheels/af/db/86/2c18183a80ba05da35bf0fb7417aac5cddbd93bcb1b92fd3ea\n",
            "Successfully built scikit-surprise\n",
            "Installing collected packages: scikit-surprise, surprise\n",
            "Successfully installed scikit-surprise-1.1.3 surprise-0.1\n"
          ]
        }
      ]
    },
    {
      "cell_type": "code",
      "source": [
        "from surprise import (\n",
        "    accuracy,\n",
        "    BaselineOnly,\n",
        "    CoClustering,\n",
        "    Dataset,\n",
        "    KNNBaseline,\n",
        "    KNNBasic,\n",
        "    KNNWithMeans,\n",
        "    KNNWithZScore,\n",
        "    NMF,\n",
        "    NormalPredictor,\n",
        "    Reader,\n",
        "    SlopeOne,\n",
        "    SVD,\n",
        "    SVDpp,\n",
        ")\n",
        "\n",
        "\n",
        "from surprise.model_selection import train_test_split\n",
        "from surprise.model_selection import cross_validate"
      ],
      "metadata": {
        "id": "XkHMmpPUA8MX"
      },
      "execution_count": null,
      "outputs": []
    },
    {
      "cell_type": "code",
      "source": [
        "# формирование датасета для обучения\n",
        "dataset = pd.DataFrame({\n",
        "    'uid': movies_with_ratings.userId,\n",
        "    # 'mid': movies_with_ratings.movieId,\n",
        "    'mid': movies_with_ratings.title,\n",
        "    'rating': movies_with_ratings.rating\n",
        "})"
      ],
      "metadata": {
        "id": "VgbnKvj8C38p"
      },
      "execution_count": null,
      "outputs": []
    },
    {
      "cell_type": "code",
      "source": [
        "reader = Reader(rating_scale=(0.5, 5.0))\n",
        "# data = Dataset.load_from_df(dataset, reader)"
      ],
      "metadata": {
        "id": "BKSpSmjLIV1e"
      },
      "execution_count": null,
      "outputs": []
    },
    {
      "cell_type": "code",
      "source": [
        "data = Dataset.load_from_df(dataset, reader)"
      ],
      "metadata": {
        "id": "6f9RlkSSIsmN"
      },
      "execution_count": null,
      "outputs": []
    },
    {
      "cell_type": "code",
      "source": [
        "data"
      ],
      "metadata": {
        "colab": {
          "base_uri": "https://localhost:8080/"
        },
        "id": "lzR1lPerG0SS",
        "outputId": "bc9e57ae-5515-4cb7-f952-d50762742edd"
      },
      "execution_count": null,
      "outputs": [
        {
          "output_type": "execute_result",
          "data": {
            "text/plain": [
              "<surprise.dataset.DatasetAutoFolds at 0x7fdc3000b1c0>"
            ]
          },
          "metadata": {},
          "execution_count": 29
        }
      ]
    },
    {
      "cell_type": "code",
      "source": [
        "trainset, testset = train_test_split(data, test_size=0.2, random_state=1)"
      ],
      "metadata": {
        "id": "Y3k2ozMvHEh3"
      },
      "execution_count": null,
      "outputs": []
    },
    {
      "cell_type": "code",
      "source": [
        "algo = KNNWithMeans(k=50, sim_options={\n",
        "    'name': 'cosine',\n",
        "    'user_based': True  # compute  similarities between users\n",
        "})\n",
        "algo.fit(trainset)"
      ],
      "metadata": {
        "colab": {
          "base_uri": "https://localhost:8080/"
        },
        "id": "ylZcDpbGJFkJ",
        "outputId": "b382ad83-a9d0-4929-83bd-1f1b2732fdad"
      },
      "execution_count": null,
      "outputs": [
        {
          "output_type": "stream",
          "name": "stdout",
          "text": [
            "Computing the cosine similarity matrix...\n",
            "Done computing similarity matrix.\n"
          ]
        },
        {
          "output_type": "execute_result",
          "data": {
            "text/plain": [
              "<surprise.prediction_algorithms.knns.KNNWithMeans at 0x7f20fb9530d0>"
            ]
          },
          "metadata": {},
          "execution_count": 24
        }
      ]
    },
    {
      "cell_type": "code",
      "source": [
        "test_pred = algo.test(testset)\n",
        "accuracy.rmse(test_pred, verbose=True)"
      ],
      "metadata": {
        "colab": {
          "base_uri": "https://localhost:8080/"
        },
        "id": "kz-WQ3FZJned",
        "outputId": "06fcbccd-33bd-44c4-a7bc-1697d5905e38"
      },
      "execution_count": null,
      "outputs": [
        {
          "output_type": "stream",
          "name": "stdout",
          "text": [
            "RMSE: 0.8985\n"
          ]
        },
        {
          "output_type": "execute_result",
          "data": {
            "text/plain": [
              "0.898482528669153"
            ]
          },
          "metadata": {},
          "execution_count": 28
        }
      ]
    },
    {
      "cell_type": "code",
      "source": [
        "# Качество RMSE\n",
        "cross_validate(algo, data, measures=['RMSE'], cv=5, verbose=True)"
      ],
      "metadata": {
        "colab": {
          "base_uri": "https://localhost:8080/"
        },
        "id": "j5H3o6iqJ5RS",
        "outputId": "ec2eee0e-f7ec-4db0-a6c0-7adf41a69192"
      },
      "execution_count": null,
      "outputs": [
        {
          "output_type": "stream",
          "name": "stdout",
          "text": [
            "Computing the cosine similarity matrix...\n",
            "Done computing similarity matrix.\n",
            "Computing the cosine similarity matrix...\n",
            "Done computing similarity matrix.\n",
            "Computing the cosine similarity matrix...\n",
            "Done computing similarity matrix.\n",
            "Computing the cosine similarity matrix...\n",
            "Done computing similarity matrix.\n",
            "Computing the cosine similarity matrix...\n",
            "Done computing similarity matrix.\n",
            "Evaluating RMSE of algorithm KNNWithMeans on 5 split(s).\n",
            "\n",
            "                  Fold 1  Fold 2  Fold 3  Fold 4  Fold 5  Mean    Std     \n",
            "RMSE (testset)    0.8975  0.9041  0.9093  0.8931  0.9023  0.9013  0.0056  \n",
            "Fit time          0.18    0.20    0.21    0.20    0.22    0.20    0.01    \n",
            "Test time         2.03    4.55    2.21    1.96    2.23    2.60    0.98    \n"
          ]
        },
        {
          "output_type": "execute_result",
          "data": {
            "text/plain": [
              "{'test_rmse': array([0.89748716, 0.9041194 , 0.90933676, 0.89307323, 0.90227912]),\n",
              " 'fit_time': (0.18465447425842285,\n",
              "  0.1973409652709961,\n",
              "  0.21069073677062988,\n",
              "  0.1991572380065918,\n",
              "  0.21796560287475586),\n",
              " 'test_time': (2.025451183319092,\n",
              "  4.549335718154907,\n",
              "  2.2139549255371094,\n",
              "  1.9624085426330566,\n",
              "  2.2311954498291016)}"
            ]
          },
          "metadata": {},
          "execution_count": 30
        }
      ]
    },
    {
      "cell_type": "markdown",
      "source": [
        "#### Выбор алгоритма"
      ],
      "metadata": {
        "id": "iZFDcDhnm3iR"
      }
    },
    {
      "cell_type": "code",
      "source": [
        "benchmark = []\n",
        "# перечисление всех алгоритмов\n",
        "for algorithm in [SVD(), SVDpp(), SlopeOne(), NMF(), NormalPredictor(), KNNBaseline(), KNNBasic(), KNNWithMeans(), KNNWithZScore(), BaselineOnly(), CoClustering()]:\n",
        "    # вычисление cross_validate\n",
        "    results = cross_validate(algorithm, data, measures=['RMSE'], cv=5, verbose=False)\n",
        "\n",
        "    # Добавление результатов в датафрейм\n",
        "    tmp = pd.DataFrame.from_dict(results).mean(axis=0)\n",
        "    tmp = tmp.append(pd.Series([str(algorithm).split(' ')[0].split('.')[-1]], index=['Algorithm']))\n",
        "    benchmark.append(tmp)\n",
        "\n",
        "pd.DataFrame(benchmark).set_index('Algorithm').sort_values('test_rmse')"
      ],
      "metadata": {
        "colab": {
          "base_uri": "https://localhost:8080/",
          "height": 971
        },
        "id": "EXim6JxaGxIt",
        "outputId": "6f24fcb3-81ac-4ac0-a531-4a41d6b8f52c"
      },
      "execution_count": null,
      "outputs": [
        {
          "output_type": "stream",
          "name": "stdout",
          "text": [
            "Estimating biases using als...\n",
            "Computing the msd similarity matrix...\n",
            "Done computing similarity matrix.\n",
            "Estimating biases using als...\n",
            "Computing the msd similarity matrix...\n",
            "Done computing similarity matrix.\n",
            "Estimating biases using als...\n",
            "Computing the msd similarity matrix...\n",
            "Done computing similarity matrix.\n",
            "Computing the msd similarity matrix...\n",
            "Done computing similarity matrix.\n",
            "Computing the msd similarity matrix...\n",
            "Done computing similarity matrix.\n",
            "Computing the msd similarity matrix...\n",
            "Done computing similarity matrix.\n",
            "Computing the msd similarity matrix...\n",
            "Done computing similarity matrix.\n",
            "Computing the msd similarity matrix...\n",
            "Done computing similarity matrix.\n",
            "Computing the msd similarity matrix...\n",
            "Done computing similarity matrix.\n",
            "Computing the msd similarity matrix...\n",
            "Done computing similarity matrix.\n",
            "Computing the msd similarity matrix...\n",
            "Done computing similarity matrix.\n",
            "Computing the msd similarity matrix...\n",
            "Done computing similarity matrix.\n",
            "Estimating biases using als...\n",
            "Estimating biases using als...\n",
            "Estimating biases using als...\n"
          ]
        },
        {
          "output_type": "execute_result",
          "data": {
            "text/plain": [
              "                 test_rmse   fit_time  test_time\n",
              "Algorithm                                       \n",
              "SVDpp             0.869410  68.267226  17.218601\n",
              "BaselineOnly      0.877419   0.230585   0.335008\n",
              "SVD               0.880308   1.615539   0.470037\n",
              "KNNBaseline       0.883481   0.246590   3.475629\n",
              "KNNWithZScore     0.904679   0.169569   2.963325\n",
              "KNNWithMeans      0.905327   0.102500   2.845545\n",
              "SlopeOne          0.910792   3.769159  10.051894\n",
              "NMF               0.933676   3.462254   0.384162\n",
              "CoClustering      0.955553   3.490872   0.292466\n",
              "KNNBasic          0.956262   0.059163   2.670198\n",
              "NormalPredictor   1.426378   0.194783   0.352795"
            ],
            "text/html": [
              "\n",
              "  <div id=\"df-8c3c32dc-e7c7-4188-b594-490873fe2603\">\n",
              "    <div class=\"colab-df-container\">\n",
              "      <div>\n",
              "<style scoped>\n",
              "    .dataframe tbody tr th:only-of-type {\n",
              "        vertical-align: middle;\n",
              "    }\n",
              "\n",
              "    .dataframe tbody tr th {\n",
              "        vertical-align: top;\n",
              "    }\n",
              "\n",
              "    .dataframe thead th {\n",
              "        text-align: right;\n",
              "    }\n",
              "</style>\n",
              "<table border=\"1\" class=\"dataframe\">\n",
              "  <thead>\n",
              "    <tr style=\"text-align: right;\">\n",
              "      <th></th>\n",
              "      <th>test_rmse</th>\n",
              "      <th>fit_time</th>\n",
              "      <th>test_time</th>\n",
              "    </tr>\n",
              "    <tr>\n",
              "      <th>Algorithm</th>\n",
              "      <th></th>\n",
              "      <th></th>\n",
              "      <th></th>\n",
              "    </tr>\n",
              "  </thead>\n",
              "  <tbody>\n",
              "    <tr>\n",
              "      <th>SVDpp</th>\n",
              "      <td>0.869410</td>\n",
              "      <td>68.267226</td>\n",
              "      <td>17.218601</td>\n",
              "    </tr>\n",
              "    <tr>\n",
              "      <th>BaselineOnly</th>\n",
              "      <td>0.877419</td>\n",
              "      <td>0.230585</td>\n",
              "      <td>0.335008</td>\n",
              "    </tr>\n",
              "    <tr>\n",
              "      <th>SVD</th>\n",
              "      <td>0.880308</td>\n",
              "      <td>1.615539</td>\n",
              "      <td>0.470037</td>\n",
              "    </tr>\n",
              "    <tr>\n",
              "      <th>KNNBaseline</th>\n",
              "      <td>0.883481</td>\n",
              "      <td>0.246590</td>\n",
              "      <td>3.475629</td>\n",
              "    </tr>\n",
              "    <tr>\n",
              "      <th>KNNWithZScore</th>\n",
              "      <td>0.904679</td>\n",
              "      <td>0.169569</td>\n",
              "      <td>2.963325</td>\n",
              "    </tr>\n",
              "    <tr>\n",
              "      <th>KNNWithMeans</th>\n",
              "      <td>0.905327</td>\n",
              "      <td>0.102500</td>\n",
              "      <td>2.845545</td>\n",
              "    </tr>\n",
              "    <tr>\n",
              "      <th>SlopeOne</th>\n",
              "      <td>0.910792</td>\n",
              "      <td>3.769159</td>\n",
              "      <td>10.051894</td>\n",
              "    </tr>\n",
              "    <tr>\n",
              "      <th>NMF</th>\n",
              "      <td>0.933676</td>\n",
              "      <td>3.462254</td>\n",
              "      <td>0.384162</td>\n",
              "    </tr>\n",
              "    <tr>\n",
              "      <th>CoClustering</th>\n",
              "      <td>0.955553</td>\n",
              "      <td>3.490872</td>\n",
              "      <td>0.292466</td>\n",
              "    </tr>\n",
              "    <tr>\n",
              "      <th>KNNBasic</th>\n",
              "      <td>0.956262</td>\n",
              "      <td>0.059163</td>\n",
              "      <td>2.670198</td>\n",
              "    </tr>\n",
              "    <tr>\n",
              "      <th>NormalPredictor</th>\n",
              "      <td>1.426378</td>\n",
              "      <td>0.194783</td>\n",
              "      <td>0.352795</td>\n",
              "    </tr>\n",
              "  </tbody>\n",
              "</table>\n",
              "</div>\n",
              "      <button class=\"colab-df-convert\" onclick=\"convertToInteractive('df-8c3c32dc-e7c7-4188-b594-490873fe2603')\"\n",
              "              title=\"Convert this dataframe to an interactive table.\"\n",
              "              style=\"display:none;\">\n",
              "        \n",
              "  <svg xmlns=\"http://www.w3.org/2000/svg\" height=\"24px\"viewBox=\"0 0 24 24\"\n",
              "       width=\"24px\">\n",
              "    <path d=\"M0 0h24v24H0V0z\" fill=\"none\"/>\n",
              "    <path d=\"M18.56 5.44l.94 2.06.94-2.06 2.06-.94-2.06-.94-.94-2.06-.94 2.06-2.06.94zm-11 1L8.5 8.5l.94-2.06 2.06-.94-2.06-.94L8.5 2.5l-.94 2.06-2.06.94zm10 10l.94 2.06.94-2.06 2.06-.94-2.06-.94-.94-2.06-.94 2.06-2.06.94z\"/><path d=\"M17.41 7.96l-1.37-1.37c-.4-.4-.92-.59-1.43-.59-.52 0-1.04.2-1.43.59L10.3 9.45l-7.72 7.72c-.78.78-.78 2.05 0 2.83L4 21.41c.39.39.9.59 1.41.59.51 0 1.02-.2 1.41-.59l7.78-7.78 2.81-2.81c.8-.78.8-2.07 0-2.86zM5.41 20L4 18.59l7.72-7.72 1.47 1.35L5.41 20z\"/>\n",
              "  </svg>\n",
              "      </button>\n",
              "      \n",
              "  <style>\n",
              "    .colab-df-container {\n",
              "      display:flex;\n",
              "      flex-wrap:wrap;\n",
              "      gap: 12px;\n",
              "    }\n",
              "\n",
              "    .colab-df-convert {\n",
              "      background-color: #E8F0FE;\n",
              "      border: none;\n",
              "      border-radius: 50%;\n",
              "      cursor: pointer;\n",
              "      display: none;\n",
              "      fill: #1967D2;\n",
              "      height: 32px;\n",
              "      padding: 0 0 0 0;\n",
              "      width: 32px;\n",
              "    }\n",
              "\n",
              "    .colab-df-convert:hover {\n",
              "      background-color: #E2EBFA;\n",
              "      box-shadow: 0px 1px 2px rgba(60, 64, 67, 0.3), 0px 1px 3px 1px rgba(60, 64, 67, 0.15);\n",
              "      fill: #174EA6;\n",
              "    }\n",
              "\n",
              "    [theme=dark] .colab-df-convert {\n",
              "      background-color: #3B4455;\n",
              "      fill: #D2E3FC;\n",
              "    }\n",
              "\n",
              "    [theme=dark] .colab-df-convert:hover {\n",
              "      background-color: #434B5C;\n",
              "      box-shadow: 0px 1px 3px 1px rgba(0, 0, 0, 0.15);\n",
              "      filter: drop-shadow(0px 1px 2px rgba(0, 0, 0, 0.3));\n",
              "      fill: #FFFFFF;\n",
              "    }\n",
              "  </style>\n",
              "\n",
              "      <script>\n",
              "        const buttonEl =\n",
              "          document.querySelector('#df-8c3c32dc-e7c7-4188-b594-490873fe2603 button.colab-df-convert');\n",
              "        buttonEl.style.display =\n",
              "          google.colab.kernel.accessAllowed ? 'block' : 'none';\n",
              "\n",
              "        async function convertToInteractive(key) {\n",
              "          const element = document.querySelector('#df-8c3c32dc-e7c7-4188-b594-490873fe2603');\n",
              "          const dataTable =\n",
              "            await google.colab.kernel.invokeFunction('convertToInteractive',\n",
              "                                                     [key], {});\n",
              "          if (!dataTable) return;\n",
              "\n",
              "          const docLinkHtml = 'Like what you see? Visit the ' +\n",
              "            '<a target=\"_blank\" href=https://colab.research.google.com/notebooks/data_table.ipynb>data table notebook</a>'\n",
              "            + ' to learn more about interactive tables.';\n",
              "          element.innerHTML = '';\n",
              "          dataTable['output_type'] = 'display_data';\n",
              "          await google.colab.output.renderOutput(dataTable, element);\n",
              "          const docLink = document.createElement('div');\n",
              "          docLink.innerHTML = docLinkHtml;\n",
              "          element.appendChild(docLink);\n",
              "        }\n",
              "      </script>\n",
              "    </div>\n",
              "  </div>\n",
              "  "
            ]
          },
          "metadata": {},
          "execution_count": 14
        }
      ]
    },
    {
      "cell_type": "markdown",
      "source": [
        "#### Выбор параметров алгоритма KNNWithMeans"
      ],
      "metadata": {
        "id": "ZWey4yWbmqM2"
      }
    },
    {
      "cell_type": "code",
      "source": [
        "# подбор оптимальных параметров KNNWithMeans\n",
        "benchmark = []\n",
        "\n",
        "models=[\n",
        "    {'name':'KNNWithMeans_cosine_ub_t','model':KNNWithMeans(k=50, sim_options={'name': 'cosine', 'user_based': True})},\n",
        "    {'name':'KNNWithMeans_cosine_ub_f','model':KNNWithMeans(k=50, sim_options={'name': 'cosine', 'user_based': False})},\n",
        "    {'name':'KNNWithMeans_msd_ub_t','model':KNNWithMeans(k=50, sim_options={'name': 'msd', 'user_based': True})},\n",
        "    {'name':'KNNWithMeans_msd_ub_f','model':KNNWithMeans(k=50, sim_options={'name': 'msd', 'user_based': False})},\n",
        "    {'name':'KNNWithMeans_pearson_ub_t','model':KNNWithMeans(k=50, sim_options={'name': 'pearson', 'user_based': True})},\n",
        "    {'name':'KNNWithMeans_pearson_ub_f','model':KNNWithMeans(k=50, sim_options={'name': 'pearson', 'user_based': False})}\n",
        "]\n",
        "\n",
        "for algorithm in models:\n",
        "    # вычисление cross_validate\n",
        "    results = cross_validate(algorithm['model'], data, measures=['RMSE'], cv=5, verbose=False)\n",
        "    # Добавление результатов в датафрейм\n",
        "    tmp = pd.DataFrame.from_dict(results).mean(axis=0)\n",
        "    # tmp = tmp.append(pd.Series([str(algorithm).split(' ')[0].split('.')[-1]], index=['Algorithm']))\n",
        "    tmp = tmp.append(pd.Series(algorithm['name'], index=['Algorithm']))\n",
        "    benchmark.append(tmp)\n",
        "\n",
        "pd.DataFrame(benchmark).set_index('Algorithm').sort_values('test_rmse')"
      ],
      "metadata": {
        "colab": {
          "base_uri": "https://localhost:8080/",
          "height": 1000
        },
        "id": "JNEVp5j-ZDL1",
        "outputId": "ab7c5d4b-3827-4c8b-8d7c-ced0eaf7f488"
      },
      "execution_count": null,
      "outputs": [
        {
          "output_type": "stream",
          "name": "stdout",
          "text": [
            "Computing the cosine similarity matrix...\n",
            "Done computing similarity matrix.\n",
            "Computing the cosine similarity matrix...\n",
            "Done computing similarity matrix.\n",
            "Computing the cosine similarity matrix...\n",
            "Done computing similarity matrix.\n",
            "Computing the cosine similarity matrix...\n",
            "Done computing similarity matrix.\n",
            "Computing the cosine similarity matrix...\n",
            "Done computing similarity matrix.\n",
            "Computing the cosine similarity matrix...\n",
            "Done computing similarity matrix.\n",
            "Computing the cosine similarity matrix...\n",
            "Done computing similarity matrix.\n",
            "Computing the cosine similarity matrix...\n",
            "Done computing similarity matrix.\n",
            "Computing the cosine similarity matrix...\n",
            "Done computing similarity matrix.\n",
            "Computing the cosine similarity matrix...\n",
            "Done computing similarity matrix.\n",
            "Computing the msd similarity matrix...\n",
            "Done computing similarity matrix.\n",
            "Computing the msd similarity matrix...\n",
            "Done computing similarity matrix.\n",
            "Computing the msd similarity matrix...\n",
            "Done computing similarity matrix.\n",
            "Computing the msd similarity matrix...\n",
            "Done computing similarity matrix.\n",
            "Computing the msd similarity matrix...\n",
            "Done computing similarity matrix.\n",
            "Computing the msd similarity matrix...\n",
            "Done computing similarity matrix.\n",
            "Computing the msd similarity matrix...\n",
            "Done computing similarity matrix.\n",
            "Computing the msd similarity matrix...\n",
            "Done computing similarity matrix.\n",
            "Computing the msd similarity matrix...\n",
            "Done computing similarity matrix.\n",
            "Computing the msd similarity matrix...\n",
            "Done computing similarity matrix.\n",
            "Computing the pearson similarity matrix...\n",
            "Done computing similarity matrix.\n",
            "Computing the pearson similarity matrix...\n",
            "Done computing similarity matrix.\n",
            "Computing the pearson similarity matrix...\n",
            "Done computing similarity matrix.\n",
            "Computing the pearson similarity matrix...\n",
            "Done computing similarity matrix.\n",
            "Computing the pearson similarity matrix...\n",
            "Done computing similarity matrix.\n",
            "Computing the pearson similarity matrix...\n",
            "Done computing similarity matrix.\n",
            "Computing the pearson similarity matrix...\n",
            "Done computing similarity matrix.\n",
            "Computing the pearson similarity matrix...\n",
            "Done computing similarity matrix.\n",
            "Computing the pearson similarity matrix...\n",
            "Done computing similarity matrix.\n",
            "Computing the pearson similarity matrix...\n",
            "Done computing similarity matrix.\n"
          ]
        },
        {
          "output_type": "execute_result",
          "data": {
            "text/plain": [
              "                           test_rmse  fit_time  test_time\n",
              "Algorithm                                                \n",
              "KNNWithMeans_msd_ub_f       0.890791  3.593358  12.234503\n",
              "KNNWithMeans_msd_ub_t       0.896049  0.125238   1.925652\n",
              "KNNWithMeans_pearson_ub_t   0.897702  0.212768   1.976670\n",
              "KNNWithMeans_pearson_ub_f   0.901300  6.469630  12.121142\n",
              "KNNWithMeans_cosine_ub_t    0.901627  0.168772   2.058931\n",
              "KNNWithMeans_cosine_ub_f    0.901958  5.763727  12.219026"
            ],
            "text/html": [
              "\n",
              "  <div id=\"df-5eea43c5-609c-4478-8a38-420d540285f6\">\n",
              "    <div class=\"colab-df-container\">\n",
              "      <div>\n",
              "<style scoped>\n",
              "    .dataframe tbody tr th:only-of-type {\n",
              "        vertical-align: middle;\n",
              "    }\n",
              "\n",
              "    .dataframe tbody tr th {\n",
              "        vertical-align: top;\n",
              "    }\n",
              "\n",
              "    .dataframe thead th {\n",
              "        text-align: right;\n",
              "    }\n",
              "</style>\n",
              "<table border=\"1\" class=\"dataframe\">\n",
              "  <thead>\n",
              "    <tr style=\"text-align: right;\">\n",
              "      <th></th>\n",
              "      <th>test_rmse</th>\n",
              "      <th>fit_time</th>\n",
              "      <th>test_time</th>\n",
              "    </tr>\n",
              "    <tr>\n",
              "      <th>Algorithm</th>\n",
              "      <th></th>\n",
              "      <th></th>\n",
              "      <th></th>\n",
              "    </tr>\n",
              "  </thead>\n",
              "  <tbody>\n",
              "    <tr>\n",
              "      <th>KNNWithMeans_msd_ub_f</th>\n",
              "      <td>0.890791</td>\n",
              "      <td>3.593358</td>\n",
              "      <td>12.234503</td>\n",
              "    </tr>\n",
              "    <tr>\n",
              "      <th>KNNWithMeans_msd_ub_t</th>\n",
              "      <td>0.896049</td>\n",
              "      <td>0.125238</td>\n",
              "      <td>1.925652</td>\n",
              "    </tr>\n",
              "    <tr>\n",
              "      <th>KNNWithMeans_pearson_ub_t</th>\n",
              "      <td>0.897702</td>\n",
              "      <td>0.212768</td>\n",
              "      <td>1.976670</td>\n",
              "    </tr>\n",
              "    <tr>\n",
              "      <th>KNNWithMeans_pearson_ub_f</th>\n",
              "      <td>0.901300</td>\n",
              "      <td>6.469630</td>\n",
              "      <td>12.121142</td>\n",
              "    </tr>\n",
              "    <tr>\n",
              "      <th>KNNWithMeans_cosine_ub_t</th>\n",
              "      <td>0.901627</td>\n",
              "      <td>0.168772</td>\n",
              "      <td>2.058931</td>\n",
              "    </tr>\n",
              "    <tr>\n",
              "      <th>KNNWithMeans_cosine_ub_f</th>\n",
              "      <td>0.901958</td>\n",
              "      <td>5.763727</td>\n",
              "      <td>12.219026</td>\n",
              "    </tr>\n",
              "  </tbody>\n",
              "</table>\n",
              "</div>\n",
              "      <button class=\"colab-df-convert\" onclick=\"convertToInteractive('df-5eea43c5-609c-4478-8a38-420d540285f6')\"\n",
              "              title=\"Convert this dataframe to an interactive table.\"\n",
              "              style=\"display:none;\">\n",
              "        \n",
              "  <svg xmlns=\"http://www.w3.org/2000/svg\" height=\"24px\"viewBox=\"0 0 24 24\"\n",
              "       width=\"24px\">\n",
              "    <path d=\"M0 0h24v24H0V0z\" fill=\"none\"/>\n",
              "    <path d=\"M18.56 5.44l.94 2.06.94-2.06 2.06-.94-2.06-.94-.94-2.06-.94 2.06-2.06.94zm-11 1L8.5 8.5l.94-2.06 2.06-.94-2.06-.94L8.5 2.5l-.94 2.06-2.06.94zm10 10l.94 2.06.94-2.06 2.06-.94-2.06-.94-.94-2.06-.94 2.06-2.06.94z\"/><path d=\"M17.41 7.96l-1.37-1.37c-.4-.4-.92-.59-1.43-.59-.52 0-1.04.2-1.43.59L10.3 9.45l-7.72 7.72c-.78.78-.78 2.05 0 2.83L4 21.41c.39.39.9.59 1.41.59.51 0 1.02-.2 1.41-.59l7.78-7.78 2.81-2.81c.8-.78.8-2.07 0-2.86zM5.41 20L4 18.59l7.72-7.72 1.47 1.35L5.41 20z\"/>\n",
              "  </svg>\n",
              "      </button>\n",
              "      \n",
              "  <style>\n",
              "    .colab-df-container {\n",
              "      display:flex;\n",
              "      flex-wrap:wrap;\n",
              "      gap: 12px;\n",
              "    }\n",
              "\n",
              "    .colab-df-convert {\n",
              "      background-color: #E8F0FE;\n",
              "      border: none;\n",
              "      border-radius: 50%;\n",
              "      cursor: pointer;\n",
              "      display: none;\n",
              "      fill: #1967D2;\n",
              "      height: 32px;\n",
              "      padding: 0 0 0 0;\n",
              "      width: 32px;\n",
              "    }\n",
              "\n",
              "    .colab-df-convert:hover {\n",
              "      background-color: #E2EBFA;\n",
              "      box-shadow: 0px 1px 2px rgba(60, 64, 67, 0.3), 0px 1px 3px 1px rgba(60, 64, 67, 0.15);\n",
              "      fill: #174EA6;\n",
              "    }\n",
              "\n",
              "    [theme=dark] .colab-df-convert {\n",
              "      background-color: #3B4455;\n",
              "      fill: #D2E3FC;\n",
              "    }\n",
              "\n",
              "    [theme=dark] .colab-df-convert:hover {\n",
              "      background-color: #434B5C;\n",
              "      box-shadow: 0px 1px 3px 1px rgba(0, 0, 0, 0.15);\n",
              "      filter: drop-shadow(0px 1px 2px rgba(0, 0, 0, 0.3));\n",
              "      fill: #FFFFFF;\n",
              "    }\n",
              "  </style>\n",
              "\n",
              "      <script>\n",
              "        const buttonEl =\n",
              "          document.querySelector('#df-5eea43c5-609c-4478-8a38-420d540285f6 button.colab-df-convert');\n",
              "        buttonEl.style.display =\n",
              "          google.colab.kernel.accessAllowed ? 'block' : 'none';\n",
              "\n",
              "        async function convertToInteractive(key) {\n",
              "          const element = document.querySelector('#df-5eea43c5-609c-4478-8a38-420d540285f6');\n",
              "          const dataTable =\n",
              "            await google.colab.kernel.invokeFunction('convertToInteractive',\n",
              "                                                     [key], {});\n",
              "          if (!dataTable) return;\n",
              "\n",
              "          const docLinkHtml = 'Like what you see? Visit the ' +\n",
              "            '<a target=\"_blank\" href=https://colab.research.google.com/notebooks/data_table.ipynb>data table notebook</a>'\n",
              "            + ' to learn more about interactive tables.';\n",
              "          element.innerHTML = '';\n",
              "          dataTable['output_type'] = 'display_data';\n",
              "          await google.colab.output.renderOutput(dataTable, element);\n",
              "          const docLink = document.createElement('div');\n",
              "          docLink.innerHTML = docLinkHtml;\n",
              "          element.appendChild(docLink);\n",
              "        }\n",
              "      </script>\n",
              "    </div>\n",
              "  </div>\n",
              "  "
            ]
          },
          "metadata": {},
          "execution_count": 73
        }
      ]
    },
    {
      "cell_type": "markdown",
      "source": [
        "## **Вывод** - SVDpp  показывает лучший результат (0.869410)"
      ],
      "metadata": {
        "id": "BHKfLn0SEsX0"
      }
    }
  ]
}