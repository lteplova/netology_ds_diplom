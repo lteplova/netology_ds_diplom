{
  "nbformat": 4,
  "nbformat_minor": 0,
  "metadata": {
    "colab": {
      "provenance": [],
      "toc_visible": true
    },
    "kernelspec": {
      "name": "python3",
      "display_name": "Python 3"
    },
    "language_info": {
      "name": "python"
    }
  },
  "cells": [
    {
      "cell_type": "markdown",
      "source": [
        "#Задание\n",
        "\n",
        "**Цель:**.\n",
        "Изучить методы отбора признаков для эффективного обучения моделей машинного обучения.  \n",
        "**Описание задания:**  \n",
        "В домашнем задании нужно решить задачу классификации точек наиболее эффективно. Для этого в работе необходимо применить различные методы по отбору признаков. Отбор признаков предпочтительнее осуществлять основываясь на математическом аппарате, поэтому данные для этого задания будут сгенерированы, чтобы избежать признаков с физическим смыслом."
      ],
      "metadata": {
        "id": "uku3MY2K9iCS"
      }
    },
    {
      "cell_type": "markdown",
      "source": [
        "#### 1.Сгенерируйте данные с помощью кода:\n",
        "from sklearn.datasets import make_classification\n",
        "x_data_generated, y_data_generated = make_classification(scale=1)"
      ],
      "metadata": {
        "id": "36XzUYztlFyi"
      }
    },
    {
      "cell_type": "code",
      "execution_count": null,
      "metadata": {
        "id": "c5f-XivAGfA1"
      },
      "outputs": [],
      "source": [
        "from sklearn.datasets import make_classification"
      ]
    },
    {
      "cell_type": "code",
      "source": [
        "x_data_generated, y_data_generated = make_classification(scale=1, random_state=0)"
      ],
      "metadata": {
        "id": "Rmpy6ag4CBL-"
      },
      "execution_count": null,
      "outputs": []
    },
    {
      "cell_type": "code",
      "source": [
        "x_data_generated.shape"
      ],
      "metadata": {
        "colab": {
          "base_uri": "https://localhost:8080/"
        },
        "id": "ProDEX3ncybg",
        "outputId": "0991dc3e-47da-4bc1-b60a-15d45876decf"
      },
      "execution_count": null,
      "outputs": [
        {
          "output_type": "execute_result",
          "data": {
            "text/plain": [
              "(100, 20)"
            ]
          },
          "metadata": {},
          "execution_count": 675
        }
      ]
    },
    {
      "cell_type": "code",
      "source": [
        "y_data_generated"
      ],
      "metadata": {
        "colab": {
          "base_uri": "https://localhost:8080/"
        },
        "id": "tmZTC3FSc3Ss",
        "outputId": "9ffba1a6-4c10-454c-ebc1-906d3e5216c0"
      },
      "execution_count": null,
      "outputs": [
        {
          "output_type": "execute_result",
          "data": {
            "text/plain": [
              "array([0, 0, 1, 1, 1, 0, 0, 0, 1, 1, 0, 0, 1, 0, 1, 1, 1, 1, 0, 1, 1, 1,\n",
              "       0, 0, 0, 1, 1, 1, 0, 1, 1, 0, 0, 1, 1, 1, 0, 1, 1, 0, 1, 0, 1, 0,\n",
              "       0, 0, 1, 0, 0, 1, 1, 1, 0, 1, 1, 0, 0, 0, 1, 0, 0, 1, 0, 0, 0, 1,\n",
              "       1, 1, 0, 0, 1, 0, 1, 0, 1, 0, 0, 1, 0, 0, 0, 0, 0, 1, 0, 0, 1, 1,\n",
              "       0, 1, 1, 0, 0, 1, 0, 1, 1, 1, 1, 0])"
            ]
          },
          "metadata": {},
          "execution_count": 676
        }
      ]
    },
    {
      "cell_type": "markdown",
      "source": [
        "### 2.Постройте модель логистической регрессии и оцените среднюю точность. Для этого используйте следующий код:\n",
        "cross_val_score(LogisticRegression(), x, y, scoring=‘accuracy’).mean()"
      ],
      "metadata": {
        "id": "sWuVW7cTlRL5"
      }
    },
    {
      "cell_type": "code",
      "source": [
        "from sklearn.linear_model import LogisticRegression\n",
        "from sklearn.model_selection import train_test_split\n",
        "from sklearn.metrics import accuracy_score\n",
        "from sklearn.model_selection import cross_val_score"
      ],
      "metadata": {
        "id": "nt4zVWVekR1z"
      },
      "execution_count": null,
      "outputs": []
    },
    {
      "cell_type": "code",
      "source": [
        "model = LogisticRegression()"
      ],
      "metadata": {
        "id": "3PW_cAFFlssE"
      },
      "execution_count": null,
      "outputs": []
    },
    {
      "cell_type": "code",
      "source": [
        "X_train, X_test, y_train, y_test = train_test_split(x_data_generated, y_data_generated, test_size=0.3, random_state=42)"
      ],
      "metadata": {
        "id": "4-coUMc1l4c7"
      },
      "execution_count": null,
      "outputs": []
    },
    {
      "cell_type": "code",
      "source": [
        "model.fit(X_train, y_train)"
      ],
      "metadata": {
        "colab": {
          "base_uri": "https://localhost:8080/"
        },
        "id": "efEveHNamM2p",
        "outputId": "88b7f8ca-b705-455e-dde4-6e10ffd5549f"
      },
      "execution_count": null,
      "outputs": [
        {
          "output_type": "execute_result",
          "data": {
            "text/plain": [
              "LogisticRegression()"
            ]
          },
          "metadata": {},
          "execution_count": 680
        }
      ]
    },
    {
      "cell_type": "code",
      "source": [
        "cross_val_score(LogisticRegression(), X_train, y_train, scoring='accuracy').mean()"
      ],
      "metadata": {
        "colab": {
          "base_uri": "https://localhost:8080/"
        },
        "id": "fIWOB2oamcQ1",
        "outputId": "d5cd7bd2-9b12-41a5-b5e4-f6fbe7b75b33"
      },
      "execution_count": null,
      "outputs": [
        {
          "output_type": "execute_result",
          "data": {
            "text/plain": [
              "0.8857142857142856"
            ]
          },
          "metadata": {},
          "execution_count": 681
        }
      ]
    },
    {
      "cell_type": "code",
      "source": [
        "score_mean = cross_val_score(LogisticRegression(), X_test, y_test, scoring='accuracy').mean()\n",
        "score_mean"
      ],
      "metadata": {
        "colab": {
          "base_uri": "https://localhost:8080/"
        },
        "id": "UOwYSVhdpNGM",
        "outputId": "34ab4357-c435-46c0-b228-6f1527afd15a"
      },
      "execution_count": null,
      "outputs": [
        {
          "output_type": "execute_result",
          "data": {
            "text/plain": [
              "0.9333333333333333"
            ]
          },
          "metadata": {},
          "execution_count": 682
        }
      ]
    },
    {
      "cell_type": "markdown",
      "source": [],
      "metadata": {
        "id": "EHJeNVqAvDxl"
      }
    },
    {
      "cell_type": "code",
      "source": [
        "# создание таблицы с результатами\n",
        "df_conclusion = pd.DataFrame(columns = ['way_fs', 'amount_features', 'score_mean'])\n",
        "df_conclusion"
      ],
      "metadata": {
        "colab": {
          "base_uri": "https://localhost:8080/",
          "height": 113
        },
        "id": "zDbh95jN7H7O",
        "outputId": "e089313e-b281-49c5-e4eb-c8b72699fa41"
      },
      "execution_count": null,
      "outputs": [
        {
          "output_type": "execute_result",
          "data": {
            "text/plain": [
              "Empty DataFrame\n",
              "Columns: [way_fs, amount_features, score_mean]\n",
              "Index: []"
            ],
            "text/html": [
              "\n",
              "  <div id=\"df-f399b2a5-cb96-4107-9f46-197e673154e2\">\n",
              "    <div class=\"colab-df-container\">\n",
              "      <div>\n",
              "<style scoped>\n",
              "    .dataframe tbody tr th:only-of-type {\n",
              "        vertical-align: middle;\n",
              "    }\n",
              "\n",
              "    .dataframe tbody tr th {\n",
              "        vertical-align: top;\n",
              "    }\n",
              "\n",
              "    .dataframe thead th {\n",
              "        text-align: right;\n",
              "    }\n",
              "</style>\n",
              "<table border=\"1\" class=\"dataframe\">\n",
              "  <thead>\n",
              "    <tr style=\"text-align: right;\">\n",
              "      <th></th>\n",
              "      <th>way_fs</th>\n",
              "      <th>amount_features</th>\n",
              "      <th>score_mean</th>\n",
              "    </tr>\n",
              "  </thead>\n",
              "  <tbody>\n",
              "  </tbody>\n",
              "</table>\n",
              "</div>\n",
              "      <button class=\"colab-df-convert\" onclick=\"convertToInteractive('df-f399b2a5-cb96-4107-9f46-197e673154e2')\"\n",
              "              title=\"Convert this dataframe to an interactive table.\"\n",
              "              style=\"display:none;\">\n",
              "        \n",
              "  <svg xmlns=\"http://www.w3.org/2000/svg\" height=\"24px\"viewBox=\"0 0 24 24\"\n",
              "       width=\"24px\">\n",
              "    <path d=\"M0 0h24v24H0V0z\" fill=\"none\"/>\n",
              "    <path d=\"M18.56 5.44l.94 2.06.94-2.06 2.06-.94-2.06-.94-.94-2.06-.94 2.06-2.06.94zm-11 1L8.5 8.5l.94-2.06 2.06-.94-2.06-.94L8.5 2.5l-.94 2.06-2.06.94zm10 10l.94 2.06.94-2.06 2.06-.94-2.06-.94-.94-2.06-.94 2.06-2.06.94z\"/><path d=\"M17.41 7.96l-1.37-1.37c-.4-.4-.92-.59-1.43-.59-.52 0-1.04.2-1.43.59L10.3 9.45l-7.72 7.72c-.78.78-.78 2.05 0 2.83L4 21.41c.39.39.9.59 1.41.59.51 0 1.02-.2 1.41-.59l7.78-7.78 2.81-2.81c.8-.78.8-2.07 0-2.86zM5.41 20L4 18.59l7.72-7.72 1.47 1.35L5.41 20z\"/>\n",
              "  </svg>\n",
              "      </button>\n",
              "      \n",
              "  <style>\n",
              "    .colab-df-container {\n",
              "      display:flex;\n",
              "      flex-wrap:wrap;\n",
              "      gap: 12px;\n",
              "    }\n",
              "\n",
              "    .colab-df-convert {\n",
              "      background-color: #E8F0FE;\n",
              "      border: none;\n",
              "      border-radius: 50%;\n",
              "      cursor: pointer;\n",
              "      display: none;\n",
              "      fill: #1967D2;\n",
              "      height: 32px;\n",
              "      padding: 0 0 0 0;\n",
              "      width: 32px;\n",
              "    }\n",
              "\n",
              "    .colab-df-convert:hover {\n",
              "      background-color: #E2EBFA;\n",
              "      box-shadow: 0px 1px 2px rgba(60, 64, 67, 0.3), 0px 1px 3px 1px rgba(60, 64, 67, 0.15);\n",
              "      fill: #174EA6;\n",
              "    }\n",
              "\n",
              "    [theme=dark] .colab-df-convert {\n",
              "      background-color: #3B4455;\n",
              "      fill: #D2E3FC;\n",
              "    }\n",
              "\n",
              "    [theme=dark] .colab-df-convert:hover {\n",
              "      background-color: #434B5C;\n",
              "      box-shadow: 0px 1px 3px 1px rgba(0, 0, 0, 0.15);\n",
              "      filter: drop-shadow(0px 1px 2px rgba(0, 0, 0, 0.3));\n",
              "      fill: #FFFFFF;\n",
              "    }\n",
              "  </style>\n",
              "\n",
              "      <script>\n",
              "        const buttonEl =\n",
              "          document.querySelector('#df-f399b2a5-cb96-4107-9f46-197e673154e2 button.colab-df-convert');\n",
              "        buttonEl.style.display =\n",
              "          google.colab.kernel.accessAllowed ? 'block' : 'none';\n",
              "\n",
              "        async function convertToInteractive(key) {\n",
              "          const element = document.querySelector('#df-f399b2a5-cb96-4107-9f46-197e673154e2');\n",
              "          const dataTable =\n",
              "            await google.colab.kernel.invokeFunction('convertToInteractive',\n",
              "                                                     [key], {});\n",
              "          if (!dataTable) return;\n",
              "\n",
              "          const docLinkHtml = 'Like what you see? Visit the ' +\n",
              "            '<a target=\"_blank\" href=https://colab.research.google.com/notebooks/data_table.ipynb>data table notebook</a>'\n",
              "            + ' to learn more about interactive tables.';\n",
              "          element.innerHTML = '';\n",
              "          dataTable['output_type'] = 'display_data';\n",
              "          await google.colab.output.renderOutput(dataTable, element);\n",
              "          const docLink = document.createElement('div');\n",
              "          docLink.innerHTML = docLinkHtml;\n",
              "          element.appendChild(docLink);\n",
              "        }\n",
              "      </script>\n",
              "    </div>\n",
              "  </div>\n",
              "  "
            ]
          },
          "metadata": {},
          "execution_count": 683
        }
      ]
    },
    {
      "cell_type": "code",
      "source": [
        "# добавление результатов в таблицу сравнений\n",
        "df_conclusion = df_conclusion.append({\n",
        "'way_fs' : 'none',\n",
        "'amount_features' : X_train.shape[1],\n",
        "'score_mean' : score_mean\n",
        "}, ignore_index=True)"
      ],
      "metadata": {
        "id": "-cTECJip8eGC"
      },
      "execution_count": null,
      "outputs": []
    },
    {
      "cell_type": "markdown",
      "source": [
        "### 3.Используйте статистические методы для отбора признаков:\n"
      ],
      "metadata": {
        "id": "IvLhZ8QppWum"
      }
    },
    {
      "cell_type": "markdown",
      "source": [
        "#### a) Выберите признаки на основе матрицы корреляции."
      ],
      "metadata": {
        "id": "lrJAmFFEpZvz"
      }
    },
    {
      "cell_type": "code",
      "source": [
        "import pandas as pd"
      ],
      "metadata": {
        "id": "NJzuQUNdqViF"
      },
      "execution_count": null,
      "outputs": []
    },
    {
      "cell_type": "code",
      "source": [
        "data = pd.DataFrame(data = x_data_generated)"
      ],
      "metadata": {
        "id": "7Lr_LNzjpfgS"
      },
      "execution_count": null,
      "outputs": []
    },
    {
      "cell_type": "code",
      "source": [
        "data['20'] = y_data_generated"
      ],
      "metadata": {
        "id": "XQG3I0dorAQb"
      },
      "execution_count": null,
      "outputs": []
    },
    {
      "cell_type": "code",
      "source": [
        "data"
      ],
      "metadata": {
        "colab": {
          "base_uri": "https://localhost:8080/",
          "height": 487
        },
        "id": "XIAKuLQrq6Xn",
        "outputId": "74099de2-3ee1-4331-aa68-b18cbc62fdfa"
      },
      "execution_count": null,
      "outputs": [
        {
          "output_type": "execute_result",
          "data": {
            "text/plain": [
              "           0         1         2         3         4         5         6  \\\n",
              "0  -0.039268  0.131912 -0.211206 -1.214147  1.050045 -0.421328  0.768771   \n",
              "1   0.774161  0.104907 -0.332812 -1.270350  0.379113 -0.822828 -0.612626   \n",
              "2  -0.014858  0.670570 -0.214167  0.250202  0.055489 -1.566995  0.039767   \n",
              "3   0.038909 -1.557999 -0.024549  0.216543  0.065274 -0.675594  0.844996   \n",
              "4   0.936446  1.265078 -0.510293 -0.683049 -1.127849  0.679975 -0.704921   \n",
              "..       ...       ...       ...       ...       ...       ...       ...   \n",
              "95 -0.104343 -1.177629  1.696182 -0.136509  0.577823 -0.132988  1.754986   \n",
              "96  0.183925 -1.601836 -1.284552  0.923281 -0.623043  1.243319 -0.932789   \n",
              "97  0.296733 -0.496102 -0.864045  1.709102  0.030155  1.569260  0.012232   \n",
              "98  0.086177  0.983636  0.171244 -0.008118  1.896342 -0.390798  0.252331   \n",
              "99 -1.582494 -1.422795 -0.564301 -1.117453  0.469537  1.405365 -2.115056   \n",
              "\n",
              "           7         8         9  ...        11        12        13        14  \\\n",
              "0   0.875696  2.451230 -0.480242  ... -0.523251  0.708695 -1.980566 -1.365163   \n",
              "1   1.496140  0.568459 -0.467493  ... -0.862493 -0.631192  0.133913 -0.972403   \n",
              "2   0.265688  1.849591  0.719984  ... -1.102906  0.019279 -0.707506  0.723100   \n",
              "3   2.042072 -1.102230 -1.692370  ...  0.729346 -0.298760 -0.507035  0.038118   \n",
              "4  -0.290397 -0.386871 -0.803141  ... -0.464338 -0.552541  0.211497  1.327783   \n",
              "..       ...       ...       ...  ...       ...       ...       ...       ...   \n",
              "95  0.555787  0.448195 -1.824257  ...  0.303604 -1.661598 -1.140196  0.010349   \n",
              "96  0.587259  0.564009 -0.507518  ... -1.051880 -2.245322 -0.887181 -0.505358   \n",
              "97  0.796672 -0.406303  0.225582  ...  1.389145 -0.306766 -0.074805 -0.657926   \n",
              "98 -1.406105 -0.647054  2.153120  ...  0.468305  0.657268 -0.085615 -1.604739   \n",
              "99 -0.824409 -0.085116 -0.813794  ... -1.449118  0.541008  1.922325  0.422580   \n",
              "\n",
              "          15        16        17        18        19  20  \n",
              "0  -0.948933  1.947099  1.976989  1.021225 -0.469311   0  \n",
              "1  -0.774459  1.346221  1.267804  0.622519 -1.490265   0  \n",
              "2   0.821406  0.024612 -0.104862 -0.101697 -0.451303   1  \n",
              "3   0.626564 -0.578918 -0.071560  0.699136 -0.993361   1  \n",
              "4  -0.035095 -0.101281 -0.800221  1.021791 -0.696327   1  \n",
              "..       ...       ...       ...       ...       ...  ..  \n",
              "95 -0.988002  0.720034  0.733900  0.772695 -0.765702   1  \n",
              "96 -0.385490 -0.815792 -1.308135  2.497200  0.812674   1  \n",
              "97  0.829986  0.968883 -1.104540  2.014060  0.690429   1  \n",
              "98  2.190898  1.458715  2.115647  0.112738  1.209850   1  \n",
              "99  2.243602  0.547481  1.266614 -1.317717  1.618054   0  \n",
              "\n",
              "[100 rows x 21 columns]"
            ],
            "text/html": [
              "\n",
              "  <div id=\"df-47df1ec6-ede1-415b-8faa-3e34c00b5f14\">\n",
              "    <div class=\"colab-df-container\">\n",
              "      <div>\n",
              "<style scoped>\n",
              "    .dataframe tbody tr th:only-of-type {\n",
              "        vertical-align: middle;\n",
              "    }\n",
              "\n",
              "    .dataframe tbody tr th {\n",
              "        vertical-align: top;\n",
              "    }\n",
              "\n",
              "    .dataframe thead th {\n",
              "        text-align: right;\n",
              "    }\n",
              "</style>\n",
              "<table border=\"1\" class=\"dataframe\">\n",
              "  <thead>\n",
              "    <tr style=\"text-align: right;\">\n",
              "      <th></th>\n",
              "      <th>0</th>\n",
              "      <th>1</th>\n",
              "      <th>2</th>\n",
              "      <th>3</th>\n",
              "      <th>4</th>\n",
              "      <th>5</th>\n",
              "      <th>6</th>\n",
              "      <th>7</th>\n",
              "      <th>8</th>\n",
              "      <th>9</th>\n",
              "      <th>...</th>\n",
              "      <th>11</th>\n",
              "      <th>12</th>\n",
              "      <th>13</th>\n",
              "      <th>14</th>\n",
              "      <th>15</th>\n",
              "      <th>16</th>\n",
              "      <th>17</th>\n",
              "      <th>18</th>\n",
              "      <th>19</th>\n",
              "      <th>20</th>\n",
              "    </tr>\n",
              "  </thead>\n",
              "  <tbody>\n",
              "    <tr>\n",
              "      <th>0</th>\n",
              "      <td>-0.039268</td>\n",
              "      <td>0.131912</td>\n",
              "      <td>-0.211206</td>\n",
              "      <td>-1.214147</td>\n",
              "      <td>1.050045</td>\n",
              "      <td>-0.421328</td>\n",
              "      <td>0.768771</td>\n",
              "      <td>0.875696</td>\n",
              "      <td>2.451230</td>\n",
              "      <td>-0.480242</td>\n",
              "      <td>...</td>\n",
              "      <td>-0.523251</td>\n",
              "      <td>0.708695</td>\n",
              "      <td>-1.980566</td>\n",
              "      <td>-1.365163</td>\n",
              "      <td>-0.948933</td>\n",
              "      <td>1.947099</td>\n",
              "      <td>1.976989</td>\n",
              "      <td>1.021225</td>\n",
              "      <td>-0.469311</td>\n",
              "      <td>0</td>\n",
              "    </tr>\n",
              "    <tr>\n",
              "      <th>1</th>\n",
              "      <td>0.774161</td>\n",
              "      <td>0.104907</td>\n",
              "      <td>-0.332812</td>\n",
              "      <td>-1.270350</td>\n",
              "      <td>0.379113</td>\n",
              "      <td>-0.822828</td>\n",
              "      <td>-0.612626</td>\n",
              "      <td>1.496140</td>\n",
              "      <td>0.568459</td>\n",
              "      <td>-0.467493</td>\n",
              "      <td>...</td>\n",
              "      <td>-0.862493</td>\n",
              "      <td>-0.631192</td>\n",
              "      <td>0.133913</td>\n",
              "      <td>-0.972403</td>\n",
              "      <td>-0.774459</td>\n",
              "      <td>1.346221</td>\n",
              "      <td>1.267804</td>\n",
              "      <td>0.622519</td>\n",
              "      <td>-1.490265</td>\n",
              "      <td>0</td>\n",
              "    </tr>\n",
              "    <tr>\n",
              "      <th>2</th>\n",
              "      <td>-0.014858</td>\n",
              "      <td>0.670570</td>\n",
              "      <td>-0.214167</td>\n",
              "      <td>0.250202</td>\n",
              "      <td>0.055489</td>\n",
              "      <td>-1.566995</td>\n",
              "      <td>0.039767</td>\n",
              "      <td>0.265688</td>\n",
              "      <td>1.849591</td>\n",
              "      <td>0.719984</td>\n",
              "      <td>...</td>\n",
              "      <td>-1.102906</td>\n",
              "      <td>0.019279</td>\n",
              "      <td>-0.707506</td>\n",
              "      <td>0.723100</td>\n",
              "      <td>0.821406</td>\n",
              "      <td>0.024612</td>\n",
              "      <td>-0.104862</td>\n",
              "      <td>-0.101697</td>\n",
              "      <td>-0.451303</td>\n",
              "      <td>1</td>\n",
              "    </tr>\n",
              "    <tr>\n",
              "      <th>3</th>\n",
              "      <td>0.038909</td>\n",
              "      <td>-1.557999</td>\n",
              "      <td>-0.024549</td>\n",
              "      <td>0.216543</td>\n",
              "      <td>0.065274</td>\n",
              "      <td>-0.675594</td>\n",
              "      <td>0.844996</td>\n",
              "      <td>2.042072</td>\n",
              "      <td>-1.102230</td>\n",
              "      <td>-1.692370</td>\n",
              "      <td>...</td>\n",
              "      <td>0.729346</td>\n",
              "      <td>-0.298760</td>\n",
              "      <td>-0.507035</td>\n",
              "      <td>0.038118</td>\n",
              "      <td>0.626564</td>\n",
              "      <td>-0.578918</td>\n",
              "      <td>-0.071560</td>\n",
              "      <td>0.699136</td>\n",
              "      <td>-0.993361</td>\n",
              "      <td>1</td>\n",
              "    </tr>\n",
              "    <tr>\n",
              "      <th>4</th>\n",
              "      <td>0.936446</td>\n",
              "      <td>1.265078</td>\n",
              "      <td>-0.510293</td>\n",
              "      <td>-0.683049</td>\n",
              "      <td>-1.127849</td>\n",
              "      <td>0.679975</td>\n",
              "      <td>-0.704921</td>\n",
              "      <td>-0.290397</td>\n",
              "      <td>-0.386871</td>\n",
              "      <td>-0.803141</td>\n",
              "      <td>...</td>\n",
              "      <td>-0.464338</td>\n",
              "      <td>-0.552541</td>\n",
              "      <td>0.211497</td>\n",
              "      <td>1.327783</td>\n",
              "      <td>-0.035095</td>\n",
              "      <td>-0.101281</td>\n",
              "      <td>-0.800221</td>\n",
              "      <td>1.021791</td>\n",
              "      <td>-0.696327</td>\n",
              "      <td>1</td>\n",
              "    </tr>\n",
              "    <tr>\n",
              "      <th>...</th>\n",
              "      <td>...</td>\n",
              "      <td>...</td>\n",
              "      <td>...</td>\n",
              "      <td>...</td>\n",
              "      <td>...</td>\n",
              "      <td>...</td>\n",
              "      <td>...</td>\n",
              "      <td>...</td>\n",
              "      <td>...</td>\n",
              "      <td>...</td>\n",
              "      <td>...</td>\n",
              "      <td>...</td>\n",
              "      <td>...</td>\n",
              "      <td>...</td>\n",
              "      <td>...</td>\n",
              "      <td>...</td>\n",
              "      <td>...</td>\n",
              "      <td>...</td>\n",
              "      <td>...</td>\n",
              "      <td>...</td>\n",
              "      <td>...</td>\n",
              "    </tr>\n",
              "    <tr>\n",
              "      <th>95</th>\n",
              "      <td>-0.104343</td>\n",
              "      <td>-1.177629</td>\n",
              "      <td>1.696182</td>\n",
              "      <td>-0.136509</td>\n",
              "      <td>0.577823</td>\n",
              "      <td>-0.132988</td>\n",
              "      <td>1.754986</td>\n",
              "      <td>0.555787</td>\n",
              "      <td>0.448195</td>\n",
              "      <td>-1.824257</td>\n",
              "      <td>...</td>\n",
              "      <td>0.303604</td>\n",
              "      <td>-1.661598</td>\n",
              "      <td>-1.140196</td>\n",
              "      <td>0.010349</td>\n",
              "      <td>-0.988002</td>\n",
              "      <td>0.720034</td>\n",
              "      <td>0.733900</td>\n",
              "      <td>0.772695</td>\n",
              "      <td>-0.765702</td>\n",
              "      <td>1</td>\n",
              "    </tr>\n",
              "    <tr>\n",
              "      <th>96</th>\n",
              "      <td>0.183925</td>\n",
              "      <td>-1.601836</td>\n",
              "      <td>-1.284552</td>\n",
              "      <td>0.923281</td>\n",
              "      <td>-0.623043</td>\n",
              "      <td>1.243319</td>\n",
              "      <td>-0.932789</td>\n",
              "      <td>0.587259</td>\n",
              "      <td>0.564009</td>\n",
              "      <td>-0.507518</td>\n",
              "      <td>...</td>\n",
              "      <td>-1.051880</td>\n",
              "      <td>-2.245322</td>\n",
              "      <td>-0.887181</td>\n",
              "      <td>-0.505358</td>\n",
              "      <td>-0.385490</td>\n",
              "      <td>-0.815792</td>\n",
              "      <td>-1.308135</td>\n",
              "      <td>2.497200</td>\n",
              "      <td>0.812674</td>\n",
              "      <td>1</td>\n",
              "    </tr>\n",
              "    <tr>\n",
              "      <th>97</th>\n",
              "      <td>0.296733</td>\n",
              "      <td>-0.496102</td>\n",
              "      <td>-0.864045</td>\n",
              "      <td>1.709102</td>\n",
              "      <td>0.030155</td>\n",
              "      <td>1.569260</td>\n",
              "      <td>0.012232</td>\n",
              "      <td>0.796672</td>\n",
              "      <td>-0.406303</td>\n",
              "      <td>0.225582</td>\n",
              "      <td>...</td>\n",
              "      <td>1.389145</td>\n",
              "      <td>-0.306766</td>\n",
              "      <td>-0.074805</td>\n",
              "      <td>-0.657926</td>\n",
              "      <td>0.829986</td>\n",
              "      <td>0.968883</td>\n",
              "      <td>-1.104540</td>\n",
              "      <td>2.014060</td>\n",
              "      <td>0.690429</td>\n",
              "      <td>1</td>\n",
              "    </tr>\n",
              "    <tr>\n",
              "      <th>98</th>\n",
              "      <td>0.086177</td>\n",
              "      <td>0.983636</td>\n",
              "      <td>0.171244</td>\n",
              "      <td>-0.008118</td>\n",
              "      <td>1.896342</td>\n",
              "      <td>-0.390798</td>\n",
              "      <td>0.252331</td>\n",
              "      <td>-1.406105</td>\n",
              "      <td>-0.647054</td>\n",
              "      <td>2.153120</td>\n",
              "      <td>...</td>\n",
              "      <td>0.468305</td>\n",
              "      <td>0.657268</td>\n",
              "      <td>-0.085615</td>\n",
              "      <td>-1.604739</td>\n",
              "      <td>2.190898</td>\n",
              "      <td>1.458715</td>\n",
              "      <td>2.115647</td>\n",
              "      <td>0.112738</td>\n",
              "      <td>1.209850</td>\n",
              "      <td>1</td>\n",
              "    </tr>\n",
              "    <tr>\n",
              "      <th>99</th>\n",
              "      <td>-1.582494</td>\n",
              "      <td>-1.422795</td>\n",
              "      <td>-0.564301</td>\n",
              "      <td>-1.117453</td>\n",
              "      <td>0.469537</td>\n",
              "      <td>1.405365</td>\n",
              "      <td>-2.115056</td>\n",
              "      <td>-0.824409</td>\n",
              "      <td>-0.085116</td>\n",
              "      <td>-0.813794</td>\n",
              "      <td>...</td>\n",
              "      <td>-1.449118</td>\n",
              "      <td>0.541008</td>\n",
              "      <td>1.922325</td>\n",
              "      <td>0.422580</td>\n",
              "      <td>2.243602</td>\n",
              "      <td>0.547481</td>\n",
              "      <td>1.266614</td>\n",
              "      <td>-1.317717</td>\n",
              "      <td>1.618054</td>\n",
              "      <td>0</td>\n",
              "    </tr>\n",
              "  </tbody>\n",
              "</table>\n",
              "<p>100 rows × 21 columns</p>\n",
              "</div>\n",
              "      <button class=\"colab-df-convert\" onclick=\"convertToInteractive('df-47df1ec6-ede1-415b-8faa-3e34c00b5f14')\"\n",
              "              title=\"Convert this dataframe to an interactive table.\"\n",
              "              style=\"display:none;\">\n",
              "        \n",
              "  <svg xmlns=\"http://www.w3.org/2000/svg\" height=\"24px\"viewBox=\"0 0 24 24\"\n",
              "       width=\"24px\">\n",
              "    <path d=\"M0 0h24v24H0V0z\" fill=\"none\"/>\n",
              "    <path d=\"M18.56 5.44l.94 2.06.94-2.06 2.06-.94-2.06-.94-.94-2.06-.94 2.06-2.06.94zm-11 1L8.5 8.5l.94-2.06 2.06-.94-2.06-.94L8.5 2.5l-.94 2.06-2.06.94zm10 10l.94 2.06.94-2.06 2.06-.94-2.06-.94-.94-2.06-.94 2.06-2.06.94z\"/><path d=\"M17.41 7.96l-1.37-1.37c-.4-.4-.92-.59-1.43-.59-.52 0-1.04.2-1.43.59L10.3 9.45l-7.72 7.72c-.78.78-.78 2.05 0 2.83L4 21.41c.39.39.9.59 1.41.59.51 0 1.02-.2 1.41-.59l7.78-7.78 2.81-2.81c.8-.78.8-2.07 0-2.86zM5.41 20L4 18.59l7.72-7.72 1.47 1.35L5.41 20z\"/>\n",
              "  </svg>\n",
              "      </button>\n",
              "      \n",
              "  <style>\n",
              "    .colab-df-container {\n",
              "      display:flex;\n",
              "      flex-wrap:wrap;\n",
              "      gap: 12px;\n",
              "    }\n",
              "\n",
              "    .colab-df-convert {\n",
              "      background-color: #E8F0FE;\n",
              "      border: none;\n",
              "      border-radius: 50%;\n",
              "      cursor: pointer;\n",
              "      display: none;\n",
              "      fill: #1967D2;\n",
              "      height: 32px;\n",
              "      padding: 0 0 0 0;\n",
              "      width: 32px;\n",
              "    }\n",
              "\n",
              "    .colab-df-convert:hover {\n",
              "      background-color: #E2EBFA;\n",
              "      box-shadow: 0px 1px 2px rgba(60, 64, 67, 0.3), 0px 1px 3px 1px rgba(60, 64, 67, 0.15);\n",
              "      fill: #174EA6;\n",
              "    }\n",
              "\n",
              "    [theme=dark] .colab-df-convert {\n",
              "      background-color: #3B4455;\n",
              "      fill: #D2E3FC;\n",
              "    }\n",
              "\n",
              "    [theme=dark] .colab-df-convert:hover {\n",
              "      background-color: #434B5C;\n",
              "      box-shadow: 0px 1px 3px 1px rgba(0, 0, 0, 0.15);\n",
              "      filter: drop-shadow(0px 1px 2px rgba(0, 0, 0, 0.3));\n",
              "      fill: #FFFFFF;\n",
              "    }\n",
              "  </style>\n",
              "\n",
              "      <script>\n",
              "        const buttonEl =\n",
              "          document.querySelector('#df-47df1ec6-ede1-415b-8faa-3e34c00b5f14 button.colab-df-convert');\n",
              "        buttonEl.style.display =\n",
              "          google.colab.kernel.accessAllowed ? 'block' : 'none';\n",
              "\n",
              "        async function convertToInteractive(key) {\n",
              "          const element = document.querySelector('#df-47df1ec6-ede1-415b-8faa-3e34c00b5f14');\n",
              "          const dataTable =\n",
              "            await google.colab.kernel.invokeFunction('convertToInteractive',\n",
              "                                                     [key], {});\n",
              "          if (!dataTable) return;\n",
              "\n",
              "          const docLinkHtml = 'Like what you see? Visit the ' +\n",
              "            '<a target=\"_blank\" href=https://colab.research.google.com/notebooks/data_table.ipynb>data table notebook</a>'\n",
              "            + ' to learn more about interactive tables.';\n",
              "          element.innerHTML = '';\n",
              "          dataTable['output_type'] = 'display_data';\n",
              "          await google.colab.output.renderOutput(dataTable, element);\n",
              "          const docLink = document.createElement('div');\n",
              "          docLink.innerHTML = docLinkHtml;\n",
              "          element.appendChild(docLink);\n",
              "        }\n",
              "      </script>\n",
              "    </div>\n",
              "  </div>\n",
              "  "
            ]
          },
          "metadata": {},
          "execution_count": 688
        }
      ]
    },
    {
      "cell_type": "code",
      "source": [
        "import seaborn as sns\n",
        "import matplotlib.pyplot as plt"
      ],
      "metadata": {
        "id": "Hybv84M6sK_K"
      },
      "execution_count": null,
      "outputs": []
    },
    {
      "cell_type": "code",
      "source": [
        "plt.figure(figsize=(20,15))\n",
        "sns.heatmap(data.corr(),annot=True)\n",
        "plt.show()"
      ],
      "metadata": {
        "colab": {
          "base_uri": "https://localhost:8080/",
          "height": 54
        },
        "id": "eLgATWwyrRva",
        "outputId": "bdabbf35-c59d-46af-8a78-d779803133aa"
      },
      "execution_count": null,
      "outputs": [
        {
          "output_type": "display_data",
          "data": {
            "text/plain": [
              "<Figure size 1440x1080 with 2 Axes>"
            ],
            "image/png": "[encoded data removed]"
          },
          "metadata": {
            "needs_background": "light"
          }
        }
      ]
    },
    {
      "cell_type": "markdown",
      "source": [
        "Сильно коррелируют 3 и 10, 4 и 17, 10 и 20 удалим 3 и 4, 10 признаки"
      ],
      "metadata": {
        "id": "03Q4As__shHK"
      }
    },
    {
      "cell_type": "code",
      "source": [
        "data_new = data.drop(columns = [3, 4, 10])"
      ],
      "metadata": {
        "id": "gT7WxL5o6s6F"
      },
      "execution_count": null,
      "outputs": []
    },
    {
      "cell_type": "code",
      "source": [
        "data_new"
      ],
      "metadata": {
        "colab": {
          "base_uri": "https://localhost:8080/",
          "height": 487
        },
        "id": "Jr1CAGK5DQJQ",
        "outputId": "53a54f10-10d2-4fb0-eee3-c144be5499c4"
      },
      "execution_count": null,
      "outputs": [
        {
          "output_type": "execute_result",
          "data": {
            "text/plain": [
              "           0         1         2         5         6         7         8  \\\n",
              "0  -0.039268  0.131912 -0.211206 -0.421328  0.768771  0.875696  2.451230   \n",
              "1   0.774161  0.104907 -0.332812 -0.822828 -0.612626  1.496140  0.568459   \n",
              "2  -0.014858  0.670570 -0.214167 -1.566995  0.039767  0.265688  1.849591   \n",
              "3   0.038909 -1.557999 -0.024549 -0.675594  0.844996  2.042072 -1.102230   \n",
              "4   0.936446  1.265078 -0.510293  0.679975 -0.704921 -0.290397 -0.386871   \n",
              "..       ...       ...       ...       ...       ...       ...       ...   \n",
              "95 -0.104343 -1.177629  1.696182 -0.132988  1.754986  0.555787  0.448195   \n",
              "96  0.183925 -1.601836 -1.284552  1.243319 -0.932789  0.587259  0.564009   \n",
              "97  0.296733 -0.496102 -0.864045  1.569260  0.012232  0.796672 -0.406303   \n",
              "98  0.086177  0.983636  0.171244 -0.390798  0.252331 -1.406105 -0.647054   \n",
              "99 -1.582494 -1.422795 -0.564301  1.405365 -2.115056 -0.824409 -0.085116   \n",
              "\n",
              "           9        11        12        13        14        15        16  \\\n",
              "0  -0.480242 -0.523251  0.708695 -1.980566 -1.365163 -0.948933  1.947099   \n",
              "1  -0.467493 -0.862493 -0.631192  0.133913 -0.972403 -0.774459  1.346221   \n",
              "2   0.719984 -1.102906  0.019279 -0.707506  0.723100  0.821406  0.024612   \n",
              "3  -1.692370  0.729346 -0.298760 -0.507035  0.038118  0.626564 -0.578918   \n",
              "4  -0.803141 -0.464338 -0.552541  0.211497  1.327783 -0.035095 -0.101281   \n",
              "..       ...       ...       ...       ...       ...       ...       ...   \n",
              "95 -1.824257  0.303604 -1.661598 -1.140196  0.010349 -0.988002  0.720034   \n",
              "96 -0.507518 -1.051880 -2.245322 -0.887181 -0.505358 -0.385490 -0.815792   \n",
              "97  0.225582  1.389145 -0.306766 -0.074805 -0.657926  0.829986  0.968883   \n",
              "98  2.153120  0.468305  0.657268 -0.085615 -1.604739  2.190898  1.458715   \n",
              "99 -0.813794 -1.449118  0.541008  1.922325  0.422580  2.243602  0.547481   \n",
              "\n",
              "          17        18        19  20  \n",
              "0   1.976989  1.021225 -0.469311   0  \n",
              "1   1.267804  0.622519 -1.490265   0  \n",
              "2  -0.104862 -0.101697 -0.451303   1  \n",
              "3  -0.071560  0.699136 -0.993361   1  \n",
              "4  -0.800221  1.021791 -0.696327   1  \n",
              "..       ...       ...       ...  ..  \n",
              "95  0.733900  0.772695 -0.765702   1  \n",
              "96 -1.308135  2.497200  0.812674   1  \n",
              "97 -1.104540  2.014060  0.690429   1  \n",
              "98  2.115647  0.112738  1.209850   1  \n",
              "99  1.266614 -1.317717  1.618054   0  \n",
              "\n",
              "[100 rows x 18 columns]"
            ],
            "text/html": [
              "\n",
              "  <div id=\"df-412a7416-bbfb-4d10-8e3b-707128e53988\">\n",
              "    <div class=\"colab-df-container\">\n",
              "      <div>\n",
              "<style scoped>\n",
              "    .dataframe tbody tr th:only-of-type {\n",
              "        vertical-align: middle;\n",
              "    }\n",
              "\n",
              "    .dataframe tbody tr th {\n",
              "        vertical-align: top;\n",
              "    }\n",
              "\n",
              "    .dataframe thead th {\n",
              "        text-align: right;\n",
              "    }\n",
              "</style>\n",
              "<table border=\"1\" class=\"dataframe\">\n",
              "  <thead>\n",
              "    <tr style=\"text-align: right;\">\n",
              "      <th></th>\n",
              "      <th>0</th>\n",
              "      <th>1</th>\n",
              "      <th>2</th>\n",
              "      <th>5</th>\n",
              "      <th>6</th>\n",
              "      <th>7</th>\n",
              "      <th>8</th>\n",
              "      <th>9</th>\n",
              "      <th>11</th>\n",
              "      <th>12</th>\n",
              "      <th>13</th>\n",
              "      <th>14</th>\n",
              "      <th>15</th>\n",
              "      <th>16</th>\n",
              "      <th>17</th>\n",
              "      <th>18</th>\n",
              "      <th>19</th>\n",
              "      <th>20</th>\n",
              "    </tr>\n",
              "  </thead>\n",
              "  <tbody>\n",
              "    <tr>\n",
              "      <th>0</th>\n",
              "      <td>-0.039268</td>\n",
              "      <td>0.131912</td>\n",
              "      <td>-0.211206</td>\n",
              "      <td>-0.421328</td>\n",
              "      <td>0.768771</td>\n",
              "      <td>0.875696</td>\n",
              "      <td>2.451230</td>\n",
              "      <td>-0.480242</td>\n",
              "      <td>-0.523251</td>\n",
              "      <td>0.708695</td>\n",
              "      <td>-1.980566</td>\n",
              "      <td>-1.365163</td>\n",
              "      <td>-0.948933</td>\n",
              "      <td>1.947099</td>\n",
              "      <td>1.976989</td>\n",
              "      <td>1.021225</td>\n",
              "      <td>-0.469311</td>\n",
              "      <td>0</td>\n",
              "    </tr>\n",
              "    <tr>\n",
              "      <th>1</th>\n",
              "      <td>0.774161</td>\n",
              "      <td>0.104907</td>\n",
              "      <td>-0.332812</td>\n",
              "      <td>-0.822828</td>\n",
              "      <td>-0.612626</td>\n",
              "      <td>1.496140</td>\n",
              "      <td>0.568459</td>\n",
              "      <td>-0.467493</td>\n",
              "      <td>-0.862493</td>\n",
              "      <td>-0.631192</td>\n",
              "      <td>0.133913</td>\n",
              "      <td>-0.972403</td>\n",
              "      <td>-0.774459</td>\n",
              "      <td>1.346221</td>\n",
              "      <td>1.267804</td>\n",
              "      <td>0.622519</td>\n",
              "      <td>-1.490265</td>\n",
              "      <td>0</td>\n",
              "    </tr>\n",
              "    <tr>\n",
              "      <th>2</th>\n",
              "      <td>-0.014858</td>\n",
              "      <td>0.670570</td>\n",
              "      <td>-0.214167</td>\n",
              "      <td>-1.566995</td>\n",
              "      <td>0.039767</td>\n",
              "      <td>0.265688</td>\n",
              "      <td>1.849591</td>\n",
              "      <td>0.719984</td>\n",
              "      <td>-1.102906</td>\n",
              "      <td>0.019279</td>\n",
              "      <td>-0.707506</td>\n",
              "      <td>0.723100</td>\n",
              "      <td>0.821406</td>\n",
              "      <td>0.024612</td>\n",
              "      <td>-0.104862</td>\n",
              "      <td>-0.101697</td>\n",
              "      <td>-0.451303</td>\n",
              "      <td>1</td>\n",
              "    </tr>\n",
              "    <tr>\n",
              "      <th>3</th>\n",
              "      <td>0.038909</td>\n",
              "      <td>-1.557999</td>\n",
              "      <td>-0.024549</td>\n",
              "      <td>-0.675594</td>\n",
              "      <td>0.844996</td>\n",
              "      <td>2.042072</td>\n",
              "      <td>-1.102230</td>\n",
              "      <td>-1.692370</td>\n",
              "      <td>0.729346</td>\n",
              "      <td>-0.298760</td>\n",
              "      <td>-0.507035</td>\n",
              "      <td>0.038118</td>\n",
              "      <td>0.626564</td>\n",
              "      <td>-0.578918</td>\n",
              "      <td>-0.071560</td>\n",
              "      <td>0.699136</td>\n",
              "      <td>-0.993361</td>\n",
              "      <td>1</td>\n",
              "    </tr>\n",
              "    <tr>\n",
              "      <th>4</th>\n",
              "      <td>0.936446</td>\n",
              "      <td>1.265078</td>\n",
              "      <td>-0.510293</td>\n",
              "      <td>0.679975</td>\n",
              "      <td>-0.704921</td>\n",
              "      <td>-0.290397</td>\n",
              "      <td>-0.386871</td>\n",
              "      <td>-0.803141</td>\n",
              "      <td>-0.464338</td>\n",
              "      <td>-0.552541</td>\n",
              "      <td>0.211497</td>\n",
              "      <td>1.327783</td>\n",
              "      <td>-0.035095</td>\n",
              "      <td>-0.101281</td>\n",
              "      <td>-0.800221</td>\n",
              "      <td>1.021791</td>\n",
              "      <td>-0.696327</td>\n",
              "      <td>1</td>\n",
              "    </tr>\n",
              "    <tr>\n",
              "      <th>...</th>\n",
              "      <td>...</td>\n",
              "      <td>...</td>\n",
              "      <td>...</td>\n",
              "      <td>...</td>\n",
              "      <td>...</td>\n",
              "      <td>...</td>\n",
              "      <td>...</td>\n",
              "      <td>...</td>\n",
              "      <td>...</td>\n",
              "      <td>...</td>\n",
              "      <td>...</td>\n",
              "      <td>...</td>\n",
              "      <td>...</td>\n",
              "      <td>...</td>\n",
              "      <td>...</td>\n",
              "      <td>...</td>\n",
              "      <td>...</td>\n",
              "      <td>...</td>\n",
              "    </tr>\n",
              "    <tr>\n",
              "      <th>95</th>\n",
              "      <td>-0.104343</td>\n",
              "      <td>-1.177629</td>\n",
              "      <td>1.696182</td>\n",
              "      <td>-0.132988</td>\n",
              "      <td>1.754986</td>\n",
              "      <td>0.555787</td>\n",
              "      <td>0.448195</td>\n",
              "      <td>-1.824257</td>\n",
              "      <td>0.303604</td>\n",
              "      <td>-1.661598</td>\n",
              "      <td>-1.140196</td>\n",
              "      <td>0.010349</td>\n",
              "      <td>-0.988002</td>\n",
              "      <td>0.720034</td>\n",
              "      <td>0.733900</td>\n",
              "      <td>0.772695</td>\n",
              "      <td>-0.765702</td>\n",
              "      <td>1</td>\n",
              "    </tr>\n",
              "    <tr>\n",
              "      <th>96</th>\n",
              "      <td>0.183925</td>\n",
              "      <td>-1.601836</td>\n",
              "      <td>-1.284552</td>\n",
              "      <td>1.243319</td>\n",
              "      <td>-0.932789</td>\n",
              "      <td>0.587259</td>\n",
              "      <td>0.564009</td>\n",
              "      <td>-0.507518</td>\n",
              "      <td>-1.051880</td>\n",
              "      <td>-2.245322</td>\n",
              "      <td>-0.887181</td>\n",
              "      <td>-0.505358</td>\n",
              "      <td>-0.385490</td>\n",
              "      <td>-0.815792</td>\n",
              "      <td>-1.308135</td>\n",
              "      <td>2.497200</td>\n",
              "      <td>0.812674</td>\n",
              "      <td>1</td>\n",
              "    </tr>\n",
              "    <tr>\n",
              "      <th>97</th>\n",
              "      <td>0.296733</td>\n",
              "      <td>-0.496102</td>\n",
              "      <td>-0.864045</td>\n",
              "      <td>1.569260</td>\n",
              "      <td>0.012232</td>\n",
              "      <td>0.796672</td>\n",
              "      <td>-0.406303</td>\n",
              "      <td>0.225582</td>\n",
              "      <td>1.389145</td>\n",
              "      <td>-0.306766</td>\n",
              "      <td>-0.074805</td>\n",
              "      <td>-0.657926</td>\n",
              "      <td>0.829986</td>\n",
              "      <td>0.968883</td>\n",
              "      <td>-1.104540</td>\n",
              "      <td>2.014060</td>\n",
              "      <td>0.690429</td>\n",
              "      <td>1</td>\n",
              "    </tr>\n",
              "    <tr>\n",
              "      <th>98</th>\n",
              "      <td>0.086177</td>\n",
              "      <td>0.983636</td>\n",
              "      <td>0.171244</td>\n",
              "      <td>-0.390798</td>\n",
              "      <td>0.252331</td>\n",
              "      <td>-1.406105</td>\n",
              "      <td>-0.647054</td>\n",
              "      <td>2.153120</td>\n",
              "      <td>0.468305</td>\n",
              "      <td>0.657268</td>\n",
              "      <td>-0.085615</td>\n",
              "      <td>-1.604739</td>\n",
              "      <td>2.190898</td>\n",
              "      <td>1.458715</td>\n",
              "      <td>2.115647</td>\n",
              "      <td>0.112738</td>\n",
              "      <td>1.209850</td>\n",
              "      <td>1</td>\n",
              "    </tr>\n",
              "    <tr>\n",
              "      <th>99</th>\n",
              "      <td>-1.582494</td>\n",
              "      <td>-1.422795</td>\n",
              "      <td>-0.564301</td>\n",
              "      <td>1.405365</td>\n",
              "      <td>-2.115056</td>\n",
              "      <td>-0.824409</td>\n",
              "      <td>-0.085116</td>\n",
              "      <td>-0.813794</td>\n",
              "      <td>-1.449118</td>\n",
              "      <td>0.541008</td>\n",
              "      <td>1.922325</td>\n",
              "      <td>0.422580</td>\n",
              "      <td>2.243602</td>\n",
              "      <td>0.547481</td>\n",
              "      <td>1.266614</td>\n",
              "      <td>-1.317717</td>\n",
              "      <td>1.618054</td>\n",
              "      <td>0</td>\n",
              "    </tr>\n",
              "  </tbody>\n",
              "</table>\n",
              "<p>100 rows × 18 columns</p>\n",
              "</div>\n",
              "      <button class=\"colab-df-convert\" onclick=\"convertToInteractive('df-412a7416-bbfb-4d10-8e3b-707128e53988')\"\n",
              "              title=\"Convert this dataframe to an interactive table.\"\n",
              "              style=\"display:none;\">\n",
              "        \n",
              "  <svg xmlns=\"http://www.w3.org/2000/svg\" height=\"24px\"viewBox=\"0 0 24 24\"\n",
              "       width=\"24px\">\n",
              "    <path d=\"M0 0h24v24H0V0z\" fill=\"none\"/>\n",
              "    <path d=\"M18.56 5.44l.94 2.06.94-2.06 2.06-.94-2.06-.94-.94-2.06-.94 2.06-2.06.94zm-11 1L8.5 8.5l.94-2.06 2.06-.94-2.06-.94L8.5 2.5l-.94 2.06-2.06.94zm10 10l.94 2.06.94-2.06 2.06-.94-2.06-.94-.94-2.06-.94 2.06-2.06.94z\"/><path d=\"M17.41 7.96l-1.37-1.37c-.4-.4-.92-.59-1.43-.59-.52 0-1.04.2-1.43.59L10.3 9.45l-7.72 7.72c-.78.78-.78 2.05 0 2.83L4 21.41c.39.39.9.59 1.41.59.51 0 1.02-.2 1.41-.59l7.78-7.78 2.81-2.81c.8-.78.8-2.07 0-2.86zM5.41 20L4 18.59l7.72-7.72 1.47 1.35L5.41 20z\"/>\n",
              "  </svg>\n",
              "      </button>\n",
              "      \n",
              "  <style>\n",
              "    .colab-df-container {\n",
              "      display:flex;\n",
              "      flex-wrap:wrap;\n",
              "      gap: 12px;\n",
              "    }\n",
              "\n",
              "    .colab-df-convert {\n",
              "      background-color: #E8F0FE;\n",
              "      border: none;\n",
              "      border-radius: 50%;\n",
              "      cursor: pointer;\n",
              "      display: none;\n",
              "      fill: #1967D2;\n",
              "      height: 32px;\n",
              "      padding: 0 0 0 0;\n",
              "      width: 32px;\n",
              "    }\n",
              "\n",
              "    .colab-df-convert:hover {\n",
              "      background-color: #E2EBFA;\n",
              "      box-shadow: 0px 1px 2px rgba(60, 64, 67, 0.3), 0px 1px 3px 1px rgba(60, 64, 67, 0.15);\n",
              "      fill: #174EA6;\n",
              "    }\n",
              "\n",
              "    [theme=dark] .colab-df-convert {\n",
              "      background-color: #3B4455;\n",
              "      fill: #D2E3FC;\n",
              "    }\n",
              "\n",
              "    [theme=dark] .colab-df-convert:hover {\n",
              "      background-color: #434B5C;\n",
              "      box-shadow: 0px 1px 3px 1px rgba(0, 0, 0, 0.15);\n",
              "      filter: drop-shadow(0px 1px 2px rgba(0, 0, 0, 0.3));\n",
              "      fill: #FFFFFF;\n",
              "    }\n",
              "  </style>\n",
              "\n",
              "      <script>\n",
              "        const buttonEl =\n",
              "          document.querySelector('#df-412a7416-bbfb-4d10-8e3b-707128e53988 button.colab-df-convert');\n",
              "        buttonEl.style.display =\n",
              "          google.colab.kernel.accessAllowed ? 'block' : 'none';\n",
              "\n",
              "        async function convertToInteractive(key) {\n",
              "          const element = document.querySelector('#df-412a7416-bbfb-4d10-8e3b-707128e53988');\n",
              "          const dataTable =\n",
              "            await google.colab.kernel.invokeFunction('convertToInteractive',\n",
              "                                                     [key], {});\n",
              "          if (!dataTable) return;\n",
              "\n",
              "          const docLinkHtml = 'Like what you see? Visit the ' +\n",
              "            '<a target=\"_blank\" href=https://colab.research.google.com/notebooks/data_table.ipynb>data table notebook</a>'\n",
              "            + ' to learn more about interactive tables.';\n",
              "          element.innerHTML = '';\n",
              "          dataTable['output_type'] = 'display_data';\n",
              "          await google.colab.output.renderOutput(dataTable, element);\n",
              "          const docLink = document.createElement('div');\n",
              "          docLink.innerHTML = docLinkHtml;\n",
              "          element.appendChild(docLink);\n",
              "        }\n",
              "      </script>\n",
              "    </div>\n",
              "  </div>\n",
              "  "
            ]
          },
          "metadata": {},
          "execution_count": 692
        }
      ]
    },
    {
      "cell_type": "code",
      "source": [
        "plt.figure(figsize=(20,15))\n",
        "sns.heatmap(data_new.corr(),annot=True)\n",
        "plt.show()"
      ],
      "metadata": {
        "colab": {
          "base_uri": "https://localhost:8080/",
          "height": 54
        },
        "id": "32OsYm6FDU4Y",
        "outputId": "2f55e4f3-d7c6-46ea-fc9f-43ecad32188f"
      },
      "execution_count": null,
      "outputs": [
        {
          "output_type": "display_data",
          "data": {
            "text/plain": [
              "<Figure size 1440x1080 with 2 Axes>"
            ],
            "image/png": "[encoded data removed]"
          },
          "metadata": {
            "needs_background": "light"
          }
        }
      ]
    },
    {
      "cell_type": "markdown",
      "source": [
        "#### b) Отсеките низковариативные признаки (VarianceThreshold).\n"
      ],
      "metadata": {
        "id": "InNJMt8upfwu"
      }
    },
    {
      "cell_type": "code",
      "source": [
        "data_new.describe()"
      ],
      "metadata": {
        "colab": {
          "base_uri": "https://localhost:8080/",
          "height": 364
        },
        "id": "xVhFPqYEFBA9",
        "outputId": "6069fabc-accb-435c-ad72-eb6110b1d5bf"
      },
      "execution_count": null,
      "outputs": [
        {
          "output_type": "execute_result",
          "data": {
            "text/plain": [
              "                0           1           2           5           6           7  \\\n",
              "count  100.000000  100.000000  100.000000  100.000000  100.000000  100.000000   \n",
              "mean    -0.201157   -0.065166   -0.018295    0.115880   -0.075522   -0.005361   \n",
              "std      0.922000    1.069395    0.983718    0.984095    1.012048    0.996747   \n",
              "min     -2.582797   -2.288620   -2.047324   -2.534554   -2.994613   -2.201441   \n",
              "25%     -0.921699   -0.934301   -0.715116   -0.501400   -0.766034   -0.716149   \n",
              "50%     -0.109559    0.027124   -0.003218   -0.030744   -0.118444   -0.088977   \n",
              "75%      0.276811    0.833921    0.541453    0.764341    0.591959    0.654702   \n",
              "max      2.594425    2.488442    2.412454    2.642936    2.149575    2.290467   \n",
              "\n",
              "                8           9          11          12          13          14  \\\n",
              "count  100.000000  100.000000  100.000000  100.000000  100.000000  100.000000   \n",
              "mean     0.021322   -0.027685   -0.023084   -0.207044   -0.141198   -0.023329   \n",
              "std      0.971359    0.902705    0.961196    1.057656    0.849718    0.968637   \n",
              "min     -2.369587   -2.364174   -3.046143   -2.772593   -2.655619   -2.802203   \n",
              "25%     -0.649928   -0.577944   -0.642868   -0.836743   -0.638901   -0.630963   \n",
              "50%      0.069606    0.027899    0.037074   -0.257947   -0.116167   -0.035884   \n",
              "75%      0.565121    0.636705    0.533407    0.553182    0.313104    0.622525   \n",
              "max      2.680571    2.153120    2.339625    2.759355    2.232016    2.526368   \n",
              "\n",
              "               15          16          17          18          19          20  \n",
              "count  100.000000  100.000000  100.000000  100.000000  100.000000  100.000000  \n",
              "mean     0.018780    0.181383   -0.048769    0.219853   -0.146823    0.500000  \n",
              "std      1.010862    0.933198    1.290100    1.086226    0.884002    0.502519  \n",
              "min     -2.559185   -2.739677   -3.697436   -2.659172   -2.777359    0.000000  \n",
              "25%     -0.779124   -0.324188   -0.865390   -0.419274   -0.617423    0.000000  \n",
              "50%      0.011961    0.199813   -0.143879    0.311192   -0.214775    0.500000  \n",
              "75%      0.638560    0.829577    0.766881    0.806619    0.397050    1.000000  \n",
              "max      2.540232    2.225944    2.633259    3.170975    2.320800    1.000000  "
            ],
            "text/html": [
              "\n",
              "  <div id=\"df-d868c693-1e72-47b3-8f40-477cf13548ed\">\n",
              "    <div class=\"colab-df-container\">\n",
              "      <div>\n",
              "<style scoped>\n",
              "    .dataframe tbody tr th:only-of-type {\n",
              "        vertical-align: middle;\n",
              "    }\n",
              "\n",
              "    .dataframe tbody tr th {\n",
              "        vertical-align: top;\n",
              "    }\n",
              "\n",
              "    .dataframe thead th {\n",
              "        text-align: right;\n",
              "    }\n",
              "</style>\n",
              "<table border=\"1\" class=\"dataframe\">\n",
              "  <thead>\n",
              "    <tr style=\"text-align: right;\">\n",
              "      <th></th>\n",
              "      <th>0</th>\n",
              "      <th>1</th>\n",
              "      <th>2</th>\n",
              "      <th>5</th>\n",
              "      <th>6</th>\n",
              "      <th>7</th>\n",
              "      <th>8</th>\n",
              "      <th>9</th>\n",
              "      <th>11</th>\n",
              "      <th>12</th>\n",
              "      <th>13</th>\n",
              "      <th>14</th>\n",
              "      <th>15</th>\n",
              "      <th>16</th>\n",
              "      <th>17</th>\n",
              "      <th>18</th>\n",
              "      <th>19</th>\n",
              "      <th>20</th>\n",
              "    </tr>\n",
              "  </thead>\n",
              "  <tbody>\n",
              "    <tr>\n",
              "      <th>count</th>\n",
              "      <td>100.000000</td>\n",
              "      <td>100.000000</td>\n",
              "      <td>100.000000</td>\n",
              "      <td>100.000000</td>\n",
              "      <td>100.000000</td>\n",
              "      <td>100.000000</td>\n",
              "      <td>100.000000</td>\n",
              "      <td>100.000000</td>\n",
              "      <td>100.000000</td>\n",
              "      <td>100.000000</td>\n",
              "      <td>100.000000</td>\n",
              "      <td>100.000000</td>\n",
              "      <td>100.000000</td>\n",
              "      <td>100.000000</td>\n",
              "      <td>100.000000</td>\n",
              "      <td>100.000000</td>\n",
              "      <td>100.000000</td>\n",
              "      <td>100.000000</td>\n",
              "    </tr>\n",
              "    <tr>\n",
              "      <th>mean</th>\n",
              "      <td>-0.201157</td>\n",
              "      <td>-0.065166</td>\n",
              "      <td>-0.018295</td>\n",
              "      <td>0.115880</td>\n",
              "      <td>-0.075522</td>\n",
              "      <td>-0.005361</td>\n",
              "      <td>0.021322</td>\n",
              "      <td>-0.027685</td>\n",
              "      <td>-0.023084</td>\n",
              "      <td>-0.207044</td>\n",
              "      <td>-0.141198</td>\n",
              "      <td>-0.023329</td>\n",
              "      <td>0.018780</td>\n",
              "      <td>0.181383</td>\n",
              "      <td>-0.048769</td>\n",
              "      <td>0.219853</td>\n",
              "      <td>-0.146823</td>\n",
              "      <td>0.500000</td>\n",
              "    </tr>\n",
              "    <tr>\n",
              "      <th>std</th>\n",
              "      <td>0.922000</td>\n",
              "      <td>1.069395</td>\n",
              "      <td>0.983718</td>\n",
              "      <td>0.984095</td>\n",
              "      <td>1.012048</td>\n",
              "      <td>0.996747</td>\n",
              "      <td>0.971359</td>\n",
              "      <td>0.902705</td>\n",
              "      <td>0.961196</td>\n",
              "      <td>1.057656</td>\n",
              "      <td>0.849718</td>\n",
              "      <td>0.968637</td>\n",
              "      <td>1.010862</td>\n",
              "      <td>0.933198</td>\n",
              "      <td>1.290100</td>\n",
              "      <td>1.086226</td>\n",
              "      <td>0.884002</td>\n",
              "      <td>0.502519</td>\n",
              "    </tr>\n",
              "    <tr>\n",
              "      <th>min</th>\n",
              "      <td>-2.582797</td>\n",
              "      <td>-2.288620</td>\n",
              "      <td>-2.047324</td>\n",
              "      <td>-2.534554</td>\n",
              "      <td>-2.994613</td>\n",
              "      <td>-2.201441</td>\n",
              "      <td>-2.369587</td>\n",
              "      <td>-2.364174</td>\n",
              "      <td>-3.046143</td>\n",
              "      <td>-2.772593</td>\n",
              "      <td>-2.655619</td>\n",
              "      <td>-2.802203</td>\n",
              "      <td>-2.559185</td>\n",
              "      <td>-2.739677</td>\n",
              "      <td>-3.697436</td>\n",
              "      <td>-2.659172</td>\n",
              "      <td>-2.777359</td>\n",
              "      <td>0.000000</td>\n",
              "    </tr>\n",
              "    <tr>\n",
              "      <th>25%</th>\n",
              "      <td>-0.921699</td>\n",
              "      <td>-0.934301</td>\n",
              "      <td>-0.715116</td>\n",
              "      <td>-0.501400</td>\n",
              "      <td>-0.766034</td>\n",
              "      <td>-0.716149</td>\n",
              "      <td>-0.649928</td>\n",
              "      <td>-0.577944</td>\n",
              "      <td>-0.642868</td>\n",
              "      <td>-0.836743</td>\n",
              "      <td>-0.638901</td>\n",
              "      <td>-0.630963</td>\n",
              "      <td>-0.779124</td>\n",
              "      <td>-0.324188</td>\n",
              "      <td>-0.865390</td>\n",
              "      <td>-0.419274</td>\n",
              "      <td>-0.617423</td>\n",
              "      <td>0.000000</td>\n",
              "    </tr>\n",
              "    <tr>\n",
              "      <th>50%</th>\n",
              "      <td>-0.109559</td>\n",
              "      <td>0.027124</td>\n",
              "      <td>-0.003218</td>\n",
              "      <td>-0.030744</td>\n",
              "      <td>-0.118444</td>\n",
              "      <td>-0.088977</td>\n",
              "      <td>0.069606</td>\n",
              "      <td>0.027899</td>\n",
              "      <td>0.037074</td>\n",
              "      <td>-0.257947</td>\n",
              "      <td>-0.116167</td>\n",
              "      <td>-0.035884</td>\n",
              "      <td>0.011961</td>\n",
              "      <td>0.199813</td>\n",
              "      <td>-0.143879</td>\n",
              "      <td>0.311192</td>\n",
              "      <td>-0.214775</td>\n",
              "      <td>0.500000</td>\n",
              "    </tr>\n",
              "    <tr>\n",
              "      <th>75%</th>\n",
              "      <td>0.276811</td>\n",
              "      <td>0.833921</td>\n",
              "      <td>0.541453</td>\n",
              "      <td>0.764341</td>\n",
              "      <td>0.591959</td>\n",
              "      <td>0.654702</td>\n",
              "      <td>0.565121</td>\n",
              "      <td>0.636705</td>\n",
              "      <td>0.533407</td>\n",
              "      <td>0.553182</td>\n",
              "      <td>0.313104</td>\n",
              "      <td>0.622525</td>\n",
              "      <td>0.638560</td>\n",
              "      <td>0.829577</td>\n",
              "      <td>0.766881</td>\n",
              "      <td>0.806619</td>\n",
              "      <td>0.397050</td>\n",
              "      <td>1.000000</td>\n",
              "    </tr>\n",
              "    <tr>\n",
              "      <th>max</th>\n",
              "      <td>2.594425</td>\n",
              "      <td>2.488442</td>\n",
              "      <td>2.412454</td>\n",
              "      <td>2.642936</td>\n",
              "      <td>2.149575</td>\n",
              "      <td>2.290467</td>\n",
              "      <td>2.680571</td>\n",
              "      <td>2.153120</td>\n",
              "      <td>2.339625</td>\n",
              "      <td>2.759355</td>\n",
              "      <td>2.232016</td>\n",
              "      <td>2.526368</td>\n",
              "      <td>2.540232</td>\n",
              "      <td>2.225944</td>\n",
              "      <td>2.633259</td>\n",
              "      <td>3.170975</td>\n",
              "      <td>2.320800</td>\n",
              "      <td>1.000000</td>\n",
              "    </tr>\n",
              "  </tbody>\n",
              "</table>\n",
              "</div>\n",
              "      <button class=\"colab-df-convert\" onclick=\"convertToInteractive('df-d868c693-1e72-47b3-8f40-477cf13548ed')\"\n",
              "              title=\"Convert this dataframe to an interactive table.\"\n",
              "              style=\"display:none;\">\n",
              "        \n",
              "  <svg xmlns=\"http://www.w3.org/2000/svg\" height=\"24px\"viewBox=\"0 0 24 24\"\n",
              "       width=\"24px\">\n",
              "    <path d=\"M0 0h24v24H0V0z\" fill=\"none\"/>\n",
              "    <path d=\"M18.56 5.44l.94 2.06.94-2.06 2.06-.94-2.06-.94-.94-2.06-.94 2.06-2.06.94zm-11 1L8.5 8.5l.94-2.06 2.06-.94-2.06-.94L8.5 2.5l-.94 2.06-2.06.94zm10 10l.94 2.06.94-2.06 2.06-.94-2.06-.94-.94-2.06-.94 2.06-2.06.94z\"/><path d=\"M17.41 7.96l-1.37-1.37c-.4-.4-.92-.59-1.43-.59-.52 0-1.04.2-1.43.59L10.3 9.45l-7.72 7.72c-.78.78-.78 2.05 0 2.83L4 21.41c.39.39.9.59 1.41.59.51 0 1.02-.2 1.41-.59l7.78-7.78 2.81-2.81c.8-.78.8-2.07 0-2.86zM5.41 20L4 18.59l7.72-7.72 1.47 1.35L5.41 20z\"/>\n",
              "  </svg>\n",
              "      </button>\n",
              "      \n",
              "  <style>\n",
              "    .colab-df-container {\n",
              "      display:flex;\n",
              "      flex-wrap:wrap;\n",
              "      gap: 12px;\n",
              "    }\n",
              "\n",
              "    .colab-df-convert {\n",
              "      background-color: #E8F0FE;\n",
              "      border: none;\n",
              "      border-radius: 50%;\n",
              "      cursor: pointer;\n",
              "      display: none;\n",
              "      fill: #1967D2;\n",
              "      height: 32px;\n",
              "      padding: 0 0 0 0;\n",
              "      width: 32px;\n",
              "    }\n",
              "\n",
              "    .colab-df-convert:hover {\n",
              "      background-color: #E2EBFA;\n",
              "      box-shadow: 0px 1px 2px rgba(60, 64, 67, 0.3), 0px 1px 3px 1px rgba(60, 64, 67, 0.15);\n",
              "      fill: #174EA6;\n",
              "    }\n",
              "\n",
              "    [theme=dark] .colab-df-convert {\n",
              "      background-color: #3B4455;\n",
              "      fill: #D2E3FC;\n",
              "    }\n",
              "\n",
              "    [theme=dark] .colab-df-convert:hover {\n",
              "      background-color: #434B5C;\n",
              "      box-shadow: 0px 1px 3px 1px rgba(0, 0, 0, 0.15);\n",
              "      filter: drop-shadow(0px 1px 2px rgba(0, 0, 0, 0.3));\n",
              "      fill: #FFFFFF;\n",
              "    }\n",
              "  </style>\n",
              "\n",
              "      <script>\n",
              "        const buttonEl =\n",
              "          document.querySelector('#df-d868c693-1e72-47b3-8f40-477cf13548ed button.colab-df-convert');\n",
              "        buttonEl.style.display =\n",
              "          google.colab.kernel.accessAllowed ? 'block' : 'none';\n",
              "\n",
              "        async function convertToInteractive(key) {\n",
              "          const element = document.querySelector('#df-d868c693-1e72-47b3-8f40-477cf13548ed');\n",
              "          const dataTable =\n",
              "            await google.colab.kernel.invokeFunction('convertToInteractive',\n",
              "                                                     [key], {});\n",
              "          if (!dataTable) return;\n",
              "\n",
              "          const docLinkHtml = 'Like what you see? Visit the ' +\n",
              "            '<a target=\"_blank\" href=https://colab.research.google.com/notebooks/data_table.ipynb>data table notebook</a>'\n",
              "            + ' to learn more about interactive tables.';\n",
              "          element.innerHTML = '';\n",
              "          dataTable['output_type'] = 'display_data';\n",
              "          await google.colab.output.renderOutput(dataTable, element);\n",
              "          const docLink = document.createElement('div');\n",
              "          docLink.innerHTML = docLinkHtml;\n",
              "          element.appendChild(docLink);\n",
              "        }\n",
              "      </script>\n",
              "    </div>\n",
              "  </div>\n",
              "  "
            ]
          },
          "metadata": {},
          "execution_count": 694
        }
      ]
    },
    {
      "cell_type": "code",
      "source": [
        "from  sklearn.feature_selection import VarianceThreshold"
      ],
      "metadata": {
        "id": "c5bOz_KypjMg"
      },
      "execution_count": null,
      "outputs": []
    },
    {
      "cell_type": "code",
      "source": [
        "X_1_train, X_1_test, y_1_train, y_1_test =train_test_split(data_new.drop(labels=['20'], axis=1), data_new['20'], test_size=0.3, random_state=42)"
      ],
      "metadata": {
        "id": "unTG4eXLEBhr"
      },
      "execution_count": null,
      "outputs": []
    },
    {
      "cell_type": "code",
      "source": [
        "X_1_train.shape"
      ],
      "metadata": {
        "colab": {
          "base_uri": "https://localhost:8080/"
        },
        "id": "iwFmN-36GJ3a",
        "outputId": "5831fa00-8034-45a3-a9bd-2ac03b1c7b09"
      },
      "execution_count": null,
      "outputs": [
        {
          "output_type": "execute_result",
          "data": {
            "text/plain": [
              "(70, 17)"
            ]
          },
          "metadata": {},
          "execution_count": 697
        }
      ]
    },
    {
      "cell_type": "code",
      "source": [
        "selector = VarianceThreshold(threshold=0.75)"
      ],
      "metadata": {
        "id": "EEvyDbEnvRv1"
      },
      "execution_count": null,
      "outputs": []
    },
    {
      "cell_type": "code",
      "source": [
        "new_X_train = selector.fit(X_1_train)"
      ],
      "metadata": {
        "id": "16bqkPN_vYiN"
      },
      "execution_count": null,
      "outputs": []
    },
    {
      "cell_type": "code",
      "source": [
        "len(X_1_train.columns[selector.get_support()])"
      ],
      "metadata": {
        "colab": {
          "base_uri": "https://localhost:8080/"
        },
        "id": "5RDCudQ7F5Vm",
        "outputId": "e6e4cb6e-a1c4-4ad6-862e-1964f838db62"
      },
      "execution_count": null,
      "outputs": [
        {
          "output_type": "execute_result",
          "data": {
            "text/plain": [
              "15"
            ]
          },
          "metadata": {},
          "execution_count": 700
        }
      ]
    },
    {
      "cell_type": "code",
      "source": [
        "constant_columns = [column for column in X_1_train.columns if column not in X_1_train.columns[selector.get_support()]]\n",
        "print(len(constant_columns))"
      ],
      "metadata": {
        "colab": {
          "base_uri": "https://localhost:8080/"
        },
        "id": "vlM9HxeZI1jp",
        "outputId": "9ad1a52f-c8c5-4759-92d0-a0b49c448532"
      },
      "execution_count": null,
      "outputs": [
        {
          "output_type": "stream",
          "name": "stdout",
          "text": [
            "2\n"
          ]
        }
      ]
    },
    {
      "cell_type": "code",
      "source": [
        "# вывод лишних колонок\n",
        "for column in constant_columns:\n",
        "    print(column)"
      ],
      "metadata": {
        "colab": {
          "base_uri": "https://localhost:8080/"
        },
        "id": "E3VNWxlpJLbY",
        "outputId": "5074b373-d13d-4ca0-d68c-a5ff4620ae31"
      },
      "execution_count": null,
      "outputs": [
        {
          "output_type": "stream",
          "name": "stdout",
          "text": [
            "13\n",
            "16\n"
          ]
        }
      ]
    },
    {
      "cell_type": "code",
      "source": [
        "X_1_train = selector.transform(X_1_train)\n",
        "X_1_test = selector.transform(X_1_test)\n",
        "\n",
        "X_1_train.shape, X_1_test.shape"
      ],
      "metadata": {
        "colab": {
          "base_uri": "https://localhost:8080/"
        },
        "id": "o_F8iqQHJaq6",
        "outputId": "59fe0c96-84cf-4080-d585-8e9d078cce46"
      },
      "execution_count": null,
      "outputs": [
        {
          "output_type": "execute_result",
          "data": {
            "text/plain": [
              "((70, 15), (30, 15))"
            ]
          },
          "metadata": {},
          "execution_count": 703
        }
      ]
    },
    {
      "cell_type": "markdown",
      "source": [
        "#### c) Повторите п. 2 на отобранных признаках в п. 3a, п. 3b."
      ],
      "metadata": {
        "id": "gX-LK8Hepjjr"
      }
    },
    {
      "cell_type": "code",
      "source": [
        "model.fit(X_1_train, y_1_train)"
      ],
      "metadata": {
        "colab": {
          "base_uri": "https://localhost:8080/"
        },
        "id": "QIbC1GM4pmXm",
        "outputId": "832f7ad8-3ebb-41eb-d6df-d7b068b7651b"
      },
      "execution_count": null,
      "outputs": [
        {
          "output_type": "execute_result",
          "data": {
            "text/plain": [
              "LogisticRegression()"
            ]
          },
          "metadata": {},
          "execution_count": 704
        }
      ]
    },
    {
      "cell_type": "code",
      "source": [
        "cross_val_score(LogisticRegression(), X_1_train, y_1_train, scoring='accuracy').mean()"
      ],
      "metadata": {
        "colab": {
          "base_uri": "https://localhost:8080/"
        },
        "id": "nk3nycWqKDED",
        "outputId": "1656eade-2583-4a55-b057-339f39c2af84"
      },
      "execution_count": null,
      "outputs": [
        {
          "output_type": "execute_result",
          "data": {
            "text/plain": [
              "0.5"
            ]
          },
          "metadata": {},
          "execution_count": 705
        }
      ]
    },
    {
      "cell_type": "code",
      "source": [
        "score_mean_vt = cross_val_score(LogisticRegression(), X_1_test, y_1_test, scoring='accuracy').mean()\n",
        "score_mean_vt"
      ],
      "metadata": {
        "colab": {
          "base_uri": "https://localhost:8080/"
        },
        "id": "Hvw2PXB_KIWy",
        "outputId": "f6729360-16f2-4313-8a15-5124eeba1454"
      },
      "execution_count": null,
      "outputs": [
        {
          "output_type": "execute_result",
          "data": {
            "text/plain": [
              "0.5"
            ]
          },
          "metadata": {},
          "execution_count": 706
        }
      ]
    },
    {
      "cell_type": "markdown",
      "source": [
        "a) Сделайте таблицу вида |способ выбора признаков|количество признаков|средняя точность модели|."
      ],
      "metadata": {
        "id": "q7rv-RaV7HBr"
      }
    },
    {
      "cell_type": "code",
      "source": [
        "# добавление результатов в таблицу сравнений\n",
        "df_conclusion = df_conclusion.append({\n",
        "'way_fs' : 'VarianceThreshold',\n",
        "'amount_features' : X_1_train.shape[1],\n",
        "'score_mean' : score_mean_vt\n",
        "}, ignore_index=True)"
      ],
      "metadata": {
        "id": "xgcpK3Ml8NYg"
      },
      "execution_count": null,
      "outputs": []
    },
    {
      "cell_type": "markdown",
      "source": [
        "### 4.Осуществите отбор признаков на основе дисперсионного анализа:\n"
      ],
      "metadata": {
        "id": "_OPjPQJXN73d"
      }
    },
    {
      "cell_type": "markdown",
      "source": [
        "#### a) Выберите 5 лучших признаков с помощью скоринговой функции для классификации f_classif (SelectKBest(f_classif, k=5)).\n"
      ],
      "metadata": {
        "id": "gp3ROBjGOAFA"
      }
    },
    {
      "cell_type": "code",
      "source": [
        "data"
      ],
      "metadata": {
        "colab": {
          "base_uri": "https://localhost:8080/",
          "height": 487
        },
        "id": "YwI6OufVODQZ",
        "outputId": "f962fbd6-5e49-48d3-a9d4-9e8253f7636c"
      },
      "execution_count": null,
      "outputs": [
        {
          "output_type": "execute_result",
          "data": {
            "text/plain": [
              "           0         1         2         3         4         5         6  \\\n",
              "0  -0.039268  0.131912 -0.211206 -1.214147  1.050045 -0.421328  0.768771   \n",
              "1   0.774161  0.104907 -0.332812 -1.270350  0.379113 -0.822828 -0.612626   \n",
              "2  -0.014858  0.670570 -0.214167  0.250202  0.055489 -1.566995  0.039767   \n",
              "3   0.038909 -1.557999 -0.024549  0.216543  0.065274 -0.675594  0.844996   \n",
              "4   0.936446  1.265078 -0.510293 -0.683049 -1.127849  0.679975 -0.704921   \n",
              "..       ...       ...       ...       ...       ...       ...       ...   \n",
              "95 -0.104343 -1.177629  1.696182 -0.136509  0.577823 -0.132988  1.754986   \n",
              "96  0.183925 -1.601836 -1.284552  0.923281 -0.623043  1.243319 -0.932789   \n",
              "97  0.296733 -0.496102 -0.864045  1.709102  0.030155  1.569260  0.012232   \n",
              "98  0.086177  0.983636  0.171244 -0.008118  1.896342 -0.390798  0.252331   \n",
              "99 -1.582494 -1.422795 -0.564301 -1.117453  0.469537  1.405365 -2.115056   \n",
              "\n",
              "           7         8         9  ...        11        12        13        14  \\\n",
              "0   0.875696  2.451230 -0.480242  ... -0.523251  0.708695 -1.980566 -1.365163   \n",
              "1   1.496140  0.568459 -0.467493  ... -0.862493 -0.631192  0.133913 -0.972403   \n",
              "2   0.265688  1.849591  0.719984  ... -1.102906  0.019279 -0.707506  0.723100   \n",
              "3   2.042072 -1.102230 -1.692370  ...  0.729346 -0.298760 -0.507035  0.038118   \n",
              "4  -0.290397 -0.386871 -0.803141  ... -0.464338 -0.552541  0.211497  1.327783   \n",
              "..       ...       ...       ...  ...       ...       ...       ...       ...   \n",
              "95  0.555787  0.448195 -1.824257  ...  0.303604 -1.661598 -1.140196  0.010349   \n",
              "96  0.587259  0.564009 -0.507518  ... -1.051880 -2.245322 -0.887181 -0.505358   \n",
              "97  0.796672 -0.406303  0.225582  ...  1.389145 -0.306766 -0.074805 -0.657926   \n",
              "98 -1.406105 -0.647054  2.153120  ...  0.468305  0.657268 -0.085615 -1.604739   \n",
              "99 -0.824409 -0.085116 -0.813794  ... -1.449118  0.541008  1.922325  0.422580   \n",
              "\n",
              "          15        16        17        18        19  20  \n",
              "0  -0.948933  1.947099  1.976989  1.021225 -0.469311   0  \n",
              "1  -0.774459  1.346221  1.267804  0.622519 -1.490265   0  \n",
              "2   0.821406  0.024612 -0.104862 -0.101697 -0.451303   1  \n",
              "3   0.626564 -0.578918 -0.071560  0.699136 -0.993361   1  \n",
              "4  -0.035095 -0.101281 -0.800221  1.021791 -0.696327   1  \n",
              "..       ...       ...       ...       ...       ...  ..  \n",
              "95 -0.988002  0.720034  0.733900  0.772695 -0.765702   1  \n",
              "96 -0.385490 -0.815792 -1.308135  2.497200  0.812674   1  \n",
              "97  0.829986  0.968883 -1.104540  2.014060  0.690429   1  \n",
              "98  2.190898  1.458715  2.115647  0.112738  1.209850   1  \n",
              "99  2.243602  0.547481  1.266614 -1.317717  1.618054   0  \n",
              "\n",
              "[100 rows x 21 columns]"
            ],
            "text/html": [
              "\n",
              "  <div id=\"df-7cf6b587-4021-40d4-837d-351faaf523a6\">\n",
              "    <div class=\"colab-df-container\">\n",
              "      <div>\n",
              "<style scoped>\n",
              "    .dataframe tbody tr th:only-of-type {\n",
              "        vertical-align: middle;\n",
              "    }\n",
              "\n",
              "    .dataframe tbody tr th {\n",
              "        vertical-align: top;\n",
              "    }\n",
              "\n",
              "    .dataframe thead th {\n",
              "        text-align: right;\n",
              "    }\n",
              "</style>\n",
              "<table border=\"1\" class=\"dataframe\">\n",
              "  <thead>\n",
              "    <tr style=\"text-align: right;\">\n",
              "      <th></th>\n",
              "      <th>0</th>\n",
              "      <th>1</th>\n",
              "      <th>2</th>\n",
              "      <th>3</th>\n",
              "      <th>4</th>\n",
              "      <th>5</th>\n",
              "      <th>6</th>\n",
              "      <th>7</th>\n",
              "      <th>8</th>\n",
              "      <th>9</th>\n",
              "      <th>...</th>\n",
              "      <th>11</th>\n",
              "      <th>12</th>\n",
              "      <th>13</th>\n",
              "      <th>14</th>\n",
              "      <th>15</th>\n",
              "      <th>16</th>\n",
              "      <th>17</th>\n",
              "      <th>18</th>\n",
              "      <th>19</th>\n",
              "      <th>20</th>\n",
              "    </tr>\n",
              "  </thead>\n",
              "  <tbody>\n",
              "    <tr>\n",
              "      <th>0</th>\n",
              "      <td>-0.039268</td>\n",
              "      <td>0.131912</td>\n",
              "      <td>-0.211206</td>\n",
              "      <td>-1.214147</td>\n",
              "      <td>1.050045</td>\n",
              "      <td>-0.421328</td>\n",
              "      <td>0.768771</td>\n",
              "      <td>0.875696</td>\n",
              "      <td>2.451230</td>\n",
              "      <td>-0.480242</td>\n",
              "      <td>...</td>\n",
              "      <td>-0.523251</td>\n",
              "      <td>0.708695</td>\n",
              "      <td>-1.980566</td>\n",
              "      <td>-1.365163</td>\n",
              "      <td>-0.948933</td>\n",
              "      <td>1.947099</td>\n",
              "      <td>1.976989</td>\n",
              "      <td>1.021225</td>\n",
              "      <td>-0.469311</td>\n",
              "      <td>0</td>\n",
              "    </tr>\n",
              "    <tr>\n",
              "      <th>1</th>\n",
              "      <td>0.774161</td>\n",
              "      <td>0.104907</td>\n",
              "      <td>-0.332812</td>\n",
              "      <td>-1.270350</td>\n",
              "      <td>0.379113</td>\n",
              "      <td>-0.822828</td>\n",
              "      <td>-0.612626</td>\n",
              "      <td>1.496140</td>\n",
              "      <td>0.568459</td>\n",
              "      <td>-0.467493</td>\n",
              "      <td>...</td>\n",
              "      <td>-0.862493</td>\n",
              "      <td>-0.631192</td>\n",
              "      <td>0.133913</td>\n",
              "      <td>-0.972403</td>\n",
              "      <td>-0.774459</td>\n",
              "      <td>1.346221</td>\n",
              "      <td>1.267804</td>\n",
              "      <td>0.622519</td>\n",
              "      <td>-1.490265</td>\n",
              "      <td>0</td>\n",
              "    </tr>\n",
              "    <tr>\n",
              "      <th>2</th>\n",
              "      <td>-0.014858</td>\n",
              "      <td>0.670570</td>\n",
              "      <td>-0.214167</td>\n",
              "      <td>0.250202</td>\n",
              "      <td>0.055489</td>\n",
              "      <td>-1.566995</td>\n",
              "      <td>0.039767</td>\n",
              "      <td>0.265688</td>\n",
              "      <td>1.849591</td>\n",
              "      <td>0.719984</td>\n",
              "      <td>...</td>\n",
              "      <td>-1.102906</td>\n",
              "      <td>0.019279</td>\n",
              "      <td>-0.707506</td>\n",
              "      <td>0.723100</td>\n",
              "      <td>0.821406</td>\n",
              "      <td>0.024612</td>\n",
              "      <td>-0.104862</td>\n",
              "      <td>-0.101697</td>\n",
              "      <td>-0.451303</td>\n",
              "      <td>1</td>\n",
              "    </tr>\n",
              "    <tr>\n",
              "      <th>3</th>\n",
              "      <td>0.038909</td>\n",
              "      <td>-1.557999</td>\n",
              "      <td>-0.024549</td>\n",
              "      <td>0.216543</td>\n",
              "      <td>0.065274</td>\n",
              "      <td>-0.675594</td>\n",
              "      <td>0.844996</td>\n",
              "      <td>2.042072</td>\n",
              "      <td>-1.102230</td>\n",
              "      <td>-1.692370</td>\n",
              "      <td>...</td>\n",
              "      <td>0.729346</td>\n",
              "      <td>-0.298760</td>\n",
              "      <td>-0.507035</td>\n",
              "      <td>0.038118</td>\n",
              "      <td>0.626564</td>\n",
              "      <td>-0.578918</td>\n",
              "      <td>-0.071560</td>\n",
              "      <td>0.699136</td>\n",
              "      <td>-0.993361</td>\n",
              "      <td>1</td>\n",
              "    </tr>\n",
              "    <tr>\n",
              "      <th>4</th>\n",
              "      <td>0.936446</td>\n",
              "      <td>1.265078</td>\n",
              "      <td>-0.510293</td>\n",
              "      <td>-0.683049</td>\n",
              "      <td>-1.127849</td>\n",
              "      <td>0.679975</td>\n",
              "      <td>-0.704921</td>\n",
              "      <td>-0.290397</td>\n",
              "      <td>-0.386871</td>\n",
              "      <td>-0.803141</td>\n",
              "      <td>...</td>\n",
              "      <td>-0.464338</td>\n",
              "      <td>-0.552541</td>\n",
              "      <td>0.211497</td>\n",
              "      <td>1.327783</td>\n",
              "      <td>-0.035095</td>\n",
              "      <td>-0.101281</td>\n",
              "      <td>-0.800221</td>\n",
              "      <td>1.021791</td>\n",
              "      <td>-0.696327</td>\n",
              "      <td>1</td>\n",
              "    </tr>\n",
              "    <tr>\n",
              "      <th>...</th>\n",
              "      <td>...</td>\n",
              "      <td>...</td>\n",
              "      <td>...</td>\n",
              "      <td>...</td>\n",
              "      <td>...</td>\n",
              "      <td>...</td>\n",
              "      <td>...</td>\n",
              "      <td>...</td>\n",
              "      <td>...</td>\n",
              "      <td>...</td>\n",
              "      <td>...</td>\n",
              "      <td>...</td>\n",
              "      <td>...</td>\n",
              "      <td>...</td>\n",
              "      <td>...</td>\n",
              "      <td>...</td>\n",
              "      <td>...</td>\n",
              "      <td>...</td>\n",
              "      <td>...</td>\n",
              "      <td>...</td>\n",
              "      <td>...</td>\n",
              "    </tr>\n",
              "    <tr>\n",
              "      <th>95</th>\n",
              "      <td>-0.104343</td>\n",
              "      <td>-1.177629</td>\n",
              "      <td>1.696182</td>\n",
              "      <td>-0.136509</td>\n",
              "      <td>0.577823</td>\n",
              "      <td>-0.132988</td>\n",
              "      <td>1.754986</td>\n",
              "      <td>0.555787</td>\n",
              "      <td>0.448195</td>\n",
              "      <td>-1.824257</td>\n",
              "      <td>...</td>\n",
              "      <td>0.303604</td>\n",
              "      <td>-1.661598</td>\n",
              "      <td>-1.140196</td>\n",
              "      <td>0.010349</td>\n",
              "      <td>-0.988002</td>\n",
              "      <td>0.720034</td>\n",
              "      <td>0.733900</td>\n",
              "      <td>0.772695</td>\n",
              "      <td>-0.765702</td>\n",
              "      <td>1</td>\n",
              "    </tr>\n",
              "    <tr>\n",
              "      <th>96</th>\n",
              "      <td>0.183925</td>\n",
              "      <td>-1.601836</td>\n",
              "      <td>-1.284552</td>\n",
              "      <td>0.923281</td>\n",
              "      <td>-0.623043</td>\n",
              "      <td>1.243319</td>\n",
              "      <td>-0.932789</td>\n",
              "      <td>0.587259</td>\n",
              "      <td>0.564009</td>\n",
              "      <td>-0.507518</td>\n",
              "      <td>...</td>\n",
              "      <td>-1.051880</td>\n",
              "      <td>-2.245322</td>\n",
              "      <td>-0.887181</td>\n",
              "      <td>-0.505358</td>\n",
              "      <td>-0.385490</td>\n",
              "      <td>-0.815792</td>\n",
              "      <td>-1.308135</td>\n",
              "      <td>2.497200</td>\n",
              "      <td>0.812674</td>\n",
              "      <td>1</td>\n",
              "    </tr>\n",
              "    <tr>\n",
              "      <th>97</th>\n",
              "      <td>0.296733</td>\n",
              "      <td>-0.496102</td>\n",
              "      <td>-0.864045</td>\n",
              "      <td>1.709102</td>\n",
              "      <td>0.030155</td>\n",
              "      <td>1.569260</td>\n",
              "      <td>0.012232</td>\n",
              "      <td>0.796672</td>\n",
              "      <td>-0.406303</td>\n",
              "      <td>0.225582</td>\n",
              "      <td>...</td>\n",
              "      <td>1.389145</td>\n",
              "      <td>-0.306766</td>\n",
              "      <td>-0.074805</td>\n",
              "      <td>-0.657926</td>\n",
              "      <td>0.829986</td>\n",
              "      <td>0.968883</td>\n",
              "      <td>-1.104540</td>\n",
              "      <td>2.014060</td>\n",
              "      <td>0.690429</td>\n",
              "      <td>1</td>\n",
              "    </tr>\n",
              "    <tr>\n",
              "      <th>98</th>\n",
              "      <td>0.086177</td>\n",
              "      <td>0.983636</td>\n",
              "      <td>0.171244</td>\n",
              "      <td>-0.008118</td>\n",
              "      <td>1.896342</td>\n",
              "      <td>-0.390798</td>\n",
              "      <td>0.252331</td>\n",
              "      <td>-1.406105</td>\n",
              "      <td>-0.647054</td>\n",
              "      <td>2.153120</td>\n",
              "      <td>...</td>\n",
              "      <td>0.468305</td>\n",
              "      <td>0.657268</td>\n",
              "      <td>-0.085615</td>\n",
              "      <td>-1.604739</td>\n",
              "      <td>2.190898</td>\n",
              "      <td>1.458715</td>\n",
              "      <td>2.115647</td>\n",
              "      <td>0.112738</td>\n",
              "      <td>1.209850</td>\n",
              "      <td>1</td>\n",
              "    </tr>\n",
              "    <tr>\n",
              "      <th>99</th>\n",
              "      <td>-1.582494</td>\n",
              "      <td>-1.422795</td>\n",
              "      <td>-0.564301</td>\n",
              "      <td>-1.117453</td>\n",
              "      <td>0.469537</td>\n",
              "      <td>1.405365</td>\n",
              "      <td>-2.115056</td>\n",
              "      <td>-0.824409</td>\n",
              "      <td>-0.085116</td>\n",
              "      <td>-0.813794</td>\n",
              "      <td>...</td>\n",
              "      <td>-1.449118</td>\n",
              "      <td>0.541008</td>\n",
              "      <td>1.922325</td>\n",
              "      <td>0.422580</td>\n",
              "      <td>2.243602</td>\n",
              "      <td>0.547481</td>\n",
              "      <td>1.266614</td>\n",
              "      <td>-1.317717</td>\n",
              "      <td>1.618054</td>\n",
              "      <td>0</td>\n",
              "    </tr>\n",
              "  </tbody>\n",
              "</table>\n",
              "<p>100 rows × 21 columns</p>\n",
              "</div>\n",
              "      <button class=\"colab-df-convert\" onclick=\"convertToInteractive('df-7cf6b587-4021-40d4-837d-351faaf523a6')\"\n",
              "              title=\"Convert this dataframe to an interactive table.\"\n",
              "              style=\"display:none;\">\n",
              "        \n",
              "  <svg xmlns=\"http://www.w3.org/2000/svg\" height=\"24px\"viewBox=\"0 0 24 24\"\n",
              "       width=\"24px\">\n",
              "    <path d=\"M0 0h24v24H0V0z\" fill=\"none\"/>\n",
              "    <path d=\"M18.56 5.44l.94 2.06.94-2.06 2.06-.94-2.06-.94-.94-2.06-.94 2.06-2.06.94zm-11 1L8.5 8.5l.94-2.06 2.06-.94-2.06-.94L8.5 2.5l-.94 2.06-2.06.94zm10 10l.94 2.06.94-2.06 2.06-.94-2.06-.94-.94-2.06-.94 2.06-2.06.94z\"/><path d=\"M17.41 7.96l-1.37-1.37c-.4-.4-.92-.59-1.43-.59-.52 0-1.04.2-1.43.59L10.3 9.45l-7.72 7.72c-.78.78-.78 2.05 0 2.83L4 21.41c.39.39.9.59 1.41.59.51 0 1.02-.2 1.41-.59l7.78-7.78 2.81-2.81c.8-.78.8-2.07 0-2.86zM5.41 20L4 18.59l7.72-7.72 1.47 1.35L5.41 20z\"/>\n",
              "  </svg>\n",
              "      </button>\n",
              "      \n",
              "  <style>\n",
              "    .colab-df-container {\n",
              "      display:flex;\n",
              "      flex-wrap:wrap;\n",
              "      gap: 12px;\n",
              "    }\n",
              "\n",
              "    .colab-df-convert {\n",
              "      background-color: #E8F0FE;\n",
              "      border: none;\n",
              "      border-radius: 50%;\n",
              "      cursor: pointer;\n",
              "      display: none;\n",
              "      fill: #1967D2;\n",
              "      height: 32px;\n",
              "      padding: 0 0 0 0;\n",
              "      width: 32px;\n",
              "    }\n",
              "\n",
              "    .colab-df-convert:hover {\n",
              "      background-color: #E2EBFA;\n",
              "      box-shadow: 0px 1px 2px rgba(60, 64, 67, 0.3), 0px 1px 3px 1px rgba(60, 64, 67, 0.15);\n",
              "      fill: #174EA6;\n",
              "    }\n",
              "\n",
              "    [theme=dark] .colab-df-convert {\n",
              "      background-color: #3B4455;\n",
              "      fill: #D2E3FC;\n",
              "    }\n",
              "\n",
              "    [theme=dark] .colab-df-convert:hover {\n",
              "      background-color: #434B5C;\n",
              "      box-shadow: 0px 1px 3px 1px rgba(0, 0, 0, 0.15);\n",
              "      filter: drop-shadow(0px 1px 2px rgba(0, 0, 0, 0.3));\n",
              "      fill: #FFFFFF;\n",
              "    }\n",
              "  </style>\n",
              "\n",
              "      <script>\n",
              "        const buttonEl =\n",
              "          document.querySelector('#df-7cf6b587-4021-40d4-837d-351faaf523a6 button.colab-df-convert');\n",
              "        buttonEl.style.display =\n",
              "          google.colab.kernel.accessAllowed ? 'block' : 'none';\n",
              "\n",
              "        async function convertToInteractive(key) {\n",
              "          const element = document.querySelector('#df-7cf6b587-4021-40d4-837d-351faaf523a6');\n",
              "          const dataTable =\n",
              "            await google.colab.kernel.invokeFunction('convertToInteractive',\n",
              "                                                     [key], {});\n",
              "          if (!dataTable) return;\n",
              "\n",
              "          const docLinkHtml = 'Like what you see? Visit the ' +\n",
              "            '<a target=\"_blank\" href=https://colab.research.google.com/notebooks/data_table.ipynb>data table notebook</a>'\n",
              "            + ' to learn more about interactive tables.';\n",
              "          element.innerHTML = '';\n",
              "          dataTable['output_type'] = 'display_data';\n",
              "          await google.colab.output.renderOutput(dataTable, element);\n",
              "          const docLink = document.createElement('div');\n",
              "          docLink.innerHTML = docLinkHtml;\n",
              "          element.appendChild(docLink);\n",
              "        }\n",
              "      </script>\n",
              "    </div>\n",
              "  </div>\n",
              "  "
            ]
          },
          "metadata": {},
          "execution_count": 708
        }
      ]
    },
    {
      "cell_type": "code",
      "source": [
        "from sklearn.feature_selection import SelectKBest, f_classif"
      ],
      "metadata": {
        "id": "cHzBLga5OUO0"
      },
      "execution_count": null,
      "outputs": []
    },
    {
      "cell_type": "code",
      "source": [
        "X_2 = SelectKBest(f_classif, k = 5).fit_transform(x_data_generated, y_data_generated)"
      ],
      "metadata": {
        "id": "qwx0V1yGO6fj"
      },
      "execution_count": null,
      "outputs": []
    },
    {
      "cell_type": "code",
      "source": [
        "X_2.shape"
      ],
      "metadata": {
        "colab": {
          "base_uri": "https://localhost:8080/"
        },
        "id": "U0Ire3snPuYE",
        "outputId": "20ff643b-50c6-48ad-f901-144c86500b3f"
      },
      "execution_count": null,
      "outputs": [
        {
          "output_type": "execute_result",
          "data": {
            "text/plain": [
              "(100, 5)"
            ]
          },
          "metadata": {},
          "execution_count": 711
        }
      ]
    },
    {
      "cell_type": "markdown",
      "source": [
        "#### b) Повторите п. 2 на отобранных признаках."
      ],
      "metadata": {
        "id": "zpcoHs8yODnS"
      }
    },
    {
      "cell_type": "code",
      "source": [
        "X_2_train, X_2_test, y_2_train, y_2_test = train_test_split(X_2, y_data_generated, test_size=0.3, random_state=42)"
      ],
      "metadata": {
        "id": "_ktB8jKxOFKQ"
      },
      "execution_count": null,
      "outputs": []
    },
    {
      "cell_type": "code",
      "source": [
        "model.fit(X_2_train, y_2_train)"
      ],
      "metadata": {
        "colab": {
          "base_uri": "https://localhost:8080/"
        },
        "id": "PZd9Na4CS3o6",
        "outputId": "db18f18b-b0fb-49c3-b1ff-56af872ee7e4"
      },
      "execution_count": null,
      "outputs": [
        {
          "output_type": "execute_result",
          "data": {
            "text/plain": [
              "LogisticRegression()"
            ]
          },
          "metadata": {},
          "execution_count": 713
        }
      ]
    },
    {
      "cell_type": "code",
      "source": [
        "cross_val_score(LogisticRegression(), X_2_train, y_2_train, scoring='accuracy').mean()"
      ],
      "metadata": {
        "colab": {
          "base_uri": "https://localhost:8080/"
        },
        "id": "f2yj-Ep-S_lQ",
        "outputId": "49a8b7a4-76d6-447e-ddf7-5debafc9b954"
      },
      "execution_count": null,
      "outputs": [
        {
          "output_type": "execute_result",
          "data": {
            "text/plain": [
              "0.8857142857142858"
            ]
          },
          "metadata": {},
          "execution_count": 714
        }
      ]
    },
    {
      "cell_type": "code",
      "source": [
        "score_mean_SKB = cross_val_score(LogisticRegression(), X_2_test, y_2_test, scoring='accuracy').mean()\n",
        "score_mean_SKB"
      ],
      "metadata": {
        "colab": {
          "base_uri": "https://localhost:8080/"
        },
        "id": "bZCFlZZ5TEYi",
        "outputId": "075910c1-0e30-423e-c2f7-6d836259201e"
      },
      "execution_count": null,
      "outputs": [
        {
          "output_type": "execute_result",
          "data": {
            "text/plain": [
              "0.9333333333333333"
            ]
          },
          "metadata": {},
          "execution_count": 715
        }
      ]
    },
    {
      "cell_type": "code",
      "source": [
        "# добавление результатов в таблицу сравнений\n",
        "df_conclusion = df_conclusion.append({\n",
        "'way_fs' : 'SelectKBest',\n",
        "'amount_features' : X_2_train.shape[1],\n",
        "'score_mean' : score_mean_SKB\n",
        "}, ignore_index=True)"
      ],
      "metadata": {
        "id": "XHoDn4W0TEwx"
      },
      "execution_count": null,
      "outputs": []
    },
    {
      "cell_type": "markdown",
      "source": [
        "### 5.Отбор с использованием моделей:\n"
      ],
      "metadata": {
        "id": "oae9Uz_oTxz0"
      }
    },
    {
      "cell_type": "markdown",
      "source": [
        "#### a) Реализуйте отбор признаков с помощью логистической регрессии. Отобранные признаки подайте далее на вход в саму логистическую регрессию (SelectFromModel). Используйте L1 регуляризацию.\n"
      ],
      "metadata": {
        "id": "L-GupgzIT1Tf"
      }
    },
    {
      "cell_type": "code",
      "source": [
        "from sklearn.feature_selection import SelectFromModel\n",
        "from sklearn import linear_model"
      ],
      "metadata": {
        "id": "8NKzIheqT4iQ"
      },
      "execution_count": null,
      "outputs": []
    },
    {
      "cell_type": "code",
      "source": [
        " # готовим модель, которую укажем в качестве estimator для SelectFromModel\n",
        " model_l1 =  LogisticRegression(solver='saga', max_iter = 10000, penalty='l1')\n",
        " # инициализируем SelectFromModel\n",
        " selector_sfm = SelectFromModel(estimator=model_l1)"
      ],
      "metadata": {
        "id": "pdjPhVGwU4-E"
      },
      "execution_count": null,
      "outputs": []
    },
    {
      "cell_type": "code",
      "source": [
        "# обучаем selector_sfm на своих данных\n",
        "X_sfm_l1 = selector_sfm.fit_transform(x_data_generated, y_data_generated)"
      ],
      "metadata": {
        "id": "JKGNwF2yWkv8"
      },
      "execution_count": null,
      "outputs": []
    },
    {
      "cell_type": "code",
      "source": [
        "X_sfm_l1.shape"
      ],
      "metadata": {
        "colab": {
          "base_uri": "https://localhost:8080/"
        },
        "id": "_3JlXvvrY-Ya",
        "outputId": "2901eff3-35cc-4bd1-fd22-58da95adeea1"
      },
      "execution_count": null,
      "outputs": [
        {
          "output_type": "execute_result",
          "data": {
            "text/plain": [
              "(100, 12)"
            ]
          },
          "metadata": {},
          "execution_count": 720
        }
      ]
    },
    {
      "cell_type": "markdown",
      "source": [
        "#### b) Реализуйте отбор признаков с помощью модели RandomForest и встроенного атрибута feature_impotance.\n"
      ],
      "metadata": {
        "id": "aT1oTcV8T48C"
      }
    },
    {
      "cell_type": "code",
      "source": [
        "from sklearn.ensemble import RandomForestClassifier"
      ],
      "metadata": {
        "id": "nOFJ427Gawd7"
      },
      "execution_count": null,
      "outputs": []
    },
    {
      "cell_type": "code",
      "source": [
        "data"
      ],
      "metadata": {
        "colab": {
          "base_uri": "https://localhost:8080/",
          "height": 487
        },
        "id": "x9kydLctrdCN",
        "outputId": "351c4395-52df-440c-8429-5bc12df5ea4b"
      },
      "execution_count": null,
      "outputs": [
        {
          "output_type": "execute_result",
          "data": {
            "text/plain": [
              "           0         1         2         3         4         5         6  \\\n",
              "0  -0.039268  0.131912 -0.211206 -1.214147  1.050045 -0.421328  0.768771   \n",
              "1   0.774161  0.104907 -0.332812 -1.270350  0.379113 -0.822828 -0.612626   \n",
              "2  -0.014858  0.670570 -0.214167  0.250202  0.055489 -1.566995  0.039767   \n",
              "3   0.038909 -1.557999 -0.024549  0.216543  0.065274 -0.675594  0.844996   \n",
              "4   0.936446  1.265078 -0.510293 -0.683049 -1.127849  0.679975 -0.704921   \n",
              "..       ...       ...       ...       ...       ...       ...       ...   \n",
              "95 -0.104343 -1.177629  1.696182 -0.136509  0.577823 -0.132988  1.754986   \n",
              "96  0.183925 -1.601836 -1.284552  0.923281 -0.623043  1.243319 -0.932789   \n",
              "97  0.296733 -0.496102 -0.864045  1.709102  0.030155  1.569260  0.012232   \n",
              "98  0.086177  0.983636  0.171244 -0.008118  1.896342 -0.390798  0.252331   \n",
              "99 -1.582494 -1.422795 -0.564301 -1.117453  0.469537  1.405365 -2.115056   \n",
              "\n",
              "           7         8         9  ...        11        12        13        14  \\\n",
              "0   0.875696  2.451230 -0.480242  ... -0.523251  0.708695 -1.980566 -1.365163   \n",
              "1   1.496140  0.568459 -0.467493  ... -0.862493 -0.631192  0.133913 -0.972403   \n",
              "2   0.265688  1.849591  0.719984  ... -1.102906  0.019279 -0.707506  0.723100   \n",
              "3   2.042072 -1.102230 -1.692370  ...  0.729346 -0.298760 -0.507035  0.038118   \n",
              "4  -0.290397 -0.386871 -0.803141  ... -0.464338 -0.552541  0.211497  1.327783   \n",
              "..       ...       ...       ...  ...       ...       ...       ...       ...   \n",
              "95  0.555787  0.448195 -1.824257  ...  0.303604 -1.661598 -1.140196  0.010349   \n",
              "96  0.587259  0.564009 -0.507518  ... -1.051880 -2.245322 -0.887181 -0.505358   \n",
              "97  0.796672 -0.406303  0.225582  ...  1.389145 -0.306766 -0.074805 -0.657926   \n",
              "98 -1.406105 -0.647054  2.153120  ...  0.468305  0.657268 -0.085615 -1.604739   \n",
              "99 -0.824409 -0.085116 -0.813794  ... -1.449118  0.541008  1.922325  0.422580   \n",
              "\n",
              "          15        16        17        18        19  20  \n",
              "0  -0.948933  1.947099  1.976989  1.021225 -0.469311   0  \n",
              "1  -0.774459  1.346221  1.267804  0.622519 -1.490265   0  \n",
              "2   0.821406  0.024612 -0.104862 -0.101697 -0.451303   1  \n",
              "3   0.626564 -0.578918 -0.071560  0.699136 -0.993361   1  \n",
              "4  -0.035095 -0.101281 -0.800221  1.021791 -0.696327   1  \n",
              "..       ...       ...       ...       ...       ...  ..  \n",
              "95 -0.988002  0.720034  0.733900  0.772695 -0.765702   1  \n",
              "96 -0.385490 -0.815792 -1.308135  2.497200  0.812674   1  \n",
              "97  0.829986  0.968883 -1.104540  2.014060  0.690429   1  \n",
              "98  2.190898  1.458715  2.115647  0.112738  1.209850   1  \n",
              "99  2.243602  0.547481  1.266614 -1.317717  1.618054   0  \n",
              "\n",
              "[100 rows x 21 columns]"
            ],
            "text/html": [
              "\n",
              "  <div id=\"df-d893acd3-dd34-4c78-b8c5-998e98cc78e6\">\n",
              "    <div class=\"colab-df-container\">\n",
              "      <div>\n",
              "<style scoped>\n",
              "    .dataframe tbody tr th:only-of-type {\n",
              "        vertical-align: middle;\n",
              "    }\n",
              "\n",
              "    .dataframe tbody tr th {\n",
              "        vertical-align: top;\n",
              "    }\n",
              "\n",
              "    .dataframe thead th {\n",
              "        text-align: right;\n",
              "    }\n",
              "</style>\n",
              "<table border=\"1\" class=\"dataframe\">\n",
              "  <thead>\n",
              "    <tr style=\"text-align: right;\">\n",
              "      <th></th>\n",
              "      <th>0</th>\n",
              "      <th>1</th>\n",
              "      <th>2</th>\n",
              "      <th>3</th>\n",
              "      <th>4</th>\n",
              "      <th>5</th>\n",
              "      <th>6</th>\n",
              "      <th>7</th>\n",
              "      <th>8</th>\n",
              "      <th>9</th>\n",
              "      <th>...</th>\n",
              "      <th>11</th>\n",
              "      <th>12</th>\n",
              "      <th>13</th>\n",
              "      <th>14</th>\n",
              "      <th>15</th>\n",
              "      <th>16</th>\n",
              "      <th>17</th>\n",
              "      <th>18</th>\n",
              "      <th>19</th>\n",
              "      <th>20</th>\n",
              "    </tr>\n",
              "  </thead>\n",
              "  <tbody>\n",
              "    <tr>\n",
              "      <th>0</th>\n",
              "      <td>-0.039268</td>\n",
              "      <td>0.131912</td>\n",
              "      <td>-0.211206</td>\n",
              "      <td>-1.214147</td>\n",
              "      <td>1.050045</td>\n",
              "      <td>-0.421328</td>\n",
              "      <td>0.768771</td>\n",
              "      <td>0.875696</td>\n",
              "      <td>2.451230</td>\n",
              "      <td>-0.480242</td>\n",
              "      <td>...</td>\n",
              "      <td>-0.523251</td>\n",
              "      <td>0.708695</td>\n",
              "      <td>-1.980566</td>\n",
              "      <td>-1.365163</td>\n",
              "      <td>-0.948933</td>\n",
              "      <td>1.947099</td>\n",
              "      <td>1.976989</td>\n",
              "      <td>1.021225</td>\n",
              "      <td>-0.469311</td>\n",
              "      <td>0</td>\n",
              "    </tr>\n",
              "    <tr>\n",
              "      <th>1</th>\n",
              "      <td>0.774161</td>\n",
              "      <td>0.104907</td>\n",
              "      <td>-0.332812</td>\n",
              "      <td>-1.270350</td>\n",
              "      <td>0.379113</td>\n",
              "      <td>-0.822828</td>\n",
              "      <td>-0.612626</td>\n",
              "      <td>1.496140</td>\n",
              "      <td>0.568459</td>\n",
              "      <td>-0.467493</td>\n",
              "      <td>...</td>\n",
              "      <td>-0.862493</td>\n",
              "      <td>-0.631192</td>\n",
              "      <td>0.133913</td>\n",
              "      <td>-0.972403</td>\n",
              "      <td>-0.774459</td>\n",
              "      <td>1.346221</td>\n",
              "      <td>1.267804</td>\n",
              "      <td>0.622519</td>\n",
              "      <td>-1.490265</td>\n",
              "      <td>0</td>\n",
              "    </tr>\n",
              "    <tr>\n",
              "      <th>2</th>\n",
              "      <td>-0.014858</td>\n",
              "      <td>0.670570</td>\n",
              "      <td>-0.214167</td>\n",
              "      <td>0.250202</td>\n",
              "      <td>0.055489</td>\n",
              "      <td>-1.566995</td>\n",
              "      <td>0.039767</td>\n",
              "      <td>0.265688</td>\n",
              "      <td>1.849591</td>\n",
              "      <td>0.719984</td>\n",
              "      <td>...</td>\n",
              "      <td>-1.102906</td>\n",
              "      <td>0.019279</td>\n",
              "      <td>-0.707506</td>\n",
              "      <td>0.723100</td>\n",
              "      <td>0.821406</td>\n",
              "      <td>0.024612</td>\n",
              "      <td>-0.104862</td>\n",
              "      <td>-0.101697</td>\n",
              "      <td>-0.451303</td>\n",
              "      <td>1</td>\n",
              "    </tr>\n",
              "    <tr>\n",
              "      <th>3</th>\n",
              "      <td>0.038909</td>\n",
              "      <td>-1.557999</td>\n",
              "      <td>-0.024549</td>\n",
              "      <td>0.216543</td>\n",
              "      <td>0.065274</td>\n",
              "      <td>-0.675594</td>\n",
              "      <td>0.844996</td>\n",
              "      <td>2.042072</td>\n",
              "      <td>-1.102230</td>\n",
              "      <td>-1.692370</td>\n",
              "      <td>...</td>\n",
              "      <td>0.729346</td>\n",
              "      <td>-0.298760</td>\n",
              "      <td>-0.507035</td>\n",
              "      <td>0.038118</td>\n",
              "      <td>0.626564</td>\n",
              "      <td>-0.578918</td>\n",
              "      <td>-0.071560</td>\n",
              "      <td>0.699136</td>\n",
              "      <td>-0.993361</td>\n",
              "      <td>1</td>\n",
              "    </tr>\n",
              "    <tr>\n",
              "      <th>4</th>\n",
              "      <td>0.936446</td>\n",
              "      <td>1.265078</td>\n",
              "      <td>-0.510293</td>\n",
              "      <td>-0.683049</td>\n",
              "      <td>-1.127849</td>\n",
              "      <td>0.679975</td>\n",
              "      <td>-0.704921</td>\n",
              "      <td>-0.290397</td>\n",
              "      <td>-0.386871</td>\n",
              "      <td>-0.803141</td>\n",
              "      <td>...</td>\n",
              "      <td>-0.464338</td>\n",
              "      <td>-0.552541</td>\n",
              "      <td>0.211497</td>\n",
              "      <td>1.327783</td>\n",
              "      <td>-0.035095</td>\n",
              "      <td>-0.101281</td>\n",
              "      <td>-0.800221</td>\n",
              "      <td>1.021791</td>\n",
              "      <td>-0.696327</td>\n",
              "      <td>1</td>\n",
              "    </tr>\n",
              "    <tr>\n",
              "      <th>...</th>\n",
              "      <td>...</td>\n",
              "      <td>...</td>\n",
              "      <td>...</td>\n",
              "      <td>...</td>\n",
              "      <td>...</td>\n",
              "      <td>...</td>\n",
              "      <td>...</td>\n",
              "      <td>...</td>\n",
              "      <td>...</td>\n",
              "      <td>...</td>\n",
              "      <td>...</td>\n",
              "      <td>...</td>\n",
              "      <td>...</td>\n",
              "      <td>...</td>\n",
              "      <td>...</td>\n",
              "      <td>...</td>\n",
              "      <td>...</td>\n",
              "      <td>...</td>\n",
              "      <td>...</td>\n",
              "      <td>...</td>\n",
              "      <td>...</td>\n",
              "    </tr>\n",
              "    <tr>\n",
              "      <th>95</th>\n",
              "      <td>-0.104343</td>\n",
              "      <td>-1.177629</td>\n",
              "      <td>1.696182</td>\n",
              "      <td>-0.136509</td>\n",
              "      <td>0.577823</td>\n",
              "      <td>-0.132988</td>\n",
              "      <td>1.754986</td>\n",
              "      <td>0.555787</td>\n",
              "      <td>0.448195</td>\n",
              "      <td>-1.824257</td>\n",
              "      <td>...</td>\n",
              "      <td>0.303604</td>\n",
              "      <td>-1.661598</td>\n",
              "      <td>-1.140196</td>\n",
              "      <td>0.010349</td>\n",
              "      <td>-0.988002</td>\n",
              "      <td>0.720034</td>\n",
              "      <td>0.733900</td>\n",
              "      <td>0.772695</td>\n",
              "      <td>-0.765702</td>\n",
              "      <td>1</td>\n",
              "    </tr>\n",
              "    <tr>\n",
              "      <th>96</th>\n",
              "      <td>0.183925</td>\n",
              "      <td>-1.601836</td>\n",
              "      <td>-1.284552</td>\n",
              "      <td>0.923281</td>\n",
              "      <td>-0.623043</td>\n",
              "      <td>1.243319</td>\n",
              "      <td>-0.932789</td>\n",
              "      <td>0.587259</td>\n",
              "      <td>0.564009</td>\n",
              "      <td>-0.507518</td>\n",
              "      <td>...</td>\n",
              "      <td>-1.051880</td>\n",
              "      <td>-2.245322</td>\n",
              "      <td>-0.887181</td>\n",
              "      <td>-0.505358</td>\n",
              "      <td>-0.385490</td>\n",
              "      <td>-0.815792</td>\n",
              "      <td>-1.308135</td>\n",
              "      <td>2.497200</td>\n",
              "      <td>0.812674</td>\n",
              "      <td>1</td>\n",
              "    </tr>\n",
              "    <tr>\n",
              "      <th>97</th>\n",
              "      <td>0.296733</td>\n",
              "      <td>-0.496102</td>\n",
              "      <td>-0.864045</td>\n",
              "      <td>1.709102</td>\n",
              "      <td>0.030155</td>\n",
              "      <td>1.569260</td>\n",
              "      <td>0.012232</td>\n",
              "      <td>0.796672</td>\n",
              "      <td>-0.406303</td>\n",
              "      <td>0.225582</td>\n",
              "      <td>...</td>\n",
              "      <td>1.389145</td>\n",
              "      <td>-0.306766</td>\n",
              "      <td>-0.074805</td>\n",
              "      <td>-0.657926</td>\n",
              "      <td>0.829986</td>\n",
              "      <td>0.968883</td>\n",
              "      <td>-1.104540</td>\n",
              "      <td>2.014060</td>\n",
              "      <td>0.690429</td>\n",
              "      <td>1</td>\n",
              "    </tr>\n",
              "    <tr>\n",
              "      <th>98</th>\n",
              "      <td>0.086177</td>\n",
              "      <td>0.983636</td>\n",
              "      <td>0.171244</td>\n",
              "      <td>-0.008118</td>\n",
              "      <td>1.896342</td>\n",
              "      <td>-0.390798</td>\n",
              "      <td>0.252331</td>\n",
              "      <td>-1.406105</td>\n",
              "      <td>-0.647054</td>\n",
              "      <td>2.153120</td>\n",
              "      <td>...</td>\n",
              "      <td>0.468305</td>\n",
              "      <td>0.657268</td>\n",
              "      <td>-0.085615</td>\n",
              "      <td>-1.604739</td>\n",
              "      <td>2.190898</td>\n",
              "      <td>1.458715</td>\n",
              "      <td>2.115647</td>\n",
              "      <td>0.112738</td>\n",
              "      <td>1.209850</td>\n",
              "      <td>1</td>\n",
              "    </tr>\n",
              "    <tr>\n",
              "      <th>99</th>\n",
              "      <td>-1.582494</td>\n",
              "      <td>-1.422795</td>\n",
              "      <td>-0.564301</td>\n",
              "      <td>-1.117453</td>\n",
              "      <td>0.469537</td>\n",
              "      <td>1.405365</td>\n",
              "      <td>-2.115056</td>\n",
              "      <td>-0.824409</td>\n",
              "      <td>-0.085116</td>\n",
              "      <td>-0.813794</td>\n",
              "      <td>...</td>\n",
              "      <td>-1.449118</td>\n",
              "      <td>0.541008</td>\n",
              "      <td>1.922325</td>\n",
              "      <td>0.422580</td>\n",
              "      <td>2.243602</td>\n",
              "      <td>0.547481</td>\n",
              "      <td>1.266614</td>\n",
              "      <td>-1.317717</td>\n",
              "      <td>1.618054</td>\n",
              "      <td>0</td>\n",
              "    </tr>\n",
              "  </tbody>\n",
              "</table>\n",
              "<p>100 rows × 21 columns</p>\n",
              "</div>\n",
              "      <button class=\"colab-df-convert\" onclick=\"convertToInteractive('df-d893acd3-dd34-4c78-b8c5-998e98cc78e6')\"\n",
              "              title=\"Convert this dataframe to an interactive table.\"\n",
              "              style=\"display:none;\">\n",
              "        \n",
              "  <svg xmlns=\"http://www.w3.org/2000/svg\" height=\"24px\"viewBox=\"0 0 24 24\"\n",
              "       width=\"24px\">\n",
              "    <path d=\"M0 0h24v24H0V0z\" fill=\"none\"/>\n",
              "    <path d=\"M18.56 5.44l.94 2.06.94-2.06 2.06-.94-2.06-.94-.94-2.06-.94 2.06-2.06.94zm-11 1L8.5 8.5l.94-2.06 2.06-.94-2.06-.94L8.5 2.5l-.94 2.06-2.06.94zm10 10l.94 2.06.94-2.06 2.06-.94-2.06-.94-.94-2.06-.94 2.06-2.06.94z\"/><path d=\"M17.41 7.96l-1.37-1.37c-.4-.4-.92-.59-1.43-.59-.52 0-1.04.2-1.43.59L10.3 9.45l-7.72 7.72c-.78.78-.78 2.05 0 2.83L4 21.41c.39.39.9.59 1.41.59.51 0 1.02-.2 1.41-.59l7.78-7.78 2.81-2.81c.8-.78.8-2.07 0-2.86zM5.41 20L4 18.59l7.72-7.72 1.47 1.35L5.41 20z\"/>\n",
              "  </svg>\n",
              "      </button>\n",
              "      \n",
              "  <style>\n",
              "    .colab-df-container {\n",
              "      display:flex;\n",
              "      flex-wrap:wrap;\n",
              "      gap: 12px;\n",
              "    }\n",
              "\n",
              "    .colab-df-convert {\n",
              "      background-color: #E8F0FE;\n",
              "      border: none;\n",
              "      border-radius: 50%;\n",
              "      cursor: pointer;\n",
              "      display: none;\n",
              "      fill: #1967D2;\n",
              "      height: 32px;\n",
              "      padding: 0 0 0 0;\n",
              "      width: 32px;\n",
              "    }\n",
              "\n",
              "    .colab-df-convert:hover {\n",
              "      background-color: #E2EBFA;\n",
              "      box-shadow: 0px 1px 2px rgba(60, 64, 67, 0.3), 0px 1px 3px 1px rgba(60, 64, 67, 0.15);\n",
              "      fill: #174EA6;\n",
              "    }\n",
              "\n",
              "    [theme=dark] .colab-df-convert {\n",
              "      background-color: #3B4455;\n",
              "      fill: #D2E3FC;\n",
              "    }\n",
              "\n",
              "    [theme=dark] .colab-df-convert:hover {\n",
              "      background-color: #434B5C;\n",
              "      box-shadow: 0px 1px 3px 1px rgba(0, 0, 0, 0.15);\n",
              "      filter: drop-shadow(0px 1px 2px rgba(0, 0, 0, 0.3));\n",
              "      fill: #FFFFFF;\n",
              "    }\n",
              "  </style>\n",
              "\n",
              "      <script>\n",
              "        const buttonEl =\n",
              "          document.querySelector('#df-d893acd3-dd34-4c78-b8c5-998e98cc78e6 button.colab-df-convert');\n",
              "        buttonEl.style.display =\n",
              "          google.colab.kernel.accessAllowed ? 'block' : 'none';\n",
              "\n",
              "        async function convertToInteractive(key) {\n",
              "          const element = document.querySelector('#df-d893acd3-dd34-4c78-b8c5-998e98cc78e6');\n",
              "          const dataTable =\n",
              "            await google.colab.kernel.invokeFunction('convertToInteractive',\n",
              "                                                     [key], {});\n",
              "          if (!dataTable) return;\n",
              "\n",
              "          const docLinkHtml = 'Like what you see? Visit the ' +\n",
              "            '<a target=\"_blank\" href=https://colab.research.google.com/notebooks/data_table.ipynb>data table notebook</a>'\n",
              "            + ' to learn more about interactive tables.';\n",
              "          element.innerHTML = '';\n",
              "          dataTable['output_type'] = 'display_data';\n",
              "          await google.colab.output.renderOutput(dataTable, element);\n",
              "          const docLink = document.createElement('div');\n",
              "          docLink.innerHTML = docLinkHtml;\n",
              "          element.appendChild(docLink);\n",
              "        }\n",
              "      </script>\n",
              "    </div>\n",
              "  </div>\n",
              "  "
            ]
          },
          "metadata": {},
          "execution_count": 722
        }
      ]
    },
    {
      "cell_type": "code",
      "source": [
        "X_train, X_test, y_train, y_test =train_test_split(data.drop(labels=['20'], axis=1), data['20'], test_size=0.3, random_state=42)"
      ],
      "metadata": {
        "id": "7oWAd7EuqJ_s"
      },
      "execution_count": null,
      "outputs": []
    },
    {
      "cell_type": "code",
      "source": [
        "# инициализация модели\n",
        "model_tree = RandomForestClassifier(random_state=100, n_estimators=50, max_depth = 5)\n",
        "# обучение модели на данных\n",
        "selector_rfm = model_tree.fit(X_train, y_train)"
      ],
      "metadata": {
        "id": "LwpuuVcqbUeW"
      },
      "execution_count": null,
      "outputs": []
    },
    {
      "cell_type": "code",
      "source": [
        "importances = model_tree.feature_importances_"
      ],
      "metadata": {
        "id": "sSJnU2gNeVrn"
      },
      "execution_count": null,
      "outputs": []
    },
    {
      "cell_type": "code",
      "source": [
        "imp = pd.Series(importances)\n",
        "imp.index = pd.Series(X_train.columns)\n",
        "imp = imp.sort_values(ascending=False)\n",
        "imp"
      ],
      "metadata": {
        "colab": {
          "base_uri": "https://localhost:8080/"
        },
        "id": "juKEJsQpps04",
        "outputId": "d7326824-6405-45fa-e7cf-832d5288bc28"
      },
      "execution_count": null,
      "outputs": [
        {
          "output_type": "execute_result",
          "data": {
            "text/plain": [
              "3     0.280503\n",
              "10    0.180605\n",
              "4     0.109196\n",
              "0     0.044033\n",
              "5     0.035019\n",
              "14    0.032294\n",
              "1     0.029407\n",
              "19    0.028155\n",
              "2     0.027576\n",
              "17    0.027023\n",
              "6     0.026644\n",
              "15    0.026420\n",
              "13    0.025343\n",
              "18    0.024234\n",
              "11    0.021500\n",
              "16    0.019130\n",
              "9     0.017987\n",
              "8     0.016396\n",
              "12    0.016175\n",
              "7     0.012359\n",
              "dtype: float64"
            ]
          },
          "metadata": {},
          "execution_count": 726
        }
      ]
    },
    {
      "cell_type": "code",
      "source": [
        "# оставляем 5 наиболее важных признаков\n",
        "cols = imp.head(5)\n",
        "feat = cols.index"
      ],
      "metadata": {
        "id": "3RtXCHGurQSV"
      },
      "execution_count": null,
      "outputs": []
    },
    {
      "cell_type": "code",
      "source": [
        "feat"
      ],
      "metadata": {
        "colab": {
          "base_uri": "https://localhost:8080/"
        },
        "id": "TdCgWcvPvxRr",
        "outputId": "7a8a70f2-18a0-4e19-a2af-8aacba710b74"
      },
      "execution_count": null,
      "outputs": [
        {
          "output_type": "execute_result",
          "data": {
            "text/plain": [
              "Int64Index([3, 10, 4, 0, 5], dtype='int64')"
            ]
          },
          "metadata": {},
          "execution_count": 728
        }
      ]
    },
    {
      "cell_type": "code",
      "source": [
        "data.columns"
      ],
      "metadata": {
        "colab": {
          "base_uri": "https://localhost:8080/"
        },
        "id": "GEf74jdPx7uw",
        "outputId": "80c81a0b-db67-404e-8665-e5a4a9a60429"
      },
      "execution_count": null,
      "outputs": [
        {
          "output_type": "execute_result",
          "data": {
            "text/plain": [
              "Index([0, 1, 2, 3, 4, 5, 6, 7, 8, 9, 10, 11, 12, 13, 14, 15, 16, 17, 18, 19,\n",
              "       '20'],\n",
              "      dtype='object')"
            ]
          },
          "metadata": {},
          "execution_count": 729
        }
      ]
    },
    {
      "cell_type": "code",
      "source": [
        "# подготовка списка колонок для удаления\n",
        "drop_columns = []\n",
        "for i in data.columns:\n",
        "    if i not in feat:\n",
        "        drop_columns.append(i)\n",
        "drop_columns"
      ],
      "metadata": {
        "colab": {
          "base_uri": "https://localhost:8080/"
        },
        "id": "s9OweXoiyAaw",
        "outputId": "bc1718b8-a316-4524-8db0-b4f235ac46e8"
      },
      "execution_count": null,
      "outputs": [
        {
          "output_type": "execute_result",
          "data": {
            "text/plain": [
              "[1, 2, 6, 7, 8, 9, 11, 12, 13, 14, 15, 16, 17, 18, 19, '20']"
            ]
          },
          "metadata": {},
          "execution_count": 730
        }
      ]
    },
    {
      "cell_type": "code",
      "source": [
        "# новый датасет с отобранными 5-ю наиболее важными признаками\n",
        "data_new_fi = data.drop(columns = drop_columns)"
      ],
      "metadata": {
        "id": "nY6adkwlwo2J"
      },
      "execution_count": null,
      "outputs": []
    },
    {
      "cell_type": "code",
      "source": [
        "data_new_fi.shape"
      ],
      "metadata": {
        "colab": {
          "base_uri": "https://localhost:8080/"
        },
        "id": "9aOm4smbyemy",
        "outputId": "22768ef8-9132-4f1f-8eae-675b75db2a92"
      },
      "execution_count": null,
      "outputs": [
        {
          "output_type": "execute_result",
          "data": {
            "text/plain": [
              "(100, 5)"
            ]
          },
          "metadata": {},
          "execution_count": 732
        }
      ]
    },
    {
      "cell_type": "markdown",
      "source": [
        "#### c) Повторите п. 2 на отобранных признаках в п. 5a, п. 5b."
      ],
      "metadata": {
        "id": "881InMHGT8PP"
      }
    },
    {
      "cell_type": "code",
      "source": [
        "# обучение после отбора признаков на основе SelectFromModel\n",
        "X_sfm_train, X_sfm_test, y_sfm_train, y_sfm_test = train_test_split(X_sfm_l1, y_data_generated, test_size=0.3, random_state=42)"
      ],
      "metadata": {
        "id": "a97iaTSOT-HS"
      },
      "execution_count": null,
      "outputs": []
    },
    {
      "cell_type": "code",
      "source": [
        "model.fit(X_sfm_train, y_sfm_train)"
      ],
      "metadata": {
        "colab": {
          "base_uri": "https://localhost:8080/"
        },
        "id": "O1LilMtWztNe",
        "outputId": "969cfc06-a2a8-4a28-8214-1c174bf2619c"
      },
      "execution_count": null,
      "outputs": [
        {
          "output_type": "execute_result",
          "data": {
            "text/plain": [
              "LogisticRegression()"
            ]
          },
          "metadata": {},
          "execution_count": 734
        }
      ]
    },
    {
      "cell_type": "code",
      "source": [
        "cross_val_score(LogisticRegression(), X_sfm_train, y_sfm_train, scoring='accuracy').mean()"
      ],
      "metadata": {
        "colab": {
          "base_uri": "https://localhost:8080/"
        },
        "id": "NEWkRZ51z3yB",
        "outputId": "2c3ca634-6b76-4b6f-f79d-d914f2b4ea16"
      },
      "execution_count": null,
      "outputs": [
        {
          "output_type": "execute_result",
          "data": {
            "text/plain": [
              "0.8714285714285713"
            ]
          },
          "metadata": {},
          "execution_count": 735
        }
      ]
    },
    {
      "cell_type": "code",
      "source": [
        "score_mean_sfm = cross_val_score(LogisticRegression(), X_sfm_test, y_sfm_test, scoring='accuracy').mean()\n",
        "score_mean_sfm"
      ],
      "metadata": {
        "colab": {
          "base_uri": "https://localhost:8080/"
        },
        "id": "igNHPnjZz1Ek",
        "outputId": "eb09e91b-b27b-4890-a926-88b9944b5452"
      },
      "execution_count": null,
      "outputs": [
        {
          "output_type": "execute_result",
          "data": {
            "text/plain": [
              "0.8"
            ]
          },
          "metadata": {},
          "execution_count": 736
        }
      ]
    },
    {
      "cell_type": "code",
      "source": [
        "# добавление результатов в таблицу сравнений\n",
        "df_conclusion = df_conclusion.append({\n",
        "'way_fs' : 'SelectFromModel',\n",
        "'amount_features' : X_sfm_train.shape[1],\n",
        "'score_mean' : score_mean_sfm\n",
        "}, ignore_index=True)"
      ],
      "metadata": {
        "id": "5oVa2onR0A65"
      },
      "execution_count": null,
      "outputs": []
    },
    {
      "cell_type": "code",
      "source": [
        "# обучение после отбора признаков на основе feature_importance (RandomForest)"
      ],
      "metadata": {
        "id": "691g56Hazeip"
      },
      "execution_count": null,
      "outputs": []
    },
    {
      "cell_type": "code",
      "source": [
        "X_fi_train, X_fi_test, y_fi_train, y_fi_test = train_test_split(data_new_fi, y_data_generated, test_size=0.3, random_state=42)"
      ],
      "metadata": {
        "id": "fbP0wJOQ1GkH"
      },
      "execution_count": null,
      "outputs": []
    },
    {
      "cell_type": "code",
      "source": [
        "model.fit(X_fi_train, y_fi_train)"
      ],
      "metadata": {
        "colab": {
          "base_uri": "https://localhost:8080/"
        },
        "id": "yjfXzpCF1UGO",
        "outputId": "7567e71c-1a28-4a29-8a36-bdaa52e6ef37"
      },
      "execution_count": null,
      "outputs": [
        {
          "output_type": "execute_result",
          "data": {
            "text/plain": [
              "LogisticRegression()"
            ]
          },
          "metadata": {},
          "execution_count": 740
        }
      ]
    },
    {
      "cell_type": "code",
      "source": [
        "cross_val_score(LogisticRegression(), X_fi_train, y_fi_train, scoring='accuracy').mean()"
      ],
      "metadata": {
        "colab": {
          "base_uri": "https://localhost:8080/"
        },
        "id": "_Fm8v5bI1Yjp",
        "outputId": "0999be66-b9a6-453f-e8d0-cff9e548aa39"
      },
      "execution_count": null,
      "outputs": [
        {
          "output_type": "execute_result",
          "data": {
            "text/plain": [
              "0.9"
            ]
          },
          "metadata": {},
          "execution_count": 741
        }
      ]
    },
    {
      "cell_type": "code",
      "source": [
        "score_mean_fi = cross_val_score(LogisticRegression(), X_fi_test, y_fi_test, scoring='accuracy').mean()\n",
        "score_mean_fi"
      ],
      "metadata": {
        "colab": {
          "base_uri": "https://localhost:8080/"
        },
        "id": "K5jQkz-t1eRy",
        "outputId": "eb22826c-0dd1-444d-fcb1-37fe012ee8bd"
      },
      "execution_count": null,
      "outputs": [
        {
          "output_type": "execute_result",
          "data": {
            "text/plain": [
              "0.9333333333333333"
            ]
          },
          "metadata": {},
          "execution_count": 742
        }
      ]
    },
    {
      "cell_type": "code",
      "source": [
        "# добавление результатов в таблицу сравнений\n",
        "df_conclusion = df_conclusion.append({\n",
        "'way_fs' : 'feature_importance(RF)',\n",
        "'amount_features' : X_fi_train.shape[1],\n",
        "'score_mean' : score_mean_fi\n",
        "}, ignore_index=True)"
      ],
      "metadata": {
        "id": "ZPTo0pan1kWD"
      },
      "execution_count": null,
      "outputs": []
    },
    {
      "cell_type": "markdown",
      "source": [
        "### 6.Перебор признаков:\n"
      ],
      "metadata": {
        "id": "LSwrGcy-12z1"
      }
    },
    {
      "cell_type": "markdown",
      "source": [
        "####a) SequentialFeatureSelector.\n"
      ],
      "metadata": {
        "id": "M7dBxsAS17TE"
      }
    },
    {
      "cell_type": "code",
      "source": [
        "from sklearn.feature_selection import SequentialFeatureSelector\n",
        "from sklearn.neighbors import KNeighborsClassifier"
      ],
      "metadata": {
        "id": "a93cW6Of19Zs"
      },
      "execution_count": null,
      "outputs": []
    },
    {
      "cell_type": "code",
      "source": [
        "knn = KNeighborsClassifier(n_neighbors=3)\n",
        "sfs = SequentialFeatureSelector(knn, n_features_to_select=3)\n",
        "sfs.fit(x_data_generated, y_data_generated)\n",
        "SequentialFeatureSelector(estimator=KNeighborsClassifier(n_neighbors=3), n_features_to_select=3)"
      ],
      "metadata": {
        "colab": {
          "base_uri": "https://localhost:8080/"
        },
        "id": "bzMYuHSL2dZm",
        "outputId": "c9743017-87d4-41f1-cc98-bbfc96eb9764"
      },
      "execution_count": null,
      "outputs": [
        {
          "output_type": "execute_result",
          "data": {
            "text/plain": [
              "SequentialFeatureSelector(estimator=KNeighborsClassifier(n_neighbors=3),\n",
              "                          n_features_to_select=3)"
            ]
          },
          "metadata": {},
          "execution_count": 745
        }
      ]
    },
    {
      "cell_type": "code",
      "source": [
        "X_sfs = sfs.transform(x_data_generated)\n",
        "X_sfs.shape"
      ],
      "metadata": {
        "colab": {
          "base_uri": "https://localhost:8080/"
        },
        "id": "PIyZCGY82thG",
        "outputId": "1db3e80f-e5a8-4b73-e3de-e11506484237"
      },
      "execution_count": null,
      "outputs": [
        {
          "output_type": "execute_result",
          "data": {
            "text/plain": [
              "(100, 3)"
            ]
          },
          "metadata": {},
          "execution_count": 746
        }
      ]
    },
    {
      "cell_type": "markdown",
      "source": [
        "#### b) Повторите п. 2 на отобранных признаках."
      ],
      "metadata": {
        "id": "wmItLMq71970"
      }
    },
    {
      "cell_type": "code",
      "source": [
        "X_sfs_train, X_sfs_test, y_sfs_train, y_sfs_test = train_test_split(X_sfs, y_data_generated, test_size=0.3, random_state=42)"
      ],
      "metadata": {
        "id": "cq0kui1S1_oq"
      },
      "execution_count": null,
      "outputs": []
    },
    {
      "cell_type": "code",
      "source": [
        "model.fit(X_sfs_train, y_sfs_train)"
      ],
      "metadata": {
        "colab": {
          "base_uri": "https://localhost:8080/"
        },
        "id": "HtUgzLIx3GaD",
        "outputId": "2b59ac29-50f6-46ae-81e2-6e2c53a52886"
      },
      "execution_count": null,
      "outputs": [
        {
          "output_type": "execute_result",
          "data": {
            "text/plain": [
              "LogisticRegression()"
            ]
          },
          "metadata": {},
          "execution_count": 748
        }
      ]
    },
    {
      "cell_type": "code",
      "source": [
        "cross_val_score(LogisticRegression(), X_sfs_train, y_sfs_train, scoring='accuracy').mean()"
      ],
      "metadata": {
        "colab": {
          "base_uri": "https://localhost:8080/"
        },
        "id": "T3RKKsiO3HD_",
        "outputId": "793e945e-736b-43f1-a36a-82eae0620ce1"
      },
      "execution_count": null,
      "outputs": [
        {
          "output_type": "execute_result",
          "data": {
            "text/plain": [
              "0.8714285714285713"
            ]
          },
          "metadata": {},
          "execution_count": 749
        }
      ]
    },
    {
      "cell_type": "code",
      "source": [
        "score_mean_sfs = cross_val_score(LogisticRegression(), X_sfs_test, y_sfs_test, scoring='accuracy').mean()\n",
        "score_mean_sfs"
      ],
      "metadata": {
        "colab": {
          "base_uri": "https://localhost:8080/"
        },
        "id": "R0AwnIjE3J3J",
        "outputId": "7e9742e9-75fa-4b47-adae-d0ca1b13511c"
      },
      "execution_count": null,
      "outputs": [
        {
          "output_type": "execute_result",
          "data": {
            "text/plain": [
              "0.9"
            ]
          },
          "metadata": {},
          "execution_count": 750
        }
      ]
    },
    {
      "cell_type": "code",
      "source": [
        "# добавление результатов в таблицу сравнений\n",
        "df_conclusion = df_conclusion.append({\n",
        "'way_fs' : 'SequentialFeatureSelector',\n",
        "'amount_features' : X_sfs_train.shape[1],\n",
        "'score_mean' : score_mean_sfs\n",
        "}, ignore_index=True)"
      ],
      "metadata": {
        "id": "EBqTkAfY3La3"
      },
      "execution_count": null,
      "outputs": []
    },
    {
      "cell_type": "markdown",
      "source": [
        "### 7.Сформулируйте выводы по проделанной работе:\n",
        "a) Сделайте таблицу вида |способ выбора признаков|количество признаков|средняя точность модели|."
      ],
      "metadata": {
        "id": "2TAF1xWa3qVQ"
      }
    },
    {
      "cell_type": "code",
      "source": [
        "df_conclusion"
      ],
      "metadata": {
        "colab": {
          "base_uri": "https://localhost:8080/",
          "height": 237
        },
        "id": "5Ch4ISi23l1g",
        "outputId": "b2c1f89f-c3e8-4c5c-cc59-2addccefc2de"
      },
      "execution_count": null,
      "outputs": [
        {
          "output_type": "execute_result",
          "data": {
            "text/plain": [
              "                      way_fs amount_features  score_mean\n",
              "0                       none              20    0.933333\n",
              "1          VarianceThreshold              15    0.500000\n",
              "2                SelectKBest               5    0.933333\n",
              "3            SelectFromModel              12    0.800000\n",
              "4     feature_importance(RF)               5    0.933333\n",
              "5  SequentialFeatureSelector               3    0.900000"
            ],
            "text/html": [
              "\n",
              "  <div id=\"df-642a8795-dff6-45c5-8aa6-990928e54f99\">\n",
              "    <div class=\"colab-df-container\">\n",
              "      <div>\n",
              "<style scoped>\n",
              "    .dataframe tbody tr th:only-of-type {\n",
              "        vertical-align: middle;\n",
              "    }\n",
              "\n",
              "    .dataframe tbody tr th {\n",
              "        vertical-align: top;\n",
              "    }\n",
              "\n",
              "    .dataframe thead th {\n",
              "        text-align: right;\n",
              "    }\n",
              "</style>\n",
              "<table border=\"1\" class=\"dataframe\">\n",
              "  <thead>\n",
              "    <tr style=\"text-align: right;\">\n",
              "      <th></th>\n",
              "      <th>way_fs</th>\n",
              "      <th>amount_features</th>\n",
              "      <th>score_mean</th>\n",
              "    </tr>\n",
              "  </thead>\n",
              "  <tbody>\n",
              "    <tr>\n",
              "      <th>0</th>\n",
              "      <td>none</td>\n",
              "      <td>20</td>\n",
              "      <td>0.933333</td>\n",
              "    </tr>\n",
              "    <tr>\n",
              "      <th>1</th>\n",
              "      <td>VarianceThreshold</td>\n",
              "      <td>15</td>\n",
              "      <td>0.500000</td>\n",
              "    </tr>\n",
              "    <tr>\n",
              "      <th>2</th>\n",
              "      <td>SelectKBest</td>\n",
              "      <td>5</td>\n",
              "      <td>0.933333</td>\n",
              "    </tr>\n",
              "    <tr>\n",
              "      <th>3</th>\n",
              "      <td>SelectFromModel</td>\n",
              "      <td>12</td>\n",
              "      <td>0.800000</td>\n",
              "    </tr>\n",
              "    <tr>\n",
              "      <th>4</th>\n",
              "      <td>feature_importance(RF)</td>\n",
              "      <td>5</td>\n",
              "      <td>0.933333</td>\n",
              "    </tr>\n",
              "    <tr>\n",
              "      <th>5</th>\n",
              "      <td>SequentialFeatureSelector</td>\n",
              "      <td>3</td>\n",
              "      <td>0.900000</td>\n",
              "    </tr>\n",
              "  </tbody>\n",
              "</table>\n",
              "</div>\n",
              "      <button class=\"colab-df-convert\" onclick=\"convertToInteractive('df-642a8795-dff6-45c5-8aa6-990928e54f99')\"\n",
              "              title=\"Convert this dataframe to an interactive table.\"\n",
              "              style=\"display:none;\">\n",
              "        \n",
              "  <svg xmlns=\"http://www.w3.org/2000/svg\" height=\"24px\"viewBox=\"0 0 24 24\"\n",
              "       width=\"24px\">\n",
              "    <path d=\"M0 0h24v24H0V0z\" fill=\"none\"/>\n",
              "    <path d=\"M18.56 5.44l.94 2.06.94-2.06 2.06-.94-2.06-.94-.94-2.06-.94 2.06-2.06.94zm-11 1L8.5 8.5l.94-2.06 2.06-.94-2.06-.94L8.5 2.5l-.94 2.06-2.06.94zm10 10l.94 2.06.94-2.06 2.06-.94-2.06-.94-.94-2.06-.94 2.06-2.06.94z\"/><path d=\"M17.41 7.96l-1.37-1.37c-.4-.4-.92-.59-1.43-.59-.52 0-1.04.2-1.43.59L10.3 9.45l-7.72 7.72c-.78.78-.78 2.05 0 2.83L4 21.41c.39.39.9.59 1.41.59.51 0 1.02-.2 1.41-.59l7.78-7.78 2.81-2.81c.8-.78.8-2.07 0-2.86zM5.41 20L4 18.59l7.72-7.72 1.47 1.35L5.41 20z\"/>\n",
              "  </svg>\n",
              "      </button>\n",
              "      \n",
              "  <style>\n",
              "    .colab-df-container {\n",
              "      display:flex;\n",
              "      flex-wrap:wrap;\n",
              "      gap: 12px;\n",
              "    }\n",
              "\n",
              "    .colab-df-convert {\n",
              "      background-color: #E8F0FE;\n",
              "      border: none;\n",
              "      border-radius: 50%;\n",
              "      cursor: pointer;\n",
              "      display: none;\n",
              "      fill: #1967D2;\n",
              "      height: 32px;\n",
              "      padding: 0 0 0 0;\n",
              "      width: 32px;\n",
              "    }\n",
              "\n",
              "    .colab-df-convert:hover {\n",
              "      background-color: #E2EBFA;\n",
              "      box-shadow: 0px 1px 2px rgba(60, 64, 67, 0.3), 0px 1px 3px 1px rgba(60, 64, 67, 0.15);\n",
              "      fill: #174EA6;\n",
              "    }\n",
              "\n",
              "    [theme=dark] .colab-df-convert {\n",
              "      background-color: #3B4455;\n",
              "      fill: #D2E3FC;\n",
              "    }\n",
              "\n",
              "    [theme=dark] .colab-df-convert:hover {\n",
              "      background-color: #434B5C;\n",
              "      box-shadow: 0px 1px 3px 1px rgba(0, 0, 0, 0.15);\n",
              "      filter: drop-shadow(0px 1px 2px rgba(0, 0, 0, 0.3));\n",
              "      fill: #FFFFFF;\n",
              "    }\n",
              "  </style>\n",
              "\n",
              "      <script>\n",
              "        const buttonEl =\n",
              "          document.querySelector('#df-642a8795-dff6-45c5-8aa6-990928e54f99 button.colab-df-convert');\n",
              "        buttonEl.style.display =\n",
              "          google.colab.kernel.accessAllowed ? 'block' : 'none';\n",
              "\n",
              "        async function convertToInteractive(key) {\n",
              "          const element = document.querySelector('#df-642a8795-dff6-45c5-8aa6-990928e54f99');\n",
              "          const dataTable =\n",
              "            await google.colab.kernel.invokeFunction('convertToInteractive',\n",
              "                                                     [key], {});\n",
              "          if (!dataTable) return;\n",
              "\n",
              "          const docLinkHtml = 'Like what you see? Visit the ' +\n",
              "            '<a target=\"_blank\" href=https://colab.research.google.com/notebooks/data_table.ipynb>data table notebook</a>'\n",
              "            + ' to learn more about interactive tables.';\n",
              "          element.innerHTML = '';\n",
              "          dataTable['output_type'] = 'display_data';\n",
              "          await google.colab.output.renderOutput(dataTable, element);\n",
              "          const docLink = document.createElement('div');\n",
              "          docLink.innerHTML = docLinkHtml;\n",
              "          element.appendChild(docLink);\n",
              "        }\n",
              "      </script>\n",
              "    </div>\n",
              "  </div>\n",
              "  "
            ]
          },
          "metadata": {},
          "execution_count": 752
        }
      ]
    },
    {
      "cell_type": "markdown",
      "source": [
        "Вывод: на указанных данных лучшие результаты отбора признаков показала модель RandomForest метод feature_importance и модель SelectKBest, но их результат не превысил базовый без отбора признаков."
      ],
      "metadata": {
        "id": "85ykoQed44_E"
      }
    }
  ]
}