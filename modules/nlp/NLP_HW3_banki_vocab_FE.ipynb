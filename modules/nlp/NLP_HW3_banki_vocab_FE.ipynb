{
  "nbformat": 4,
  "nbformat_minor": 0,
  "metadata": {
    "colab": {
      "provenance": [],
      "toc_visible": true
    },
    "kernelspec": {
      "name": "python3",
      "display_name": "Python 3"
    },
    "language_info": {
      "name": "python"
    },
    "accelerator": "GPU",
    "gpuClass": "standard"
  },
  "cells": [
    {
      "cell_type": "markdown",
      "source": [
        "#Задание  \n",
        "**Цель:**  \n",
        "получить навыки решения классических задач NLP  \n",
        "\n",
        "Задание 1: составить словари для классификации по тональности.\n",
        "Данные для задания — отзывы\n",
        "на банки, собранные с нескольких сайтов рунета. Отзывы могут быть как положительными\n",
        "\n",
        "— оценка 5, так и отрицательными — оценка 1.\n",
        "\n",
        "    Разбейте всю коллекцию отзывов на предложения. Лемматизируйте все слова.\n",
        "\n",
        "Обучите по коллекции предложений word2vec\n",
        "\n",
        "    Приведите несколько удачных и неудачных примеров решения стандартных\n",
        "\n",
        "текстов для word2vec:\n",
        "\n",
        "    тест на определение ближайших слов\n",
        "    тест на аналогии (мужчина — король : женщина — королева)\n",
        "    тест на определение лишнего слова\n",
        "\n",
        "    Постройте несколько визуализаций:\n",
        "\n",
        "    TSNE для топ-100 или топ-500 слов и найдите осмысленные кластеры слов\n",
        "    задайте координаты для нового пространства следующим образом: одна ось описывает отношение «плохо — хорошо», вторая — «медленно — быстро», и найдите координаты названий банков в этих координатах\n",
        "\n",
        "Задание 2: распространить метку.\n",
        "\n",
        "    Определите 5–8 позитивных слов (например, быстрый, удобный) и 5–8 негативных слов (например, очередь, медленно). Эти слова будут основной будущего оценочного словаря\n",
        "    Пусть позитивному классу соответствует метка 1, негативному — -1\n",
        "    Пометьте выбранные слова в лексическом графе соответствующими метками\n",
        "    Запустите любой известный вам метод распространения метки (Label Propogation) в лексическом графе\n",
        "    На выходе метода распространения ошибки должны быть новые слова, помеченные метками 1 и -1 — это и есть искомые оценочные слова\n"
      ],
      "metadata": {
        "id": "q2M5I7JEClAq"
      }
    },
    {
      "cell_type": "code",
      "execution_count": null,
      "metadata": {
        "colab": {
          "base_uri": "https://localhost:8080/"
        },
        "id": "tFeZ7ppuelP-",
        "outputId": "c2fecd9e-c82f-4565-cf89-a1d8e8a9ed5f"
      },
      "outputs": [
        {
          "output_type": "stream",
          "name": "stdout",
          "text": [
            "Populating the interactive namespace from numpy and matplotlib\n"
          ]
        }
      ],
      "source": [
        "import json\n",
        "import bz2\n",
        "import regex\n",
        "from tqdm import tqdm\n",
        "from scipy import sparse\n",
        "\n",
        "import pandas as pd\n",
        "import numpy as np\n",
        "import nltk\n",
        "import matplotlib.pyplot as plt\n",
        "import seaborn as sns\n",
        "%matplotlib inline\n",
        "%pylab inline"
      ]
    },
    {
      "cell_type": "markdown",
      "source": [],
      "metadata": {
        "id": "OQsgaMxoCe6P"
      }
    },
    {
      "cell_type": "code",
      "source": [
        "tqdm.pandas()\n",
        "import nltk\n",
        "nltk.download('punkt')"
      ],
      "metadata": {
        "id": "CcXJjpI9q91w"
      },
      "execution_count": null,
      "outputs": []
    },
    {
      "cell_type": "code",
      "source": [
        "import warnings\n",
        "warnings.filterwarnings('ignore')"
      ],
      "metadata": {
        "id": "qSQtYIbyDv-p"
      },
      "execution_count": null,
      "outputs": []
    },
    {
      "cell_type": "markdown",
      "source": [
        "### Задание 1: составить словари для классификации по тональности.\n",
        "\n",
        "* Разбейте всю коллекцию отзывов на предложения. Лемматизируйте все слова.\n",
        "* Обучите по коллекции предложений word2vec\n",
        "* Приведите несколько удачных и неудачных примеров решения стандартных текстов для word2vec:\n",
        "\n",
        "    тест на определение ближайших слов\n",
        "    тест на аналогии (мужчина — король : женщина — королева)\n",
        "    тест на определение лишнего слова\n",
        "\n",
        "* Постройте несколько визуализаций:\n",
        "\n",
        " * TSNE для топ-100 или топ-500 слов и найдите осмысленные кластеры слов\n",
        " * задайте координаты для нового пространства следующим образом: одна ось описывает отношение «плохо — хорошо», вторая — «медленно — быстро», и найдите координаты названий банков в этих координатах\n"
      ],
      "metadata": {
        "id": "ohKiAkrRg25O"
      }
    },
    {
      "cell_type": "code",
      "source": [
        "# загрузка данных\n",
        "responses = []\n",
        "with bz2.BZ2File('/content/drive/MyDrive/banki_responses.json.bz2', 'r') as thefile:\n",
        "    for row in tqdm(thefile):\n",
        "        resp = json.loads(row)\n",
        "        if not resp['rating_not_checked'] and (len(resp['text'].split()) > 0):\n",
        "            responses.append(resp)"
      ],
      "metadata": {
        "colab": {
          "base_uri": "https://localhost:8080/"
        },
        "id": "TsEzNTVXhXXY",
        "outputId": "3a95bd9d-45d6-4d23-d638-f5e44e0cf05c"
      },
      "execution_count": null,
      "outputs": [
        {
          "output_type": "stream",
          "name": "stderr",
          "text": [
            "201030it [01:09, 2893.43it/s]\n"
          ]
        }
      ]
    },
    {
      "cell_type": "code",
      "source": [
        "responses[0]"
      ],
      "metadata": {
        "colab": {
          "base_uri": "https://localhost:8080/"
        },
        "id": "-cj5cX5OiunM",
        "outputId": "d2408ce2-0f94-49a6-dd9c-33589f3bc130"
      },
      "execution_count": null,
      "outputs": [
        {
          "output_type": "execute_result",
          "data": {
            "text/plain": [
              "{'city': 'г. Москва',\n",
              " 'rating_not_checked': False,\n",
              " 'title': 'Жалоба',\n",
              " 'num_comments': 0,\n",
              " 'bank_license': 'лицензия № 2562',\n",
              " 'author': 'uhnov1',\n",
              " 'bank_name': 'Бинбанк',\n",
              " 'datetime': '2015-06-08 12:50:54',\n",
              " 'text': 'Добрый день! Я не являюсь клиентом банка и поручителем по кредитному договору, а также не являюсь каким-либо другим лицом, письменно  оформившим отношения с банком по поводу урегулирования чьей-либо  задолженности.  Начиная с марта 2015 года начали приходить бесконечные письма из ООО \"Примо коллект\"на мой адрес: город Москва, Уваровский переулок, дом 10, квартира 111, с угрозами о возбуждении уголовного дела в отношении гражданина Филиппова Эдуарда Владимировича, который уклоняется от уплаты взятых им кредитов: договор № 81014 от 20.10.2013 года и договор № 2464946 от 09.10.2014 года. Со всей ответственностью\\xa0 хочу Вас заверить, что вышеуказанный гражданин, которого Вы разыскиваете, мне не знаком и никогда в моем адресе не был зарегистрирован. Каким образом Вы не удостоверившись в подлинности его документов оформили на его имя кредитный договор, мне по меньшей мере не понятно,\\xa0 и почему по Вашей милости я должна переживать и бояться за себе и свое имущество. Письма доставляют мне серьезные неудобства, нарушают мои гражданские права, а также нарушают закон о защите персональных данных. Убедительно прошу прекратить посылать на мой адрес письма с угрозами по вопросам, к которым я не имею отношения. В случае отклонения моей претензии буду вынуждена обратиться с жалобами в  другие органы: Росспотребнадзор, Центральный банк, Службу Финансового  омбудсмена. Кроме этого будет подано заявление в полицию и заявление в  суд возмещение причиненного мне морального вреда. Надеюсь на скорое решение моего вопроса.',\n",
              " 'rating_grade': None}"
            ]
          },
          "metadata": {},
          "execution_count": 5
        }
      ]
    },
    {
      "cell_type": "code",
      "source": [
        "data = pd.DataFrame.from_dict(responses)"
      ],
      "metadata": {
        "id": "iFr4iiH5P8pB"
      },
      "execution_count": null,
      "outputs": []
    },
    {
      "cell_type": "code",
      "source": [
        "# создание датафрейма из списка словарей\n",
        "df = pd.DataFrame.from_dict(responses)\n",
        "df"
      ],
      "metadata": {
        "colab": {
          "base_uri": "https://localhost:8080/",
          "height": 641
        },
        "id": "8thPDOmoiU2a",
        "outputId": "a1d7c31a-9026-4700-c9b8-7a5368ff2f24"
      },
      "execution_count": null,
      "outputs": [
        {
          "output_type": "execute_result",
          "data": {
            "text/plain": [
              "                  city  rating_not_checked  \\\n",
              "0            г. Москва               False   \n",
              "1       г. Новосибирск               False   \n",
              "2            г. Москва               False   \n",
              "3        г. Ставрополь               False   \n",
              "4         г. Челябинск               False   \n",
              "...                ...                 ...   \n",
              "153494            None               False   \n",
              "153495            None               False   \n",
              "153496            None               False   \n",
              "153497            None               False   \n",
              "153498            None               False   \n",
              "\n",
              "                                                    title  num_comments  \\\n",
              "0                                                  Жалоба             0   \n",
              "1           Не могу пользоваться услугой Сбербанк он-лайн             0   \n",
              "2                         Двойное списание за один товар.             1   \n",
              "3       Меняют проценты комиссии  не предупредив и не ...             2   \n",
              "4                  Верните денежные средства за страховку             1   \n",
              "...                                                   ...           ...   \n",
              "153494                                 Не все так страшно             0   \n",
              "153495                               А вы договор читали?             0   \n",
              "153496                    Филиал банка \"ОВК\" в г. Иваново             1   \n",
              "153497            В Альфа-Банк больше обращаться не буду.             0   \n",
              "153498                                    Быстро и удобно             0   \n",
              "\n",
              "           bank_license       author        bank_name             datetime  \\\n",
              "0       лицензия № 2562       uhnov1          Бинбанк  2015-06-08 12:50:54   \n",
              "1       лицензия № 1481       Foryou  Сбербанк России  2015-06-08 11:09:57   \n",
              "2       лицензия № 2562   Vladimir84          Бинбанк  2015-06-05 20:14:28   \n",
              "3       лицензия № 1481       643609  Сбербанк России  2015-06-05 13:51:01   \n",
              "4       лицензия № 2766  anfisa-2003         ОТП Банк  2015-06-05 10:58:12   \n",
              "...                 ...          ...              ...                  ...   \n",
              "153494  лицензия № 2557         Вера         Ситибанк  2005-05-18 14:38:00   \n",
              "153495  лицензия № 2557       Kirill         Ситибанк  2005-04-14 15:25:00   \n",
              "153496  лицензия № 2272   AlexU-post          Росбанк  2005-04-08 14:07:00   \n",
              "153497  лицензия № 1326        Ирина       Альфа-Банк  2005-04-14 15:16:00   \n",
              "153498  лицензия № 1326        Денис       Альфа-Банк  2005-04-13 17:43:00   \n",
              "\n",
              "                                                     text  rating_grade  \n",
              "0       Добрый день! Я не являюсь клиентом банка и пор...           NaN  \n",
              "1       Доброго дня! Являюсь держателем зарплатной кар...           NaN  \n",
              "2       Здравствуйте!  Дублирую свое заявление от 03.0...           NaN  \n",
              "3       Добрый день!! Я открыл расчетный счет в СберБа...           NaN  \n",
              "4       04.03.2015 г. взяла кредит в вашем банке, заяв...           NaN  \n",
              "...                                                   ...           ...  \n",
              "153494  Слишком большой банк, не всегда учитывает нашу...           5.0  \n",
              "153495  Вы сами виноваты в своих проблемах, кроме пред...           3.0  \n",
              "153496  Уважаемое руководство банка «ОВК»! Я проживаю ...           1.0  \n",
              "153497  Пробовала 10.04.05 оформить товар в кредит в А...           1.0  \n",
              "153498  Если коротко, то мне нравится. Кридит получать...           5.0  \n",
              "\n",
              "[153499 rows x 10 columns]"
            ],
            "text/html": [
              "\n",
              "  <div id=\"df-7f3077a7-3650-47e9-b2a9-e9b9a3512aa5\">\n",
              "    <div class=\"colab-df-container\">\n",
              "      <div>\n",
              "<style scoped>\n",
              "    .dataframe tbody tr th:only-of-type {\n",
              "        vertical-align: middle;\n",
              "    }\n",
              "\n",
              "    .dataframe tbody tr th {\n",
              "        vertical-align: top;\n",
              "    }\n",
              "\n",
              "    .dataframe thead th {\n",
              "        text-align: right;\n",
              "    }\n",
              "</style>\n",
              "<table border=\"1\" class=\"dataframe\">\n",
              "  <thead>\n",
              "    <tr style=\"text-align: right;\">\n",
              "      <th></th>\n",
              "      <th>city</th>\n",
              "      <th>rating_not_checked</th>\n",
              "      <th>title</th>\n",
              "      <th>num_comments</th>\n",
              "      <th>bank_license</th>\n",
              "      <th>author</th>\n",
              "      <th>bank_name</th>\n",
              "      <th>datetime</th>\n",
              "      <th>text</th>\n",
              "      <th>rating_grade</th>\n",
              "    </tr>\n",
              "  </thead>\n",
              "  <tbody>\n",
              "    <tr>\n",
              "      <th>0</th>\n",
              "      <td>г. Москва</td>\n",
              "      <td>False</td>\n",
              "      <td>Жалоба</td>\n",
              "      <td>0</td>\n",
              "      <td>лицензия № 2562</td>\n",
              "      <td>uhnov1</td>\n",
              "      <td>Бинбанк</td>\n",
              "      <td>2015-06-08 12:50:54</td>\n",
              "      <td>Добрый день! Я не являюсь клиентом банка и пор...</td>\n",
              "      <td>NaN</td>\n",
              "    </tr>\n",
              "    <tr>\n",
              "      <th>1</th>\n",
              "      <td>г. Новосибирск</td>\n",
              "      <td>False</td>\n",
              "      <td>Не могу пользоваться услугой Сбербанк он-лайн</td>\n",
              "      <td>0</td>\n",
              "      <td>лицензия № 1481</td>\n",
              "      <td>Foryou</td>\n",
              "      <td>Сбербанк России</td>\n",
              "      <td>2015-06-08 11:09:57</td>\n",
              "      <td>Доброго дня! Являюсь держателем зарплатной кар...</td>\n",
              "      <td>NaN</td>\n",
              "    </tr>\n",
              "    <tr>\n",
              "      <th>2</th>\n",
              "      <td>г. Москва</td>\n",
              "      <td>False</td>\n",
              "      <td>Двойное списание за один товар.</td>\n",
              "      <td>1</td>\n",
              "      <td>лицензия № 2562</td>\n",
              "      <td>Vladimir84</td>\n",
              "      <td>Бинбанк</td>\n",
              "      <td>2015-06-05 20:14:28</td>\n",
              "      <td>Здравствуйте!  Дублирую свое заявление от 03.0...</td>\n",
              "      <td>NaN</td>\n",
              "    </tr>\n",
              "    <tr>\n",
              "      <th>3</th>\n",
              "      <td>г. Ставрополь</td>\n",
              "      <td>False</td>\n",
              "      <td>Меняют проценты комиссии  не предупредив и не ...</td>\n",
              "      <td>2</td>\n",
              "      <td>лицензия № 1481</td>\n",
              "      <td>643609</td>\n",
              "      <td>Сбербанк России</td>\n",
              "      <td>2015-06-05 13:51:01</td>\n",
              "      <td>Добрый день!! Я открыл расчетный счет в СберБа...</td>\n",
              "      <td>NaN</td>\n",
              "    </tr>\n",
              "    <tr>\n",
              "      <th>4</th>\n",
              "      <td>г. Челябинск</td>\n",
              "      <td>False</td>\n",
              "      <td>Верните денежные средства за страховку</td>\n",
              "      <td>1</td>\n",
              "      <td>лицензия № 2766</td>\n",
              "      <td>anfisa-2003</td>\n",
              "      <td>ОТП Банк</td>\n",
              "      <td>2015-06-05 10:58:12</td>\n",
              "      <td>04.03.2015 г. взяла кредит в вашем банке, заяв...</td>\n",
              "      <td>NaN</td>\n",
              "    </tr>\n",
              "    <tr>\n",
              "      <th>...</th>\n",
              "      <td>...</td>\n",
              "      <td>...</td>\n",
              "      <td>...</td>\n",
              "      <td>...</td>\n",
              "      <td>...</td>\n",
              "      <td>...</td>\n",
              "      <td>...</td>\n",
              "      <td>...</td>\n",
              "      <td>...</td>\n",
              "      <td>...</td>\n",
              "    </tr>\n",
              "    <tr>\n",
              "      <th>153494</th>\n",
              "      <td>None</td>\n",
              "      <td>False</td>\n",
              "      <td>Не все так страшно</td>\n",
              "      <td>0</td>\n",
              "      <td>лицензия № 2557</td>\n",
              "      <td>Вера</td>\n",
              "      <td>Ситибанк</td>\n",
              "      <td>2005-05-18 14:38:00</td>\n",
              "      <td>Слишком большой банк, не всегда учитывает нашу...</td>\n",
              "      <td>5.0</td>\n",
              "    </tr>\n",
              "    <tr>\n",
              "      <th>153495</th>\n",
              "      <td>None</td>\n",
              "      <td>False</td>\n",
              "      <td>А вы договор читали?</td>\n",
              "      <td>0</td>\n",
              "      <td>лицензия № 2557</td>\n",
              "      <td>Kirill</td>\n",
              "      <td>Ситибанк</td>\n",
              "      <td>2005-04-14 15:25:00</td>\n",
              "      <td>Вы сами виноваты в своих проблемах, кроме пред...</td>\n",
              "      <td>3.0</td>\n",
              "    </tr>\n",
              "    <tr>\n",
              "      <th>153496</th>\n",
              "      <td>None</td>\n",
              "      <td>False</td>\n",
              "      <td>Филиал банка \"ОВК\" в г. Иваново</td>\n",
              "      <td>1</td>\n",
              "      <td>лицензия № 2272</td>\n",
              "      <td>AlexU-post</td>\n",
              "      <td>Росбанк</td>\n",
              "      <td>2005-04-08 14:07:00</td>\n",
              "      <td>Уважаемое руководство банка «ОВК»! Я проживаю ...</td>\n",
              "      <td>1.0</td>\n",
              "    </tr>\n",
              "    <tr>\n",
              "      <th>153497</th>\n",
              "      <td>None</td>\n",
              "      <td>False</td>\n",
              "      <td>В Альфа-Банк больше обращаться не буду.</td>\n",
              "      <td>0</td>\n",
              "      <td>лицензия № 1326</td>\n",
              "      <td>Ирина</td>\n",
              "      <td>Альфа-Банк</td>\n",
              "      <td>2005-04-14 15:16:00</td>\n",
              "      <td>Пробовала 10.04.05 оформить товар в кредит в А...</td>\n",
              "      <td>1.0</td>\n",
              "    </tr>\n",
              "    <tr>\n",
              "      <th>153498</th>\n",
              "      <td>None</td>\n",
              "      <td>False</td>\n",
              "      <td>Быстро и удобно</td>\n",
              "      <td>0</td>\n",
              "      <td>лицензия № 1326</td>\n",
              "      <td>Денис</td>\n",
              "      <td>Альфа-Банк</td>\n",
              "      <td>2005-04-13 17:43:00</td>\n",
              "      <td>Если коротко, то мне нравится. Кридит получать...</td>\n",
              "      <td>5.0</td>\n",
              "    </tr>\n",
              "  </tbody>\n",
              "</table>\n",
              "<p>153499 rows × 10 columns</p>\n",
              "</div>\n",
              "      <button class=\"colab-df-convert\" onclick=\"convertToInteractive('df-7f3077a7-3650-47e9-b2a9-e9b9a3512aa5')\"\n",
              "              title=\"Convert this dataframe to an interactive table.\"\n",
              "              style=\"display:none;\">\n",
              "        \n",
              "  <svg xmlns=\"http://www.w3.org/2000/svg\" height=\"24px\"viewBox=\"0 0 24 24\"\n",
              "       width=\"24px\">\n",
              "    <path d=\"M0 0h24v24H0V0z\" fill=\"none\"/>\n",
              "    <path d=\"M18.56 5.44l.94 2.06.94-2.06 2.06-.94-2.06-.94-.94-2.06-.94 2.06-2.06.94zm-11 1L8.5 8.5l.94-2.06 2.06-.94-2.06-.94L8.5 2.5l-.94 2.06-2.06.94zm10 10l.94 2.06.94-2.06 2.06-.94-2.06-.94-.94-2.06-.94 2.06-2.06.94z\"/><path d=\"M17.41 7.96l-1.37-1.37c-.4-.4-.92-.59-1.43-.59-.52 0-1.04.2-1.43.59L10.3 9.45l-7.72 7.72c-.78.78-.78 2.05 0 2.83L4 21.41c.39.39.9.59 1.41.59.51 0 1.02-.2 1.41-.59l7.78-7.78 2.81-2.81c.8-.78.8-2.07 0-2.86zM5.41 20L4 18.59l7.72-7.72 1.47 1.35L5.41 20z\"/>\n",
              "  </svg>\n",
              "      </button>\n",
              "      \n",
              "  <style>\n",
              "    .colab-df-container {\n",
              "      display:flex;\n",
              "      flex-wrap:wrap;\n",
              "      gap: 12px;\n",
              "    }\n",
              "\n",
              "    .colab-df-convert {\n",
              "      background-color: #E8F0FE;\n",
              "      border: none;\n",
              "      border-radius: 50%;\n",
              "      cursor: pointer;\n",
              "      display: none;\n",
              "      fill: #1967D2;\n",
              "      height: 32px;\n",
              "      padding: 0 0 0 0;\n",
              "      width: 32px;\n",
              "    }\n",
              "\n",
              "    .colab-df-convert:hover {\n",
              "      background-color: #E2EBFA;\n",
              "      box-shadow: 0px 1px 2px rgba(60, 64, 67, 0.3), 0px 1px 3px 1px rgba(60, 64, 67, 0.15);\n",
              "      fill: #174EA6;\n",
              "    }\n",
              "\n",
              "    [theme=dark] .colab-df-convert {\n",
              "      background-color: #3B4455;\n",
              "      fill: #D2E3FC;\n",
              "    }\n",
              "\n",
              "    [theme=dark] .colab-df-convert:hover {\n",
              "      background-color: #434B5C;\n",
              "      box-shadow: 0px 1px 3px 1px rgba(0, 0, 0, 0.15);\n",
              "      filter: drop-shadow(0px 1px 2px rgba(0, 0, 0, 0.3));\n",
              "      fill: #FFFFFF;\n",
              "    }\n",
              "  </style>\n",
              "\n",
              "      <script>\n",
              "        const buttonEl =\n",
              "          document.querySelector('#df-7f3077a7-3650-47e9-b2a9-e9b9a3512aa5 button.colab-df-convert');\n",
              "        buttonEl.style.display =\n",
              "          google.colab.kernel.accessAllowed ? 'block' : 'none';\n",
              "\n",
              "        async function convertToInteractive(key) {\n",
              "          const element = document.querySelector('#df-7f3077a7-3650-47e9-b2a9-e9b9a3512aa5');\n",
              "          const dataTable =\n",
              "            await google.colab.kernel.invokeFunction('convertToInteractive',\n",
              "                                                     [key], {});\n",
              "          if (!dataTable) return;\n",
              "\n",
              "          const docLinkHtml = 'Like what you see? Visit the ' +\n",
              "            '<a target=\"_blank\" href=https://colab.research.google.com/notebooks/data_table.ipynb>data table notebook</a>'\n",
              "            + ' to learn more about interactive tables.';\n",
              "          element.innerHTML = '';\n",
              "          dataTable['output_type'] = 'display_data';\n",
              "          await google.colab.output.renderOutput(dataTable, element);\n",
              "          const docLink = document.createElement('div');\n",
              "          docLink.innerHTML = docLinkHtml;\n",
              "          element.appendChild(docLink);\n",
              "        }\n",
              "      </script>\n",
              "    </div>\n",
              "  </div>\n",
              "  "
            ]
          },
          "metadata": {},
          "execution_count": 9
        }
      ]
    },
    {
      "cell_type": "code",
      "source": [
        "df = df.filter(items=['text', 'rating_grade'])\n",
        "df"
      ],
      "metadata": {
        "colab": {
          "base_uri": "https://localhost:8080/",
          "height": 424
        },
        "id": "IUnfd6NNkBNm",
        "outputId": "6803ef07-e661-42d0-ee34-0988032aebae"
      },
      "execution_count": null,
      "outputs": [
        {
          "output_type": "execute_result",
          "data": {
            "text/plain": [
              "                                                     text  rating_grade\n",
              "0       Добрый день! Я не являюсь клиентом банка и пор...           NaN\n",
              "1       Доброго дня! Являюсь держателем зарплатной кар...           NaN\n",
              "2       Здравствуйте!  Дублирую свое заявление от 03.0...           NaN\n",
              "3       Добрый день!! Я открыл расчетный счет в СберБа...           NaN\n",
              "4       04.03.2015 г. взяла кредит в вашем банке, заяв...           NaN\n",
              "...                                                   ...           ...\n",
              "153494  Слишком большой банк, не всегда учитывает нашу...           5.0\n",
              "153495  Вы сами виноваты в своих проблемах, кроме пред...           3.0\n",
              "153496  Уважаемое руководство банка «ОВК»! Я проживаю ...           1.0\n",
              "153497  Пробовала 10.04.05 оформить товар в кредит в А...           1.0\n",
              "153498  Если коротко, то мне нравится. Кридит получать...           5.0\n",
              "\n",
              "[153499 rows x 2 columns]"
            ],
            "text/html": [
              "\n",
              "  <div id=\"df-27fb7504-c7bb-46ee-9780-3467ab444767\">\n",
              "    <div class=\"colab-df-container\">\n",
              "      <div>\n",
              "<style scoped>\n",
              "    .dataframe tbody tr th:only-of-type {\n",
              "        vertical-align: middle;\n",
              "    }\n",
              "\n",
              "    .dataframe tbody tr th {\n",
              "        vertical-align: top;\n",
              "    }\n",
              "\n",
              "    .dataframe thead th {\n",
              "        text-align: right;\n",
              "    }\n",
              "</style>\n",
              "<table border=\"1\" class=\"dataframe\">\n",
              "  <thead>\n",
              "    <tr style=\"text-align: right;\">\n",
              "      <th></th>\n",
              "      <th>text</th>\n",
              "      <th>rating_grade</th>\n",
              "    </tr>\n",
              "  </thead>\n",
              "  <tbody>\n",
              "    <tr>\n",
              "      <th>0</th>\n",
              "      <td>Добрый день! Я не являюсь клиентом банка и пор...</td>\n",
              "      <td>NaN</td>\n",
              "    </tr>\n",
              "    <tr>\n",
              "      <th>1</th>\n",
              "      <td>Доброго дня! Являюсь держателем зарплатной кар...</td>\n",
              "      <td>NaN</td>\n",
              "    </tr>\n",
              "    <tr>\n",
              "      <th>2</th>\n",
              "      <td>Здравствуйте!  Дублирую свое заявление от 03.0...</td>\n",
              "      <td>NaN</td>\n",
              "    </tr>\n",
              "    <tr>\n",
              "      <th>3</th>\n",
              "      <td>Добрый день!! Я открыл расчетный счет в СберБа...</td>\n",
              "      <td>NaN</td>\n",
              "    </tr>\n",
              "    <tr>\n",
              "      <th>4</th>\n",
              "      <td>04.03.2015 г. взяла кредит в вашем банке, заяв...</td>\n",
              "      <td>NaN</td>\n",
              "    </tr>\n",
              "    <tr>\n",
              "      <th>...</th>\n",
              "      <td>...</td>\n",
              "      <td>...</td>\n",
              "    </tr>\n",
              "    <tr>\n",
              "      <th>153494</th>\n",
              "      <td>Слишком большой банк, не всегда учитывает нашу...</td>\n",
              "      <td>5.0</td>\n",
              "    </tr>\n",
              "    <tr>\n",
              "      <th>153495</th>\n",
              "      <td>Вы сами виноваты в своих проблемах, кроме пред...</td>\n",
              "      <td>3.0</td>\n",
              "    </tr>\n",
              "    <tr>\n",
              "      <th>153496</th>\n",
              "      <td>Уважаемое руководство банка «ОВК»! Я проживаю ...</td>\n",
              "      <td>1.0</td>\n",
              "    </tr>\n",
              "    <tr>\n",
              "      <th>153497</th>\n",
              "      <td>Пробовала 10.04.05 оформить товар в кредит в А...</td>\n",
              "      <td>1.0</td>\n",
              "    </tr>\n",
              "    <tr>\n",
              "      <th>153498</th>\n",
              "      <td>Если коротко, то мне нравится. Кридит получать...</td>\n",
              "      <td>5.0</td>\n",
              "    </tr>\n",
              "  </tbody>\n",
              "</table>\n",
              "<p>153499 rows × 2 columns</p>\n",
              "</div>\n",
              "      <button class=\"colab-df-convert\" onclick=\"convertToInteractive('df-27fb7504-c7bb-46ee-9780-3467ab444767')\"\n",
              "              title=\"Convert this dataframe to an interactive table.\"\n",
              "              style=\"display:none;\">\n",
              "        \n",
              "  <svg xmlns=\"http://www.w3.org/2000/svg\" height=\"24px\"viewBox=\"0 0 24 24\"\n",
              "       width=\"24px\">\n",
              "    <path d=\"M0 0h24v24H0V0z\" fill=\"none\"/>\n",
              "    <path d=\"M18.56 5.44l.94 2.06.94-2.06 2.06-.94-2.06-.94-.94-2.06-.94 2.06-2.06.94zm-11 1L8.5 8.5l.94-2.06 2.06-.94-2.06-.94L8.5 2.5l-.94 2.06-2.06.94zm10 10l.94 2.06.94-2.06 2.06-.94-2.06-.94-.94-2.06-.94 2.06-2.06.94z\"/><path d=\"M17.41 7.96l-1.37-1.37c-.4-.4-.92-.59-1.43-.59-.52 0-1.04.2-1.43.59L10.3 9.45l-7.72 7.72c-.78.78-.78 2.05 0 2.83L4 21.41c.39.39.9.59 1.41.59.51 0 1.02-.2 1.41-.59l7.78-7.78 2.81-2.81c.8-.78.8-2.07 0-2.86zM5.41 20L4 18.59l7.72-7.72 1.47 1.35L5.41 20z\"/>\n",
              "  </svg>\n",
              "      </button>\n",
              "      \n",
              "  <style>\n",
              "    .colab-df-container {\n",
              "      display:flex;\n",
              "      flex-wrap:wrap;\n",
              "      gap: 12px;\n",
              "    }\n",
              "\n",
              "    .colab-df-convert {\n",
              "      background-color: #E8F0FE;\n",
              "      border: none;\n",
              "      border-radius: 50%;\n",
              "      cursor: pointer;\n",
              "      display: none;\n",
              "      fill: #1967D2;\n",
              "      height: 32px;\n",
              "      padding: 0 0 0 0;\n",
              "      width: 32px;\n",
              "    }\n",
              "\n",
              "    .colab-df-convert:hover {\n",
              "      background-color: #E2EBFA;\n",
              "      box-shadow: 0px 1px 2px rgba(60, 64, 67, 0.3), 0px 1px 3px 1px rgba(60, 64, 67, 0.15);\n",
              "      fill: #174EA6;\n",
              "    }\n",
              "\n",
              "    [theme=dark] .colab-df-convert {\n",
              "      background-color: #3B4455;\n",
              "      fill: #D2E3FC;\n",
              "    }\n",
              "\n",
              "    [theme=dark] .colab-df-convert:hover {\n",
              "      background-color: #434B5C;\n",
              "      box-shadow: 0px 1px 3px 1px rgba(0, 0, 0, 0.15);\n",
              "      filter: drop-shadow(0px 1px 2px rgba(0, 0, 0, 0.3));\n",
              "      fill: #FFFFFF;\n",
              "    }\n",
              "  </style>\n",
              "\n",
              "      <script>\n",
              "        const buttonEl =\n",
              "          document.querySelector('#df-27fb7504-c7bb-46ee-9780-3467ab444767 button.colab-df-convert');\n",
              "        buttonEl.style.display =\n",
              "          google.colab.kernel.accessAllowed ? 'block' : 'none';\n",
              "\n",
              "        async function convertToInteractive(key) {\n",
              "          const element = document.querySelector('#df-27fb7504-c7bb-46ee-9780-3467ab444767');\n",
              "          const dataTable =\n",
              "            await google.colab.kernel.invokeFunction('convertToInteractive',\n",
              "                                                     [key], {});\n",
              "          if (!dataTable) return;\n",
              "\n",
              "          const docLinkHtml = 'Like what you see? Visit the ' +\n",
              "            '<a target=\"_blank\" href=https://colab.research.google.com/notebooks/data_table.ipynb>data table notebook</a>'\n",
              "            + ' to learn more about interactive tables.';\n",
              "          element.innerHTML = '';\n",
              "          dataTable['output_type'] = 'display_data';\n",
              "          await google.colab.output.renderOutput(dataTable, element);\n",
              "          const docLink = document.createElement('div');\n",
              "          docLink.innerHTML = docLinkHtml;\n",
              "          element.appendChild(docLink);\n",
              "        }\n",
              "      </script>\n",
              "    </div>\n",
              "  </div>\n",
              "  "
            ]
          },
          "metadata": {},
          "execution_count": 7
        }
      ]
    },
    {
      "cell_type": "code",
      "source": [
        "df.info()"
      ],
      "metadata": {
        "colab": {
          "base_uri": "https://localhost:8080/"
        },
        "id": "gXG08n-Uk6yw",
        "outputId": "5dbf231f-3413-43a5-9d03-3e3dfc6e696c"
      },
      "execution_count": null,
      "outputs": [
        {
          "output_type": "stream",
          "name": "stdout",
          "text": [
            "<class 'pandas.core.frame.DataFrame'>\n",
            "RangeIndex: 153499 entries, 0 to 153498\n",
            "Data columns (total 2 columns):\n",
            " #   Column        Non-Null Count   Dtype  \n",
            "---  ------        --------------   -----  \n",
            " 0   text          153499 non-null  object \n",
            " 1   rating_grade  88658 non-null   float64\n",
            "dtypes: float64(1), object(1)\n",
            "memory usage: 2.3+ MB\n"
          ]
        }
      ]
    },
    {
      "cell_type": "code",
      "source": [
        "df.rating_grade.unique()"
      ],
      "metadata": {
        "colab": {
          "base_uri": "https://localhost:8080/"
        },
        "id": "D6aCSclYmF_P",
        "outputId": "8ae0448d-2a53-413e-aab1-aa615af1c49c"
      },
      "execution_count": null,
      "outputs": [
        {
          "output_type": "execute_result",
          "data": {
            "text/plain": [
              "array([nan,  2.,  1.,  5.,  3.,  4.])"
            ]
          },
          "metadata": {},
          "execution_count": 13
        }
      ]
    },
    {
      "cell_type": "code",
      "source": [
        "len(df)-df.rating_grade.value_counts().sum()"
      ],
      "metadata": {
        "colab": {
          "base_uri": "https://localhost:8080/"
        },
        "id": "TIuk9_jGmNZu",
        "outputId": "428be756-18d9-4377-a522-1167bc273d9c"
      },
      "execution_count": null,
      "outputs": [
        {
          "output_type": "execute_result",
          "data": {
            "text/plain": [
              "64841"
            ]
          },
          "metadata": {},
          "execution_count": 9
        }
      ]
    },
    {
      "cell_type": "code",
      "source": [
        "# уберем NaN из rating_grade\n",
        "df['rating_grade'] = df['rating_grade'].fillna(df['rating_grade'].mode()[0])"
      ],
      "metadata": {
        "id": "K1OTze5Ok_Mh"
      },
      "execution_count": null,
      "outputs": []
    },
    {
      "cell_type": "code",
      "source": [
        "df.rating_grade.unique()"
      ],
      "metadata": {
        "colab": {
          "base_uri": "https://localhost:8080/"
        },
        "id": "GI8b9jplmUDx",
        "outputId": "3121a17d-dd79-44a9-f20a-5efaecdb3cd4"
      },
      "execution_count": null,
      "outputs": [
        {
          "output_type": "execute_result",
          "data": {
            "text/plain": [
              "array([1., 2., 5., 3., 4.])"
            ]
          },
          "metadata": {},
          "execution_count": 8
        }
      ]
    },
    {
      "cell_type": "code",
      "source": [
        "df"
      ],
      "metadata": {
        "colab": {
          "base_uri": "https://localhost:8080/",
          "height": 424
        },
        "id": "Alsigl55mV6h",
        "outputId": "59c4f425-bce4-4f0e-838f-8f3cd96f9dba"
      },
      "execution_count": null,
      "outputs": [
        {
          "output_type": "execute_result",
          "data": {
            "text/plain": [
              "                                                     text  rating_grade\n",
              "0       Добрый день! Я не являюсь клиентом банка и пор...           1.0\n",
              "1       Доброго дня! Являюсь держателем зарплатной кар...           1.0\n",
              "2       Здравствуйте!  Дублирую свое заявление от 03.0...           1.0\n",
              "3       Добрый день!! Я открыл расчетный счет в СберБа...           1.0\n",
              "4       04.03.2015 г. взяла кредит в вашем банке, заяв...           1.0\n",
              "...                                                   ...           ...\n",
              "153494  Слишком большой банк, не всегда учитывает нашу...           5.0\n",
              "153495  Вы сами виноваты в своих проблемах, кроме пред...           3.0\n",
              "153496  Уважаемое руководство банка «ОВК»! Я проживаю ...           1.0\n",
              "153497  Пробовала 10.04.05 оформить товар в кредит в А...           1.0\n",
              "153498  Если коротко, то мне нравится. Кридит получать...           5.0\n",
              "\n",
              "[153499 rows x 2 columns]"
            ],
            "text/html": [
              "\n",
              "  <div id=\"df-b28b15e4-b323-4511-b20d-56141ff93670\">\n",
              "    <div class=\"colab-df-container\">\n",
              "      <div>\n",
              "<style scoped>\n",
              "    .dataframe tbody tr th:only-of-type {\n",
              "        vertical-align: middle;\n",
              "    }\n",
              "\n",
              "    .dataframe tbody tr th {\n",
              "        vertical-align: top;\n",
              "    }\n",
              "\n",
              "    .dataframe thead th {\n",
              "        text-align: right;\n",
              "    }\n",
              "</style>\n",
              "<table border=\"1\" class=\"dataframe\">\n",
              "  <thead>\n",
              "    <tr style=\"text-align: right;\">\n",
              "      <th></th>\n",
              "      <th>text</th>\n",
              "      <th>rating_grade</th>\n",
              "    </tr>\n",
              "  </thead>\n",
              "  <tbody>\n",
              "    <tr>\n",
              "      <th>0</th>\n",
              "      <td>Добрый день! Я не являюсь клиентом банка и пор...</td>\n",
              "      <td>1.0</td>\n",
              "    </tr>\n",
              "    <tr>\n",
              "      <th>1</th>\n",
              "      <td>Доброго дня! Являюсь держателем зарплатной кар...</td>\n",
              "      <td>1.0</td>\n",
              "    </tr>\n",
              "    <tr>\n",
              "      <th>2</th>\n",
              "      <td>Здравствуйте!  Дублирую свое заявление от 03.0...</td>\n",
              "      <td>1.0</td>\n",
              "    </tr>\n",
              "    <tr>\n",
              "      <th>3</th>\n",
              "      <td>Добрый день!! Я открыл расчетный счет в СберБа...</td>\n",
              "      <td>1.0</td>\n",
              "    </tr>\n",
              "    <tr>\n",
              "      <th>4</th>\n",
              "      <td>04.03.2015 г. взяла кредит в вашем банке, заяв...</td>\n",
              "      <td>1.0</td>\n",
              "    </tr>\n",
              "    <tr>\n",
              "      <th>...</th>\n",
              "      <td>...</td>\n",
              "      <td>...</td>\n",
              "    </tr>\n",
              "    <tr>\n",
              "      <th>153494</th>\n",
              "      <td>Слишком большой банк, не всегда учитывает нашу...</td>\n",
              "      <td>5.0</td>\n",
              "    </tr>\n",
              "    <tr>\n",
              "      <th>153495</th>\n",
              "      <td>Вы сами виноваты в своих проблемах, кроме пред...</td>\n",
              "      <td>3.0</td>\n",
              "    </tr>\n",
              "    <tr>\n",
              "      <th>153496</th>\n",
              "      <td>Уважаемое руководство банка «ОВК»! Я проживаю ...</td>\n",
              "      <td>1.0</td>\n",
              "    </tr>\n",
              "    <tr>\n",
              "      <th>153497</th>\n",
              "      <td>Пробовала 10.04.05 оформить товар в кредит в А...</td>\n",
              "      <td>1.0</td>\n",
              "    </tr>\n",
              "    <tr>\n",
              "      <th>153498</th>\n",
              "      <td>Если коротко, то мне нравится. Кридит получать...</td>\n",
              "      <td>5.0</td>\n",
              "    </tr>\n",
              "  </tbody>\n",
              "</table>\n",
              "<p>153499 rows × 2 columns</p>\n",
              "</div>\n",
              "      <button class=\"colab-df-convert\" onclick=\"convertToInteractive('df-b28b15e4-b323-4511-b20d-56141ff93670')\"\n",
              "              title=\"Convert this dataframe to an interactive table.\"\n",
              "              style=\"display:none;\">\n",
              "        \n",
              "  <svg xmlns=\"http://www.w3.org/2000/svg\" height=\"24px\"viewBox=\"0 0 24 24\"\n",
              "       width=\"24px\">\n",
              "    <path d=\"M0 0h24v24H0V0z\" fill=\"none\"/>\n",
              "    <path d=\"M18.56 5.44l.94 2.06.94-2.06 2.06-.94-2.06-.94-.94-2.06-.94 2.06-2.06.94zm-11 1L8.5 8.5l.94-2.06 2.06-.94-2.06-.94L8.5 2.5l-.94 2.06-2.06.94zm10 10l.94 2.06.94-2.06 2.06-.94-2.06-.94-.94-2.06-.94 2.06-2.06.94z\"/><path d=\"M17.41 7.96l-1.37-1.37c-.4-.4-.92-.59-1.43-.59-.52 0-1.04.2-1.43.59L10.3 9.45l-7.72 7.72c-.78.78-.78 2.05 0 2.83L4 21.41c.39.39.9.59 1.41.59.51 0 1.02-.2 1.41-.59l7.78-7.78 2.81-2.81c.8-.78.8-2.07 0-2.86zM5.41 20L4 18.59l7.72-7.72 1.47 1.35L5.41 20z\"/>\n",
              "  </svg>\n",
              "      </button>\n",
              "      \n",
              "  <style>\n",
              "    .colab-df-container {\n",
              "      display:flex;\n",
              "      flex-wrap:wrap;\n",
              "      gap: 12px;\n",
              "    }\n",
              "\n",
              "    .colab-df-convert {\n",
              "      background-color: #E8F0FE;\n",
              "      border: none;\n",
              "      border-radius: 50%;\n",
              "      cursor: pointer;\n",
              "      display: none;\n",
              "      fill: #1967D2;\n",
              "      height: 32px;\n",
              "      padding: 0 0 0 0;\n",
              "      width: 32px;\n",
              "    }\n",
              "\n",
              "    .colab-df-convert:hover {\n",
              "      background-color: #E2EBFA;\n",
              "      box-shadow: 0px 1px 2px rgba(60, 64, 67, 0.3), 0px 1px 3px 1px rgba(60, 64, 67, 0.15);\n",
              "      fill: #174EA6;\n",
              "    }\n",
              "\n",
              "    [theme=dark] .colab-df-convert {\n",
              "      background-color: #3B4455;\n",
              "      fill: #D2E3FC;\n",
              "    }\n",
              "\n",
              "    [theme=dark] .colab-df-convert:hover {\n",
              "      background-color: #434B5C;\n",
              "      box-shadow: 0px 1px 3px 1px rgba(0, 0, 0, 0.15);\n",
              "      filter: drop-shadow(0px 1px 2px rgba(0, 0, 0, 0.3));\n",
              "      fill: #FFFFFF;\n",
              "    }\n",
              "  </style>\n",
              "\n",
              "      <script>\n",
              "        const buttonEl =\n",
              "          document.querySelector('#df-b28b15e4-b323-4511-b20d-56141ff93670 button.colab-df-convert');\n",
              "        buttonEl.style.display =\n",
              "          google.colab.kernel.accessAllowed ? 'block' : 'none';\n",
              "\n",
              "        async function convertToInteractive(key) {\n",
              "          const element = document.querySelector('#df-b28b15e4-b323-4511-b20d-56141ff93670');\n",
              "          const dataTable =\n",
              "            await google.colab.kernel.invokeFunction('convertToInteractive',\n",
              "                                                     [key], {});\n",
              "          if (!dataTable) return;\n",
              "\n",
              "          const docLinkHtml = 'Like what you see? Visit the ' +\n",
              "            '<a target=\"_blank\" href=https://colab.research.google.com/notebooks/data_table.ipynb>data table notebook</a>'\n",
              "            + ' to learn more about interactive tables.';\n",
              "          element.innerHTML = '';\n",
              "          dataTable['output_type'] = 'display_data';\n",
              "          await google.colab.output.renderOutput(dataTable, element);\n",
              "          const docLink = document.createElement('div');\n",
              "          docLink.innerHTML = docLinkHtml;\n",
              "          element.appendChild(docLink);\n",
              "        }\n",
              "      </script>\n",
              "    </div>\n",
              "  </div>\n",
              "  "
            ]
          },
          "metadata": {},
          "execution_count": 9
        }
      ]
    },
    {
      "cell_type": "markdown",
      "source": [
        "#### Разбейте всю коллекцию отзывов на предложения."
      ],
      "metadata": {
        "id": "VGcsPiq2m3Zl"
      }
    },
    {
      "cell_type": "code",
      "source": [
        "from nltk import tokenize"
      ],
      "metadata": {
        "id": "K4JplbFAm0P6"
      },
      "execution_count": null,
      "outputs": []
    },
    {
      "cell_type": "code",
      "source": [
        "sent = tokenize.PunktSentenceTokenizer()"
      ],
      "metadata": {
        "id": "YueVKdH4pwuY"
      },
      "execution_count": null,
      "outputs": []
    },
    {
      "cell_type": "code",
      "source": [
        "sentences = []\n",
        "for text in tqdm(df.text):\n",
        "    for el in sent.tokenize(text):\n",
        "        sentences.append(el)\n",
        "print(sentences)"
      ],
      "metadata": {
        "colab": {
          "base_uri": "https://localhost:8080/"
        },
        "id": "IXsqDfEUp9gm",
        "outputId": "9033dd5d-226c-4cf9-b0ad-ea0735936fb9"
      },
      "execution_count": null,
      "outputs": [
        {
          "output_type": "stream",
          "name": "stderr",
          "text": [
            "100%|██████████| 153499/153499 [01:28<00:00, 1737.20it/s]\n",
            "IOPub data rate exceeded.\n",
            "The notebook server will temporarily stop sending output\n",
            "to the client in order to avoid crashing it.\n",
            "To change this limit, set the config variable\n",
            "`--NotebookApp.iopub_data_rate_limit`.\n",
            "\n",
            "Current values:\n",
            "NotebookApp.iopub_data_rate_limit=1000000.0 (bytes/sec)\n",
            "NotebookApp.rate_limit_window=3.0 (secs)\n",
            "\n"
          ]
        }
      ]
    },
    {
      "cell_type": "code",
      "source": [
        "sentences[0]"
      ],
      "metadata": {
        "colab": {
          "base_uri": "https://localhost:8080/",
          "height": 35
        },
        "id": "mtu8nOd8vlSl",
        "outputId": "66dd82c2-0496-424c-a8fe-2b010e31e9d9"
      },
      "execution_count": null,
      "outputs": [
        {
          "output_type": "execute_result",
          "data": {
            "text/plain": [
              "'Добрый день!'"
            ],
            "application/vnd.google.colaboratory.intrinsic+json": {
              "type": "string"
            }
          },
          "metadata": {},
          "execution_count": 12
        }
      ]
    },
    {
      "cell_type": "code",
      "source": [
        "len(sentences)"
      ],
      "metadata": {
        "colab": {
          "base_uri": "https://localhost:8080/"
        },
        "id": "8Q855b851w4X",
        "outputId": "b861aa43-4065-44c0-f8a8-392c12b40a6b"
      },
      "execution_count": null,
      "outputs": [
        {
          "output_type": "execute_result",
          "data": {
            "text/plain": [
              "2665027"
            ]
          },
          "metadata": {},
          "execution_count": 13
        }
      ]
    },
    {
      "cell_type": "markdown",
      "source": [
        "#### Лемматизируйте все слова."
      ],
      "metadata": {
        "id": "PkixqZRTm9hr"
      }
    },
    {
      "cell_type": "code",
      "source": [
        "from nltk.tokenize import word_tokenize\n",
        "from nltk.corpus import stopwords\n",
        "import re"
      ],
      "metadata": {
        "id": "2yI7xNcW2mY0"
      },
      "execution_count": null,
      "outputs": []
    },
    {
      "cell_type": "code",
      "source": [
        "import nltk\n",
        "nltk.download('punkt')\n",
        "nltk.download('stopwords')\n",
        "nltk.download('wordnet')"
      ],
      "metadata": {
        "colab": {
          "base_uri": "https://localhost:8080/"
        },
        "id": "GnWKeeaA2o3r",
        "outputId": "b2963800-c6d5-4365-8962-7fea1d6dcec4"
      },
      "execution_count": null,
      "outputs": [
        {
          "output_type": "stream",
          "name": "stderr",
          "text": [
            "[nltk_data] Downloading package punkt to /root/nltk_data...\n",
            "[nltk_data]   Package punkt is already up-to-date!\n",
            "[nltk_data] Downloading package stopwords to /root/nltk_data...\n",
            "[nltk_data]   Unzipping corpora/stopwords.zip.\n",
            "[nltk_data] Downloading package wordnet to /root/nltk_data...\n"
          ]
        },
        {
          "output_type": "execute_result",
          "data": {
            "text/plain": [
              "True"
            ]
          },
          "metadata": {},
          "execution_count": 15
        }
      ]
    },
    {
      "cell_type": "code",
      "source": [
        "# препроцессинг + лемматизация\n",
        "\n",
        "mystopwords = stopwords.words('russian') + [\n",
        "    'это', 'наш' , 'тыс', 'млн', 'млрд', 'также',  'т', 'д',\n",
        "    'который','прошлый','сей', 'свой', 'наш', 'мочь', 'такой'\n",
        "]\n",
        "words = re.compile(\"[А-Яа-я]+\")\n",
        "\n",
        "def words_only(text):\n",
        "    return \" \".join(words.findall(text))\n",
        "\n",
        "def remove_word(text):\n",
        "    return \" \".join([token for token in text.split() if len(token) >= 3])\n",
        "\n",
        "def remove_stopwords(text, mystopwords = mystopwords):\n",
        "    try:\n",
        "        return \" \".join([token for token in text.split() if not token in mystopwords])\n",
        "    except:\n",
        "        return \"\"\n",
        "\n",
        "def lemmatize(text):\n",
        "    lemmatizer = nltk.WordNetLemmatizer()\n",
        "    try:\n",
        "        return  \" \".join([lemmatizer.lemmatize(w) for w in text.split()])\n",
        "    except:\n",
        "        return \" \"\n",
        "\n",
        "def preprocess(text):\n",
        "    return remove_stopwords(lemmatize(remove_word(words_only(text.lower()))))"
      ],
      "metadata": {
        "id": "Kk_LJzN9nDkY"
      },
      "execution_count": null,
      "outputs": []
    },
    {
      "cell_type": "code",
      "source": [
        "text_lemm = [preprocess(sentence).split() for sentence in tqdm(sentences)]"
      ],
      "metadata": {
        "colab": {
          "base_uri": "https://localhost:8080/"
        },
        "id": "cP02xjja2SMr",
        "outputId": "e8f00269-2be5-4ffb-f1eb-99be92011e0b"
      },
      "execution_count": null,
      "outputs": [
        {
          "output_type": "stream",
          "name": "stderr",
          "text": [
            "100%|██████████| 2665027/2665027 [03:56<00:00, 11245.69it/s]\n"
          ]
        }
      ]
    },
    {
      "cell_type": "code",
      "source": [
        "text_lemm[:3]"
      ],
      "metadata": {
        "id": "dzN_jpeF57vE"
      },
      "execution_count": null,
      "outputs": []
    },
    {
      "cell_type": "markdown",
      "source": [
        "#### Обучите по коллекции предложений word2vec"
      ],
      "metadata": {
        "id": "5KlDOadVnD6h"
      }
    },
    {
      "cell_type": "code",
      "source": [
        "! pip install gensim==4.3.0"
      ],
      "metadata": {
        "colab": {
          "base_uri": "https://localhost:8080/"
        },
        "id": "vOG6zBTS7Ux6",
        "outputId": "75ce83d8-3964-4c11-c7c0-640c65b8a6b3"
      },
      "execution_count": null,
      "outputs": [
        {
          "output_type": "stream",
          "name": "stdout",
          "text": [
            "Looking in indexes: https://pypi.org/simple, https://us-python.pkg.dev/colab-wheels/public/simple/\n",
            "Collecting gensim==4.3.0\n",
            "  Downloading gensim-4.3.0-cp310-cp310-manylinux_2_17_x86_64.manylinux2014_x86_64.whl (24.1 MB)\n",
            "\u001b[2K     \u001b[90m━━━━━━━━━━━━━━━━━━━━━━━━━━━━━━━━━━━━━━━━\u001b[0m \u001b[32m24.1/24.1 MB\u001b[0m \u001b[31m29.4 MB/s\u001b[0m eta \u001b[36m0:00:00\u001b[0m\n",
            "\u001b[?25hCollecting FuzzyTM>=0.4.0\n",
            "  Downloading FuzzyTM-2.0.5-py3-none-any.whl (29 kB)\n",
            "Requirement already satisfied: numpy>=1.18.5 in /usr/local/lib/python3.10/dist-packages (from gensim==4.3.0) (1.22.4)\n",
            "Requirement already satisfied: scipy>=1.7.0 in /usr/local/lib/python3.10/dist-packages (from gensim==4.3.0) (1.10.1)\n",
            "Requirement already satisfied: smart-open>=1.8.1 in /usr/local/lib/python3.10/dist-packages (from gensim==4.3.0) (6.3.0)\n",
            "Collecting pyfume\n",
            "  Downloading pyFUME-0.2.25-py3-none-any.whl (67 kB)\n",
            "\u001b[2K     \u001b[90m━━━━━━━━━━━━━━━━━━━━━━━━━━━━━━━━━━━━━━━━\u001b[0m \u001b[32m67.1/67.1 kB\u001b[0m \u001b[31m8.8 MB/s\u001b[0m eta \u001b[36m0:00:00\u001b[0m\n",
            "\u001b[?25hRequirement already satisfied: pandas in /usr/local/lib/python3.10/dist-packages (from FuzzyTM>=0.4.0->gensim==4.3.0) (1.5.3)\n",
            "Requirement already satisfied: pytz>=2020.1 in /usr/local/lib/python3.10/dist-packages (from pandas->FuzzyTM>=0.4.0->gensim==4.3.0) (2022.7.1)\n",
            "Requirement already satisfied: python-dateutil>=2.8.1 in /usr/local/lib/python3.10/dist-packages (from pandas->FuzzyTM>=0.4.0->gensim==4.3.0) (2.8.2)\n",
            "Collecting fst-pso\n",
            "  Downloading fst-pso-1.8.1.tar.gz (18 kB)\n",
            "  Preparing metadata (setup.py) ... \u001b[?25l\u001b[?25hdone\n",
            "Collecting simpful\n",
            "  Downloading simpful-2.10.0-py3-none-any.whl (31 kB)\n",
            "Requirement already satisfied: six>=1.5 in /usr/local/lib/python3.10/dist-packages (from python-dateutil>=2.8.1->pandas->FuzzyTM>=0.4.0->gensim==4.3.0) (1.16.0)\n",
            "Collecting miniful\n",
            "  Downloading miniful-0.0.6.tar.gz (2.8 kB)\n",
            "  Preparing metadata (setup.py) ... \u001b[?25l\u001b[?25hdone\n",
            "Requirement already satisfied: requests in /usr/local/lib/python3.10/dist-packages (from simpful->pyfume->FuzzyTM>=0.4.0->gensim==4.3.0) (2.27.1)\n",
            "Requirement already satisfied: charset-normalizer~=2.0.0 in /usr/local/lib/python3.10/dist-packages (from requests->simpful->pyfume->FuzzyTM>=0.4.0->gensim==4.3.0) (2.0.12)\n",
            "Requirement already satisfied: idna<4,>=2.5 in /usr/local/lib/python3.10/dist-packages (from requests->simpful->pyfume->FuzzyTM>=0.4.0->gensim==4.3.0) (3.4)\n",
            "Requirement already satisfied: certifi>=2017.4.17 in /usr/local/lib/python3.10/dist-packages (from requests->simpful->pyfume->FuzzyTM>=0.4.0->gensim==4.3.0) (2022.12.7)\n",
            "Requirement already satisfied: urllib3<1.27,>=1.21.1 in /usr/local/lib/python3.10/dist-packages (from requests->simpful->pyfume->FuzzyTM>=0.4.0->gensim==4.3.0) (1.26.15)\n",
            "Building wheels for collected packages: fst-pso, miniful\n",
            "  Building wheel for fst-pso (setup.py) ... \u001b[?25l\u001b[?25hdone\n",
            "  Created wheel for fst-pso: filename=fst_pso-1.8.1-py3-none-any.whl size=20444 sha256=1a7ccf7da1241c1192fcea76b10ae6f3ba03e825954c82f7421c755584ceb928\n",
            "  Stored in directory: /root/.cache/pip/wheels/2d/1b/42/88a19f6b3896c2230d5053832f208976cddf70625885201d06\n",
            "  Building wheel for miniful (setup.py) ... \u001b[?25l\u001b[?25hdone\n",
            "  Created wheel for miniful: filename=miniful-0.0.6-py3-none-any.whl size=3529 sha256=493623c16fd79e1191b0f6862ec5d8d428fd9d899cfd1fb60035f5a9b7ee0fe3\n",
            "  Stored in directory: /root/.cache/pip/wheels/5b/86/8f/7bb7f6472e2c84de7addfc1a5cd7fd647f00d8fb640da9ea9a\n",
            "Successfully built fst-pso miniful\n",
            "Installing collected packages: simpful, miniful, fst-pso, pyfume, FuzzyTM, gensim\n",
            "  Attempting uninstall: gensim\n",
            "    Found existing installation: gensim 3.8.2\n",
            "    Uninstalling gensim-3.8.2:\n",
            "      Successfully uninstalled gensim-3.8.2\n",
            "Successfully installed FuzzyTM-2.0.5 fst-pso-1.8.1 gensim-4.3.0 miniful-0.0.6 pyfume-0.2.25 simpful-2.10.0\n"
          ]
        }
      ]
    },
    {
      "cell_type": "code",
      "source": [
        "import gensim\n",
        "from gensim.models import Word2Vec"
      ],
      "metadata": {
        "id": "3aQestKdnIQY"
      },
      "execution_count": null,
      "outputs": []
    },
    {
      "cell_type": "code",
      "source": [
        "# обучение модели\n",
        "%time model = Word2Vec(text_lemm, workers=4, vector_size=300, min_count=3, window=5, epochs=15)"
      ],
      "metadata": {
        "colab": {
          "base_uri": "https://localhost:8080/"
        },
        "id": "mhysQpRX7XZ9",
        "outputId": "c9d442e9-e140-41b9-dc2b-438adba60d15"
      },
      "execution_count": null,
      "outputs": [
        {
          "output_type": "stream",
          "name": "stdout",
          "text": [
            "CPU times: user 32min 57s, sys: 8.13 s, total: 33min 5s\n",
            "Wall time: 20min 8s\n"
          ]
        }
      ]
    },
    {
      "cell_type": "markdown",
      "source": [
        "##### Примеры\n",
        "Приведите несколько удачных и неудачных примеров решения стандартных текстов для word2vec\n",
        "\n",
        "тест на определение ближайших слов тест на аналогии (мужчина — король : женщина — королева) тест на определение лишнего слова"
      ],
      "metadata": {
        "id": "w1AkhtfMnIoF"
      }
    },
    {
      "cell_type": "code",
      "source": [
        "display(model.wv.most_similar('банк'))"
      ],
      "metadata": {
        "colab": {
          "base_uri": "https://localhost:8080/",
          "height": 196
        },
        "id": "unLvx2OUnOKx",
        "outputId": "f0331439-0048-4ce6-c02c-3cefa74042f3"
      },
      "execution_count": null,
      "outputs": [
        {
          "output_type": "display_data",
          "data": {
            "text/plain": [
              "[('сбербанк', 0.6082661151885986),\n",
              " ('сбер', 0.5979740023612976),\n",
              " ('ситибанк', 0.5339627265930176),\n",
              " ('промсвязьбанк', 0.5298042893409729),\n",
              " ('росбанк', 0.5116526484489441),\n",
              " ('альфабанк', 0.5104776620864868),\n",
              " ('магазин', 0.5104115009307861),\n",
              " ('бинбанк', 0.4989553987979889),\n",
              " ('собинбанк', 0.46906569600105286),\n",
              " ('банкинг', 0.44693276286125183)]"
            ]
          },
          "metadata": {}
        }
      ]
    },
    {
      "cell_type": "code",
      "source": [
        "print(model.wv.most_similar(positive=['евро', 'рубль'], topn=1))\n",
        "# print(model_en_tweet.wv.most_similar(positive=[\"dogs\", \"man\"], negative=[\"dog\"], topn=1))"
      ],
      "metadata": {
        "colab": {
          "base_uri": "https://localhost:8080/"
        },
        "id": "k40G3QCa-GWF",
        "outputId": "4d7e9211-d15a-4f36-ab24-5e2773685529"
      },
      "execution_count": null,
      "outputs": [
        {
          "output_type": "stream",
          "name": "stdout",
          "text": [
            "[('долларов', 0.7733635306358337)]\n"
          ]
        }
      ]
    },
    {
      "cell_type": "code",
      "source": [
        "print(model.wv.most_similar(positive=['ситибанк', 'альфа'], topn=1))"
      ],
      "metadata": {
        "colab": {
          "base_uri": "https://localhost:8080/"
        },
        "id": "OTSylOY0EEv1",
        "outputId": "b424baf4-0cb9-4bca-f772-ec4f208fb13c"
      },
      "execution_count": null,
      "outputs": [
        {
          "output_type": "stream",
          "name": "stdout",
          "text": [
            "[('мкб', 0.6284162998199463)]\n"
          ]
        }
      ]
    },
    {
      "cell_type": "code",
      "source": [
        "print(model.wv.doesnt_match(\"банк договор музыка\".split()))"
      ],
      "metadata": {
        "colab": {
          "base_uri": "https://localhost:8080/"
        },
        "id": "5GA77fXgDFEn",
        "outputId": "4c84ce05-cb4f-488a-a2ed-af8a48128b8b"
      },
      "execution_count": null,
      "outputs": [
        {
          "output_type": "stream",
          "name": "stdout",
          "text": [
            "музыка\n"
          ]
        }
      ]
    },
    {
      "cell_type": "code",
      "source": [
        "print(model.wv.doesnt_match(\"карты деньги пистолет\".split()))\n"
      ],
      "metadata": {
        "colab": {
          "base_uri": "https://localhost:8080/"
        },
        "id": "23dVN4sYENZe",
        "outputId": "e6ac36f6-f4fd-4827-eda3-1c849afaadf5"
      },
      "execution_count": null,
      "outputs": [
        {
          "output_type": "stream",
          "name": "stdout",
          "text": [
            "пистолет\n"
          ]
        }
      ]
    },
    {
      "cell_type": "code",
      "source": [
        "print(model.wv.doesnt_match(\"карты деньги пистолет\".split()))"
      ],
      "metadata": {
        "colab": {
          "base_uri": "https://localhost:8080/"
        },
        "id": "j8KDcbQ0FLhx",
        "outputId": "4286c2d3-98be-4eb1-94ce-9813b8638e84"
      },
      "execution_count": null,
      "outputs": [
        {
          "output_type": "stream",
          "name": "stdout",
          "text": [
            "пистолет\n"
          ]
        }
      ]
    },
    {
      "cell_type": "markdown",
      "source": [
        "#### Постройте несколько визуализаций:"
      ],
      "metadata": {
        "id": "N1tgKm95_FGw"
      }
    },
    {
      "cell_type": "markdown",
      "source": [
        "\n",
        "* TSNE для топ-100 (или топ-500) слов и найдите осмысленные кластеры слов\n",
        "* задайте координаты для нового пространства следующим образом: одна ось описывает отношение \"плохо – хорошо\", вторая – \"медленно – быстро\" и найдите координаты названий банков в этих координатах. Более формально:\n",
        "берем вектор слова \"хорошо\", вычитаем из него вектор слова \"плохо\", получаем новый вектор, который описывает разницу между хорошими и плохими словами. Берем вектор слова \"сбербанк\" и умножаем его на этот новый вектор – получаем координату по первой оси. Аналогично – для второй оси. Две координаты уже можно нарисовать на плоскости."
      ],
      "metadata": {
        "id": "vlXqn8pDEfnX"
      }
    },
    {
      "cell_type": "code",
      "source": [
        "from nltk import FreqDist"
      ],
      "metadata": {
        "id": "9joUo9V9sa6H"
      },
      "execution_count": null,
      "outputs": []
    },
    {
      "cell_type": "code",
      "source": [
        "fd = FreqDist() # определение частотности\n",
        "top_words = []\n",
        "top_only_words = []\n",
        "top_words_f =[]\n",
        "\n",
        "# создание массива с 100 топ-слов\n",
        "for text in text_lemm:\n",
        "    fd.update(text)\n",
        "for i in fd.most_common(100):\n",
        "    top_words.append(i)\n",
        "    top_only_words.append(i[0])\n",
        "    top_words_f.append(i[1])"
      ],
      "metadata": {
        "id": "IIQl6xznsLW3"
      },
      "execution_count": null,
      "outputs": []
    },
    {
      "cell_type": "code",
      "source": [
        "top_words_f[0]"
      ],
      "metadata": {
        "colab": {
          "base_uri": "https://localhost:8080/"
        },
        "id": "TK1vXDMuCeed",
        "outputId": "81e15fb2-4d7f-4e0e-9e30-9eae91dd7494"
      },
      "execution_count": null,
      "outputs": [
        {
          "output_type": "execute_result",
          "data": {
            "text/plain": [
              "551812"
            ]
          },
          "metadata": {},
          "execution_count": 114
        }
      ]
    },
    {
      "cell_type": "code",
      "source": [
        "print(len(top_words), '\\n')\n",
        "print(top_only_words[:20])"
      ],
      "metadata": {
        "colab": {
          "base_uri": "https://localhost:8080/"
        },
        "id": "YMGN-lIIssKR",
        "outputId": "fdbc024f-7a09-49fc-cba5-9831e707a14a"
      },
      "execution_count": null,
      "outputs": [
        {
          "output_type": "stream",
          "name": "stdout",
          "text": [
            "100 \n",
            "\n",
            "['банка', 'банк', 'деньги', 'карту', 'карты', 'кредит', 'день', 'банке', 'заявление', 'очень', 'отделение', 'время', 'счет', 'дней', 'года', 'почему', 'рублей', 'карта', 'вопрос', 'смс']\n"
          ]
        }
      ]
    },
    {
      "cell_type": "code",
      "source": [
        "from sklearn.manifold import TSNE"
      ],
      "metadata": {
        "id": "Ufk23qoltAPZ"
      },
      "execution_count": null,
      "outputs": []
    },
    {
      "cell_type": "code",
      "source": [
        "top_words_vec = model[top_only_words]\n",
        "tsne = TSNE(n_components=2, random_state=0)\n",
        "top_words_tsne = tsne.fit_transform(top_words_vec)"
      ],
      "metadata": {
        "id": "8btO8jI_s12D"
      },
      "execution_count": null,
      "outputs": []
    },
    {
      "cell_type": "code",
      "source": [
        "top_words_tsne.shape"
      ],
      "metadata": {
        "colab": {
          "base_uri": "https://localhost:8080/"
        },
        "id": "6351yNnI9j3X",
        "outputId": "67031efe-c6f1-4208-9361-3d247142adbe"
      },
      "execution_count": null,
      "outputs": [
        {
          "output_type": "execute_result",
          "data": {
            "text/plain": [
              "(100, 2)"
            ]
          },
          "metadata": {},
          "execution_count": 99
        }
      ]
    },
    {
      "cell_type": "code",
      "source": [
        "import plotly.express as px"
      ],
      "metadata": {
        "id": "QDSEiXOK9eUJ"
      },
      "execution_count": null,
      "outputs": []
    },
    {
      "cell_type": "code",
      "source": [
        "fig = px.scatter(None, x=top_words_tsne[:,0], y=top_words_tsne[:,1],\n",
        "labels={\n",
        "\"x\": \"x1\",\n",
        "\"y\": \"x2\",\n",
        "},\n",
        "opacity=1,\n",
        "color=top_words_f,\n",
        "hover_data=[top_only_words]\n",
        ")\n",
        "\n",
        "# Изменение цвета фона графика\n",
        "fig.update_layout(dict(plot_bgcolor = 'white'))\n",
        "\n",
        "# Обновление линий осей\n",
        "fig.update_xaxes(showgrid=True, gridwidth=1, gridcolor='lightgrey',\n",
        "zeroline=True, zerolinewidth=1, zerolinecolor='lightgrey',\n",
        "showline=True, linewidth=1, linecolor='black')\n",
        "\n",
        "fig.update_yaxes(showgrid=True, gridwidth=1, gridcolor='lightgrey',\n",
        "zeroline=True, zerolinewidth=1, zerolinecolor='lightgrey',\n",
        "showline=True, linewidth=1, linecolor='black')\n",
        "\n",
        "# Установка названия рисунка\n",
        "fig.update_layout(title_text=\"t-SNE для топ-100\")\n",
        "\n",
        "# Обновление размера маркера\n",
        "fig.update_traces(marker=dict(size=10))\n"
      ],
      "metadata": {
        "colab": {
          "base_uri": "https://localhost:8080/",
          "height": 542
        },
        "id": "SdQWCQQS8GAB",
        "outputId": "694b0139-bb87-4cb3-a869-d66ce3d8a02a"
      },
      "execution_count": null,
      "outputs": [
        {
          "output_type": "display_data",
          "data": {
            "text/html": [
              "<html>\n",
              "<head><meta charset=\"utf-8\" /></head>\n",
              "<body>\n",
              "    <div>            <script src=\"https://cdnjs.cloudflare.com/ajax/libs/mathjax/2.7.5/MathJax.js?config=TeX-AMS-MML_SVG\"></script><script type=\"text/javascript\">if (window.MathJax && window.MathJax.Hub && window.MathJax.Hub.Config) {window.MathJax.Hub.Config({SVG: {font: \"STIX-Web\"}});}</script>                <script type=\"text/javascript\">window.PlotlyConfig = {MathJaxConfig: 'local'};</script>\n",
              "        <script src=\"https://cdn.plot.ly/plotly-2.18.2.min.js\"></script>                <div id=\"2c640043-0389-4075-84cc-1d2b52bdd542\" class=\"plotly-graph-div\" style=\"height:525px; width:100%;\"></div>            <script type=\"text/javascript\">                                    window.PLOTLYENV=window.PLOTLYENV || {};                                    if (document.getElementById(\"2c640043-0389-4075-84cc-1d2b52bdd542\")) {                    Plotly.newPlot(                        \"2c640043-0389-4075-84cc-1d2b52bdd542\",                        [{\"customdata\":[[\"\\u0431\\u0430\\u043d\\u043a\\u0430\"],[\"\\u0431\\u0430\\u043d\\u043a\"],[\"\\u0434\\u0435\\u043d\\u044c\\u0433\\u0438\"],[\"\\u043a\\u0430\\u0440\\u0442\\u0443\"],[\"\\u043a\\u0430\\u0440\\u0442\\u044b\"],[\"\\u043a\\u0440\\u0435\\u0434\\u0438\\u0442\"],[\"\\u0434\\u0435\\u043d\\u044c\"],[\"\\u0431\\u0430\\u043d\\u043a\\u0435\"],[\"\\u0437\\u0430\\u044f\\u0432\\u043b\\u0435\\u043d\\u0438\\u0435\"],[\"\\u043e\\u0447\\u0435\\u043d\\u044c\"],[\"\\u043e\\u0442\\u0434\\u0435\\u043b\\u0435\\u043d\\u0438\\u0435\"],[\"\\u0432\\u0440\\u0435\\u043c\\u044f\"],[\"\\u0441\\u0447\\u0435\\u0442\"],[\"\\u0434\\u043d\\u0435\\u0439\"],[\"\\u0433\\u043e\\u0434\\u0430\"],[\"\\u043f\\u043e\\u0447\\u0435\\u043c\\u0443\"],[\"\\u0440\\u0443\\u0431\\u043b\\u0435\\u0439\"],[\"\\u043a\\u0430\\u0440\\u0442\\u0430\"],[\"\\u0432\\u043e\\u043f\\u0440\\u043e\\u0441\"],[\"\\u0441\\u043c\\u0441\"],[\"\\u043e\\u0442\\u0432\\u0435\\u0442\"],[\"\\u0441\\u0443\\u043c\\u043c\\u0443\"],[\"\\u043f\\u0440\\u043e\\u0441\\u0442\\u043e\"],[\"\\u043d\\u043e\\u043c\\u0435\\u0440\"],[\"\\u0441\\u0435\\u0433\\u043e\\u0434\\u043d\\u044f\"],[\"\\u0434\\u0435\\u043d\\u0435\\u0433\"],[\"\\u0440\\u0443\\u0431\"],[\"\\u0441\\u043a\\u0430\\u0437\\u0430\\u043b\\u0438\"],[\"\\u0431\\u0430\\u043d\\u043a\\u043e\\u043c\"],[\"\\u043e\\u0442\\u0434\\u0435\\u043b\\u0435\\u043d\\u0438\\u0438\"],[\"\\u0441\\u0447\\u0435\\u0442\\u0430\"],[\"\\u043c\\u0438\\u043d\\u0443\\u0442\"],[\"\\u043c\\u043e\\u0433\\u0443\"],[\"\\u043a\\u0440\\u0435\\u0434\\u0438\\u0442\\u0430\"],[\"\\u043e\\u0444\\u0438\\u0441\"],[\"\\u0441\\u043e\\u0442\\u0440\\u0443\\u0434\\u043d\\u0438\\u043a\\u0438\"],[\"\\u043a\\u0430\\u0440\\u0442\\u0435\"],[\"\\u043d\\u0443\\u0436\\u043d\\u043e\"],[\"\\u0438\\u043d\\u0442\\u0435\\u0440\\u043d\\u0435\\u0442\"],[\"\\u0445\\u043e\\u0442\\u044f\"],[\"\\u0441\\u0440\\u0435\\u0434\\u0441\\u0442\\u0432\"],[\"\\u0441\\u0431\\u0435\\u0440\\u0431\\u0430\\u043d\\u043a\\u0430\"],[\"\\u043c\\u043e\\u0438\"],[\"\\u0441\\u0443\\u043c\\u043c\\u0430\"],[\"\\u043c\\u043e\\u0435\\u0439\"],[\"\\u0432\\u043a\\u043b\\u0430\\u0434\"],[\"\\u0434\\u043d\\u044f\"],[\"\\u0441\\u043e\\u0442\\u0440\\u0443\\u0434\\u043d\\u0438\\u043a\"],[\"\\u0432\\u043e\\u043e\\u0431\\u0449\\u0435\"],[\"\\u0431\\u0430\\u043d\\u043a\\u043e\\u043c\\u0430\\u0442\"],[\"\\u0441\\u0440\\u0430\\u0437\\u0443\"],[\"\\u0434\\u0435\\u0432\\u0443\\u0448\\u043a\\u0430\"],[\"\\u043a\\u043b\\u0438\\u0435\\u043d\\u0442\\u043e\\u0432\"],[\"\\u043d\\u0435\\u0441\\u043a\\u043e\\u043b\\u044c\\u043a\\u043e\"],[\"\\u0442\\u0435\\u043b\\u0435\\u0444\\u043e\\u043d\\u0443\"],[\"\\u0434\\u043e\\u043a\\u0443\\u043c\\u0435\\u043d\\u0442\\u044b\"],[\"\\u043a\\u043e\\u0442\\u043e\\u0440\\u044b\\u0435\"],[\"\\u0441\\u043e\\u0442\\u0440\\u0443\\u0434\\u043d\\u0438\\u043a\\u043e\\u0432\"],[\"\\u0441\\u0430\\u0439\\u0442\\u0435\"],[\"\\u0431\\u0430\\u043d\\u043a\\u0443\"],[\"\\u043f\\u043e\\u043b\\u0443\\u0447\\u0438\\u0442\\u044c\"],[\"\\u0434\\u043e\\u0433\\u043e\\u0432\\u043e\\u0440\"],[\"\\u043f\\u0440\\u043e\\u0448\\u0443\"],[\"\\u043c\\u043d\\u043e\\u0439\"],[\"\\u043a\\u043b\\u0438\\u0435\\u043d\\u0442\\u043e\\u043c\"],[\"\\u0432\\u0440\\u0435\\u043c\\u0435\\u043d\\u0438\"],[\"\\u0441\\u0440\\u043e\\u043a\"],[\"\\u043f\\u043e\\u043a\\u0430\"],[\"\\u043c\\u043e\\u0435\\u0433\\u043e\"],[\"\\u0441\\u0431\\u0435\\u0440\\u0431\\u0430\\u043d\\u043a\"],[\"\\u0434\\u043e\\u0433\\u043e\\u0432\\u043e\\u0440\\u0430\"],[\"\\u043e\\u0442\\u0434\\u0435\\u043b\\u0435\\u043d\\u0438\\u044f\"],[\"\\u043f\\u043e\\u043b\\u0443\\u0447\\u0438\\u043b\"],[\"\\u0445\\u043e\\u0447\\u0443\"],[\"\\u043c\\u0435\\u0441\\u044f\\u0446\"],[\"\\u043f\\u043b\\u0430\\u0442\\u0435\\u0436\"],[\"\\u0441\\u043a\\u0430\\u0437\\u0430\\u043b\\u0430\"],[\"\\u0440\\u0435\\u0448\\u0438\\u043b\"],[\"\\u0441\\u0440\\u0435\\u0434\\u0441\\u0442\\u0432\\u0430\"],[\"\\u043c\\u0435\\u0441\\u044f\\u0446\\u0430\"],[\"\\u0442\\u0435\\u0447\\u0435\\u043d\\u0438\\u0435\"],[\"\\u0437\\u0430\\u044f\\u0432\\u043a\\u0443\"],[\"\\u043d\\u0438\\u043a\\u0442\\u043e\"],[\"\\u0440\\u0430\\u0431\\u043e\\u0442\\u044b\"],[\"\\u0441\\u043f\\u0430\\u0441\\u0438\\u0431\\u043e\"],[\"\\u043e\\u043f\\u0435\\u0440\\u0430\\u0446\\u0438\\u0438\"],[\"\\u043f\\u043e\\u0437\\u0432\\u043e\\u043d\\u0438\\u043b\"],[\"\\u0440\\u0430\\u0431\\u043e\\u0442\\u0430\\u0435\\u0442\"],[\"\\u0441\\u0434\\u0435\\u043b\\u0430\\u0442\\u044c\"],[\"\\u0432\\u043a\\u043b\\u0430\\u0434\\u0430\"],[\"\\u0441\\u0432\\u043e\\u0438\"],[\"\\u043c\\u043e\\u043c\\u0435\\u043d\\u0442\"],[\"\\u0442\\u0435\\u043b\\u0435\\u0444\\u043e\\u043d\"],[\"\\u0438\\u043d\\u0444\\u043e\\u0440\\u043c\\u0430\\u0446\\u0438\\u044e\"],[\"\\u0438\\u0442\\u043e\\u0433\\u0435\"],[\"\\u043e\\u0447\\u0435\\u0440\\u0435\\u0434\\u0438\"],[\"\\u0431\\u0443\\u0434\\u0443\"],[\"\\u0441\\u043d\\u043e\\u0432\\u0430\"],[\"\\u043b\\u0438\\u0431\\u043e\"],[\"\\u0434\\u0430\\u043d\\u043d\\u044b\\u0435\"]],\"hovertemplate\":\"x1=%{x}<br>x2=%{y}<br>hover_data_0=%{customdata[0]}<br>color=%{marker.color}<extra></extra>\",\"legendgroup\":\"\",\"marker\":{\"color\":[551812,430852,262402,211658,203642,162272,153104,144338,140846,133648,133294,131526,113644,111830,111492,104006,101800,101142,99290,97624,97302,93678,90478,87894,85176,84290,83448,81698,80220,80050,79044,74586,74220,74026,73638,71308,71236,69726,68632,66658,65866,65650,64874,64408,63976,63152,62486,62378,61710,61616,61294,60944,60854,59138,57914,57318,57046,57028,56532,55914,54252,53846,53582,53264,52492,51646,51186,51038,50362,50300,49978,49972,49768,49522,49274,48936,48762,48398,48048,47570,46710,46248,45830,45460,45276,45222,45034,44422,44354,44176,44170,43796,43760,43746,43600,43316,42820,42114,42012,41844],\"coloraxis\":\"coloraxis\",\"opacity\":1,\"symbol\":\"circle\",\"size\":10},\"mode\":\"markers\",\"name\":\"\",\"orientation\":\"v\",\"showlegend\":false,\"x\":[0.8284180760383606,1.570615530014038,-3.246762990951538,-4.885908126831055,-5.602891445159912,-5.224568843841553,-2.6703975200653076,0.9576234817504883,2.926614284515381,-0.05272942781448364,3.811969757080078,-2.296008348464966,-6.098455429077148,-3.726480007171631,-4.110605716705322,-0.929774284362793,-4.009181022644043,-5.847419261932373,-0.2830522656440735,-2.9965364933013916,-0.8062617182731628,-3.9694294929504395,-0.4241207242012024,4.517903804779053,-1.6138240098953247,-4.8334269523620605,-3.984013557434082,-2.5248429775238037,0.9247307777404785,3.127577304840088,-6.174631118774414,-3.259124517440796,-0.6903790235519409,-5.715478420257568,3.864431381225586,2.010774850845337,-5.489434242248535,-0.6714654564857483,0.019835012033581734,-0.7160103917121887,-4.89029598236084,0.8817768692970276,-0.9803258776664734,-4.218231201171875,-1.6484713554382324,-6.598087787628174,-3.683000087738037,3.0715603828430176,-0.47684580087661743,2.542142152786255,-1.3679558038711548,3.2367990016937256,1.3166385889053345,-1.011291742324829,-0.24889105558395386,1.8502541780471802,-0.345798522233963,1.6576850414276123,0.429242342710495,0.9640074968338013,-0.8487544059753418,-6.178494930267334,-1.0942105054855347,-1.0614269971847534,0.6272719502449036,-2.968013048171997,-2.210686445236206,-1.1983643770217896,-1.753957986831665,1.5396490097045898,-6.238823890686035,2.785228729248047,-0.8744408488273621,-0.7301584482192993,-3.154447555541992,-3.927931070327759,-2.52968430519104,-0.309481680393219,-3.2338898181915283,-3.89103364944458,-1.1995518207550049,2.889857292175293,2.4899940490722656,1.1564043760299683,-0.31718701124191284,-3.7431204319000244,-2.127645969390869,0.6886895895004272,-0.8406035900115967,-6.718652248382568,-0.8974534273147583,-2.123232126235962,4.424712181091309,1.2843215465545654,-1.2727479934692383,1.4428004026412964,-0.7416354417800903,-1.3176590204238892,-0.14835554361343384,1.5001914501190186],\"xaxis\":\"x\",\"y\":[0.9431959390640259,0.7345547676086426,-2.720021963119507,0.8639132976531982,-0.3428528606891632,2.769993305206299,3.343759059906006,0.20516642928123474,5.988548755645752,0.9633545279502869,3.033543825149536,2.396606922149658,1.0327568054199219,4.924194812774658,4.049749851226807,1.2529408931732178,-0.5236566066741943,-1.273073673248291,2.7855277061462402,0.160124272108078,4.102863788604736,-1.211409330368042,1.4321469068527222,0.9078913331031799,2.1777567863464355,-3.037457227706909,-0.4694617688655853,1.4091944694519043,-0.624241054058075,2.718698024749756,0.5892127156257629,5.386966228485107,6.609333038330078,2.61965012550354,3.0340216159820557,-2.2840425968170166,-0.41031646728515625,6.455570220947266,3.6925320625305176,1.36849844455719,-3.097747325897217,1.1098830699920654,-0.7584836483001709,-1.2728062868118286,0.20500367879867554,1.4687227010726929,4.654409408569336,-0.3899936079978943,1.486531138420105,1.35709810256958,1.6940480470657349,-0.7776561975479126,-2.1047863960266113,2.6639537811279297,2.263608455657959,5.101667404174805,-0.08861392736434937,-2.201751232147217,3.0739288330078125,-0.10885729640722275,-2.7972657680511475,3.520834445953369,7.19490909576416,0.49159228801727295,-1.2681478261947632,2.550261974334717,4.0890116691589355,1.9500974416732788,0.36213669180870056,0.9378728270530701,3.427460193634033,2.6314711570739746,-2.985541820526123,6.587733745574951,3.5749268531799316,2.090251922607422,1.3645336627960205,6.953710556030273,-2.785898208618164,4.220290184020996,3.3712871074676514,5.956972599029541,0.12407507747411728,2.1594200134277344,0.48199746012687683,0.7185273766517639,-0.796409010887146,2.1061935424804688,-2.2006144523620605,1.6100975275039673,-0.8937414884567261,3.14762020111084,0.914168119430542,4.379685878753662,1.8750102519989014,2.900975465774536,5.595278739929199,2.0279877185821533,1.614104151725769,4.570382118225098],\"yaxis\":\"y\",\"type\":\"scatter\"}],                        {\"template\":{\"data\":{\"histogram2dcontour\":[{\"type\":\"histogram2dcontour\",\"colorbar\":{\"outlinewidth\":0,\"ticks\":\"\"},\"colorscale\":[[0.0,\"#0d0887\"],[0.1111111111111111,\"#46039f\"],[0.2222222222222222,\"#7201a8\"],[0.3333333333333333,\"#9c179e\"],[0.4444444444444444,\"#bd3786\"],[0.5555555555555556,\"#d8576b\"],[0.6666666666666666,\"#ed7953\"],[0.7777777777777778,\"#fb9f3a\"],[0.8888888888888888,\"#fdca26\"],[1.0,\"#f0f921\"]]}],\"choropleth\":[{\"type\":\"choropleth\",\"colorbar\":{\"outlinewidth\":0,\"ticks\":\"\"}}],\"histogram2d\":[{\"type\":\"histogram2d\",\"colorbar\":{\"outlinewidth\":0,\"ticks\":\"\"},\"colorscale\":[[0.0,\"#0d0887\"],[0.1111111111111111,\"#46039f\"],[0.2222222222222222,\"#7201a8\"],[0.3333333333333333,\"#9c179e\"],[0.4444444444444444,\"#bd3786\"],[0.5555555555555556,\"#d8576b\"],[0.6666666666666666,\"#ed7953\"],[0.7777777777777778,\"#fb9f3a\"],[0.8888888888888888,\"#fdca26\"],[1.0,\"#f0f921\"]]}],\"heatmap\":[{\"type\":\"heatmap\",\"colorbar\":{\"outlinewidth\":0,\"ticks\":\"\"},\"colorscale\":[[0.0,\"#0d0887\"],[0.1111111111111111,\"#46039f\"],[0.2222222222222222,\"#7201a8\"],[0.3333333333333333,\"#9c179e\"],[0.4444444444444444,\"#bd3786\"],[0.5555555555555556,\"#d8576b\"],[0.6666666666666666,\"#ed7953\"],[0.7777777777777778,\"#fb9f3a\"],[0.8888888888888888,\"#fdca26\"],[1.0,\"#f0f921\"]]}],\"heatmapgl\":[{\"type\":\"heatmapgl\",\"colorbar\":{\"outlinewidth\":0,\"ticks\":\"\"},\"colorscale\":[[0.0,\"#0d0887\"],[0.1111111111111111,\"#46039f\"],[0.2222222222222222,\"#7201a8\"],[0.3333333333333333,\"#9c179e\"],[0.4444444444444444,\"#bd3786\"],[0.5555555555555556,\"#d8576b\"],[0.6666666666666666,\"#ed7953\"],[0.7777777777777778,\"#fb9f3a\"],[0.8888888888888888,\"#fdca26\"],[1.0,\"#f0f921\"]]}],\"contourcarpet\":[{\"type\":\"contourcarpet\",\"colorbar\":{\"outlinewidth\":0,\"ticks\":\"\"}}],\"contour\":[{\"type\":\"contour\",\"colorbar\":{\"outlinewidth\":0,\"ticks\":\"\"},\"colorscale\":[[0.0,\"#0d0887\"],[0.1111111111111111,\"#46039f\"],[0.2222222222222222,\"#7201a8\"],[0.3333333333333333,\"#9c179e\"],[0.4444444444444444,\"#bd3786\"],[0.5555555555555556,\"#d8576b\"],[0.6666666666666666,\"#ed7953\"],[0.7777777777777778,\"#fb9f3a\"],[0.8888888888888888,\"#fdca26\"],[1.0,\"#f0f921\"]]}],\"surface\":[{\"type\":\"surface\",\"colorbar\":{\"outlinewidth\":0,\"ticks\":\"\"},\"colorscale\":[[0.0,\"#0d0887\"],[0.1111111111111111,\"#46039f\"],[0.2222222222222222,\"#7201a8\"],[0.3333333333333333,\"#9c179e\"],[0.4444444444444444,\"#bd3786\"],[0.5555555555555556,\"#d8576b\"],[0.6666666666666666,\"#ed7953\"],[0.7777777777777778,\"#fb9f3a\"],[0.8888888888888888,\"#fdca26\"],[1.0,\"#f0f921\"]]}],\"mesh3d\":[{\"type\":\"mesh3d\",\"colorbar\":{\"outlinewidth\":0,\"ticks\":\"\"}}],\"scatter\":[{\"fillpattern\":{\"fillmode\":\"overlay\",\"size\":10,\"solidity\":0.2},\"type\":\"scatter\"}],\"parcoords\":[{\"type\":\"parcoords\",\"line\":{\"colorbar\":{\"outlinewidth\":0,\"ticks\":\"\"}}}],\"scatterpolargl\":[{\"type\":\"scatterpolargl\",\"marker\":{\"colorbar\":{\"outlinewidth\":0,\"ticks\":\"\"}}}],\"bar\":[{\"error_x\":{\"color\":\"#2a3f5f\"},\"error_y\":{\"color\":\"#2a3f5f\"},\"marker\":{\"line\":{\"color\":\"#E5ECF6\",\"width\":0.5},\"pattern\":{\"fillmode\":\"overlay\",\"size\":10,\"solidity\":0.2}},\"type\":\"bar\"}],\"scattergeo\":[{\"type\":\"scattergeo\",\"marker\":{\"colorbar\":{\"outlinewidth\":0,\"ticks\":\"\"}}}],\"scatterpolar\":[{\"type\":\"scatterpolar\",\"marker\":{\"colorbar\":{\"outlinewidth\":0,\"ticks\":\"\"}}}],\"histogram\":[{\"marker\":{\"pattern\":{\"fillmode\":\"overlay\",\"size\":10,\"solidity\":0.2}},\"type\":\"histogram\"}],\"scattergl\":[{\"type\":\"scattergl\",\"marker\":{\"colorbar\":{\"outlinewidth\":0,\"ticks\":\"\"}}}],\"scatter3d\":[{\"type\":\"scatter3d\",\"line\":{\"colorbar\":{\"outlinewidth\":0,\"ticks\":\"\"}},\"marker\":{\"colorbar\":{\"outlinewidth\":0,\"ticks\":\"\"}}}],\"scattermapbox\":[{\"type\":\"scattermapbox\",\"marker\":{\"colorbar\":{\"outlinewidth\":0,\"ticks\":\"\"}}}],\"scatterternary\":[{\"type\":\"scatterternary\",\"marker\":{\"colorbar\":{\"outlinewidth\":0,\"ticks\":\"\"}}}],\"scattercarpet\":[{\"type\":\"scattercarpet\",\"marker\":{\"colorbar\":{\"outlinewidth\":0,\"ticks\":\"\"}}}],\"carpet\":[{\"aaxis\":{\"endlinecolor\":\"#2a3f5f\",\"gridcolor\":\"white\",\"linecolor\":\"white\",\"minorgridcolor\":\"white\",\"startlinecolor\":\"#2a3f5f\"},\"baxis\":{\"endlinecolor\":\"#2a3f5f\",\"gridcolor\":\"white\",\"linecolor\":\"white\",\"minorgridcolor\":\"white\",\"startlinecolor\":\"#2a3f5f\"},\"type\":\"carpet\"}],\"table\":[{\"cells\":{\"fill\":{\"color\":\"#EBF0F8\"},\"line\":{\"color\":\"white\"}},\"header\":{\"fill\":{\"color\":\"#C8D4E3\"},\"line\":{\"color\":\"white\"}},\"type\":\"table\"}],\"barpolar\":[{\"marker\":{\"line\":{\"color\":\"#E5ECF6\",\"width\":0.5},\"pattern\":{\"fillmode\":\"overlay\",\"size\":10,\"solidity\":0.2}},\"type\":\"barpolar\"}],\"pie\":[{\"automargin\":true,\"type\":\"pie\"}]},\"layout\":{\"autotypenumbers\":\"strict\",\"colorway\":[\"#636efa\",\"#EF553B\",\"#00cc96\",\"#ab63fa\",\"#FFA15A\",\"#19d3f3\",\"#FF6692\",\"#B6E880\",\"#FF97FF\",\"#FECB52\"],\"font\":{\"color\":\"#2a3f5f\"},\"hovermode\":\"closest\",\"hoverlabel\":{\"align\":\"left\"},\"paper_bgcolor\":\"white\",\"plot_bgcolor\":\"#E5ECF6\",\"polar\":{\"bgcolor\":\"#E5ECF6\",\"angularaxis\":{\"gridcolor\":\"white\",\"linecolor\":\"white\",\"ticks\":\"\"},\"radialaxis\":{\"gridcolor\":\"white\",\"linecolor\":\"white\",\"ticks\":\"\"}},\"ternary\":{\"bgcolor\":\"#E5ECF6\",\"aaxis\":{\"gridcolor\":\"white\",\"linecolor\":\"white\",\"ticks\":\"\"},\"baxis\":{\"gridcolor\":\"white\",\"linecolor\":\"white\",\"ticks\":\"\"},\"caxis\":{\"gridcolor\":\"white\",\"linecolor\":\"white\",\"ticks\":\"\"}},\"coloraxis\":{\"colorbar\":{\"outlinewidth\":0,\"ticks\":\"\"}},\"colorscale\":{\"sequential\":[[0.0,\"#0d0887\"],[0.1111111111111111,\"#46039f\"],[0.2222222222222222,\"#7201a8\"],[0.3333333333333333,\"#9c179e\"],[0.4444444444444444,\"#bd3786\"],[0.5555555555555556,\"#d8576b\"],[0.6666666666666666,\"#ed7953\"],[0.7777777777777778,\"#fb9f3a\"],[0.8888888888888888,\"#fdca26\"],[1.0,\"#f0f921\"]],\"sequentialminus\":[[0.0,\"#0d0887\"],[0.1111111111111111,\"#46039f\"],[0.2222222222222222,\"#7201a8\"],[0.3333333333333333,\"#9c179e\"],[0.4444444444444444,\"#bd3786\"],[0.5555555555555556,\"#d8576b\"],[0.6666666666666666,\"#ed7953\"],[0.7777777777777778,\"#fb9f3a\"],[0.8888888888888888,\"#fdca26\"],[1.0,\"#f0f921\"]],\"diverging\":[[0,\"#8e0152\"],[0.1,\"#c51b7d\"],[0.2,\"#de77ae\"],[0.3,\"#f1b6da\"],[0.4,\"#fde0ef\"],[0.5,\"#f7f7f7\"],[0.6,\"#e6f5d0\"],[0.7,\"#b8e186\"],[0.8,\"#7fbc41\"],[0.9,\"#4d9221\"],[1,\"#276419\"]]},\"xaxis\":{\"gridcolor\":\"white\",\"linecolor\":\"white\",\"ticks\":\"\",\"title\":{\"standoff\":15},\"zerolinecolor\":\"white\",\"automargin\":true,\"zerolinewidth\":2},\"yaxis\":{\"gridcolor\":\"white\",\"linecolor\":\"white\",\"ticks\":\"\",\"title\":{\"standoff\":15},\"zerolinecolor\":\"white\",\"automargin\":true,\"zerolinewidth\":2},\"scene\":{\"xaxis\":{\"backgroundcolor\":\"#E5ECF6\",\"gridcolor\":\"white\",\"linecolor\":\"white\",\"showbackground\":true,\"ticks\":\"\",\"zerolinecolor\":\"white\",\"gridwidth\":2},\"yaxis\":{\"backgroundcolor\":\"#E5ECF6\",\"gridcolor\":\"white\",\"linecolor\":\"white\",\"showbackground\":true,\"ticks\":\"\",\"zerolinecolor\":\"white\",\"gridwidth\":2},\"zaxis\":{\"backgroundcolor\":\"#E5ECF6\",\"gridcolor\":\"white\",\"linecolor\":\"white\",\"showbackground\":true,\"ticks\":\"\",\"zerolinecolor\":\"white\",\"gridwidth\":2}},\"shapedefaults\":{\"line\":{\"color\":\"#2a3f5f\"}},\"annotationdefaults\":{\"arrowcolor\":\"#2a3f5f\",\"arrowhead\":0,\"arrowwidth\":1},\"geo\":{\"bgcolor\":\"white\",\"landcolor\":\"#E5ECF6\",\"subunitcolor\":\"white\",\"showland\":true,\"showlakes\":true,\"lakecolor\":\"white\"},\"title\":{\"x\":0.05},\"mapbox\":{\"style\":\"light\"}}},\"xaxis\":{\"anchor\":\"y\",\"domain\":[0.0,1.0],\"title\":{\"text\":\"x1\"},\"showgrid\":true,\"gridwidth\":1,\"gridcolor\":\"lightgrey\",\"zeroline\":true,\"zerolinewidth\":1,\"zerolinecolor\":\"lightgrey\",\"showline\":true,\"linewidth\":1,\"linecolor\":\"black\"},\"yaxis\":{\"anchor\":\"x\",\"domain\":[0.0,1.0],\"title\":{\"text\":\"x2\"},\"showgrid\":true,\"gridwidth\":1,\"gridcolor\":\"lightgrey\",\"zeroline\":true,\"zerolinewidth\":1,\"zerolinecolor\":\"lightgrey\",\"showline\":true,\"linewidth\":1,\"linecolor\":\"black\"},\"coloraxis\":{\"colorbar\":{\"title\":{\"text\":\"color\"}},\"colorscale\":[[0.0,\"#0d0887\"],[0.1111111111111111,\"#46039f\"],[0.2222222222222222,\"#7201a8\"],[0.3333333333333333,\"#9c179e\"],[0.4444444444444444,\"#bd3786\"],[0.5555555555555556,\"#d8576b\"],[0.6666666666666666,\"#ed7953\"],[0.7777777777777778,\"#fb9f3a\"],[0.8888888888888888,\"#fdca26\"],[1.0,\"#f0f921\"]]},\"legend\":{\"tracegroupgap\":0},\"margin\":{\"t\":60},\"plot_bgcolor\":\"white\",\"title\":{\"text\":\"t-SNE \\u0434\\u043b\\u044f \\u0442\\u043e\\u043f-100\"}},                        {\"responsive\": true}                    ).then(function(){\n",
              "                            \n",
              "var gd = document.getElementById('2c640043-0389-4075-84cc-1d2b52bdd542');\n",
              "var x = new MutationObserver(function (mutations, observer) {{\n",
              "        var display = window.getComputedStyle(gd).display;\n",
              "        if (!display || display === 'none') {{\n",
              "            console.log([gd, 'removed!']);\n",
              "            Plotly.purge(gd);\n",
              "            observer.disconnect();\n",
              "        }}\n",
              "}});\n",
              "\n",
              "// Listen for the removal of the full notebook cells\n",
              "var notebookContainer = gd.closest('#notebook-container');\n",
              "if (notebookContainer) {{\n",
              "    x.observe(notebookContainer, {childList: true});\n",
              "}}\n",
              "\n",
              "// Listen for the clearing of the current output cell\n",
              "var outputEl = gd.closest('.output');\n",
              "if (outputEl) {{\n",
              "    x.observe(outputEl, {childList: true});\n",
              "}}\n",
              "\n",
              "                        })                };                            </script>        </div>\n",
              "</body>\n",
              "</html>"
            ]
          },
          "metadata": {}
        }
      ]
    },
    {
      "cell_type": "code",
      "source": [
        "# https://docs.bokeh.org/en/latest/\n",
        "from bokeh.models import ColumnDataSource, LabelSet\n",
        "from bokeh.plotting import figure, show, output_file\n",
        "from bokeh.io import output_notebook\n",
        "output_notebook()\n",
        "\n",
        "p = figure(title=\"T-SNE для топ-100\")\n",
        "\n",
        "source = ColumnDataSource(\n",
        "    data=dict(\n",
        "        x1=top_words_tsne[:,0],\n",
        "        x2=top_words_tsne[:,1],\n",
        "        names=top_only_words))\n",
        "\n",
        "p.scatter(\n",
        "    x=\"x1\",\n",
        "    y=\"x2\",\n",
        "    size=5,\n",
        "    source=source)\n",
        "\n",
        "labels = LabelSet(\n",
        "    x=\"x1\",\n",
        "    y=\"x2\",\n",
        "    text=\"names\",\n",
        "    y_offset=6,\n",
        "    text_font_size=\"5pt\",\n",
        "    text_color=\"#555555\",\n",
        "    source=source,\n",
        "    text_align='center')\n",
        "\n",
        "p.add_layout(labels)\n",
        "show(p)"
      ],
      "metadata": {
        "colab": {
          "base_uri": "https://localhost:8080/",
          "height": 617
        },
        "id": "jT3Zjg70tJ5G",
        "outputId": "be497e8f-e76d-48ec-f8ad-29e67d243d79"
      },
      "execution_count": null,
      "outputs": [
        {
          "output_type": "display_data",
          "data": {
            "application/javascript": [
              "(function(root) {\n",
              "  function now() {\n",
              "    return new Date();\n",
              "  }\n",
              "\n",
              "  const force = true;\n",
              "\n",
              "  if (typeof root._bokeh_onload_callbacks === \"undefined\" || force === true) {\n",
              "    root._bokeh_onload_callbacks = [];\n",
              "    root._bokeh_is_loading = undefined;\n",
              "  }\n",
              "\n",
              "const JS_MIME_TYPE = 'application/javascript';\n",
              "  const HTML_MIME_TYPE = 'text/html';\n",
              "  const EXEC_MIME_TYPE = 'application/vnd.bokehjs_exec.v0+json';\n",
              "  const CLASS_NAME = 'output_bokeh rendered_html';\n",
              "\n",
              "  /**\n",
              "   * Render data to the DOM node\n",
              "   */\n",
              "  function render(props, node) {\n",
              "    const script = document.createElement(\"script\");\n",
              "    node.appendChild(script);\n",
              "  }\n",
              "\n",
              "  /**\n",
              "   * Handle when an output is cleared or removed\n",
              "   */\n",
              "  function handleClearOutput(event, handle) {\n",
              "    const cell = handle.cell;\n",
              "\n",
              "    const id = cell.output_area._bokeh_element_id;\n",
              "    const server_id = cell.output_area._bokeh_server_id;\n",
              "    // Clean up Bokeh references\n",
              "    if (id != null && id in Bokeh.index) {\n",
              "      Bokeh.index[id].model.document.clear();\n",
              "      delete Bokeh.index[id];\n",
              "    }\n",
              "\n",
              "    if (server_id !== undefined) {\n",
              "      // Clean up Bokeh references\n",
              "      const cmd_clean = \"from bokeh.io.state import curstate; print(curstate().uuid_to_server['\" + server_id + \"'].get_sessions()[0].document.roots[0]._id)\";\n",
              "      cell.notebook.kernel.execute(cmd_clean, {\n",
              "        iopub: {\n",
              "          output: function(msg) {\n",
              "            const id = msg.content.text.trim();\n",
              "            if (id in Bokeh.index) {\n",
              "              Bokeh.index[id].model.document.clear();\n",
              "              delete Bokeh.index[id];\n",
              "            }\n",
              "          }\n",
              "        }\n",
              "      });\n",
              "      // Destroy server and session\n",
              "      const cmd_destroy = \"import bokeh.io.notebook as ion; ion.destroy_server('\" + server_id + \"')\";\n",
              "      cell.notebook.kernel.execute(cmd_destroy);\n",
              "    }\n",
              "  }\n",
              "\n",
              "  /**\n",
              "   * Handle when a new output is added\n",
              "   */\n",
              "  function handleAddOutput(event, handle) {\n",
              "    const output_area = handle.output_area;\n",
              "    const output = handle.output;\n",
              "\n",
              "    // limit handleAddOutput to display_data with EXEC_MIME_TYPE content only\n",
              "    if ((output.output_type != \"display_data\") || (!Object.prototype.hasOwnProperty.call(output.data, EXEC_MIME_TYPE))) {\n",
              "      return\n",
              "    }\n",
              "\n",
              "    const toinsert = output_area.element.find(\".\" + CLASS_NAME.split(' ')[0]);\n",
              "\n",
              "    if (output.metadata[EXEC_MIME_TYPE][\"id\"] !== undefined) {\n",
              "      toinsert[toinsert.length - 1].firstChild.textContent = output.data[JS_MIME_TYPE];\n",
              "      // store reference to embed id on output_area\n",
              "      output_area._bokeh_element_id = output.metadata[EXEC_MIME_TYPE][\"id\"];\n",
              "    }\n",
              "    if (output.metadata[EXEC_MIME_TYPE][\"server_id\"] !== undefined) {\n",
              "      const bk_div = document.createElement(\"div\");\n",
              "      bk_div.innerHTML = output.data[HTML_MIME_TYPE];\n",
              "      const script_attrs = bk_div.children[0].attributes;\n",
              "      for (let i = 0; i < script_attrs.length; i++) {\n",
              "        toinsert[toinsert.length - 1].firstChild.setAttribute(script_attrs[i].name, script_attrs[i].value);\n",
              "        toinsert[toinsert.length - 1].firstChild.textContent = bk_div.children[0].textContent\n",
              "      }\n",
              "      // store reference to server id on output_area\n",
              "      output_area._bokeh_server_id = output.metadata[EXEC_MIME_TYPE][\"server_id\"];\n",
              "    }\n",
              "  }\n",
              "\n",
              "  function register_renderer(events, OutputArea) {\n",
              "\n",
              "    function append_mime(data, metadata, element) {\n",
              "      // create a DOM node to render to\n",
              "      const toinsert = this.create_output_subarea(\n",
              "        metadata,\n",
              "        CLASS_NAME,\n",
              "        EXEC_MIME_TYPE\n",
              "      );\n",
              "      this.keyboard_manager.register_events(toinsert);\n",
              "      // Render to node\n",
              "      const props = {data: data, metadata: metadata[EXEC_MIME_TYPE]};\n",
              "      render(props, toinsert[toinsert.length - 1]);\n",
              "      element.append(toinsert);\n",
              "      return toinsert\n",
              "    }\n",
              "\n",
              "    /* Handle when an output is cleared or removed */\n",
              "    events.on('clear_output.CodeCell', handleClearOutput);\n",
              "    events.on('delete.Cell', handleClearOutput);\n",
              "\n",
              "    /* Handle when a new output is added */\n",
              "    events.on('output_added.OutputArea', handleAddOutput);\n",
              "\n",
              "    /**\n",
              "     * Register the mime type and append_mime function with output_area\n",
              "     */\n",
              "    OutputArea.prototype.register_mime_type(EXEC_MIME_TYPE, append_mime, {\n",
              "      /* Is output safe? */\n",
              "      safe: true,\n",
              "      /* Index of renderer in `output_area.display_order` */\n",
              "      index: 0\n",
              "    });\n",
              "  }\n",
              "\n",
              "  // register the mime type if in Jupyter Notebook environment and previously unregistered\n",
              "  if (root.Jupyter !== undefined) {\n",
              "    const events = require('base/js/events');\n",
              "    const OutputArea = require('notebook/js/outputarea').OutputArea;\n",
              "\n",
              "    if (OutputArea.prototype.mime_types().indexOf(EXEC_MIME_TYPE) == -1) {\n",
              "      register_renderer(events, OutputArea);\n",
              "    }\n",
              "  }\n",
              "  if (typeof (root._bokeh_timeout) === \"undefined\" || force === true) {\n",
              "    root._bokeh_timeout = Date.now() + 5000;\n",
              "    root._bokeh_failed_load = false;\n",
              "  }\n",
              "\n",
              "  const NB_LOAD_WARNING = {'data': {'text/html':\n",
              "     \"<div style='background-color: #fdd'>\\n\"+\n",
              "     \"<p>\\n\"+\n",
              "     \"BokehJS does not appear to have successfully loaded. If loading BokehJS from CDN, this \\n\"+\n",
              "     \"may be due to a slow or bad network connection. Possible fixes:\\n\"+\n",
              "     \"</p>\\n\"+\n",
              "     \"<ul>\\n\"+\n",
              "     \"<li>re-rerun `output_notebook()` to attempt to load from CDN again, or</li>\\n\"+\n",
              "     \"<li>use INLINE resources instead, as so:</li>\\n\"+\n",
              "     \"</ul>\\n\"+\n",
              "     \"<code>\\n\"+\n",
              "     \"from bokeh.resources import INLINE\\n\"+\n",
              "     \"output_notebook(resources=INLINE)\\n\"+\n",
              "     \"</code>\\n\"+\n",
              "     \"</div>\"}};\n",
              "\n",
              "  function display_loaded() {\n",
              "    const el = document.getElementById(null);\n",
              "    if (el != null) {\n",
              "      el.textContent = \"BokehJS is loading...\";\n",
              "    }\n",
              "    if (root.Bokeh !== undefined) {\n",
              "      if (el != null) {\n",
              "        el.textContent = \"BokehJS \" + root.Bokeh.version + \" successfully loaded.\";\n",
              "      }\n",
              "    } else if (Date.now() < root._bokeh_timeout) {\n",
              "      setTimeout(display_loaded, 100)\n",
              "    }\n",
              "  }\n",
              "\n",
              "  function run_callbacks() {\n",
              "    try {\n",
              "      root._bokeh_onload_callbacks.forEach(function(callback) {\n",
              "        if (callback != null)\n",
              "          callback();\n",
              "      });\n",
              "    } finally {\n",
              "      delete root._bokeh_onload_callbacks\n",
              "    }\n",
              "    console.debug(\"Bokeh: all callbacks have finished\");\n",
              "  }\n",
              "\n",
              "  function load_libs(css_urls, js_urls, callback) {\n",
              "    if (css_urls == null) css_urls = [];\n",
              "    if (js_urls == null) js_urls = [];\n",
              "\n",
              "    root._bokeh_onload_callbacks.push(callback);\n",
              "    if (root._bokeh_is_loading > 0) {\n",
              "      console.debug(\"Bokeh: BokehJS is being loaded, scheduling callback at\", now());\n",
              "      return null;\n",
              "    }\n",
              "    if (js_urls == null || js_urls.length === 0) {\n",
              "      run_callbacks();\n",
              "      return null;\n",
              "    }\n",
              "    console.debug(\"Bokeh: BokehJS not loaded, scheduling load and callback at\", now());\n",
              "    root._bokeh_is_loading = css_urls.length + js_urls.length;\n",
              "\n",
              "    function on_load() {\n",
              "      root._bokeh_is_loading--;\n",
              "      if (root._bokeh_is_loading === 0) {\n",
              "        console.debug(\"Bokeh: all BokehJS libraries/stylesheets loaded\");\n",
              "        run_callbacks()\n",
              "      }\n",
              "    }\n",
              "\n",
              "    function on_error(url) {\n",
              "      console.error(\"failed to load \" + url);\n",
              "    }\n",
              "\n",
              "    for (let i = 0; i < css_urls.length; i++) {\n",
              "      const url = css_urls[i];\n",
              "      const element = document.createElement(\"link\");\n",
              "      element.onload = on_load;\n",
              "      element.onerror = on_error.bind(null, url);\n",
              "      element.rel = \"stylesheet\";\n",
              "      element.type = \"text/css\";\n",
              "      element.href = url;\n",
              "      console.debug(\"Bokeh: injecting link tag for BokehJS stylesheet: \", url);\n",
              "      document.body.appendChild(element);\n",
              "    }\n",
              "\n",
              "    for (let i = 0; i < js_urls.length; i++) {\n",
              "      const url = js_urls[i];\n",
              "      const element = document.createElement('script');\n",
              "      element.onload = on_load;\n",
              "      element.onerror = on_error.bind(null, url);\n",
              "      element.async = false;\n",
              "      element.src = url;\n",
              "      console.debug(\"Bokeh: injecting script tag for BokehJS library: \", url);\n",
              "      document.head.appendChild(element);\n",
              "    }\n",
              "  };\n",
              "\n",
              "  function inject_raw_css(css) {\n",
              "    const element = document.createElement(\"style\");\n",
              "    element.appendChild(document.createTextNode(css));\n",
              "    document.body.appendChild(element);\n",
              "  }\n",
              "\n",
              "  const js_urls = [\"https://cdn.bokeh.org/bokeh/release/bokeh-2.4.3.min.js\", \"https://cdn.bokeh.org/bokeh/release/bokeh-gl-2.4.3.min.js\", \"https://cdn.bokeh.org/bokeh/release/bokeh-widgets-2.4.3.min.js\", \"https://cdn.bokeh.org/bokeh/release/bokeh-tables-2.4.3.min.js\", \"https://cdn.bokeh.org/bokeh/release/bokeh-mathjax-2.4.3.min.js\"];\n",
              "  const css_urls = [];\n",
              "\n",
              "  const inline_js = [    function(Bokeh) {\n",
              "      Bokeh.set_log_level(\"info\");\n",
              "    },\n",
              "function(Bokeh) {\n",
              "    }\n",
              "  ];\n",
              "\n",
              "  function run_inline_js() {\n",
              "    if (root.Bokeh !== undefined || force === true) {\n",
              "          for (let i = 0; i < inline_js.length; i++) {\n",
              "      inline_js[i].call(root, root.Bokeh);\n",
              "    }\n",
              "} else if (Date.now() < root._bokeh_timeout) {\n",
              "      setTimeout(run_inline_js, 100);\n",
              "    } else if (!root._bokeh_failed_load) {\n",
              "      console.log(\"Bokeh: BokehJS failed to load within specified timeout.\");\n",
              "      root._bokeh_failed_load = true;\n",
              "    } else if (force !== true) {\n",
              "      const cell = $(document.getElementById(null)).parents('.cell').data().cell;\n",
              "      cell.output_area.append_execute_result(NB_LOAD_WARNING)\n",
              "    }\n",
              "  }\n",
              "\n",
              "  if (root._bokeh_is_loading === 0) {\n",
              "    console.debug(\"Bokeh: BokehJS loaded, going straight to plotting\");\n",
              "    run_inline_js();\n",
              "  } else {\n",
              "    load_libs(css_urls, js_urls, function() {\n",
              "      console.debug(\"Bokeh: BokehJS plotting callback run at\", now());\n",
              "      run_inline_js();\n",
              "    });\n",
              "  }\n",
              "}(window));"
            ],
            "application/vnd.bokehjs_load.v0+json": "(function(root) {\n  function now() {\n    return new Date();\n  }\n\n  const force = true;\n\n  if (typeof root._bokeh_onload_callbacks === \"undefined\" || force === true) {\n    root._bokeh_onload_callbacks = [];\n    root._bokeh_is_loading = undefined;\n  }\n\n\n  if (typeof (root._bokeh_timeout) === \"undefined\" || force === true) {\n    root._bokeh_timeout = Date.now() + 5000;\n    root._bokeh_failed_load = false;\n  }\n\n  const NB_LOAD_WARNING = {'data': {'text/html':\n     \"<div style='background-color: #fdd'>\\n\"+\n     \"<p>\\n\"+\n     \"BokehJS does not appear to have successfully loaded. If loading BokehJS from CDN, this \\n\"+\n     \"may be due to a slow or bad network connection. Possible fixes:\\n\"+\n     \"</p>\\n\"+\n     \"<ul>\\n\"+\n     \"<li>re-rerun `output_notebook()` to attempt to load from CDN again, or</li>\\n\"+\n     \"<li>use INLINE resources instead, as so:</li>\\n\"+\n     \"</ul>\\n\"+\n     \"<code>\\n\"+\n     \"from bokeh.resources import INLINE\\n\"+\n     \"output_notebook(resources=INLINE)\\n\"+\n     \"</code>\\n\"+\n     \"</div>\"}};\n\n  function display_loaded() {\n    const el = document.getElementById(null);\n    if (el != null) {\n      el.textContent = \"BokehJS is loading...\";\n    }\n    if (root.Bokeh !== undefined) {\n      if (el != null) {\n        el.textContent = \"BokehJS \" + root.Bokeh.version + \" successfully loaded.\";\n      }\n    } else if (Date.now() < root._bokeh_timeout) {\n      setTimeout(display_loaded, 100)\n    }\n  }\n\n  function run_callbacks() {\n    try {\n      root._bokeh_onload_callbacks.forEach(function(callback) {\n        if (callback != null)\n          callback();\n      });\n    } finally {\n      delete root._bokeh_onload_callbacks\n    }\n    console.debug(\"Bokeh: all callbacks have finished\");\n  }\n\n  function load_libs(css_urls, js_urls, callback) {\n    if (css_urls == null) css_urls = [];\n    if (js_urls == null) js_urls = [];\n\n    root._bokeh_onload_callbacks.push(callback);\n    if (root._bokeh_is_loading > 0) {\n      console.debug(\"Bokeh: BokehJS is being loaded, scheduling callback at\", now());\n      return null;\n    }\n    if (js_urls == null || js_urls.length === 0) {\n      run_callbacks();\n      return null;\n    }\n    console.debug(\"Bokeh: BokehJS not loaded, scheduling load and callback at\", now());\n    root._bokeh_is_loading = css_urls.length + js_urls.length;\n\n    function on_load() {\n      root._bokeh_is_loading--;\n      if (root._bokeh_is_loading === 0) {\n        console.debug(\"Bokeh: all BokehJS libraries/stylesheets loaded\");\n        run_callbacks()\n      }\n    }\n\n    function on_error(url) {\n      console.error(\"failed to load \" + url);\n    }\n\n    for (let i = 0; i < css_urls.length; i++) {\n      const url = css_urls[i];\n      const element = document.createElement(\"link\");\n      element.onload = on_load;\n      element.onerror = on_error.bind(null, url);\n      element.rel = \"stylesheet\";\n      element.type = \"text/css\";\n      element.href = url;\n      console.debug(\"Bokeh: injecting link tag for BokehJS stylesheet: \", url);\n      document.body.appendChild(element);\n    }\n\n    for (let i = 0; i < js_urls.length; i++) {\n      const url = js_urls[i];\n      const element = document.createElement('script');\n      element.onload = on_load;\n      element.onerror = on_error.bind(null, url);\n      element.async = false;\n      element.src = url;\n      console.debug(\"Bokeh: injecting script tag for BokehJS library: \", url);\n      document.head.appendChild(element);\n    }\n  };\n\n  function inject_raw_css(css) {\n    const element = document.createElement(\"style\");\n    element.appendChild(document.createTextNode(css));\n    document.body.appendChild(element);\n  }\n\n  const js_urls = [\"https://cdn.bokeh.org/bokeh/release/bokeh-2.4.3.min.js\", \"https://cdn.bokeh.org/bokeh/release/bokeh-gl-2.4.3.min.js\", \"https://cdn.bokeh.org/bokeh/release/bokeh-widgets-2.4.3.min.js\", \"https://cdn.bokeh.org/bokeh/release/bokeh-tables-2.4.3.min.js\", \"https://cdn.bokeh.org/bokeh/release/bokeh-mathjax-2.4.3.min.js\"];\n  const css_urls = [];\n\n  const inline_js = [    function(Bokeh) {\n      Bokeh.set_log_level(\"info\");\n    },\nfunction(Bokeh) {\n    }\n  ];\n\n  function run_inline_js() {\n    if (root.Bokeh !== undefined || force === true) {\n          for (let i = 0; i < inline_js.length; i++) {\n      inline_js[i].call(root, root.Bokeh);\n    }\n} else if (Date.now() < root._bokeh_timeout) {\n      setTimeout(run_inline_js, 100);\n    } else if (!root._bokeh_failed_load) {\n      console.log(\"Bokeh: BokehJS failed to load within specified timeout.\");\n      root._bokeh_failed_load = true;\n    } else if (force !== true) {\n      const cell = $(document.getElementById(null)).parents('.cell').data().cell;\n      cell.output_area.append_execute_result(NB_LOAD_WARNING)\n    }\n  }\n\n  if (root._bokeh_is_loading === 0) {\n    console.debug(\"Bokeh: BokehJS loaded, going straight to plotting\");\n    run_inline_js();\n  } else {\n    load_libs(css_urls, js_urls, function() {\n      console.debug(\"Bokeh: BokehJS plotting callback run at\", now());\n      run_inline_js();\n    });\n  }\n}(window));"
          },
          "metadata": {}
        },
        {
          "output_type": "display_data",
          "data": {
            "text/html": [
              "\n",
              "  <div class=\"bk-root\" id=\"a916f0a7-4bd4-4cb2-b59f-ba0f2320d1bc\" data-root-id=\"2943\"></div>\n"
            ]
          },
          "metadata": {}
        },
        {
          "output_type": "display_data",
          "data": {
            "application/javascript": [
              "(function(root) {\n",
              "  function embed_document(root) {\n",
              "  const docs_json = {\"fbb86c4d-6aa1-43c2-99ed-f8df62b4d671\":{\"defs\":[],\"roots\":{\"references\":[{\"attributes\":{\"below\":[{\"id\":\"2954\"}],\"center\":[{\"id\":\"2957\"},{\"id\":\"2961\"},{\"id\":\"2983\"}],\"left\":[{\"id\":\"2958\"}],\"renderers\":[{\"id\":\"2981\"}],\"title\":{\"id\":\"2944\"},\"toolbar\":{\"id\":\"2969\"},\"x_range\":{\"id\":\"2946\"},\"x_scale\":{\"id\":\"2950\"},\"y_range\":{\"id\":\"2948\"},\"y_scale\":{\"id\":\"2952\"}},\"id\":\"2943\",\"subtype\":\"Figure\",\"type\":\"Plot\"},{\"attributes\":{\"coordinates\":null,\"group\":null,\"text\":\"T-SNE \\u0434\\u043b\\u044f \\u0442\\u043e\\u043f-100\"},\"id\":\"2944\",\"type\":\"Title\"},{\"attributes\":{\"coordinates\":null,\"formatter\":{\"id\":\"3106\"},\"group\":null,\"major_label_policy\":{\"id\":\"3107\"},\"ticker\":{\"id\":\"2959\"}},\"id\":\"2958\",\"type\":\"LinearAxis\"},{\"attributes\":{},\"id\":\"2955\",\"type\":\"BasicTicker\"},{\"attributes\":{\"axis\":{\"id\":\"2954\"},\"coordinates\":null,\"group\":null,\"ticker\":null},\"id\":\"2957\",\"type\":\"Grid\"},{\"attributes\":{},\"id\":\"2950\",\"type\":\"LinearScale\"},{\"attributes\":{},\"id\":\"3107\",\"type\":\"AllLabels\"},{\"attributes\":{\"coordinates\":null,\"formatter\":{\"id\":\"3109\"},\"group\":null,\"major_label_policy\":{\"id\":\"3110\"},\"ticker\":{\"id\":\"2955\"}},\"id\":\"2954\",\"type\":\"LinearAxis\"},{\"attributes\":{\"coordinates\":null,\"group\":null,\"source\":{\"id\":\"2976\"},\"text\":{\"field\":\"names\"},\"text_align\":{\"value\":\"center\"},\"text_color\":{\"value\":\"#555555\"},\"text_font_size\":{\"value\":\"5pt\"},\"x\":{\"field\":\"x1\"},\"y\":{\"field\":\"x2\"},\"y_offset\":{\"value\":6}},\"id\":\"2983\",\"type\":\"LabelSet\"},{\"attributes\":{},\"id\":\"2962\",\"type\":\"PanTool\"},{\"attributes\":{},\"id\":\"3106\",\"type\":\"BasicTickFormatter\"},{\"attributes\":{},\"id\":\"2963\",\"type\":\"WheelZoomTool\"},{\"attributes\":{\"source\":{\"id\":\"2976\"}},\"id\":\"2982\",\"type\":\"CDSView\"},{\"attributes\":{},\"id\":\"3109\",\"type\":\"BasicTickFormatter\"},{\"attributes\":{},\"id\":\"2959\",\"type\":\"BasicTicker\"},{\"attributes\":{\"fill_alpha\":{\"value\":0.1},\"fill_color\":{\"value\":\"#1f77b4\"},\"hatch_alpha\":{\"value\":0.1},\"line_alpha\":{\"value\":0.1},\"line_color\":{\"value\":\"#1f77b4\"},\"size\":{\"value\":5},\"x\":{\"field\":\"x1\"},\"y\":{\"field\":\"x2\"}},\"id\":\"2979\",\"type\":\"Scatter\"},{\"attributes\":{\"tools\":[{\"id\":\"2962\"},{\"id\":\"2963\"},{\"id\":\"2964\"},{\"id\":\"2965\"},{\"id\":\"2966\"},{\"id\":\"2967\"}]},\"id\":\"2969\",\"type\":\"Toolbar\"},{\"attributes\":{\"fill_color\":{\"value\":\"#1f77b4\"},\"line_color\":{\"value\":\"#1f77b4\"},\"size\":{\"value\":5},\"x\":{\"field\":\"x1\"},\"y\":{\"field\":\"x2\"}},\"id\":\"2978\",\"type\":\"Scatter\"},{\"attributes\":{},\"id\":\"2948\",\"type\":\"DataRange1d\"},{\"attributes\":{},\"id\":\"2946\",\"type\":\"DataRange1d\"},{\"attributes\":{\"data\":{\"names\":[\"\\u0431\\u0430\\u043d\\u043a\\u0430\",\"\\u0431\\u0430\\u043d\\u043a\",\"\\u0434\\u0435\\u043d\\u044c\\u0433\\u0438\",\"\\u043a\\u0430\\u0440\\u0442\\u0443\",\"\\u043a\\u0430\\u0440\\u0442\\u044b\",\"\\u043a\\u0440\\u0435\\u0434\\u0438\\u0442\",\"\\u0434\\u0435\\u043d\\u044c\",\"\\u0431\\u0430\\u043d\\u043a\\u0435\",\"\\u0437\\u0430\\u044f\\u0432\\u043b\\u0435\\u043d\\u0438\\u0435\",\"\\u043e\\u0447\\u0435\\u043d\\u044c\",\"\\u043e\\u0442\\u0434\\u0435\\u043b\\u0435\\u043d\\u0438\\u0435\",\"\\u0432\\u0440\\u0435\\u043c\\u044f\",\"\\u0441\\u0447\\u0435\\u0442\",\"\\u0434\\u043d\\u0435\\u0439\",\"\\u0433\\u043e\\u0434\\u0430\",\"\\u043f\\u043e\\u0447\\u0435\\u043c\\u0443\",\"\\u0440\\u0443\\u0431\\u043b\\u0435\\u0439\",\"\\u043a\\u0430\\u0440\\u0442\\u0430\",\"\\u0432\\u043e\\u043f\\u0440\\u043e\\u0441\",\"\\u0441\\u043c\\u0441\",\"\\u043e\\u0442\\u0432\\u0435\\u0442\",\"\\u0441\\u0443\\u043c\\u043c\\u0443\",\"\\u043f\\u0440\\u043e\\u0441\\u0442\\u043e\",\"\\u043d\\u043e\\u043c\\u0435\\u0440\",\"\\u0441\\u0435\\u0433\\u043e\\u0434\\u043d\\u044f\",\"\\u0434\\u0435\\u043d\\u0435\\u0433\",\"\\u0440\\u0443\\u0431\",\"\\u0441\\u043a\\u0430\\u0437\\u0430\\u043b\\u0438\",\"\\u0431\\u0430\\u043d\\u043a\\u043e\\u043c\",\"\\u043e\\u0442\\u0434\\u0435\\u043b\\u0435\\u043d\\u0438\\u0438\",\"\\u0441\\u0447\\u0435\\u0442\\u0430\",\"\\u043c\\u0438\\u043d\\u0443\\u0442\",\"\\u043c\\u043e\\u0433\\u0443\",\"\\u043a\\u0440\\u0435\\u0434\\u0438\\u0442\\u0430\",\"\\u043e\\u0444\\u0438\\u0441\",\"\\u0441\\u043e\\u0442\\u0440\\u0443\\u0434\\u043d\\u0438\\u043a\\u0438\",\"\\u043a\\u0430\\u0440\\u0442\\u0435\",\"\\u043d\\u0443\\u0436\\u043d\\u043e\",\"\\u0438\\u043d\\u0442\\u0435\\u0440\\u043d\\u0435\\u0442\",\"\\u0445\\u043e\\u0442\\u044f\",\"\\u0441\\u0440\\u0435\\u0434\\u0441\\u0442\\u0432\",\"\\u0441\\u0431\\u0435\\u0440\\u0431\\u0430\\u043d\\u043a\\u0430\",\"\\u043c\\u043e\\u0438\",\"\\u0441\\u0443\\u043c\\u043c\\u0430\",\"\\u043c\\u043e\\u0435\\u0439\",\"\\u0432\\u043a\\u043b\\u0430\\u0434\",\"\\u0434\\u043d\\u044f\",\"\\u0441\\u043e\\u0442\\u0440\\u0443\\u0434\\u043d\\u0438\\u043a\",\"\\u0432\\u043e\\u043e\\u0431\\u0449\\u0435\",\"\\u0431\\u0430\\u043d\\u043a\\u043e\\u043c\\u0430\\u0442\",\"\\u0441\\u0440\\u0430\\u0437\\u0443\",\"\\u0434\\u0435\\u0432\\u0443\\u0448\\u043a\\u0430\",\"\\u043a\\u043b\\u0438\\u0435\\u043d\\u0442\\u043e\\u0432\",\"\\u043d\\u0435\\u0441\\u043a\\u043e\\u043b\\u044c\\u043a\\u043e\",\"\\u0442\\u0435\\u043b\\u0435\\u0444\\u043e\\u043d\\u0443\",\"\\u0434\\u043e\\u043a\\u0443\\u043c\\u0435\\u043d\\u0442\\u044b\",\"\\u043a\\u043e\\u0442\\u043e\\u0440\\u044b\\u0435\",\"\\u0441\\u043e\\u0442\\u0440\\u0443\\u0434\\u043d\\u0438\\u043a\\u043e\\u0432\",\"\\u0441\\u0430\\u0439\\u0442\\u0435\",\"\\u0431\\u0430\\u043d\\u043a\\u0443\",\"\\u043f\\u043e\\u043b\\u0443\\u0447\\u0438\\u0442\\u044c\",\"\\u0434\\u043e\\u0433\\u043e\\u0432\\u043e\\u0440\",\"\\u043f\\u0440\\u043e\\u0448\\u0443\",\"\\u043c\\u043d\\u043e\\u0439\",\"\\u043a\\u043b\\u0438\\u0435\\u043d\\u0442\\u043e\\u043c\",\"\\u0432\\u0440\\u0435\\u043c\\u0435\\u043d\\u0438\",\"\\u0441\\u0440\\u043e\\u043a\",\"\\u043f\\u043e\\u043a\\u0430\",\"\\u043c\\u043e\\u0435\\u0433\\u043e\",\"\\u0441\\u0431\\u0435\\u0440\\u0431\\u0430\\u043d\\u043a\",\"\\u0434\\u043e\\u0433\\u043e\\u0432\\u043e\\u0440\\u0430\",\"\\u043e\\u0442\\u0434\\u0435\\u043b\\u0435\\u043d\\u0438\\u044f\",\"\\u043f\\u043e\\u043b\\u0443\\u0447\\u0438\\u043b\",\"\\u0445\\u043e\\u0447\\u0443\",\"\\u043c\\u0435\\u0441\\u044f\\u0446\",\"\\u043f\\u043b\\u0430\\u0442\\u0435\\u0436\",\"\\u0441\\u043a\\u0430\\u0437\\u0430\\u043b\\u0430\",\"\\u0440\\u0435\\u0448\\u0438\\u043b\",\"\\u0441\\u0440\\u0435\\u0434\\u0441\\u0442\\u0432\\u0430\",\"\\u043c\\u0435\\u0441\\u044f\\u0446\\u0430\",\"\\u0442\\u0435\\u0447\\u0435\\u043d\\u0438\\u0435\",\"\\u0437\\u0430\\u044f\\u0432\\u043a\\u0443\",\"\\u043d\\u0438\\u043a\\u0442\\u043e\",\"\\u0440\\u0430\\u0431\\u043e\\u0442\\u044b\",\"\\u0441\\u043f\\u0430\\u0441\\u0438\\u0431\\u043e\",\"\\u043e\\u043f\\u0435\\u0440\\u0430\\u0446\\u0438\\u0438\",\"\\u043f\\u043e\\u0437\\u0432\\u043e\\u043d\\u0438\\u043b\",\"\\u0440\\u0430\\u0431\\u043e\\u0442\\u0430\\u0435\\u0442\",\"\\u0441\\u0434\\u0435\\u043b\\u0430\\u0442\\u044c\",\"\\u0432\\u043a\\u043b\\u0430\\u0434\\u0430\",\"\\u0441\\u0432\\u043e\\u0438\",\"\\u043c\\u043e\\u043c\\u0435\\u043d\\u0442\",\"\\u0442\\u0435\\u043b\\u0435\\u0444\\u043e\\u043d\",\"\\u0438\\u043d\\u0444\\u043e\\u0440\\u043c\\u0430\\u0446\\u0438\\u044e\",\"\\u0438\\u0442\\u043e\\u0433\\u0435\",\"\\u043e\\u0447\\u0435\\u0440\\u0435\\u0434\\u0438\",\"\\u0431\\u0443\\u0434\\u0443\",\"\\u0441\\u043d\\u043e\\u0432\\u0430\",\"\\u043b\\u0438\\u0431\\u043e\",\"\\u0434\\u0430\\u043d\\u043d\\u044b\\u0435\"],\"x1\":{\"__ndarray__\":\"NRNUP+4JyT/3yk/AXFmcwONKs8CrL6fAy+cqwNAmdT+mTTtA0PpXvVD3c0DN8RLAjCbDwKZ+bsAVioPAsAVuvzZLgMAPHrvAOuyQvkHHP8ArZ06/Igt+wFom2b6rkpBAyZHOv2+rmsAU+n7AB5chwCi7bD86KkhAlJbFwH+VUMCuvDC/M+W2wNhSd0CJsABAcqmvwCnlK78JfaI8dUw3v059nMAhvGE/o/Z6v8D7hsAcAdO/iSPTwEa2a8BylERAIiX0vnWyIkAtGa+/tydPQJ2HqD8CcoG/TN1+viHV7D+BDLG+Bi/UP6fF2z4yyXY/+EdZvzu2xcAXD4y/19yHv+WUID/t8z3A43sNwAFkmb+ygeC/OBPFP3Kkx8AwQTJAW9tfv6rrOr944knAOWN7wFnmIcBidJ6+DfhOwLIGecDqipm/bPM4QBBcH0APBZQ/VmaivkmPb8BaKwjA9k0wP8wxV78z/9bAgr9lvwnjB8A+l41ApmSkP2jpor+vrbg/0ts9vw2pqL+E6he+RgbAPw==\",\"dtype\":\"float32\",\"order\":\"little\",\"shape\":[100]},\"x2\":{\"__ndarray__\":\"SnVxP8gLPD/XFC7AbCldP2mKr76SRzFAJgBWQCYXUj4xor9AZ552P5UlQkACYhlAYDGEPwGTnUCNl4FAXmCgP1wOBr8U9KK/FkYyQJ73Iz6pSoNAdg+bv5dQtz+Ra2g/XmALQLNlQsBLXfC+fGC0P0POH78m/y1ApdYWPwdirECof9NAWagnQGktQkDBLRLAABXSvgiUzkByUmxA9SqvP35BRsCmEI4//CtCv1Hror987FE+G/+7P+zwlEA+rce+p0a+P2S1rT+R1tg/ehRHv9K0BsA4fipA9t4QQNxAo0A4e7W9fukMwEC7RECT8N69ZwYzwFpVYUCyPOZA/LH7PqtSor9+NyNAL9mCQMuc+T/7abk+bxhwP4JbW0AGaihAHhM/wLfO0kCay2RAsMYFQAqprj/MhN5AKEwywJ4Mh0Arw1dAhZ++QBMb/j3wMwpAX8j2PmnxNz924Uu/4MsGQN7WDMCtF84/Psxkv5xySUDsBmo/YyaMQFYA8D+VqTlAhgyzQI3KAUD3ms4/kkCSQA==\",\"dtype\":\"float32\",\"order\":\"little\",\"shape\":[100]}},\"selected\":{\"id\":\"3112\"},\"selection_policy\":{\"id\":\"3111\"}},\"id\":\"2976\",\"type\":\"ColumnDataSource\"},{\"attributes\":{},\"id\":\"3111\",\"type\":\"UnionRenderers\"},{\"attributes\":{\"overlay\":{\"id\":\"2968\"}},\"id\":\"2964\",\"type\":\"BoxZoomTool\"},{\"attributes\":{\"coordinates\":null,\"data_source\":{\"id\":\"2976\"},\"glyph\":{\"id\":\"2978\"},\"group\":null,\"hover_glyph\":null,\"muted_glyph\":{\"id\":\"2980\"},\"nonselection_glyph\":{\"id\":\"2979\"},\"view\":{\"id\":\"2982\"}},\"id\":\"2981\",\"type\":\"GlyphRenderer\"},{\"attributes\":{},\"id\":\"2965\",\"type\":\"SaveTool\"},{\"attributes\":{\"axis\":{\"id\":\"2958\"},\"coordinates\":null,\"dimension\":1,\"group\":null,\"ticker\":null},\"id\":\"2961\",\"type\":\"Grid\"},{\"attributes\":{\"fill_alpha\":{\"value\":0.2},\"fill_color\":{\"value\":\"#1f77b4\"},\"hatch_alpha\":{\"value\":0.2},\"line_alpha\":{\"value\":0.2},\"line_color\":{\"value\":\"#1f77b4\"},\"size\":{\"value\":5},\"x\":{\"field\":\"x1\"},\"y\":{\"field\":\"x2\"}},\"id\":\"2980\",\"type\":\"Scatter\"},{\"attributes\":{},\"id\":\"3112\",\"type\":\"Selection\"},{\"attributes\":{},\"id\":\"2966\",\"type\":\"ResetTool\"},{\"attributes\":{},\"id\":\"3110\",\"type\":\"AllLabels\"},{\"attributes\":{},\"id\":\"2967\",\"type\":\"HelpTool\"},{\"attributes\":{\"bottom_units\":\"screen\",\"coordinates\":null,\"fill_alpha\":0.5,\"fill_color\":\"lightgrey\",\"group\":null,\"left_units\":\"screen\",\"level\":\"overlay\",\"line_alpha\":1.0,\"line_color\":\"black\",\"line_dash\":[4,4],\"line_width\":2,\"right_units\":\"screen\",\"syncable\":false,\"top_units\":\"screen\"},\"id\":\"2968\",\"type\":\"BoxAnnotation\"},{\"attributes\":{},\"id\":\"2952\",\"type\":\"LinearScale\"}],\"root_ids\":[\"2943\"]},\"title\":\"Bokeh Application\",\"version\":\"2.4.3\"}};\n",
              "  const render_items = [{\"docid\":\"fbb86c4d-6aa1-43c2-99ed-f8df62b4d671\",\"root_ids\":[\"2943\"],\"roots\":{\"2943\":\"a916f0a7-4bd4-4cb2-b59f-ba0f2320d1bc\"}}];\n",
              "  root.Bokeh.embed.embed_items_notebook(docs_json, render_items);\n",
              "  }\n",
              "  if (root.Bokeh !== undefined) {\n",
              "    embed_document(root);\n",
              "  } else {\n",
              "    let attempts = 0;\n",
              "    const timer = setInterval(function(root) {\n",
              "      if (root.Bokeh !== undefined) {\n",
              "        clearInterval(timer);\n",
              "        embed_document(root);\n",
              "      } else {\n",
              "        attempts++;\n",
              "        if (attempts > 100) {\n",
              "          clearInterval(timer);\n",
              "          console.log(\"Bokeh: ERROR: Unable to run BokehJS code because BokehJS library is missing\");\n",
              "        }\n",
              "      }\n",
              "    }, 10, root)\n",
              "  }\n",
              "})(window);"
            ],
            "application/vnd.bokehjs_exec.v0+json": ""
          },
          "metadata": {
            "application/vnd.bokehjs_exec.v0+json": {
              "id": "2943"
            }
          }
        }
      ]
    },
    {
      "cell_type": "code",
      "source": [
        "!pip3 install wordcloud"
      ],
      "metadata": {
        "colab": {
          "base_uri": "https://localhost:8080/"
        },
        "id": "jZ2ovq_ozEHz",
        "outputId": "c44a9336-75bf-493f-cd86-bb8eecc2a180"
      },
      "execution_count": null,
      "outputs": [
        {
          "output_type": "stream",
          "name": "stdout",
          "text": [
            "Looking in indexes: https://pypi.org/simple, https://us-python.pkg.dev/colab-wheels/public/simple/\n",
            "Requirement already satisfied: wordcloud in /usr/local/lib/python3.9/dist-packages (1.8.2.2)\n",
            "Requirement already satisfied: matplotlib in /usr/local/lib/python3.9/dist-packages (from wordcloud) (3.7.1)\n",
            "Requirement already satisfied: pillow in /usr/local/lib/python3.9/dist-packages (from wordcloud) (8.4.0)\n",
            "Requirement already satisfied: numpy>=1.6.1 in /usr/local/lib/python3.9/dist-packages (from wordcloud) (1.22.4)\n",
            "Requirement already satisfied: kiwisolver>=1.0.1 in /usr/local/lib/python3.9/dist-packages (from matplotlib->wordcloud) (1.4.4)\n",
            "Requirement already satisfied: pyparsing>=2.3.1 in /usr/local/lib/python3.9/dist-packages (from matplotlib->wordcloud) (3.0.9)\n",
            "Requirement already satisfied: packaging>=20.0 in /usr/local/lib/python3.9/dist-packages (from matplotlib->wordcloud) (23.1)\n",
            "Requirement already satisfied: contourpy>=1.0.1 in /usr/local/lib/python3.9/dist-packages (from matplotlib->wordcloud) (1.0.7)\n",
            "Requirement already satisfied: python-dateutil>=2.7 in /usr/local/lib/python3.9/dist-packages (from matplotlib->wordcloud) (2.8.2)\n",
            "Requirement already satisfied: cycler>=0.10 in /usr/local/lib/python3.9/dist-packages (from matplotlib->wordcloud) (0.11.0)\n",
            "Requirement already satisfied: importlib-resources>=3.2.0 in /usr/local/lib/python3.9/dist-packages (from matplotlib->wordcloud) (5.12.0)\n",
            "Requirement already satisfied: fonttools>=4.22.0 in /usr/local/lib/python3.9/dist-packages (from matplotlib->wordcloud) (4.39.3)\n",
            "Requirement already satisfied: zipp>=3.1.0 in /usr/local/lib/python3.9/dist-packages (from importlib-resources>=3.2.0->matplotlib->wordcloud) (3.15.0)\n",
            "Requirement already satisfied: six>=1.5 in /usr/local/lib/python3.9/dist-packages (from python-dateutil>=2.7->matplotlib->wordcloud) (1.16.0)\n"
          ]
        }
      ]
    },
    {
      "cell_type": "code",
      "source": [
        "word_freq = [i for i in top_words]\n",
        "wd = WordCloud(background_color = 'white')\n",
        "wd.generate_from_frequencies(dict(word_freq))\n",
        "plt.figure()\n",
        "plt.imshow(wd, interpolation = 'bilinear')\n",
        "plt.axis('off')\n",
        "plt.show()"
      ],
      "metadata": {
        "colab": {
          "base_uri": "https://localhost:8080/",
          "height": 285
        },
        "id": "ow9TvzGWzYmY",
        "outputId": "09181841-0671-48d5-fe28-8b5b29bf6e87"
      },
      "execution_count": null,
      "outputs": [
        {
          "output_type": "display_data",
          "data": {
            "text/plain": [
              "<Figure size 640x480 with 1 Axes>"
            ],
            "image/png": "[encoded data removed]"
          },
          "metadata": {}
        }
      ]
    },
    {
      "cell_type": "code",
      "source": [
        "model['хороший']"
      ],
      "metadata": {
        "id": "-1E2HGz6Sjtv"
      },
      "execution_count": null,
      "outputs": []
    },
    {
      "cell_type": "code",
      "source": [
        "good_bad = model['хороший'] - model['плохо']\n",
        "fast_slow = model['быстро'] - model['медленно']"
      ],
      "metadata": {
        "id": "RBKNFe_yK5Uz"
      },
      "execution_count": null,
      "outputs": []
    },
    {
      "cell_type": "code",
      "source": [
        "good_bad"
      ],
      "metadata": {
        "id": "wOhPoL81SEAU"
      },
      "execution_count": null,
      "outputs": []
    },
    {
      "cell_type": "code",
      "source": [
        "data.bank_name.value_counts()"
      ],
      "metadata": {
        "colab": {
          "base_uri": "https://localhost:8080/"
        },
        "id": "WRHvn_L1Rs3o",
        "outputId": "78ed86cb-1975-4141-e04e-bd2c334006ba"
      },
      "execution_count": null,
      "outputs": [
        {
          "output_type": "execute_result",
          "data": {
            "text/plain": [
              "Сбербанк России     26327\n",
              "Альфа-Банк          10224\n",
              "ВТБ 24               8185\n",
              "Русский Стандарт     7943\n",
              "Хоум Кредит Банк     7549\n",
              "                    ...  \n",
              "Сиббизнесбанк           1\n",
              "Донбанк                 1\n",
              "Потенциал               1\n",
              "Ури Банк                1\n",
              "БайкалИнвестБанк        1\n",
              "Name: bank_name, Length: 670, dtype: int64"
            ]
          },
          "metadata": {},
          "execution_count": 142
        }
      ]
    },
    {
      "cell_type": "code",
      "source": [
        "bank_name=data.bank_name.value_counts(normalize=1).index.tolist()[:15] # топ 15\n",
        "bank_name=[preprocess(bank.lower()).split()[0] for bank in bank_name ] # предобработка\n",
        "bank_name"
      ],
      "metadata": {
        "colab": {
          "base_uri": "https://localhost:8080/"
        },
        "id": "JjGbzHabQJXV",
        "outputId": "688734f6-27cf-413c-ffd3-9a427b3ddb73"
      },
      "execution_count": null,
      "outputs": [
        {
          "output_type": "execute_result",
          "data": {
            "text/plain": [
              "['сбербанк',\n",
              " 'альфа',\n",
              " 'втб',\n",
              " 'русский',\n",
              " 'хоум',\n",
              " 'тинькофф',\n",
              " 'национальный',\n",
              " 'ренессанс',\n",
              " 'связной',\n",
              " 'отп',\n",
              " 'восточный',\n",
              " 'райффайзенбанк',\n",
              " 'московский',\n",
              " 'ситибанк',\n",
              " 'авангард']"
            ]
          },
          "metadata": {},
          "execution_count": 130
        }
      ]
    },
    {
      "cell_type": "code",
      "source": [
        "bank = pd.DataFrame(bank_name, columns=['bank_name'])"
      ],
      "metadata": {
        "id": "lSGfymRbL0lI"
      },
      "execution_count": null,
      "outputs": []
    },
    {
      "cell_type": "code",
      "source": [
        "bank"
      ],
      "metadata": {
        "colab": {
          "base_uri": "https://localhost:8080/",
          "height": 520
        },
        "id": "3rtuGcicQkdD",
        "outputId": "edf09692-6729-41a9-8766-515d9a0f0713"
      },
      "execution_count": null,
      "outputs": [
        {
          "output_type": "execute_result",
          "data": {
            "text/plain": [
              "         bank_name\n",
              "0         сбербанк\n",
              "1            альфа\n",
              "2              втб\n",
              "3          русский\n",
              "4             хоум\n",
              "5         тинькофф\n",
              "6     национальный\n",
              "7        ренессанс\n",
              "8          связной\n",
              "9              отп\n",
              "10       восточный\n",
              "11  райффайзенбанк\n",
              "12      московский\n",
              "13        ситибанк\n",
              "14        авангард"
            ],
            "text/html": [
              "\n",
              "  <div id=\"df-f420e17b-84f3-4bd5-834d-88e381f1432e\">\n",
              "    <div class=\"colab-df-container\">\n",
              "      <div>\n",
              "<style scoped>\n",
              "    .dataframe tbody tr th:only-of-type {\n",
              "        vertical-align: middle;\n",
              "    }\n",
              "\n",
              "    .dataframe tbody tr th {\n",
              "        vertical-align: top;\n",
              "    }\n",
              "\n",
              "    .dataframe thead th {\n",
              "        text-align: right;\n",
              "    }\n",
              "</style>\n",
              "<table border=\"1\" class=\"dataframe\">\n",
              "  <thead>\n",
              "    <tr style=\"text-align: right;\">\n",
              "      <th></th>\n",
              "      <th>bank_name</th>\n",
              "    </tr>\n",
              "  </thead>\n",
              "  <tbody>\n",
              "    <tr>\n",
              "      <th>0</th>\n",
              "      <td>сбербанк</td>\n",
              "    </tr>\n",
              "    <tr>\n",
              "      <th>1</th>\n",
              "      <td>альфа</td>\n",
              "    </tr>\n",
              "    <tr>\n",
              "      <th>2</th>\n",
              "      <td>втб</td>\n",
              "    </tr>\n",
              "    <tr>\n",
              "      <th>3</th>\n",
              "      <td>русский</td>\n",
              "    </tr>\n",
              "    <tr>\n",
              "      <th>4</th>\n",
              "      <td>хоум</td>\n",
              "    </tr>\n",
              "    <tr>\n",
              "      <th>5</th>\n",
              "      <td>тинькофф</td>\n",
              "    </tr>\n",
              "    <tr>\n",
              "      <th>6</th>\n",
              "      <td>национальный</td>\n",
              "    </tr>\n",
              "    <tr>\n",
              "      <th>7</th>\n",
              "      <td>ренессанс</td>\n",
              "    </tr>\n",
              "    <tr>\n",
              "      <th>8</th>\n",
              "      <td>связной</td>\n",
              "    </tr>\n",
              "    <tr>\n",
              "      <th>9</th>\n",
              "      <td>отп</td>\n",
              "    </tr>\n",
              "    <tr>\n",
              "      <th>10</th>\n",
              "      <td>восточный</td>\n",
              "    </tr>\n",
              "    <tr>\n",
              "      <th>11</th>\n",
              "      <td>райффайзенбанк</td>\n",
              "    </tr>\n",
              "    <tr>\n",
              "      <th>12</th>\n",
              "      <td>московский</td>\n",
              "    </tr>\n",
              "    <tr>\n",
              "      <th>13</th>\n",
              "      <td>ситибанк</td>\n",
              "    </tr>\n",
              "    <tr>\n",
              "      <th>14</th>\n",
              "      <td>авангард</td>\n",
              "    </tr>\n",
              "  </tbody>\n",
              "</table>\n",
              "</div>\n",
              "      <button class=\"colab-df-convert\" onclick=\"convertToInteractive('df-f420e17b-84f3-4bd5-834d-88e381f1432e')\"\n",
              "              title=\"Convert this dataframe to an interactive table.\"\n",
              "              style=\"display:none;\">\n",
              "        \n",
              "  <svg xmlns=\"http://www.w3.org/2000/svg\" height=\"24px\"viewBox=\"0 0 24 24\"\n",
              "       width=\"24px\">\n",
              "    <path d=\"M0 0h24v24H0V0z\" fill=\"none\"/>\n",
              "    <path d=\"M18.56 5.44l.94 2.06.94-2.06 2.06-.94-2.06-.94-.94-2.06-.94 2.06-2.06.94zm-11 1L8.5 8.5l.94-2.06 2.06-.94-2.06-.94L8.5 2.5l-.94 2.06-2.06.94zm10 10l.94 2.06.94-2.06 2.06-.94-2.06-.94-.94-2.06-.94 2.06-2.06.94z\"/><path d=\"M17.41 7.96l-1.37-1.37c-.4-.4-.92-.59-1.43-.59-.52 0-1.04.2-1.43.59L10.3 9.45l-7.72 7.72c-.78.78-.78 2.05 0 2.83L4 21.41c.39.39.9.59 1.41.59.51 0 1.02-.2 1.41-.59l7.78-7.78 2.81-2.81c.8-.78.8-2.07 0-2.86zM5.41 20L4 18.59l7.72-7.72 1.47 1.35L5.41 20z\"/>\n",
              "  </svg>\n",
              "      </button>\n",
              "      \n",
              "  <style>\n",
              "    .colab-df-container {\n",
              "      display:flex;\n",
              "      flex-wrap:wrap;\n",
              "      gap: 12px;\n",
              "    }\n",
              "\n",
              "    .colab-df-convert {\n",
              "      background-color: #E8F0FE;\n",
              "      border: none;\n",
              "      border-radius: 50%;\n",
              "      cursor: pointer;\n",
              "      display: none;\n",
              "      fill: #1967D2;\n",
              "      height: 32px;\n",
              "      padding: 0 0 0 0;\n",
              "      width: 32px;\n",
              "    }\n",
              "\n",
              "    .colab-df-convert:hover {\n",
              "      background-color: #E2EBFA;\n",
              "      box-shadow: 0px 1px 2px rgba(60, 64, 67, 0.3), 0px 1px 3px 1px rgba(60, 64, 67, 0.15);\n",
              "      fill: #174EA6;\n",
              "    }\n",
              "\n",
              "    [theme=dark] .colab-df-convert {\n",
              "      background-color: #3B4455;\n",
              "      fill: #D2E3FC;\n",
              "    }\n",
              "\n",
              "    [theme=dark] .colab-df-convert:hover {\n",
              "      background-color: #434B5C;\n",
              "      box-shadow: 0px 1px 3px 1px rgba(0, 0, 0, 0.15);\n",
              "      filter: drop-shadow(0px 1px 2px rgba(0, 0, 0, 0.3));\n",
              "      fill: #FFFFFF;\n",
              "    }\n",
              "  </style>\n",
              "\n",
              "      <script>\n",
              "        const buttonEl =\n",
              "          document.querySelector('#df-f420e17b-84f3-4bd5-834d-88e381f1432e button.colab-df-convert');\n",
              "        buttonEl.style.display =\n",
              "          google.colab.kernel.accessAllowed ? 'block' : 'none';\n",
              "\n",
              "        async function convertToInteractive(key) {\n",
              "          const element = document.querySelector('#df-f420e17b-84f3-4bd5-834d-88e381f1432e');\n",
              "          const dataTable =\n",
              "            await google.colab.kernel.invokeFunction('convertToInteractive',\n",
              "                                                     [key], {});\n",
              "          if (!dataTable) return;\n",
              "\n",
              "          const docLinkHtml = 'Like what you see? Visit the ' +\n",
              "            '<a target=\"_blank\" href=https://colab.research.google.com/notebooks/data_table.ipynb>data table notebook</a>'\n",
              "            + ' to learn more about interactive tables.';\n",
              "          element.innerHTML = '';\n",
              "          dataTable['output_type'] = 'display_data';\n",
              "          await google.colab.output.renderOutput(dataTable, element);\n",
              "          const docLink = document.createElement('div');\n",
              "          docLink.innerHTML = docLinkHtml;\n",
              "          element.appendChild(docLink);\n",
              "        }\n",
              "      </script>\n",
              "    </div>\n",
              "  </div>\n",
              "  "
            ]
          },
          "metadata": {},
          "execution_count": 132
        }
      ]
    },
    {
      "cell_type": "code",
      "source": [
        "len(model[bank.bank_name[0]])"
      ],
      "metadata": {
        "colab": {
          "base_uri": "https://localhost:8080/"
        },
        "id": "XJIUVTSrTaOh",
        "outputId": "6dc287ca-684b-48b7-86d2-2b41b53b9dd2"
      },
      "execution_count": null,
      "outputs": [
        {
          "output_type": "execute_result",
          "data": {
            "text/plain": [
              "300"
            ]
          },
          "metadata": {},
          "execution_count": 151
        }
      ]
    },
    {
      "cell_type": "code",
      "source": [
        "# умножение эмбединга с именем банка на вектор с осью\n",
        "bank['X'] = bank.apply(lambda row:np.dot(model[row['bank_name']], good_bad), axis=1)\n",
        "bank['Y'] = bank.apply(lambda row:np.dot(model[row['bank_name']], fast_slow), axis=1)"
      ],
      "metadata": {
        "id": "8zJ3VMfXQqtz"
      },
      "execution_count": null,
      "outputs": []
    },
    {
      "cell_type": "code",
      "source": [
        "bank"
      ],
      "metadata": {
        "colab": {
          "base_uri": "https://localhost:8080/",
          "height": 520
        },
        "id": "358JbdYDRNEO",
        "outputId": "5f5b92b8-cdc8-4994-a65a-6fb834310481"
      },
      "execution_count": null,
      "outputs": [
        {
          "output_type": "execute_result",
          "data": {
            "text/plain": [
              "         bank_name          X          Y\n",
              "0         сбербанк -25.679174  16.769817\n",
              "1            альфа  39.503620  29.999580\n",
              "2              втб  32.839859  28.570852\n",
              "3          русский  15.256014  -7.180645\n",
              "4             хоум  33.950596  22.555475\n",
              "5         тинькофф  42.508823  26.211437\n",
              "6     национальный  48.923740 -11.407058\n",
              "7        ренессанс  21.431061  19.528212\n",
              "8          связной  49.418167  32.552780\n",
              "9              отп  28.855459  37.203918\n",
              "10       восточный  14.435293  13.169511\n",
              "11  райффайзенбанк   1.847314  -4.176225\n",
              "12      московский  65.527061  28.829727\n",
              "13        ситибанк  -0.020404  24.521063\n",
              "14        авангард  54.349613  18.930061"
            ],
            "text/html": [
              "\n",
              "  <div id=\"df-743b4802-a7ec-4c08-94e2-1aca6febdc7e\">\n",
              "    <div class=\"colab-df-container\">\n",
              "      <div>\n",
              "<style scoped>\n",
              "    .dataframe tbody tr th:only-of-type {\n",
              "        vertical-align: middle;\n",
              "    }\n",
              "\n",
              "    .dataframe tbody tr th {\n",
              "        vertical-align: top;\n",
              "    }\n",
              "\n",
              "    .dataframe thead th {\n",
              "        text-align: right;\n",
              "    }\n",
              "</style>\n",
              "<table border=\"1\" class=\"dataframe\">\n",
              "  <thead>\n",
              "    <tr style=\"text-align: right;\">\n",
              "      <th></th>\n",
              "      <th>bank_name</th>\n",
              "      <th>X</th>\n",
              "      <th>Y</th>\n",
              "    </tr>\n",
              "  </thead>\n",
              "  <tbody>\n",
              "    <tr>\n",
              "      <th>0</th>\n",
              "      <td>сбербанк</td>\n",
              "      <td>-25.679174</td>\n",
              "      <td>16.769817</td>\n",
              "    </tr>\n",
              "    <tr>\n",
              "      <th>1</th>\n",
              "      <td>альфа</td>\n",
              "      <td>39.503620</td>\n",
              "      <td>29.999580</td>\n",
              "    </tr>\n",
              "    <tr>\n",
              "      <th>2</th>\n",
              "      <td>втб</td>\n",
              "      <td>32.839859</td>\n",
              "      <td>28.570852</td>\n",
              "    </tr>\n",
              "    <tr>\n",
              "      <th>3</th>\n",
              "      <td>русский</td>\n",
              "      <td>15.256014</td>\n",
              "      <td>-7.180645</td>\n",
              "    </tr>\n",
              "    <tr>\n",
              "      <th>4</th>\n",
              "      <td>хоум</td>\n",
              "      <td>33.950596</td>\n",
              "      <td>22.555475</td>\n",
              "    </tr>\n",
              "    <tr>\n",
              "      <th>5</th>\n",
              "      <td>тинькофф</td>\n",
              "      <td>42.508823</td>\n",
              "      <td>26.211437</td>\n",
              "    </tr>\n",
              "    <tr>\n",
              "      <th>6</th>\n",
              "      <td>национальный</td>\n",
              "      <td>48.923740</td>\n",
              "      <td>-11.407058</td>\n",
              "    </tr>\n",
              "    <tr>\n",
              "      <th>7</th>\n",
              "      <td>ренессанс</td>\n",
              "      <td>21.431061</td>\n",
              "      <td>19.528212</td>\n",
              "    </tr>\n",
              "    <tr>\n",
              "      <th>8</th>\n",
              "      <td>связной</td>\n",
              "      <td>49.418167</td>\n",
              "      <td>32.552780</td>\n",
              "    </tr>\n",
              "    <tr>\n",
              "      <th>9</th>\n",
              "      <td>отп</td>\n",
              "      <td>28.855459</td>\n",
              "      <td>37.203918</td>\n",
              "    </tr>\n",
              "    <tr>\n",
              "      <th>10</th>\n",
              "      <td>восточный</td>\n",
              "      <td>14.435293</td>\n",
              "      <td>13.169511</td>\n",
              "    </tr>\n",
              "    <tr>\n",
              "      <th>11</th>\n",
              "      <td>райффайзенбанк</td>\n",
              "      <td>1.847314</td>\n",
              "      <td>-4.176225</td>\n",
              "    </tr>\n",
              "    <tr>\n",
              "      <th>12</th>\n",
              "      <td>московский</td>\n",
              "      <td>65.527061</td>\n",
              "      <td>28.829727</td>\n",
              "    </tr>\n",
              "    <tr>\n",
              "      <th>13</th>\n",
              "      <td>ситибанк</td>\n",
              "      <td>-0.020404</td>\n",
              "      <td>24.521063</td>\n",
              "    </tr>\n",
              "    <tr>\n",
              "      <th>14</th>\n",
              "      <td>авангард</td>\n",
              "      <td>54.349613</td>\n",
              "      <td>18.930061</td>\n",
              "    </tr>\n",
              "  </tbody>\n",
              "</table>\n",
              "</div>\n",
              "      <button class=\"colab-df-convert\" onclick=\"convertToInteractive('df-743b4802-a7ec-4c08-94e2-1aca6febdc7e')\"\n",
              "              title=\"Convert this dataframe to an interactive table.\"\n",
              "              style=\"display:none;\">\n",
              "        \n",
              "  <svg xmlns=\"http://www.w3.org/2000/svg\" height=\"24px\"viewBox=\"0 0 24 24\"\n",
              "       width=\"24px\">\n",
              "    <path d=\"M0 0h24v24H0V0z\" fill=\"none\"/>\n",
              "    <path d=\"M18.56 5.44l.94 2.06.94-2.06 2.06-.94-2.06-.94-.94-2.06-.94 2.06-2.06.94zm-11 1L8.5 8.5l.94-2.06 2.06-.94-2.06-.94L8.5 2.5l-.94 2.06-2.06.94zm10 10l.94 2.06.94-2.06 2.06-.94-2.06-.94-.94-2.06-.94 2.06-2.06.94z\"/><path d=\"M17.41 7.96l-1.37-1.37c-.4-.4-.92-.59-1.43-.59-.52 0-1.04.2-1.43.59L10.3 9.45l-7.72 7.72c-.78.78-.78 2.05 0 2.83L4 21.41c.39.39.9.59 1.41.59.51 0 1.02-.2 1.41-.59l7.78-7.78 2.81-2.81c.8-.78.8-2.07 0-2.86zM5.41 20L4 18.59l7.72-7.72 1.47 1.35L5.41 20z\"/>\n",
              "  </svg>\n",
              "      </button>\n",
              "      \n",
              "  <style>\n",
              "    .colab-df-container {\n",
              "      display:flex;\n",
              "      flex-wrap:wrap;\n",
              "      gap: 12px;\n",
              "    }\n",
              "\n",
              "    .colab-df-convert {\n",
              "      background-color: #E8F0FE;\n",
              "      border: none;\n",
              "      border-radius: 50%;\n",
              "      cursor: pointer;\n",
              "      display: none;\n",
              "      fill: #1967D2;\n",
              "      height: 32px;\n",
              "      padding: 0 0 0 0;\n",
              "      width: 32px;\n",
              "    }\n",
              "\n",
              "    .colab-df-convert:hover {\n",
              "      background-color: #E2EBFA;\n",
              "      box-shadow: 0px 1px 2px rgba(60, 64, 67, 0.3), 0px 1px 3px 1px rgba(60, 64, 67, 0.15);\n",
              "      fill: #174EA6;\n",
              "    }\n",
              "\n",
              "    [theme=dark] .colab-df-convert {\n",
              "      background-color: #3B4455;\n",
              "      fill: #D2E3FC;\n",
              "    }\n",
              "\n",
              "    [theme=dark] .colab-df-convert:hover {\n",
              "      background-color: #434B5C;\n",
              "      box-shadow: 0px 1px 3px 1px rgba(0, 0, 0, 0.15);\n",
              "      filter: drop-shadow(0px 1px 2px rgba(0, 0, 0, 0.3));\n",
              "      fill: #FFFFFF;\n",
              "    }\n",
              "  </style>\n",
              "\n",
              "      <script>\n",
              "        const buttonEl =\n",
              "          document.querySelector('#df-743b4802-a7ec-4c08-94e2-1aca6febdc7e button.colab-df-convert');\n",
              "        buttonEl.style.display =\n",
              "          google.colab.kernel.accessAllowed ? 'block' : 'none';\n",
              "\n",
              "        async function convertToInteractive(key) {\n",
              "          const element = document.querySelector('#df-743b4802-a7ec-4c08-94e2-1aca6febdc7e');\n",
              "          const dataTable =\n",
              "            await google.colab.kernel.invokeFunction('convertToInteractive',\n",
              "                                                     [key], {});\n",
              "          if (!dataTable) return;\n",
              "\n",
              "          const docLinkHtml = 'Like what you see? Visit the ' +\n",
              "            '<a target=\"_blank\" href=https://colab.research.google.com/notebooks/data_table.ipynb>data table notebook</a>'\n",
              "            + ' to learn more about interactive tables.';\n",
              "          element.innerHTML = '';\n",
              "          dataTable['output_type'] = 'display_data';\n",
              "          await google.colab.output.renderOutput(dataTable, element);\n",
              "          const docLink = document.createElement('div');\n",
              "          docLink.innerHTML = docLinkHtml;\n",
              "          element.appendChild(docLink);\n",
              "        }\n",
              "      </script>\n",
              "    </div>\n",
              "  </div>\n",
              "  "
            ]
          },
          "metadata": {},
          "execution_count": 148
        }
      ]
    },
    {
      "cell_type": "code",
      "source": [
        "fig = plt.figure(figsize=(15, 10))\n",
        "ax = fig.add_subplot(1,1,1)\n",
        "\n",
        "for i in range(len(bank)):\n",
        "    x, y, text = bank.iloc[i]['X'], bank.iloc[i]['Y'], bank.iloc[i]['bank_name']\n",
        "    ax.scatter(x, y)\n",
        "    ax.text(x, y, text)\n",
        "\n",
        "ax.set_xlabel('плохо-хорошо')\n",
        "ax.set_ylabel('медленно-быстро')\n",
        "\n",
        "plt.show()"
      ],
      "metadata": {
        "colab": {
          "base_uri": "https://localhost:8080/",
          "height": 850
        },
        "id": "0MNcg214RTZr",
        "outputId": "4e2366d8-bce8-4064-fe5d-eb4f8704cd80"
      },
      "execution_count": null,
      "outputs": [
        {
          "output_type": "display_data",
          "data": {
            "text/plain": [
              "<Figure size 1500x1000 with 1 Axes>"
            ],
            "image/png": "[encoded data removed]"
          },
          "metadata": {}
        }
      ]
    },
    {
      "cell_type": "code",
      "source": [
        "output_notebook()\n",
        "\n",
        "p = figure(\n",
        "    tools=\"pan,wheel_zoom,reset,save\",\n",
        "    toolbar_location=\"above\",\n",
        "    title=\"15 самых популярных банков в новых осях\")\n",
        "\n",
        "source = ColumnDataSource(\n",
        "    data=dict(\n",
        "        x1=bank.X,\n",
        "        x2=bank.Y,\n",
        "        names=bank.bank_name))\n",
        "\n",
        "p.scatter(x=\"x1\", y=\"x2\", size=10, source=source)\n",
        "\n",
        "labels = LabelSet(\n",
        "    x=\"x1\",\n",
        "    y=\"x2\",\n",
        "    text=\"names\",\n",
        "    y_offset=6,\n",
        "    text_font_size=\"9pt\",\n",
        "    text_color=\"#555555\",\n",
        "    source=source,\n",
        "    text_align='center')\n",
        "\n",
        "p.add_layout(labels)\n",
        "p.xaxis.axis_label = 'плохо-хорошо'\n",
        "p.yaxis.axis_label = 'медленно-быстро'\n",
        "show(p)"
      ],
      "metadata": {
        "colab": {
          "base_uri": "https://localhost:8080/",
          "height": 617
        },
        "id": "cW590lwjTzzO",
        "outputId": "9b55e16b-a04e-4399-fd39-0f674ff3974c"
      },
      "execution_count": null,
      "outputs": [
        {
          "output_type": "display_data",
          "data": {
            "application/javascript": [
              "(function(root) {\n",
              "  function now() {\n",
              "    return new Date();\n",
              "  }\n",
              "\n",
              "  const force = true;\n",
              "\n",
              "  if (typeof root._bokeh_onload_callbacks === \"undefined\" || force === true) {\n",
              "    root._bokeh_onload_callbacks = [];\n",
              "    root._bokeh_is_loading = undefined;\n",
              "  }\n",
              "\n",
              "const JS_MIME_TYPE = 'application/javascript';\n",
              "  const HTML_MIME_TYPE = 'text/html';\n",
              "  const EXEC_MIME_TYPE = 'application/vnd.bokehjs_exec.v0+json';\n",
              "  const CLASS_NAME = 'output_bokeh rendered_html';\n",
              "\n",
              "  /**\n",
              "   * Render data to the DOM node\n",
              "   */\n",
              "  function render(props, node) {\n",
              "    const script = document.createElement(\"script\");\n",
              "    node.appendChild(script);\n",
              "  }\n",
              "\n",
              "  /**\n",
              "   * Handle when an output is cleared or removed\n",
              "   */\n",
              "  function handleClearOutput(event, handle) {\n",
              "    const cell = handle.cell;\n",
              "\n",
              "    const id = cell.output_area._bokeh_element_id;\n",
              "    const server_id = cell.output_area._bokeh_server_id;\n",
              "    // Clean up Bokeh references\n",
              "    if (id != null && id in Bokeh.index) {\n",
              "      Bokeh.index[id].model.document.clear();\n",
              "      delete Bokeh.index[id];\n",
              "    }\n",
              "\n",
              "    if (server_id !== undefined) {\n",
              "      // Clean up Bokeh references\n",
              "      const cmd_clean = \"from bokeh.io.state import curstate; print(curstate().uuid_to_server['\" + server_id + \"'].get_sessions()[0].document.roots[0]._id)\";\n",
              "      cell.notebook.kernel.execute(cmd_clean, {\n",
              "        iopub: {\n",
              "          output: function(msg) {\n",
              "            const id = msg.content.text.trim();\n",
              "            if (id in Bokeh.index) {\n",
              "              Bokeh.index[id].model.document.clear();\n",
              "              delete Bokeh.index[id];\n",
              "            }\n",
              "          }\n",
              "        }\n",
              "      });\n",
              "      // Destroy server and session\n",
              "      const cmd_destroy = \"import bokeh.io.notebook as ion; ion.destroy_server('\" + server_id + \"')\";\n",
              "      cell.notebook.kernel.execute(cmd_destroy);\n",
              "    }\n",
              "  }\n",
              "\n",
              "  /**\n",
              "   * Handle when a new output is added\n",
              "   */\n",
              "  function handleAddOutput(event, handle) {\n",
              "    const output_area = handle.output_area;\n",
              "    const output = handle.output;\n",
              "\n",
              "    // limit handleAddOutput to display_data with EXEC_MIME_TYPE content only\n",
              "    if ((output.output_type != \"display_data\") || (!Object.prototype.hasOwnProperty.call(output.data, EXEC_MIME_TYPE))) {\n",
              "      return\n",
              "    }\n",
              "\n",
              "    const toinsert = output_area.element.find(\".\" + CLASS_NAME.split(' ')[0]);\n",
              "\n",
              "    if (output.metadata[EXEC_MIME_TYPE][\"id\"] !== undefined) {\n",
              "      toinsert[toinsert.length - 1].firstChild.textContent = output.data[JS_MIME_TYPE];\n",
              "      // store reference to embed id on output_area\n",
              "      output_area._bokeh_element_id = output.metadata[EXEC_MIME_TYPE][\"id\"];\n",
              "    }\n",
              "    if (output.metadata[EXEC_MIME_TYPE][\"server_id\"] !== undefined) {\n",
              "      const bk_div = document.createElement(\"div\");\n",
              "      bk_div.innerHTML = output.data[HTML_MIME_TYPE];\n",
              "      const script_attrs = bk_div.children[0].attributes;\n",
              "      for (let i = 0; i < script_attrs.length; i++) {\n",
              "        toinsert[toinsert.length - 1].firstChild.setAttribute(script_attrs[i].name, script_attrs[i].value);\n",
              "        toinsert[toinsert.length - 1].firstChild.textContent = bk_div.children[0].textContent\n",
              "      }\n",
              "      // store reference to server id on output_area\n",
              "      output_area._bokeh_server_id = output.metadata[EXEC_MIME_TYPE][\"server_id\"];\n",
              "    }\n",
              "  }\n",
              "\n",
              "  function register_renderer(events, OutputArea) {\n",
              "\n",
              "    function append_mime(data, metadata, element) {\n",
              "      // create a DOM node to render to\n",
              "      const toinsert = this.create_output_subarea(\n",
              "        metadata,\n",
              "        CLASS_NAME,\n",
              "        EXEC_MIME_TYPE\n",
              "      );\n",
              "      this.keyboard_manager.register_events(toinsert);\n",
              "      // Render to node\n",
              "      const props = {data: data, metadata: metadata[EXEC_MIME_TYPE]};\n",
              "      render(props, toinsert[toinsert.length - 1]);\n",
              "      element.append(toinsert);\n",
              "      return toinsert\n",
              "    }\n",
              "\n",
              "    /* Handle when an output is cleared or removed */\n",
              "    events.on('clear_output.CodeCell', handleClearOutput);\n",
              "    events.on('delete.Cell', handleClearOutput);\n",
              "\n",
              "    /* Handle when a new output is added */\n",
              "    events.on('output_added.OutputArea', handleAddOutput);\n",
              "\n",
              "    /**\n",
              "     * Register the mime type and append_mime function with output_area\n",
              "     */\n",
              "    OutputArea.prototype.register_mime_type(EXEC_MIME_TYPE, append_mime, {\n",
              "      /* Is output safe? */\n",
              "      safe: true,\n",
              "      /* Index of renderer in `output_area.display_order` */\n",
              "      index: 0\n",
              "    });\n",
              "  }\n",
              "\n",
              "  // register the mime type if in Jupyter Notebook environment and previously unregistered\n",
              "  if (root.Jupyter !== undefined) {\n",
              "    const events = require('base/js/events');\n",
              "    const OutputArea = require('notebook/js/outputarea').OutputArea;\n",
              "\n",
              "    if (OutputArea.prototype.mime_types().indexOf(EXEC_MIME_TYPE) == -1) {\n",
              "      register_renderer(events, OutputArea);\n",
              "    }\n",
              "  }\n",
              "  if (typeof (root._bokeh_timeout) === \"undefined\" || force === true) {\n",
              "    root._bokeh_timeout = Date.now() + 5000;\n",
              "    root._bokeh_failed_load = false;\n",
              "  }\n",
              "\n",
              "  const NB_LOAD_WARNING = {'data': {'text/html':\n",
              "     \"<div style='background-color: #fdd'>\\n\"+\n",
              "     \"<p>\\n\"+\n",
              "     \"BokehJS does not appear to have successfully loaded. If loading BokehJS from CDN, this \\n\"+\n",
              "     \"may be due to a slow or bad network connection. Possible fixes:\\n\"+\n",
              "     \"</p>\\n\"+\n",
              "     \"<ul>\\n\"+\n",
              "     \"<li>re-rerun `output_notebook()` to attempt to load from CDN again, or</li>\\n\"+\n",
              "     \"<li>use INLINE resources instead, as so:</li>\\n\"+\n",
              "     \"</ul>\\n\"+\n",
              "     \"<code>\\n\"+\n",
              "     \"from bokeh.resources import INLINE\\n\"+\n",
              "     \"output_notebook(resources=INLINE)\\n\"+\n",
              "     \"</code>\\n\"+\n",
              "     \"</div>\"}};\n",
              "\n",
              "  function display_loaded() {\n",
              "    const el = document.getElementById(null);\n",
              "    if (el != null) {\n",
              "      el.textContent = \"BokehJS is loading...\";\n",
              "    }\n",
              "    if (root.Bokeh !== undefined) {\n",
              "      if (el != null) {\n",
              "        el.textContent = \"BokehJS \" + root.Bokeh.version + \" successfully loaded.\";\n",
              "      }\n",
              "    } else if (Date.now() < root._bokeh_timeout) {\n",
              "      setTimeout(display_loaded, 100)\n",
              "    }\n",
              "  }\n",
              "\n",
              "  function run_callbacks() {\n",
              "    try {\n",
              "      root._bokeh_onload_callbacks.forEach(function(callback) {\n",
              "        if (callback != null)\n",
              "          callback();\n",
              "      });\n",
              "    } finally {\n",
              "      delete root._bokeh_onload_callbacks\n",
              "    }\n",
              "    console.debug(\"Bokeh: all callbacks have finished\");\n",
              "  }\n",
              "\n",
              "  function load_libs(css_urls, js_urls, callback) {\n",
              "    if (css_urls == null) css_urls = [];\n",
              "    if (js_urls == null) js_urls = [];\n",
              "\n",
              "    root._bokeh_onload_callbacks.push(callback);\n",
              "    if (root._bokeh_is_loading > 0) {\n",
              "      console.debug(\"Bokeh: BokehJS is being loaded, scheduling callback at\", now());\n",
              "      return null;\n",
              "    }\n",
              "    if (js_urls == null || js_urls.length === 0) {\n",
              "      run_callbacks();\n",
              "      return null;\n",
              "    }\n",
              "    console.debug(\"Bokeh: BokehJS not loaded, scheduling load and callback at\", now());\n",
              "    root._bokeh_is_loading = css_urls.length + js_urls.length;\n",
              "\n",
              "    function on_load() {\n",
              "      root._bokeh_is_loading--;\n",
              "      if (root._bokeh_is_loading === 0) {\n",
              "        console.debug(\"Bokeh: all BokehJS libraries/stylesheets loaded\");\n",
              "        run_callbacks()\n",
              "      }\n",
              "    }\n",
              "\n",
              "    function on_error(url) {\n",
              "      console.error(\"failed to load \" + url);\n",
              "    }\n",
              "\n",
              "    for (let i = 0; i < css_urls.length; i++) {\n",
              "      const url = css_urls[i];\n",
              "      const element = document.createElement(\"link\");\n",
              "      element.onload = on_load;\n",
              "      element.onerror = on_error.bind(null, url);\n",
              "      element.rel = \"stylesheet\";\n",
              "      element.type = \"text/css\";\n",
              "      element.href = url;\n",
              "      console.debug(\"Bokeh: injecting link tag for BokehJS stylesheet: \", url);\n",
              "      document.body.appendChild(element);\n",
              "    }\n",
              "\n",
              "    for (let i = 0; i < js_urls.length; i++) {\n",
              "      const url = js_urls[i];\n",
              "      const element = document.createElement('script');\n",
              "      element.onload = on_load;\n",
              "      element.onerror = on_error.bind(null, url);\n",
              "      element.async = false;\n",
              "      element.src = url;\n",
              "      console.debug(\"Bokeh: injecting script tag for BokehJS library: \", url);\n",
              "      document.head.appendChild(element);\n",
              "    }\n",
              "  };\n",
              "\n",
              "  function inject_raw_css(css) {\n",
              "    const element = document.createElement(\"style\");\n",
              "    element.appendChild(document.createTextNode(css));\n",
              "    document.body.appendChild(element);\n",
              "  }\n",
              "\n",
              "  const js_urls = [\"https://cdn.bokeh.org/bokeh/release/bokeh-2.4.3.min.js\", \"https://cdn.bokeh.org/bokeh/release/bokeh-gl-2.4.3.min.js\", \"https://cdn.bokeh.org/bokeh/release/bokeh-widgets-2.4.3.min.js\", \"https://cdn.bokeh.org/bokeh/release/bokeh-tables-2.4.3.min.js\", \"https://cdn.bokeh.org/bokeh/release/bokeh-mathjax-2.4.3.min.js\"];\n",
              "  const css_urls = [];\n",
              "\n",
              "  const inline_js = [    function(Bokeh) {\n",
              "      Bokeh.set_log_level(\"info\");\n",
              "    },\n",
              "function(Bokeh) {\n",
              "    }\n",
              "  ];\n",
              "\n",
              "  function run_inline_js() {\n",
              "    if (root.Bokeh !== undefined || force === true) {\n",
              "          for (let i = 0; i < inline_js.length; i++) {\n",
              "      inline_js[i].call(root, root.Bokeh);\n",
              "    }\n",
              "} else if (Date.now() < root._bokeh_timeout) {\n",
              "      setTimeout(run_inline_js, 100);\n",
              "    } else if (!root._bokeh_failed_load) {\n",
              "      console.log(\"Bokeh: BokehJS failed to load within specified timeout.\");\n",
              "      root._bokeh_failed_load = true;\n",
              "    } else if (force !== true) {\n",
              "      const cell = $(document.getElementById(null)).parents('.cell').data().cell;\n",
              "      cell.output_area.append_execute_result(NB_LOAD_WARNING)\n",
              "    }\n",
              "  }\n",
              "\n",
              "  if (root._bokeh_is_loading === 0) {\n",
              "    console.debug(\"Bokeh: BokehJS loaded, going straight to plotting\");\n",
              "    run_inline_js();\n",
              "  } else {\n",
              "    load_libs(css_urls, js_urls, function() {\n",
              "      console.debug(\"Bokeh: BokehJS plotting callback run at\", now());\n",
              "      run_inline_js();\n",
              "    });\n",
              "  }\n",
              "}(window));"
            ],
            "application/vnd.bokehjs_load.v0+json": "(function(root) {\n  function now() {\n    return new Date();\n  }\n\n  const force = true;\n\n  if (typeof root._bokeh_onload_callbacks === \"undefined\" || force === true) {\n    root._bokeh_onload_callbacks = [];\n    root._bokeh_is_loading = undefined;\n  }\n\n\n  if (typeof (root._bokeh_timeout) === \"undefined\" || force === true) {\n    root._bokeh_timeout = Date.now() + 5000;\n    root._bokeh_failed_load = false;\n  }\n\n  const NB_LOAD_WARNING = {'data': {'text/html':\n     \"<div style='background-color: #fdd'>\\n\"+\n     \"<p>\\n\"+\n     \"BokehJS does not appear to have successfully loaded. If loading BokehJS from CDN, this \\n\"+\n     \"may be due to a slow or bad network connection. Possible fixes:\\n\"+\n     \"</p>\\n\"+\n     \"<ul>\\n\"+\n     \"<li>re-rerun `output_notebook()` to attempt to load from CDN again, or</li>\\n\"+\n     \"<li>use INLINE resources instead, as so:</li>\\n\"+\n     \"</ul>\\n\"+\n     \"<code>\\n\"+\n     \"from bokeh.resources import INLINE\\n\"+\n     \"output_notebook(resources=INLINE)\\n\"+\n     \"</code>\\n\"+\n     \"</div>\"}};\n\n  function display_loaded() {\n    const el = document.getElementById(null);\n    if (el != null) {\n      el.textContent = \"BokehJS is loading...\";\n    }\n    if (root.Bokeh !== undefined) {\n      if (el != null) {\n        el.textContent = \"BokehJS \" + root.Bokeh.version + \" successfully loaded.\";\n      }\n    } else if (Date.now() < root._bokeh_timeout) {\n      setTimeout(display_loaded, 100)\n    }\n  }\n\n  function run_callbacks() {\n    try {\n      root._bokeh_onload_callbacks.forEach(function(callback) {\n        if (callback != null)\n          callback();\n      });\n    } finally {\n      delete root._bokeh_onload_callbacks\n    }\n    console.debug(\"Bokeh: all callbacks have finished\");\n  }\n\n  function load_libs(css_urls, js_urls, callback) {\n    if (css_urls == null) css_urls = [];\n    if (js_urls == null) js_urls = [];\n\n    root._bokeh_onload_callbacks.push(callback);\n    if (root._bokeh_is_loading > 0) {\n      console.debug(\"Bokeh: BokehJS is being loaded, scheduling callback at\", now());\n      return null;\n    }\n    if (js_urls == null || js_urls.length === 0) {\n      run_callbacks();\n      return null;\n    }\n    console.debug(\"Bokeh: BokehJS not loaded, scheduling load and callback at\", now());\n    root._bokeh_is_loading = css_urls.length + js_urls.length;\n\n    function on_load() {\n      root._bokeh_is_loading--;\n      if (root._bokeh_is_loading === 0) {\n        console.debug(\"Bokeh: all BokehJS libraries/stylesheets loaded\");\n        run_callbacks()\n      }\n    }\n\n    function on_error(url) {\n      console.error(\"failed to load \" + url);\n    }\n\n    for (let i = 0; i < css_urls.length; i++) {\n      const url = css_urls[i];\n      const element = document.createElement(\"link\");\n      element.onload = on_load;\n      element.onerror = on_error.bind(null, url);\n      element.rel = \"stylesheet\";\n      element.type = \"text/css\";\n      element.href = url;\n      console.debug(\"Bokeh: injecting link tag for BokehJS stylesheet: \", url);\n      document.body.appendChild(element);\n    }\n\n    for (let i = 0; i < js_urls.length; i++) {\n      const url = js_urls[i];\n      const element = document.createElement('script');\n      element.onload = on_load;\n      element.onerror = on_error.bind(null, url);\n      element.async = false;\n      element.src = url;\n      console.debug(\"Bokeh: injecting script tag for BokehJS library: \", url);\n      document.head.appendChild(element);\n    }\n  };\n\n  function inject_raw_css(css) {\n    const element = document.createElement(\"style\");\n    element.appendChild(document.createTextNode(css));\n    document.body.appendChild(element);\n  }\n\n  const js_urls = [\"https://cdn.bokeh.org/bokeh/release/bokeh-2.4.3.min.js\", \"https://cdn.bokeh.org/bokeh/release/bokeh-gl-2.4.3.min.js\", \"https://cdn.bokeh.org/bokeh/release/bokeh-widgets-2.4.3.min.js\", \"https://cdn.bokeh.org/bokeh/release/bokeh-tables-2.4.3.min.js\", \"https://cdn.bokeh.org/bokeh/release/bokeh-mathjax-2.4.3.min.js\"];\n  const css_urls = [];\n\n  const inline_js = [    function(Bokeh) {\n      Bokeh.set_log_level(\"info\");\n    },\nfunction(Bokeh) {\n    }\n  ];\n\n  function run_inline_js() {\n    if (root.Bokeh !== undefined || force === true) {\n          for (let i = 0; i < inline_js.length; i++) {\n      inline_js[i].call(root, root.Bokeh);\n    }\n} else if (Date.now() < root._bokeh_timeout) {\n      setTimeout(run_inline_js, 100);\n    } else if (!root._bokeh_failed_load) {\n      console.log(\"Bokeh: BokehJS failed to load within specified timeout.\");\n      root._bokeh_failed_load = true;\n    } else if (force !== true) {\n      const cell = $(document.getElementById(null)).parents('.cell').data().cell;\n      cell.output_area.append_execute_result(NB_LOAD_WARNING)\n    }\n  }\n\n  if (root._bokeh_is_loading === 0) {\n    console.debug(\"Bokeh: BokehJS loaded, going straight to plotting\");\n    run_inline_js();\n  } else {\n    load_libs(css_urls, js_urls, function() {\n      console.debug(\"Bokeh: BokehJS plotting callback run at\", now());\n      run_inline_js();\n    });\n  }\n}(window));"
          },
          "metadata": {}
        },
        {
          "output_type": "display_data",
          "data": {
            "text/html": [
              "\n",
              "  <div class=\"bk-root\" id=\"c0aca9fb-d2a3-4b66-89ca-748a2b78c35f\" data-root-id=\"3613\"></div>\n"
            ]
          },
          "metadata": {}
        },
        {
          "output_type": "display_data",
          "data": {
            "application/javascript": [
              "(function(root) {\n",
              "  function embed_document(root) {\n",
              "  const docs_json = {\"14786316-e508-4462-aab9-d45e9eb2fdcb\":{\"defs\":[],\"roots\":{\"references\":[{\"attributes\":{\"below\":[{\"id\":\"3624\"}],\"center\":[{\"id\":\"3627\"},{\"id\":\"3631\"},{\"id\":\"3648\"}],\"left\":[{\"id\":\"3628\"}],\"renderers\":[{\"id\":\"3646\"}],\"title\":{\"id\":\"3614\"},\"toolbar\":{\"id\":\"3636\"},\"toolbar_location\":\"above\",\"x_range\":{\"id\":\"3616\"},\"x_scale\":{\"id\":\"3620\"},\"y_range\":{\"id\":\"3618\"},\"y_scale\":{\"id\":\"3622\"}},\"id\":\"3613\",\"subtype\":\"Figure\",\"type\":\"Plot\"},{\"attributes\":{},\"id\":\"3804\",\"type\":\"UnionRenderers\"},{\"attributes\":{},\"id\":\"3633\",\"type\":\"WheelZoomTool\"},{\"attributes\":{},\"id\":\"3805\",\"type\":\"Selection\"},{\"attributes\":{},\"id\":\"3629\",\"type\":\"BasicTicker\"},{\"attributes\":{\"axis\":{\"id\":\"3628\"},\"coordinates\":null,\"dimension\":1,\"group\":null,\"ticker\":null},\"id\":\"3631\",\"type\":\"Grid\"},{\"attributes\":{\"tools\":[{\"id\":\"3632\"},{\"id\":\"3633\"},{\"id\":\"3634\"},{\"id\":\"3635\"}]},\"id\":\"3636\",\"type\":\"Toolbar\"},{\"attributes\":{},\"id\":\"3634\",\"type\":\"ResetTool\"},{\"attributes\":{\"fill_alpha\":{\"value\":0.1},\"fill_color\":{\"value\":\"#1f77b4\"},\"hatch_alpha\":{\"value\":0.1},\"line_alpha\":{\"value\":0.1},\"line_color\":{\"value\":\"#1f77b4\"},\"size\":{\"value\":10},\"x\":{\"field\":\"x1\"},\"y\":{\"field\":\"x2\"}},\"id\":\"3644\",\"type\":\"Scatter\"},{\"attributes\":{},\"id\":\"3803\",\"type\":\"AllLabels\"},{\"attributes\":{},\"id\":\"3802\",\"type\":\"BasicTickFormatter\"},{\"attributes\":{},\"id\":\"3635\",\"type\":\"SaveTool\"},{\"attributes\":{\"source\":{\"id\":\"3641\"}},\"id\":\"3647\",\"type\":\"CDSView\"},{\"attributes\":{\"data\":{\"names\":[\"\\u0441\\u0431\\u0435\\u0440\\u0431\\u0430\\u043d\\u043a\",\"\\u0430\\u043b\\u044c\\u0444\\u0430\",\"\\u0432\\u0442\\u0431\",\"\\u0440\\u0443\\u0441\\u0441\\u043a\\u0438\\u0439\",\"\\u0445\\u043e\\u0443\\u043c\",\"\\u0442\\u0438\\u043d\\u044c\\u043a\\u043e\\u0444\\u0444\",\"\\u043d\\u0430\\u0446\\u0438\\u043e\\u043d\\u0430\\u043b\\u044c\\u043d\\u044b\\u0439\",\"\\u0440\\u0435\\u043d\\u0435\\u0441\\u0441\\u0430\\u043d\\u0441\",\"\\u0441\\u0432\\u044f\\u0437\\u043d\\u043e\\u0439\",\"\\u043e\\u0442\\u043f\",\"\\u0432\\u043e\\u0441\\u0442\\u043e\\u0447\\u043d\\u044b\\u0439\",\"\\u0440\\u0430\\u0439\\u0444\\u0444\\u0430\\u0439\\u0437\\u0435\\u043d\\u0431\\u0430\\u043d\\u043a\",\"\\u043c\\u043e\\u0441\\u043a\\u043e\\u0432\\u0441\\u043a\\u0438\\u0439\",\"\\u0441\\u0438\\u0442\\u0438\\u0431\\u0430\\u043d\\u043a\",\"\\u0430\\u0432\\u0430\\u043d\\u0433\\u0430\\u0440\\u0434\"],\"x1\":{\"__ndarray__\":\"827NwbUDHkIEXANCohh0QWnNB0IJCSpC6bFDQtByq0E0rEVC+9fmQfb2ZkHKdOw/2w2DQsIlp7wBZllC\",\"dtype\":\"float32\",\"order\":\"little\",\"shape\":[15]},\"x2\":{\"__ndarray__\":\"liiGQST/70EbkeRB18flwJ1xtEEGsdFBT4M2wcc5nEEMNgJC0NAUQlG2UkGio4XASKPmQSMrxEHEcJdB\",\"dtype\":\"float32\",\"order\":\"little\",\"shape\":[15]}},\"selected\":{\"id\":\"3805\"},\"selection_policy\":{\"id\":\"3804\"}},\"id\":\"3641\",\"type\":\"ColumnDataSource\"},{\"attributes\":{},\"id\":\"3632\",\"type\":\"PanTool\"},{\"attributes\":{\"coordinates\":null,\"group\":null,\"source\":{\"id\":\"3641\"},\"text\":{\"field\":\"names\"},\"text_align\":{\"value\":\"center\"},\"text_color\":{\"value\":\"#555555\"},\"text_font_size\":{\"value\":\"9pt\"},\"x\":{\"field\":\"x1\"},\"y\":{\"field\":\"x2\"},\"y_offset\":{\"value\":6}},\"id\":\"3648\",\"type\":\"LabelSet\"},{\"attributes\":{},\"id\":\"3616\",\"type\":\"DataRange1d\"},{\"attributes\":{\"fill_color\":{\"value\":\"#1f77b4\"},\"line_color\":{\"value\":\"#1f77b4\"},\"size\":{\"value\":10},\"x\":{\"field\":\"x1\"},\"y\":{\"field\":\"x2\"}},\"id\":\"3643\",\"type\":\"Scatter\"},{\"attributes\":{},\"id\":\"3618\",\"type\":\"DataRange1d\"},{\"attributes\":{},\"id\":\"3799\",\"type\":\"BasicTickFormatter\"},{\"attributes\":{},\"id\":\"3800\",\"type\":\"AllLabels\"},{\"attributes\":{\"fill_alpha\":{\"value\":0.2},\"fill_color\":{\"value\":\"#1f77b4\"},\"hatch_alpha\":{\"value\":0.2},\"line_alpha\":{\"value\":0.2},\"line_color\":{\"value\":\"#1f77b4\"},\"size\":{\"value\":10},\"x\":{\"field\":\"x1\"},\"y\":{\"field\":\"x2\"}},\"id\":\"3645\",\"type\":\"Scatter\"},{\"attributes\":{\"axis_label\":\"\\u043c\\u0435\\u0434\\u043b\\u0435\\u043d\\u043d\\u043e-\\u0431\\u044b\\u0441\\u0442\\u0440\\u043e\",\"coordinates\":null,\"formatter\":{\"id\":\"3799\"},\"group\":null,\"major_label_policy\":{\"id\":\"3800\"},\"ticker\":{\"id\":\"3629\"}},\"id\":\"3628\",\"type\":\"LinearAxis\"},{\"attributes\":{},\"id\":\"3625\",\"type\":\"BasicTicker\"},{\"attributes\":{\"coordinates\":null,\"data_source\":{\"id\":\"3641\"},\"glyph\":{\"id\":\"3643\"},\"group\":null,\"hover_glyph\":null,\"muted_glyph\":{\"id\":\"3645\"},\"nonselection_glyph\":{\"id\":\"3644\"},\"view\":{\"id\":\"3647\"}},\"id\":\"3646\",\"type\":\"GlyphRenderer\"},{\"attributes\":{\"coordinates\":null,\"group\":null,\"text\":\"15 \\u0441\\u0430\\u043c\\u044b\\u0445 \\u043f\\u043e\\u043f\\u0443\\u043b\\u044f\\u0440\\u043d\\u044b\\u0445 \\u0431\\u0430\\u043d\\u043a\\u043e\\u0432 \\u0432 \\u043d\\u043e\\u0432\\u044b\\u0445 \\u043e\\u0441\\u044f\\u0445\"},\"id\":\"3614\",\"type\":\"Title\"},{\"attributes\":{},\"id\":\"3622\",\"type\":\"LinearScale\"},{\"attributes\":{\"axis\":{\"id\":\"3624\"},\"coordinates\":null,\"group\":null,\"ticker\":null},\"id\":\"3627\",\"type\":\"Grid\"},{\"attributes\":{},\"id\":\"3620\",\"type\":\"LinearScale\"},{\"attributes\":{\"axis_label\":\"\\u043f\\u043b\\u043e\\u0445\\u043e-\\u0445\\u043e\\u0440\\u043e\\u0448\\u043e\",\"coordinates\":null,\"formatter\":{\"id\":\"3802\"},\"group\":null,\"major_label_policy\":{\"id\":\"3803\"},\"ticker\":{\"id\":\"3625\"}},\"id\":\"3624\",\"type\":\"LinearAxis\"}],\"root_ids\":[\"3613\"]},\"title\":\"Bokeh Application\",\"version\":\"2.4.3\"}};\n",
              "  const render_items = [{\"docid\":\"14786316-e508-4462-aab9-d45e9eb2fdcb\",\"root_ids\":[\"3613\"],\"roots\":{\"3613\":\"c0aca9fb-d2a3-4b66-89ca-748a2b78c35f\"}}];\n",
              "  root.Bokeh.embed.embed_items_notebook(docs_json, render_items);\n",
              "  }\n",
              "  if (root.Bokeh !== undefined) {\n",
              "    embed_document(root);\n",
              "  } else {\n",
              "    let attempts = 0;\n",
              "    const timer = setInterval(function(root) {\n",
              "      if (root.Bokeh !== undefined) {\n",
              "        clearInterval(timer);\n",
              "        embed_document(root);\n",
              "      } else {\n",
              "        attempts++;\n",
              "        if (attempts > 100) {\n",
              "          clearInterval(timer);\n",
              "          console.log(\"Bokeh: ERROR: Unable to run BokehJS code because BokehJS library is missing\");\n",
              "        }\n",
              "      }\n",
              "    }, 10, root)\n",
              "  }\n",
              "})(window);"
            ],
            "application/vnd.bokehjs_exec.v0+json": ""
          },
          "metadata": {
            "application/vnd.bokehjs_exec.v0+json": {
              "id": "3613"
            }
          }
        }
      ]
    },
    {
      "cell_type": "markdown",
      "source": [
        "### Задание 2: распространить метку."
      ],
      "metadata": {
        "id": "peH5vkvBUwZ1"
      }
    },
    {
      "cell_type": "markdown",
      "source": [
        "\n",
        "Определите 5–8 позитивных слов (например, быстрый, удобный) и 5–8 негативных слов (например, очередь, медленно). Эти слова будут основной будущего оценочного словаря\n",
        "Пусть позитивному классу соответствует метка 1, негативному — -1\n",
        "Пометьте выбранные слова в лексическом графе соответствующими метками\n",
        "Запустите любой известный вам метод распространения метки (Label Propogation) в лексическом графе\n",
        "На выходе метода распространения ошибки должны быть новые слова, помеченные метками 1 и -1 — это и есть искомые оценочные слова\n"
      ],
      "metadata": {
        "id": "5AU1XyLoVOl0"
      }
    },
    {
      "cell_type": "markdown",
      "source": [
        "#### Определите 5–8 позитивных слов (например, быстрый, удобный) и 5–8 негативных слов (например, очередь, медленно). Эти слова будут основной будущего оценочного словаря"
      ],
      "metadata": {
        "id": "ygOunxQQVOFv"
      }
    },
    {
      "cell_type": "code",
      "source": [
        "print(model.wv.key_to_index)"
      ],
      "metadata": {
        "colab": {
          "base_uri": "https://localhost:8080/"
        },
        "id": "hNozVAXMvgT0",
        "outputId": "5d46104e-dc24-45d4-c674-56c31f8ad85f"
      },
      "execution_count": null,
      "outputs": [
        {
          "output_type": "stream",
          "name": "stderr",
          "text": [
            "IOPub data rate exceeded.\n",
            "The notebook server will temporarily stop sending output\n",
            "to the client in order to avoid crashing it.\n",
            "To change this limit, set the config variable\n",
            "`--NotebookApp.iopub_data_rate_limit`.\n",
            "\n",
            "Current values:\n",
            "NotebookApp.iopub_data_rate_limit=1000000.0 (bytes/sec)\n",
            "NotebookApp.rate_limit_window=3.0 (secs)\n",
            "\n"
          ]
        }
      ]
    },
    {
      "cell_type": "code",
      "source": [
        "from gensim import corpora\n",
        "#  сохранение извлеченных токенов в словарь\n",
        "my_dictionary = corpora.Dictionary(text_lemm)\n",
        "print(my_dictionary)"
      ],
      "metadata": {
        "colab": {
          "base_uri": "https://localhost:8080/"
        },
        "id": "5WPQhildu87d",
        "outputId": "0ae81eeb-79ca-452d-cf50-97f7232585c9"
      },
      "execution_count": null,
      "outputs": [
        {
          "output_type": "stream",
          "name": "stdout",
          "text": [
            "Dictionary<264430 unique tokens: ['день', 'добрый', 'банка', 'банком', 'договору']...>\n"
          ]
        }
      ]
    },
    {
      "cell_type": "code",
      "source": [
        "len(my_dictionary)"
      ],
      "metadata": {
        "colab": {
          "base_uri": "https://localhost:8080/"
        },
        "id": "Nlib96n1yVOO",
        "outputId": "1df717b8-2923-4a62-cdeb-130916e7a31f"
      },
      "execution_count": null,
      "outputs": [
        {
          "output_type": "execute_result",
          "data": {
            "text/plain": [
              "264430"
            ]
          },
          "metadata": {},
          "execution_count": 25
        }
      ]
    },
    {
      "cell_type": "code",
      "source": [
        "model.wv.most_similar(positive=['быстрый', 'удобный'], topn=8)"
      ],
      "metadata": {
        "colab": {
          "base_uri": "https://localhost:8080/"
        },
        "id": "J_acIsZ5SdFu",
        "outputId": "00dfb223-657a-4529-dae6-3d7c44131140"
      },
      "execution_count": null,
      "outputs": [
        {
          "output_type": "execute_result",
          "data": {
            "text/plain": [
              "[('оперативный', 0.6500906348228455),\n",
              " ('удобен', 0.6414101719856262),\n",
              " ('понятный', 0.6154302358627319),\n",
              " ('отличный', 0.6068035364151001),\n",
              " ('продуманный', 0.589693009853363),\n",
              " ('безопасный', 0.5872557759284973),\n",
              " ('комфортный', 0.5850366353988647),\n",
              " ('функциональный', 0.5841221809387207)]"
            ]
          },
          "metadata": {},
          "execution_count": 25
        }
      ]
    },
    {
      "cell_type": "code",
      "source": [
        "model.wv.most_similar(positive=['очередь', 'медленно'], topn=8)"
      ],
      "metadata": {
        "colab": {
          "base_uri": "https://localhost:8080/"
        },
        "id": "MRTNxEanTfOg",
        "outputId": "a47d703d-b6c4-4b2c-f793-e2d06fc4efee"
      },
      "execution_count": null,
      "outputs": [
        {
          "output_type": "execute_result",
          "data": {
            "text/plain": [
              "[('неторопливо', 0.6039108037948608),\n",
              " ('толпа', 0.5416073799133301),\n",
              " ('неспешно', 0.5391420125961304),\n",
              " ('очереди', 0.5356124043464661),\n",
              " ('спеша', 0.49790158867836),\n",
              " ('толпу', 0.49454960227012634),\n",
              " ('народу', 0.49213773012161255),\n",
              " ('душно', 0.4871962070465088)]"
            ]
          },
          "metadata": {},
          "execution_count": 26
        }
      ]
    },
    {
      "cell_type": "code",
      "source": [
        "pos = {}\n",
        "poslist = []\n",
        "for el in model.wv.most_similar(positive=['быстрый', 'удобный'], topn=8):\n",
        "    poslist.append(el[0])\n",
        "    for el in poslist:\n",
        "        pos[el] = '1'\n",
        "# print(pos)\n",
        "\n",
        "negative = {}\n",
        "negativelist = []\n",
        "for el in model.wv.most_similar(positive=['очередь', 'медленно'], topn=8):\n",
        "    negativelist.append(el[0])\n",
        "    for el in negativelist:\n",
        "        negative[el] = '-1'\n",
        "# print(negative)\n",
        "\n",
        "pos.update(negative)\n",
        "pos"
      ],
      "metadata": {
        "colab": {
          "base_uri": "https://localhost:8080/"
        },
        "id": "mgH55XJ3Zije",
        "outputId": "6a998da1-a942-46fe-9edf-0da080556f3a"
      },
      "execution_count": null,
      "outputs": [
        {
          "output_type": "execute_result",
          "data": {
            "text/plain": [
              "{'оперативный': '1',\n",
              " 'удобен': '1',\n",
              " 'понятный': '1',\n",
              " 'отличный': '1',\n",
              " 'продуманный': '1',\n",
              " 'безопасный': '1',\n",
              " 'комфортный': '1',\n",
              " 'функциональный': '1',\n",
              " 'неторопливо': '-1',\n",
              " 'толпа': '-1',\n",
              " 'неспешно': '-1',\n",
              " 'очереди': '-1',\n",
              " 'спеша': '-1',\n",
              " 'толпу': '-1',\n",
              " 'народу': '-1',\n",
              " 'душно': '-1'}"
            ]
          },
          "metadata": {},
          "execution_count": 28
        }
      ]
    },
    {
      "cell_type": "code",
      "source": [
        "pip install python-igraph"
      ],
      "metadata": {
        "colab": {
          "base_uri": "https://localhost:8080/"
        },
        "id": "JcJM5obHWwQD",
        "outputId": "f62fcc4b-5e16-40e1-edb7-81748c6b5100"
      },
      "execution_count": null,
      "outputs": [
        {
          "output_type": "stream",
          "name": "stdout",
          "text": [
            "Looking in indexes: https://pypi.org/simple, https://us-python.pkg.dev/colab-wheels/public/simple/\n",
            "Collecting python-igraph\n",
            "  Downloading python-igraph-0.10.4.tar.gz (9.5 kB)\n",
            "  Preparing metadata (setup.py) ... \u001b[?25l\u001b[?25hdone\n",
            "Requirement already satisfied: igraph==0.10.4 in /usr/local/lib/python3.10/dist-packages (from python-igraph) (0.10.4)\n",
            "Requirement already satisfied: texttable>=1.6.2 in /usr/local/lib/python3.10/dist-packages (from igraph==0.10.4->python-igraph) (1.6.7)\n",
            "Building wheels for collected packages: python-igraph\n",
            "  Building wheel for python-igraph (setup.py) ... \u001b[?25l\u001b[?25hdone\n",
            "  Created wheel for python-igraph: filename=python_igraph-0.10.4-py3-none-any.whl size=9073 sha256=cbb121e0e77e78823cb8cd0f5ab7426a46a0613b222d4e045186fd9f66586a43\n",
            "  Stored in directory: /root/.cache/pip/wheels/49/27/15/dcf90953e3e3322e6f3e447514b20cf39b53c6518cb4a7bace\n",
            "Successfully built python-igraph\n",
            "Installing collected packages: python-igraph\n",
            "Successfully installed python-igraph-0.10.4\n"
          ]
        }
      ]
    },
    {
      "cell_type": "code",
      "source": [
        "# words = list(model.wv.index_to_key)\n",
        "# words = list(model.wv.key_to_index.keys())\n",
        "words = list(pos.keys())"
      ],
      "metadata": {
        "id": "nTVHLV6l1TeD"
      },
      "execution_count": null,
      "outputs": []
    },
    {
      "cell_type": "code",
      "source": [
        "words = list(model.wv.index_to_key)"
      ],
      "metadata": {
        "id": "M8tJaFAjLIja"
      },
      "execution_count": null,
      "outputs": []
    },
    {
      "cell_type": "code",
      "source": [
        "words[:5]"
      ],
      "metadata": {
        "colab": {
          "base_uri": "https://localhost:8080/"
        },
        "id": "ZzO4S_jp6Psk",
        "outputId": "124f3258-5507-4153-9c8e-66c98bbfabda"
      },
      "execution_count": null,
      "outputs": [
        {
          "output_type": "execute_result",
          "data": {
            "text/plain": [
              "['оперативный', 'удобен', 'понятный', 'отличный', 'продуманный']"
            ]
          },
          "metadata": {},
          "execution_count": 44
        }
      ]
    },
    {
      "cell_type": "code",
      "source": [
        "import igraph as ig\n",
        "g = ig.Graph(directed=True)\n",
        "for word in words:\n",
        "    g.add_vertex(word)\n",
        "\n",
        "for word in words:\n",
        "    node = g.vs.select(name = word).indices[0]\n",
        "    similar_words = model.wv.most_similar(word, topn=5)\n",
        "    for sim in similar_words:\n",
        "        word1 = sim[0]\n",
        "        val  = sim[1]\n",
        "        new_node = g.vs.select(name = word1).indices[0]\n",
        "        g.add_edge(node, new_node, weight = val)"
      ],
      "metadata": {
        "id": "mUP1OszjYh3H"
      },
      "execution_count": null,
      "outputs": []
    },
    {
      "cell_type": "code",
      "source": [
        "from gensim.summarization import keywords"
      ],
      "metadata": {
        "id": "jIh1ht6wUdX1"
      },
      "execution_count": null,
      "outputs": []
    },
    {
      "cell_type": "code",
      "source": [
        "model.build_vocab"
      ],
      "metadata": {
        "id": "PKKd_X9wYZ5P"
      },
      "execution_count": null,
      "outputs": []
    },
    {
      "cell_type": "markdown",
      "source": [
        "#### Пусть позитивному классу соответствует метка 1, негативному — -1"
      ],
      "metadata": {
        "id": "EBL3pqqzVSwL"
      }
    },
    {
      "cell_type": "code",
      "source": [],
      "metadata": {
        "id": "j2jcGB7_Uzv4"
      },
      "execution_count": null,
      "outputs": []
    },
    {
      "cell_type": "markdown",
      "source": [
        "#### Пометьте выбранные слова в лексическом графе соответствующими метками"
      ],
      "metadata": {
        "id": "viUUcLvQVWTS"
      }
    },
    {
      "cell_type": "code",
      "source": [],
      "metadata": {
        "id": "iL-Xp7tS4Xqz"
      },
      "execution_count": null,
      "outputs": []
    },
    {
      "cell_type": "markdown",
      "source": [
        "#### Запустите любой известный вам метод распространения метки (Label Propogation) в лексическом графе"
      ],
      "metadata": {
        "id": "tsPtuc6zVZ6x"
      }
    },
    {
      "cell_type": "code",
      "source": [],
      "metadata": {
        "id": "7YgD6YELVd8G"
      },
      "execution_count": null,
      "outputs": []
    },
    {
      "cell_type": "markdown",
      "source": [
        "#### На выходе метода распространения ошибки должны быть новые слова, помеченные метками 1 и -1 — это и есть искомые оценочные слова"
      ],
      "metadata": {
        "id": "-rFdznkHVeJX"
      }
    },
    {
      "cell_type": "code",
      "source": [],
      "metadata": {
        "id": "MzQP0IiLVhQ3"
      },
      "execution_count": null,
      "outputs": []
    }
  ]
}