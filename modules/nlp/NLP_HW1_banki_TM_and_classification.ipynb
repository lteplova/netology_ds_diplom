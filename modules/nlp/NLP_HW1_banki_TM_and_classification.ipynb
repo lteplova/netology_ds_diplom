{
  "nbformat": 4,
  "nbformat_minor": 0,
  "metadata": {
    "kernelspec": {
      "display_name": "Python 3",
      "language": "python",
      "name": "python3"
    },
    "language_info": {
      "codemirror_mode": {
        "name": "ipython",
        "version": 3
      },
      "file_extension": ".py",
      "mimetype": "text/x-python",
      "name": "python",
      "nbconvert_exporter": "python",
      "pygments_lexer": "ipython3",
      "version": "3.6.0"
    },
    "colab": {
      "provenance": [],
      "toc_visible": true
    }
  },
  "cells": [
    {
      "cell_type": "markdown",
      "source": [
        "### Классификация по тональности\n",
        "В этом домашнем задании вам предстоит классифицировать по тональности отзывы на банки с сайта banki.ru.\n",
        "\n",
        "[Материалы](https://github.com/netology-ds-team/nlp-homeworks/tree/main/3_Thematic_modeling/Materials)\n",
        "\n",
        "Данные содержат непосредственно тексты отзывов, некоторую дополнительную информацию, а также оценку по шкале от 1 до 5.\n",
        "\n",
        "Тексты хранятся в json-ах в массиве responses.\n",
        "\n",
        "Посмотрим на примере отзыва: возьмите для удобства ноутбук, размещенный в папке репозитория.\n",
        "\n",
        "\n",
        "### Часть 1. Анализ текстов\n",
        "1. Посчитайте количество отзывов в разных городах и на разные банки\n",
        "2. Постройте гистограмы длин слов в символах и в словах\n",
        "3. Найдите 10 самых частых:\n",
        "- слов\n",
        "- слов без стоп-слов\n",
        "- лемм\n",
        "- существительных\n",
        "\n",
        "4. Постройте кривые Ципфа и Хипса\n",
        "5. Ответьте на следующие вопросы:\n",
        "- какое слово встречается чаще, \"сотрудник\" или \"клиент\"?\n",
        "- сколько раз встречается слова \"мошенничество\" и \"доверие\"?\n",
        "\n",
        "6. В поле \"rating_grade\" записана оценка отзыва по шкале от 1 до 5. Используйте меру $tf-idf$, для того, чтобы найти ключевые слова и биграмы для положительных отзывов (с оценкой 5) и отрицательных отзывов (с оценкой 1)\n",
        "\n",
        "### Часть 2. Тематическое моделирование\n",
        "1. Постройте несколько тематических моделей коллекции документов с разным числом тем. Приведите примеры понятных (интерпретируемых) тем.\n",
        "2. Найдите темы, в которых упомянуты конкретные банки (Сбербанк, ВТБ, другой банк). Можете ли вы их прокомментировать / объяснить?\n",
        "Эта часть задания может быть сделана с использованием gensim.\n",
        "\n",
        "### Часть 3. Классификация текстов\n",
        "Сформулируем для простоты задачу бинарной классификации: будем классифицировать на два класса, то есть, различать резко отрицательные отзывы (с оценкой 1) и положительные отзывы (с оценкой 5).\n",
        "\n",
        "1. Составьте обучающее и тестовое множество: выберите из всего набора данных N1 отзывов с оценкой 1 и N2 отзывов с оценкой 5 (значение N1 и N2 – на ваше усмотрение). Используйте sklearn.model_selection.train_test_split для разделения множества отобранных документов на обучающее и тестовое.\n",
        "2. Используйте любой известный вам алгоритм классификации текстов для решения задачи и получите baseline. Сравните разные варианты векторизации текста: использование только униграм, пар или троек слов или с использованием символьных $n$-грам.\n",
        "3. Сравните, как изменяется качество решения задачи при использовании скрытых тем в качестве признаков:\n",
        "- 1-ый вариант: $tf-idf$ преобразование (sklearn.feature_extraction.text.TfidfTransformer) и сингулярное разложение (оно же – латентый семантический анализ) (sklearn.decomposition.TruncatedSVD),\n",
        "- 2-ой вариант: тематические модели LDA (sklearn.decomposition.LatentDirichletAllocation).\n",
        "Используйте accuracy и F-measure для оценки качества классификации.\n",
        "\n",
        "В ноутбуке, размещенном в папке репозитория. написан примерный Pipeline для классификации текстов.\n",
        "\n",
        "Эта часть задания может быть сделана с использованием sklearn."
      ],
      "metadata": {
        "id": "JRvZ2PSOBbLt"
      }
    },
    {
      "cell_type": "code",
      "metadata": {
        "id": "h1dvK7H_qauH",
        "colab": {
          "base_uri": "https://localhost:8080/"
        },
        "outputId": "565acd3b-7187-492a-a21f-60617dfd10a8"
      },
      "source": [
        "import json\n",
        "import bz2\n",
        "import regex\n",
        "from tqdm import tqdm\n",
        "from scipy import sparse\n",
        "import re\n",
        "import time\n",
        "import pandas as pd\n",
        "import numpy as np\n",
        "import nltk\n",
        "import matplotlib.pyplot as plt\n",
        "import seaborn as sns\n",
        "%matplotlib inline\n",
        "%pylab inline"
      ],
      "execution_count": null,
      "outputs": [
        {
          "output_type": "stream",
          "name": "stdout",
          "text": [
            "Populating the interactive namespace from numpy and matplotlib\n"
          ]
        }
      ]
    },
    {
      "cell_type": "code",
      "source": [
        "from google.colab import drive\n",
        "drive.mount('/content/drive')"
      ],
      "metadata": {
        "colab": {
          "base_uri": "https://localhost:8080/"
        },
        "id": "7i-Q1CIIKuVx",
        "outputId": "bd25cb27-bff4-4b8d-f4a5-f801c1f5f119"
      },
      "execution_count": null,
      "outputs": [
        {
          "output_type": "stream",
          "name": "stdout",
          "text": [
            "Mounted at /content/drive\n"
          ]
        }
      ]
    },
    {
      "cell_type": "markdown",
      "source": [
        "### Загрузка данных"
      ],
      "metadata": {
        "id": "bss_cSvS4_Ix"
      }
    },
    {
      "cell_type": "code",
      "metadata": {
        "scrolled": true,
        "id": "UNHVsbPnqauL",
        "outputId": "4cce33bb-0f30-4109-b199-c74464c8ab78",
        "colab": {
          "base_uri": "https://localhost:8080/"
        }
      },
      "source": [
        "responses = []\n",
        "with bz2.BZ2File('/content/drive/MyDrive/banki_responses.json.bz2', 'r') as thefile:\n",
        "    for row in tqdm(thefile):\n",
        "        resp = json.loads(row)\n",
        "        if not resp['rating_not_checked'] and (len(resp['text'].split()) > 0):\n",
        "            responses.append(resp)"
      ],
      "execution_count": null,
      "outputs": [
        {
          "output_type": "stream",
          "name": "stderr",
          "text": [
            "201030it [02:56, 1136.57it/s]\n"
          ]
        }
      ]
    },
    {
      "cell_type": "markdown",
      "metadata": {
        "id": "F0ixYxfSqauM"
      },
      "source": [
        "\n",
        "Посмотрим на пример отзыва:"
      ]
    },
    {
      "cell_type": "code",
      "metadata": {
        "id": "Dd7m6GpMqauP",
        "outputId": "79eda48b-c386-4a4e-b477-f5c9b88ea719",
        "colab": {
          "base_uri": "https://localhost:8080/"
        }
      },
      "source": [
        "responses[99]"
      ],
      "execution_count": null,
      "outputs": [
        {
          "output_type": "execute_result",
          "data": {
            "text/plain": [
              "{'city': 'г. Саратов',\n",
              " 'rating_not_checked': False,\n",
              " 'title': 'Карта ко вкладу',\n",
              " 'num_comments': 0,\n",
              " 'bank_license': 'лицензия № 880',\n",
              " 'author': 'ronnichka',\n",
              " 'bank_name': 'Югра',\n",
              " 'datetime': '2015-06-03 20:56:57',\n",
              " 'text': 'Здравствуйте! Хотела написать, что мне месяц не выдают карту ко вкладу, ссылаясь на \"нам же их из Самары везут\" (на секундочку 5 часов езды от нашего города). Но! Прочитала, что людям 3,5 месяцев не выдают карту, и поняла, что у меня все хорошо, пока что. И подарок мне дали, и кулер в отделении есть. Так что я, конечно, готова ждать. Правда хотелось бы не очень долго.',\n",
              " 'rating_grade': 3}"
            ]
          },
          "metadata": {},
          "execution_count": 6
        }
      ]
    },
    {
      "cell_type": "code",
      "source": [
        "data = pd.DataFrame.from_dict(responses)"
      ],
      "metadata": {
        "id": "tU1HuxXmyNKA"
      },
      "execution_count": null,
      "outputs": []
    },
    {
      "cell_type": "code",
      "source": [
        "# создание датафрейма из списка словарей\n",
        "df = pd.DataFrame.from_dict(responses)"
      ],
      "metadata": {
        "id": "o-r6m035QJQh"
      },
      "execution_count": null,
      "outputs": []
    },
    {
      "cell_type": "code",
      "source": [
        "df"
      ],
      "metadata": {
        "colab": {
          "base_uri": "https://localhost:8080/",
          "height": 641
        },
        "id": "TysGAM-xRz0F",
        "outputId": "d0bce223-b338-44b4-9bf2-b9c1d135d82c"
      },
      "execution_count": null,
      "outputs": [
        {
          "output_type": "execute_result",
          "data": {
            "text/plain": [
              "                  city  rating_not_checked  \\\n",
              "0            г. Москва               False   \n",
              "1       г. Новосибирск               False   \n",
              "2            г. Москва               False   \n",
              "3        г. Ставрополь               False   \n",
              "4         г. Челябинск               False   \n",
              "...                ...                 ...   \n",
              "153494            None               False   \n",
              "153495            None               False   \n",
              "153496            None               False   \n",
              "153497            None               False   \n",
              "153498            None               False   \n",
              "\n",
              "                                                    title  num_comments  \\\n",
              "0                                                  Жалоба             0   \n",
              "1           Не могу пользоваться услугой Сбербанк он-лайн             0   \n",
              "2                         Двойное списание за один товар.             1   \n",
              "3       Меняют проценты комиссии  не предупредив и не ...             2   \n",
              "4                  Верните денежные средства за страховку             1   \n",
              "...                                                   ...           ...   \n",
              "153494                                 Не все так страшно             0   \n",
              "153495                               А вы договор читали?             0   \n",
              "153496                    Филиал банка \"ОВК\" в г. Иваново             1   \n",
              "153497            В Альфа-Банк больше обращаться не буду.             0   \n",
              "153498                                    Быстро и удобно             0   \n",
              "\n",
              "           bank_license       author        bank_name             datetime  \\\n",
              "0       лицензия № 2562       uhnov1          Бинбанк  2015-06-08 12:50:54   \n",
              "1       лицензия № 1481       Foryou  Сбербанк России  2015-06-08 11:09:57   \n",
              "2       лицензия № 2562   Vladimir84          Бинбанк  2015-06-05 20:14:28   \n",
              "3       лицензия № 1481       643609  Сбербанк России  2015-06-05 13:51:01   \n",
              "4       лицензия № 2766  anfisa-2003         ОТП Банк  2015-06-05 10:58:12   \n",
              "...                 ...          ...              ...                  ...   \n",
              "153494  лицензия № 2557         Вера         Ситибанк  2005-05-18 14:38:00   \n",
              "153495  лицензия № 2557       Kirill         Ситибанк  2005-04-14 15:25:00   \n",
              "153496  лицензия № 2272   AlexU-post          Росбанк  2005-04-08 14:07:00   \n",
              "153497  лицензия № 1326        Ирина       Альфа-Банк  2005-04-14 15:16:00   \n",
              "153498  лицензия № 1326        Денис       Альфа-Банк  2005-04-13 17:43:00   \n",
              "\n",
              "                                                     text  rating_grade  \n",
              "0       Добрый день! Я не являюсь клиентом банка и пор...           NaN  \n",
              "1       Доброго дня! Являюсь держателем зарплатной кар...           NaN  \n",
              "2       Здравствуйте!  Дублирую свое заявление от 03.0...           NaN  \n",
              "3       Добрый день!! Я открыл расчетный счет в СберБа...           NaN  \n",
              "4       04.03.2015 г. взяла кредит в вашем банке, заяв...           NaN  \n",
              "...                                                   ...           ...  \n",
              "153494  Слишком большой банк, не всегда учитывает нашу...           5.0  \n",
              "153495  Вы сами виноваты в своих проблемах, кроме пред...           3.0  \n",
              "153496  Уважаемое руководство банка «ОВК»! Я проживаю ...           1.0  \n",
              "153497  Пробовала 10.04.05 оформить товар в кредит в А...           1.0  \n",
              "153498  Если коротко, то мне нравится. Кридит получать...           5.0  \n",
              "\n",
              "[153499 rows x 10 columns]"
            ],
            "text/html": [
              "\n",
              "  <div id=\"df-ec5075a2-bca8-4149-ab20-84b64403c67e\">\n",
              "    <div class=\"colab-df-container\">\n",
              "      <div>\n",
              "<style scoped>\n",
              "    .dataframe tbody tr th:only-of-type {\n",
              "        vertical-align: middle;\n",
              "    }\n",
              "\n",
              "    .dataframe tbody tr th {\n",
              "        vertical-align: top;\n",
              "    }\n",
              "\n",
              "    .dataframe thead th {\n",
              "        text-align: right;\n",
              "    }\n",
              "</style>\n",
              "<table border=\"1\" class=\"dataframe\">\n",
              "  <thead>\n",
              "    <tr style=\"text-align: right;\">\n",
              "      <th></th>\n",
              "      <th>city</th>\n",
              "      <th>rating_not_checked</th>\n",
              "      <th>title</th>\n",
              "      <th>num_comments</th>\n",
              "      <th>bank_license</th>\n",
              "      <th>author</th>\n",
              "      <th>bank_name</th>\n",
              "      <th>datetime</th>\n",
              "      <th>text</th>\n",
              "      <th>rating_grade</th>\n",
              "    </tr>\n",
              "  </thead>\n",
              "  <tbody>\n",
              "    <tr>\n",
              "      <th>0</th>\n",
              "      <td>г. Москва</td>\n",
              "      <td>False</td>\n",
              "      <td>Жалоба</td>\n",
              "      <td>0</td>\n",
              "      <td>лицензия № 2562</td>\n",
              "      <td>uhnov1</td>\n",
              "      <td>Бинбанк</td>\n",
              "      <td>2015-06-08 12:50:54</td>\n",
              "      <td>Добрый день! Я не являюсь клиентом банка и пор...</td>\n",
              "      <td>NaN</td>\n",
              "    </tr>\n",
              "    <tr>\n",
              "      <th>1</th>\n",
              "      <td>г. Новосибирск</td>\n",
              "      <td>False</td>\n",
              "      <td>Не могу пользоваться услугой Сбербанк он-лайн</td>\n",
              "      <td>0</td>\n",
              "      <td>лицензия № 1481</td>\n",
              "      <td>Foryou</td>\n",
              "      <td>Сбербанк России</td>\n",
              "      <td>2015-06-08 11:09:57</td>\n",
              "      <td>Доброго дня! Являюсь держателем зарплатной кар...</td>\n",
              "      <td>NaN</td>\n",
              "    </tr>\n",
              "    <tr>\n",
              "      <th>2</th>\n",
              "      <td>г. Москва</td>\n",
              "      <td>False</td>\n",
              "      <td>Двойное списание за один товар.</td>\n",
              "      <td>1</td>\n",
              "      <td>лицензия № 2562</td>\n",
              "      <td>Vladimir84</td>\n",
              "      <td>Бинбанк</td>\n",
              "      <td>2015-06-05 20:14:28</td>\n",
              "      <td>Здравствуйте!  Дублирую свое заявление от 03.0...</td>\n",
              "      <td>NaN</td>\n",
              "    </tr>\n",
              "    <tr>\n",
              "      <th>3</th>\n",
              "      <td>г. Ставрополь</td>\n",
              "      <td>False</td>\n",
              "      <td>Меняют проценты комиссии  не предупредив и не ...</td>\n",
              "      <td>2</td>\n",
              "      <td>лицензия № 1481</td>\n",
              "      <td>643609</td>\n",
              "      <td>Сбербанк России</td>\n",
              "      <td>2015-06-05 13:51:01</td>\n",
              "      <td>Добрый день!! Я открыл расчетный счет в СберБа...</td>\n",
              "      <td>NaN</td>\n",
              "    </tr>\n",
              "    <tr>\n",
              "      <th>4</th>\n",
              "      <td>г. Челябинск</td>\n",
              "      <td>False</td>\n",
              "      <td>Верните денежные средства за страховку</td>\n",
              "      <td>1</td>\n",
              "      <td>лицензия № 2766</td>\n",
              "      <td>anfisa-2003</td>\n",
              "      <td>ОТП Банк</td>\n",
              "      <td>2015-06-05 10:58:12</td>\n",
              "      <td>04.03.2015 г. взяла кредит в вашем банке, заяв...</td>\n",
              "      <td>NaN</td>\n",
              "    </tr>\n",
              "    <tr>\n",
              "      <th>...</th>\n",
              "      <td>...</td>\n",
              "      <td>...</td>\n",
              "      <td>...</td>\n",
              "      <td>...</td>\n",
              "      <td>...</td>\n",
              "      <td>...</td>\n",
              "      <td>...</td>\n",
              "      <td>...</td>\n",
              "      <td>...</td>\n",
              "      <td>...</td>\n",
              "    </tr>\n",
              "    <tr>\n",
              "      <th>153494</th>\n",
              "      <td>None</td>\n",
              "      <td>False</td>\n",
              "      <td>Не все так страшно</td>\n",
              "      <td>0</td>\n",
              "      <td>лицензия № 2557</td>\n",
              "      <td>Вера</td>\n",
              "      <td>Ситибанк</td>\n",
              "      <td>2005-05-18 14:38:00</td>\n",
              "      <td>Слишком большой банк, не всегда учитывает нашу...</td>\n",
              "      <td>5.0</td>\n",
              "    </tr>\n",
              "    <tr>\n",
              "      <th>153495</th>\n",
              "      <td>None</td>\n",
              "      <td>False</td>\n",
              "      <td>А вы договор читали?</td>\n",
              "      <td>0</td>\n",
              "      <td>лицензия № 2557</td>\n",
              "      <td>Kirill</td>\n",
              "      <td>Ситибанк</td>\n",
              "      <td>2005-04-14 15:25:00</td>\n",
              "      <td>Вы сами виноваты в своих проблемах, кроме пред...</td>\n",
              "      <td>3.0</td>\n",
              "    </tr>\n",
              "    <tr>\n",
              "      <th>153496</th>\n",
              "      <td>None</td>\n",
              "      <td>False</td>\n",
              "      <td>Филиал банка \"ОВК\" в г. Иваново</td>\n",
              "      <td>1</td>\n",
              "      <td>лицензия № 2272</td>\n",
              "      <td>AlexU-post</td>\n",
              "      <td>Росбанк</td>\n",
              "      <td>2005-04-08 14:07:00</td>\n",
              "      <td>Уважаемое руководство банка «ОВК»! Я проживаю ...</td>\n",
              "      <td>1.0</td>\n",
              "    </tr>\n",
              "    <tr>\n",
              "      <th>153497</th>\n",
              "      <td>None</td>\n",
              "      <td>False</td>\n",
              "      <td>В Альфа-Банк больше обращаться не буду.</td>\n",
              "      <td>0</td>\n",
              "      <td>лицензия № 1326</td>\n",
              "      <td>Ирина</td>\n",
              "      <td>Альфа-Банк</td>\n",
              "      <td>2005-04-14 15:16:00</td>\n",
              "      <td>Пробовала 10.04.05 оформить товар в кредит в А...</td>\n",
              "      <td>1.0</td>\n",
              "    </tr>\n",
              "    <tr>\n",
              "      <th>153498</th>\n",
              "      <td>None</td>\n",
              "      <td>False</td>\n",
              "      <td>Быстро и удобно</td>\n",
              "      <td>0</td>\n",
              "      <td>лицензия № 1326</td>\n",
              "      <td>Денис</td>\n",
              "      <td>Альфа-Банк</td>\n",
              "      <td>2005-04-13 17:43:00</td>\n",
              "      <td>Если коротко, то мне нравится. Кридит получать...</td>\n",
              "      <td>5.0</td>\n",
              "    </tr>\n",
              "  </tbody>\n",
              "</table>\n",
              "<p>153499 rows × 10 columns</p>\n",
              "</div>\n",
              "      <button class=\"colab-df-convert\" onclick=\"convertToInteractive('df-ec5075a2-bca8-4149-ab20-84b64403c67e')\"\n",
              "              title=\"Convert this dataframe to an interactive table.\"\n",
              "              style=\"display:none;\">\n",
              "        \n",
              "  <svg xmlns=\"http://www.w3.org/2000/svg\" height=\"24px\"viewBox=\"0 0 24 24\"\n",
              "       width=\"24px\">\n",
              "    <path d=\"M0 0h24v24H0V0z\" fill=\"none\"/>\n",
              "    <path d=\"M18.56 5.44l.94 2.06.94-2.06 2.06-.94-2.06-.94-.94-2.06-.94 2.06-2.06.94zm-11 1L8.5 8.5l.94-2.06 2.06-.94-2.06-.94L8.5 2.5l-.94 2.06-2.06.94zm10 10l.94 2.06.94-2.06 2.06-.94-2.06-.94-.94-2.06-.94 2.06-2.06.94z\"/><path d=\"M17.41 7.96l-1.37-1.37c-.4-.4-.92-.59-1.43-.59-.52 0-1.04.2-1.43.59L10.3 9.45l-7.72 7.72c-.78.78-.78 2.05 0 2.83L4 21.41c.39.39.9.59 1.41.59.51 0 1.02-.2 1.41-.59l7.78-7.78 2.81-2.81c.8-.78.8-2.07 0-2.86zM5.41 20L4 18.59l7.72-7.72 1.47 1.35L5.41 20z\"/>\n",
              "  </svg>\n",
              "      </button>\n",
              "      \n",
              "  <style>\n",
              "    .colab-df-container {\n",
              "      display:flex;\n",
              "      flex-wrap:wrap;\n",
              "      gap: 12px;\n",
              "    }\n",
              "\n",
              "    .colab-df-convert {\n",
              "      background-color: #E8F0FE;\n",
              "      border: none;\n",
              "      border-radius: 50%;\n",
              "      cursor: pointer;\n",
              "      display: none;\n",
              "      fill: #1967D2;\n",
              "      height: 32px;\n",
              "      padding: 0 0 0 0;\n",
              "      width: 32px;\n",
              "    }\n",
              "\n",
              "    .colab-df-convert:hover {\n",
              "      background-color: #E2EBFA;\n",
              "      box-shadow: 0px 1px 2px rgba(60, 64, 67, 0.3), 0px 1px 3px 1px rgba(60, 64, 67, 0.15);\n",
              "      fill: #174EA6;\n",
              "    }\n",
              "\n",
              "    [theme=dark] .colab-df-convert {\n",
              "      background-color: #3B4455;\n",
              "      fill: #D2E3FC;\n",
              "    }\n",
              "\n",
              "    [theme=dark] .colab-df-convert:hover {\n",
              "      background-color: #434B5C;\n",
              "      box-shadow: 0px 1px 3px 1px rgba(0, 0, 0, 0.15);\n",
              "      filter: drop-shadow(0px 1px 2px rgba(0, 0, 0, 0.3));\n",
              "      fill: #FFFFFF;\n",
              "    }\n",
              "  </style>\n",
              "\n",
              "      <script>\n",
              "        const buttonEl =\n",
              "          document.querySelector('#df-ec5075a2-bca8-4149-ab20-84b64403c67e button.colab-df-convert');\n",
              "        buttonEl.style.display =\n",
              "          google.colab.kernel.accessAllowed ? 'block' : 'none';\n",
              "\n",
              "        async function convertToInteractive(key) {\n",
              "          const element = document.querySelector('#df-ec5075a2-bca8-4149-ab20-84b64403c67e');\n",
              "          const dataTable =\n",
              "            await google.colab.kernel.invokeFunction('convertToInteractive',\n",
              "                                                     [key], {});\n",
              "          if (!dataTable) return;\n",
              "\n",
              "          const docLinkHtml = 'Like what you see? Visit the ' +\n",
              "            '<a target=\"_blank\" href=https://colab.research.google.com/notebooks/data_table.ipynb>data table notebook</a>'\n",
              "            + ' to learn more about interactive tables.';\n",
              "          element.innerHTML = '';\n",
              "          dataTable['output_type'] = 'display_data';\n",
              "          await google.colab.output.renderOutput(dataTable, element);\n",
              "          const docLink = document.createElement('div');\n",
              "          docLink.innerHTML = docLinkHtml;\n",
              "          element.appendChild(docLink);\n",
              "        }\n",
              "      </script>\n",
              "    </div>\n",
              "  </div>\n",
              "  "
            ]
          },
          "metadata": {},
          "execution_count": 47
        }
      ]
    },
    {
      "cell_type": "code",
      "source": [
        "df.info()"
      ],
      "metadata": {
        "colab": {
          "base_uri": "https://localhost:8080/"
        },
        "id": "XpixUsO1TBNe",
        "outputId": "9ea43384-b436-45c0-a017-9373cf06e25d"
      },
      "execution_count": null,
      "outputs": [
        {
          "output_type": "stream",
          "name": "stdout",
          "text": [
            "<class 'pandas.core.frame.DataFrame'>\n",
            "RangeIndex: 153499 entries, 0 to 153498\n",
            "Data columns (total 10 columns):\n",
            " #   Column              Non-Null Count   Dtype  \n",
            "---  ------              --------------   -----  \n",
            " 0   city                138325 non-null  object \n",
            " 1   rating_not_checked  153499 non-null  bool   \n",
            " 2   title               153499 non-null  object \n",
            " 3   num_comments        153499 non-null  int64  \n",
            " 4   bank_license        153498 non-null  object \n",
            " 5   author              153479 non-null  object \n",
            " 6   bank_name           153499 non-null  object \n",
            " 7   datetime            153499 non-null  object \n",
            " 8   text                153499 non-null  object \n",
            " 9   rating_grade        88658 non-null   float64\n",
            "dtypes: bool(1), float64(1), int64(1), object(7)\n",
            "memory usage: 10.7+ MB\n"
          ]
        }
      ]
    },
    {
      "cell_type": "markdown",
      "source": [
        "## Часть 1. Анализ текстов"
      ],
      "metadata": {
        "id": "TBc2VmhiSG9C"
      }
    },
    {
      "cell_type": "markdown",
      "source": [
        "\n",
        "    1. Посчитайте количество отзывов в разных городах и на разные банки\n",
        "    2. Постройте гистограмы длин слов в символах и в словах\n",
        "    3. Найдите 10 самых частых:\n",
        "        * слов\n",
        "        * слов без стоп-слов\n",
        "        * лемм\n",
        "        * существительных\n",
        "    4. Постройте кривые Ципфа и Хипса\n",
        "    5. Ответьте на следующие вопросы:\n",
        "        * какое слово встречается чаще, \"сотрудник\" или \"клиент\"?\n",
        "        * сколько раз встречается слова \"мошенничество\" и \"доверие\"?\n",
        "    6. В поле \"rating_grade\" записана оценка отзыва по шкале от 1 до 5. Используйте меру, для того, чтобы найти ключевые слова и биграмы для положительных отзывов (с оценкой 5) и отрицательных отзывов (с оценкой 1)"
      ],
      "metadata": {
        "id": "JPZk1rseSQe7"
      }
    },
    {
      "cell_type": "code",
      "source": [
        "df['city'].unique()"
      ],
      "metadata": {
        "colab": {
          "base_uri": "https://localhost:8080/"
        },
        "id": "7F0zSth0U71h",
        "outputId": "8e5cdcb4-9dca-43bb-a101-64395858c689"
      },
      "execution_count": null,
      "outputs": [
        {
          "output_type": "execute_result",
          "data": {
            "text/plain": [
              "array(['г. Москва', 'г. Новосибирск', 'г. Ставрополь', ...,\n",
              "       'г. Москва-Владимир', 'г. СПб.',\n",
              "       'г. Краснодарский край, ст.Павловская'], dtype=object)"
            ]
          },
          "metadata": {},
          "execution_count": 8
        }
      ]
    },
    {
      "cell_type": "code",
      "source": [
        "df['city'].value_counts()"
      ],
      "metadata": {
        "colab": {
          "base_uri": "https://localhost:8080/"
        },
        "id": "5O3luoLvYOTe",
        "outputId": "10bce0d5-70bd-4bd5-b391-58388594fcee"
      },
      "execution_count": null,
      "outputs": [
        {
          "output_type": "execute_result",
          "data": {
            "text/plain": [
              "г. Москва                               55354\n",
              "г. Санкт-Петербург                      14342\n",
              "г. Екатеринбург                          2337\n",
              "г. Новосибирск                           2300\n",
              "г. Нижний Новгород                       1976\n",
              "                                        ...  \n",
              "г. г.Калуга                                 1\n",
              "г. ВЕЛИКИЕ ЛУКИ                             1\n",
              "г. всеволожск                               1\n",
              "г. сейчас                                   1\n",
              "г. Краснодарский край, ст.Павловская        1\n",
              "Name: city, Length: 5823, dtype: int64"
            ]
          },
          "metadata": {},
          "execution_count": 9
        }
      ]
    },
    {
      "cell_type": "code",
      "source": [
        "df['city']"
      ],
      "metadata": {
        "colab": {
          "base_uri": "https://localhost:8080/"
        },
        "id": "ILvEYXSA_F4B",
        "outputId": "05ba7762-d1a5-4c06-88a7-b36ca4641e6a"
      },
      "execution_count": null,
      "outputs": [
        {
          "output_type": "execute_result",
          "data": {
            "text/plain": [
              "0              г. Москва\n",
              "1         г. Новосибирск\n",
              "2              г. Москва\n",
              "3          г. Ставрополь\n",
              "4           г. Челябинск\n",
              "               ...      \n",
              "153494              None\n",
              "153495              None\n",
              "153496              None\n",
              "153497              None\n",
              "153498              None\n",
              "Name: city, Length: 153499, dtype: object"
            ]
          },
          "metadata": {},
          "execution_count": 10
        }
      ]
    },
    {
      "cell_type": "code",
      "source": [
        "df['city'][199]"
      ],
      "metadata": {
        "colab": {
          "base_uri": "https://localhost:8080/",
          "height": 36
        },
        "id": "exiVzjBfYlw3",
        "outputId": "56ac0344-5088-4f95-d50c-70b387e78061"
      },
      "execution_count": null,
      "outputs": [
        {
          "output_type": "execute_result",
          "data": {
            "text/plain": [
              "'г. Краснодарский край Новокубанский район город Новокубанск'"
            ],
            "application/vnd.google.colaboratory.intrinsic+json": {
              "type": "string"
            }
          },
          "metadata": {},
          "execution_count": 10
        }
      ]
    },
    {
      "cell_type": "code",
      "source": [
        "city_n = re.compile('г\\. \\w+\\s\\w+|г\\. \\w+')\n",
        "tqdm.pandas()\n",
        "\n",
        "# функция для обработки города\n",
        "def city_normalization(city):\n",
        "    # row = city.strip().lower().replace('-','_').replace('город', 'г. ').replace('СПБ', 'г. Неизвестный')\n",
        "    row = city.replace('г. СПБ', 'г. Санкт-Петербург').replace('None', 'г. не_указан').replace('-','_').strip().lower()\n",
        "    if len(city_n.findall(row))>0:\n",
        "        return city_n.findall(row)[0]\n",
        "    else:\n",
        "        return city_n.findall(row)\n",
        "\n",
        "df['city'] = df.city.astype('str').progress_apply(city_normalization)"
      ],
      "metadata": {
        "colab": {
          "base_uri": "https://localhost:8080/"
        },
        "id": "K0ggj9Yzc91X",
        "outputId": "25e575e3-105d-44ac-9933-e67ac38aa47a"
      },
      "execution_count": null,
      "outputs": [
        {
          "output_type": "stream",
          "name": "stderr",
          "text": [
            "100%|██████████| 153499/153499 [00:00<00:00, 278913.92it/s]\n"
          ]
        }
      ]
    },
    {
      "cell_type": "code",
      "source": [
        "df"
      ],
      "metadata": {
        "colab": {
          "base_uri": "https://localhost:8080/",
          "height": 641
        },
        "id": "vXHJN1SCPO9o",
        "outputId": "b3a1561b-0bb8-4ed0-d2bb-ed3075ddd615"
      },
      "execution_count": null,
      "outputs": [
        {
          "output_type": "execute_result",
          "data": {
            "text/plain": [
              "                  city  rating_not_checked  \\\n",
              "0            г. москва               False   \n",
              "1       г. новосибирск               False   \n",
              "2            г. москва               False   \n",
              "3        г. ставрополь               False   \n",
              "4         г. челябинск               False   \n",
              "...                ...                 ...   \n",
              "153494    г. не_указан               False   \n",
              "153495    г. не_указан               False   \n",
              "153496    г. не_указан               False   \n",
              "153497    г. не_указан               False   \n",
              "153498    г. не_указан               False   \n",
              "\n",
              "                                                    title  num_comments  \\\n",
              "0                                                  Жалоба             0   \n",
              "1           Не могу пользоваться услугой Сбербанк он-лайн             0   \n",
              "2                         Двойное списание за один товар.             1   \n",
              "3       Меняют проценты комиссии  не предупредив и не ...             2   \n",
              "4                  Верните денежные средства за страховку             1   \n",
              "...                                                   ...           ...   \n",
              "153494                                 Не все так страшно             0   \n",
              "153495                               А вы договор читали?             0   \n",
              "153496                    Филиал банка \"ОВК\" в г. Иваново             1   \n",
              "153497            В Альфа-Банк больше обращаться не буду.             0   \n",
              "153498                                    Быстро и удобно             0   \n",
              "\n",
              "           bank_license       author        bank_name             datetime  \\\n",
              "0       лицензия № 2562       uhnov1          Бинбанк  2015-06-08 12:50:54   \n",
              "1       лицензия № 1481       Foryou  Сбербанк России  2015-06-08 11:09:57   \n",
              "2       лицензия № 2562   Vladimir84          Бинбанк  2015-06-05 20:14:28   \n",
              "3       лицензия № 1481       643609  Сбербанк России  2015-06-05 13:51:01   \n",
              "4       лицензия № 2766  anfisa-2003         ОТП Банк  2015-06-05 10:58:12   \n",
              "...                 ...          ...              ...                  ...   \n",
              "153494  лицензия № 2557         Вера         Ситибанк  2005-05-18 14:38:00   \n",
              "153495  лицензия № 2557       Kirill         Ситибанк  2005-04-14 15:25:00   \n",
              "153496  лицензия № 2272   AlexU-post          Росбанк  2005-04-08 14:07:00   \n",
              "153497  лицензия № 1326        Ирина       Альфа-Банк  2005-04-14 15:16:00   \n",
              "153498  лицензия № 1326        Денис       Альфа-Банк  2005-04-13 17:43:00   \n",
              "\n",
              "                                                     text  rating_grade  \n",
              "0       Добрый день! Я не являюсь клиентом банка и пор...           NaN  \n",
              "1       Доброго дня! Являюсь держателем зарплатной кар...           NaN  \n",
              "2       Здравствуйте!  Дублирую свое заявление от 03.0...           NaN  \n",
              "3       Добрый день!! Я открыл расчетный счет в СберБа...           NaN  \n",
              "4       04.03.2015 г. взяла кредит в вашем банке, заяв...           NaN  \n",
              "...                                                   ...           ...  \n",
              "153494  Слишком большой банк, не всегда учитывает нашу...           5.0  \n",
              "153495  Вы сами виноваты в своих проблемах, кроме пред...           3.0  \n",
              "153496  Уважаемое руководство банка «ОВК»! Я проживаю ...           1.0  \n",
              "153497  Пробовала 10.04.05 оформить товар в кредит в А...           1.0  \n",
              "153498  Если коротко, то мне нравится. Кридит получать...           5.0  \n",
              "\n",
              "[153499 rows x 10 columns]"
            ],
            "text/html": [
              "\n",
              "  <div id=\"df-b7be0fb7-279f-4f7c-86f5-a6c327ad3e22\">\n",
              "    <div class=\"colab-df-container\">\n",
              "      <div>\n",
              "<style scoped>\n",
              "    .dataframe tbody tr th:only-of-type {\n",
              "        vertical-align: middle;\n",
              "    }\n",
              "\n",
              "    .dataframe tbody tr th {\n",
              "        vertical-align: top;\n",
              "    }\n",
              "\n",
              "    .dataframe thead th {\n",
              "        text-align: right;\n",
              "    }\n",
              "</style>\n",
              "<table border=\"1\" class=\"dataframe\">\n",
              "  <thead>\n",
              "    <tr style=\"text-align: right;\">\n",
              "      <th></th>\n",
              "      <th>city</th>\n",
              "      <th>rating_not_checked</th>\n",
              "      <th>title</th>\n",
              "      <th>num_comments</th>\n",
              "      <th>bank_license</th>\n",
              "      <th>author</th>\n",
              "      <th>bank_name</th>\n",
              "      <th>datetime</th>\n",
              "      <th>text</th>\n",
              "      <th>rating_grade</th>\n",
              "    </tr>\n",
              "  </thead>\n",
              "  <tbody>\n",
              "    <tr>\n",
              "      <th>0</th>\n",
              "      <td>г. москва</td>\n",
              "      <td>False</td>\n",
              "      <td>Жалоба</td>\n",
              "      <td>0</td>\n",
              "      <td>лицензия № 2562</td>\n",
              "      <td>uhnov1</td>\n",
              "      <td>Бинбанк</td>\n",
              "      <td>2015-06-08 12:50:54</td>\n",
              "      <td>Добрый день! Я не являюсь клиентом банка и пор...</td>\n",
              "      <td>NaN</td>\n",
              "    </tr>\n",
              "    <tr>\n",
              "      <th>1</th>\n",
              "      <td>г. новосибирск</td>\n",
              "      <td>False</td>\n",
              "      <td>Не могу пользоваться услугой Сбербанк он-лайн</td>\n",
              "      <td>0</td>\n",
              "      <td>лицензия № 1481</td>\n",
              "      <td>Foryou</td>\n",
              "      <td>Сбербанк России</td>\n",
              "      <td>2015-06-08 11:09:57</td>\n",
              "      <td>Доброго дня! Являюсь держателем зарплатной кар...</td>\n",
              "      <td>NaN</td>\n",
              "    </tr>\n",
              "    <tr>\n",
              "      <th>2</th>\n",
              "      <td>г. москва</td>\n",
              "      <td>False</td>\n",
              "      <td>Двойное списание за один товар.</td>\n",
              "      <td>1</td>\n",
              "      <td>лицензия № 2562</td>\n",
              "      <td>Vladimir84</td>\n",
              "      <td>Бинбанк</td>\n",
              "      <td>2015-06-05 20:14:28</td>\n",
              "      <td>Здравствуйте!  Дублирую свое заявление от 03.0...</td>\n",
              "      <td>NaN</td>\n",
              "    </tr>\n",
              "    <tr>\n",
              "      <th>3</th>\n",
              "      <td>г. ставрополь</td>\n",
              "      <td>False</td>\n",
              "      <td>Меняют проценты комиссии  не предупредив и не ...</td>\n",
              "      <td>2</td>\n",
              "      <td>лицензия № 1481</td>\n",
              "      <td>643609</td>\n",
              "      <td>Сбербанк России</td>\n",
              "      <td>2015-06-05 13:51:01</td>\n",
              "      <td>Добрый день!! Я открыл расчетный счет в СберБа...</td>\n",
              "      <td>NaN</td>\n",
              "    </tr>\n",
              "    <tr>\n",
              "      <th>4</th>\n",
              "      <td>г. челябинск</td>\n",
              "      <td>False</td>\n",
              "      <td>Верните денежные средства за страховку</td>\n",
              "      <td>1</td>\n",
              "      <td>лицензия № 2766</td>\n",
              "      <td>anfisa-2003</td>\n",
              "      <td>ОТП Банк</td>\n",
              "      <td>2015-06-05 10:58:12</td>\n",
              "      <td>04.03.2015 г. взяла кредит в вашем банке, заяв...</td>\n",
              "      <td>NaN</td>\n",
              "    </tr>\n",
              "    <tr>\n",
              "      <th>...</th>\n",
              "      <td>...</td>\n",
              "      <td>...</td>\n",
              "      <td>...</td>\n",
              "      <td>...</td>\n",
              "      <td>...</td>\n",
              "      <td>...</td>\n",
              "      <td>...</td>\n",
              "      <td>...</td>\n",
              "      <td>...</td>\n",
              "      <td>...</td>\n",
              "    </tr>\n",
              "    <tr>\n",
              "      <th>153494</th>\n",
              "      <td>г. не_указан</td>\n",
              "      <td>False</td>\n",
              "      <td>Не все так страшно</td>\n",
              "      <td>0</td>\n",
              "      <td>лицензия № 2557</td>\n",
              "      <td>Вера</td>\n",
              "      <td>Ситибанк</td>\n",
              "      <td>2005-05-18 14:38:00</td>\n",
              "      <td>Слишком большой банк, не всегда учитывает нашу...</td>\n",
              "      <td>5.0</td>\n",
              "    </tr>\n",
              "    <tr>\n",
              "      <th>153495</th>\n",
              "      <td>г. не_указан</td>\n",
              "      <td>False</td>\n",
              "      <td>А вы договор читали?</td>\n",
              "      <td>0</td>\n",
              "      <td>лицензия № 2557</td>\n",
              "      <td>Kirill</td>\n",
              "      <td>Ситибанк</td>\n",
              "      <td>2005-04-14 15:25:00</td>\n",
              "      <td>Вы сами виноваты в своих проблемах, кроме пред...</td>\n",
              "      <td>3.0</td>\n",
              "    </tr>\n",
              "    <tr>\n",
              "      <th>153496</th>\n",
              "      <td>г. не_указан</td>\n",
              "      <td>False</td>\n",
              "      <td>Филиал банка \"ОВК\" в г. Иваново</td>\n",
              "      <td>1</td>\n",
              "      <td>лицензия № 2272</td>\n",
              "      <td>AlexU-post</td>\n",
              "      <td>Росбанк</td>\n",
              "      <td>2005-04-08 14:07:00</td>\n",
              "      <td>Уважаемое руководство банка «ОВК»! Я проживаю ...</td>\n",
              "      <td>1.0</td>\n",
              "    </tr>\n",
              "    <tr>\n",
              "      <th>153497</th>\n",
              "      <td>г. не_указан</td>\n",
              "      <td>False</td>\n",
              "      <td>В Альфа-Банк больше обращаться не буду.</td>\n",
              "      <td>0</td>\n",
              "      <td>лицензия № 1326</td>\n",
              "      <td>Ирина</td>\n",
              "      <td>Альфа-Банк</td>\n",
              "      <td>2005-04-14 15:16:00</td>\n",
              "      <td>Пробовала 10.04.05 оформить товар в кредит в А...</td>\n",
              "      <td>1.0</td>\n",
              "    </tr>\n",
              "    <tr>\n",
              "      <th>153498</th>\n",
              "      <td>г. не_указан</td>\n",
              "      <td>False</td>\n",
              "      <td>Быстро и удобно</td>\n",
              "      <td>0</td>\n",
              "      <td>лицензия № 1326</td>\n",
              "      <td>Денис</td>\n",
              "      <td>Альфа-Банк</td>\n",
              "      <td>2005-04-13 17:43:00</td>\n",
              "      <td>Если коротко, то мне нравится. Кридит получать...</td>\n",
              "      <td>5.0</td>\n",
              "    </tr>\n",
              "  </tbody>\n",
              "</table>\n",
              "<p>153499 rows × 10 columns</p>\n",
              "</div>\n",
              "      <button class=\"colab-df-convert\" onclick=\"convertToInteractive('df-b7be0fb7-279f-4f7c-86f5-a6c327ad3e22')\"\n",
              "              title=\"Convert this dataframe to an interactive table.\"\n",
              "              style=\"display:none;\">\n",
              "        \n",
              "  <svg xmlns=\"http://www.w3.org/2000/svg\" height=\"24px\"viewBox=\"0 0 24 24\"\n",
              "       width=\"24px\">\n",
              "    <path d=\"M0 0h24v24H0V0z\" fill=\"none\"/>\n",
              "    <path d=\"M18.56 5.44l.94 2.06.94-2.06 2.06-.94-2.06-.94-.94-2.06-.94 2.06-2.06.94zm-11 1L8.5 8.5l.94-2.06 2.06-.94-2.06-.94L8.5 2.5l-.94 2.06-2.06.94zm10 10l.94 2.06.94-2.06 2.06-.94-2.06-.94-.94-2.06-.94 2.06-2.06.94z\"/><path d=\"M17.41 7.96l-1.37-1.37c-.4-.4-.92-.59-1.43-.59-.52 0-1.04.2-1.43.59L10.3 9.45l-7.72 7.72c-.78.78-.78 2.05 0 2.83L4 21.41c.39.39.9.59 1.41.59.51 0 1.02-.2 1.41-.59l7.78-7.78 2.81-2.81c.8-.78.8-2.07 0-2.86zM5.41 20L4 18.59l7.72-7.72 1.47 1.35L5.41 20z\"/>\n",
              "  </svg>\n",
              "      </button>\n",
              "      \n",
              "  <style>\n",
              "    .colab-df-container {\n",
              "      display:flex;\n",
              "      flex-wrap:wrap;\n",
              "      gap: 12px;\n",
              "    }\n",
              "\n",
              "    .colab-df-convert {\n",
              "      background-color: #E8F0FE;\n",
              "      border: none;\n",
              "      border-radius: 50%;\n",
              "      cursor: pointer;\n",
              "      display: none;\n",
              "      fill: #1967D2;\n",
              "      height: 32px;\n",
              "      padding: 0 0 0 0;\n",
              "      width: 32px;\n",
              "    }\n",
              "\n",
              "    .colab-df-convert:hover {\n",
              "      background-color: #E2EBFA;\n",
              "      box-shadow: 0px 1px 2px rgba(60, 64, 67, 0.3), 0px 1px 3px 1px rgba(60, 64, 67, 0.15);\n",
              "      fill: #174EA6;\n",
              "    }\n",
              "\n",
              "    [theme=dark] .colab-df-convert {\n",
              "      background-color: #3B4455;\n",
              "      fill: #D2E3FC;\n",
              "    }\n",
              "\n",
              "    [theme=dark] .colab-df-convert:hover {\n",
              "      background-color: #434B5C;\n",
              "      box-shadow: 0px 1px 3px 1px rgba(0, 0, 0, 0.15);\n",
              "      filter: drop-shadow(0px 1px 2px rgba(0, 0, 0, 0.3));\n",
              "      fill: #FFFFFF;\n",
              "    }\n",
              "  </style>\n",
              "\n",
              "      <script>\n",
              "        const buttonEl =\n",
              "          document.querySelector('#df-b7be0fb7-279f-4f7c-86f5-a6c327ad3e22 button.colab-df-convert');\n",
              "        buttonEl.style.display =\n",
              "          google.colab.kernel.accessAllowed ? 'block' : 'none';\n",
              "\n",
              "        async function convertToInteractive(key) {\n",
              "          const element = document.querySelector('#df-b7be0fb7-279f-4f7c-86f5-a6c327ad3e22');\n",
              "          const dataTable =\n",
              "            await google.colab.kernel.invokeFunction('convertToInteractive',\n",
              "                                                     [key], {});\n",
              "          if (!dataTable) return;\n",
              "\n",
              "          const docLinkHtml = 'Like what you see? Visit the ' +\n",
              "            '<a target=\"_blank\" href=https://colab.research.google.com/notebooks/data_table.ipynb>data table notebook</a>'\n",
              "            + ' to learn more about interactive tables.';\n",
              "          element.innerHTML = '';\n",
              "          dataTable['output_type'] = 'display_data';\n",
              "          await google.colab.output.renderOutput(dataTable, element);\n",
              "          const docLink = document.createElement('div');\n",
              "          docLink.innerHTML = docLinkHtml;\n",
              "          element.appendChild(docLink);\n",
              "        }\n",
              "      </script>\n",
              "    </div>\n",
              "  </div>\n",
              "  "
            ]
          },
          "metadata": {},
          "execution_count": 49
        }
      ]
    },
    {
      "cell_type": "code",
      "source": [
        "df['city'].value_counts()"
      ],
      "metadata": {
        "colab": {
          "base_uri": "https://localhost:8080/"
        },
        "id": "JKMrrtmjbAPh",
        "outputId": "dc91d241-2b5a-400f-d039-8cd0013be2eb"
      },
      "execution_count": null,
      "outputs": [
        {
          "output_type": "execute_result",
          "data": {
            "text/plain": [
              "г. москва                     57042\n",
              "г. неизвестный                15174\n",
              "г. санкт_петербург            14818\n",
              "г. екатеринбург                2391\n",
              "г. новосибирск                 2387\n",
              "                              ...  \n",
              "г. туапсе_краснодар_ростов        1\n",
              "г. будённовск                     1\n",
              "г. санкт_петеурбрг                1\n",
              "г. voronezh                       1\n",
              "г. москва_владимир                1\n",
              "Name: city, Length: 2941, dtype: int64"
            ]
          },
          "metadata": {},
          "execution_count": 30
        }
      ]
    },
    {
      "cell_type": "markdown",
      "source": [
        "#### 1. Посчитайте количество отзывов в разных городах и на разные банки"
      ],
      "metadata": {
        "id": "GMMp9921IUX7"
      }
    },
    {
      "cell_type": "code",
      "source": [
        "# Посчитайте количество отзывов в разных городах и на разные банки\n",
        "df['city'] = df.city.astype('str')\n",
        "# группировка\n",
        "feedback = df.filter(items = ['city', 'bank_name', 'text']).groupby(['city', 'bank_name']).count().sort_values(by = 'text', ascending=False)\n",
        "feedback.head(20)"
      ],
      "metadata": {
        "colab": {
          "base_uri": "https://localhost:8080/",
          "height": 708
        },
        "id": "cnUpBcdRSrcK",
        "outputId": "e95bc743-8319-412e-8294-4dbbb6f5acce"
      },
      "execution_count": null,
      "outputs": [
        {
          "output_type": "execute_result",
          "data": {
            "text/plain": [
              "                                              text\n",
              "city               bank_name                      \n",
              "г. москва          Сбербанк России            8378\n",
              "                   Альфа-Банк                 3995\n",
              "                   Русский Стандарт           2919\n",
              "                   ВТБ 24                     2770\n",
              "г. санкт_петербург Сбербанк России            2525\n",
              "г. москва          Московский Кредитный Банк  2414\n",
              "                   Тинькофф Банк              2395\n",
              "                   Хоум Кредит Банк           2199\n",
              "                   Национальный Банк «Траст»  1710\n",
              "                   Райффайзенбанк             1468\n",
              "                   Связной Банк               1465\n",
              "                   Банк Москвы                1326\n",
              "                   Ренессанс Кредит           1270\n",
              "                   ЮниКредит Банк             1201\n",
              "г. не_указан       Альфа-Банк                 1165\n",
              "г. москва          Ситибанк                   1151\n",
              "                   Промсвязьбанк              1114\n",
              "                   Авангард                   1097\n",
              "г. не_указан       Ситибанк                   1047\n",
              "г. санкт_петербург ВТБ 24                      961"
            ],
            "text/html": [
              "\n",
              "  <div id=\"df-ab2ad0f1-8001-4af8-8da5-c0a14fd635b4\">\n",
              "    <div class=\"colab-df-container\">\n",
              "      <div>\n",
              "<style scoped>\n",
              "    .dataframe tbody tr th:only-of-type {\n",
              "        vertical-align: middle;\n",
              "    }\n",
              "\n",
              "    .dataframe tbody tr th {\n",
              "        vertical-align: top;\n",
              "    }\n",
              "\n",
              "    .dataframe thead th {\n",
              "        text-align: right;\n",
              "    }\n",
              "</style>\n",
              "<table border=\"1\" class=\"dataframe\">\n",
              "  <thead>\n",
              "    <tr style=\"text-align: right;\">\n",
              "      <th></th>\n",
              "      <th></th>\n",
              "      <th>text</th>\n",
              "    </tr>\n",
              "    <tr>\n",
              "      <th>city</th>\n",
              "      <th>bank_name</th>\n",
              "      <th></th>\n",
              "    </tr>\n",
              "  </thead>\n",
              "  <tbody>\n",
              "    <tr>\n",
              "      <th rowspan=\"4\" valign=\"top\">г. москва</th>\n",
              "      <th>Сбербанк России</th>\n",
              "      <td>8378</td>\n",
              "    </tr>\n",
              "    <tr>\n",
              "      <th>Альфа-Банк</th>\n",
              "      <td>3995</td>\n",
              "    </tr>\n",
              "    <tr>\n",
              "      <th>Русский Стандарт</th>\n",
              "      <td>2919</td>\n",
              "    </tr>\n",
              "    <tr>\n",
              "      <th>ВТБ 24</th>\n",
              "      <td>2770</td>\n",
              "    </tr>\n",
              "    <tr>\n",
              "      <th>г. санкт_петербург</th>\n",
              "      <th>Сбербанк России</th>\n",
              "      <td>2525</td>\n",
              "    </tr>\n",
              "    <tr>\n",
              "      <th rowspan=\"9\" valign=\"top\">г. москва</th>\n",
              "      <th>Московский Кредитный Банк</th>\n",
              "      <td>2414</td>\n",
              "    </tr>\n",
              "    <tr>\n",
              "      <th>Тинькофф Банк</th>\n",
              "      <td>2395</td>\n",
              "    </tr>\n",
              "    <tr>\n",
              "      <th>Хоум Кредит Банк</th>\n",
              "      <td>2199</td>\n",
              "    </tr>\n",
              "    <tr>\n",
              "      <th>Национальный Банк «Траст»</th>\n",
              "      <td>1710</td>\n",
              "    </tr>\n",
              "    <tr>\n",
              "      <th>Райффайзенбанк</th>\n",
              "      <td>1468</td>\n",
              "    </tr>\n",
              "    <tr>\n",
              "      <th>Связной Банк</th>\n",
              "      <td>1465</td>\n",
              "    </tr>\n",
              "    <tr>\n",
              "      <th>Банк Москвы</th>\n",
              "      <td>1326</td>\n",
              "    </tr>\n",
              "    <tr>\n",
              "      <th>Ренессанс Кредит</th>\n",
              "      <td>1270</td>\n",
              "    </tr>\n",
              "    <tr>\n",
              "      <th>ЮниКредит Банк</th>\n",
              "      <td>1201</td>\n",
              "    </tr>\n",
              "    <tr>\n",
              "      <th>г. не_указан</th>\n",
              "      <th>Альфа-Банк</th>\n",
              "      <td>1165</td>\n",
              "    </tr>\n",
              "    <tr>\n",
              "      <th rowspan=\"3\" valign=\"top\">г. москва</th>\n",
              "      <th>Ситибанк</th>\n",
              "      <td>1151</td>\n",
              "    </tr>\n",
              "    <tr>\n",
              "      <th>Промсвязьбанк</th>\n",
              "      <td>1114</td>\n",
              "    </tr>\n",
              "    <tr>\n",
              "      <th>Авангард</th>\n",
              "      <td>1097</td>\n",
              "    </tr>\n",
              "    <tr>\n",
              "      <th>г. не_указан</th>\n",
              "      <th>Ситибанк</th>\n",
              "      <td>1047</td>\n",
              "    </tr>\n",
              "    <tr>\n",
              "      <th>г. санкт_петербург</th>\n",
              "      <th>ВТБ 24</th>\n",
              "      <td>961</td>\n",
              "    </tr>\n",
              "  </tbody>\n",
              "</table>\n",
              "</div>\n",
              "      <button class=\"colab-df-convert\" onclick=\"convertToInteractive('df-ab2ad0f1-8001-4af8-8da5-c0a14fd635b4')\"\n",
              "              title=\"Convert this dataframe to an interactive table.\"\n",
              "              style=\"display:none;\">\n",
              "        \n",
              "  <svg xmlns=\"http://www.w3.org/2000/svg\" height=\"24px\"viewBox=\"0 0 24 24\"\n",
              "       width=\"24px\">\n",
              "    <path d=\"M0 0h24v24H0V0z\" fill=\"none\"/>\n",
              "    <path d=\"M18.56 5.44l.94 2.06.94-2.06 2.06-.94-2.06-.94-.94-2.06-.94 2.06-2.06.94zm-11 1L8.5 8.5l.94-2.06 2.06-.94-2.06-.94L8.5 2.5l-.94 2.06-2.06.94zm10 10l.94 2.06.94-2.06 2.06-.94-2.06-.94-.94-2.06-.94 2.06-2.06.94z\"/><path d=\"M17.41 7.96l-1.37-1.37c-.4-.4-.92-.59-1.43-.59-.52 0-1.04.2-1.43.59L10.3 9.45l-7.72 7.72c-.78.78-.78 2.05 0 2.83L4 21.41c.39.39.9.59 1.41.59.51 0 1.02-.2 1.41-.59l7.78-7.78 2.81-2.81c.8-.78.8-2.07 0-2.86zM5.41 20L4 18.59l7.72-7.72 1.47 1.35L5.41 20z\"/>\n",
              "  </svg>\n",
              "      </button>\n",
              "      \n",
              "  <style>\n",
              "    .colab-df-container {\n",
              "      display:flex;\n",
              "      flex-wrap:wrap;\n",
              "      gap: 12px;\n",
              "    }\n",
              "\n",
              "    .colab-df-convert {\n",
              "      background-color: #E8F0FE;\n",
              "      border: none;\n",
              "      border-radius: 50%;\n",
              "      cursor: pointer;\n",
              "      display: none;\n",
              "      fill: #1967D2;\n",
              "      height: 32px;\n",
              "      padding: 0 0 0 0;\n",
              "      width: 32px;\n",
              "    }\n",
              "\n",
              "    .colab-df-convert:hover {\n",
              "      background-color: #E2EBFA;\n",
              "      box-shadow: 0px 1px 2px rgba(60, 64, 67, 0.3), 0px 1px 3px 1px rgba(60, 64, 67, 0.15);\n",
              "      fill: #174EA6;\n",
              "    }\n",
              "\n",
              "    [theme=dark] .colab-df-convert {\n",
              "      background-color: #3B4455;\n",
              "      fill: #D2E3FC;\n",
              "    }\n",
              "\n",
              "    [theme=dark] .colab-df-convert:hover {\n",
              "      background-color: #434B5C;\n",
              "      box-shadow: 0px 1px 3px 1px rgba(0, 0, 0, 0.15);\n",
              "      filter: drop-shadow(0px 1px 2px rgba(0, 0, 0, 0.3));\n",
              "      fill: #FFFFFF;\n",
              "    }\n",
              "  </style>\n",
              "\n",
              "      <script>\n",
              "        const buttonEl =\n",
              "          document.querySelector('#df-ab2ad0f1-8001-4af8-8da5-c0a14fd635b4 button.colab-df-convert');\n",
              "        buttonEl.style.display =\n",
              "          google.colab.kernel.accessAllowed ? 'block' : 'none';\n",
              "\n",
              "        async function convertToInteractive(key) {\n",
              "          const element = document.querySelector('#df-ab2ad0f1-8001-4af8-8da5-c0a14fd635b4');\n",
              "          const dataTable =\n",
              "            await google.colab.kernel.invokeFunction('convertToInteractive',\n",
              "                                                     [key], {});\n",
              "          if (!dataTable) return;\n",
              "\n",
              "          const docLinkHtml = 'Like what you see? Visit the ' +\n",
              "            '<a target=\"_blank\" href=https://colab.research.google.com/notebooks/data_table.ipynb>data table notebook</a>'\n",
              "            + ' to learn more about interactive tables.';\n",
              "          element.innerHTML = '';\n",
              "          dataTable['output_type'] = 'display_data';\n",
              "          await google.colab.output.renderOutput(dataTable, element);\n",
              "          const docLink = document.createElement('div');\n",
              "          docLink.innerHTML = docLinkHtml;\n",
              "          element.appendChild(docLink);\n",
              "        }\n",
              "      </script>\n",
              "    </div>\n",
              "  </div>\n",
              "  "
            ]
          },
          "metadata": {},
          "execution_count": 13
        }
      ]
    },
    {
      "cell_type": "code",
      "source": [
        "# столбчатая диаграмма показывает количество отзывов для банка из определенного города\n",
        "feedback.iloc[:20].plot(kind='bar', figsize = (20, 10),\n",
        "                     title='Распределение кол-ва отзывов Город - Банк',\n",
        "                     xlabel='Город / Банк',\n",
        "                     ylabel='Количество')"
      ],
      "metadata": {
        "colab": {
          "base_uri": "https://localhost:8080/",
          "height": 846
        },
        "id": "-BWKgCK-IqYK",
        "outputId": "3e09ee59-721d-4db8-b164-282a6e38dceb"
      },
      "execution_count": null,
      "outputs": [
        {
          "output_type": "execute_result",
          "data": {
            "text/plain": [
              "<Axes: title={'center': 'Распределение кол-ва отзывов Город - Банк'}, xlabel='Город / Банк', ylabel='Количество'>"
            ]
          },
          "metadata": {},
          "execution_count": 63
        },
        {
          "output_type": "display_data",
          "data": {
            "text/plain": [
              "<Figure size 1440x720 with 1 Axes>"
            ],
            "image/png": "[encoded data removed]"
          },
          "metadata": {
            "needs_background": "light"
          }
        }
      ]
    },
    {
      "cell_type": "markdown",
      "source": [
        "#### 2. Постройте гистограмы длин текстов в символах и в словах"
      ],
      "metadata": {
        "id": "Ibq_Lp_IIaSQ"
      }
    },
    {
      "cell_type": "code",
      "source": [
        "# rating_grade df.rating_grade.unique()"
      ],
      "metadata": {
        "colab": {
          "base_uri": "https://localhost:8080/"
        },
        "id": "_-nW6p7PXUGt",
        "outputId": "f86b89b1-a315-45a9-a321-0611cb81b068"
      },
      "execution_count": null,
      "outputs": [
        {
          "output_type": "execute_result",
          "data": {
            "text/plain": [
              "array([nan,  2.,  1.,  5.,  3.,  4.])"
            ]
          },
          "metadata": {},
          "execution_count": 17
        }
      ]
    },
    {
      "cell_type": "code",
      "source": [
        "df.rating_grade.value_counts()"
      ],
      "metadata": {
        "colab": {
          "base_uri": "https://localhost:8080/"
        },
        "id": "Aus3co7kXEB5",
        "outputId": "6437eaf5-6e71-46a6-afc0-c66700c038f7"
      },
      "execution_count": null,
      "outputs": [
        {
          "output_type": "execute_result",
          "data": {
            "text/plain": [
              "1.0    47387\n",
              "5.0    14713\n",
              "2.0    13509\n",
              "3.0     9261\n",
              "4.0     3788\n",
              "Name: rating_grade, dtype: int64"
            ]
          },
          "metadata": {},
          "execution_count": 16
        }
      ]
    },
    {
      "cell_type": "code",
      "source": [
        "# количество пропусков в рейтинге\n",
        "len(df)-df.rating_grade.value_counts().sum()"
      ],
      "metadata": {
        "colab": {
          "base_uri": "https://localhost:8080/"
        },
        "id": "2x0oMIZKYW_r",
        "outputId": "9d1abebc-2179-4421-8aee-e5699047a8fa"
      },
      "execution_count": null,
      "outputs": [
        {
          "output_type": "execute_result",
          "data": {
            "text/plain": [
              "64841"
            ]
          },
          "metadata": {},
          "execution_count": 19
        }
      ]
    },
    {
      "cell_type": "code",
      "source": [
        "# замена пропусков модой\n",
        "df['rating_grade'] = df['rating_grade'].fillna(df['rating_grade'].mode()[0])"
      ],
      "metadata": {
        "id": "JX-2kho8YxFq"
      },
      "execution_count": null,
      "outputs": []
    },
    {
      "cell_type": "code",
      "source": [
        "df.rating_grade.value_counts()"
      ],
      "metadata": {
        "colab": {
          "base_uri": "https://localhost:8080/"
        },
        "id": "fH2o7CpfZGcl",
        "outputId": "304a4c92-59c1-420f-cbc9-c7a5fc7a6935"
      },
      "execution_count": null,
      "outputs": [
        {
          "output_type": "execute_result",
          "data": {
            "text/plain": [
              "1.0    112228\n",
              "5.0     14713\n",
              "2.0     13509\n",
              "3.0      9261\n",
              "4.0      3788\n",
              "Name: rating_grade, dtype: int64"
            ]
          },
          "metadata": {},
          "execution_count": 21
        }
      ]
    },
    {
      "cell_type": "code",
      "source": [
        "# Оставим 1000 строк и столбцы с отзывами и рейтингом\n",
        "df = df[['title', 'text', 'rating_grade']].sample(1000)\n",
        "df.head()"
      ],
      "metadata": {
        "id": "gNiL9qiUR3jD",
        "colab": {
          "base_uri": "https://localhost:8080/",
          "height": 206
        },
        "outputId": "6afa0576-735c-49f9-a4e4-2272e7baa21c"
      },
      "execution_count": null,
      "outputs": [
        {
          "output_type": "execute_result",
          "data": {
            "text/plain": [
              "                                        title  \\\n",
              "30080               Злоключения со Сбербанком   \n",
              "62030                                    Счет   \n",
              "21054         Пытки при получении ваших денег   \n",
              "95179   Перевыпуск карты после хизщения денег   \n",
              "144774        Обслуживание становится хуже...   \n",
              "\n",
              "                                                     text  rating_grade  \n",
              "30080   К моему несчастью у меня в Сбербанке зарплатна...           1.0  \n",
              "62030   Открыла счет в банке, подключено автоследовани...           1.0  \n",
              "21054   Здравствуйте всем! Сегодня закрывал вклад в СП...           3.0  \n",
              "95179   Спасибо Сбербанку - оперативно и быстро рассмо...           1.0  \n",
              "144774  Живу в Таганроге. Создал недавно свою фирму и ...           1.0  "
            ],
            "text/html": [
              "\n",
              "  <div id=\"df-d1e6ba96-a8cf-4ec6-ba17-bb4af2dd0f98\">\n",
              "    <div class=\"colab-df-container\">\n",
              "      <div>\n",
              "<style scoped>\n",
              "    .dataframe tbody tr th:only-of-type {\n",
              "        vertical-align: middle;\n",
              "    }\n",
              "\n",
              "    .dataframe tbody tr th {\n",
              "        vertical-align: top;\n",
              "    }\n",
              "\n",
              "    .dataframe thead th {\n",
              "        text-align: right;\n",
              "    }\n",
              "</style>\n",
              "<table border=\"1\" class=\"dataframe\">\n",
              "  <thead>\n",
              "    <tr style=\"text-align: right;\">\n",
              "      <th></th>\n",
              "      <th>title</th>\n",
              "      <th>text</th>\n",
              "      <th>rating_grade</th>\n",
              "    </tr>\n",
              "  </thead>\n",
              "  <tbody>\n",
              "    <tr>\n",
              "      <th>30080</th>\n",
              "      <td>Злоключения со Сбербанком</td>\n",
              "      <td>К моему несчастью у меня в Сбербанке зарплатна...</td>\n",
              "      <td>1.0</td>\n",
              "    </tr>\n",
              "    <tr>\n",
              "      <th>62030</th>\n",
              "      <td>Счет</td>\n",
              "      <td>Открыла счет в банке, подключено автоследовани...</td>\n",
              "      <td>1.0</td>\n",
              "    </tr>\n",
              "    <tr>\n",
              "      <th>21054</th>\n",
              "      <td>Пытки при получении ваших денег</td>\n",
              "      <td>Здравствуйте всем! Сегодня закрывал вклад в СП...</td>\n",
              "      <td>3.0</td>\n",
              "    </tr>\n",
              "    <tr>\n",
              "      <th>95179</th>\n",
              "      <td>Перевыпуск карты после хизщения денег</td>\n",
              "      <td>Спасибо Сбербанку - оперативно и быстро рассмо...</td>\n",
              "      <td>1.0</td>\n",
              "    </tr>\n",
              "    <tr>\n",
              "      <th>144774</th>\n",
              "      <td>Обслуживание становится хуже...</td>\n",
              "      <td>Живу в Таганроге. Создал недавно свою фирму и ...</td>\n",
              "      <td>1.0</td>\n",
              "    </tr>\n",
              "  </tbody>\n",
              "</table>\n",
              "</div>\n",
              "      <button class=\"colab-df-convert\" onclick=\"convertToInteractive('df-d1e6ba96-a8cf-4ec6-ba17-bb4af2dd0f98')\"\n",
              "              title=\"Convert this dataframe to an interactive table.\"\n",
              "              style=\"display:none;\">\n",
              "        \n",
              "  <svg xmlns=\"http://www.w3.org/2000/svg\" height=\"24px\"viewBox=\"0 0 24 24\"\n",
              "       width=\"24px\">\n",
              "    <path d=\"M0 0h24v24H0V0z\" fill=\"none\"/>\n",
              "    <path d=\"M18.56 5.44l.94 2.06.94-2.06 2.06-.94-2.06-.94-.94-2.06-.94 2.06-2.06.94zm-11 1L8.5 8.5l.94-2.06 2.06-.94-2.06-.94L8.5 2.5l-.94 2.06-2.06.94zm10 10l.94 2.06.94-2.06 2.06-.94-2.06-.94-.94-2.06-.94 2.06-2.06.94z\"/><path d=\"M17.41 7.96l-1.37-1.37c-.4-.4-.92-.59-1.43-.59-.52 0-1.04.2-1.43.59L10.3 9.45l-7.72 7.72c-.78.78-.78 2.05 0 2.83L4 21.41c.39.39.9.59 1.41.59.51 0 1.02-.2 1.41-.59l7.78-7.78 2.81-2.81c.8-.78.8-2.07 0-2.86zM5.41 20L4 18.59l7.72-7.72 1.47 1.35L5.41 20z\"/>\n",
              "  </svg>\n",
              "      </button>\n",
              "      \n",
              "  <style>\n",
              "    .colab-df-container {\n",
              "      display:flex;\n",
              "      flex-wrap:wrap;\n",
              "      gap: 12px;\n",
              "    }\n",
              "\n",
              "    .colab-df-convert {\n",
              "      background-color: #E8F0FE;\n",
              "      border: none;\n",
              "      border-radius: 50%;\n",
              "      cursor: pointer;\n",
              "      display: none;\n",
              "      fill: #1967D2;\n",
              "      height: 32px;\n",
              "      padding: 0 0 0 0;\n",
              "      width: 32px;\n",
              "    }\n",
              "\n",
              "    .colab-df-convert:hover {\n",
              "      background-color: #E2EBFA;\n",
              "      box-shadow: 0px 1px 2px rgba(60, 64, 67, 0.3), 0px 1px 3px 1px rgba(60, 64, 67, 0.15);\n",
              "      fill: #174EA6;\n",
              "    }\n",
              "\n",
              "    [theme=dark] .colab-df-convert {\n",
              "      background-color: #3B4455;\n",
              "      fill: #D2E3FC;\n",
              "    }\n",
              "\n",
              "    [theme=dark] .colab-df-convert:hover {\n",
              "      background-color: #434B5C;\n",
              "      box-shadow: 0px 1px 3px 1px rgba(0, 0, 0, 0.15);\n",
              "      filter: drop-shadow(0px 1px 2px rgba(0, 0, 0, 0.3));\n",
              "      fill: #FFFFFF;\n",
              "    }\n",
              "  </style>\n",
              "\n",
              "      <script>\n",
              "        const buttonEl =\n",
              "          document.querySelector('#df-d1e6ba96-a8cf-4ec6-ba17-bb4af2dd0f98 button.colab-df-convert');\n",
              "        buttonEl.style.display =\n",
              "          google.colab.kernel.accessAllowed ? 'block' : 'none';\n",
              "\n",
              "        async function convertToInteractive(key) {\n",
              "          const element = document.querySelector('#df-d1e6ba96-a8cf-4ec6-ba17-bb4af2dd0f98');\n",
              "          const dataTable =\n",
              "            await google.colab.kernel.invokeFunction('convertToInteractive',\n",
              "                                                     [key], {});\n",
              "          if (!dataTable) return;\n",
              "\n",
              "          const docLinkHtml = 'Like what you see? Visit the ' +\n",
              "            '<a target=\"_blank\" href=https://colab.research.google.com/notebooks/data_table.ipynb>data table notebook</a>'\n",
              "            + ' to learn more about interactive tables.';\n",
              "          element.innerHTML = '';\n",
              "          dataTable['output_type'] = 'display_data';\n",
              "          await google.colab.output.renderOutput(dataTable, element);\n",
              "          const docLink = document.createElement('div');\n",
              "          docLink.innerHTML = docLinkHtml;\n",
              "          element.appendChild(docLink);\n",
              "        }\n",
              "      </script>\n",
              "    </div>\n",
              "  </div>\n",
              "  "
            ]
          },
          "metadata": {},
          "execution_count": 52
        }
      ]
    },
    {
      "cell_type": "code",
      "source": [
        "len(df.title.unique())"
      ],
      "metadata": {
        "colab": {
          "base_uri": "https://localhost:8080/"
        },
        "id": "AYqMWYKUZ1Wq",
        "outputId": "7caad573-4cb6-4b6a-d841-2eec8a91bd75"
      },
      "execution_count": null,
      "outputs": [
        {
          "output_type": "execute_result",
          "data": {
            "text/plain": [
              "964"
            ]
          },
          "metadata": {},
          "execution_count": 53
        }
      ]
    },
    {
      "cell_type": "code",
      "source": [
        "! pip install pymorphy2\n",
        "import pymorphy2\n",
        "\n",
        "m = pymorphy2.MorphAnalyzer()"
      ],
      "metadata": {
        "colab": {
          "base_uri": "https://localhost:8080/"
        },
        "id": "0uEeNoKSZnQm",
        "outputId": "7d5a65c0-ca56-410b-dbcf-9b7c9cc71468"
      },
      "execution_count": null,
      "outputs": [
        {
          "output_type": "stream",
          "name": "stdout",
          "text": [
            "Looking in indexes: https://pypi.org/simple, https://us-python.pkg.dev/colab-wheels/public/simple/\n",
            "Requirement already satisfied: pymorphy2 in /usr/local/lib/python3.9/dist-packages (0.9.1)\n",
            "Requirement already satisfied: dawg-python>=0.7.1 in /usr/local/lib/python3.9/dist-packages (from pymorphy2) (0.7.2)\n",
            "Requirement already satisfied: pymorphy2-dicts-ru<3.0,>=2.4 in /usr/local/lib/python3.9/dist-packages (from pymorphy2) (2.4.417127.4579844)\n",
            "Requirement already satisfied: docopt>=0.6 in /usr/local/lib/python3.9/dist-packages (from pymorphy2) (0.6.2)\n"
          ]
        }
      ]
    },
    {
      "cell_type": "code",
      "source": [
        "import nltk\n",
        "nltk.download('stopwords')"
      ],
      "metadata": {
        "colab": {
          "base_uri": "https://localhost:8080/"
        },
        "id": "m7igaE9SaS0D",
        "outputId": "d81c1b83-f024-4f07-9865-6c9761dba7b1"
      },
      "execution_count": null,
      "outputs": [
        {
          "output_type": "stream",
          "name": "stderr",
          "text": [
            "[nltk_data] Downloading package stopwords to /root/nltk_data...\n",
            "[nltk_data]   Package stopwords is already up-to-date!\n"
          ]
        },
        {
          "output_type": "execute_result",
          "data": {
            "text/plain": [
              "True"
            ]
          },
          "metadata": {},
          "execution_count": 38
        }
      ]
    },
    {
      "cell_type": "code",
      "source": [
        "from nltk.corpus import stopwords"
      ],
      "metadata": {
        "id": "cT6K5OHta1oa"
      },
      "execution_count": null,
      "outputs": []
    },
    {
      "cell_type": "code",
      "source": [
        "# функции для препроцессинга тесктов\n",
        "\n",
        "mystopwords = stopwords.words('russian') + [\n",
        "    'это', 'наш' , 'тыс', 'млн', 'млрд', 'также',  'т', 'д',\n",
        "    'который','прошлый','сей', 'свой', 'наш', 'мочь', 'такой'\n",
        "]\n",
        "ru_words = re.compile(\"[А-Яа-я]+\")\n",
        "\n",
        "def words_only(text):\n",
        "    return \" \".join(ru_words.findall(text))\n",
        "\n",
        "\n",
        "def lemmatize(text):\n",
        "    try:\n",
        "        return  \" \".join([m.parse(w)[0].normal_form for w in text.lower().split()])\n",
        "    except:\n",
        "        return \" \"\n",
        "\n",
        "\n",
        "def remove_stopwords(text, mystopwords = mystopwords):\n",
        "    try:\n",
        "        return \" \".join([token for token in text.split() if not token in mystopwords])\n",
        "    except:\n",
        "        return \"\"\n",
        "\n",
        "\n",
        "def preprocess(text):\n",
        "    return remove_stopwords(lemmatize(words_only(text.lower())))"
      ],
      "metadata": {
        "id": "nRhdO-8yIcyh"
      },
      "execution_count": null,
      "outputs": []
    },
    {
      "cell_type": "code",
      "source": [
        "df.text = df.text.astype('str').progress_apply(preprocess)\n",
        "df.title = df.title.astype('str').progress_apply(preprocess)"
      ],
      "metadata": {
        "colab": {
          "base_uri": "https://localhost:8080/"
        },
        "id": "9sBxx-DXagMU",
        "outputId": "3eccc214-0afd-43a1-cf8b-e6f14b426363"
      },
      "execution_count": null,
      "outputs": [
        {
          "output_type": "stream",
          "name": "stderr",
          "text": [
            "100%|██████████| 1000/1000 [01:13<00:00, 13.60it/s]\n",
            "100%|██████████| 1000/1000 [00:01<00:00, 796.98it/s]\n"
          ]
        }
      ]
    },
    {
      "cell_type": "code",
      "source": [
        "df.text"
      ],
      "metadata": {
        "colab": {
          "base_uri": "https://localhost:8080/"
        },
        "id": "w39UYp1Xb4MB",
        "outputId": "2ec1ecaf-d6b9-4c80-b079-e748ff88db50"
      },
      "execution_count": null,
      "outputs": [
        {
          "output_type": "execute_result",
          "data": {
            "text/plain": [
              "30080     несчастие сбербанк зарплатный карта вчера октя...\n",
              "62030     открыть счёт банк подключить автоследование об...\n",
              "21054     здравствуйте весь сегодня закрывать вклад спб ...\n",
              "95179     спасибо сбербанк оперативно быстро рассмотреть...\n",
              "144774    жить таганрог создать недавно фирма решить пой...\n",
              "                                ...                        \n",
              "115028    день окончание срок депозит решить позвонить з...\n",
              "126062    ужас читать последний отзыв альф думать пнуть ...\n",
              "144008    искать банк завести пластиковый карта снова ви...\n",
              "1223      прийти письмо счастие договор ответить дорога ...\n",
              "126053    госпожа зиновьев перечислить список документ в...\n",
              "Name: text, Length: 1000, dtype: object"
            ]
          },
          "metadata": {},
          "execution_count": 58
        }
      ]
    },
    {
      "cell_type": "code",
      "source": [
        "# сделаем токенизацию слов по текстам с помощью split\n",
        "len(df.text[30080].split())"
      ],
      "metadata": {
        "colab": {
          "base_uri": "https://localhost:8080/"
        },
        "id": "BVHJouMLdxu6",
        "outputId": "b976334c-6af8-488d-a7ac-8d43a3d8ae80"
      },
      "execution_count": null,
      "outputs": [
        {
          "output_type": "execute_result",
          "data": {
            "text/plain": [
              "129"
            ]
          },
          "metadata": {},
          "execution_count": 61
        }
      ]
    },
    {
      "cell_type": "code",
      "source": [
        "len(df.text[30080].replace(' ', ''))"
      ],
      "metadata": {
        "colab": {
          "base_uri": "https://localhost:8080/"
        },
        "id": "nmr4NNwlu7yO",
        "outputId": "499e466e-608a-473d-be75-60dc89b6eab1"
      },
      "execution_count": null,
      "outputs": [
        {
          "output_type": "execute_result",
          "data": {
            "text/plain": [
              "936"
            ]
          },
          "metadata": {},
          "execution_count": 120
        }
      ]
    },
    {
      "cell_type": "code",
      "source": [
        "df = df.drop(columns = 'len_text')"
      ],
      "metadata": {
        "id": "al3Y2sswlnAs"
      },
      "execution_count": null,
      "outputs": []
    },
    {
      "cell_type": "code",
      "source": [
        "df.info()"
      ],
      "metadata": {
        "colab": {
          "base_uri": "https://localhost:8080/"
        },
        "id": "Gy342vkxoVky",
        "outputId": "9c9475e7-198a-434a-a251-066d77097edf"
      },
      "execution_count": null,
      "outputs": [
        {
          "output_type": "stream",
          "name": "stdout",
          "text": [
            "<class 'pandas.core.frame.DataFrame'>\n",
            "Int64Index: 1000 entries, 30080 to 126053\n",
            "Data columns (total 4 columns):\n",
            " #   Column        Non-Null Count  Dtype  \n",
            "---  ------        --------------  -----  \n",
            " 0   title         1000 non-null   object \n",
            " 1   text          1000 non-null   object \n",
            " 2   rating_grade  1000 non-null   float64\n",
            " 3   len_text_w    1000 non-null   int64  \n",
            "dtypes: float64(1), int64(1), object(2)\n",
            "memory usage: 71.4+ KB\n"
          ]
        }
      ]
    },
    {
      "cell_type": "code",
      "source": [
        "df['len_text_w'] = 0\n",
        "df['len_text_s'] = 0"
      ],
      "metadata": {
        "id": "qGz989MDsAaL"
      },
      "execution_count": null,
      "outputs": []
    },
    {
      "cell_type": "code",
      "source": [
        "# количество слов в тексте\n",
        "df.len_text_w = df.text.astype('str').progress_apply(lambda text : len(text.split()))"
      ],
      "metadata": {
        "colab": {
          "base_uri": "https://localhost:8080/"
        },
        "id": "I_RUU5vQnRPG",
        "outputId": "c8ca9d64-5761-4a0e-9923-bdbc415f363e"
      },
      "execution_count": null,
      "outputs": [
        {
          "output_type": "stream",
          "name": "stderr",
          "text": [
            "100%|██████████| 1000/1000 [00:00<00:00, 13479.83it/s]\n"
          ]
        }
      ]
    },
    {
      "cell_type": "code",
      "source": [
        "# количество символов без пробелов\n",
        "df.len_text_s =  df.text.astype('str').progress_apply(lambda text : len(text.replace(' ', '')))"
      ],
      "metadata": {
        "colab": {
          "base_uri": "https://localhost:8080/"
        },
        "id": "oC8lEc9Dv70a",
        "outputId": "eb242a1d-0cf6-4a5f-e29e-b64dafe1aa9d"
      },
      "execution_count": null,
      "outputs": [
        {
          "output_type": "stream",
          "name": "stderr",
          "text": [
            "100%|██████████| 1000/1000 [00:00<00:00, 25310.80it/s]\n"
          ]
        }
      ]
    },
    {
      "cell_type": "code",
      "source": [
        "df"
      ],
      "metadata": {
        "colab": {
          "base_uri": "https://localhost:8080/",
          "height": 424
        },
        "id": "G-370cABwN8V",
        "outputId": "37bd5b7e-af4f-498d-a3c8-a35b918209ed"
      },
      "execution_count": null,
      "outputs": [
        {
          "output_type": "execute_result",
          "data": {
            "text/plain": [
              "                                                   title  \\\n",
              "30080                               злоключение сбербанк   \n",
              "62030                                               счёт   \n",
              "21054                         пытка получение ваш деньга   \n",
              "95179                   перевыпуск карта хизщение деньга   \n",
              "144774                   обслуживание становиться плохой   \n",
              "...                                                  ...   \n",
              "115028  неквалифицированный обслуживание юниаструма банк   \n",
              "126062                                    путный продукт   \n",
              "144008                            лидер народный рейтинг   \n",
              "1223                               простить друг прощать   \n",
              "126053                          просить проинформировать   \n",
              "\n",
              "                                                     text  rating_grade  \\\n",
              "30080   несчастие сбербанк зарплатный карта вчера октя...           1.0   \n",
              "62030   открыть счёт банк подключить автоследование об...           1.0   \n",
              "21054   здравствуйте весь сегодня закрывать вклад спб ...           3.0   \n",
              "95179   спасибо сбербанк оперативно быстро рассмотреть...           1.0   \n",
              "144774  жить таганрог создать недавно фирма решить пой...           1.0   \n",
              "...                                                   ...           ...   \n",
              "115028  день окончание срок депозит решить позвонить з...           1.0   \n",
              "126062  ужас читать последний отзыв альф думать пнуть ...           1.0   \n",
              "144008  искать банк завести пластиковый карта снова ви...           1.0   \n",
              "1223    прийти письмо счастие договор ответить дорога ...           1.0   \n",
              "126053  госпожа зиновьев перечислить список документ в...           1.0   \n",
              "\n",
              "        len_text_w  len_text_s  \n",
              "30080          129         936  \n",
              "62030           39         282  \n",
              "21054          149         987  \n",
              "95179           89         655  \n",
              "144774         147         966  \n",
              "...            ...         ...  \n",
              "115028         160        1133  \n",
              "126062         129         880  \n",
              "144008         208        1441  \n",
              "1223            82         545  \n",
              "126053          47         338  \n",
              "\n",
              "[1000 rows x 5 columns]"
            ],
            "text/html": [
              "\n",
              "  <div id=\"df-7e2b9fed-071b-47b1-b324-785c8a1c727e\">\n",
              "    <div class=\"colab-df-container\">\n",
              "      <div>\n",
              "<style scoped>\n",
              "    .dataframe tbody tr th:only-of-type {\n",
              "        vertical-align: middle;\n",
              "    }\n",
              "\n",
              "    .dataframe tbody tr th {\n",
              "        vertical-align: top;\n",
              "    }\n",
              "\n",
              "    .dataframe thead th {\n",
              "        text-align: right;\n",
              "    }\n",
              "</style>\n",
              "<table border=\"1\" class=\"dataframe\">\n",
              "  <thead>\n",
              "    <tr style=\"text-align: right;\">\n",
              "      <th></th>\n",
              "      <th>title</th>\n",
              "      <th>text</th>\n",
              "      <th>rating_grade</th>\n",
              "      <th>len_text_w</th>\n",
              "      <th>len_text_s</th>\n",
              "    </tr>\n",
              "  </thead>\n",
              "  <tbody>\n",
              "    <tr>\n",
              "      <th>30080</th>\n",
              "      <td>злоключение сбербанк</td>\n",
              "      <td>несчастие сбербанк зарплатный карта вчера октя...</td>\n",
              "      <td>1.0</td>\n",
              "      <td>129</td>\n",
              "      <td>936</td>\n",
              "    </tr>\n",
              "    <tr>\n",
              "      <th>62030</th>\n",
              "      <td>счёт</td>\n",
              "      <td>открыть счёт банк подключить автоследование об...</td>\n",
              "      <td>1.0</td>\n",
              "      <td>39</td>\n",
              "      <td>282</td>\n",
              "    </tr>\n",
              "    <tr>\n",
              "      <th>21054</th>\n",
              "      <td>пытка получение ваш деньга</td>\n",
              "      <td>здравствуйте весь сегодня закрывать вклад спб ...</td>\n",
              "      <td>3.0</td>\n",
              "      <td>149</td>\n",
              "      <td>987</td>\n",
              "    </tr>\n",
              "    <tr>\n",
              "      <th>95179</th>\n",
              "      <td>перевыпуск карта хизщение деньга</td>\n",
              "      <td>спасибо сбербанк оперативно быстро рассмотреть...</td>\n",
              "      <td>1.0</td>\n",
              "      <td>89</td>\n",
              "      <td>655</td>\n",
              "    </tr>\n",
              "    <tr>\n",
              "      <th>144774</th>\n",
              "      <td>обслуживание становиться плохой</td>\n",
              "      <td>жить таганрог создать недавно фирма решить пой...</td>\n",
              "      <td>1.0</td>\n",
              "      <td>147</td>\n",
              "      <td>966</td>\n",
              "    </tr>\n",
              "    <tr>\n",
              "      <th>...</th>\n",
              "      <td>...</td>\n",
              "      <td>...</td>\n",
              "      <td>...</td>\n",
              "      <td>...</td>\n",
              "      <td>...</td>\n",
              "    </tr>\n",
              "    <tr>\n",
              "      <th>115028</th>\n",
              "      <td>неквалифицированный обслуживание юниаструма банк</td>\n",
              "      <td>день окончание срок депозит решить позвонить з...</td>\n",
              "      <td>1.0</td>\n",
              "      <td>160</td>\n",
              "      <td>1133</td>\n",
              "    </tr>\n",
              "    <tr>\n",
              "      <th>126062</th>\n",
              "      <td>путный продукт</td>\n",
              "      <td>ужас читать последний отзыв альф думать пнуть ...</td>\n",
              "      <td>1.0</td>\n",
              "      <td>129</td>\n",
              "      <td>880</td>\n",
              "    </tr>\n",
              "    <tr>\n",
              "      <th>144008</th>\n",
              "      <td>лидер народный рейтинг</td>\n",
              "      <td>искать банк завести пластиковый карта снова ви...</td>\n",
              "      <td>1.0</td>\n",
              "      <td>208</td>\n",
              "      <td>1441</td>\n",
              "    </tr>\n",
              "    <tr>\n",
              "      <th>1223</th>\n",
              "      <td>простить друг прощать</td>\n",
              "      <td>прийти письмо счастие договор ответить дорога ...</td>\n",
              "      <td>1.0</td>\n",
              "      <td>82</td>\n",
              "      <td>545</td>\n",
              "    </tr>\n",
              "    <tr>\n",
              "      <th>126053</th>\n",
              "      <td>просить проинформировать</td>\n",
              "      <td>госпожа зиновьев перечислить список документ в...</td>\n",
              "      <td>1.0</td>\n",
              "      <td>47</td>\n",
              "      <td>338</td>\n",
              "    </tr>\n",
              "  </tbody>\n",
              "</table>\n",
              "<p>1000 rows × 5 columns</p>\n",
              "</div>\n",
              "      <button class=\"colab-df-convert\" onclick=\"convertToInteractive('df-7e2b9fed-071b-47b1-b324-785c8a1c727e')\"\n",
              "              title=\"Convert this dataframe to an interactive table.\"\n",
              "              style=\"display:none;\">\n",
              "        \n",
              "  <svg xmlns=\"http://www.w3.org/2000/svg\" height=\"24px\"viewBox=\"0 0 24 24\"\n",
              "       width=\"24px\">\n",
              "    <path d=\"M0 0h24v24H0V0z\" fill=\"none\"/>\n",
              "    <path d=\"M18.56 5.44l.94 2.06.94-2.06 2.06-.94-2.06-.94-.94-2.06-.94 2.06-2.06.94zm-11 1L8.5 8.5l.94-2.06 2.06-.94-2.06-.94L8.5 2.5l-.94 2.06-2.06.94zm10 10l.94 2.06.94-2.06 2.06-.94-2.06-.94-.94-2.06-.94 2.06-2.06.94z\"/><path d=\"M17.41 7.96l-1.37-1.37c-.4-.4-.92-.59-1.43-.59-.52 0-1.04.2-1.43.59L10.3 9.45l-7.72 7.72c-.78.78-.78 2.05 0 2.83L4 21.41c.39.39.9.59 1.41.59.51 0 1.02-.2 1.41-.59l7.78-7.78 2.81-2.81c.8-.78.8-2.07 0-2.86zM5.41 20L4 18.59l7.72-7.72 1.47 1.35L5.41 20z\"/>\n",
              "  </svg>\n",
              "      </button>\n",
              "      \n",
              "  <style>\n",
              "    .colab-df-container {\n",
              "      display:flex;\n",
              "      flex-wrap:wrap;\n",
              "      gap: 12px;\n",
              "    }\n",
              "\n",
              "    .colab-df-convert {\n",
              "      background-color: #E8F0FE;\n",
              "      border: none;\n",
              "      border-radius: 50%;\n",
              "      cursor: pointer;\n",
              "      display: none;\n",
              "      fill: #1967D2;\n",
              "      height: 32px;\n",
              "      padding: 0 0 0 0;\n",
              "      width: 32px;\n",
              "    }\n",
              "\n",
              "    .colab-df-convert:hover {\n",
              "      background-color: #E2EBFA;\n",
              "      box-shadow: 0px 1px 2px rgba(60, 64, 67, 0.3), 0px 1px 3px 1px rgba(60, 64, 67, 0.15);\n",
              "      fill: #174EA6;\n",
              "    }\n",
              "\n",
              "    [theme=dark] .colab-df-convert {\n",
              "      background-color: #3B4455;\n",
              "      fill: #D2E3FC;\n",
              "    }\n",
              "\n",
              "    [theme=dark] .colab-df-convert:hover {\n",
              "      background-color: #434B5C;\n",
              "      box-shadow: 0px 1px 3px 1px rgba(0, 0, 0, 0.15);\n",
              "      filter: drop-shadow(0px 1px 2px rgba(0, 0, 0, 0.3));\n",
              "      fill: #FFFFFF;\n",
              "    }\n",
              "  </style>\n",
              "\n",
              "      <script>\n",
              "        const buttonEl =\n",
              "          document.querySelector('#df-7e2b9fed-071b-47b1-b324-785c8a1c727e button.colab-df-convert');\n",
              "        buttonEl.style.display =\n",
              "          google.colab.kernel.accessAllowed ? 'block' : 'none';\n",
              "\n",
              "        async function convertToInteractive(key) {\n",
              "          const element = document.querySelector('#df-7e2b9fed-071b-47b1-b324-785c8a1c727e');\n",
              "          const dataTable =\n",
              "            await google.colab.kernel.invokeFunction('convertToInteractive',\n",
              "                                                     [key], {});\n",
              "          if (!dataTable) return;\n",
              "\n",
              "          const docLinkHtml = 'Like what you see? Visit the ' +\n",
              "            '<a target=\"_blank\" href=https://colab.research.google.com/notebooks/data_table.ipynb>data table notebook</a>'\n",
              "            + ' to learn more about interactive tables.';\n",
              "          element.innerHTML = '';\n",
              "          dataTable['output_type'] = 'display_data';\n",
              "          await google.colab.output.renderOutput(dataTable, element);\n",
              "          const docLink = document.createElement('div');\n",
              "          docLink.innerHTML = docLinkHtml;\n",
              "          element.appendChild(docLink);\n",
              "        }\n",
              "      </script>\n",
              "    </div>\n",
              "  </div>\n",
              "  "
            ]
          },
          "metadata": {},
          "execution_count": 138
        }
      ]
    },
    {
      "cell_type": "code",
      "source": [
        "plt.figure(figsize = (25, 8))\n",
        "\n",
        "plt.subplot(121)\n",
        "df['len_text_w'].hist(density=False, bins=30)\n",
        "plt.ylabel('count')\n",
        "plt.xlabel('len_text_w')\n",
        "\n",
        "plt.show()"
      ],
      "metadata": {
        "colab": {
          "base_uri": "https://localhost:8080/",
          "height": 498
        },
        "id": "Qp-9a1FUmL_n",
        "outputId": "632cf287-caa4-4b6f-b837-f1234abae21b"
      },
      "execution_count": null,
      "outputs": [
        {
          "output_type": "display_data",
          "data": {
            "text/plain": [
              "<Figure size 1800x576 with 1 Axes>"
            ],
            "image/png": "[encoded data removed]"
          },
          "metadata": {
            "needs_background": "light"
          }
        }
      ]
    },
    {
      "cell_type": "code",
      "source": [
        "plt.figure(figsize = (25, 8))\n",
        "\n",
        "plt.subplot(121)\n",
        "df['len_text_s'].hist(density=False, bins=30)\n",
        "# plt.xticks()\n",
        "plt.ylabel('count')\n",
        "plt.xlabel('len_text_s')\n",
        "\n",
        "plt.show()"
      ],
      "metadata": {
        "colab": {
          "base_uri": "https://localhost:8080/",
          "height": 498
        },
        "id": "kYlBG3GNxosJ",
        "outputId": "ce28d7ca-fb34-44a4-eaf9-c1973c0efca8"
      },
      "execution_count": null,
      "outputs": [
        {
          "output_type": "display_data",
          "data": {
            "text/plain": [
              "<Figure size 1800x576 with 1 Axes>"
            ],
            "image/png": "[encoded data removed]"
          },
          "metadata": {
            "needs_background": "light"
          }
        }
      ]
    },
    {
      "cell_type": "markdown",
      "source": [
        "#### Найдите 10 самых частых:\n",
        "* слов\n",
        "* слов без стоп-слов\n",
        "* лемм\n",
        "* cуществительных\n"
      ],
      "metadata": {
        "id": "A1U18FMBx4x8"
      }
    },
    {
      "cell_type": "code",
      "source": [
        "from nltk.tokenize import word_tokenize\n",
        "import nltk\n",
        "nltk.download('punkt')\n",
        "from nltk.probability import FreqDist"
      ],
      "metadata": {
        "colab": {
          "base_uri": "https://localhost:8080/"
        },
        "id": "ahN1hscJgC-E",
        "outputId": "30d7040b-0697-4f03-c3b8-806cc8932570"
      },
      "execution_count": null,
      "outputs": [
        {
          "output_type": "stream",
          "name": "stderr",
          "text": [
            "[nltk_data] Downloading package punkt to /root/nltk_data...\n",
            "[nltk_data]   Package punkt is already up-to-date!\n"
          ]
        }
      ]
    },
    {
      "cell_type": "code",
      "source": [
        "tqdm.pandas()"
      ],
      "metadata": {
        "id": "PbTZ81R9mSxQ"
      },
      "execution_count": null,
      "outputs": []
    },
    {
      "cell_type": "code",
      "source": [
        "data.text"
      ],
      "metadata": {
        "colab": {
          "base_uri": "https://localhost:8080/"
        },
        "id": "Bzxljo86kuUq",
        "outputId": "cfd02f12-af7f-4d4a-af7c-1405f16538fc"
      },
      "execution_count": null,
      "outputs": [
        {
          "output_type": "execute_result",
          "data": {
            "text/plain": [
              "0         Добрый день! Я не являюсь клиентом банка и пор...\n",
              "1         Доброго дня! Являюсь держателем зарплатной кар...\n",
              "2         Здравствуйте!  Дублирую свое заявление от 03.0...\n",
              "3         Добрый день!! Я открыл расчетный счет в СберБа...\n",
              "4         04.03.2015 г. взяла кредит в вашем банке, заяв...\n",
              "                                ...                        \n",
              "153494    Слишком большой банк, не всегда учитывает нашу...\n",
              "153495    Вы сами виноваты в своих проблемах, кроме пред...\n",
              "153496    Уважаемое руководство банка «ОВК»! Я проживаю ...\n",
              "153497    Пробовала 10.04.05 оформить товар в кредит в А...\n",
              "153498    Если коротко, то мне нравится. Кридит получать...\n",
              "Name: text, Length: 153499, dtype: object"
            ]
          },
          "metadata": {},
          "execution_count": 11
        }
      ]
    },
    {
      "cell_type": "code",
      "source": [
        "акщь ыекштп шьзщке згтсегфешщт\n",
        "згтсегфешщт"
      ],
      "metadata": {
        "colab": {
          "base_uri": "https://localhost:8080/",
          "height": 35
        },
        "id": "vjxTxcPFgJV5",
        "outputId": "7ab9441a-f7c9-4ca7-80ad-e1e0018646f4"
      },
      "execution_count": null,
      "outputs": [
        {
          "output_type": "execute_result",
          "data": {
            "text/plain": [
              "'!\"#$%&\\'()*+,-./:;<=>?@[\\\\]^_`{|}~'"
            ],
            "application/vnd.google.colaboratory.intrinsic+json": {
              "type": "string"
            }
          },
          "metadata": {},
          "execution_count": 6
        }
      ]
    },
    {
      "cell_type": "code",
      "source": [
        "# токенизация всего текста\n",
        "corpus = [token.lower() for text in data.text for token in word_tokenize(text) if token not in punctuation]\n",
        "# corpus = [token.lower() for token in ]\n",
        "print(len(corpus))\n",
        "corpus[:10]"
      ],
      "metadata": {
        "colab": {
          "base_uri": "https://localhost:8080/"
        },
        "id": "m_YUT2_QjFfX",
        "outputId": "8d20599a-5036-4e61-da38-20bf8136facd"
      },
      "execution_count": null,
      "outputs": [
        {
          "output_type": "stream",
          "name": "stdout",
          "text": [
            "36766261\n"
          ]
        },
        {
          "output_type": "execute_result",
          "data": {
            "text/plain": [
              "['добрый',\n",
              " 'день',\n",
              " 'я',\n",
              " 'не',\n",
              " 'являюсь',\n",
              " 'клиентом',\n",
              " 'банка',\n",
              " 'и',\n",
              " 'поручителем',\n",
              " 'по']"
            ]
          },
          "metadata": {},
          "execution_count": 13
        }
      ]
    },
    {
      "cell_type": "code",
      "source": [
        "# 10 самых частых слов\n",
        "fdist_t = FreqDist(corpus)\n",
        "fdist_t.most_common(10)"
      ],
      "metadata": {
        "colab": {
          "base_uri": "https://localhost:8080/"
        },
        "id": "TZqYcEV2m9vb",
        "outputId": "8a10e8fa-202e-42bd-b46e-c9b566a758f7"
      },
      "execution_count": null,
      "outputs": [
        {
          "output_type": "execute_result",
          "data": {
            "text/plain": [
              "[('в', 1322516),\n",
              " ('и', 1054485),\n",
              " ('не', 851742),\n",
              " ('на', 704396),\n",
              " ('что', 621783),\n",
              " ('я', 573896),\n",
              " ('с', 454545),\n",
              " ('по', 365188),\n",
              " ('мне', 320695),\n",
              " ('банка', 263957)]"
            ]
          },
          "metadata": {},
          "execution_count": 14
        }
      ]
    },
    {
      "cell_type": "code",
      "source": [
        "from nltk.corpus import stopwords\n",
        "nltk.download('stopwords')"
      ],
      "metadata": {
        "colab": {
          "base_uri": "https://localhost:8080/"
        },
        "id": "aEy7R5Q9rwSN",
        "outputId": "3e3b8708-fd4e-4494-9efb-6747097acb74"
      },
      "execution_count": null,
      "outputs": [
        {
          "output_type": "stream",
          "name": "stderr",
          "text": [
            "[nltk_data] Downloading package stopwords to /root/nltk_data...\n",
            "[nltk_data]   Package stopwords is already up-to-date!\n"
          ]
        },
        {
          "output_type": "execute_result",
          "data": {
            "text/plain": [
              "True"
            ]
          },
          "metadata": {},
          "execution_count": 14
        }
      ]
    },
    {
      "cell_type": "code",
      "source": [
        "# Удаление  стоп-слов\n",
        "\n",
        "mystopwords = stopwords.words('russian') + [\n",
        "    'это', 'наш' , 'тыс', 'млн', 'млрд', 'также',  'т', 'д',\n",
        "    'который','прошлый','сей', 'свой', 'наш', 'мочь', 'такой', '...', '``', '\\'\\''\n",
        "]\n",
        "\n",
        "def remove_stopwords(text, mystopwords = mystopwords):\n",
        "    try:\n",
        "        text\n",
        "        return [token for token in text if not token in mystopwords]\n",
        "    except:\n",
        "        return \"\""
      ],
      "metadata": {
        "id": "8IfEs03cp_I0"
      },
      "execution_count": null,
      "outputs": []
    },
    {
      "cell_type": "code",
      "source": [
        "corpus_stop = remove_stopwords(corpus)"
      ],
      "metadata": {
        "id": "ZRhlZ7maq5zw"
      },
      "execution_count": null,
      "outputs": []
    },
    {
      "cell_type": "code",
      "source": [
        "print(len(corpus_stop))\n",
        "corpus_stop[:10]"
      ],
      "metadata": {
        "colab": {
          "base_uri": "https://localhost:8080/"
        },
        "id": "-sGsEup4rGkb",
        "outputId": "62432ccb-d2f9-433d-ec7a-9d5388a6f0de"
      },
      "execution_count": null,
      "outputs": [
        {
          "output_type": "stream",
          "name": "stdout",
          "text": [
            "23194639\n"
          ]
        },
        {
          "output_type": "execute_result",
          "data": {
            "text/plain": [
              "['добрый',\n",
              " 'день',\n",
              " 'являюсь',\n",
              " 'клиентом',\n",
              " 'банка',\n",
              " 'поручителем',\n",
              " 'кредитному',\n",
              " 'договору',\n",
              " 'являюсь',\n",
              " 'каким-либо']"
            ]
          },
          "metadata": {},
          "execution_count": 18
        }
      ]
    },
    {
      "cell_type": "code",
      "source": [
        "# 10 самых частых слов без стоп слов\n",
        "fdist_s = FreqDist(corpus_stop)\n",
        "fdist_s.most_common(10)"
      ],
      "metadata": {
        "colab": {
          "base_uri": "https://localhost:8080/"
        },
        "id": "jWmE_CBrsvWs",
        "outputId": "e4e5f5c6-2cb6-432f-bae3-c4c870f13b6d"
      },
      "execution_count": null,
      "outputs": [
        {
          "output_type": "execute_result",
          "data": {
            "text/plain": [
              "[('банка', 263957),\n",
              " ('банк', 196303),\n",
              " ('деньги', 130062),\n",
              " ('карту', 104947),\n",
              " ('карты', 100877),\n",
              " ('кредит', 80282),\n",
              " ('день', 75996),\n",
              " ('заявление', 69524),\n",
              " ('отделение', 66468),\n",
              " ('очень', 66174)]"
            ]
          },
          "metadata": {},
          "execution_count": 19
        }
      ]
    },
    {
      "cell_type": "code",
      "source": [
        "# лемматизация\n",
        "! pip install pymorphy2\n",
        "import pymorphy2\n",
        "\n",
        "m = pymorphy2.MorphAnalyzer()"
      ],
      "metadata": {
        "colab": {
          "base_uri": "https://localhost:8080/"
        },
        "id": "1iRAxMFl5GjH",
        "outputId": "1ae65ae3-dd1f-4862-d4b4-d2980777b1fb"
      },
      "execution_count": null,
      "outputs": [
        {
          "output_type": "stream",
          "name": "stdout",
          "text": [
            "Looking in indexes: https://pypi.org/simple, https://us-python.pkg.dev/colab-wheels/public/simple/\n",
            "Collecting pymorphy2\n",
            "  Downloading pymorphy2-0.9.1-py3-none-any.whl (55 kB)\n",
            "\u001b[2K     \u001b[90m━━━━━━━━━━━━━━━━━━━━━━━━━━━━━━━━━━━━━━━━\u001b[0m \u001b[32m55.5/55.5 KB\u001b[0m \u001b[31m3.0 MB/s\u001b[0m eta \u001b[36m0:00:00\u001b[0m\n",
            "\u001b[?25hCollecting dawg-python>=0.7.1\n",
            "  Downloading DAWG_Python-0.7.2-py2.py3-none-any.whl (11 kB)\n",
            "Collecting pymorphy2-dicts-ru<3.0,>=2.4\n",
            "  Downloading pymorphy2_dicts_ru-2.4.417127.4579844-py2.py3-none-any.whl (8.2 MB)\n",
            "\u001b[2K     \u001b[90m━━━━━━━━━━━━━━━━━━━━━━━━━━━━━━━━━━━━━━━━\u001b[0m \u001b[32m8.2/8.2 MB\u001b[0m \u001b[31m51.0 MB/s\u001b[0m eta \u001b[36m0:00:00\u001b[0m\n",
            "\u001b[?25hCollecting docopt>=0.6\n",
            "  Downloading docopt-0.6.2.tar.gz (25 kB)\n",
            "  Preparing metadata (setup.py) ... \u001b[?25l\u001b[?25hdone\n",
            "Building wheels for collected packages: docopt\n",
            "  Building wheel for docopt (setup.py) ... \u001b[?25l\u001b[?25hdone\n",
            "  Created wheel for docopt: filename=docopt-0.6.2-py2.py3-none-any.whl size=13721 sha256=074b6533ac18a597b22bc6de677fbac57b332f0c4092ea971c3593c61dbc4937\n",
            "  Stored in directory: /root/.cache/pip/wheels/70/4a/46/1309fc853b8d395e60bafaf1b6df7845bdd82c95fd59dd8d2b\n",
            "Successfully built docopt\n",
            "Installing collected packages: pymorphy2-dicts-ru, docopt, dawg-python, pymorphy2\n",
            "Successfully installed dawg-python-0.7.2 docopt-0.6.2 pymorphy2-0.9.1 pymorphy2-dicts-ru-2.4.417127.4579844\n"
          ]
        }
      ]
    },
    {
      "cell_type": "code",
      "source": [
        "def lemmatize(text):\n",
        "    try:\n",
        "        return  [m.parse(w)[0].normal_form for w in text]\n",
        "    except:\n",
        "        return \" \""
      ],
      "metadata": {
        "id": "CNp1Sure4ZLb"
      },
      "execution_count": null,
      "outputs": []
    },
    {
      "cell_type": "code",
      "source": [
        "corpus_lemm = lemmatize(corpus_stop)\n",
        "print(len(corpus_lemm))\n",
        "corpus_lemm[:10]"
      ],
      "metadata": {
        "colab": {
          "base_uri": "https://localhost:8080/"
        },
        "id": "7Hho3eFN4j5Y",
        "outputId": "5d20e44b-0d47-4c5d-9b85-640f46eae56d"
      },
      "execution_count": null,
      "outputs": [
        {
          "output_type": "stream",
          "name": "stdout",
          "text": [
            "23194639\n"
          ]
        },
        {
          "output_type": "execute_result",
          "data": {
            "text/plain": [
              "['добрый',\n",
              " 'день',\n",
              " 'являться',\n",
              " 'клиент',\n",
              " 'банк',\n",
              " 'поручитель',\n",
              " 'кредитный',\n",
              " 'договор',\n",
              " 'являться',\n",
              " 'какой-либо']"
            ]
          },
          "metadata": {},
          "execution_count": 22
        }
      ]
    },
    {
      "cell_type": "code",
      "source": [
        "# 10 самых частых лeмм\n",
        "fdist_l = FreqDist(corpus_lemm)\n",
        "fdist_l.most_common(10)"
      ],
      "metadata": {
        "colab": {
          "base_uri": "https://localhost:8080/"
        },
        "id": "0jS9ZkScs78K",
        "outputId": "77f1dcc3-ad6a-41e3-a5eb-9f9175123114"
      },
      "execution_count": null,
      "outputs": [
        {
          "output_type": "execute_result",
          "data": {
            "text/plain": [
              "[('банк', 624272),\n",
              " ('карта', 331815),\n",
              " ('деньга', 178338),\n",
              " ('день', 172634),\n",
              " ('мой', 167035),\n",
              " ('кредит', 154865),\n",
              " ('отделение', 143616),\n",
              " ('счёт', 140509),\n",
              " ('сотрудник', 133662),\n",
              " ('клиент', 132908)]"
            ]
          },
          "metadata": {},
          "execution_count": 23
        }
      ]
    },
    {
      "cell_type": "code",
      "source": [],
      "metadata": {
        "id": "9YLytMJvE8jw"
      },
      "execution_count": null,
      "outputs": []
    },
    {
      "cell_type": "code",
      "source": [
        "# нахождение существительных\n",
        "def noun(text):\n",
        "    try:\n",
        "        # return  [m.parse(w)[0].tag.POS == 'NOUN' for w in text]\n",
        "        return [w for w in text if m.parse(w)[0].tag.POS == 'NOUN']\n",
        "    except:\n",
        "        return \" \""
      ],
      "metadata": {
        "id": "4IJSV-8AW9Hy"
      },
      "execution_count": null,
      "outputs": []
    },
    {
      "cell_type": "code",
      "source": [
        "corpus_noun = noun(corpus_lemm)\n",
        "print(len(corpus_noun))\n",
        "corpus_noun[:10]"
      ],
      "metadata": {
        "colab": {
          "base_uri": "https://localhost:8080/"
        },
        "id": "bMaXC93NYdcT",
        "outputId": "2f739955-ef4b-4b52-bc86-812f9c8f6263"
      },
      "execution_count": null,
      "outputs": [
        {
          "output_type": "stream",
          "name": "stdout",
          "text": [
            "10478954\n"
          ]
        },
        {
          "output_type": "execute_result",
          "data": {
            "text/plain": [
              "['день',\n",
              " 'клиент',\n",
              " 'банк',\n",
              " 'поручитель',\n",
              " 'договор',\n",
              " 'лицо',\n",
              " 'отношение',\n",
              " 'банк',\n",
              " 'повод',\n",
              " 'урегулирование']"
            ]
          },
          "metadata": {},
          "execution_count": 25
        }
      ]
    },
    {
      "cell_type": "code",
      "source": [
        "# 10 самых частых существительных\n",
        "fdist_n = FreqDist(corpus_noun)\n",
        "fdist_n.most_common(10)"
      ],
      "metadata": {
        "id": "2XIYI_ZlXCXd"
      },
      "execution_count": null,
      "outputs": []
    },
    {
      "cell_type": "code",
      "source": [
        "fdist_t.most_common(10)[0][0]"
      ],
      "metadata": {
        "id": "VYlvKPaGqsYC"
      },
      "execution_count": null,
      "outputs": []
    },
    {
      "cell_type": "markdown",
      "source": [
        "##### Результирующий датасет по частотности"
      ],
      "metadata": {
        "id": "5g5y-ffxjark"
      }
    },
    {
      "cell_type": "code",
      "source": [
        "# Результирующий датасет по частотности\n",
        "result_df = pd.DataFrame({\n",
        "    'frequent_word': [fdist_t.most_common(10)[0][0],\n",
        "                      fdist_t.most_common(10)[1][0],\n",
        "                      fdist_t.most_common(10)[2][0],\n",
        "                      fdist_t.most_common(10)[3][0],\n",
        "                      fdist_t.most_common(10)[4][0],\n",
        "                      fdist_t.most_common(10)[4][0],\n",
        "                      fdist_t.most_common(10)[6][0],\n",
        "                      fdist_t.most_common(10)[7][0],\n",
        "                      fdist_t.most_common(10)[8][0],\n",
        "                      fdist_t.most_common(10)[9][0]],\n",
        "    'frequent_stop': [fdist_s.most_common(10)[0][0],\n",
        "                      fdist_s.most_common(10)[1][0],\n",
        "                      fdist_s.most_common(10)[2][0],\n",
        "                      fdist_s.most_common(10)[3][0],\n",
        "                      fdist_s.most_common(10)[4][0],\n",
        "                      fdist_s.most_common(10)[4][0],\n",
        "                      fdist_s.most_common(10)[6][0],\n",
        "                      fdist_s.most_common(10)[7][0],\n",
        "                      fdist_s.most_common(10)[8][0],\n",
        "                      fdist_s.most_common(10)[9][0]],\n",
        "    'frequent_lemm': [fdist_l.most_common(10)[0][0],\n",
        "                      fdist_l.most_common(10)[1][0],\n",
        "                      fdist_l.most_common(10)[2][0],\n",
        "                      fdist_l.most_common(10)[3][0],\n",
        "                      fdist_l.most_common(10)[4][0],\n",
        "                      fdist_l.most_common(10)[4][0],\n",
        "                      fdist_l.most_common(10)[6][0],\n",
        "                      fdist_l.most_common(10)[7][0],\n",
        "                      fdist_l.most_common(10)[8][0],\n",
        "                      fdist_l.most_common(10)[9][0]],\n",
        "    'frequent_noun': [fdist_n.most_common(10)[0][0],\n",
        "                      fdist_n.most_common(10)[1][0],\n",
        "                      fdist_n.most_common(10)[2][0],\n",
        "                      fdist_n.most_common(10)[3][0],\n",
        "                      fdist_n.most_common(10)[4][0],\n",
        "                      fdist_n.most_common(10)[4][0],\n",
        "                      fdist_n.most_common(10)[6][0],\n",
        "                      fdist_n.most_common(10)[7][0],\n",
        "                      fdist_n.most_common(10)[8][0],\n",
        "                      fdist_n.most_common(10)[9][0]]\n",
        "}, index=None)\n",
        "\n",
        "result_df"
      ],
      "metadata": {
        "colab": {
          "base_uri": "https://localhost:8080/",
          "height": 363
        },
        "id": "FJuFgcEirKLl",
        "outputId": "b3764161-8c41-4bb6-d983-ee294c696afb"
      },
      "execution_count": null,
      "outputs": [
        {
          "data": {
            "text/html": [
              "\n",
              "  <div id=\"df-31172db9-7673-4cbb-9f11-40806570b791\">\n",
              "    <div class=\"colab-df-container\">\n",
              "      <div>\n",
              "<style scoped>\n",
              "    .dataframe tbody tr th:only-of-type {\n",
              "        vertical-align: middle;\n",
              "    }\n",
              "\n",
              "    .dataframe tbody tr th {\n",
              "        vertical-align: top;\n",
              "    }\n",
              "\n",
              "    .dataframe thead th {\n",
              "        text-align: right;\n",
              "    }\n",
              "</style>\n",
              "<table border=\"1\" class=\"dataframe\">\n",
              "  <thead>\n",
              "    <tr style=\"text-align: right;\">\n",
              "      <th></th>\n",
              "      <th>frequent_word</th>\n",
              "      <th>frequent_stop</th>\n",
              "      <th>frequent_lemm</th>\n",
              "      <th>frequent_noun</th>\n",
              "    </tr>\n",
              "  </thead>\n",
              "  <tbody>\n",
              "    <tr>\n",
              "      <th>0</th>\n",
              "      <td>в</td>\n",
              "      <td>банка</td>\n",
              "      <td>банк</td>\n",
              "      <td>банк</td>\n",
              "    </tr>\n",
              "    <tr>\n",
              "      <th>1</th>\n",
              "      <td>и</td>\n",
              "      <td>банк</td>\n",
              "      <td>карта</td>\n",
              "      <td>карта</td>\n",
              "    </tr>\n",
              "    <tr>\n",
              "      <th>2</th>\n",
              "      <td>не</td>\n",
              "      <td>деньги</td>\n",
              "      <td>деньга</td>\n",
              "      <td>деньга</td>\n",
              "    </tr>\n",
              "    <tr>\n",
              "      <th>3</th>\n",
              "      <td>на</td>\n",
              "      <td>карту</td>\n",
              "      <td>день</td>\n",
              "      <td>день</td>\n",
              "    </tr>\n",
              "    <tr>\n",
              "      <th>4</th>\n",
              "      <td>что</td>\n",
              "      <td>карты</td>\n",
              "      <td>мой</td>\n",
              "      <td>кредит</td>\n",
              "    </tr>\n",
              "    <tr>\n",
              "      <th>5</th>\n",
              "      <td>что</td>\n",
              "      <td>карты</td>\n",
              "      <td>мой</td>\n",
              "      <td>кредит</td>\n",
              "    </tr>\n",
              "    <tr>\n",
              "      <th>6</th>\n",
              "      <td>с</td>\n",
              "      <td>день</td>\n",
              "      <td>отделение</td>\n",
              "      <td>счёт</td>\n",
              "    </tr>\n",
              "    <tr>\n",
              "      <th>7</th>\n",
              "      <td>по</td>\n",
              "      <td>заявление</td>\n",
              "      <td>счёт</td>\n",
              "      <td>сотрудник</td>\n",
              "    </tr>\n",
              "    <tr>\n",
              "      <th>8</th>\n",
              "      <td>мне</td>\n",
              "      <td>отделение</td>\n",
              "      <td>сотрудник</td>\n",
              "      <td>клиент</td>\n",
              "    </tr>\n",
              "    <tr>\n",
              "      <th>9</th>\n",
              "      <td>банка</td>\n",
              "      <td>очень</td>\n",
              "      <td>клиент</td>\n",
              "      <td>сумма</td>\n",
              "    </tr>\n",
              "  </tbody>\n",
              "</table>\n",
              "</div>\n",
              "      <button class=\"colab-df-convert\" onclick=\"convertToInteractive('df-31172db9-7673-4cbb-9f11-40806570b791')\"\n",
              "              title=\"Convert this dataframe to an interactive table.\"\n",
              "              style=\"display:none;\">\n",
              "        \n",
              "  <svg xmlns=\"http://www.w3.org/2000/svg\" height=\"24px\"viewBox=\"0 0 24 24\"\n",
              "       width=\"24px\">\n",
              "    <path d=\"M0 0h24v24H0V0z\" fill=\"none\"/>\n",
              "    <path d=\"M18.56 5.44l.94 2.06.94-2.06 2.06-.94-2.06-.94-.94-2.06-.94 2.06-2.06.94zm-11 1L8.5 8.5l.94-2.06 2.06-.94-2.06-.94L8.5 2.5l-.94 2.06-2.06.94zm10 10l.94 2.06.94-2.06 2.06-.94-2.06-.94-.94-2.06-.94 2.06-2.06.94z\"/><path d=\"M17.41 7.96l-1.37-1.37c-.4-.4-.92-.59-1.43-.59-.52 0-1.04.2-1.43.59L10.3 9.45l-7.72 7.72c-.78.78-.78 2.05 0 2.83L4 21.41c.39.39.9.59 1.41.59.51 0 1.02-.2 1.41-.59l7.78-7.78 2.81-2.81c.8-.78.8-2.07 0-2.86zM5.41 20L4 18.59l7.72-7.72 1.47 1.35L5.41 20z\"/>\n",
              "  </svg>\n",
              "      </button>\n",
              "      \n",
              "  <style>\n",
              "    .colab-df-container {\n",
              "      display:flex;\n",
              "      flex-wrap:wrap;\n",
              "      gap: 12px;\n",
              "    }\n",
              "\n",
              "    .colab-df-convert {\n",
              "      background-color: #E8F0FE;\n",
              "      border: none;\n",
              "      border-radius: 50%;\n",
              "      cursor: pointer;\n",
              "      display: none;\n",
              "      fill: #1967D2;\n",
              "      height: 32px;\n",
              "      padding: 0 0 0 0;\n",
              "      width: 32px;\n",
              "    }\n",
              "\n",
              "    .colab-df-convert:hover {\n",
              "      background-color: #E2EBFA;\n",
              "      box-shadow: 0px 1px 2px rgba(60, 64, 67, 0.3), 0px 1px 3px 1px rgba(60, 64, 67, 0.15);\n",
              "      fill: #174EA6;\n",
              "    }\n",
              "\n",
              "    [theme=dark] .colab-df-convert {\n",
              "      background-color: #3B4455;\n",
              "      fill: #D2E3FC;\n",
              "    }\n",
              "\n",
              "    [theme=dark] .colab-df-convert:hover {\n",
              "      background-color: #434B5C;\n",
              "      box-shadow: 0px 1px 3px 1px rgba(0, 0, 0, 0.15);\n",
              "      filter: drop-shadow(0px 1px 2px rgba(0, 0, 0, 0.3));\n",
              "      fill: #FFFFFF;\n",
              "    }\n",
              "  </style>\n",
              "\n",
              "      <script>\n",
              "        const buttonEl =\n",
              "          document.querySelector('#df-31172db9-7673-4cbb-9f11-40806570b791 button.colab-df-convert');\n",
              "        buttonEl.style.display =\n",
              "          google.colab.kernel.accessAllowed ? 'block' : 'none';\n",
              "\n",
              "        async function convertToInteractive(key) {\n",
              "          const element = document.querySelector('#df-31172db9-7673-4cbb-9f11-40806570b791');\n",
              "          const dataTable =\n",
              "            await google.colab.kernel.invokeFunction('convertToInteractive',\n",
              "                                                     [key], {});\n",
              "          if (!dataTable) return;\n",
              "\n",
              "          const docLinkHtml = 'Like what you see? Visit the ' +\n",
              "            '<a target=\"_blank\" href=https://colab.research.google.com/notebooks/data_table.ipynb>data table notebook</a>'\n",
              "            + ' to learn more about interactive tables.';\n",
              "          element.innerHTML = '';\n",
              "          dataTable['output_type'] = 'display_data';\n",
              "          await google.colab.output.renderOutput(dataTable, element);\n",
              "          const docLink = document.createElement('div');\n",
              "          docLink.innerHTML = docLinkHtml;\n",
              "          element.appendChild(docLink);\n",
              "        }\n",
              "      </script>\n",
              "    </div>\n",
              "  </div>\n",
              "  "
            ],
            "text/plain": [
              "  frequent_word frequent_stop frequent_lemm frequent_noun\n",
              "0             в         банка          банк          банк\n",
              "1             и          банк         карта         карта\n",
              "2            не        деньги        деньга        деньга\n",
              "3            на         карту          день          день\n",
              "4           что         карты           мой        кредит\n",
              "5           что         карты           мой        кредит\n",
              "6             с          день     отделение          счёт\n",
              "7            по     заявление          счёт     сотрудник\n",
              "8           мне     отделение     сотрудник        клиент\n",
              "9         банка         очень        клиент         сумма"
            ]
          },
          "execution_count": 28,
          "metadata": {},
          "output_type": "execute_result"
        }
      ]
    },
    {
      "cell_type": "markdown",
      "source": [
        "#### Постройте кривые Ципфа и Хипса"
      ],
      "metadata": {
        "id": "5D3jVT8VzCud"
      }
    },
    {
      "cell_type": "code",
      "source": [
        "import matplotlib.pyplot as plt\n",
        "%matplotlib inline\n",
        "\n",
        "freqs = list(fdist_t.values())\n",
        "freqs = sorted(freqs, reverse = True)\n",
        "\n",
        "fig, ax = plt.subplots()\n",
        "ax.plot(freqs[:300], range(300))\n",
        "plt.show()"
      ],
      "metadata": {
        "colab": {
          "base_uri": "https://localhost:8080/",
          "height": 448
        },
        "id": "fKttmwXuzEqa",
        "outputId": "0b0420c6-ca77-4435-aa4b-2bccb6475159"
      },
      "execution_count": null,
      "outputs": [
        {
          "output_type": "display_data",
          "data": {
            "text/plain": [
              "<Figure size 640x480 with 1 Axes>"
            ],
            "image/png": "[encoded data removed]"
          },
          "metadata": {}
        }
      ]
    },
    {
      "cell_type": "code",
      "source": [
        "from collections import Counter"
      ],
      "metadata": {
        "id": "nxE9oy_l1yKx"
      },
      "execution_count": null,
      "outputs": []
    },
    {
      "cell_type": "code",
      "source": [
        "from tqdm import tqdm\n",
        "\n",
        "cnt = Counter()\n",
        "n_words = []\n",
        "n_tokens = []\n",
        "tokens = []\n",
        "for index, row in tqdm(data.iterrows(), total = len(data)):\n",
        "    tokens = word_tokenize(row['text'])\n",
        "    cnt.update([token for token in tokens if token not in punctuation])\n",
        "    n_words.append(len(cnt))\n",
        "    n_tokens.append(sum(cnt.values()))"
      ],
      "metadata": {
        "colab": {
          "base_uri": "https://localhost:8080/"
        },
        "id": "I8KYOfmhR7d6",
        "outputId": "01db36ed-429b-4421-8355-8e3d139e2f1a"
      },
      "execution_count": null,
      "outputs": [
        {
          "output_type": "stream",
          "name": "stderr",
          "text": [
            "100%|██████████| 153499/153499 [09:04<00:00, 281.71it/s]\n"
          ]
        }
      ]
    },
    {
      "cell_type": "code",
      "source": [
        "fig, ax = plt.subplots()\n",
        "ax.plot(n_tokens, n_words)\n",
        "plt.show()"
      ],
      "metadata": {
        "id": "e8f-AZVRzPTZ"
      },
      "execution_count": null,
      "outputs": []
    },
    {
      "cell_type": "markdown",
      "source": [
        "#### Ответьте на следующие вопросы:\n",
        "\n",
        "  * какое слово встречается чаще, \"сотрудник\" или \"клиент\"?\n",
        "  * сколько раз встречается слова \"мошенничество\" и \"доверие\"?\n"
      ],
      "metadata": {
        "id": "20Uvr_H91-T4"
      }
    },
    {
      "cell_type": "code",
      "source": [
        "if  fdist_l.freq('сотрудник') > fdist_l.freq('клиент'):\n",
        "    print('Слово сотрудник встречается чаще, чем слово клиент')\n",
        "else:\n",
        "    print('Слово клиент встречается чаще, чем слово сотрудник')\n"
      ],
      "metadata": {
        "colab": {
          "base_uri": "https://localhost:8080/"
        },
        "id": "0Zuwcf6_2ISa",
        "outputId": "093cb8e2-387a-45ba-caed-9d4811cd4f52"
      },
      "execution_count": null,
      "outputs": [
        {
          "output_type": "stream",
          "name": "stdout",
          "text": [
            "Слово сотрудник встречается чаще, чем слово клиент\n"
          ]
        }
      ]
    },
    {
      "cell_type": "code",
      "source": [
        "print('Мошенничество встретилось', fdist_l['мошенничество'], 'раз')\n",
        "print('Доверие встретилось', fdist_l['доверие'], 'раз')"
      ],
      "metadata": {
        "colab": {
          "base_uri": "https://localhost:8080/"
        },
        "id": "dh1hbEuo6cb4",
        "outputId": "16bde450-d52c-43ba-ec05-10ef78f65e6f"
      },
      "execution_count": null,
      "outputs": [
        {
          "output_type": "stream",
          "name": "stdout",
          "text": [
            "Мошенничество встретилось 3228 раз\n",
            "Доверие встретилось 2098 раз\n"
          ]
        }
      ]
    },
    {
      "cell_type": "markdown",
      "source": [
        "#### В поле \"rating_grade\" записана оценка отзыва по шкале от 1 до 5. Используйте меру 𝑡𝑓−𝑖𝑑𝑓 , для того, чтобы найти ключевые слова и биграмы для положительных отзывов (с оценкой 5) и отрицательных отзывов (с оценкой 1)"
      ],
      "metadata": {
        "id": "so82lnKa2LRB"
      }
    },
    {
      "cell_type": "code",
      "source": [
        "data['rating_grade'].value_counts()"
      ],
      "metadata": {
        "colab": {
          "base_uri": "https://localhost:8080/"
        },
        "id": "aAUjta6228Zb",
        "outputId": "5ad229a4-7df3-47b1-94d5-af052d5d9f8b"
      },
      "execution_count": null,
      "outputs": [
        {
          "output_type": "execute_result",
          "data": {
            "text/plain": [
              "1.0    47387\n",
              "5.0    14713\n",
              "2.0    13509\n",
              "3.0     9261\n",
              "4.0     3788\n",
              "Name: rating_grade, dtype: int64"
            ]
          },
          "metadata": {},
          "execution_count": 6
        }
      ]
    },
    {
      "cell_type": "code",
      "source": [
        "# выделение отзывов с оценкой 1 и 5 по 500 отзывов\n",
        "df_1 = data[(data.rating_grade==1)].sample(n = 500).copy()\n",
        "df_5 = data[(data.rating_grade==5)].sample(n = 500).copy()"
      ],
      "metadata": {
        "id": "vjippApu5eiJ"
      },
      "execution_count": null,
      "outputs": []
    },
    {
      "cell_type": "code",
      "source": [
        "mystopwords = stopwords.words('russian') + [\n",
        "    'это', 'наш' , 'тыс', 'млн', 'млрд', 'также',  'т', 'д',\n",
        "    'который','прошлый','сей', 'свой', 'наш', 'мочь', 'такой', 'aaa'\n",
        "]\n",
        "ru_words = re.compile(\"[А-Яа-я]+\")\n",
        "\n",
        "\n",
        "def words_only(text):\n",
        "    return \" \".join(ru_words.findall(text))\n",
        "\n",
        "\n",
        "def lemmatize(text):\n",
        "    try:\n",
        "        return  \" \".join([m.parse(w)[0].normal_form for w in text.lower().split()])\n",
        "    except:\n",
        "        return \" \"\n",
        "\n",
        "\n",
        "def remove_stopwords(text, mystopwords = mystopwords):\n",
        "    try:\n",
        "        return \" \".join([token for token in text.split() if not token in mystopwords])\n",
        "    except:\n",
        "        return \"\"\n",
        "\n",
        "\n",
        "def preprocess(text):\n",
        "    return remove_stopwords(lemmatize(words_only(text.lower())))"
      ],
      "metadata": {
        "id": "TT07Aa0JBLn6"
      },
      "execution_count": null,
      "outputs": []
    },
    {
      "cell_type": "code",
      "source": [
        " df_1.text = df_1.text.astype('str').progress_apply(preprocess)"
      ],
      "metadata": {
        "colab": {
          "base_uri": "https://localhost:8080/"
        },
        "id": "z0uJ365TBQb-",
        "outputId": "358dbc99-1a95-4e44-cbca-74fb9b758771"
      },
      "execution_count": null,
      "outputs": [
        {
          "output_type": "stream",
          "name": "stderr",
          "text": [
            "100%|██████████| 500/500 [00:45<00:00, 10.97it/s]\n"
          ]
        }
      ]
    },
    {
      "cell_type": "code",
      "source": [
        " df_5.text = df_5.text.astype('str').progress_apply(preprocess)"
      ],
      "metadata": {
        "colab": {
          "base_uri": "https://localhost:8080/"
        },
        "id": "b-eZLCbzErVa",
        "outputId": "794e95dd-b052-44c9-8e88-6b65457b2db3"
      },
      "execution_count": null,
      "outputs": [
        {
          "output_type": "stream",
          "name": "stderr",
          "text": [
            "100%|██████████| 500/500 [00:35<00:00, 13.97it/s]\n"
          ]
        }
      ]
    },
    {
      "cell_type": "code",
      "source": [
        " df_1.head(5)"
      ],
      "metadata": {
        "colab": {
          "base_uri": "https://localhost:8080/",
          "height": 337
        },
        "id": "4IQbViYeENt9",
        "outputId": "5d8d14e6-996c-48a1-ec28-6b2e19f1050d"
      },
      "execution_count": null,
      "outputs": [
        {
          "output_type": "execute_result",
          "data": {
            "text/plain": [
              "                                   city  rating_not_checked  \\\n",
              "31869                         г. Москва               False   \n",
              "73715                         г. Сургут               False   \n",
              "127331                        г. Москва               False   \n",
              "71747   г. Выборг, Лениградская область               False   \n",
              "93643                         г. москва               False   \n",
              "\n",
              "                                                    title  num_comments  \\\n",
              "31869   Безобразное обслуживание в отделении Ситибанка...             0   \n",
              "73715   Сложилось впечатление что не банк, а сборище д...             5   \n",
              "127331                           Кошмар с закрытием карты             2   \n",
              "71747                              Обман на каждом слове!            10   \n",
              "93643          Кол-центр и этот не орфографическая ошибка             5   \n",
              "\n",
              "           bank_license       author                       bank_name  \\\n",
              "31869   лицензия № 2557  _Anastasia_                        Ситибанк   \n",
              "73715      лицензия № 1   ALEX 11186                  ЮниКредит Банк   \n",
              "127331   лицензия № 316         shik                Хоум Кредит Банк   \n",
              "71747   лицензия № 1971      guancha  Ханты-Мансийский банк Открытие   \n",
              "93643   лицензия № 1961     bailaora                    Связной Банк   \n",
              "\n",
              "                   datetime  \\\n",
              "31869   2014-10-06 12:27:00   \n",
              "73715   2013-09-14 09:47:00   \n",
              "127331  2011-01-26 23:00:00   \n",
              "71747   2013-10-03 21:42:00   \n",
              "93643   2013-01-07 22:41:00   \n",
              "\n",
              "                                                     text  rating_grade  \n",
              "31869   Хочу поделиться своим мнением о странной неком...           1.0  \n",
              "73715   20 августа 2013 года обратился в кредитный отд...           1.0  \n",
              "127331  В течении трех месяцев не мог погасить долг по...           1.0  \n",
              "71747   За всю свою сознательную жизнь я пользовался к...           1.0  \n",
              "93643   Всем доброго времени суток! На днях имела \"удо...           1.0  "
            ],
            "text/html": [
              "\n",
              "  <div id=\"df-e241b28c-7ac0-4f65-b0fd-2c6de735df80\">\n",
              "    <div class=\"colab-df-container\">\n",
              "      <div>\n",
              "<style scoped>\n",
              "    .dataframe tbody tr th:only-of-type {\n",
              "        vertical-align: middle;\n",
              "    }\n",
              "\n",
              "    .dataframe tbody tr th {\n",
              "        vertical-align: top;\n",
              "    }\n",
              "\n",
              "    .dataframe thead th {\n",
              "        text-align: right;\n",
              "    }\n",
              "</style>\n",
              "<table border=\"1\" class=\"dataframe\">\n",
              "  <thead>\n",
              "    <tr style=\"text-align: right;\">\n",
              "      <th></th>\n",
              "      <th>city</th>\n",
              "      <th>rating_not_checked</th>\n",
              "      <th>title</th>\n",
              "      <th>num_comments</th>\n",
              "      <th>bank_license</th>\n",
              "      <th>author</th>\n",
              "      <th>bank_name</th>\n",
              "      <th>datetime</th>\n",
              "      <th>text</th>\n",
              "      <th>rating_grade</th>\n",
              "    </tr>\n",
              "  </thead>\n",
              "  <tbody>\n",
              "    <tr>\n",
              "      <th>31869</th>\n",
              "      <td>г. Москва</td>\n",
              "      <td>False</td>\n",
              "      <td>Безобразное обслуживание в отделении Ситибанка...</td>\n",
              "      <td>0</td>\n",
              "      <td>лицензия № 2557</td>\n",
              "      <td>_Anastasia_</td>\n",
              "      <td>Ситибанк</td>\n",
              "      <td>2014-10-06 12:27:00</td>\n",
              "      <td>Хочу поделиться своим мнением о странной неком...</td>\n",
              "      <td>1.0</td>\n",
              "    </tr>\n",
              "    <tr>\n",
              "      <th>73715</th>\n",
              "      <td>г. Сургут</td>\n",
              "      <td>False</td>\n",
              "      <td>Сложилось впечатление что не банк, а сборище д...</td>\n",
              "      <td>5</td>\n",
              "      <td>лицензия № 1</td>\n",
              "      <td>ALEX 11186</td>\n",
              "      <td>ЮниКредит Банк</td>\n",
              "      <td>2013-09-14 09:47:00</td>\n",
              "      <td>20 августа 2013 года обратился в кредитный отд...</td>\n",
              "      <td>1.0</td>\n",
              "    </tr>\n",
              "    <tr>\n",
              "      <th>127331</th>\n",
              "      <td>г. Москва</td>\n",
              "      <td>False</td>\n",
              "      <td>Кошмар с закрытием карты</td>\n",
              "      <td>2</td>\n",
              "      <td>лицензия № 316</td>\n",
              "      <td>shik</td>\n",
              "      <td>Хоум Кредит Банк</td>\n",
              "      <td>2011-01-26 23:00:00</td>\n",
              "      <td>В течении трех месяцев не мог погасить долг по...</td>\n",
              "      <td>1.0</td>\n",
              "    </tr>\n",
              "    <tr>\n",
              "      <th>71747</th>\n",
              "      <td>г. Выборг, Лениградская область</td>\n",
              "      <td>False</td>\n",
              "      <td>Обман на каждом слове!</td>\n",
              "      <td>10</td>\n",
              "      <td>лицензия № 1971</td>\n",
              "      <td>guancha</td>\n",
              "      <td>Ханты-Мансийский банк Открытие</td>\n",
              "      <td>2013-10-03 21:42:00</td>\n",
              "      <td>За всю свою сознательную жизнь я пользовался к...</td>\n",
              "      <td>1.0</td>\n",
              "    </tr>\n",
              "    <tr>\n",
              "      <th>93643</th>\n",
              "      <td>г. москва</td>\n",
              "      <td>False</td>\n",
              "      <td>Кол-центр и этот не орфографическая ошибка</td>\n",
              "      <td>5</td>\n",
              "      <td>лицензия № 1961</td>\n",
              "      <td>bailaora</td>\n",
              "      <td>Связной Банк</td>\n",
              "      <td>2013-01-07 22:41:00</td>\n",
              "      <td>Всем доброго времени суток! На днях имела \"удо...</td>\n",
              "      <td>1.0</td>\n",
              "    </tr>\n",
              "  </tbody>\n",
              "</table>\n",
              "</div>\n",
              "      <button class=\"colab-df-convert\" onclick=\"convertToInteractive('df-e241b28c-7ac0-4f65-b0fd-2c6de735df80')\"\n",
              "              title=\"Convert this dataframe to an interactive table.\"\n",
              "              style=\"display:none;\">\n",
              "        \n",
              "  <svg xmlns=\"http://www.w3.org/2000/svg\" height=\"24px\"viewBox=\"0 0 24 24\"\n",
              "       width=\"24px\">\n",
              "    <path d=\"M0 0h24v24H0V0z\" fill=\"none\"/>\n",
              "    <path d=\"M18.56 5.44l.94 2.06.94-2.06 2.06-.94-2.06-.94-.94-2.06-.94 2.06-2.06.94zm-11 1L8.5 8.5l.94-2.06 2.06-.94-2.06-.94L8.5 2.5l-.94 2.06-2.06.94zm10 10l.94 2.06.94-2.06 2.06-.94-2.06-.94-.94-2.06-.94 2.06-2.06.94z\"/><path d=\"M17.41 7.96l-1.37-1.37c-.4-.4-.92-.59-1.43-.59-.52 0-1.04.2-1.43.59L10.3 9.45l-7.72 7.72c-.78.78-.78 2.05 0 2.83L4 21.41c.39.39.9.59 1.41.59.51 0 1.02-.2 1.41-.59l7.78-7.78 2.81-2.81c.8-.78.8-2.07 0-2.86zM5.41 20L4 18.59l7.72-7.72 1.47 1.35L5.41 20z\"/>\n",
              "  </svg>\n",
              "      </button>\n",
              "      \n",
              "  <style>\n",
              "    .colab-df-container {\n",
              "      display:flex;\n",
              "      flex-wrap:wrap;\n",
              "      gap: 12px;\n",
              "    }\n",
              "\n",
              "    .colab-df-convert {\n",
              "      background-color: #E8F0FE;\n",
              "      border: none;\n",
              "      border-radius: 50%;\n",
              "      cursor: pointer;\n",
              "      display: none;\n",
              "      fill: #1967D2;\n",
              "      height: 32px;\n",
              "      padding: 0 0 0 0;\n",
              "      width: 32px;\n",
              "    }\n",
              "\n",
              "    .colab-df-convert:hover {\n",
              "      background-color: #E2EBFA;\n",
              "      box-shadow: 0px 1px 2px rgba(60, 64, 67, 0.3), 0px 1px 3px 1px rgba(60, 64, 67, 0.15);\n",
              "      fill: #174EA6;\n",
              "    }\n",
              "\n",
              "    [theme=dark] .colab-df-convert {\n",
              "      background-color: #3B4455;\n",
              "      fill: #D2E3FC;\n",
              "    }\n",
              "\n",
              "    [theme=dark] .colab-df-convert:hover {\n",
              "      background-color: #434B5C;\n",
              "      box-shadow: 0px 1px 3px 1px rgba(0, 0, 0, 0.15);\n",
              "      filter: drop-shadow(0px 1px 2px rgba(0, 0, 0, 0.3));\n",
              "      fill: #FFFFFF;\n",
              "    }\n",
              "  </style>\n",
              "\n",
              "      <script>\n",
              "        const buttonEl =\n",
              "          document.querySelector('#df-e241b28c-7ac0-4f65-b0fd-2c6de735df80 button.colab-df-convert');\n",
              "        buttonEl.style.display =\n",
              "          google.colab.kernel.accessAllowed ? 'block' : 'none';\n",
              "\n",
              "        async function convertToInteractive(key) {\n",
              "          const element = document.querySelector('#df-e241b28c-7ac0-4f65-b0fd-2c6de735df80');\n",
              "          const dataTable =\n",
              "            await google.colab.kernel.invokeFunction('convertToInteractive',\n",
              "                                                     [key], {});\n",
              "          if (!dataTable) return;\n",
              "\n",
              "          const docLinkHtml = 'Like what you see? Visit the ' +\n",
              "            '<a target=\"_blank\" href=https://colab.research.google.com/notebooks/data_table.ipynb>data table notebook</a>'\n",
              "            + ' to learn more about interactive tables.';\n",
              "          element.innerHTML = '';\n",
              "          dataTable['output_type'] = 'display_data';\n",
              "          await google.colab.output.renderOutput(dataTable, element);\n",
              "          const docLink = document.createElement('div');\n",
              "          docLink.innerHTML = docLinkHtml;\n",
              "          element.appendChild(docLink);\n",
              "        }\n",
              "      </script>\n",
              "    </div>\n",
              "  </div>\n",
              "  "
            ]
          },
          "metadata": {},
          "execution_count": 146
        }
      ]
    },
    {
      "cell_type": "code",
      "source": [
        " df_5.head(5)"
      ],
      "metadata": {
        "colab": {
          "base_uri": "https://localhost:8080/",
          "height": 337
        },
        "id": "4h4rL18ZKsBk",
        "outputId": "cf4ab293-ed47-4df8-b02f-662ac1f5914c"
      },
      "execution_count": null,
      "outputs": [
        {
          "output_type": "execute_result",
          "data": {
            "text/plain": [
              "                     city  rating_not_checked  \\\n",
              "135436  г. Ростов-на-Дону               False   \n",
              "116698          г. Москва               False   \n",
              "145771               None               False   \n",
              "68998       г. красноярск               False   \n",
              "148620               None               False   \n",
              "\n",
              "                                        title  num_comments     bank_license  \\\n",
              "135436                           Так держать!             0  лицензия № 2211   \n",
              "116698                           ДО \"Марфино\"             0  лицензия № 1751   \n",
              "145771  Банк \"СМП\": Первый положительный опыт             0  лицензия № 3368   \n",
              "68998                      Кредитные каникулы             3  лицензия № 2673   \n",
              "148620          Объясняют долго, но правильно             1  лицензия № 2771   \n",
              "\n",
              "             author                  bank_name             datetime  \\\n",
              "135436     karabass              Росэнергобанк  2010-01-16 13:47:00   \n",
              "116698     margulis  Московский Областной Банк  2011-11-17 20:45:00   \n",
              "145771   6308255299                   СМП Банк  2007-10-25 21:49:00   \n",
              "68998   jugofactory              Тинькофф Банк  2013-10-31 15:55:00   \n",
              "148620      izhirov             Юниаструм Банк  2006-12-07 23:16:00   \n",
              "\n",
              "                                                     text  rating_grade  \n",
              "135436  данный сайт отзыв основной масса отзыв ругател...           5.0  \n",
              "116698  пользоваться услуга данный офис практически де...           5.0  \n",
              "145771  добрый вечер сегодня офис банк ст м павелецкий...           5.0  \n",
              "68998   случиться прежний работа перестать платить з п...           5.0  \n",
              "148620  хотеть похвалить сотрудник братиславский явить...           5.0  "
            ],
            "text/html": [
              "\n",
              "  <div id=\"df-ce7ef135-a99c-4afa-8959-dbaf2d2277aa\">\n",
              "    <div class=\"colab-df-container\">\n",
              "      <div>\n",
              "<style scoped>\n",
              "    .dataframe tbody tr th:only-of-type {\n",
              "        vertical-align: middle;\n",
              "    }\n",
              "\n",
              "    .dataframe tbody tr th {\n",
              "        vertical-align: top;\n",
              "    }\n",
              "\n",
              "    .dataframe thead th {\n",
              "        text-align: right;\n",
              "    }\n",
              "</style>\n",
              "<table border=\"1\" class=\"dataframe\">\n",
              "  <thead>\n",
              "    <tr style=\"text-align: right;\">\n",
              "      <th></th>\n",
              "      <th>city</th>\n",
              "      <th>rating_not_checked</th>\n",
              "      <th>title</th>\n",
              "      <th>num_comments</th>\n",
              "      <th>bank_license</th>\n",
              "      <th>author</th>\n",
              "      <th>bank_name</th>\n",
              "      <th>datetime</th>\n",
              "      <th>text</th>\n",
              "      <th>rating_grade</th>\n",
              "    </tr>\n",
              "  </thead>\n",
              "  <tbody>\n",
              "    <tr>\n",
              "      <th>135436</th>\n",
              "      <td>г. Ростов-на-Дону</td>\n",
              "      <td>False</td>\n",
              "      <td>Так держать!</td>\n",
              "      <td>0</td>\n",
              "      <td>лицензия № 2211</td>\n",
              "      <td>karabass</td>\n",
              "      <td>Росэнергобанк</td>\n",
              "      <td>2010-01-16 13:47:00</td>\n",
              "      <td>данный сайт отзыв основной масса отзыв ругател...</td>\n",
              "      <td>5.0</td>\n",
              "    </tr>\n",
              "    <tr>\n",
              "      <th>116698</th>\n",
              "      <td>г. Москва</td>\n",
              "      <td>False</td>\n",
              "      <td>ДО \"Марфино\"</td>\n",
              "      <td>0</td>\n",
              "      <td>лицензия № 1751</td>\n",
              "      <td>margulis</td>\n",
              "      <td>Московский Областной Банк</td>\n",
              "      <td>2011-11-17 20:45:00</td>\n",
              "      <td>пользоваться услуга данный офис практически де...</td>\n",
              "      <td>5.0</td>\n",
              "    </tr>\n",
              "    <tr>\n",
              "      <th>145771</th>\n",
              "      <td>None</td>\n",
              "      <td>False</td>\n",
              "      <td>Банк \"СМП\": Первый положительный опыт</td>\n",
              "      <td>0</td>\n",
              "      <td>лицензия № 3368</td>\n",
              "      <td>6308255299</td>\n",
              "      <td>СМП Банк</td>\n",
              "      <td>2007-10-25 21:49:00</td>\n",
              "      <td>добрый вечер сегодня офис банк ст м павелецкий...</td>\n",
              "      <td>5.0</td>\n",
              "    </tr>\n",
              "    <tr>\n",
              "      <th>68998</th>\n",
              "      <td>г. красноярск</td>\n",
              "      <td>False</td>\n",
              "      <td>Кредитные каникулы</td>\n",
              "      <td>3</td>\n",
              "      <td>лицензия № 2673</td>\n",
              "      <td>jugofactory</td>\n",
              "      <td>Тинькофф Банк</td>\n",
              "      <td>2013-10-31 15:55:00</td>\n",
              "      <td>случиться прежний работа перестать платить з п...</td>\n",
              "      <td>5.0</td>\n",
              "    </tr>\n",
              "    <tr>\n",
              "      <th>148620</th>\n",
              "      <td>None</td>\n",
              "      <td>False</td>\n",
              "      <td>Объясняют долго, но правильно</td>\n",
              "      <td>1</td>\n",
              "      <td>лицензия № 2771</td>\n",
              "      <td>izhirov</td>\n",
              "      <td>Юниаструм Банк</td>\n",
              "      <td>2006-12-07 23:16:00</td>\n",
              "      <td>хотеть похвалить сотрудник братиславский явить...</td>\n",
              "      <td>5.0</td>\n",
              "    </tr>\n",
              "  </tbody>\n",
              "</table>\n",
              "</div>\n",
              "      <button class=\"colab-df-convert\" onclick=\"convertToInteractive('df-ce7ef135-a99c-4afa-8959-dbaf2d2277aa')\"\n",
              "              title=\"Convert this dataframe to an interactive table.\"\n",
              "              style=\"display:none;\">\n",
              "        \n",
              "  <svg xmlns=\"http://www.w3.org/2000/svg\" height=\"24px\"viewBox=\"0 0 24 24\"\n",
              "       width=\"24px\">\n",
              "    <path d=\"M0 0h24v24H0V0z\" fill=\"none\"/>\n",
              "    <path d=\"M18.56 5.44l.94 2.06.94-2.06 2.06-.94-2.06-.94-.94-2.06-.94 2.06-2.06.94zm-11 1L8.5 8.5l.94-2.06 2.06-.94-2.06-.94L8.5 2.5l-.94 2.06-2.06.94zm10 10l.94 2.06.94-2.06 2.06-.94-2.06-.94-.94-2.06-.94 2.06-2.06.94z\"/><path d=\"M17.41 7.96l-1.37-1.37c-.4-.4-.92-.59-1.43-.59-.52 0-1.04.2-1.43.59L10.3 9.45l-7.72 7.72c-.78.78-.78 2.05 0 2.83L4 21.41c.39.39.9.59 1.41.59.51 0 1.02-.2 1.41-.59l7.78-7.78 2.81-2.81c.8-.78.8-2.07 0-2.86zM5.41 20L4 18.59l7.72-7.72 1.47 1.35L5.41 20z\"/>\n",
              "  </svg>\n",
              "      </button>\n",
              "      \n",
              "  <style>\n",
              "    .colab-df-container {\n",
              "      display:flex;\n",
              "      flex-wrap:wrap;\n",
              "      gap: 12px;\n",
              "    }\n",
              "\n",
              "    .colab-df-convert {\n",
              "      background-color: #E8F0FE;\n",
              "      border: none;\n",
              "      border-radius: 50%;\n",
              "      cursor: pointer;\n",
              "      display: none;\n",
              "      fill: #1967D2;\n",
              "      height: 32px;\n",
              "      padding: 0 0 0 0;\n",
              "      width: 32px;\n",
              "    }\n",
              "\n",
              "    .colab-df-convert:hover {\n",
              "      background-color: #E2EBFA;\n",
              "      box-shadow: 0px 1px 2px rgba(60, 64, 67, 0.3), 0px 1px 3px 1px rgba(60, 64, 67, 0.15);\n",
              "      fill: #174EA6;\n",
              "    }\n",
              "\n",
              "    [theme=dark] .colab-df-convert {\n",
              "      background-color: #3B4455;\n",
              "      fill: #D2E3FC;\n",
              "    }\n",
              "\n",
              "    [theme=dark] .colab-df-convert:hover {\n",
              "      background-color: #434B5C;\n",
              "      box-shadow: 0px 1px 3px 1px rgba(0, 0, 0, 0.15);\n",
              "      filter: drop-shadow(0px 1px 2px rgba(0, 0, 0, 0.3));\n",
              "      fill: #FFFFFF;\n",
              "    }\n",
              "  </style>\n",
              "\n",
              "      <script>\n",
              "        const buttonEl =\n",
              "          document.querySelector('#df-ce7ef135-a99c-4afa-8959-dbaf2d2277aa button.colab-df-convert');\n",
              "        buttonEl.style.display =\n",
              "          google.colab.kernel.accessAllowed ? 'block' : 'none';\n",
              "\n",
              "        async function convertToInteractive(key) {\n",
              "          const element = document.querySelector('#df-ce7ef135-a99c-4afa-8959-dbaf2d2277aa');\n",
              "          const dataTable =\n",
              "            await google.colab.kernel.invokeFunction('convertToInteractive',\n",
              "                                                     [key], {});\n",
              "          if (!dataTable) return;\n",
              "\n",
              "          const docLinkHtml = 'Like what you see? Visit the ' +\n",
              "            '<a target=\"_blank\" href=https://colab.research.google.com/notebooks/data_table.ipynb>data table notebook</a>'\n",
              "            + ' to learn more about interactive tables.';\n",
              "          element.innerHTML = '';\n",
              "          dataTable['output_type'] = 'display_data';\n",
              "          await google.colab.output.renderOutput(dataTable, element);\n",
              "          const docLink = document.createElement('div');\n",
              "          docLink.innerHTML = docLinkHtml;\n",
              "          element.appendChild(docLink);\n",
              "        }\n",
              "      </script>\n",
              "    </div>\n",
              "  </div>\n",
              "  "
            ]
          },
          "metadata": {},
          "execution_count": 41
        }
      ]
    },
    {
      "cell_type": "code",
      "source": [
        "from sklearn.feature_extraction.text import TfidfVectorizer"
      ],
      "metadata": {
        "id": "HiIzxayy6Y2C"
      },
      "execution_count": null,
      "outputs": []
    },
    {
      "cell_type": "code",
      "source": [
        "# извлечение ключевых слов с рейтингом 1\n",
        "vectorizer = TfidfVectorizer(analyzer='word', ngram_range=(1,1), min_df = 0)\n",
        "vectors = vectorizer.fit_transform(df_1.text)\n",
        "words = vectorizer.get_feature_names_out()\n",
        "data = vectors.todense().tolist()\n",
        "df_word_1 = pd.DataFrame(data, columns=words)\n",
        "\n",
        "# извлечение ключевых слов с рейтингом 5\n",
        "vectorizer = TfidfVectorizer(analyzer='word', ngram_range=(1,1), min_df = 0)\n",
        "vectors = vectorizer.fit_transform(df_5.text)\n",
        "words = vectorizer.get_feature_names_out()\n",
        "data = vectors.todense().tolist()\n",
        "df_word_5 = pd.DataFrame(data, columns=words)"
      ],
      "metadata": {
        "id": "eeiszG8zaNXF"
      },
      "execution_count": null,
      "outputs": []
    },
    {
      "cell_type": "code",
      "source": [
        "df_word_1"
      ],
      "metadata": {
        "colab": {
          "base_uri": "https://localhost:8080/",
          "height": 424
        },
        "id": "58jshv5Xisn4",
        "outputId": "9395162e-6079-4b51-9d83-dedeef988d9d"
      },
      "execution_count": null,
      "outputs": [
        {
          "output_type": "execute_result",
          "data": {
            "text/plain": [
              "     ааа       аба  абонент  абонентский  абсолют  абсолютно  абсолютный  \\\n",
              "0    0.0  0.000000      0.0          0.0      0.0   0.000000         0.0   \n",
              "1    0.0  0.000000      0.0          0.0      0.0   0.000000         0.0   \n",
              "2    0.0  0.000000      0.0          0.0      0.0   0.000000         0.0   \n",
              "3    0.0  0.000000      0.0          0.0      0.0   0.000000         0.0   \n",
              "4    0.0  0.121526      0.0          0.0      0.0   0.000000         0.0   \n",
              "..   ...       ...      ...          ...      ...        ...         ...   \n",
              "495  0.0  0.000000      0.0          0.0      0.0   0.000000         0.0   \n",
              "496  0.0  0.000000      0.0          0.0      0.0   0.036252         0.0   \n",
              "497  0.0  0.000000      0.0          0.0      0.0   0.000000         0.0   \n",
              "498  0.0  0.000000      0.0          0.0      0.0   0.000000         0.0   \n",
              "499  0.0  0.000000      0.0          0.0      0.0   0.000000         0.0   \n",
              "\n",
              "     абсурдность  абсурдный       ава  ...  яперевести  ярко  ярославль  \\\n",
              "0            0.0        0.0  0.000000  ...         0.0   0.0   0.000000   \n",
              "1            0.0        0.0  0.000000  ...         0.0   0.0   0.000000   \n",
              "2            0.0        0.0  0.000000  ...         0.0   0.0   0.056061   \n",
              "3            0.0        0.0  0.000000  ...         0.0   0.0   0.000000   \n",
              "4            0.0        0.0  0.000000  ...         0.0   0.0   0.000000   \n",
              "..           ...        ...       ...  ...         ...   ...        ...   \n",
              "495          0.0        0.0  0.000000  ...         0.0   0.0   0.000000   \n",
              "496          0.0        0.0  0.059155  ...         0.0   0.0   0.000000   \n",
              "497          0.0        0.0  0.000000  ...         0.0   0.0   0.000000   \n",
              "498          0.0        0.0  0.000000  ...         0.0   0.0   0.000000   \n",
              "499          0.0        0.0  0.000000  ...         0.0   0.0   0.000000   \n",
              "\n",
              "     яростный  ярость  ясно  ясность  ясный  ячейка  ящик  \n",
              "0         0.0     0.0   0.0      0.0    0.0     0.0   0.0  \n",
              "1         0.0     0.0   0.0      0.0    0.0     0.0   0.0  \n",
              "2         0.0     0.0   0.0      0.0    0.0     0.0   0.0  \n",
              "3         0.0     0.0   0.0      0.0    0.0     0.0   0.0  \n",
              "4         0.0     0.0   0.0      0.0    0.0     0.0   0.0  \n",
              "..        ...     ...   ...      ...    ...     ...   ...  \n",
              "495       0.0     0.0   0.0      0.0    0.0     0.0   0.0  \n",
              "496       0.0     0.0   0.0      0.0    0.0     0.0   0.0  \n",
              "497       0.0     0.0   0.0      0.0    0.0     0.0   0.0  \n",
              "498       0.0     0.0   0.0      0.0    0.0     0.0   0.0  \n",
              "499       0.0     0.0   0.0      0.0    0.0     0.0   0.0  \n",
              "\n",
              "[500 rows x 7688 columns]"
            ],
            "text/html": [
              "\n",
              "  <div id=\"df-3be8f7a0-a3a3-41a6-872c-475a56367c64\">\n",
              "    <div class=\"colab-df-container\">\n",
              "      <div>\n",
              "<style scoped>\n",
              "    .dataframe tbody tr th:only-of-type {\n",
              "        vertical-align: middle;\n",
              "    }\n",
              "\n",
              "    .dataframe tbody tr th {\n",
              "        vertical-align: top;\n",
              "    }\n",
              "\n",
              "    .dataframe thead th {\n",
              "        text-align: right;\n",
              "    }\n",
              "</style>\n",
              "<table border=\"1\" class=\"dataframe\">\n",
              "  <thead>\n",
              "    <tr style=\"text-align: right;\">\n",
              "      <th></th>\n",
              "      <th>ааа</th>\n",
              "      <th>аба</th>\n",
              "      <th>абонент</th>\n",
              "      <th>абонентский</th>\n",
              "      <th>абсолют</th>\n",
              "      <th>абсолютно</th>\n",
              "      <th>абсолютный</th>\n",
              "      <th>абсурдность</th>\n",
              "      <th>абсурдный</th>\n",
              "      <th>ава</th>\n",
              "      <th>...</th>\n",
              "      <th>яперевести</th>\n",
              "      <th>ярко</th>\n",
              "      <th>ярославль</th>\n",
              "      <th>яростный</th>\n",
              "      <th>ярость</th>\n",
              "      <th>ясно</th>\n",
              "      <th>ясность</th>\n",
              "      <th>ясный</th>\n",
              "      <th>ячейка</th>\n",
              "      <th>ящик</th>\n",
              "    </tr>\n",
              "  </thead>\n",
              "  <tbody>\n",
              "    <tr>\n",
              "      <th>0</th>\n",
              "      <td>0.0</td>\n",
              "      <td>0.000000</td>\n",
              "      <td>0.0</td>\n",
              "      <td>0.0</td>\n",
              "      <td>0.0</td>\n",
              "      <td>0.000000</td>\n",
              "      <td>0.0</td>\n",
              "      <td>0.0</td>\n",
              "      <td>0.0</td>\n",
              "      <td>0.000000</td>\n",
              "      <td>...</td>\n",
              "      <td>0.0</td>\n",
              "      <td>0.0</td>\n",
              "      <td>0.000000</td>\n",
              "      <td>0.0</td>\n",
              "      <td>0.0</td>\n",
              "      <td>0.0</td>\n",
              "      <td>0.0</td>\n",
              "      <td>0.0</td>\n",
              "      <td>0.0</td>\n",
              "      <td>0.0</td>\n",
              "    </tr>\n",
              "    <tr>\n",
              "      <th>1</th>\n",
              "      <td>0.0</td>\n",
              "      <td>0.000000</td>\n",
              "      <td>0.0</td>\n",
              "      <td>0.0</td>\n",
              "      <td>0.0</td>\n",
              "      <td>0.000000</td>\n",
              "      <td>0.0</td>\n",
              "      <td>0.0</td>\n",
              "      <td>0.0</td>\n",
              "      <td>0.000000</td>\n",
              "      <td>...</td>\n",
              "      <td>0.0</td>\n",
              "      <td>0.0</td>\n",
              "      <td>0.000000</td>\n",
              "      <td>0.0</td>\n",
              "      <td>0.0</td>\n",
              "      <td>0.0</td>\n",
              "      <td>0.0</td>\n",
              "      <td>0.0</td>\n",
              "      <td>0.0</td>\n",
              "      <td>0.0</td>\n",
              "    </tr>\n",
              "    <tr>\n",
              "      <th>2</th>\n",
              "      <td>0.0</td>\n",
              "      <td>0.000000</td>\n",
              "      <td>0.0</td>\n",
              "      <td>0.0</td>\n",
              "      <td>0.0</td>\n",
              "      <td>0.000000</td>\n",
              "      <td>0.0</td>\n",
              "      <td>0.0</td>\n",
              "      <td>0.0</td>\n",
              "      <td>0.000000</td>\n",
              "      <td>...</td>\n",
              "      <td>0.0</td>\n",
              "      <td>0.0</td>\n",
              "      <td>0.056061</td>\n",
              "      <td>0.0</td>\n",
              "      <td>0.0</td>\n",
              "      <td>0.0</td>\n",
              "      <td>0.0</td>\n",
              "      <td>0.0</td>\n",
              "      <td>0.0</td>\n",
              "      <td>0.0</td>\n",
              "    </tr>\n",
              "    <tr>\n",
              "      <th>3</th>\n",
              "      <td>0.0</td>\n",
              "      <td>0.000000</td>\n",
              "      <td>0.0</td>\n",
              "      <td>0.0</td>\n",
              "      <td>0.0</td>\n",
              "      <td>0.000000</td>\n",
              "      <td>0.0</td>\n",
              "      <td>0.0</td>\n",
              "      <td>0.0</td>\n",
              "      <td>0.000000</td>\n",
              "      <td>...</td>\n",
              "      <td>0.0</td>\n",
              "      <td>0.0</td>\n",
              "      <td>0.000000</td>\n",
              "      <td>0.0</td>\n",
              "      <td>0.0</td>\n",
              "      <td>0.0</td>\n",
              "      <td>0.0</td>\n",
              "      <td>0.0</td>\n",
              "      <td>0.0</td>\n",
              "      <td>0.0</td>\n",
              "    </tr>\n",
              "    <tr>\n",
              "      <th>4</th>\n",
              "      <td>0.0</td>\n",
              "      <td>0.121526</td>\n",
              "      <td>0.0</td>\n",
              "      <td>0.0</td>\n",
              "      <td>0.0</td>\n",
              "      <td>0.000000</td>\n",
              "      <td>0.0</td>\n",
              "      <td>0.0</td>\n",
              "      <td>0.0</td>\n",
              "      <td>0.000000</td>\n",
              "      <td>...</td>\n",
              "      <td>0.0</td>\n",
              "      <td>0.0</td>\n",
              "      <td>0.000000</td>\n",
              "      <td>0.0</td>\n",
              "      <td>0.0</td>\n",
              "      <td>0.0</td>\n",
              "      <td>0.0</td>\n",
              "      <td>0.0</td>\n",
              "      <td>0.0</td>\n",
              "      <td>0.0</td>\n",
              "    </tr>\n",
              "    <tr>\n",
              "      <th>...</th>\n",
              "      <td>...</td>\n",
              "      <td>...</td>\n",
              "      <td>...</td>\n",
              "      <td>...</td>\n",
              "      <td>...</td>\n",
              "      <td>...</td>\n",
              "      <td>...</td>\n",
              "      <td>...</td>\n",
              "      <td>...</td>\n",
              "      <td>...</td>\n",
              "      <td>...</td>\n",
              "      <td>...</td>\n",
              "      <td>...</td>\n",
              "      <td>...</td>\n",
              "      <td>...</td>\n",
              "      <td>...</td>\n",
              "      <td>...</td>\n",
              "      <td>...</td>\n",
              "      <td>...</td>\n",
              "      <td>...</td>\n",
              "      <td>...</td>\n",
              "    </tr>\n",
              "    <tr>\n",
              "      <th>495</th>\n",
              "      <td>0.0</td>\n",
              "      <td>0.000000</td>\n",
              "      <td>0.0</td>\n",
              "      <td>0.0</td>\n",
              "      <td>0.0</td>\n",
              "      <td>0.000000</td>\n",
              "      <td>0.0</td>\n",
              "      <td>0.0</td>\n",
              "      <td>0.0</td>\n",
              "      <td>0.000000</td>\n",
              "      <td>...</td>\n",
              "      <td>0.0</td>\n",
              "      <td>0.0</td>\n",
              "      <td>0.000000</td>\n",
              "      <td>0.0</td>\n",
              "      <td>0.0</td>\n",
              "      <td>0.0</td>\n",
              "      <td>0.0</td>\n",
              "      <td>0.0</td>\n",
              "      <td>0.0</td>\n",
              "      <td>0.0</td>\n",
              "    </tr>\n",
              "    <tr>\n",
              "      <th>496</th>\n",
              "      <td>0.0</td>\n",
              "      <td>0.000000</td>\n",
              "      <td>0.0</td>\n",
              "      <td>0.0</td>\n",
              "      <td>0.0</td>\n",
              "      <td>0.036252</td>\n",
              "      <td>0.0</td>\n",
              "      <td>0.0</td>\n",
              "      <td>0.0</td>\n",
              "      <td>0.059155</td>\n",
              "      <td>...</td>\n",
              "      <td>0.0</td>\n",
              "      <td>0.0</td>\n",
              "      <td>0.000000</td>\n",
              "      <td>0.0</td>\n",
              "      <td>0.0</td>\n",
              "      <td>0.0</td>\n",
              "      <td>0.0</td>\n",
              "      <td>0.0</td>\n",
              "      <td>0.0</td>\n",
              "      <td>0.0</td>\n",
              "    </tr>\n",
              "    <tr>\n",
              "      <th>497</th>\n",
              "      <td>0.0</td>\n",
              "      <td>0.000000</td>\n",
              "      <td>0.0</td>\n",
              "      <td>0.0</td>\n",
              "      <td>0.0</td>\n",
              "      <td>0.000000</td>\n",
              "      <td>0.0</td>\n",
              "      <td>0.0</td>\n",
              "      <td>0.0</td>\n",
              "      <td>0.000000</td>\n",
              "      <td>...</td>\n",
              "      <td>0.0</td>\n",
              "      <td>0.0</td>\n",
              "      <td>0.000000</td>\n",
              "      <td>0.0</td>\n",
              "      <td>0.0</td>\n",
              "      <td>0.0</td>\n",
              "      <td>0.0</td>\n",
              "      <td>0.0</td>\n",
              "      <td>0.0</td>\n",
              "      <td>0.0</td>\n",
              "    </tr>\n",
              "    <tr>\n",
              "      <th>498</th>\n",
              "      <td>0.0</td>\n",
              "      <td>0.000000</td>\n",
              "      <td>0.0</td>\n",
              "      <td>0.0</td>\n",
              "      <td>0.0</td>\n",
              "      <td>0.000000</td>\n",
              "      <td>0.0</td>\n",
              "      <td>0.0</td>\n",
              "      <td>0.0</td>\n",
              "      <td>0.000000</td>\n",
              "      <td>...</td>\n",
              "      <td>0.0</td>\n",
              "      <td>0.0</td>\n",
              "      <td>0.000000</td>\n",
              "      <td>0.0</td>\n",
              "      <td>0.0</td>\n",
              "      <td>0.0</td>\n",
              "      <td>0.0</td>\n",
              "      <td>0.0</td>\n",
              "      <td>0.0</td>\n",
              "      <td>0.0</td>\n",
              "    </tr>\n",
              "    <tr>\n",
              "      <th>499</th>\n",
              "      <td>0.0</td>\n",
              "      <td>0.000000</td>\n",
              "      <td>0.0</td>\n",
              "      <td>0.0</td>\n",
              "      <td>0.0</td>\n",
              "      <td>0.000000</td>\n",
              "      <td>0.0</td>\n",
              "      <td>0.0</td>\n",
              "      <td>0.0</td>\n",
              "      <td>0.000000</td>\n",
              "      <td>...</td>\n",
              "      <td>0.0</td>\n",
              "      <td>0.0</td>\n",
              "      <td>0.000000</td>\n",
              "      <td>0.0</td>\n",
              "      <td>0.0</td>\n",
              "      <td>0.0</td>\n",
              "      <td>0.0</td>\n",
              "      <td>0.0</td>\n",
              "      <td>0.0</td>\n",
              "      <td>0.0</td>\n",
              "    </tr>\n",
              "  </tbody>\n",
              "</table>\n",
              "<p>500 rows × 7688 columns</p>\n",
              "</div>\n",
              "      <button class=\"colab-df-convert\" onclick=\"convertToInteractive('df-3be8f7a0-a3a3-41a6-872c-475a56367c64')\"\n",
              "              title=\"Convert this dataframe to an interactive table.\"\n",
              "              style=\"display:none;\">\n",
              "        \n",
              "  <svg xmlns=\"http://www.w3.org/2000/svg\" height=\"24px\"viewBox=\"0 0 24 24\"\n",
              "       width=\"24px\">\n",
              "    <path d=\"M0 0h24v24H0V0z\" fill=\"none\"/>\n",
              "    <path d=\"M18.56 5.44l.94 2.06.94-2.06 2.06-.94-2.06-.94-.94-2.06-.94 2.06-2.06.94zm-11 1L8.5 8.5l.94-2.06 2.06-.94-2.06-.94L8.5 2.5l-.94 2.06-2.06.94zm10 10l.94 2.06.94-2.06 2.06-.94-2.06-.94-.94-2.06-.94 2.06-2.06.94z\"/><path d=\"M17.41 7.96l-1.37-1.37c-.4-.4-.92-.59-1.43-.59-.52 0-1.04.2-1.43.59L10.3 9.45l-7.72 7.72c-.78.78-.78 2.05 0 2.83L4 21.41c.39.39.9.59 1.41.59.51 0 1.02-.2 1.41-.59l7.78-7.78 2.81-2.81c.8-.78.8-2.07 0-2.86zM5.41 20L4 18.59l7.72-7.72 1.47 1.35L5.41 20z\"/>\n",
              "  </svg>\n",
              "      </button>\n",
              "      \n",
              "  <style>\n",
              "    .colab-df-container {\n",
              "      display:flex;\n",
              "      flex-wrap:wrap;\n",
              "      gap: 12px;\n",
              "    }\n",
              "\n",
              "    .colab-df-convert {\n",
              "      background-color: #E8F0FE;\n",
              "      border: none;\n",
              "      border-radius: 50%;\n",
              "      cursor: pointer;\n",
              "      display: none;\n",
              "      fill: #1967D2;\n",
              "      height: 32px;\n",
              "      padding: 0 0 0 0;\n",
              "      width: 32px;\n",
              "    }\n",
              "\n",
              "    .colab-df-convert:hover {\n",
              "      background-color: #E2EBFA;\n",
              "      box-shadow: 0px 1px 2px rgba(60, 64, 67, 0.3), 0px 1px 3px 1px rgba(60, 64, 67, 0.15);\n",
              "      fill: #174EA6;\n",
              "    }\n",
              "\n",
              "    [theme=dark] .colab-df-convert {\n",
              "      background-color: #3B4455;\n",
              "      fill: #D2E3FC;\n",
              "    }\n",
              "\n",
              "    [theme=dark] .colab-df-convert:hover {\n",
              "      background-color: #434B5C;\n",
              "      box-shadow: 0px 1px 3px 1px rgba(0, 0, 0, 0.15);\n",
              "      filter: drop-shadow(0px 1px 2px rgba(0, 0, 0, 0.3));\n",
              "      fill: #FFFFFF;\n",
              "    }\n",
              "  </style>\n",
              "\n",
              "      <script>\n",
              "        const buttonEl =\n",
              "          document.querySelector('#df-3be8f7a0-a3a3-41a6-872c-475a56367c64 button.colab-df-convert');\n",
              "        buttonEl.style.display =\n",
              "          google.colab.kernel.accessAllowed ? 'block' : 'none';\n",
              "\n",
              "        async function convertToInteractive(key) {\n",
              "          const element = document.querySelector('#df-3be8f7a0-a3a3-41a6-872c-475a56367c64');\n",
              "          const dataTable =\n",
              "            await google.colab.kernel.invokeFunction('convertToInteractive',\n",
              "                                                     [key], {});\n",
              "          if (!dataTable) return;\n",
              "\n",
              "          const docLinkHtml = 'Like what you see? Visit the ' +\n",
              "            '<a target=\"_blank\" href=https://colab.research.google.com/notebooks/data_table.ipynb>data table notebook</a>'\n",
              "            + ' to learn more about interactive tables.';\n",
              "          element.innerHTML = '';\n",
              "          dataTable['output_type'] = 'display_data';\n",
              "          await google.colab.output.renderOutput(dataTable, element);\n",
              "          const docLink = document.createElement('div');\n",
              "          docLink.innerHTML = docLinkHtml;\n",
              "          element.appendChild(docLink);\n",
              "        }\n",
              "      </script>\n",
              "    </div>\n",
              "  </div>\n",
              "  "
            ]
          },
          "metadata": {},
          "execution_count": 93
        }
      ]
    },
    {
      "cell_type": "code",
      "source": [
        "# создание словарей из слов из ключевых слов\n",
        "vec_1 = {}\n",
        "vec_5 = {}\n",
        "for el in df_word_1.columns:\n",
        "    vec_1[el] = (df_word_1[el].max())\n",
        "for el in df_word_5.columns:\n",
        "    vec_5[el] = (df_word_5[el].max())\n",
        "\n",
        "# Сортировка полученных словарей по скору\n",
        "vec_1 = {k: v for k, v in sorted(vec_1.items(), key=lambda item: item[1], reverse=True)}\n",
        "vec_5 = {k: v for k, v in sorted(vec_5.items(), key=lambda item: item[1], reverse=True)}\n",
        "\n",
        "# получение датасетов с ключевыми словами\n",
        "r_1 = pd.DataFrame(data=vec_1, index=['score_1']).transpose()\n",
        "r_1['word_1'] = r_1.index\n",
        "r_1.reset_index(drop= True , inplace= True )\n",
        "\n",
        "r_5 = pd.DataFrame(data=vec_5, index=['score_5']).transpose()\n",
        "r_5['word_5'] = r_5.index\n",
        "r_5.reset_index(drop= True , inplace= True )"
      ],
      "metadata": {
        "id": "1vhlRqCgaCrf"
      },
      "execution_count": null,
      "outputs": []
    },
    {
      "cell_type": "code",
      "source": [
        "# результирующий датасет с 10 униграммами\n",
        "rank_word = pd.DataFrame({'word_with_5' : r_5.word_5[:10].tolist(), 'word_with_1' : r_1.word_1[:10].tolist()}, index = None)\n",
        "\n",
        "rank_word"
      ],
      "metadata": {
        "colab": {
          "base_uri": "https://localhost:8080/",
          "height": 363
        },
        "id": "JlhbLDoMj_lN",
        "outputId": "9864e3c7-b9c0-497a-dbd8-c0baae4c4553"
      },
      "execution_count": null,
      "outputs": [
        {
          "output_type": "execute_result",
          "data": {
            "text/plain": [
              "     word_with_5 word_with_1\n",
              "0            пай       вклад\n",
              "1    росавтобанк   страховка\n",
              "2           мама   закладная\n",
              "3       ожидание       токен\n",
              "4           миля    терминал\n",
              "5  пробизнесбанк   ренессанс\n",
              "6        пошлина     росбанк\n",
              "7       карточка       сокол\n",
              "8       поменять         кеб\n",
              "9          лимит        блиц"
            ],
            "text/html": [
              "\n",
              "  <div id=\"df-78eddb21-eb20-4ce0-b4ea-a4857999a7ba\">\n",
              "    <div class=\"colab-df-container\">\n",
              "      <div>\n",
              "<style scoped>\n",
              "    .dataframe tbody tr th:only-of-type {\n",
              "        vertical-align: middle;\n",
              "    }\n",
              "\n",
              "    .dataframe tbody tr th {\n",
              "        vertical-align: top;\n",
              "    }\n",
              "\n",
              "    .dataframe thead th {\n",
              "        text-align: right;\n",
              "    }\n",
              "</style>\n",
              "<table border=\"1\" class=\"dataframe\">\n",
              "  <thead>\n",
              "    <tr style=\"text-align: right;\">\n",
              "      <th></th>\n",
              "      <th>word_with_5</th>\n",
              "      <th>word_with_1</th>\n",
              "    </tr>\n",
              "  </thead>\n",
              "  <tbody>\n",
              "    <tr>\n",
              "      <th>0</th>\n",
              "      <td>пай</td>\n",
              "      <td>вклад</td>\n",
              "    </tr>\n",
              "    <tr>\n",
              "      <th>1</th>\n",
              "      <td>росавтобанк</td>\n",
              "      <td>страховка</td>\n",
              "    </tr>\n",
              "    <tr>\n",
              "      <th>2</th>\n",
              "      <td>мама</td>\n",
              "      <td>закладная</td>\n",
              "    </tr>\n",
              "    <tr>\n",
              "      <th>3</th>\n",
              "      <td>ожидание</td>\n",
              "      <td>токен</td>\n",
              "    </tr>\n",
              "    <tr>\n",
              "      <th>4</th>\n",
              "      <td>миля</td>\n",
              "      <td>терминал</td>\n",
              "    </tr>\n",
              "    <tr>\n",
              "      <th>5</th>\n",
              "      <td>пробизнесбанк</td>\n",
              "      <td>ренессанс</td>\n",
              "    </tr>\n",
              "    <tr>\n",
              "      <th>6</th>\n",
              "      <td>пошлина</td>\n",
              "      <td>росбанк</td>\n",
              "    </tr>\n",
              "    <tr>\n",
              "      <th>7</th>\n",
              "      <td>карточка</td>\n",
              "      <td>сокол</td>\n",
              "    </tr>\n",
              "    <tr>\n",
              "      <th>8</th>\n",
              "      <td>поменять</td>\n",
              "      <td>кеб</td>\n",
              "    </tr>\n",
              "    <tr>\n",
              "      <th>9</th>\n",
              "      <td>лимит</td>\n",
              "      <td>блиц</td>\n",
              "    </tr>\n",
              "  </tbody>\n",
              "</table>\n",
              "</div>\n",
              "      <button class=\"colab-df-convert\" onclick=\"convertToInteractive('df-78eddb21-eb20-4ce0-b4ea-a4857999a7ba')\"\n",
              "              title=\"Convert this dataframe to an interactive table.\"\n",
              "              style=\"display:none;\">\n",
              "        \n",
              "  <svg xmlns=\"http://www.w3.org/2000/svg\" height=\"24px\"viewBox=\"0 0 24 24\"\n",
              "       width=\"24px\">\n",
              "    <path d=\"M0 0h24v24H0V0z\" fill=\"none\"/>\n",
              "    <path d=\"M18.56 5.44l.94 2.06.94-2.06 2.06-.94-2.06-.94-.94-2.06-.94 2.06-2.06.94zm-11 1L8.5 8.5l.94-2.06 2.06-.94-2.06-.94L8.5 2.5l-.94 2.06-2.06.94zm10 10l.94 2.06.94-2.06 2.06-.94-2.06-.94-.94-2.06-.94 2.06-2.06.94z\"/><path d=\"M17.41 7.96l-1.37-1.37c-.4-.4-.92-.59-1.43-.59-.52 0-1.04.2-1.43.59L10.3 9.45l-7.72 7.72c-.78.78-.78 2.05 0 2.83L4 21.41c.39.39.9.59 1.41.59.51 0 1.02-.2 1.41-.59l7.78-7.78 2.81-2.81c.8-.78.8-2.07 0-2.86zM5.41 20L4 18.59l7.72-7.72 1.47 1.35L5.41 20z\"/>\n",
              "  </svg>\n",
              "      </button>\n",
              "      \n",
              "  <style>\n",
              "    .colab-df-container {\n",
              "      display:flex;\n",
              "      flex-wrap:wrap;\n",
              "      gap: 12px;\n",
              "    }\n",
              "\n",
              "    .colab-df-convert {\n",
              "      background-color: #E8F0FE;\n",
              "      border: none;\n",
              "      border-radius: 50%;\n",
              "      cursor: pointer;\n",
              "      display: none;\n",
              "      fill: #1967D2;\n",
              "      height: 32px;\n",
              "      padding: 0 0 0 0;\n",
              "      width: 32px;\n",
              "    }\n",
              "\n",
              "    .colab-df-convert:hover {\n",
              "      background-color: #E2EBFA;\n",
              "      box-shadow: 0px 1px 2px rgba(60, 64, 67, 0.3), 0px 1px 3px 1px rgba(60, 64, 67, 0.15);\n",
              "      fill: #174EA6;\n",
              "    }\n",
              "\n",
              "    [theme=dark] .colab-df-convert {\n",
              "      background-color: #3B4455;\n",
              "      fill: #D2E3FC;\n",
              "    }\n",
              "\n",
              "    [theme=dark] .colab-df-convert:hover {\n",
              "      background-color: #434B5C;\n",
              "      box-shadow: 0px 1px 3px 1px rgba(0, 0, 0, 0.15);\n",
              "      filter: drop-shadow(0px 1px 2px rgba(0, 0, 0, 0.3));\n",
              "      fill: #FFFFFF;\n",
              "    }\n",
              "  </style>\n",
              "\n",
              "      <script>\n",
              "        const buttonEl =\n",
              "          document.querySelector('#df-78eddb21-eb20-4ce0-b4ea-a4857999a7ba button.colab-df-convert');\n",
              "        buttonEl.style.display =\n",
              "          google.colab.kernel.accessAllowed ? 'block' : 'none';\n",
              "\n",
              "        async function convertToInteractive(key) {\n",
              "          const element = document.querySelector('#df-78eddb21-eb20-4ce0-b4ea-a4857999a7ba');\n",
              "          const dataTable =\n",
              "            await google.colab.kernel.invokeFunction('convertToInteractive',\n",
              "                                                     [key], {});\n",
              "          if (!dataTable) return;\n",
              "\n",
              "          const docLinkHtml = 'Like what you see? Visit the ' +\n",
              "            '<a target=\"_blank\" href=https://colab.research.google.com/notebooks/data_table.ipynb>data table notebook</a>'\n",
              "            + ' to learn more about interactive tables.';\n",
              "          element.innerHTML = '';\n",
              "          dataTable['output_type'] = 'display_data';\n",
              "          await google.colab.output.renderOutput(dataTable, element);\n",
              "          const docLink = document.createElement('div');\n",
              "          docLink.innerHTML = docLinkHtml;\n",
              "          element.appendChild(docLink);\n",
              "        }\n",
              "      </script>\n",
              "    </div>\n",
              "  </div>\n",
              "  "
            ]
          },
          "metadata": {},
          "execution_count": 22
        }
      ]
    },
    {
      "cell_type": "code",
      "source": [
        "# извлечение биграмм с рейтингом 1\n",
        "vectorizer = TfidfVectorizer(analyzer='word', ngram_range=(2,2), min_df = 0)\n",
        "vectors = vectorizer.fit_transform(df_1.text)\n",
        "bigr = vectorizer.get_feature_names_out()\n",
        "data = vectors.todense().tolist()\n",
        "df_bigr_1 = pd.DataFrame(data, columns=bigr)\n",
        "\n",
        "# извлечение биграмм с рейтингом 5\n",
        "vectorizer = TfidfVectorizer(analyzer='word', ngram_range=(2,2), min_df = 0)\n",
        "vectors = vectorizer.fit_transform(df_5.text)\n",
        "bigr = vectorizer.get_feature_names_out()\n",
        "data = vectors.todense().tolist()\n",
        "df_bigr_5 = pd.DataFrame(data, columns=bigr)"
      ],
      "metadata": {
        "id": "T8AAI2Xe0SLw"
      },
      "execution_count": null,
      "outputs": []
    },
    {
      "cell_type": "code",
      "source": [
        "# создание словарей из слов из ключевых слов\n",
        "vec_1 = {}\n",
        "vec_5 = {}\n",
        "for el in df_bigr_1.columns:\n",
        "    vec_1[el] = (df_bigr_1[el].max())\n",
        "for el in df_bigr_5.columns:\n",
        "    vec_5[el] = (df_bigr_5[el].max())\n",
        "\n",
        "# Сортировка полученных словарей по скору\n",
        "vec_1 = {k: v for k, v in sorted(vec_1.items(), key=lambda item: item[1], reverse=True)}\n",
        "vec_5 = {k: v for k, v in sorted(vec_5.items(), key=lambda item: item[1], reverse=True)}\n",
        "\n",
        "# получение датасетов с биграммами\n",
        "r_1 = pd.DataFrame(data=vec_1, index=['score_1']).transpose()\n",
        "r_1['bigr_1'] = r_1.index\n",
        "r_1.reset_index(drop= True , inplace= True )\n",
        "\n",
        "r_5 = pd.DataFrame(data=vec_5, index=['score_5']).transpose()\n",
        "r_5['bigr_5'] = r_5.index\n",
        "r_5.reset_index(drop= True , inplace= True )"
      ],
      "metadata": {
        "id": "4Je657Dc0wlk"
      },
      "execution_count": null,
      "outputs": []
    },
    {
      "cell_type": "code",
      "source": [
        "# результирующий датасет с 10 биграммами\n",
        "rank_bigr = pd.DataFrame({'bigr_with_5' : r_5.bigr_5[:10].tolist(), 'bigr_with_1' : r_1.bigr_1[:10].tolist()}, index = None)\n",
        "\n",
        "rank_bigr"
      ],
      "metadata": {
        "colab": {
          "base_uri": "https://localhost:8080/",
          "height": 363
        },
        "id": "blFM93br0018",
        "outputId": "d37ef128-f386-4c5d-8c57-4ea35fd59790"
      },
      "execution_count": null,
      "outputs": [
        {
          "output_type": "execute_result",
          "data": {
            "text/plain": [
              "                   bigr_with_5        bigr_with_1\n",
              "0               учётный запись            ооо хкф\n",
              "1                 процент счёт      бонусный счёт\n",
              "2              балтийский банк           хкф банк\n",
              "3               зелёный листик       вклад валюта\n",
              "4           муниципальный банк    месячный платёж\n",
              "5  новосибирский муниципальный       абсолют банк\n",
              "6                эстейт сервис        сравнить ва\n",
              "7              ольга сергеевич  валютный контроль\n",
              "8                   альфа банк          новый год\n",
              "9              кредит наличные    пожилое человек"
            ],
            "text/html": [
              "\n",
              "  <div id=\"df-09f1c879-faff-49f9-b2f4-40e290611868\">\n",
              "    <div class=\"colab-df-container\">\n",
              "      <div>\n",
              "<style scoped>\n",
              "    .dataframe tbody tr th:only-of-type {\n",
              "        vertical-align: middle;\n",
              "    }\n",
              "\n",
              "    .dataframe tbody tr th {\n",
              "        vertical-align: top;\n",
              "    }\n",
              "\n",
              "    .dataframe thead th {\n",
              "        text-align: right;\n",
              "    }\n",
              "</style>\n",
              "<table border=\"1\" class=\"dataframe\">\n",
              "  <thead>\n",
              "    <tr style=\"text-align: right;\">\n",
              "      <th></th>\n",
              "      <th>bigr_with_5</th>\n",
              "      <th>bigr_with_1</th>\n",
              "    </tr>\n",
              "  </thead>\n",
              "  <tbody>\n",
              "    <tr>\n",
              "      <th>0</th>\n",
              "      <td>учётный запись</td>\n",
              "      <td>ооо хкф</td>\n",
              "    </tr>\n",
              "    <tr>\n",
              "      <th>1</th>\n",
              "      <td>процент счёт</td>\n",
              "      <td>бонусный счёт</td>\n",
              "    </tr>\n",
              "    <tr>\n",
              "      <th>2</th>\n",
              "      <td>балтийский банк</td>\n",
              "      <td>хкф банк</td>\n",
              "    </tr>\n",
              "    <tr>\n",
              "      <th>3</th>\n",
              "      <td>зелёный листик</td>\n",
              "      <td>вклад валюта</td>\n",
              "    </tr>\n",
              "    <tr>\n",
              "      <th>4</th>\n",
              "      <td>муниципальный банк</td>\n",
              "      <td>месячный платёж</td>\n",
              "    </tr>\n",
              "    <tr>\n",
              "      <th>5</th>\n",
              "      <td>новосибирский муниципальный</td>\n",
              "      <td>абсолют банк</td>\n",
              "    </tr>\n",
              "    <tr>\n",
              "      <th>6</th>\n",
              "      <td>эстейт сервис</td>\n",
              "      <td>сравнить ва</td>\n",
              "    </tr>\n",
              "    <tr>\n",
              "      <th>7</th>\n",
              "      <td>ольга сергеевич</td>\n",
              "      <td>валютный контроль</td>\n",
              "    </tr>\n",
              "    <tr>\n",
              "      <th>8</th>\n",
              "      <td>альфа банк</td>\n",
              "      <td>новый год</td>\n",
              "    </tr>\n",
              "    <tr>\n",
              "      <th>9</th>\n",
              "      <td>кредит наличные</td>\n",
              "      <td>пожилое человек</td>\n",
              "    </tr>\n",
              "  </tbody>\n",
              "</table>\n",
              "</div>\n",
              "      <button class=\"colab-df-convert\" onclick=\"convertToInteractive('df-09f1c879-faff-49f9-b2f4-40e290611868')\"\n",
              "              title=\"Convert this dataframe to an interactive table.\"\n",
              "              style=\"display:none;\">\n",
              "        \n",
              "  <svg xmlns=\"http://www.w3.org/2000/svg\" height=\"24px\"viewBox=\"0 0 24 24\"\n",
              "       width=\"24px\">\n",
              "    <path d=\"M0 0h24v24H0V0z\" fill=\"none\"/>\n",
              "    <path d=\"M18.56 5.44l.94 2.06.94-2.06 2.06-.94-2.06-.94-.94-2.06-.94 2.06-2.06.94zm-11 1L8.5 8.5l.94-2.06 2.06-.94-2.06-.94L8.5 2.5l-.94 2.06-2.06.94zm10 10l.94 2.06.94-2.06 2.06-.94-2.06-.94-.94-2.06-.94 2.06-2.06.94z\"/><path d=\"M17.41 7.96l-1.37-1.37c-.4-.4-.92-.59-1.43-.59-.52 0-1.04.2-1.43.59L10.3 9.45l-7.72 7.72c-.78.78-.78 2.05 0 2.83L4 21.41c.39.39.9.59 1.41.59.51 0 1.02-.2 1.41-.59l7.78-7.78 2.81-2.81c.8-.78.8-2.07 0-2.86zM5.41 20L4 18.59l7.72-7.72 1.47 1.35L5.41 20z\"/>\n",
              "  </svg>\n",
              "      </button>\n",
              "      \n",
              "  <style>\n",
              "    .colab-df-container {\n",
              "      display:flex;\n",
              "      flex-wrap:wrap;\n",
              "      gap: 12px;\n",
              "    }\n",
              "\n",
              "    .colab-df-convert {\n",
              "      background-color: #E8F0FE;\n",
              "      border: none;\n",
              "      border-radius: 50%;\n",
              "      cursor: pointer;\n",
              "      display: none;\n",
              "      fill: #1967D2;\n",
              "      height: 32px;\n",
              "      padding: 0 0 0 0;\n",
              "      width: 32px;\n",
              "    }\n",
              "\n",
              "    .colab-df-convert:hover {\n",
              "      background-color: #E2EBFA;\n",
              "      box-shadow: 0px 1px 2px rgba(60, 64, 67, 0.3), 0px 1px 3px 1px rgba(60, 64, 67, 0.15);\n",
              "      fill: #174EA6;\n",
              "    }\n",
              "\n",
              "    [theme=dark] .colab-df-convert {\n",
              "      background-color: #3B4455;\n",
              "      fill: #D2E3FC;\n",
              "    }\n",
              "\n",
              "    [theme=dark] .colab-df-convert:hover {\n",
              "      background-color: #434B5C;\n",
              "      box-shadow: 0px 1px 3px 1px rgba(0, 0, 0, 0.15);\n",
              "      filter: drop-shadow(0px 1px 2px rgba(0, 0, 0, 0.3));\n",
              "      fill: #FFFFFF;\n",
              "    }\n",
              "  </style>\n",
              "\n",
              "      <script>\n",
              "        const buttonEl =\n",
              "          document.querySelector('#df-09f1c879-faff-49f9-b2f4-40e290611868 button.colab-df-convert');\n",
              "        buttonEl.style.display =\n",
              "          google.colab.kernel.accessAllowed ? 'block' : 'none';\n",
              "\n",
              "        async function convertToInteractive(key) {\n",
              "          const element = document.querySelector('#df-09f1c879-faff-49f9-b2f4-40e290611868');\n",
              "          const dataTable =\n",
              "            await google.colab.kernel.invokeFunction('convertToInteractive',\n",
              "                                                     [key], {});\n",
              "          if (!dataTable) return;\n",
              "\n",
              "          const docLinkHtml = 'Like what you see? Visit the ' +\n",
              "            '<a target=\"_blank\" href=https://colab.research.google.com/notebooks/data_table.ipynb>data table notebook</a>'\n",
              "            + ' to learn more about interactive tables.';\n",
              "          element.innerHTML = '';\n",
              "          dataTable['output_type'] = 'display_data';\n",
              "          await google.colab.output.renderOutput(dataTable, element);\n",
              "          const docLink = document.createElement('div');\n",
              "          docLink.innerHTML = docLinkHtml;\n",
              "          element.appendChild(docLink);\n",
              "        }\n",
              "      </script>\n",
              "    </div>\n",
              "  </div>\n",
              "  "
            ]
          },
          "metadata": {},
          "execution_count": 24
        }
      ]
    },
    {
      "cell_type": "markdown",
      "source": [
        "## Часть 2. Тематическое моделирование\n",
        "    Эта часть задания может быть сделана с использованием gensim."
      ],
      "metadata": {
        "id": "eZXx8dQ4NlJ8"
      }
    },
    {
      "cell_type": "markdown",
      "source": [
        "\n",
        "### 1.Постройте несколько тематических моделей коллекции документов с разным числом тем. Приведите примеры понятных (интерпретируемых) тем.\n",
        "\n"
      ],
      "metadata": {
        "id": "HLQJwY8S6osm"
      }
    },
    {
      "cell_type": "code",
      "source": [
        "from gensim.corpora import Dictionary\n",
        "from gensim.models import TfidfModel\n",
        "from gensim import similarities\n",
        "import gensim.corpora as corpora"
      ],
      "metadata": {
        "id": "xsJ0fCgb6up3"
      },
      "execution_count": null,
      "outputs": []
    },
    {
      "cell_type": "code",
      "source": [
        "df_theme = pd.DataFrame.from_dict(responses)"
      ],
      "metadata": {
        "id": "BptKnMXV-khB"
      },
      "execution_count": null,
      "outputs": []
    },
    {
      "cell_type": "code",
      "source": [
        "df_theme.text"
      ],
      "metadata": {
        "colab": {
          "base_uri": "https://localhost:8080/"
        },
        "id": "Hr5ppP01-mA4",
        "outputId": "4ff8e014-97c6-4b8a-bc1e-dbc14d013cf1"
      },
      "execution_count": null,
      "outputs": [
        {
          "output_type": "execute_result",
          "data": {
            "text/plain": [
              "0         Добрый день! Я не являюсь клиентом банка и пор...\n",
              "1         Доброго дня! Являюсь держателем зарплатной кар...\n",
              "2         Здравствуйте!  Дублирую свое заявление от 03.0...\n",
              "3         Добрый день!! Я открыл расчетный счет в СберБа...\n",
              "4         04.03.2015 г. взяла кредит в вашем банке, заяв...\n",
              "                                ...                        \n",
              "153494    Слишком большой банк, не всегда учитывает нашу...\n",
              "153495    Вы сами виноваты в своих проблемах, кроме пред...\n",
              "153496    Уважаемое руководство банка «ОВК»! Я проживаю ...\n",
              "153497    Пробовала 10.04.05 оформить товар в кредит в А...\n",
              "153498    Если коротко, то мне нравится. Кридит получать...\n",
              "Name: text, Length: 153499, dtype: object"
            ]
          },
          "metadata": {},
          "execution_count": 31
        }
      ]
    },
    {
      "cell_type": "code",
      "source": [
        "# Оставим 1000 строк и столбцы с отзывами и рейтингом\n",
        "df_theme = df_theme[['title', 'text', 'rating_grade']].sample(1000)\n",
        "df_theme"
      ],
      "metadata": {
        "colab": {
          "base_uri": "https://localhost:8080/",
          "height": 424
        },
        "id": "JFCQ8etZ_1J4",
        "outputId": "0f3478bd-19b0-4370-c199-ad3a158a85c6"
      },
      "execution_count": null,
      "outputs": [
        {
          "output_type": "execute_result",
          "data": {
            "text/plain": [
              "                                              title  \\\n",
              "129616                            \"Заморозка денег\"   \n",
              "83469                    Осторожно! Кредитные карты   \n",
              "95005                                 Отличный банк   \n",
              "55043   ВТБ специально набирает в Колл-центр хамов?   \n",
              "102837            Еде одна бочка дёгтя в ложке мёда   \n",
              "...                                             ...   \n",
              "23638                    Долговая яма без моей воли   \n",
              "127775                 Учитесь быть профессионалами   \n",
              "118392                  Некомпетентность или обман?   \n",
              "100057                    Кредитная карта не выдана   \n",
              "123640                  Отвратительное обслуживание   \n",
              "\n",
              "                                                     text  rating_grade  \n",
              "129616  Был в магазине, решил оплатить покупку картой....           2.0  \n",
              "83469   В аэропорту Курумоч представитель банка оформи...           2.0  \n",
              "95005   Недавно подумал, что нужно на банки.ру написат...           NaN  \n",
              "55043   Интересно, сотрудников Колл-центра ВТБ кто-то ...           1.0  \n",
              "102837  С нами произошла та же история, что и с множес...           1.0  \n",
              "...                                                   ...           ...  \n",
              "23638   6 декабря 2014 года в ИКЕЕ-Белая Дача (Люберец...           5.0  \n",
              "127775  Мне не нравится не сам банк, а то, как там не ...           1.0  \n",
              "118392  22 сентября 2011 года я пришла в Альфа-Банк (Д...           1.0  \n",
              "100057  Здравствуйте! Где-то в июле потерял молодежную...           3.0  \n",
              "123640  Сегодня днем потерял более 45 минут для получе...           1.0  \n",
              "\n",
              "[1000 rows x 3 columns]"
            ],
            "text/html": [
              "\n",
              "  <div id=\"df-925c7baa-8b46-4221-aea5-c6844d739404\">\n",
              "    <div class=\"colab-df-container\">\n",
              "      <div>\n",
              "<style scoped>\n",
              "    .dataframe tbody tr th:only-of-type {\n",
              "        vertical-align: middle;\n",
              "    }\n",
              "\n",
              "    .dataframe tbody tr th {\n",
              "        vertical-align: top;\n",
              "    }\n",
              "\n",
              "    .dataframe thead th {\n",
              "        text-align: right;\n",
              "    }\n",
              "</style>\n",
              "<table border=\"1\" class=\"dataframe\">\n",
              "  <thead>\n",
              "    <tr style=\"text-align: right;\">\n",
              "      <th></th>\n",
              "      <th>title</th>\n",
              "      <th>text</th>\n",
              "      <th>rating_grade</th>\n",
              "    </tr>\n",
              "  </thead>\n",
              "  <tbody>\n",
              "    <tr>\n",
              "      <th>129616</th>\n",
              "      <td>\"Заморозка денег\"</td>\n",
              "      <td>Был в магазине, решил оплатить покупку картой....</td>\n",
              "      <td>2.0</td>\n",
              "    </tr>\n",
              "    <tr>\n",
              "      <th>83469</th>\n",
              "      <td>Осторожно! Кредитные карты</td>\n",
              "      <td>В аэропорту Курумоч представитель банка оформи...</td>\n",
              "      <td>2.0</td>\n",
              "    </tr>\n",
              "    <tr>\n",
              "      <th>95005</th>\n",
              "      <td>Отличный банк</td>\n",
              "      <td>Недавно подумал, что нужно на банки.ру написат...</td>\n",
              "      <td>NaN</td>\n",
              "    </tr>\n",
              "    <tr>\n",
              "      <th>55043</th>\n",
              "      <td>ВТБ специально набирает в Колл-центр хамов?</td>\n",
              "      <td>Интересно, сотрудников Колл-центра ВТБ кто-то ...</td>\n",
              "      <td>1.0</td>\n",
              "    </tr>\n",
              "    <tr>\n",
              "      <th>102837</th>\n",
              "      <td>Еде одна бочка дёгтя в ложке мёда</td>\n",
              "      <td>С нами произошла та же история, что и с множес...</td>\n",
              "      <td>1.0</td>\n",
              "    </tr>\n",
              "    <tr>\n",
              "      <th>...</th>\n",
              "      <td>...</td>\n",
              "      <td>...</td>\n",
              "      <td>...</td>\n",
              "    </tr>\n",
              "    <tr>\n",
              "      <th>23638</th>\n",
              "      <td>Долговая яма без моей воли</td>\n",
              "      <td>6 декабря 2014 года в ИКЕЕ-Белая Дача (Люберец...</td>\n",
              "      <td>5.0</td>\n",
              "    </tr>\n",
              "    <tr>\n",
              "      <th>127775</th>\n",
              "      <td>Учитесь быть профессионалами</td>\n",
              "      <td>Мне не нравится не сам банк, а то, как там не ...</td>\n",
              "      <td>1.0</td>\n",
              "    </tr>\n",
              "    <tr>\n",
              "      <th>118392</th>\n",
              "      <td>Некомпетентность или обман?</td>\n",
              "      <td>22 сентября 2011 года я пришла в Альфа-Банк (Д...</td>\n",
              "      <td>1.0</td>\n",
              "    </tr>\n",
              "    <tr>\n",
              "      <th>100057</th>\n",
              "      <td>Кредитная карта не выдана</td>\n",
              "      <td>Здравствуйте! Где-то в июле потерял молодежную...</td>\n",
              "      <td>3.0</td>\n",
              "    </tr>\n",
              "    <tr>\n",
              "      <th>123640</th>\n",
              "      <td>Отвратительное обслуживание</td>\n",
              "      <td>Сегодня днем потерял более 45 минут для получе...</td>\n",
              "      <td>1.0</td>\n",
              "    </tr>\n",
              "  </tbody>\n",
              "</table>\n",
              "<p>1000 rows × 3 columns</p>\n",
              "</div>\n",
              "      <button class=\"colab-df-convert\" onclick=\"convertToInteractive('df-925c7baa-8b46-4221-aea5-c6844d739404')\"\n",
              "              title=\"Convert this dataframe to an interactive table.\"\n",
              "              style=\"display:none;\">\n",
              "        \n",
              "  <svg xmlns=\"http://www.w3.org/2000/svg\" height=\"24px\"viewBox=\"0 0 24 24\"\n",
              "       width=\"24px\">\n",
              "    <path d=\"M0 0h24v24H0V0z\" fill=\"none\"/>\n",
              "    <path d=\"M18.56 5.44l.94 2.06.94-2.06 2.06-.94-2.06-.94-.94-2.06-.94 2.06-2.06.94zm-11 1L8.5 8.5l.94-2.06 2.06-.94-2.06-.94L8.5 2.5l-.94 2.06-2.06.94zm10 10l.94 2.06.94-2.06 2.06-.94-2.06-.94-.94-2.06-.94 2.06-2.06.94z\"/><path d=\"M17.41 7.96l-1.37-1.37c-.4-.4-.92-.59-1.43-.59-.52 0-1.04.2-1.43.59L10.3 9.45l-7.72 7.72c-.78.78-.78 2.05 0 2.83L4 21.41c.39.39.9.59 1.41.59.51 0 1.02-.2 1.41-.59l7.78-7.78 2.81-2.81c.8-.78.8-2.07 0-2.86zM5.41 20L4 18.59l7.72-7.72 1.47 1.35L5.41 20z\"/>\n",
              "  </svg>\n",
              "      </button>\n",
              "      \n",
              "  <style>\n",
              "    .colab-df-container {\n",
              "      display:flex;\n",
              "      flex-wrap:wrap;\n",
              "      gap: 12px;\n",
              "    }\n",
              "\n",
              "    .colab-df-convert {\n",
              "      background-color: #E8F0FE;\n",
              "      border: none;\n",
              "      border-radius: 50%;\n",
              "      cursor: pointer;\n",
              "      display: none;\n",
              "      fill: #1967D2;\n",
              "      height: 32px;\n",
              "      padding: 0 0 0 0;\n",
              "      width: 32px;\n",
              "    }\n",
              "\n",
              "    .colab-df-convert:hover {\n",
              "      background-color: #E2EBFA;\n",
              "      box-shadow: 0px 1px 2px rgba(60, 64, 67, 0.3), 0px 1px 3px 1px rgba(60, 64, 67, 0.15);\n",
              "      fill: #174EA6;\n",
              "    }\n",
              "\n",
              "    [theme=dark] .colab-df-convert {\n",
              "      background-color: #3B4455;\n",
              "      fill: #D2E3FC;\n",
              "    }\n",
              "\n",
              "    [theme=dark] .colab-df-convert:hover {\n",
              "      background-color: #434B5C;\n",
              "      box-shadow: 0px 1px 3px 1px rgba(0, 0, 0, 0.15);\n",
              "      filter: drop-shadow(0px 1px 2px rgba(0, 0, 0, 0.3));\n",
              "      fill: #FFFFFF;\n",
              "    }\n",
              "  </style>\n",
              "\n",
              "      <script>\n",
              "        const buttonEl =\n",
              "          document.querySelector('#df-925c7baa-8b46-4221-aea5-c6844d739404 button.colab-df-convert');\n",
              "        buttonEl.style.display =\n",
              "          google.colab.kernel.accessAllowed ? 'block' : 'none';\n",
              "\n",
              "        async function convertToInteractive(key) {\n",
              "          const element = document.querySelector('#df-925c7baa-8b46-4221-aea5-c6844d739404');\n",
              "          const dataTable =\n",
              "            await google.colab.kernel.invokeFunction('convertToInteractive',\n",
              "                                                     [key], {});\n",
              "          if (!dataTable) return;\n",
              "\n",
              "          const docLinkHtml = 'Like what you see? Visit the ' +\n",
              "            '<a target=\"_blank\" href=https://colab.research.google.com/notebooks/data_table.ipynb>data table notebook</a>'\n",
              "            + ' to learn more about interactive tables.';\n",
              "          element.innerHTML = '';\n",
              "          dataTable['output_type'] = 'display_data';\n",
              "          await google.colab.output.renderOutput(dataTable, element);\n",
              "          const docLink = document.createElement('div');\n",
              "          docLink.innerHTML = docLinkHtml;\n",
              "          element.appendChild(docLink);\n",
              "        }\n",
              "      </script>\n",
              "    </div>\n",
              "  </div>\n",
              "  "
            ]
          },
          "metadata": {},
          "execution_count": 16
        }
      ]
    },
    {
      "cell_type": "code",
      "source": [
        "# препроцессинг\n",
        "df_theme.text = df_theme.text.astype('str').progress_apply(preprocess)"
      ],
      "metadata": {
        "colab": {
          "base_uri": "https://localhost:8080/"
        },
        "id": "H0m0CkKS-oNf",
        "outputId": "632b0c3a-8e14-4e42-f426-10a2065dd554"
      },
      "execution_count": null,
      "outputs": [
        {
          "output_type": "stream",
          "name": "stderr",
          "text": [
            "100%|██████████| 1000/1000 [01:16<00:00, 13.02it/s]\n"
          ]
        }
      ]
    },
    {
      "cell_type": "code",
      "source": [
        "df_theme"
      ],
      "metadata": {
        "colab": {
          "base_uri": "https://localhost:8080/",
          "height": 424
        },
        "id": "PYPjaqPHBOa8",
        "outputId": "e3230c33-1574-4905-9cc8-f2be619c5db6"
      },
      "execution_count": null,
      "outputs": [
        {
          "output_type": "execute_result",
          "data": {
            "text/plain": [
              "                                              title  \\\n",
              "129616                            \"Заморозка денег\"   \n",
              "83469                    Осторожно! Кредитные карты   \n",
              "95005                                 Отличный банк   \n",
              "55043   ВТБ специально набирает в Колл-центр хамов?   \n",
              "102837            Еде одна бочка дёгтя в ложке мёда   \n",
              "...                                             ...   \n",
              "23638                    Долговая яма без моей воли   \n",
              "127775                 Учитесь быть профессионалами   \n",
              "118392                  Некомпетентность или обман?   \n",
              "100057                    Кредитная карта не выдана   \n",
              "123640                  Отвратительное обслуживание   \n",
              "\n",
              "                                                     text  rating_grade  \n",
              "129616  магазин решить оплатить покупка карта долго пр...           2.0  \n",
              "83469   аэропорт курумочий представитель банк оформить...           2.0  \n",
              "95005   недавно подумать нужно банк ру написать близки...           NaN  \n",
              "55043   интересно сотрудник колл центр втб учить общат...           1.0  \n",
              "102837  произойти история множество взять кредит понач...           1.0  \n",
              "...                                                   ...           ...  \n",
              "23638   декабрь год икея белый дача люберецкий район г...           5.0  \n",
              "127775  нравиться банк учить сотрудник работать клиент...           1.0  \n",
              "118392  сентябрь год прийти альфа банк балтийский адре...           1.0  \n",
              "100057  здравствуйте июль потерять молодёжный карта сб...           3.0  \n",
              "123640  сегодня день потерять минута получение вклад и...           1.0  \n",
              "\n",
              "[1000 rows x 3 columns]"
            ],
            "text/html": [
              "\n",
              "  <div id=\"df-22503437-6cae-4d8b-9486-a9eac50dc7ae\">\n",
              "    <div class=\"colab-df-container\">\n",
              "      <div>\n",
              "<style scoped>\n",
              "    .dataframe tbody tr th:only-of-type {\n",
              "        vertical-align: middle;\n",
              "    }\n",
              "\n",
              "    .dataframe tbody tr th {\n",
              "        vertical-align: top;\n",
              "    }\n",
              "\n",
              "    .dataframe thead th {\n",
              "        text-align: right;\n",
              "    }\n",
              "</style>\n",
              "<table border=\"1\" class=\"dataframe\">\n",
              "  <thead>\n",
              "    <tr style=\"text-align: right;\">\n",
              "      <th></th>\n",
              "      <th>title</th>\n",
              "      <th>text</th>\n",
              "      <th>rating_grade</th>\n",
              "    </tr>\n",
              "  </thead>\n",
              "  <tbody>\n",
              "    <tr>\n",
              "      <th>129616</th>\n",
              "      <td>\"Заморозка денег\"</td>\n",
              "      <td>магазин решить оплатить покупка карта долго пр...</td>\n",
              "      <td>2.0</td>\n",
              "    </tr>\n",
              "    <tr>\n",
              "      <th>83469</th>\n",
              "      <td>Осторожно! Кредитные карты</td>\n",
              "      <td>аэропорт курумочий представитель банк оформить...</td>\n",
              "      <td>2.0</td>\n",
              "    </tr>\n",
              "    <tr>\n",
              "      <th>95005</th>\n",
              "      <td>Отличный банк</td>\n",
              "      <td>недавно подумать нужно банк ру написать близки...</td>\n",
              "      <td>NaN</td>\n",
              "    </tr>\n",
              "    <tr>\n",
              "      <th>55043</th>\n",
              "      <td>ВТБ специально набирает в Колл-центр хамов?</td>\n",
              "      <td>интересно сотрудник колл центр втб учить общат...</td>\n",
              "      <td>1.0</td>\n",
              "    </tr>\n",
              "    <tr>\n",
              "      <th>102837</th>\n",
              "      <td>Еде одна бочка дёгтя в ложке мёда</td>\n",
              "      <td>произойти история множество взять кредит понач...</td>\n",
              "      <td>1.0</td>\n",
              "    </tr>\n",
              "    <tr>\n",
              "      <th>...</th>\n",
              "      <td>...</td>\n",
              "      <td>...</td>\n",
              "      <td>...</td>\n",
              "    </tr>\n",
              "    <tr>\n",
              "      <th>23638</th>\n",
              "      <td>Долговая яма без моей воли</td>\n",
              "      <td>декабрь год икея белый дача люберецкий район г...</td>\n",
              "      <td>5.0</td>\n",
              "    </tr>\n",
              "    <tr>\n",
              "      <th>127775</th>\n",
              "      <td>Учитесь быть профессионалами</td>\n",
              "      <td>нравиться банк учить сотрудник работать клиент...</td>\n",
              "      <td>1.0</td>\n",
              "    </tr>\n",
              "    <tr>\n",
              "      <th>118392</th>\n",
              "      <td>Некомпетентность или обман?</td>\n",
              "      <td>сентябрь год прийти альфа банк балтийский адре...</td>\n",
              "      <td>1.0</td>\n",
              "    </tr>\n",
              "    <tr>\n",
              "      <th>100057</th>\n",
              "      <td>Кредитная карта не выдана</td>\n",
              "      <td>здравствуйте июль потерять молодёжный карта сб...</td>\n",
              "      <td>3.0</td>\n",
              "    </tr>\n",
              "    <tr>\n",
              "      <th>123640</th>\n",
              "      <td>Отвратительное обслуживание</td>\n",
              "      <td>сегодня день потерять минута получение вклад и...</td>\n",
              "      <td>1.0</td>\n",
              "    </tr>\n",
              "  </tbody>\n",
              "</table>\n",
              "<p>1000 rows × 3 columns</p>\n",
              "</div>\n",
              "      <button class=\"colab-df-convert\" onclick=\"convertToInteractive('df-22503437-6cae-4d8b-9486-a9eac50dc7ae')\"\n",
              "              title=\"Convert this dataframe to an interactive table.\"\n",
              "              style=\"display:none;\">\n",
              "        \n",
              "  <svg xmlns=\"http://www.w3.org/2000/svg\" height=\"24px\"viewBox=\"0 0 24 24\"\n",
              "       width=\"24px\">\n",
              "    <path d=\"M0 0h24v24H0V0z\" fill=\"none\"/>\n",
              "    <path d=\"M18.56 5.44l.94 2.06.94-2.06 2.06-.94-2.06-.94-.94-2.06-.94 2.06-2.06.94zm-11 1L8.5 8.5l.94-2.06 2.06-.94-2.06-.94L8.5 2.5l-.94 2.06-2.06.94zm10 10l.94 2.06.94-2.06 2.06-.94-2.06-.94-.94-2.06-.94 2.06-2.06.94z\"/><path d=\"M17.41 7.96l-1.37-1.37c-.4-.4-.92-.59-1.43-.59-.52 0-1.04.2-1.43.59L10.3 9.45l-7.72 7.72c-.78.78-.78 2.05 0 2.83L4 21.41c.39.39.9.59 1.41.59.51 0 1.02-.2 1.41-.59l7.78-7.78 2.81-2.81c.8-.78.8-2.07 0-2.86zM5.41 20L4 18.59l7.72-7.72 1.47 1.35L5.41 20z\"/>\n",
              "  </svg>\n",
              "      </button>\n",
              "      \n",
              "  <style>\n",
              "    .colab-df-container {\n",
              "      display:flex;\n",
              "      flex-wrap:wrap;\n",
              "      gap: 12px;\n",
              "    }\n",
              "\n",
              "    .colab-df-convert {\n",
              "      background-color: #E8F0FE;\n",
              "      border: none;\n",
              "      border-radius: 50%;\n",
              "      cursor: pointer;\n",
              "      display: none;\n",
              "      fill: #1967D2;\n",
              "      height: 32px;\n",
              "      padding: 0 0 0 0;\n",
              "      width: 32px;\n",
              "    }\n",
              "\n",
              "    .colab-df-convert:hover {\n",
              "      background-color: #E2EBFA;\n",
              "      box-shadow: 0px 1px 2px rgba(60, 64, 67, 0.3), 0px 1px 3px 1px rgba(60, 64, 67, 0.15);\n",
              "      fill: #174EA6;\n",
              "    }\n",
              "\n",
              "    [theme=dark] .colab-df-convert {\n",
              "      background-color: #3B4455;\n",
              "      fill: #D2E3FC;\n",
              "    }\n",
              "\n",
              "    [theme=dark] .colab-df-convert:hover {\n",
              "      background-color: #434B5C;\n",
              "      box-shadow: 0px 1px 3px 1px rgba(0, 0, 0, 0.15);\n",
              "      filter: drop-shadow(0px 1px 2px rgba(0, 0, 0, 0.3));\n",
              "      fill: #FFFFFF;\n",
              "    }\n",
              "  </style>\n",
              "\n",
              "      <script>\n",
              "        const buttonEl =\n",
              "          document.querySelector('#df-22503437-6cae-4d8b-9486-a9eac50dc7ae button.colab-df-convert');\n",
              "        buttonEl.style.display =\n",
              "          google.colab.kernel.accessAllowed ? 'block' : 'none';\n",
              "\n",
              "        async function convertToInteractive(key) {\n",
              "          const element = document.querySelector('#df-22503437-6cae-4d8b-9486-a9eac50dc7ae');\n",
              "          const dataTable =\n",
              "            await google.colab.kernel.invokeFunction('convertToInteractive',\n",
              "                                                     [key], {});\n",
              "          if (!dataTable) return;\n",
              "\n",
              "          const docLinkHtml = 'Like what you see? Visit the ' +\n",
              "            '<a target=\"_blank\" href=https://colab.research.google.com/notebooks/data_table.ipynb>data table notebook</a>'\n",
              "            + ' to learn more about interactive tables.';\n",
              "          element.innerHTML = '';\n",
              "          dataTable['output_type'] = 'display_data';\n",
              "          await google.colab.output.renderOutput(dataTable, element);\n",
              "          const docLink = document.createElement('div');\n",
              "          docLink.innerHTML = docLinkHtml;\n",
              "          element.appendChild(docLink);\n",
              "        }\n",
              "      </script>\n",
              "    </div>\n",
              "  </div>\n",
              "  "
            ]
          },
          "metadata": {},
          "execution_count": 18
        }
      ]
    },
    {
      "cell_type": "code",
      "source": [
        "texts = [text.split() for text in df_theme.text]\n",
        "dictionary = Dictionary(texts)\n",
        "corpus = [dictionary.doc2bow(text) for text in texts]"
      ],
      "metadata": {
        "id": "W8I_WZI4CA-5"
      },
      "execution_count": null,
      "outputs": []
    },
    {
      "cell_type": "code",
      "source": [
        "tfidf = TfidfModel(corpus)\n",
        "corpus_tfidf = tfidf[corpus]"
      ],
      "metadata": {
        "id": "U4HzuJ2dEPRO"
      },
      "execution_count": null,
      "outputs": []
    },
    {
      "cell_type": "code",
      "source": [
        "from gensim.models import lsimodel"
      ],
      "metadata": {
        "id": "EyMem_CoEmGb"
      },
      "execution_count": null,
      "outputs": []
    },
    {
      "cell_type": "code",
      "source": [
        "lsi = lsimodel.LsiModel(corpus=corpus_tfidf, id2word=dictionary, num_topics=5)"
      ],
      "metadata": {
        "id": "3hcoIvpeChxU"
      },
      "execution_count": null,
      "outputs": []
    },
    {
      "cell_type": "code",
      "source": [
        "lsi.show_topics(5)"
      ],
      "metadata": {
        "colab": {
          "base_uri": "https://localhost:8080/"
        },
        "id": "dScpUs55EqKB",
        "outputId": "54bb64dd-2242-4156-e23d-f7562a1b616e"
      },
      "execution_count": null,
      "outputs": [
        {
          "output_type": "execute_result",
          "data": {
            "text/plain": [
              "[(0,\n",
              "  '0.175*\"карта\" + 0.135*\"кредит\" + 0.116*\"деньга\" + 0.115*\"вклад\" + 0.112*\"заявление\" + 0.103*\"счёт\" + 0.102*\"отделение\" + 0.094*\"сумма\" + 0.094*\"сбербанк\" + 0.090*\"платёж\"'),\n",
              " (1,\n",
              "  '-0.625*\"вклад\" + -0.136*\"открыть\" + -0.124*\"очередь\" + 0.114*\"заявление\" + 0.111*\"номер\" + 0.108*\"банкомат\" + 0.099*\"терминал\" + 0.096*\"претензия\" + 0.092*\"сбербанк\" + 0.086*\"платёж\"'),\n",
              " (2,\n",
              "  '-0.353*\"кредит\" + 0.254*\"банкомат\" + 0.182*\"карта\" + 0.168*\"терминал\" + 0.166*\"операция\" + 0.159*\"деньга\" + -0.147*\"страховка\" + 0.140*\"сбербанк\" + -0.139*\"заявка\" + 0.133*\"вклад\"'),\n",
              " (3,\n",
              "  '0.328*\"вклад\" + 0.232*\"руб\" + 0.214*\"сумма\" + 0.197*\"платёж\" + -0.166*\"карта\" + 0.159*\"комиссия\" + 0.143*\"погашение\" + 0.141*\"процент\" + 0.139*\"задолженность\" + 0.124*\"договор\"'),\n",
              " (4,\n",
              "  '0.276*\"номер\" + 0.224*\"вклад\" + -0.219*\"банкомат\" + -0.134*\"кредит\" + 0.134*\"ваш\" + 0.128*\"данные\" + 0.120*\"персональный\" + 0.119*\"телефон\" + -0.109*\"платёж\" + 0.101*\"звонок\"')]"
            ]
          },
          "metadata": {},
          "execution_count": 38
        }
      ]
    },
    {
      "cell_type": "markdown",
      "source": [
        "примеры тем:\n",
        "1. кредитная карта\n",
        "2. открыть вклад (депозит) без очереди\n",
        "3. кредиты и  (депозиты) страхование\n",
        "4. сумма вклада (депозита) и проценты"
      ],
      "metadata": {
        "id": "adeeqef7FMGv"
      }
    },
    {
      "cell_type": "markdown",
      "source": [
        "### 2.Найдите темы, в которых упомянуты конкретные банки (Сбербанк, ВТБ, другой банк). Можете ли вы их прокомментировать / объяснить?"
      ],
      "metadata": {
        "id": "iQP4HS5U6u4a"
      }
    },
    {
      "cell_type": "code",
      "source": [
        "lsi = lsimodel.LsiModel(corpus=corpus_tfidf, id2word=dictionary, num_topics=20)\n",
        "theme = lsi.show_topics(20)"
      ],
      "metadata": {
        "id": "yqGUzq596x67"
      },
      "execution_count": null,
      "outputs": []
    },
    {
      "cell_type": "code",
      "source": [
        "theme"
      ],
      "metadata": {
        "colab": {
          "base_uri": "https://localhost:8080/"
        },
        "id": "hbYYwXSwL2FY",
        "outputId": "26d50364-93ca-4489-a73b-ac1e6ef4de47"
      },
      "execution_count": null,
      "outputs": [
        {
          "output_type": "execute_result",
          "data": {
            "text/plain": [
              "[(0,\n",
              "  '0.175*\"карта\" + 0.135*\"кредит\" + 0.116*\"деньга\" + 0.115*\"вклад\" + 0.112*\"заявление\" + 0.103*\"счёт\" + 0.102*\"отделение\" + 0.094*\"сумма\" + 0.094*\"сбербанк\" + 0.090*\"платёж\"'),\n",
              " (1,\n",
              "  '-0.624*\"вклад\" + -0.136*\"открыть\" + -0.123*\"очередь\" + 0.113*\"заявление\" + 0.110*\"банкомат\" + 0.109*\"номер\" + 0.098*\"сбербанк\" + 0.097*\"терминал\" + 0.096*\"претензия\" + 0.088*\"платёж\"'),\n",
              " (2,\n",
              "  '0.351*\"кредит\" + -0.254*\"банкомат\" + -0.183*\"карта\" + -0.166*\"терминал\" + -0.162*\"операция\" + -0.159*\"деньга\" + 0.148*\"страховка\" + -0.139*\"сбербанк\" + 0.138*\"заявка\" + -0.137*\"вклад\"'),\n",
              " (3,\n",
              "  '-0.326*\"вклад\" + -0.231*\"руб\" + -0.211*\"сумма\" + -0.200*\"платёж\" + 0.172*\"карта\" + -0.152*\"комиссия\" + -0.138*\"процент\" + -0.138*\"погашение\" + -0.136*\"задолженность\" + -0.122*\"кредит\"'),\n",
              " (4,\n",
              "  '0.274*\"номер\" + 0.227*\"вклад\" + -0.224*\"банкомат\" + -0.136*\"кредит\" + 0.130*\"ваш\" + 0.127*\"данные\" + 0.121*\"телефон\" + 0.120*\"персональный\" + -0.106*\"платёж\" + 0.100*\"звонок\"'),\n",
              " (5,\n",
              "  '0.321*\"карта\" + -0.225*\"банкомат\" + -0.197*\"терминал\" + 0.170*\"комиссия\" + 0.169*\"лимит\" + -0.156*\"рассмотрение\" + -0.148*\"претензия\" + -0.141*\"вклад\" + 0.140*\"руб\" + -0.131*\"деньга\"'),\n",
              " (6,\n",
              "  '0.235*\"страховка\" + -0.221*\"номер\" + 0.202*\"страхование\" + 0.176*\"заявка\" + -0.158*\"платёж\" + 0.143*\"документ\" + -0.138*\"звонок\" + -0.133*\"задолженность\" + 0.132*\"менеджер\" + 0.131*\"сбербанк\"'),\n",
              " (7,\n",
              "  '-0.227*\"комиссия\" + -0.223*\"терминал\" + 0.192*\"вклад\" + 0.185*\"карта\" + 0.184*\"заявление\" + -0.137*\"страхование\" + -0.133*\"страховка\" + 0.122*\"закрытие\" + -0.106*\"альфа\" + 0.104*\"неделя\"'),\n",
              " (8,\n",
              "  '0.359*\"банкомат\" + 0.302*\"альфа\" + -0.264*\"терминал\" + -0.261*\"сбербанк\" + -0.161*\"платёж\" + 0.158*\"претензия\" + 0.152*\"снятие\" + 0.132*\"наличный\" + -0.131*\"перевод\" + 0.116*\"лимит\"'),\n",
              " (9,\n",
              "  '0.367*\"страховка\" + 0.293*\"страхование\" + 0.171*\"номер\" + 0.166*\"сбербанк\" + -0.134*\"сделка\" + -0.125*\"квартира\" + -0.123*\"лимит\" + 0.121*\"добровольный\" + -0.118*\"заявка\" + 0.117*\"подключить\"'),\n",
              " (10,\n",
              "  '-0.391*\"терминал\" + 0.193*\"банкомат\" + -0.184*\"заявка\" + -0.175*\"руб\" + 0.149*\"сбербанк\" + -0.118*\"вклад\" + -0.114*\"кошелёк\" + 0.107*\"счёт\" + -0.106*\"киви\" + -0.103*\"лимит\"'),\n",
              " (11,\n",
              "  '-0.281*\"терминал\" + 0.203*\"сбербанк\" + 0.189*\"альфа\" + 0.169*\"смс\" + 0.168*\"перевод\" + 0.165*\"квартира\" + 0.161*\"сделка\" + -0.142*\"карта\" + -0.129*\"заявление\" + 0.114*\"ипотека\"'),\n",
              " (12,\n",
              "  '-0.267*\"альфа\" + 0.211*\"руб\" + 0.190*\"мтс\" + 0.149*\"р\" + -0.147*\"претензия\" + -0.130*\"досрочный\" + 0.122*\"кошелёк\" + -0.119*\"услуга\" + -0.114*\"погашение\" + 0.113*\"снять\"'),\n",
              " (13,\n",
              "  '-0.230*\"перевод\" + 0.169*\"терминал\" + -0.130*\"альфа\" + 0.125*\"банкомат\" + -0.120*\"комиссия\" + 0.119*\"вклад\" + -0.118*\"счёт\" + 0.117*\"ипотека\" + 0.111*\"сбербанк\" + -0.104*\"операционист\"'),\n",
              " (14,\n",
              "  '0.216*\"альфа\" + 0.188*\"руб\" + -0.146*\"кошелёк\" + -0.143*\"банкомат\" + -0.141*\"лимит\" + 0.135*\"терминал\" + 0.130*\"комиссия\" + -0.119*\"поддержка\" + -0.118*\"служба\" + 0.114*\"сбербанк\"'),\n",
              " (15,\n",
              "  '-0.254*\"мтс\" + -0.237*\"комиссия\" + 0.217*\"альфа\" + -0.180*\"банкомат\" + 0.173*\"р\" + 0.154*\"претензия\" + -0.142*\"номер\" + -0.130*\"офис\" + -0.121*\"заявка\" + 0.110*\"руб\"'),\n",
              " (16,\n",
              "  '0.230*\"р\" + 0.221*\"сбербанк\" + -0.197*\"заявление\" + -0.164*\"кошелёк\" + 0.145*\"заявка\" + -0.132*\"услуга\" + -0.122*\"подключить\" + 0.119*\"терминал\" + 0.118*\"звонок\" + -0.118*\"документ\"'),\n",
              " (17,\n",
              "  '0.231*\"комиссия\" + -0.195*\"руб\" + -0.175*\"лимит\" + 0.149*\"альфа\" + -0.135*\"ситибанк\" + -0.123*\"заявка\" + -0.117*\"кассир\" + -0.116*\"касса\" + -0.110*\"смс\" + 0.107*\"мтс\"'),\n",
              " (18,\n",
              "  '0.253*\"альфа\" + -0.216*\"руб\" + 0.174*\"мтс\" + -0.127*\"заявление\" + -0.125*\"комиссия\" + 0.121*\"сбербанк\" + -0.120*\"неделя\" + 0.104*\"рубль\" + 0.103*\"кредит\" + -0.102*\"менеджер\"'),\n",
              " (19,\n",
              "  '0.147*\"мтс\" + 0.146*\"кредит\" + -0.133*\"платёж\" + -0.123*\"страхование\" + 0.122*\"процент\" + -0.110*\"пин\" + -0.110*\"код\" + 0.109*\"лимит\" + -0.105*\"суд\" + -0.105*\"банкомат\"')]"
            ]
          },
          "metadata": {},
          "execution_count": 74
        }
      ]
    },
    {
      "cell_type": "code",
      "source": [
        "# вывод номеров тем, которые содержат сбербанк\n",
        "for el in theme:\n",
        "    result = re.findall('сбер' , el[1])\n",
        "    if len(result):\n",
        "        print(result, el[0])"
      ],
      "metadata": {
        "colab": {
          "base_uri": "https://localhost:8080/"
        },
        "id": "g1voR_9rKE24",
        "outputId": "611da741-2937-4374-d924-44ce916f1387"
      },
      "execution_count": null,
      "outputs": [
        {
          "output_type": "stream",
          "name": "stdout",
          "text": [
            "['сбер'] 0\n",
            "['сбер'] 1\n",
            "['сбер'] 2\n",
            "['сбер'] 6\n",
            "['сбер'] 8\n",
            "['сбер'] 9\n",
            "['сбер'] 10\n",
            "['сбер'] 11\n",
            "['сбер'] 13\n",
            "['сбер'] 14\n",
            "['сбер'] 16\n",
            "['сбер'] 18\n"
          ]
        }
      ]
    },
    {
      "cell_type": "code",
      "source": [
        "# вывод номеров тем, которые содержат альфабанк\n",
        "for el in theme:\n",
        "    result = re.findall('альфа' , el[1])\n",
        "    if len(result):\n",
        "        print(result, el[0])"
      ],
      "metadata": {
        "colab": {
          "base_uri": "https://localhost:8080/"
        },
        "id": "lpnQzLecLj8O",
        "outputId": "32b584e2-59e1-4a39-8be2-bb3c1dae638b"
      },
      "execution_count": null,
      "outputs": [
        {
          "output_type": "stream",
          "name": "stdout",
          "text": [
            "['альфа'] 7\n",
            "['альфа'] 8\n",
            "['альфа'] 11\n",
            "['альфа'] 12\n",
            "['альфа'] 13\n",
            "['альфа'] 14\n",
            "['альфа'] 15\n",
            "['альфа'] 17\n",
            "['альфа'] 18\n"
          ]
        }
      ]
    },
    {
      "cell_type": "markdown",
      "metadata": {
        "id": "AJ39G_RaqauR"
      },
      "source": [
        "## Часть 3. Классификация текстов"
      ]
    },
    {
      "cell_type": "code",
      "metadata": {
        "id": "bUSukDrwqauS"
      },
      "source": [
        "from sklearn.pipeline import Pipeline\n",
        "from sklearn.feature_extraction.text import CountVectorizer\n",
        "from sklearn.feature_extraction.text import TfidfTransformer\n",
        "from sklearn.ensemble import RandomForestClassifier\n",
        "from sklearn.decomposition import TruncatedSVD\n",
        "\n",
        "# !!! На каждом этапе Pipeline нужно указать свои параметры\n",
        "# 1-ый вариант: tf-idf + LSI\n",
        "# 2-ой вариант: LDA\n",
        "\n",
        "# clf = Pipeline([\n",
        "#     ('vect', CountVectorizer(analyzer = 'char', ngram_range={4,6})),\n",
        "#     ('clf', RandomForestClassifier()),\n",
        "# ])\n",
        "\n",
        "\n",
        "\n",
        "clf = Pipeline([\n",
        "    ('vect', CountVectorizer()),\n",
        "    ('tfidf', TfidfTransformer()),\n",
        "    ('tm', TruncatedSVD()),\n",
        "    ('clf', RandomForestClassifier())\n",
        "])\n"
      ],
      "execution_count": null,
      "outputs": []
    },
    {
      "cell_type": "markdown",
      "source": [
        "Сформулируем для простоты задачу бинарной классификации: будем классифицировать на два класса, то есть, различать резко отрицательные отзывы (с оценкой 1) и положительные отзывы (с оценкой 5).\n",
        "\n",
        "Составьте обучающее и тестовое множество: выберите из всего набора данных N1 отзывов с оценкой 1 и N2 отзывов с оценкой 5 (значение N1 и N2 – на ваше усмотрение). Используйте sklearn.model_selection.train_test_split для разделения множества отобранных документов на обучающее и тестовое.\n",
        "\n",
        "Используйте любой известный вам алгоритм классификации текстов для решения задачи и получите baseline. Сравните разные варианты векторизации текста: использование только униграм, пар или троек слов или с использованием символьных\n",
        "    -грам.\n",
        "Сравните, как изменяется качество решения задачи при использовании скрытых тем в качестве признаков:\n",
        "\n",
        "    1-ый вариант:\n",
        "\n",
        "преобразование (sklearn.feature_extraction.text.TfidfTransformer) и сингулярное разложение (оно же – латентый семантический анализ) (sklearn.decomposition.TruncatedSVD),\n",
        "\n",
        "    2-ой вариант:\n",
        "тематические модели LDA (sklearn.decomposition.LatentDirichletAllocation). Используйте accuracy и F-measure для оценки качества классификации.\n",
        "\n",
        "В ноутбуке, размещенном в папке репозитория. написан примерный Pipeline для классификации текстов.\n",
        "\n",
        "Эта часть задания может быть сделана с использованием sklearn."
      ],
      "metadata": {
        "id": "RaBaREkBPd6G"
      }
    },
    {
      "cell_type": "code",
      "source": [
        "data_class = pd.DataFrame.from_dict(responses)"
      ],
      "metadata": {
        "id": "_0vPlb3SPfCr"
      },
      "execution_count": null,
      "outputs": []
    },
    {
      "cell_type": "code",
      "source": [
        "data_class.info()"
      ],
      "metadata": {
        "colab": {
          "base_uri": "https://localhost:8080/"
        },
        "id": "LxII8rYAQTcC",
        "outputId": "74dd2fe3-0a1b-4d4a-8982-ab09960cab88"
      },
      "execution_count": null,
      "outputs": [
        {
          "output_type": "stream",
          "name": "stdout",
          "text": [
            "<class 'pandas.core.frame.DataFrame'>\n",
            "RangeIndex: 153499 entries, 0 to 153498\n",
            "Data columns (total 10 columns):\n",
            " #   Column              Non-Null Count   Dtype  \n",
            "---  ------              --------------   -----  \n",
            " 0   city                138325 non-null  object \n",
            " 1   rating_not_checked  153499 non-null  bool   \n",
            " 2   title               153499 non-null  object \n",
            " 3   num_comments        153499 non-null  int64  \n",
            " 4   bank_license        153498 non-null  object \n",
            " 5   author              153479 non-null  object \n",
            " 6   bank_name           153499 non-null  object \n",
            " 7   datetime            153499 non-null  object \n",
            " 8   text                153499 non-null  object \n",
            " 9   rating_grade        88658 non-null   float64\n",
            "dtypes: bool(1), float64(1), int64(1), object(7)\n",
            "memory usage: 10.7+ MB\n"
          ]
        }
      ]
    },
    {
      "cell_type": "code",
      "source": [
        "# замена пропусков оценок модой\n",
        "data_class['rating_grade'] = data_class['rating_grade'].fillna(data_class['rating_grade'].mode()[0])"
      ],
      "metadata": {
        "id": "q4dc-F6eQocE"
      },
      "execution_count": null,
      "outputs": []
    },
    {
      "cell_type": "code",
      "source": [
        "data_class.info()"
      ],
      "metadata": {
        "colab": {
          "base_uri": "https://localhost:8080/"
        },
        "id": "62qkBZ1bQwgf",
        "outputId": "85bccd38-6d7b-497a-d294-bd247929819b"
      },
      "execution_count": null,
      "outputs": [
        {
          "output_type": "stream",
          "name": "stdout",
          "text": [
            "<class 'pandas.core.frame.DataFrame'>\n",
            "RangeIndex: 153499 entries, 0 to 153498\n",
            "Data columns (total 10 columns):\n",
            " #   Column              Non-Null Count   Dtype  \n",
            "---  ------              --------------   -----  \n",
            " 0   city                138325 non-null  object \n",
            " 1   rating_not_checked  153499 non-null  bool   \n",
            " 2   title               153499 non-null  object \n",
            " 3   num_comments        153499 non-null  int64  \n",
            " 4   bank_license        153498 non-null  object \n",
            " 5   author              153479 non-null  object \n",
            " 6   bank_name           153499 non-null  object \n",
            " 7   datetime            153499 non-null  object \n",
            " 8   text                153499 non-null  object \n",
            " 9   rating_grade        153499 non-null  float64\n",
            "dtypes: bool(1), float64(1), int64(1), object(7)\n",
            "memory usage: 10.7+ MB\n"
          ]
        }
      ]
    },
    {
      "cell_type": "code",
      "source": [
        "# выделение отзывов с оценкой 1 и 5 по 1000 отзывов для ускорения вычислений\n",
        "data_class_binary = data_class[(data_class.rating_grade == 1)].sample(n = 1000).copy()\n",
        "data_class_binary = data_class_binary.append(data_class[(data_class.rating_grade == 5)].sample(n = 1000))"
      ],
      "metadata": {
        "colab": {
          "base_uri": "https://localhost:8080/"
        },
        "id": "oxqINghbQzTW",
        "outputId": "f0b3e40d-4d15-4496-d086-e84e4bccdc14"
      },
      "execution_count": null,
      "outputs": [
        {
          "output_type": "stream",
          "name": "stderr",
          "text": [
            "<ipython-input-84-f47f9acae90f>:3: FutureWarning: The frame.append method is deprecated and will be removed from pandas in a future version. Use pandas.concat instead.\n",
            "  data_class_binary = data_class_binary.append(data_class[(data_class.rating_grade == 5)].sample(n = 1000))\n"
          ]
        }
      ]
    },
    {
      "cell_type": "code",
      "source": [
        "data_class_binary.rating_grade.value_counts()"
      ],
      "metadata": {
        "colab": {
          "base_uri": "https://localhost:8080/"
        },
        "id": "Be2-y3UcRQsV",
        "outputId": "40d06467-bf15-4343-ae03-a6fa401b75b7"
      },
      "execution_count": null,
      "outputs": [
        {
          "output_type": "execute_result",
          "data": {
            "text/plain": [
              "1.0    1000\n",
              "5.0    1000\n",
              "Name: rating_grade, dtype: int64"
            ]
          },
          "metadata": {},
          "execution_count": 86
        }
      ]
    },
    {
      "cell_type": "code",
      "source": [
        "data_class_binary  = data_class_binary[['text', 'rating_grade']]"
      ],
      "metadata": {
        "id": "4XXmRdbhRp0W"
      },
      "execution_count": null,
      "outputs": []
    },
    {
      "cell_type": "code",
      "source": [
        "# препроцессинг отзывов\n",
        "data_class_binary.text = data_class_binary.text.astype('str').progress_apply(preprocess)\n",
        "data_class_binary"
      ],
      "metadata": {
        "colab": {
          "base_uri": "https://localhost:8080/",
          "height": 549
        },
        "id": "_JzyvjBVR4wI",
        "outputId": "f5c8c863-0f0b-49b7-d443-8fd6db494330"
      },
      "execution_count": null,
      "outputs": [
        {
          "output_type": "stream",
          "name": "stderr",
          "text": [
            "100%|██████████| 2000/2000 [02:17<00:00, 14.52it/s]\n",
            "<ipython-input-89-042ada902d58>:2: SettingWithCopyWarning: \n",
            "A value is trying to be set on a copy of a slice from a DataFrame.\n",
            "Try using .loc[row_indexer,col_indexer] = value instead\n",
            "\n",
            "See the caveats in the documentation: https://pandas.pydata.org/pandas-docs/stable/user_guide/indexing.html#returning-a-view-versus-a-copy\n",
            "  data_class_binary.text = data_class_binary.text.astype('str').progress_apply(preprocess)\n"
          ]
        },
        {
          "output_type": "execute_result",
          "data": {
            "text/plain": [
              "                                                     text  rating_grade\n",
              "112511  здравствуйте поступать звонок номер смс номер ...           1.0\n",
              "13425   думать ещ выйти сайт приходиться читать отзыв ...           1.0\n",
              "46753   история случиться пара неделя назад зарплатный...           1.0\n",
              "9954    подгтовить платёжный поручение весь день ждать...           1.0\n",
              "7842    середина год образоваться просрочка кредитный ...           1.0\n",
              "...                                                   ...           ...\n",
              "90977   писать несколько отзыв портал читать множество...           5.0\n",
              "68830   добрый день уважаемый читатель являться облада...           5.0\n",
              "19966   очень понравиться интеркомерц банк южнопортовы...           5.0\n",
              "109916  очень рад вовремя обратить внимание совкомбанк...           5.0\n",
              "134762  добрый утро хотеться выразить слово благодарно...           5.0\n",
              "\n",
              "[2000 rows x 2 columns]"
            ],
            "text/html": [
              "\n",
              "  <div id=\"df-6ec79ccf-2cfe-4273-ba72-e7b0e100b9b0\">\n",
              "    <div class=\"colab-df-container\">\n",
              "      <div>\n",
              "<style scoped>\n",
              "    .dataframe tbody tr th:only-of-type {\n",
              "        vertical-align: middle;\n",
              "    }\n",
              "\n",
              "    .dataframe tbody tr th {\n",
              "        vertical-align: top;\n",
              "    }\n",
              "\n",
              "    .dataframe thead th {\n",
              "        text-align: right;\n",
              "    }\n",
              "</style>\n",
              "<table border=\"1\" class=\"dataframe\">\n",
              "  <thead>\n",
              "    <tr style=\"text-align: right;\">\n",
              "      <th></th>\n",
              "      <th>text</th>\n",
              "      <th>rating_grade</th>\n",
              "    </tr>\n",
              "  </thead>\n",
              "  <tbody>\n",
              "    <tr>\n",
              "      <th>112511</th>\n",
              "      <td>здравствуйте поступать звонок номер смс номер ...</td>\n",
              "      <td>1.0</td>\n",
              "    </tr>\n",
              "    <tr>\n",
              "      <th>13425</th>\n",
              "      <td>думать ещ выйти сайт приходиться читать отзыв ...</td>\n",
              "      <td>1.0</td>\n",
              "    </tr>\n",
              "    <tr>\n",
              "      <th>46753</th>\n",
              "      <td>история случиться пара неделя назад зарплатный...</td>\n",
              "      <td>1.0</td>\n",
              "    </tr>\n",
              "    <tr>\n",
              "      <th>9954</th>\n",
              "      <td>подгтовить платёжный поручение весь день ждать...</td>\n",
              "      <td>1.0</td>\n",
              "    </tr>\n",
              "    <tr>\n",
              "      <th>7842</th>\n",
              "      <td>середина год образоваться просрочка кредитный ...</td>\n",
              "      <td>1.0</td>\n",
              "    </tr>\n",
              "    <tr>\n",
              "      <th>...</th>\n",
              "      <td>...</td>\n",
              "      <td>...</td>\n",
              "    </tr>\n",
              "    <tr>\n",
              "      <th>90977</th>\n",
              "      <td>писать несколько отзыв портал читать множество...</td>\n",
              "      <td>5.0</td>\n",
              "    </tr>\n",
              "    <tr>\n",
              "      <th>68830</th>\n",
              "      <td>добрый день уважаемый читатель являться облада...</td>\n",
              "      <td>5.0</td>\n",
              "    </tr>\n",
              "    <tr>\n",
              "      <th>19966</th>\n",
              "      <td>очень понравиться интеркомерц банк южнопортовы...</td>\n",
              "      <td>5.0</td>\n",
              "    </tr>\n",
              "    <tr>\n",
              "      <th>109916</th>\n",
              "      <td>очень рад вовремя обратить внимание совкомбанк...</td>\n",
              "      <td>5.0</td>\n",
              "    </tr>\n",
              "    <tr>\n",
              "      <th>134762</th>\n",
              "      <td>добрый утро хотеться выразить слово благодарно...</td>\n",
              "      <td>5.0</td>\n",
              "    </tr>\n",
              "  </tbody>\n",
              "</table>\n",
              "<p>2000 rows × 2 columns</p>\n",
              "</div>\n",
              "      <button class=\"colab-df-convert\" onclick=\"convertToInteractive('df-6ec79ccf-2cfe-4273-ba72-e7b0e100b9b0')\"\n",
              "              title=\"Convert this dataframe to an interactive table.\"\n",
              "              style=\"display:none;\">\n",
              "        \n",
              "  <svg xmlns=\"http://www.w3.org/2000/svg\" height=\"24px\"viewBox=\"0 0 24 24\"\n",
              "       width=\"24px\">\n",
              "    <path d=\"M0 0h24v24H0V0z\" fill=\"none\"/>\n",
              "    <path d=\"M18.56 5.44l.94 2.06.94-2.06 2.06-.94-2.06-.94-.94-2.06-.94 2.06-2.06.94zm-11 1L8.5 8.5l.94-2.06 2.06-.94-2.06-.94L8.5 2.5l-.94 2.06-2.06.94zm10 10l.94 2.06.94-2.06 2.06-.94-2.06-.94-.94-2.06-.94 2.06-2.06.94z\"/><path d=\"M17.41 7.96l-1.37-1.37c-.4-.4-.92-.59-1.43-.59-.52 0-1.04.2-1.43.59L10.3 9.45l-7.72 7.72c-.78.78-.78 2.05 0 2.83L4 21.41c.39.39.9.59 1.41.59.51 0 1.02-.2 1.41-.59l7.78-7.78 2.81-2.81c.8-.78.8-2.07 0-2.86zM5.41 20L4 18.59l7.72-7.72 1.47 1.35L5.41 20z\"/>\n",
              "  </svg>\n",
              "      </button>\n",
              "      \n",
              "  <style>\n",
              "    .colab-df-container {\n",
              "      display:flex;\n",
              "      flex-wrap:wrap;\n",
              "      gap: 12px;\n",
              "    }\n",
              "\n",
              "    .colab-df-convert {\n",
              "      background-color: #E8F0FE;\n",
              "      border: none;\n",
              "      border-radius: 50%;\n",
              "      cursor: pointer;\n",
              "      display: none;\n",
              "      fill: #1967D2;\n",
              "      height: 32px;\n",
              "      padding: 0 0 0 0;\n",
              "      width: 32px;\n",
              "    }\n",
              "\n",
              "    .colab-df-convert:hover {\n",
              "      background-color: #E2EBFA;\n",
              "      box-shadow: 0px 1px 2px rgba(60, 64, 67, 0.3), 0px 1px 3px 1px rgba(60, 64, 67, 0.15);\n",
              "      fill: #174EA6;\n",
              "    }\n",
              "\n",
              "    [theme=dark] .colab-df-convert {\n",
              "      background-color: #3B4455;\n",
              "      fill: #D2E3FC;\n",
              "    }\n",
              "\n",
              "    [theme=dark] .colab-df-convert:hover {\n",
              "      background-color: #434B5C;\n",
              "      box-shadow: 0px 1px 3px 1px rgba(0, 0, 0, 0.15);\n",
              "      filter: drop-shadow(0px 1px 2px rgba(0, 0, 0, 0.3));\n",
              "      fill: #FFFFFF;\n",
              "    }\n",
              "  </style>\n",
              "\n",
              "      <script>\n",
              "        const buttonEl =\n",
              "          document.querySelector('#df-6ec79ccf-2cfe-4273-ba72-e7b0e100b9b0 button.colab-df-convert');\n",
              "        buttonEl.style.display =\n",
              "          google.colab.kernel.accessAllowed ? 'block' : 'none';\n",
              "\n",
              "        async function convertToInteractive(key) {\n",
              "          const element = document.querySelector('#df-6ec79ccf-2cfe-4273-ba72-e7b0e100b9b0');\n",
              "          const dataTable =\n",
              "            await google.colab.kernel.invokeFunction('convertToInteractive',\n",
              "                                                     [key], {});\n",
              "          if (!dataTable) return;\n",
              "\n",
              "          const docLinkHtml = 'Like what you see? Visit the ' +\n",
              "            '<a target=\"_blank\" href=https://colab.research.google.com/notebooks/data_table.ipynb>data table notebook</a>'\n",
              "            + ' to learn more about interactive tables.';\n",
              "          element.innerHTML = '';\n",
              "          dataTable['output_type'] = 'display_data';\n",
              "          await google.colab.output.renderOutput(dataTable, element);\n",
              "          const docLink = document.createElement('div');\n",
              "          docLink.innerHTML = docLinkHtml;\n",
              "          element.appendChild(docLink);\n",
              "        }\n",
              "      </script>\n",
              "    </div>\n",
              "  </div>\n",
              "  "
            ]
          },
          "metadata": {},
          "execution_count": 89
        }
      ]
    },
    {
      "cell_type": "markdown",
      "source": [
        "### baseline"
      ],
      "metadata": {
        "id": "pCzlmmyTU9mA"
      }
    },
    {
      "cell_type": "code",
      "source": [
        "from sklearn.model_selection import train_test_split\n",
        "from sklearn.model_selection import GridSearchCV\n",
        "from sklearn.ensemble import RandomForestClassifier\n",
        "from sklearn.linear_model import LogisticRegression\n",
        "from sklearn.feature_extraction.text import CountVectorizer\n",
        "from sklearn.metrics import *"
      ],
      "metadata": {
        "id": "nZS4ZCqFT-kk"
      },
      "execution_count": null,
      "outputs": []
    },
    {
      "cell_type": "code",
      "source": [
        "X_train, X_test, y_train, y_test = train_test_split(data_class_binary.text, data_class_binary.rating_grade, test_size=0.3)"
      ],
      "metadata": {
        "id": "4Ab6Xa_YS0o5"
      },
      "execution_count": null,
      "outputs": []
    },
    {
      "cell_type": "code",
      "source": [
        "# vec = CountVectorizer(ngram_range=(1, 1))\n",
        "# bow = vec.fit_transform(X_train) # bow -- bag of words (мешок слов)"
      ],
      "metadata": {
        "id": "ipsRvl56Un8t"
      },
      "execution_count": null,
      "outputs": []
    },
    {
      "cell_type": "code",
      "source": [
        "clf = Pipeline([\n",
        "    ('vect', CountVectorizer(ngram_range=(1, 1))),\n",
        "    ('clf', LogisticRegression(random_state = 42))\n",
        "])"
      ],
      "metadata": {
        "id": "S-0kTAAEVbbM"
      },
      "execution_count": null,
      "outputs": []
    },
    {
      "cell_type": "code",
      "source": [
        "clf.fit(X_train, y_train)"
      ],
      "metadata": {
        "colab": {
          "base_uri": "https://localhost:8080/",
          "height": 126
        },
        "id": "sNauWX_RUc7D",
        "outputId": "e1c7ad6f-5633-4f46-c17e-3889c7be5eec"
      },
      "execution_count": null,
      "outputs": [
        {
          "output_type": "execute_result",
          "data": {
            "text/plain": [
              "Pipeline(steps=[('vect', CountVectorizer()),\n",
              "                ('clf', LogisticRegression(random_state=42))])"
            ],
            "text/html": [
              "<style>#sk-container-id-6 {color: black;background-color: white;}#sk-container-id-6 pre{padding: 0;}#sk-container-id-6 div.sk-toggleable {background-color: white;}#sk-container-id-6 label.sk-toggleable__label {cursor: pointer;display: block;width: 100%;margin-bottom: 0;padding: 0.3em;box-sizing: border-box;text-align: center;}#sk-container-id-6 label.sk-toggleable__label-arrow:before {content: \"▸\";float: left;margin-right: 0.25em;color: #696969;}#sk-container-id-6 label.sk-toggleable__label-arrow:hover:before {color: black;}#sk-container-id-6 div.sk-estimator:hover label.sk-toggleable__label-arrow:before {color: black;}#sk-container-id-6 div.sk-toggleable__content {max-height: 0;max-width: 0;overflow: hidden;text-align: left;background-color: #f0f8ff;}#sk-container-id-6 div.sk-toggleable__content pre {margin: 0.2em;color: black;border-radius: 0.25em;background-color: #f0f8ff;}#sk-container-id-6 input.sk-toggleable__control:checked~div.sk-toggleable__content {max-height: 200px;max-width: 100%;overflow: auto;}#sk-container-id-6 input.sk-toggleable__control:checked~label.sk-toggleable__label-arrow:before {content: \"▾\";}#sk-container-id-6 div.sk-estimator input.sk-toggleable__control:checked~label.sk-toggleable__label {background-color: #d4ebff;}#sk-container-id-6 div.sk-label input.sk-toggleable__control:checked~label.sk-toggleable__label {background-color: #d4ebff;}#sk-container-id-6 input.sk-hidden--visually {border: 0;clip: rect(1px 1px 1px 1px);clip: rect(1px, 1px, 1px, 1px);height: 1px;margin: -1px;overflow: hidden;padding: 0;position: absolute;width: 1px;}#sk-container-id-6 div.sk-estimator {font-family: monospace;background-color: #f0f8ff;border: 1px dotted black;border-radius: 0.25em;box-sizing: border-box;margin-bottom: 0.5em;}#sk-container-id-6 div.sk-estimator:hover {background-color: #d4ebff;}#sk-container-id-6 div.sk-parallel-item::after {content: \"\";width: 100%;border-bottom: 1px solid gray;flex-grow: 1;}#sk-container-id-6 div.sk-label:hover label.sk-toggleable__label {background-color: #d4ebff;}#sk-container-id-6 div.sk-serial::before {content: \"\";position: absolute;border-left: 1px solid gray;box-sizing: border-box;top: 0;bottom: 0;left: 50%;z-index: 0;}#sk-container-id-6 div.sk-serial {display: flex;flex-direction: column;align-items: center;background-color: white;padding-right: 0.2em;padding-left: 0.2em;position: relative;}#sk-container-id-6 div.sk-item {position: relative;z-index: 1;}#sk-container-id-6 div.sk-parallel {display: flex;align-items: stretch;justify-content: center;background-color: white;position: relative;}#sk-container-id-6 div.sk-item::before, #sk-container-id-6 div.sk-parallel-item::before {content: \"\";position: absolute;border-left: 1px solid gray;box-sizing: border-box;top: 0;bottom: 0;left: 50%;z-index: -1;}#sk-container-id-6 div.sk-parallel-item {display: flex;flex-direction: column;z-index: 1;position: relative;background-color: white;}#sk-container-id-6 div.sk-parallel-item:first-child::after {align-self: flex-end;width: 50%;}#sk-container-id-6 div.sk-parallel-item:last-child::after {align-self: flex-start;width: 50%;}#sk-container-id-6 div.sk-parallel-item:only-child::after {width: 0;}#sk-container-id-6 div.sk-dashed-wrapped {border: 1px dashed gray;margin: 0 0.4em 0.5em 0.4em;box-sizing: border-box;padding-bottom: 0.4em;background-color: white;}#sk-container-id-6 div.sk-label label {font-family: monospace;font-weight: bold;display: inline-block;line-height: 1.2em;}#sk-container-id-6 div.sk-label-container {text-align: center;}#sk-container-id-6 div.sk-container {/* jupyter's `normalize.less` sets `[hidden] { display: none; }` but bootstrap.min.css set `[hidden] { display: none !important; }` so we also need the `!important` here to be able to override the default hidden behavior on the sphinx rendered scikit-learn.org. See: https://github.com/scikit-learn/scikit-learn/issues/21755 */display: inline-block !important;position: relative;}#sk-container-id-6 div.sk-text-repr-fallback {display: none;}</style><div id=\"sk-container-id-6\" class=\"sk-top-container\"><div class=\"sk-text-repr-fallback\"><pre>Pipeline(steps=[(&#x27;vect&#x27;, CountVectorizer()),\n",
              "                (&#x27;clf&#x27;, LogisticRegression(random_state=42))])</pre><b>In a Jupyter environment, please rerun this cell to show the HTML representation or trust the notebook. <br />On GitHub, the HTML representation is unable to render, please try loading this page with nbviewer.org.</b></div><div class=\"sk-container\" hidden><div class=\"sk-item sk-dashed-wrapped\"><div class=\"sk-label-container\"><div class=\"sk-label sk-toggleable\"><input class=\"sk-toggleable__control sk-hidden--visually\" id=\"sk-estimator-id-16\" type=\"checkbox\" ><label for=\"sk-estimator-id-16\" class=\"sk-toggleable__label sk-toggleable__label-arrow\">Pipeline</label><div class=\"sk-toggleable__content\"><pre>Pipeline(steps=[(&#x27;vect&#x27;, CountVectorizer()),\n",
              "                (&#x27;clf&#x27;, LogisticRegression(random_state=42))])</pre></div></div></div><div class=\"sk-serial\"><div class=\"sk-item\"><div class=\"sk-estimator sk-toggleable\"><input class=\"sk-toggleable__control sk-hidden--visually\" id=\"sk-estimator-id-17\" type=\"checkbox\" ><label for=\"sk-estimator-id-17\" class=\"sk-toggleable__label sk-toggleable__label-arrow\">CountVectorizer</label><div class=\"sk-toggleable__content\"><pre>CountVectorizer()</pre></div></div></div><div class=\"sk-item\"><div class=\"sk-estimator sk-toggleable\"><input class=\"sk-toggleable__control sk-hidden--visually\" id=\"sk-estimator-id-18\" type=\"checkbox\" ><label for=\"sk-estimator-id-18\" class=\"sk-toggleable__label sk-toggleable__label-arrow\">LogisticRegression</label><div class=\"sk-toggleable__content\"><pre>LogisticRegression(random_state=42)</pre></div></div></div></div></div></div></div>"
            ]
          },
          "metadata": {},
          "execution_count": 130
        }
      ]
    },
    {
      "cell_type": "code",
      "source": [
        "pred = clf.predict(X_test)\n",
        "print(classification_report(pred, y_test))"
      ],
      "metadata": {
        "colab": {
          "base_uri": "https://localhost:8080/"
        },
        "id": "2Kcsqr-TUf2x",
        "outputId": "dc69687d-21c5-4e33-86cd-c4925fb0bb2f"
      },
      "execution_count": null,
      "outputs": [
        {
          "output_type": "stream",
          "name": "stdout",
          "text": [
            "              precision    recall  f1-score   support\n",
            "\n",
            "         1.0       0.86      0.86      0.86       301\n",
            "         5.0       0.86      0.86      0.86       299\n",
            "\n",
            "    accuracy                           0.86       600\n",
            "   macro avg       0.86      0.86      0.86       600\n",
            "weighted avg       0.86      0.86      0.86       600\n",
            "\n"
          ]
        }
      ]
    },
    {
      "cell_type": "code",
      "source": [
        "# для биграмм\n",
        "clf = Pipeline([\n",
        "    ('vect', CountVectorizer(ngram_range=(2, 2))),\n",
        "    ('clf', LogisticRegression(random_state = 42))\n",
        "])\n",
        "\n",
        "clf.fit(X_train, y_train)\n",
        "\n",
        "pred = clf.predict(X_test)\n",
        "print(classification_report(pred, y_test))"
      ],
      "metadata": {
        "colab": {
          "base_uri": "https://localhost:8080/"
        },
        "id": "KrPw1ZeQa-OH",
        "outputId": "d55174ac-3e02-4134-c4eb-9fc4823fe6fb"
      },
      "execution_count": null,
      "outputs": [
        {
          "output_type": "stream",
          "name": "stdout",
          "text": [
            "              precision    recall  f1-score   support\n",
            "\n",
            "         1.0       0.83      0.81      0.82       307\n",
            "         5.0       0.81      0.83      0.82       293\n",
            "\n",
            "    accuracy                           0.82       600\n",
            "   macro avg       0.82      0.82      0.82       600\n",
            "weighted avg       0.82      0.82      0.82       600\n",
            "\n"
          ]
        }
      ]
    },
    {
      "cell_type": "code",
      "source": [
        "# для триграмм\n",
        "clf = Pipeline([\n",
        "    ('vect', CountVectorizer(ngram_range=(3, 3))),\n",
        "    ('clf', LogisticRegression(random_state = 42))\n",
        "])\n",
        "\n",
        "clf.fit(X_train, y_train)\n",
        "\n",
        "pred = clf.predict(X_test)\n",
        "print(classification_report(pred, y_test))"
      ],
      "metadata": {
        "colab": {
          "base_uri": "https://localhost:8080/"
        },
        "id": "iCCIdUz6cE9D",
        "outputId": "b8310da9-8742-41e2-b1cf-825bf8247090"
      },
      "execution_count": null,
      "outputs": [
        {
          "output_type": "stream",
          "name": "stdout",
          "text": [
            "              precision    recall  f1-score   support\n",
            "\n",
            "         1.0       0.86      0.67      0.75       389\n",
            "         5.0       0.57      0.81      0.67       211\n",
            "\n",
            "    accuracy                           0.72       600\n",
            "   macro avg       0.72      0.74      0.71       600\n",
            "weighted avg       0.76      0.72      0.72       600\n",
            "\n"
          ]
        }
      ]
    },
    {
      "cell_type": "markdown",
      "source": [
        "лучший скор получился при использовании ngram_range=(1, 1)"
      ],
      "metadata": {
        "id": "He4TmiGCcniT"
      }
    },
    {
      "cell_type": "markdown",
      "source": [
        "### использование скрытых тем в качестве признаков:"
      ],
      "metadata": {
        "id": "DupP_PV1cwIk"
      }
    },
    {
      "cell_type": "markdown",
      "source": [
        "#### 1 вариант"
      ],
      "metadata": {
        "id": "zVJ6u_NMdCC8"
      }
    },
    {
      "cell_type": "code",
      "source": [
        "from gensim.models import lsimodel"
      ],
      "metadata": {
        "id": "O5p7k1RHez_5"
      },
      "execution_count": null,
      "outputs": []
    },
    {
      "cell_type": "code",
      "source": [
        "clf_tf_idf = Pipeline(\n",
        "    [('vect', CountVectorizer()),\n",
        "     ('tfidf', TfidfTransformer()),\n",
        "     ('clf', LogisticRegression())]\n",
        ")"
      ],
      "metadata": {
        "id": "p4-6QTMzeB_q"
      },
      "execution_count": null,
      "outputs": []
    },
    {
      "cell_type": "code",
      "source": [
        "clf_tf_idf.fit(X_train, y_train)\n",
        "\n",
        "pred = clf_tf_idf.predict(X_test)\n",
        "print(classification_report(pred, y_test))"
      ],
      "metadata": {
        "colab": {
          "base_uri": "https://localhost:8080/"
        },
        "id": "LnH4MQXsg20k",
        "outputId": "159df0e3-7d1d-457b-f8cf-7f5489e637c7"
      },
      "execution_count": null,
      "outputs": [
        {
          "output_type": "stream",
          "name": "stdout",
          "text": [
            "              precision    recall  f1-score   support\n",
            "\n",
            "         1.0       0.89      0.86      0.88       309\n",
            "         5.0       0.86      0.88      0.87       291\n",
            "\n",
            "    accuracy                           0.87       600\n",
            "   macro avg       0.87      0.87      0.87       600\n",
            "weighted avg       0.87      0.87      0.87       600\n",
            "\n"
          ]
        }
      ]
    },
    {
      "cell_type": "code",
      "source": [
        "clf_tf_idf_TruncatedSVD = Pipeline(\n",
        "    [('vect', CountVectorizer()),\n",
        "     ('tfidf', TfidfTransformer()),\n",
        "     ('tsvd', TruncatedSVD()),\n",
        "     ('clf', LogisticRegression())]\n",
        ")"
      ],
      "metadata": {
        "id": "IyzWwQA3gzEk"
      },
      "execution_count": null,
      "outputs": []
    },
    {
      "cell_type": "code",
      "source": [
        "clf_tf_idf_TruncatedSVD.fit(X_train, y_train)\n",
        "\n",
        "pred = clf_tf_idf_TruncatedSVD.predict(X_test)\n",
        "print(classification_report(pred, y_test))"
      ],
      "metadata": {
        "colab": {
          "base_uri": "https://localhost:8080/"
        },
        "id": "8X8PH5-pg9cq",
        "outputId": "b9780433-db3f-490d-b9d9-b38225e529b4"
      },
      "execution_count": null,
      "outputs": [
        {
          "output_type": "stream",
          "name": "stdout",
          "text": [
            "              precision    recall  f1-score   support\n",
            "\n",
            "         1.0       0.75      0.73      0.74       308\n",
            "         5.0       0.72      0.74      0.73       292\n",
            "\n",
            "    accuracy                           0.73       600\n",
            "   macro avg       0.73      0.74      0.73       600\n",
            "weighted avg       0.74      0.73      0.74       600\n",
            "\n"
          ]
        }
      ]
    },
    {
      "cell_type": "markdown",
      "source": [
        "#### 2 вариант"
      ],
      "metadata": {
        "id": "qhCYILybdFuP"
      }
    },
    {
      "cell_type": "code",
      "source": [
        "from sklearn.decomposition import LatentDirichletAllocation"
      ],
      "metadata": {
        "id": "eynKJvgwhoNF"
      },
      "execution_count": null,
      "outputs": []
    },
    {
      "cell_type": "code",
      "source": [
        "clf_tf_idf_LDA = Pipeline(\n",
        "    [('vect', CountVectorizer()),\n",
        "     ('lda', LatentDirichletAllocation()),\n",
        "     ('clf', LogisticRegression())]\n",
        ")"
      ],
      "metadata": {
        "id": "e1N0gG72dI4j"
      },
      "execution_count": null,
      "outputs": []
    },
    {
      "cell_type": "code",
      "source": [
        "clf_tf_idf_LDA.fit(X_train, y_train)\n",
        "\n",
        "pred = clf_tf_idf_LDA.predict(X_test)\n",
        "print(classification_report(pred, y_test))"
      ],
      "metadata": {
        "colab": {
          "base_uri": "https://localhost:8080/"
        },
        "id": "3pmKggaUhseW",
        "outputId": "90f1adcb-b4f3-4d53-a598-d7045b02f7ad"
      },
      "execution_count": null,
      "outputs": [
        {
          "output_type": "stream",
          "name": "stdout",
          "text": [
            "              precision    recall  f1-score   support\n",
            "\n",
            "         1.0       0.82      0.82      0.82       299\n",
            "         5.0       0.82      0.82      0.82       301\n",
            "\n",
            "    accuracy                           0.82       600\n",
            "   macro avg       0.82      0.82      0.82       600\n",
            "weighted avg       0.82      0.82      0.82       600\n",
            "\n"
          ]
        }
      ]
    },
    {
      "cell_type": "markdown",
      "source": [
        "Вывод: лучший результат показал clf_tf_idf"
      ],
      "metadata": {
        "id": "Mvv6vohsh6zQ"
      }
    }
  ]
}