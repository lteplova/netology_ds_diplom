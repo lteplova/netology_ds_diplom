{
  "nbformat": 4,
  "nbformat_minor": 0,
  "metadata": {
    "colab": {
      "provenance": [],
      "toc_visible": true
    },
    "kernelspec": {
      "name": "python3",
      "display_name": "Python 3"
    },
    "language_info": {
      "name": "python"
    }
  },
  "cells": [
    {
      "cell_type": "markdown",
      "source": [
        "# Домашнее задание №1 \"Сегментация и детекция объектов\""
      ],
      "metadata": {
        "id": "wo3tUI8RHcdl"
      }
    },
    {
      "cell_type": "markdown",
      "source": [
        "Распознавание рукописного ввода на примере базы MNIST\n",
        "\n",
        "Построить классификатор изображений рукописного ввода на базе MNIST. В качестве шаблона в данной работе можно использовать ipython-ноутбук 002-digit.ipynb.\n",
        "\n",
        "Классификатор предлагается строить на признаках, полученных в результате предобработки изображений, например, гистограммы градиентов (HOG) или результат PCA преобразования.\n",
        "\n",
        "В качестве модели классификатора можно использовать любую известную Вам модель, за исключением сверточных нейронных сетей.\n",
        "\n",
        "Критерием качества классификатора является метрика accuracy. Для получения зачета по данной работе, значение метрики accuracy должно быть больше 0.6. Метрика оценивается на тестовой выборке в рамках контеста Digit Recognizer на Kaggle.\n",
        "\n",
        "Решение необходимо предоставить в виде ipython-ноутбука с реализацией процесса построения модели и скриншота с финальным результатом на Kaggle.\n"
      ],
      "metadata": {
        "id": "7ImF5YlCHYoS"
      }
    },
    {
      "cell_type": "markdown",
      "source": [
        "## Подключение библиотек"
      ],
      "metadata": {
        "id": "fY7zVhsDEVPj"
      }
    },
    {
      "cell_type": "code",
      "execution_count": null,
      "metadata": {
        "id": "SY-btlqP5fZk"
      },
      "outputs": [],
      "source": [
        "%matplotlib inline\n",
        "import cv2\n",
        "import numpy as np\n",
        "import matplotlib.pyplot as plt\n",
        "from sklearn.metrics import classification_report\n",
        "from sklearn.model_selection import GridSearchCV\n",
        "from sklearn.model_selection import cross_val_score\n",
        "from sklearn.tree import DecisionTreeClassifier\n",
        "from sklearn.model_selection import train_test_split\n"
      ]
    },
    {
      "cell_type": "code",
      "source": [
        "print(cv2.__version__)"
      ],
      "metadata": {
        "colab": {
          "base_uri": "https://localhost:8080/"
        },
        "id": "w2IHReE86MBD",
        "outputId": "2c20a110-7d54-4fe4-c654-f50e23155144"
      },
      "execution_count": null,
      "outputs": [
        {
          "output_type": "stream",
          "name": "stdout",
          "text": [
            "4.7.0\n"
          ]
        }
      ]
    },
    {
      "cell_type": "markdown",
      "source": [
        "## Загрузка данных"
      ],
      "metadata": {
        "id": "96flbFxhEZPO"
      }
    },
    {
      "cell_type": "code",
      "source": [
        "!wget https://raw.githubusercontent.com/a4tunado/lectures/master/002/data/digit/test.csv"
      ],
      "metadata": {
        "colab": {
          "base_uri": "https://localhost:8080/"
        },
        "id": "3_8QVlEp8ijo",
        "outputId": "3b3fd26c-2dd7-4f2c-8afd-c90af9d31ccb"
      },
      "execution_count": null,
      "outputs": [
        {
          "output_type": "stream",
          "name": "stdout",
          "text": [
            "--2023-07-04 13:32:30--  https://raw.githubusercontent.com/a4tunado/lectures/master/002/data/digit/test.csv\n",
            "Resolving raw.githubusercontent.com (raw.githubusercontent.com)... 185.199.108.133, 185.199.109.133, 185.199.110.133, ...\n",
            "Connecting to raw.githubusercontent.com (raw.githubusercontent.com)|185.199.108.133|:443... connected.\n",
            "HTTP request sent, awaiting response... 200 OK\n",
            "Length: 51118296 (49M) [text/plain]\n",
            "Saving to: ‘test.csv’\n",
            "\n",
            "test.csv            100%[===================>]  48.75M   258MB/s    in 0.2s    \n",
            "\n",
            "2023-07-04 13:32:32 (258 MB/s) - ‘test.csv’ saved [51118296/51118296]\n",
            "\n"
          ]
        }
      ]
    },
    {
      "cell_type": "code",
      "source": [
        "!wget https://raw.githubusercontent.com/a4tunado/lectures/master/002/data/digit/train.csv"
      ],
      "metadata": {
        "colab": {
          "base_uri": "https://localhost:8080/"
        },
        "id": "hLDBU3Cy-xdS",
        "outputId": "f4890f4e-488e-4133-c8c7-5c8fbbcf4673"
      },
      "execution_count": null,
      "outputs": [
        {
          "output_type": "stream",
          "name": "stdout",
          "text": [
            "--2023-07-04 13:32:35--  https://raw.githubusercontent.com/a4tunado/lectures/master/002/data/digit/train.csv\n",
            "Resolving raw.githubusercontent.com (raw.githubusercontent.com)... 185.199.109.133, 185.199.110.133, 185.199.111.133, ...\n",
            "Connecting to raw.githubusercontent.com (raw.githubusercontent.com)|185.199.109.133|:443... connected.\n",
            "HTTP request sent, awaiting response... 200 OK\n",
            "Length: 76775041 (73M) [text/plain]\n",
            "Saving to: ‘train.csv’\n",
            "\n",
            "train.csv           100%[===================>]  73.22M   290MB/s    in 0.3s    \n",
            "\n",
            "2023-07-04 13:32:38 (290 MB/s) - ‘train.csv’ saved [76775041/76775041]\n",
            "\n"
          ]
        }
      ]
    },
    {
      "cell_type": "code",
      "source": [
        "train = np.loadtxt('/content/train.csv', delimiter=',', skiprows=1)\n",
        "test = np.loadtxt('/content/test.csv', delimiter=',', skiprows=1)"
      ],
      "metadata": {
        "id": "FZCtEIv--tM4"
      },
      "execution_count": null,
      "outputs": []
    },
    {
      "cell_type": "code",
      "source": [
        "# сохраняем разметку в отдельную переменную\n",
        "train_label = train[:, 0]\n",
        "# приводим размерность к удобному для обаботки виду\n",
        "train_img = np.resize(train[:, 1:], (train.shape[0], 28, 28))\n",
        "test_img = np.resize(test, (test.shape[0], 28, 28))"
      ],
      "metadata": {
        "id": "-7XuhAJC_AMw"
      },
      "execution_count": null,
      "outputs": []
    },
    {
      "cell_type": "markdown",
      "source": [
        "### Визуализация картинок из датасета"
      ],
      "metadata": {
        "id": "qbxky6tNEdgK"
      }
    },
    {
      "cell_type": "code",
      "source": [
        "fig = plt.figure(figsize=(20, 10))\n",
        "for i, img in enumerate(train_img[0:5], 1):\n",
        "    subplot = fig.add_subplot(1, 7, i)\n",
        "    plt.imshow(img, cmap='gray');\n",
        "    subplot.set_title('%s' % train_label[i - 1]);"
      ],
      "metadata": {
        "colab": {
          "base_uri": "https://localhost:8080/",
          "height": 272
        },
        "id": "320KBPjEEiBu",
        "outputId": "2a342615-1749-4a8b-f5e0-aeccd7fa6d87"
      },
      "execution_count": null,
      "outputs": [
        {
          "output_type": "display_data",
          "data": {
            "text/plain": [
              "<Figure size 2000x1000 with 5 Axes>"
            ],
            "image/png": "[encoded data removed]"
          },
          "metadata": {}
        }
      ]
    },
    {
      "cell_type": "markdown",
      "source": [
        "## Построение гистограммы градиентов (HOG) для классификации (подготовка данных для обучения)"
      ],
      "metadata": {
        "id": "D_w_ijk-Kp-E"
      }
    },
    {
      "cell_type": "markdown",
      "source": [
        "### Задаем параметры для вычисления HOG дескриптора"
      ],
      "metadata": {
        "id": "lF3oOAEzHts9"
      }
    },
    {
      "cell_type": "code",
      "source": [
        "winSize = (28,28)\n",
        "blockSize = (14,14)\n",
        "blockStride = (14,14)\n",
        "cellSize = (7,7)\n",
        "nbins = 9\n",
        "derivAperture = 1\n",
        "winSigma = 4.\n",
        "histogramNormType = 0\n",
        "L2HysThreshold = 2.0000000000000001e-01\n",
        "gammaCorrection = 0\n",
        "nlevels = 64\n",
        "\n",
        "hog = cv2.HOGDescriptor(winSize,\n",
        "                        blockSize,\n",
        "                        blockStride,\n",
        "                        cellSize,\n",
        "                        nbins,\n",
        "                        derivAperture,\n",
        "                        winSigma,\n",
        "                        histogramNormType,\n",
        "                        L2HysThreshold,\n",
        "                        gammaCorrection,\n",
        "                        nlevels)"
      ],
      "metadata": {
        "id": "4GJmrlXZH1sW"
      },
      "execution_count": null,
      "outputs": []
    },
    {
      "cell_type": "markdown",
      "source": [
        "### Вычисление дескриптора"
      ],
      "metadata": {
        "id": "skycNXqAISbM"
      }
    },
    {
      "cell_type": "code",
      "source": [
        "train_desc = np.zeros((len(train_img), 144))\n",
        "for i in range(len(train_img)):\n",
        "    descriptor = hog.compute(np.uint8(train_img[i]))\n",
        "    train_desc[i] = descriptor"
      ],
      "metadata": {
        "id": "TRNJLWa0aXHJ"
      },
      "execution_count": null,
      "outputs": []
    },
    {
      "cell_type": "code",
      "source": [
        "test_desc = np.zeros((len(test_img), 144))\n",
        "for i in range(len(test_img)):\n",
        "    descriptor = hog.compute(np.uint8(test_img[i]))\n",
        "    test_desc[i] = descriptor"
      ],
      "metadata": {
        "id": "4tOBWpvXR2pL"
      },
      "execution_count": null,
      "outputs": []
    },
    {
      "cell_type": "markdown",
      "source": [
        "### Нормализация полученных векторов"
      ],
      "metadata": {
        "id": "N0ci8_g1e9w1"
      }
    },
    {
      "cell_type": "code",
      "source": [
        "train_desc = train_desc / np.linalg.norm(train_desc, axis=1)[:, None]\n",
        "test_desc = test_desc / np.linalg.norm(test_desc, axis=1)[:, None]"
      ],
      "metadata": {
        "id": "FkeWsVede1NY"
      },
      "execution_count": null,
      "outputs": []
    },
    {
      "cell_type": "markdown",
      "source": [
        "## Построение и обучение модели DecisionTreeClassifier"
      ],
      "metadata": {
        "id": "Qx_LlP0GfMrb"
      }
    },
    {
      "cell_type": "code",
      "source": [
        "# Разбиение массива train на обучающую и валидационные выборки\n",
        "from sklearn.model_selection import train_test_split\n",
        "y_train, y_val, x_train, x_val = train_test_split(train_label, train_desc, test_size=0.2, random_state=42)"
      ],
      "metadata": {
        "id": "BzFpRouhe7rK"
      },
      "execution_count": null,
      "outputs": []
    },
    {
      "cell_type": "code",
      "source": [
        "params = {'max_depth': list( range(1, 20) ),\n",
        "            'min_samples_leaf' : [3000, 200, 100, 50, 10, 5]}"
      ],
      "metadata": {
        "id": "l27p1qWKyQva"
      },
      "execution_count": null,
      "outputs": []
    },
    {
      "cell_type": "markdown",
      "source": [
        "### Поиск лучших параметров с помощью GridSearch"
      ],
      "metadata": {
        "id": "3UyP1rPa454x"
      }
    },
    {
      "cell_type": "code",
      "source": [
        "gs = GridSearchCV( DecisionTreeClassifier(), param_grid = params, scoring = 'accuracy', return_train_score = False )"
      ],
      "metadata": {
        "id": "DX9_qq7FyRzr"
      },
      "execution_count": null,
      "outputs": []
    },
    {
      "cell_type": "code",
      "source": [
        "gs.fit( x_train, y_train )"
      ],
      "metadata": {
        "colab": {
          "base_uri": "https://localhost:8080/",
          "height": 118
        },
        "id": "cR2rYKv7yaYW",
        "outputId": "3ba410f8-849b-4e9e-d5a0-9277bb4f50dd"
      },
      "execution_count": null,
      "outputs": [
        {
          "output_type": "execute_result",
          "data": {
            "text/plain": [
              "GridSearchCV(estimator=DecisionTreeClassifier(),\n",
              "             param_grid={'max_depth': [1, 2, 3, 4, 5, 6, 7, 8, 9, 10, 11, 12,\n",
              "                                       13, 14, 15, 16, 17, 18, 19],\n",
              "                         'min_samples_leaf': [3000, 200, 100, 50, 10, 5]},\n",
              "             scoring='accuracy')"
            ],
            "text/html": [
              "<style>#sk-container-id-3 {color: black;background-color: white;}#sk-container-id-3 pre{padding: 0;}#sk-container-id-3 div.sk-toggleable {background-color: white;}#sk-container-id-3 label.sk-toggleable__label {cursor: pointer;display: block;width: 100%;margin-bottom: 0;padding: 0.3em;box-sizing: border-box;text-align: center;}#sk-container-id-3 label.sk-toggleable__label-arrow:before {content: \"▸\";float: left;margin-right: 0.25em;color: #696969;}#sk-container-id-3 label.sk-toggleable__label-arrow:hover:before {color: black;}#sk-container-id-3 div.sk-estimator:hover label.sk-toggleable__label-arrow:before {color: black;}#sk-container-id-3 div.sk-toggleable__content {max-height: 0;max-width: 0;overflow: hidden;text-align: left;background-color: #f0f8ff;}#sk-container-id-3 div.sk-toggleable__content pre {margin: 0.2em;color: black;border-radius: 0.25em;background-color: #f0f8ff;}#sk-container-id-3 input.sk-toggleable__control:checked~div.sk-toggleable__content {max-height: 200px;max-width: 100%;overflow: auto;}#sk-container-id-3 input.sk-toggleable__control:checked~label.sk-toggleable__label-arrow:before {content: \"▾\";}#sk-container-id-3 div.sk-estimator input.sk-toggleable__control:checked~label.sk-toggleable__label {background-color: #d4ebff;}#sk-container-id-3 div.sk-label input.sk-toggleable__control:checked~label.sk-toggleable__label {background-color: #d4ebff;}#sk-container-id-3 input.sk-hidden--visually {border: 0;clip: rect(1px 1px 1px 1px);clip: rect(1px, 1px, 1px, 1px);height: 1px;margin: -1px;overflow: hidden;padding: 0;position: absolute;width: 1px;}#sk-container-id-3 div.sk-estimator {font-family: monospace;background-color: #f0f8ff;border: 1px dotted black;border-radius: 0.25em;box-sizing: border-box;margin-bottom: 0.5em;}#sk-container-id-3 div.sk-estimator:hover {background-color: #d4ebff;}#sk-container-id-3 div.sk-parallel-item::after {content: \"\";width: 100%;border-bottom: 1px solid gray;flex-grow: 1;}#sk-container-id-3 div.sk-label:hover label.sk-toggleable__label {background-color: #d4ebff;}#sk-container-id-3 div.sk-serial::before {content: \"\";position: absolute;border-left: 1px solid gray;box-sizing: border-box;top: 0;bottom: 0;left: 50%;z-index: 0;}#sk-container-id-3 div.sk-serial {display: flex;flex-direction: column;align-items: center;background-color: white;padding-right: 0.2em;padding-left: 0.2em;position: relative;}#sk-container-id-3 div.sk-item {position: relative;z-index: 1;}#sk-container-id-3 div.sk-parallel {display: flex;align-items: stretch;justify-content: center;background-color: white;position: relative;}#sk-container-id-3 div.sk-item::before, #sk-container-id-3 div.sk-parallel-item::before {content: \"\";position: absolute;border-left: 1px solid gray;box-sizing: border-box;top: 0;bottom: 0;left: 50%;z-index: -1;}#sk-container-id-3 div.sk-parallel-item {display: flex;flex-direction: column;z-index: 1;position: relative;background-color: white;}#sk-container-id-3 div.sk-parallel-item:first-child::after {align-self: flex-end;width: 50%;}#sk-container-id-3 div.sk-parallel-item:last-child::after {align-self: flex-start;width: 50%;}#sk-container-id-3 div.sk-parallel-item:only-child::after {width: 0;}#sk-container-id-3 div.sk-dashed-wrapped {border: 1px dashed gray;margin: 0 0.4em 0.5em 0.4em;box-sizing: border-box;padding-bottom: 0.4em;background-color: white;}#sk-container-id-3 div.sk-label label {font-family: monospace;font-weight: bold;display: inline-block;line-height: 1.2em;}#sk-container-id-3 div.sk-label-container {text-align: center;}#sk-container-id-3 div.sk-container {/* jupyter's `normalize.less` sets `[hidden] { display: none; }` but bootstrap.min.css set `[hidden] { display: none !important; }` so we also need the `!important` here to be able to override the default hidden behavior on the sphinx rendered scikit-learn.org. See: https://github.com/scikit-learn/scikit-learn/issues/21755 */display: inline-block !important;position: relative;}#sk-container-id-3 div.sk-text-repr-fallback {display: none;}</style><div id=\"sk-container-id-3\" class=\"sk-top-container\"><div class=\"sk-text-repr-fallback\"><pre>GridSearchCV(estimator=DecisionTreeClassifier(),\n",
              "             param_grid={&#x27;max_depth&#x27;: [1, 2, 3, 4, 5, 6, 7, 8, 9, 10, 11, 12,\n",
              "                                       13, 14, 15, 16, 17, 18, 19],\n",
              "                         &#x27;min_samples_leaf&#x27;: [3000, 200, 100, 50, 10, 5]},\n",
              "             scoring=&#x27;accuracy&#x27;)</pre><b>In a Jupyter environment, please rerun this cell to show the HTML representation or trust the notebook. <br />On GitHub, the HTML representation is unable to render, please try loading this page with nbviewer.org.</b></div><div class=\"sk-container\" hidden><div class=\"sk-item sk-dashed-wrapped\"><div class=\"sk-label-container\"><div class=\"sk-label sk-toggleable\"><input class=\"sk-toggleable__control sk-hidden--visually\" id=\"sk-estimator-id-5\" type=\"checkbox\" ><label for=\"sk-estimator-id-5\" class=\"sk-toggleable__label sk-toggleable__label-arrow\">GridSearchCV</label><div class=\"sk-toggleable__content\"><pre>GridSearchCV(estimator=DecisionTreeClassifier(),\n",
              "             param_grid={&#x27;max_depth&#x27;: [1, 2, 3, 4, 5, 6, 7, 8, 9, 10, 11, 12,\n",
              "                                       13, 14, 15, 16, 17, 18, 19],\n",
              "                         &#x27;min_samples_leaf&#x27;: [3000, 200, 100, 50, 10, 5]},\n",
              "             scoring=&#x27;accuracy&#x27;)</pre></div></div></div><div class=\"sk-parallel\"><div class=\"sk-parallel-item\"><div class=\"sk-item\"><div class=\"sk-label-container\"><div class=\"sk-label sk-toggleable\"><input class=\"sk-toggleable__control sk-hidden--visually\" id=\"sk-estimator-id-6\" type=\"checkbox\" ><label for=\"sk-estimator-id-6\" class=\"sk-toggleable__label sk-toggleable__label-arrow\">estimator: DecisionTreeClassifier</label><div class=\"sk-toggleable__content\"><pre>DecisionTreeClassifier()</pre></div></div></div><div class=\"sk-serial\"><div class=\"sk-item\"><div class=\"sk-estimator sk-toggleable\"><input class=\"sk-toggleable__control sk-hidden--visually\" id=\"sk-estimator-id-7\" type=\"checkbox\" ><label for=\"sk-estimator-id-7\" class=\"sk-toggleable__label sk-toggleable__label-arrow\">DecisionTreeClassifier</label><div class=\"sk-toggleable__content\"><pre>DecisionTreeClassifier()</pre></div></div></div></div></div></div></div></div></div></div>"
            ]
          },
          "metadata": {},
          "execution_count": 123
        }
      ]
    },
    {
      "cell_type": "code",
      "source": [
        "gs.cv_results_"
      ],
      "metadata": {
        "colab": {
          "base_uri": "https://localhost:8080/"
        },
        "id": "zQLXT5GMyhrk",
        "outputId": "56effe0f-911a-4c43-ba87-c4b456f7a785"
      },
      "execution_count": null,
      "outputs": [
        {
          "output_type": "execute_result",
          "data": {
            "text/plain": [
              "{'mean_fit_time': array([0.52459116, 0.53599277, 0.54212303, 0.67247305, 0.5342948 ,\n",
              "        0.53417635, 1.0071887 , 1.10606394, 1.03221006, 1.18372049,\n",
              "        1.03454394, 1.18368516, 1.30241957, 1.66933484, 1.58799071,\n",
              "        1.5849062 , 1.6755724 , 1.52357445, 1.69507751, 3.05356455,\n",
              "        2.12511759, 2.13792953, 2.1517982 , 2.16854453, 1.66374197,\n",
              "        2.52398272, 2.54721084, 2.57786508, 2.65464468, 2.56974049,\n",
              "        1.79808922, 2.86592431, 2.93368301, 3.26086702, 2.98148255,\n",
              "        2.98991847, 1.8328546 , 3.17577324, 3.28092265, 3.48509073,\n",
              "        3.38270793, 3.3900022 , 1.79004035, 3.43552008, 3.70942106,\n",
              "        3.69631095, 3.94255047, 3.78182807, 1.79887309, 3.77160082,\n",
              "        3.81651163, 4.13750458, 4.08255835, 4.26478729, 1.79466152,\n",
              "        3.76307993, 4.17948427, 4.38733397, 4.41310124, 4.58610525,\n",
              "        1.7874166 , 3.83623691, 5.26874557, 5.58049035, 5.68433609,\n",
              "        5.47344303, 1.79592996, 4.17559371, 4.94446411, 5.32474523,\n",
              "        5.92651348, 5.21566081, 1.69364071, 4.09292235, 4.50744452,\n",
              "        4.87487755, 5.52122602, 6.24941068, 2.12103472, 4.06608815,\n",
              "        4.55464692, 4.96805768, 5.53335676, 5.69944181, 1.8026094 ,\n",
              "        3.90893021, 4.57572389, 5.0610487 , 5.71104326, 6.05976152,\n",
              "        1.63999052, 4.06670632, 4.58877873, 5.10592337, 5.88137579,\n",
              "        6.25235686, 1.65643954, 4.09681153, 4.60091863, 5.14916453,\n",
              "        6.05209742, 6.43723993, 1.67057538, 4.10038276, 4.61037016,\n",
              "        5.17973266, 6.13934941, 6.56208968, 1.67047195, 4.07125101,\n",
              "        4.60754209, 5.16671381, 6.20679231, 6.65875006]),\n",
              " 'std_fit_time': array([0.00253002, 0.00610278, 0.02130363, 0.09078107, 0.00307721,\n",
              "        0.00672114, 0.13700044, 0.15321958, 0.00454621, 0.14747087,\n",
              "        0.00401136, 0.18607206, 0.00777769, 0.20638251, 0.12992867,\n",
              "        0.16230408, 0.18691252, 0.00207777, 0.19599311, 1.22808043,\n",
              "        0.29585633, 0.30518841, 0.28447366, 0.26206528, 0.01207381,\n",
              "        0.18178102, 0.18592765, 0.2089762 , 0.23584074, 0.30661343,\n",
              "        0.22801146, 0.28151995, 0.20561799, 0.28598496, 0.3163658 ,\n",
              "        0.30712111, 0.19469478, 0.20202676, 0.25566126, 0.37037911,\n",
              "        0.17558817, 0.3033688 , 0.21181352, 0.307647  , 0.33419703,\n",
              "        0.19752721, 0.39606468, 0.20012919, 0.2472203 , 0.37571017,\n",
              "        0.18782627, 0.33015964, 0.29231976, 0.37091629, 0.21033107,\n",
              "        0.30482755, 0.31060761, 0.3619545 , 0.31487884, 0.31663222,\n",
              "        0.21737589, 0.20155103, 1.29833052, 0.74553469, 0.36183229,\n",
              "        0.76543049, 0.24656752, 0.535579  , 0.61827285, 0.58308487,\n",
              "        0.94323225, 0.29015857, 0.08955013, 0.26264399, 0.23105097,\n",
              "        0.39363286, 0.59145272, 1.47539615, 0.39553603, 0.24867768,\n",
              "        0.34772811, 0.37675915, 0.30029928, 0.38329915, 0.23955484,\n",
              "        0.32285907, 0.37040004, 0.30161229, 0.25990371, 0.3857541 ,\n",
              "        0.0100501 , 0.36075543, 0.36091345, 0.38392644, 0.40690593,\n",
              "        0.37573693, 0.00809544, 0.31388339, 0.40884175, 0.31631658,\n",
              "        0.42990214, 0.37547674, 0.00821674, 0.35503648, 0.41046733,\n",
              "        0.31121368, 0.41352744, 0.36230749, 0.02190326, 0.36012119,\n",
              "        0.33631193, 0.32583778, 0.40999988, 0.35649866]),\n",
              " 'mean_score_time': array([0.00347643, 0.00323429, 0.0037045 , 0.00392914, 0.00338659,\n",
              "        0.00323963, 0.0039257 , 0.00371442, 0.00340939, 0.00394506,\n",
              "        0.00338459, 0.00369015, 0.00354242, 0.00367656, 0.00366483,\n",
              "        0.00338969, 0.00385056, 0.00347548, 0.00388427, 0.00476971,\n",
              "        0.00383859, 0.00392318, 0.00389633, 0.00414977, 0.00375609,\n",
              "        0.00400176, 0.00389824, 0.00397573, 0.0041388 , 0.00361876,\n",
              "        0.00406265, 0.00404444, 0.00430636, 0.0044507 , 0.00403757,\n",
              "        0.0041162 , 0.0039207 , 0.00405941, 0.00413408, 0.00376129,\n",
              "        0.0040503 , 0.00438337, 0.00394258, 0.0044261 , 0.00385985,\n",
              "        0.00423083, 0.0043448 , 0.0043787 , 0.00422778, 0.00404301,\n",
              "        0.00448093, 0.00464106, 0.00384827, 0.00416546, 0.00386424,\n",
              "        0.00396905, 0.00457115, 0.00442362, 0.00400791, 0.00443172,\n",
              "        0.00417271, 0.00412164, 0.00588055, 0.00458655, 0.00488791,\n",
              "        0.00399013, 0.00386343, 0.00419087, 0.00450683, 0.0051434 ,\n",
              "        0.00461755, 0.00470328, 0.00400772, 0.00439863, 0.00438871,\n",
              "        0.00398998, 0.00432134, 0.00475969, 0.00563631, 0.00444679,\n",
              "        0.00420909, 0.00457435, 0.00467176, 0.00466146, 0.00405931,\n",
              "        0.00430512, 0.00401287, 0.00426173, 0.00493231, 0.00415621,\n",
              "        0.00365615, 0.00406704, 0.00430875, 0.00413432, 0.00421329,\n",
              "        0.00450921, 0.00399098, 0.0042603 , 0.00396748, 0.00428472,\n",
              "        0.00416493, 0.00443969, 0.00369444, 0.0041141 , 0.00398951,\n",
              "        0.00451732, 0.00423217, 0.00424895, 0.00402575, 0.00398932,\n",
              "        0.0045104 , 0.00436821, 0.0041728 , 0.00452905]),\n",
              " 'std_score_time': array([4.21070226e-04, 2.15362593e-05, 7.39282914e-04, 6.42086173e-04,\n",
              "        3.39721180e-04, 5.66254917e-05, 5.23467841e-04, 5.58903976e-04,\n",
              "        1.59132498e-04, 7.27980582e-04, 8.84969172e-05, 5.53359807e-04,\n",
              "        8.20087829e-05, 4.30007842e-04, 3.91202639e-04, 4.29414564e-05,\n",
              "        6.10451701e-04, 1.70336712e-04, 4.31874165e-04, 1.74670695e-03,\n",
              "        5.16188996e-04, 6.73160999e-04, 6.84663983e-04, 8.99968620e-04,\n",
              "        8.74329269e-05, 5.68066367e-04, 3.91722019e-04, 4.80495619e-04,\n",
              "        6.42992402e-04, 9.29868404e-05, 5.39920737e-04, 5.19466531e-04,\n",
              "        7.24307315e-04, 5.09193694e-04, 6.49117399e-04, 6.20576781e-04,\n",
              "        5.63938529e-04, 4.45330616e-04, 3.59133431e-04, 9.25920277e-05,\n",
              "        4.50415402e-04, 6.29386348e-04, 6.16943860e-04, 6.59043269e-04,\n",
              "        3.61616148e-05, 3.87343855e-04, 5.71820400e-04, 5.66872040e-04,\n",
              "        8.51966027e-04, 1.31072691e-04, 4.83721452e-04, 1.29524453e-03,\n",
              "        1.37092997e-04, 2.99607658e-04, 4.56860998e-04, 1.64777881e-04,\n",
              "        6.25010172e-04, 5.44200797e-04, 6.51595141e-05, 5.60060274e-04,\n",
              "        7.84186761e-04, 4.61282039e-04, 2.00165964e-03, 7.80704040e-04,\n",
              "        8.38007473e-04, 8.06897240e-05, 4.02849703e-04, 5.32636058e-04,\n",
              "        6.02547950e-04, 1.00790842e-03, 7.31436348e-04, 8.01261077e-04,\n",
              "        4.52664219e-04, 5.72491800e-04, 5.58678938e-04, 1.06967489e-04,\n",
              "        4.45991252e-04, 7.45318575e-04, 3.19569391e-03, 6.30754263e-04,\n",
              "        4.49314153e-04, 7.18897630e-04, 1.07115073e-03, 5.48525156e-04,\n",
              "        9.66106385e-04, 4.91130074e-04, 5.98899498e-05, 5.47225166e-04,\n",
              "        1.07609950e-03, 5.90600117e-05, 1.21752037e-04, 1.80216351e-04,\n",
              "        4.50345355e-04, 8.96477445e-05, 1.12320549e-04, 5.64821011e-04,\n",
              "        7.33928859e-04, 4.86847259e-04, 8.22596479e-05, 4.83761922e-04,\n",
              "        1.03708190e-04, 4.47809669e-04, 1.01497631e-04, 4.17616842e-04,\n",
              "        2.27435699e-04, 4.23444660e-04, 9.58375074e-05, 1.17596938e-04,\n",
              "        5.06119964e-04, 1.32422117e-04, 6.13831327e-04, 4.58853205e-04,\n",
              "        9.08221460e-05, 5.37730268e-04]),\n",
              " 'param_max_depth': masked_array(data=[1, 1, 1, 1, 1, 1, 2, 2, 2, 2, 2, 2, 3, 3, 3, 3, 3, 3,\n",
              "                    4, 4, 4, 4, 4, 4, 5, 5, 5, 5, 5, 5, 6, 6, 6, 6, 6, 6,\n",
              "                    7, 7, 7, 7, 7, 7, 8, 8, 8, 8, 8, 8, 9, 9, 9, 9, 9, 9,\n",
              "                    10, 10, 10, 10, 10, 10, 11, 11, 11, 11, 11, 11, 12, 12,\n",
              "                    12, 12, 12, 12, 13, 13, 13, 13, 13, 13, 14, 14, 14, 14,\n",
              "                    14, 14, 15, 15, 15, 15, 15, 15, 16, 16, 16, 16, 16, 16,\n",
              "                    17, 17, 17, 17, 17, 17, 18, 18, 18, 18, 18, 18, 19, 19,\n",
              "                    19, 19, 19, 19],\n",
              "              mask=[False, False, False, False, False, False, False, False,\n",
              "                    False, False, False, False, False, False, False, False,\n",
              "                    False, False, False, False, False, False, False, False,\n",
              "                    False, False, False, False, False, False, False, False,\n",
              "                    False, False, False, False, False, False, False, False,\n",
              "                    False, False, False, False, False, False, False, False,\n",
              "                    False, False, False, False, False, False, False, False,\n",
              "                    False, False, False, False, False, False, False, False,\n",
              "                    False, False, False, False, False, False, False, False,\n",
              "                    False, False, False, False, False, False, False, False,\n",
              "                    False, False, False, False, False, False, False, False,\n",
              "                    False, False, False, False, False, False, False, False,\n",
              "                    False, False, False, False, False, False, False, False,\n",
              "                    False, False, False, False, False, False, False, False,\n",
              "                    False, False],\n",
              "        fill_value='?',\n",
              "             dtype=object),\n",
              " 'param_min_samples_leaf': masked_array(data=[3000, 200, 100, 50, 10, 5, 3000, 200, 100, 50, 10, 5,\n",
              "                    3000, 200, 100, 50, 10, 5, 3000, 200, 100, 50, 10, 5,\n",
              "                    3000, 200, 100, 50, 10, 5, 3000, 200, 100, 50, 10, 5,\n",
              "                    3000, 200, 100, 50, 10, 5, 3000, 200, 100, 50, 10, 5,\n",
              "                    3000, 200, 100, 50, 10, 5, 3000, 200, 100, 50, 10, 5,\n",
              "                    3000, 200, 100, 50, 10, 5, 3000, 200, 100, 50, 10, 5,\n",
              "                    3000, 200, 100, 50, 10, 5, 3000, 200, 100, 50, 10, 5,\n",
              "                    3000, 200, 100, 50, 10, 5, 3000, 200, 100, 50, 10, 5,\n",
              "                    3000, 200, 100, 50, 10, 5, 3000, 200, 100, 50, 10, 5,\n",
              "                    3000, 200, 100, 50, 10, 5],\n",
              "              mask=[False, False, False, False, False, False, False, False,\n",
              "                    False, False, False, False, False, False, False, False,\n",
              "                    False, False, False, False, False, False, False, False,\n",
              "                    False, False, False, False, False, False, False, False,\n",
              "                    False, False, False, False, False, False, False, False,\n",
              "                    False, False, False, False, False, False, False, False,\n",
              "                    False, False, False, False, False, False, False, False,\n",
              "                    False, False, False, False, False, False, False, False,\n",
              "                    False, False, False, False, False, False, False, False,\n",
              "                    False, False, False, False, False, False, False, False,\n",
              "                    False, False, False, False, False, False, False, False,\n",
              "                    False, False, False, False, False, False, False, False,\n",
              "                    False, False, False, False, False, False, False, False,\n",
              "                    False, False, False, False, False, False, False, False,\n",
              "                    False, False],\n",
              "        fill_value='?',\n",
              "             dtype=object),\n",
              " 'params': [{'max_depth': 1, 'min_samples_leaf': 3000},\n",
              "  {'max_depth': 1, 'min_samples_leaf': 200},\n",
              "  {'max_depth': 1, 'min_samples_leaf': 100},\n",
              "  {'max_depth': 1, 'min_samples_leaf': 50},\n",
              "  {'max_depth': 1, 'min_samples_leaf': 10},\n",
              "  {'max_depth': 1, 'min_samples_leaf': 5},\n",
              "  {'max_depth': 2, 'min_samples_leaf': 3000},\n",
              "  {'max_depth': 2, 'min_samples_leaf': 200},\n",
              "  {'max_depth': 2, 'min_samples_leaf': 100},\n",
              "  {'max_depth': 2, 'min_samples_leaf': 50},\n",
              "  {'max_depth': 2, 'min_samples_leaf': 10},\n",
              "  {'max_depth': 2, 'min_samples_leaf': 5},\n",
              "  {'max_depth': 3, 'min_samples_leaf': 3000},\n",
              "  {'max_depth': 3, 'min_samples_leaf': 200},\n",
              "  {'max_depth': 3, 'min_samples_leaf': 100},\n",
              "  {'max_depth': 3, 'min_samples_leaf': 50},\n",
              "  {'max_depth': 3, 'min_samples_leaf': 10},\n",
              "  {'max_depth': 3, 'min_samples_leaf': 5},\n",
              "  {'max_depth': 4, 'min_samples_leaf': 3000},\n",
              "  {'max_depth': 4, 'min_samples_leaf': 200},\n",
              "  {'max_depth': 4, 'min_samples_leaf': 100},\n",
              "  {'max_depth': 4, 'min_samples_leaf': 50},\n",
              "  {'max_depth': 4, 'min_samples_leaf': 10},\n",
              "  {'max_depth': 4, 'min_samples_leaf': 5},\n",
              "  {'max_depth': 5, 'min_samples_leaf': 3000},\n",
              "  {'max_depth': 5, 'min_samples_leaf': 200},\n",
              "  {'max_depth': 5, 'min_samples_leaf': 100},\n",
              "  {'max_depth': 5, 'min_samples_leaf': 50},\n",
              "  {'max_depth': 5, 'min_samples_leaf': 10},\n",
              "  {'max_depth': 5, 'min_samples_leaf': 5},\n",
              "  {'max_depth': 6, 'min_samples_leaf': 3000},\n",
              "  {'max_depth': 6, 'min_samples_leaf': 200},\n",
              "  {'max_depth': 6, 'min_samples_leaf': 100},\n",
              "  {'max_depth': 6, 'min_samples_leaf': 50},\n",
              "  {'max_depth': 6, 'min_samples_leaf': 10},\n",
              "  {'max_depth': 6, 'min_samples_leaf': 5},\n",
              "  {'max_depth': 7, 'min_samples_leaf': 3000},\n",
              "  {'max_depth': 7, 'min_samples_leaf': 200},\n",
              "  {'max_depth': 7, 'min_samples_leaf': 100},\n",
              "  {'max_depth': 7, 'min_samples_leaf': 50},\n",
              "  {'max_depth': 7, 'min_samples_leaf': 10},\n",
              "  {'max_depth': 7, 'min_samples_leaf': 5},\n",
              "  {'max_depth': 8, 'min_samples_leaf': 3000},\n",
              "  {'max_depth': 8, 'min_samples_leaf': 200},\n",
              "  {'max_depth': 8, 'min_samples_leaf': 100},\n",
              "  {'max_depth': 8, 'min_samples_leaf': 50},\n",
              "  {'max_depth': 8, 'min_samples_leaf': 10},\n",
              "  {'max_depth': 8, 'min_samples_leaf': 5},\n",
              "  {'max_depth': 9, 'min_samples_leaf': 3000},\n",
              "  {'max_depth': 9, 'min_samples_leaf': 200},\n",
              "  {'max_depth': 9, 'min_samples_leaf': 100},\n",
              "  {'max_depth': 9, 'min_samples_leaf': 50},\n",
              "  {'max_depth': 9, 'min_samples_leaf': 10},\n",
              "  {'max_depth': 9, 'min_samples_leaf': 5},\n",
              "  {'max_depth': 10, 'min_samples_leaf': 3000},\n",
              "  {'max_depth': 10, 'min_samples_leaf': 200},\n",
              "  {'max_depth': 10, 'min_samples_leaf': 100},\n",
              "  {'max_depth': 10, 'min_samples_leaf': 50},\n",
              "  {'max_depth': 10, 'min_samples_leaf': 10},\n",
              "  {'max_depth': 10, 'min_samples_leaf': 5},\n",
              "  {'max_depth': 11, 'min_samples_leaf': 3000},\n",
              "  {'max_depth': 11, 'min_samples_leaf': 200},\n",
              "  {'max_depth': 11, 'min_samples_leaf': 100},\n",
              "  {'max_depth': 11, 'min_samples_leaf': 50},\n",
              "  {'max_depth': 11, 'min_samples_leaf': 10},\n",
              "  {'max_depth': 11, 'min_samples_leaf': 5},\n",
              "  {'max_depth': 12, 'min_samples_leaf': 3000},\n",
              "  {'max_depth': 12, 'min_samples_leaf': 200},\n",
              "  {'max_depth': 12, 'min_samples_leaf': 100},\n",
              "  {'max_depth': 12, 'min_samples_leaf': 50},\n",
              "  {'max_depth': 12, 'min_samples_leaf': 10},\n",
              "  {'max_depth': 12, 'min_samples_leaf': 5},\n",
              "  {'max_depth': 13, 'min_samples_leaf': 3000},\n",
              "  {'max_depth': 13, 'min_samples_leaf': 200},\n",
              "  {'max_depth': 13, 'min_samples_leaf': 100},\n",
              "  {'max_depth': 13, 'min_samples_leaf': 50},\n",
              "  {'max_depth': 13, 'min_samples_leaf': 10},\n",
              "  {'max_depth': 13, 'min_samples_leaf': 5},\n",
              "  {'max_depth': 14, 'min_samples_leaf': 3000},\n",
              "  {'max_depth': 14, 'min_samples_leaf': 200},\n",
              "  {'max_depth': 14, 'min_samples_leaf': 100},\n",
              "  {'max_depth': 14, 'min_samples_leaf': 50},\n",
              "  {'max_depth': 14, 'min_samples_leaf': 10},\n",
              "  {'max_depth': 14, 'min_samples_leaf': 5},\n",
              "  {'max_depth': 15, 'min_samples_leaf': 3000},\n",
              "  {'max_depth': 15, 'min_samples_leaf': 200},\n",
              "  {'max_depth': 15, 'min_samples_leaf': 100},\n",
              "  {'max_depth': 15, 'min_samples_leaf': 50},\n",
              "  {'max_depth': 15, 'min_samples_leaf': 10},\n",
              "  {'max_depth': 15, 'min_samples_leaf': 5},\n",
              "  {'max_depth': 16, 'min_samples_leaf': 3000},\n",
              "  {'max_depth': 16, 'min_samples_leaf': 200},\n",
              "  {'max_depth': 16, 'min_samples_leaf': 100},\n",
              "  {'max_depth': 16, 'min_samples_leaf': 50},\n",
              "  {'max_depth': 16, 'min_samples_leaf': 10},\n",
              "  {'max_depth': 16, 'min_samples_leaf': 5},\n",
              "  {'max_depth': 17, 'min_samples_leaf': 3000},\n",
              "  {'max_depth': 17, 'min_samples_leaf': 200},\n",
              "  {'max_depth': 17, 'min_samples_leaf': 100},\n",
              "  {'max_depth': 17, 'min_samples_leaf': 50},\n",
              "  {'max_depth': 17, 'min_samples_leaf': 10},\n",
              "  {'max_depth': 17, 'min_samples_leaf': 5},\n",
              "  {'max_depth': 18, 'min_samples_leaf': 3000},\n",
              "  {'max_depth': 18, 'min_samples_leaf': 200},\n",
              "  {'max_depth': 18, 'min_samples_leaf': 100},\n",
              "  {'max_depth': 18, 'min_samples_leaf': 50},\n",
              "  {'max_depth': 18, 'min_samples_leaf': 10},\n",
              "  {'max_depth': 18, 'min_samples_leaf': 5},\n",
              "  {'max_depth': 19, 'min_samples_leaf': 3000},\n",
              "  {'max_depth': 19, 'min_samples_leaf': 200},\n",
              "  {'max_depth': 19, 'min_samples_leaf': 100},\n",
              "  {'max_depth': 19, 'min_samples_leaf': 50},\n",
              "  {'max_depth': 19, 'min_samples_leaf': 10},\n",
              "  {'max_depth': 19, 'min_samples_leaf': 5}],\n",
              " 'split0_test_score': array([0.20625   , 0.20625   , 0.20625   , 0.20625   , 0.20625   ,\n",
              "        0.20625   , 0.28660714, 0.27886905, 0.27886905, 0.27886905,\n",
              "        0.27886905, 0.27886905, 0.41279762, 0.36264881, 0.36264881,\n",
              "        0.36264881, 0.36264881, 0.36264881, 0.5297619 , 0.47738095,\n",
              "        0.478125  , 0.48050595, 0.48050595, 0.48050595, 0.56904762,\n",
              "        0.56934524, 0.5733631 , 0.57708333, 0.57782738, 0.578125  ,\n",
              "        0.56904762, 0.64761905, 0.65297619, 0.65729167, 0.6610119 ,\n",
              "        0.66220238, 0.56904762, 0.70238095, 0.7139881 , 0.71919643,\n",
              "        0.7235119 , 0.72485119, 0.56904762, 0.74241071, 0.76383929,\n",
              "        0.77232143, 0.77931548, 0.78050595, 0.56904762, 0.75520833,\n",
              "        0.78571429, 0.79583333, 0.80907738, 0.8110119 , 0.56904762,\n",
              "        0.75758929, 0.79122024, 0.81041667, 0.82797619, 0.82946429,\n",
              "        0.56904762, 0.75758929, 0.79300595, 0.81845238, 0.84047619,\n",
              "        0.8421131 , 0.56904762, 0.75758929, 0.79583333, 0.82395833,\n",
              "        0.84627976, 0.84970238, 0.56904762, 0.75758929, 0.79583333,\n",
              "        0.82633929, 0.853125  , 0.85729167, 0.56904762, 0.75758929,\n",
              "        0.79583333, 0.82633929, 0.85550595, 0.85922619, 0.56904762,\n",
              "        0.75758929, 0.79583333, 0.82633929, 0.85565476, 0.85863095,\n",
              "        0.56904762, 0.75758929, 0.79583333, 0.82633929, 0.85729167,\n",
              "        0.86041667, 0.56904762, 0.75758929, 0.79583333, 0.82633929,\n",
              "        0.85877976, 0.85982143, 0.56904762, 0.75758929, 0.79583333,\n",
              "        0.82633929, 0.8577381 , 0.86011905, 0.56904762, 0.75758929,\n",
              "        0.79583333, 0.82633929, 0.85758929, 0.85967262]),\n",
              " 'split1_test_score': array([0.20595238, 0.20595238, 0.20595238, 0.20595238, 0.20595238,\n",
              "        0.20595238, 0.28869048, 0.27946429, 0.27946429, 0.27946429,\n",
              "        0.27946429, 0.27946429, 0.42455357, 0.36175595, 0.36175595,\n",
              "        0.36175595, 0.36175595, 0.36175595, 0.53303571, 0.47633929,\n",
              "        0.48005952, 0.48080357, 0.48080357, 0.48080357, 0.57752976,\n",
              "        0.56860119, 0.57678571, 0.58020833, 0.58065476, 0.58065476,\n",
              "        0.57752976, 0.63973214, 0.64895833, 0.65267857, 0.65267857,\n",
              "        0.65208333, 0.57752976, 0.69702381, 0.71205357, 0.71830357,\n",
              "        0.72217262, 0.721875  , 0.57752976, 0.73675595, 0.76294643,\n",
              "        0.77455357, 0.78139881, 0.78229167, 0.57752976, 0.7547619 ,\n",
              "        0.78467262, 0.80446429, 0.81547619, 0.81607143, 0.57752976,\n",
              "        0.75907738, 0.7922619 , 0.81502976, 0.82991071, 0.82857143,\n",
              "        0.57752976, 0.75907738, 0.79940476, 0.82589286, 0.84345238,\n",
              "        0.84404762, 0.57752976, 0.75907738, 0.79940476, 0.83199405,\n",
              "        0.85699405, 0.85758929, 0.57752976, 0.75907738, 0.79940476,\n",
              "        0.83229167, 0.85997024, 0.85922619, 0.57752976, 0.75907738,\n",
              "        0.79940476, 0.83229167, 0.8625    , 0.86309524, 0.57752976,\n",
              "        0.75907738, 0.79940476, 0.83229167, 0.86294643, 0.86517857,\n",
              "        0.57752976, 0.75907738, 0.79940476, 0.83229167, 0.86294643,\n",
              "        0.86488095, 0.57752976, 0.75907738, 0.79940476, 0.83229167,\n",
              "        0.86383929, 0.86636905, 0.57752976, 0.75907738, 0.79940476,\n",
              "        0.83229167, 0.86279762, 0.86279762, 0.57752976, 0.75907738,\n",
              "        0.79940476, 0.83229167, 0.86279762, 0.86443452]),\n",
              " 'split2_test_score': array([0.2046131 , 0.2046131 , 0.2046131 , 0.2046131 , 0.2046131 ,\n",
              "        0.2046131 , 0.28645833, 0.28080357, 0.28080357, 0.28080357,\n",
              "        0.28080357, 0.28080357, 0.41994048, 0.36428571, 0.36428571,\n",
              "        0.36428571, 0.36428571, 0.36428571, 0.5328869 , 0.47842262,\n",
              "        0.4796131 , 0.48229167, 0.48244048, 0.48244048, 0.56964286,\n",
              "        0.57083333, 0.57589286, 0.58422619, 0.5828869 , 0.5828869 ,\n",
              "        0.56964286, 0.6485119 , 0.65446429, 0.66309524, 0.66607143,\n",
              "        0.66577381, 0.56964286, 0.70029762, 0.71741071, 0.72827381,\n",
              "        0.7328869 , 0.73244048, 0.56964286, 0.7391369 , 0.76666667,\n",
              "        0.78333333, 0.78943452, 0.78883929, 0.56964286, 0.74970238,\n",
              "        0.78258929, 0.80252976, 0.81354167, 0.81309524, 0.56964286,\n",
              "        0.7514881 , 0.78764881, 0.8108631 , 0.83020833, 0.83303571,\n",
              "        0.56964286, 0.7514881 , 0.796875  , 0.82098214, 0.8452381 ,\n",
              "        0.84880952, 0.56964286, 0.7514881 , 0.7985119 , 0.82455357,\n",
              "        0.85029762, 0.85119048, 0.56964286, 0.7514881 , 0.7985119 ,\n",
              "        0.8266369 , 0.85669643, 0.86011905, 0.56964286, 0.7514881 ,\n",
              "        0.7985119 , 0.8266369 , 0.85892857, 0.85982143, 0.56964286,\n",
              "        0.7514881 , 0.7985119 , 0.8266369 , 0.859375  , 0.86294643,\n",
              "        0.56964286, 0.7514881 , 0.7985119 , 0.8266369 , 0.8578869 ,\n",
              "        0.86294643, 0.56964286, 0.7514881 , 0.7985119 , 0.8266369 ,\n",
              "        0.85818452, 0.86145833, 0.56964286, 0.7514881 , 0.7985119 ,\n",
              "        0.8266369 , 0.85818452, 0.8639881 , 0.56964286, 0.7514881 ,\n",
              "        0.7985119 , 0.8266369 , 0.8578869 , 0.8625    ]),\n",
              " 'split3_test_score': array([0.20595238, 0.20595238, 0.20595238, 0.20595238, 0.20595238,\n",
              "        0.20595238, 0.28824405, 0.28244048, 0.28244048, 0.28244048,\n",
              "        0.28244048, 0.28244048, 0.42142857, 0.36339286, 0.36324405,\n",
              "        0.36324405, 0.36324405, 0.36324405, 0.5375    , 0.48735119,\n",
              "        0.48928571, 0.49181548, 0.49032738, 0.49032738, 0.57842262,\n",
              "        0.58095238, 0.58333333, 0.58839286, 0.59002976, 0.58988095,\n",
              "        0.57842262, 0.65967262, 0.66294643, 0.66904762, 0.67276786,\n",
              "        0.67232143, 0.57842262, 0.71607143, 0.72916667, 0.73630952,\n",
              "        0.74196429, 0.74330357, 0.57842262, 0.74791667, 0.77261905,\n",
              "        0.78482143, 0.79285714, 0.79434524, 0.57842262, 0.76026786,\n",
              "        0.78720238, 0.80208333, 0.81577381, 0.81875   , 0.57842262,\n",
              "        0.76577381, 0.79434524, 0.81473214, 0.83794643, 0.84047619,\n",
              "        0.57842262, 0.76815476, 0.79925595, 0.82247024, 0.85044643,\n",
              "        0.8547619 , 0.57842262, 0.76815476, 0.80104167, 0.82633929,\n",
              "        0.85967262, 0.8641369 , 0.57842262, 0.76815476, 0.80104167,\n",
              "        0.82633929, 0.86264881, 0.86904762, 0.57842262, 0.76815476,\n",
              "        0.80104167, 0.82782738, 0.86532738, 0.871875  , 0.57842262,\n",
              "        0.76815476, 0.80104167, 0.82782738, 0.86607143, 0.871875  ,\n",
              "        0.57842262, 0.76815476, 0.80104167, 0.82782738, 0.86666667,\n",
              "        0.87172619, 0.57842262, 0.76815476, 0.80104167, 0.82782738,\n",
              "        0.86592262, 0.87142857, 0.57842262, 0.76815476, 0.80104167,\n",
              "        0.82782738, 0.86488095, 0.87217262, 0.57842262, 0.76815476,\n",
              "        0.80104167, 0.82782738, 0.86488095, 0.87202381]),\n",
              " 'split4_test_score': array([0.20580357, 0.20580357, 0.20580357, 0.20580357, 0.20580357,\n",
              "        0.20580357, 0.28645833, 0.28214286, 0.28214286, 0.28214286,\n",
              "        0.28214286, 0.28214286, 0.42261905, 0.36785714, 0.36800595,\n",
              "        0.36800595, 0.36800595, 0.36800595, 0.53809524, 0.48645833,\n",
              "        0.48794643, 0.4889881 , 0.48883929, 0.48883929, 0.57544643,\n",
              "        0.57321429, 0.57529762, 0.57752976, 0.57752976, 0.57782738,\n",
              "        0.57544643, 0.653125  , 0.65967262, 0.66205357, 0.66473214,\n",
              "        0.66532738, 0.57544643, 0.71011905, 0.72321429, 0.72633929,\n",
              "        0.72991071, 0.72991071, 0.57544643, 0.74627976, 0.76502976,\n",
              "        0.77217262, 0.77797619, 0.77782738, 0.57544643, 0.76354167,\n",
              "        0.78675595, 0.79791667, 0.809375  , 0.80907738, 0.57544643,\n",
              "        0.76800595, 0.79866071, 0.81369048, 0.82767857, 0.82872024,\n",
              "        0.57544643, 0.76979167, 0.80550595, 0.82291667, 0.84479167,\n",
              "        0.84553571, 0.57544643, 0.76979167, 0.80744048, 0.82752976,\n",
              "        0.85178571, 0.85595238, 0.57544643, 0.76979167, 0.80744048,\n",
              "        0.82946429, 0.85848214, 0.85967262, 0.57544643, 0.76979167,\n",
              "        0.80744048, 0.82946429, 0.85892857, 0.86339286, 0.57544643,\n",
              "        0.76979167, 0.80744048, 0.82946429, 0.85877976, 0.86235119,\n",
              "        0.57544643, 0.76979167, 0.80744048, 0.82946429, 0.85982143,\n",
              "        0.86339286, 0.57544643, 0.76979167, 0.80744048, 0.82946429,\n",
              "        0.85967262, 0.8639881 , 0.57544643, 0.76979167, 0.80744048,\n",
              "        0.82946429, 0.85982143, 0.86383929, 0.57544643, 0.76979167,\n",
              "        0.80744048, 0.82946429, 0.859375  , 0.86294643]),\n",
              " 'mean_test_score': array([0.20571429, 0.20571429, 0.20571429, 0.20571429, 0.20571429,\n",
              "        0.20571429, 0.28729167, 0.28074405, 0.28074405, 0.28074405,\n",
              "        0.28074405, 0.28074405, 0.42026786, 0.3639881 , 0.3639881 ,\n",
              "        0.3639881 , 0.3639881 , 0.3639881 , 0.53425595, 0.48119048,\n",
              "        0.48300595, 0.48488095, 0.48458333, 0.48458333, 0.57401786,\n",
              "        0.57258929, 0.57693452, 0.5814881 , 0.58178571, 0.581875  ,\n",
              "        0.57401786, 0.64973214, 0.65580357, 0.66083333, 0.66345238,\n",
              "        0.66354167, 0.57401786, 0.70517857, 0.71916667, 0.72568452,\n",
              "        0.73008929, 0.73047619, 0.57401786, 0.7425    , 0.76622024,\n",
              "        0.77744048, 0.78419643, 0.7847619 , 0.57401786, 0.75669643,\n",
              "        0.7853869 , 0.80056548, 0.81264881, 0.81360119, 0.57401786,\n",
              "        0.7603869 , 0.79282738, 0.81294643, 0.83074405, 0.83205357,\n",
              "        0.57401786, 0.76122024, 0.79880952, 0.82214286, 0.84488095,\n",
              "        0.84705357, 0.57401786, 0.76122024, 0.80044643, 0.826875  ,\n",
              "        0.85300595, 0.85571429, 0.57401786, 0.76122024, 0.80044643,\n",
              "        0.82821429, 0.85818452, 0.86107143, 0.57401786, 0.76122024,\n",
              "        0.80044643, 0.8285119 , 0.8602381 , 0.86348214, 0.57401786,\n",
              "        0.76122024, 0.80044643, 0.8285119 , 0.86056548, 0.86419643,\n",
              "        0.57401786, 0.76122024, 0.80044643, 0.8285119 , 0.86092262,\n",
              "        0.86467262, 0.57401786, 0.76122024, 0.80044643, 0.8285119 ,\n",
              "        0.86127976, 0.8646131 , 0.57401786, 0.76122024, 0.80044643,\n",
              "        0.8285119 , 0.86068452, 0.86458333, 0.57401786, 0.76122024,\n",
              "        0.80044643, 0.8285119 , 0.86050595, 0.86431548]),\n",
              " 'std_test_score': array([0.00056938, 0.00056938, 0.00056938, 0.00056938, 0.00056938,\n",
              "        0.00056938, 0.00097172, 0.00141361, 0.00141361, 0.00141361,\n",
              "        0.00141361, 0.00141361, 0.00402876, 0.00210659, 0.00217078,\n",
              "        0.00217078, 0.00217078, 0.00217078, 0.00312486, 0.00472043,\n",
              "        0.00464457, 0.00463522, 0.00416199, 0.00416199, 0.00394005,\n",
              "        0.00446865, 0.00339077, 0.00428675, 0.00456591, 0.00440577,\n",
              "        0.00394005, 0.00657691, 0.00495247, 0.00553395, 0.00659251,\n",
              "        0.00660822, 0.00394005, 0.00694569, 0.00627503, 0.00658176,\n",
              "        0.00713876, 0.00740731, 0.00394005, 0.00419379, 0.0034336 ,\n",
              "        0.00550442, 0.00587856, 0.00601279, 0.00394005, 0.0047851 ,\n",
              "        0.00165011, 0.00318661, 0.0028993 , 0.00346519, 0.00394005,\n",
              "        0.00592957, 0.00363461, 0.00194024, 0.00373936, 0.00451322,\n",
              "        0.00394005, 0.00684174, 0.00406988, 0.00243866, 0.003242  ,\n",
              "        0.00443283, 0.00394005, 0.00684174, 0.00388276, 0.00285714,\n",
              "        0.00478362, 0.00512095, 0.00394005, 0.00684174, 0.00388276,\n",
              "        0.00235401, 0.00319438, 0.00410304, 0.00394005, 0.00684174,\n",
              "        0.00388276, 0.00218623, 0.00337164, 0.00451911, 0.00394005,\n",
              "        0.00684174, 0.00388276, 0.00218623, 0.00359738, 0.00437874,\n",
              "        0.00394005, 0.00684174, 0.00388276, 0.00218623, 0.0034843 ,\n",
              "        0.00380859, 0.00394005, 0.00684174, 0.00388276, 0.00218623,\n",
              "        0.00305027, 0.00407031, 0.00394005, 0.00684174, 0.00388276,\n",
              "        0.00218623, 0.00274778, 0.00404039, 0.00394005, 0.00684174,\n",
              "        0.00388276, 0.00218623, 0.00286488, 0.00415112]),\n",
              " 'rank_test_score': array([109, 109, 109, 109, 109, 109, 103, 104, 104, 104, 104, 104,  97,\n",
              "        102,  98,  98,  98,  98,  91,  96,  95,  92,  93,  93,  75,  90,\n",
              "         74,  73,  72,  71,  75,  70,  69,  68,  67,  66,  75,  65,  64,\n",
              "         63,  62,  61,  75,  60,  48,  47,  46,  45,  75,  59,  44,  33,\n",
              "         32,  30,  75,  58,  43,  31,  20,  19,  75,  49,  42,  29,  18,\n",
              "         17,  75,  49,  34,  28,  16,  15,  75,  49,  34,  27,  14,   8,\n",
              "         75,  49,  34,  21,  13,   6,  75,  49,  34,  21,  11,   5,  75,\n",
              "         49,  34,  21,   9,   1,  75,  49,  34,  21,   7,   2,  75,  49,\n",
              "         34,  21,  10,   3,  75,  49,  34,  21,  12,   4], dtype=int32)}"
            ]
          },
          "metadata": {},
          "execution_count": 124
        }
      ]
    },
    {
      "cell_type": "code",
      "source": [
        "gs.best_params_"
      ],
      "metadata": {
        "colab": {
          "base_uri": "https://localhost:8080/"
        },
        "id": "FsrjJ851ykaT",
        "outputId": "ba5d6531-082c-4fe2-8571-2621ae83253f"
      },
      "execution_count": null,
      "outputs": [
        {
          "output_type": "execute_result",
          "data": {
            "text/plain": [
              "{'max_depth': 16, 'min_samples_leaf': 5}"
            ]
          },
          "metadata": {},
          "execution_count": 125
        }
      ]
    },
    {
      "cell_type": "markdown",
      "source": [
        "### Обучение с найденными лучшими параметрами"
      ],
      "metadata": {
        "id": "G_5cApLh9zm6"
      }
    },
    {
      "cell_type": "code",
      "source": [
        "cross_val_score(DecisionTreeClassifier( max_depth = 16, min_samples_leaf =  5), x_train, y_train, cv = 5, scoring = 'accuracy')"
      ],
      "metadata": {
        "colab": {
          "base_uri": "https://localhost:8080/"
        },
        "id": "CLuj_Oxn02-Z",
        "outputId": "1fa9aed4-294f-424f-cda5-cb348e3dcda1"
      },
      "execution_count": null,
      "outputs": [
        {
          "output_type": "execute_result",
          "data": {
            "text/plain": [
              "array([0.85863095, 0.86592262, 0.8610119 , 0.87217262, 0.86264881])"
            ]
          },
          "metadata": {},
          "execution_count": 77
        }
      ]
    },
    {
      "cell_type": "code",
      "source": [
        "model = DecisionTreeClassifier(max_depth = 16,  min_samples_leaf =  5, random_state = 42)"
      ],
      "metadata": {
        "id": "QCL3rbWM1DYu"
      },
      "execution_count": null,
      "outputs": []
    },
    {
      "cell_type": "code",
      "source": [
        "model.fit(x_train, y_train)"
      ],
      "metadata": {
        "colab": {
          "base_uri": "https://localhost:8080/",
          "height": 75
        },
        "id": "geIY2TA02fhT",
        "outputId": "69c21dd9-c300-46eb-8f04-a4595845a4fb"
      },
      "execution_count": null,
      "outputs": [
        {
          "output_type": "execute_result",
          "data": {
            "text/plain": [
              "DecisionTreeClassifier(max_depth=16, min_samples_leaf=5, random_state=42)"
            ],
            "text/html": [
              "<style>#sk-container-id-4 {color: black;background-color: white;}#sk-container-id-4 pre{padding: 0;}#sk-container-id-4 div.sk-toggleable {background-color: white;}#sk-container-id-4 label.sk-toggleable__label {cursor: pointer;display: block;width: 100%;margin-bottom: 0;padding: 0.3em;box-sizing: border-box;text-align: center;}#sk-container-id-4 label.sk-toggleable__label-arrow:before {content: \"▸\";float: left;margin-right: 0.25em;color: #696969;}#sk-container-id-4 label.sk-toggleable__label-arrow:hover:before {color: black;}#sk-container-id-4 div.sk-estimator:hover label.sk-toggleable__label-arrow:before {color: black;}#sk-container-id-4 div.sk-toggleable__content {max-height: 0;max-width: 0;overflow: hidden;text-align: left;background-color: #f0f8ff;}#sk-container-id-4 div.sk-toggleable__content pre {margin: 0.2em;color: black;border-radius: 0.25em;background-color: #f0f8ff;}#sk-container-id-4 input.sk-toggleable__control:checked~div.sk-toggleable__content {max-height: 200px;max-width: 100%;overflow: auto;}#sk-container-id-4 input.sk-toggleable__control:checked~label.sk-toggleable__label-arrow:before {content: \"▾\";}#sk-container-id-4 div.sk-estimator input.sk-toggleable__control:checked~label.sk-toggleable__label {background-color: #d4ebff;}#sk-container-id-4 div.sk-label input.sk-toggleable__control:checked~label.sk-toggleable__label {background-color: #d4ebff;}#sk-container-id-4 input.sk-hidden--visually {border: 0;clip: rect(1px 1px 1px 1px);clip: rect(1px, 1px, 1px, 1px);height: 1px;margin: -1px;overflow: hidden;padding: 0;position: absolute;width: 1px;}#sk-container-id-4 div.sk-estimator {font-family: monospace;background-color: #f0f8ff;border: 1px dotted black;border-radius: 0.25em;box-sizing: border-box;margin-bottom: 0.5em;}#sk-container-id-4 div.sk-estimator:hover {background-color: #d4ebff;}#sk-container-id-4 div.sk-parallel-item::after {content: \"\";width: 100%;border-bottom: 1px solid gray;flex-grow: 1;}#sk-container-id-4 div.sk-label:hover label.sk-toggleable__label {background-color: #d4ebff;}#sk-container-id-4 div.sk-serial::before {content: \"\";position: absolute;border-left: 1px solid gray;box-sizing: border-box;top: 0;bottom: 0;left: 50%;z-index: 0;}#sk-container-id-4 div.sk-serial {display: flex;flex-direction: column;align-items: center;background-color: white;padding-right: 0.2em;padding-left: 0.2em;position: relative;}#sk-container-id-4 div.sk-item {position: relative;z-index: 1;}#sk-container-id-4 div.sk-parallel {display: flex;align-items: stretch;justify-content: center;background-color: white;position: relative;}#sk-container-id-4 div.sk-item::before, #sk-container-id-4 div.sk-parallel-item::before {content: \"\";position: absolute;border-left: 1px solid gray;box-sizing: border-box;top: 0;bottom: 0;left: 50%;z-index: -1;}#sk-container-id-4 div.sk-parallel-item {display: flex;flex-direction: column;z-index: 1;position: relative;background-color: white;}#sk-container-id-4 div.sk-parallel-item:first-child::after {align-self: flex-end;width: 50%;}#sk-container-id-4 div.sk-parallel-item:last-child::after {align-self: flex-start;width: 50%;}#sk-container-id-4 div.sk-parallel-item:only-child::after {width: 0;}#sk-container-id-4 div.sk-dashed-wrapped {border: 1px dashed gray;margin: 0 0.4em 0.5em 0.4em;box-sizing: border-box;padding-bottom: 0.4em;background-color: white;}#sk-container-id-4 div.sk-label label {font-family: monospace;font-weight: bold;display: inline-block;line-height: 1.2em;}#sk-container-id-4 div.sk-label-container {text-align: center;}#sk-container-id-4 div.sk-container {/* jupyter's `normalize.less` sets `[hidden] { display: none; }` but bootstrap.min.css set `[hidden] { display: none !important; }` so we also need the `!important` here to be able to override the default hidden behavior on the sphinx rendered scikit-learn.org. See: https://github.com/scikit-learn/scikit-learn/issues/21755 */display: inline-block !important;position: relative;}#sk-container-id-4 div.sk-text-repr-fallback {display: none;}</style><div id=\"sk-container-id-4\" class=\"sk-top-container\"><div class=\"sk-text-repr-fallback\"><pre>DecisionTreeClassifier(max_depth=16, min_samples_leaf=5, random_state=42)</pre><b>In a Jupyter environment, please rerun this cell to show the HTML representation or trust the notebook. <br />On GitHub, the HTML representation is unable to render, please try loading this page with nbviewer.org.</b></div><div class=\"sk-container\" hidden><div class=\"sk-item\"><div class=\"sk-estimator sk-toggleable\"><input class=\"sk-toggleable__control sk-hidden--visually\" id=\"sk-estimator-id-4\" type=\"checkbox\" checked><label for=\"sk-estimator-id-4\" class=\"sk-toggleable__label sk-toggleable__label-arrow\">DecisionTreeClassifier</label><div class=\"sk-toggleable__content\"><pre>DecisionTreeClassifier(max_depth=16, min_samples_leaf=5, random_state=42)</pre></div></div></div></div></div>"
            ]
          },
          "metadata": {},
          "execution_count": 79
        }
      ]
    },
    {
      "cell_type": "code",
      "source": [
        "model.score(x_val, y_val)"
      ],
      "metadata": {
        "colab": {
          "base_uri": "https://localhost:8080/"
        },
        "id": "VbZc1I2r4kwa",
        "outputId": "70354c90-d259-4492-f746-e501f6636b67"
      },
      "execution_count": null,
      "outputs": [
        {
          "output_type": "execute_result",
          "data": {
            "text/plain": [
              "0.866904761904762"
            ]
          },
          "metadata": {},
          "execution_count": 83
        }
      ]
    },
    {
      "cell_type": "markdown",
      "source": [
        "### classification_report"
      ],
      "metadata": {
        "id": "T08NxLas97x1"
      }
    },
    {
      "cell_type": "code",
      "source": [
        "predict= model.predict(x_val)\n",
        "print(classification_report(y_val, predict))"
      ],
      "metadata": {
        "colab": {
          "base_uri": "https://localhost:8080/"
        },
        "id": "EeBLYv0r2yQO",
        "outputId": "29ea22bb-3fe0-4c42-f557-edcdeee786d3"
      },
      "execution_count": null,
      "outputs": [
        {
          "output_type": "stream",
          "name": "stdout",
          "text": [
            "              precision    recall  f1-score   support\n",
            "\n",
            "         0.0       0.89      0.91      0.90       816\n",
            "         1.0       0.94      0.95      0.94       909\n",
            "         2.0       0.84      0.85      0.84       846\n",
            "         3.0       0.85      0.85      0.85       937\n",
            "         4.0       0.87      0.87      0.87       839\n",
            "         5.0       0.86      0.86      0.86       702\n",
            "         6.0       0.91      0.90      0.90       785\n",
            "         7.0       0.84      0.85      0.85       893\n",
            "         8.0       0.82      0.80      0.81       835\n",
            "         9.0       0.85      0.83      0.84       838\n",
            "\n",
            "    accuracy                           0.87      8400\n",
            "   macro avg       0.87      0.87      0.87      8400\n",
            "weighted avg       0.87      0.87      0.87      8400\n",
            "\n"
          ]
        }
      ]
    },
    {
      "cell_type": "markdown",
      "source": [
        "### Предсказание для тестового массива"
      ],
      "metadata": {
        "id": "h9l9UW9TO3UF"
      }
    },
    {
      "cell_type": "code",
      "source": [
        "x_test = test_desc"
      ],
      "metadata": {
        "id": "kxw5xQ5CO2ZO"
      },
      "execution_count": null,
      "outputs": []
    },
    {
      "cell_type": "code",
      "source": [
        "predict_test = model.predict(x_test)\n",
        "# print(classification_report(y_val, predict))"
      ],
      "metadata": {
        "id": "5qWeUKXIPKVZ"
      },
      "execution_count": null,
      "outputs": []
    },
    {
      "cell_type": "code",
      "source": [
        "predict_test"
      ],
      "metadata": {
        "colab": {
          "base_uri": "https://localhost:8080/"
        },
        "id": "eAyiw7ZLRIWB",
        "outputId": "d6e7c3b4-c9ce-41cc-8709-ea2a25800259"
      },
      "execution_count": null,
      "outputs": [
        {
          "output_type": "execute_result",
          "data": {
            "text/plain": [
              "array([3., 0., 9., ..., 3., 9., 2.])"
            ]
          },
          "metadata": {},
          "execution_count": 92
        }
      ]
    },
    {
      "cell_type": "markdown",
      "source": [
        "### Сохранение результатов в csv файл"
      ],
      "metadata": {
        "id": "DQn3phuT9pTB"
      }
    },
    {
      "cell_type": "code",
      "source": [
        "import pandas as pd"
      ],
      "metadata": {
        "id": "ZpKQ5HkGWVPC"
      },
      "execution_count": null,
      "outputs": []
    },
    {
      "cell_type": "code",
      "source": [
        "submit = pd.DataFrame()\n",
        "submit['ImageId'] = 0\n",
        "submit['Label'] = predict_test\n",
        "submit.index += 1\n",
        "submit['ImageId'] = submit.index\n",
        "submit['Label'] = submit['Label'].astype('int64')"
      ],
      "metadata": {
        "id": "dx-Qvwsdaxcd"
      },
      "execution_count": null,
      "outputs": []
    },
    {
      "cell_type": "code",
      "source": [
        "submit.to_csv('submitt.csv', index = False)"
      ],
      "metadata": {
        "id": "EtaJfpo5bPOq"
      },
      "execution_count": null,
      "outputs": []
    },
    {
      "cell_type": "code",
      "source": [
        "# отрисовка предсказанных значений\n",
        "fig = plt.figure(figsize=(20, 10))\n",
        "for i, img in enumerate(test_img[1:6], 1):\n",
        "    subplot = fig.add_subplot(1, 7, i)\n",
        "    plt.imshow(img, cmap='gray');\n",
        "    subplot.set_title('%s' % predict_test[i]);\n"
      ],
      "metadata": {
        "colab": {
          "base_uri": "https://localhost:8080/",
          "height": 272
        },
        "id": "Wnj7epkl-_Tt",
        "outputId": "dc8c68b6-ee31-40d6-c1a8-b53515419db6"
      },
      "execution_count": null,
      "outputs": [
        {
          "output_type": "display_data",
          "data": {
            "text/plain": [
              "<Figure size 2000x1000 with 5 Axes>"
            ],
            "image/png": "[encoded data removed]"
          },
          "metadata": {}
        }
      ]
    }
  ]
}