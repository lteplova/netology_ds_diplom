{
  "nbformat": 4,
  "nbformat_minor": 0,
  "metadata": {
    "colab": {
      "provenance": [],
      "toc_visible": true
    },
    "kernelspec": {
      "name": "python3",
      "display_name": "Python 3"
    },
    "language_info": {
      "name": "python"
    }
  },
  "cells": [
    {
      "cell_type": "code",
      "execution_count": null,
      "metadata": {
        "id": "80BgK312GsHl"
      },
      "outputs": [],
      "source": [
        "import matplotlib.pyplot as plt\n",
        "import pandas as pd\n",
        "import numpy as np"
      ]
    },
    {
      "cell_type": "code",
      "source": [
        "# Использую датасет Moscow schools - winners of educational Olympiads\n",
        "#https://www.kaggle.com/datasets/romazepa/moscow-schools-winners-of-educational-olympiads?resource=download\n",
        "\n",
        "df = pd.read_csv('/content/drive/MyDrive/data_colab/moscow schools - winners.csv')\n",
        "df.head()"
      ],
      "metadata": {
        "colab": {
          "base_uri": "https://localhost:8080/",
          "height": 206
        },
        "id": "tPOazl2DJfA4",
        "outputId": "430caede-40c8-44a8-fdd6-20875db6713d"
      },
      "execution_count": null,
      "outputs": [
        {
          "output_type": "execute_result",
          "data": {
            "text/plain": [
              "                                            FullName  \\\n",
              "0  Государственное бюджетное общеобразовательное ...   \n",
              "1  Государственное бюджетное общеобразовательное ...   \n",
              "2  Государственное бюджетное общеобразовательное ...   \n",
              "3  Государственное бюджетное образовательное учре...   \n",
              "4  Государственное бюджетное образовательное учре...   \n",
              "\n",
              "                   ShortName             OlympiadType Stage Class  \\\n",
              "0  ГБОУ лицей «Вторая школа»  Всероссийская олимпиада     3    11   \n",
              "1  ГБОУ лицей «Вторая школа»  Всероссийская олимпиада     3    11   \n",
              "2  ГБОУ лицей «Вторая школа»  Всероссийская олимпиада     3    10   \n",
              "3              ГБОУ СОШ № 26  Всероссийская олимпиада     4    11   \n",
              "4              ГБОУ СОШ № 26  Всероссийская олимпиада     3    11   \n",
              "\n",
              "                              Subject      Status       Year global_id  \n",
              "0  Иностранный язык (английский язык)      призёр  2012/2013   4472939  \n",
              "1  Иностранный язык (английский язык)      призёр  2012/2013   4472940  \n",
              "2  Иностранный язык (английский язык)      призёр  2012/2013   4472941  \n",
              "3  Иностранный язык (английский язык)  победитель  2012/2013   4472942  \n",
              "4  Иностранный язык (английский язык)      призёр  2012/2013   4472943  "
            ],
            "text/html": [
              "\n",
              "  <div id=\"df-389ab490-d07c-4720-bf10-6f7dcfe54583\">\n",
              "    <div class=\"colab-df-container\">\n",
              "      <div>\n",
              "<style scoped>\n",
              "    .dataframe tbody tr th:only-of-type {\n",
              "        vertical-align: middle;\n",
              "    }\n",
              "\n",
              "    .dataframe tbody tr th {\n",
              "        vertical-align: top;\n",
              "    }\n",
              "\n",
              "    .dataframe thead th {\n",
              "        text-align: right;\n",
              "    }\n",
              "</style>\n",
              "<table border=\"1\" class=\"dataframe\">\n",
              "  <thead>\n",
              "    <tr style=\"text-align: right;\">\n",
              "      <th></th>\n",
              "      <th>FullName</th>\n",
              "      <th>ShortName</th>\n",
              "      <th>OlympiadType</th>\n",
              "      <th>Stage</th>\n",
              "      <th>Class</th>\n",
              "      <th>Subject</th>\n",
              "      <th>Status</th>\n",
              "      <th>Year</th>\n",
              "      <th>global_id</th>\n",
              "    </tr>\n",
              "  </thead>\n",
              "  <tbody>\n",
              "    <tr>\n",
              "      <th>0</th>\n",
              "      <td>Государственное бюджетное общеобразовательное ...</td>\n",
              "      <td>ГБОУ лицей «Вторая школа»</td>\n",
              "      <td>Всероссийская олимпиада</td>\n",
              "      <td>3</td>\n",
              "      <td>11</td>\n",
              "      <td>Иностранный язык (английский язык)</td>\n",
              "      <td>призёр</td>\n",
              "      <td>2012/2013</td>\n",
              "      <td>4472939</td>\n",
              "    </tr>\n",
              "    <tr>\n",
              "      <th>1</th>\n",
              "      <td>Государственное бюджетное общеобразовательное ...</td>\n",
              "      <td>ГБОУ лицей «Вторая школа»</td>\n",
              "      <td>Всероссийская олимпиада</td>\n",
              "      <td>3</td>\n",
              "      <td>11</td>\n",
              "      <td>Иностранный язык (английский язык)</td>\n",
              "      <td>призёр</td>\n",
              "      <td>2012/2013</td>\n",
              "      <td>4472940</td>\n",
              "    </tr>\n",
              "    <tr>\n",
              "      <th>2</th>\n",
              "      <td>Государственное бюджетное общеобразовательное ...</td>\n",
              "      <td>ГБОУ лицей «Вторая школа»</td>\n",
              "      <td>Всероссийская олимпиада</td>\n",
              "      <td>3</td>\n",
              "      <td>10</td>\n",
              "      <td>Иностранный язык (английский язык)</td>\n",
              "      <td>призёр</td>\n",
              "      <td>2012/2013</td>\n",
              "      <td>4472941</td>\n",
              "    </tr>\n",
              "    <tr>\n",
              "      <th>3</th>\n",
              "      <td>Государственное бюджетное образовательное учре...</td>\n",
              "      <td>ГБОУ СОШ № 26</td>\n",
              "      <td>Всероссийская олимпиада</td>\n",
              "      <td>4</td>\n",
              "      <td>11</td>\n",
              "      <td>Иностранный язык (английский язык)</td>\n",
              "      <td>победитель</td>\n",
              "      <td>2012/2013</td>\n",
              "      <td>4472942</td>\n",
              "    </tr>\n",
              "    <tr>\n",
              "      <th>4</th>\n",
              "      <td>Государственное бюджетное образовательное учре...</td>\n",
              "      <td>ГБОУ СОШ № 26</td>\n",
              "      <td>Всероссийская олимпиада</td>\n",
              "      <td>3</td>\n",
              "      <td>11</td>\n",
              "      <td>Иностранный язык (английский язык)</td>\n",
              "      <td>призёр</td>\n",
              "      <td>2012/2013</td>\n",
              "      <td>4472943</td>\n",
              "    </tr>\n",
              "  </tbody>\n",
              "</table>\n",
              "</div>\n",
              "      <button class=\"colab-df-convert\" onclick=\"convertToInteractive('df-389ab490-d07c-4720-bf10-6f7dcfe54583')\"\n",
              "              title=\"Convert this dataframe to an interactive table.\"\n",
              "              style=\"display:none;\">\n",
              "        \n",
              "  <svg xmlns=\"http://www.w3.org/2000/svg\" height=\"24px\"viewBox=\"0 0 24 24\"\n",
              "       width=\"24px\">\n",
              "    <path d=\"M0 0h24v24H0V0z\" fill=\"none\"/>\n",
              "    <path d=\"M18.56 5.44l.94 2.06.94-2.06 2.06-.94-2.06-.94-.94-2.06-.94 2.06-2.06.94zm-11 1L8.5 8.5l.94-2.06 2.06-.94-2.06-.94L8.5 2.5l-.94 2.06-2.06.94zm10 10l.94 2.06.94-2.06 2.06-.94-2.06-.94-.94-2.06-.94 2.06-2.06.94z\"/><path d=\"M17.41 7.96l-1.37-1.37c-.4-.4-.92-.59-1.43-.59-.52 0-1.04.2-1.43.59L10.3 9.45l-7.72 7.72c-.78.78-.78 2.05 0 2.83L4 21.41c.39.39.9.59 1.41.59.51 0 1.02-.2 1.41-.59l7.78-7.78 2.81-2.81c.8-.78.8-2.07 0-2.86zM5.41 20L4 18.59l7.72-7.72 1.47 1.35L5.41 20z\"/>\n",
              "  </svg>\n",
              "      </button>\n",
              "      \n",
              "  <style>\n",
              "    .colab-df-container {\n",
              "      display:flex;\n",
              "      flex-wrap:wrap;\n",
              "      gap: 12px;\n",
              "    }\n",
              "\n",
              "    .colab-df-convert {\n",
              "      background-color: #E8F0FE;\n",
              "      border: none;\n",
              "      border-radius: 50%;\n",
              "      cursor: pointer;\n",
              "      display: none;\n",
              "      fill: #1967D2;\n",
              "      height: 32px;\n",
              "      padding: 0 0 0 0;\n",
              "      width: 32px;\n",
              "    }\n",
              "\n",
              "    .colab-df-convert:hover {\n",
              "      background-color: #E2EBFA;\n",
              "      box-shadow: 0px 1px 2px rgba(60, 64, 67, 0.3), 0px 1px 3px 1px rgba(60, 64, 67, 0.15);\n",
              "      fill: #174EA6;\n",
              "    }\n",
              "\n",
              "    [theme=dark] .colab-df-convert {\n",
              "      background-color: #3B4455;\n",
              "      fill: #D2E3FC;\n",
              "    }\n",
              "\n",
              "    [theme=dark] .colab-df-convert:hover {\n",
              "      background-color: #434B5C;\n",
              "      box-shadow: 0px 1px 3px 1px rgba(0, 0, 0, 0.15);\n",
              "      filter: drop-shadow(0px 1px 2px rgba(0, 0, 0, 0.3));\n",
              "      fill: #FFFFFF;\n",
              "    }\n",
              "  </style>\n",
              "\n",
              "      <script>\n",
              "        const buttonEl =\n",
              "          document.querySelector('#df-389ab490-d07c-4720-bf10-6f7dcfe54583 button.colab-df-convert');\n",
              "        buttonEl.style.display =\n",
              "          google.colab.kernel.accessAllowed ? 'block' : 'none';\n",
              "\n",
              "        async function convertToInteractive(key) {\n",
              "          const element = document.querySelector('#df-389ab490-d07c-4720-bf10-6f7dcfe54583');\n",
              "          const dataTable =\n",
              "            await google.colab.kernel.invokeFunction('convertToInteractive',\n",
              "                                                     [key], {});\n",
              "          if (!dataTable) return;\n",
              "\n",
              "          const docLinkHtml = 'Like what you see? Visit the ' +\n",
              "            '<a target=\"_blank\" href=https://colab.research.google.com/notebooks/data_table.ipynb>data table notebook</a>'\n",
              "            + ' to learn more about interactive tables.';\n",
              "          element.innerHTML = '';\n",
              "          dataTable['output_type'] = 'display_data';\n",
              "          await google.colab.output.renderOutput(dataTable, element);\n",
              "          const docLink = document.createElement('div');\n",
              "          docLink.innerHTML = docLinkHtml;\n",
              "          element.appendChild(docLink);\n",
              "        }\n",
              "      </script>\n",
              "    </div>\n",
              "  </div>\n",
              "  "
            ]
          },
          "metadata": {},
          "execution_count": 3
        }
      ]
    },
    {
      "cell_type": "code",
      "source": [
        "df.info()"
      ],
      "metadata": {
        "colab": {
          "base_uri": "https://localhost:8080/"
        },
        "id": "LuBU7Yc1KPoZ",
        "outputId": "0bb31df2-c0df-402e-e25a-62cd174a81a5"
      },
      "execution_count": null,
      "outputs": [
        {
          "output_type": "stream",
          "name": "stdout",
          "text": [
            "<class 'pandas.core.frame.DataFrame'>\n",
            "RangeIndex: 74228 entries, 0 to 74227\n",
            "Data columns (total 9 columns):\n",
            " #   Column        Non-Null Count  Dtype \n",
            "---  ------        --------------  ----- \n",
            " 0   FullName      74228 non-null  object\n",
            " 1   ShortName     74228 non-null  object\n",
            " 2   OlympiadType  74228 non-null  object\n",
            " 3   Stage         49808 non-null  object\n",
            " 4   Class         74228 non-null  object\n",
            " 5   Subject       74228 non-null  object\n",
            " 6   Status        74228 non-null  object\n",
            " 7   Year          74228 non-null  object\n",
            " 8   global_id     74228 non-null  object\n",
            "dtypes: object(9)\n",
            "memory usage: 5.1+ MB\n"
          ]
        }
      ]
    },
    {
      "cell_type": "markdown",
      "source": [
        "## Предобработка данных"
      ],
      "metadata": {
        "id": "gr9bcJo1DLQL"
      }
    },
    {
      "cell_type": "code",
      "source": [
        "# анализ данных в столбце 'Class'\n",
        "df['Class'].unique()"
      ],
      "metadata": {
        "colab": {
          "base_uri": "https://localhost:8080/"
        },
        "id": "vreJ99b8K5ol",
        "outputId": "61d8e0da-c294-49c6-ac02-17a375de30f9"
      },
      "execution_count": null,
      "outputs": [
        {
          "output_type": "execute_result",
          "data": {
            "text/plain": [
              "array(['11', '10', '9', '7', '8', '6', '5', '4', '2', '3', '1', 'Class',\n",
              "       '12'], dtype=object)"
            ]
          },
          "metadata": {},
          "execution_count": 5
        }
      ]
    },
    {
      "cell_type": "code",
      "source": [
        "# замена на Nan значения 'Class'\n",
        "df['Class'] = df['Class'].replace('Class', np.NaN)\n",
        "df['Class'].unique()"
      ],
      "metadata": {
        "colab": {
          "base_uri": "https://localhost:8080/"
        },
        "id": "6cZUgdzeLG7L",
        "outputId": "29f75ee7-4d62-470a-b73f-24f0a1b6b64d"
      },
      "execution_count": null,
      "outputs": [
        {
          "output_type": "execute_result",
          "data": {
            "text/plain": [
              "array(['11', '10', '9', '7', '8', '6', '5', '4', '2', '3', '1', nan, '12'],\n",
              "      dtype=object)"
            ]
          },
          "metadata": {},
          "execution_count": 6
        }
      ]
    },
    {
      "cell_type": "code",
      "source": [
        "# анализ данных в столбце 'global_id'\n",
        "df['global_id'].head(100)"
      ],
      "metadata": {
        "id": "OiQGZsGMMWj9"
      },
      "execution_count": null,
      "outputs": []
    },
    {
      "cell_type": "code",
      "source": [
        "df['global_id'] = df['global_id'].replace('global_id', np.NaN)\n",
        "df['global_id'].unique()"
      ],
      "metadata": {
        "colab": {
          "base_uri": "https://localhost:8080/"
        },
        "id": "UcA6-EVNsvCv",
        "outputId": "50d2be9d-904d-491e-f779-ff75a56f0bf6"
      },
      "execution_count": null,
      "outputs": [
        {
          "output_type": "execute_result",
          "data": {
            "text/plain": [
              "array(['4472939', '4472940', '4472941', ..., '1060253198', '1060253199',\n",
              "       '1060253200'], dtype=object)"
            ]
          },
          "metadata": {},
          "execution_count": 8
        }
      ]
    },
    {
      "cell_type": "code",
      "source": [
        "# анализ данных в столбце 'Stage'\n",
        "df['Stage'].unique()"
      ],
      "metadata": {
        "colab": {
          "base_uri": "https://localhost:8080/"
        },
        "id": "UlMEuFKTMmLr",
        "outputId": "013d8d55-1b92-49ea-fb4e-3383a03ad10d"
      },
      "execution_count": null,
      "outputs": [
        {
          "output_type": "execute_result",
          "data": {
            "text/plain": [
              "array(['3', '4', nan, 'Stage'], dtype=object)"
            ]
          },
          "metadata": {},
          "execution_count": 9
        }
      ]
    },
    {
      "cell_type": "code",
      "source": [
        "df['Stage'] = df['Stage'].replace('Stage', np.NaN)\n",
        "df['Stage'].unique()"
      ],
      "metadata": {
        "colab": {
          "base_uri": "https://localhost:8080/"
        },
        "id": "Fyw2OyegM3zS",
        "outputId": "7dc3147f-5f38-434b-955a-5bb7f111c8f0"
      },
      "execution_count": null,
      "outputs": [
        {
          "output_type": "execute_result",
          "data": {
            "text/plain": [
              "array(['3', '4', nan], dtype=object)"
            ]
          },
          "metadata": {},
          "execution_count": 10
        }
      ]
    },
    {
      "cell_type": "code",
      "source": [
        "# заменим пропуски 'Stage' модой\n",
        "df['Stage'] = df['Stage'].fillna(df['Stage'].mode()[0])"
      ],
      "metadata": {
        "id": "h6f4XqveXeJ5"
      },
      "execution_count": null,
      "outputs": []
    },
    {
      "cell_type": "code",
      "source": [
        "# анализ данных в столбце 'Stage'\n",
        "df['Status'].unique()"
      ],
      "metadata": {
        "colab": {
          "base_uri": "https://localhost:8080/"
        },
        "id": "1cnaWqReaN52",
        "outputId": "3affa434-52cf-4778-e204-349e5f28287c"
      },
      "execution_count": null,
      "outputs": [
        {
          "output_type": "execute_result",
          "data": {
            "text/plain": [
              "array(['призёр', 'победитель', 'Status'], dtype=object)"
            ]
          },
          "metadata": {},
          "execution_count": 12
        }
      ]
    },
    {
      "cell_type": "code",
      "source": [
        "df['Status'] = df['Status'].replace('Status', np.NaN)\n",
        "df['Status'].unique()"
      ],
      "metadata": {
        "colab": {
          "base_uri": "https://localhost:8080/"
        },
        "id": "QURyLZHVaS-E",
        "outputId": "37378675-ed06-4654-e553-f06c2e9ef80b"
      },
      "execution_count": null,
      "outputs": [
        {
          "output_type": "execute_result",
          "data": {
            "text/plain": [
              "array(['призёр', 'победитель', nan], dtype=object)"
            ]
          },
          "metadata": {},
          "execution_count": 13
        }
      ]
    },
    {
      "cell_type": "code",
      "source": [
        "# заменим пропуски 'Stage' модой\n",
        "df['Status'] = df['Status'].fillna(df['Status'].mode()[0])"
      ],
      "metadata": {
        "id": "CGKoIliOacfc"
      },
      "execution_count": null,
      "outputs": []
    },
    {
      "cell_type": "code",
      "source": [
        "# анализ данных в столбце 'Year'\n",
        "df['Year'].unique()"
      ],
      "metadata": {
        "colab": {
          "base_uri": "https://localhost:8080/"
        },
        "id": "auoH_WFFNa9C",
        "outputId": "4c08215e-4e98-47eb-9951-58ff83e37871"
      },
      "execution_count": null,
      "outputs": [
        {
          "output_type": "execute_result",
          "data": {
            "text/plain": [
              "array(['2012/2013', '2014/2015', 'Year', '2013/2014', '2015/2016',\n",
              "       '2016/2017', '2017/2018', '2018/2019', '2019/2020'], dtype=object)"
            ]
          },
          "metadata": {},
          "execution_count": 15
        }
      ]
    },
    {
      "cell_type": "code",
      "source": [
        "df['Year'] = df['Year'].replace('Year', np.NaN)\n",
        "df['Year'].unique()"
      ],
      "metadata": {
        "colab": {
          "base_uri": "https://localhost:8080/"
        },
        "id": "qekEguO-NfTg",
        "outputId": "c70ded6b-01a3-4452-ca2f-0d67e46a09c7"
      },
      "execution_count": null,
      "outputs": [
        {
          "output_type": "execute_result",
          "data": {
            "text/plain": [
              "array(['2012/2013', '2014/2015', nan, '2013/2014', '2015/2016',\n",
              "       '2016/2017', '2017/2018', '2018/2019', '2019/2020'], dtype=object)"
            ]
          },
          "metadata": {},
          "execution_count": 16
        }
      ]
    },
    {
      "cell_type": "code",
      "source": [
        "# заменим пропуски 'Stage' модой\n",
        "df['Year'] = df['Year'].fillna(df['Year'].mode()[0])"
      ],
      "metadata": {
        "id": "22tMEPeGBI8v"
      },
      "execution_count": null,
      "outputs": []
    },
    {
      "cell_type": "code",
      "source": [
        "df['Class'] = df['Class'].replace('Class', np.NaN)\n",
        "df['Class'].unique()"
      ],
      "metadata": {
        "colab": {
          "base_uri": "https://localhost:8080/"
        },
        "id": "GqPE2ZtRj52N",
        "outputId": "caf4cef9-a0ac-47db-b759-5a5cf14b7499"
      },
      "execution_count": null,
      "outputs": [
        {
          "output_type": "execute_result",
          "data": {
            "text/plain": [
              "array(['11', '10', '9', '7', '8', '6', '5', '4', '2', '3', '1', nan, '12'],\n",
              "      dtype=object)"
            ]
          },
          "metadata": {},
          "execution_count": 20
        }
      ]
    },
    {
      "cell_type": "code",
      "source": [
        "df['Class'] = df['Class'].fillna(df['Class'].mode()[0])"
      ],
      "metadata": {
        "id": "Z_d6ILJakFFh"
      },
      "execution_count": null,
      "outputs": []
    },
    {
      "cell_type": "code",
      "source": [
        "# количество пропусков (nan)\n",
        "(df.isna().mean() * 100).round(2)"
      ],
      "metadata": {
        "colab": {
          "base_uri": "https://localhost:8080/"
        },
        "id": "OOUwmB-DNlcn",
        "outputId": "52629c2c-8090-4a80-da43-32c61704bfc2"
      },
      "execution_count": null,
      "outputs": [
        {
          "output_type": "execute_result",
          "data": {
            "text/plain": [
              "FullName        0.0\n",
              "ShortName       0.0\n",
              "OlympiadType    0.0\n",
              "Stage           0.0\n",
              "Class           0.0\n",
              "Subject         0.0\n",
              "Status          0.0\n",
              "Year            0.0\n",
              "global_id       0.1\n",
              "dtype: float64"
            ]
          },
          "metadata": {},
          "execution_count": 22
        }
      ]
    },
    {
      "cell_type": "code",
      "source": [
        "# исправим типы данных\n",
        "df['Stage'] = df['Stage'].astype('float64')\n",
        "df['Class'] = df['Class'].astype('float64')\n",
        "# df['global_id'] = df['global_id'].astype('float64')\n",
        "df['global_id'] = df['global_id'].astype('float64')"
      ],
      "metadata": {
        "id": "lyARvy0XNxW-"
      },
      "execution_count": null,
      "outputs": []
    },
    {
      "cell_type": "code",
      "source": [
        "df['Stage'] = df['Stage'].astype('Int64')\n",
        "df['Class'] = df['Class'].astype('Int64')\n",
        "df['global_id'] = df['global_id'].astype('Int64')\n"
      ],
      "metadata": {
        "id": "vTE7Fm_0fAwM"
      },
      "execution_count": null,
      "outputs": []
    },
    {
      "cell_type": "code",
      "source": [
        "# приведение названий придеметов и олимпиад в более компактный вид\n",
        "\n",
        "df['Subject'] = df['Subject'].replace('Информатика и Информационно-коммуникационные технологии (ИКТ)', 'ИКТ')\n",
        "df['Subject'] = df['Subject'].replace('Иностранный язык (английский язык)', 'английский')\n",
        "df['Subject'] = df['Subject'].replace('Иностранный язык (испанский язык)', 'испанский')\n",
        "df['Subject'] = df['Subject'].replace('Иностранный язык (китайский язык)', 'китайский')\n",
        "df['Subject'] = df['Subject'].replace('Иностранный язык (немецкий язык)', 'немецкий')\n",
        "df['Subject'] = df['Subject'].replace('Иностранный язык (итальянский язык)', 'итальянский')\n",
        "df['Subject'] = df['Subject'].replace('Иностранный язык (французский язык)', 'французский')\n",
        "df['Subject'] = df['Subject'].replace('Мировая Художественная Культура (МХК)', 'МХК')\n",
        "df['Subject'] = df['Subject'].replace('Основы безопасности жизнедеятельности', 'ОБЖ')\n",
        "df['OlympiadType'] = df['OlympiadType'].replace('Всероссийская олимпиада', 'ВОШ').replace('Московская олимпиада', 'МОШ')"
      ],
      "metadata": {
        "id": "dh3lRpM6r381"
      },
      "execution_count": null,
      "outputs": []
    },
    {
      "cell_type": "code",
      "source": [
        "df.head()"
      ],
      "metadata": {
        "colab": {
          "base_uri": "https://localhost:8080/",
          "height": 206
        },
        "id": "Mn_VWNffsAkv",
        "outputId": "7f277c78-9730-4f4f-d178-0b8b36a0d491"
      },
      "execution_count": null,
      "outputs": [
        {
          "output_type": "execute_result",
          "data": {
            "text/plain": [
              "                                            FullName  \\\n",
              "0  Государственное бюджетное общеобразовательное ...   \n",
              "1  Государственное бюджетное общеобразовательное ...   \n",
              "2  Государственное бюджетное общеобразовательное ...   \n",
              "3  Государственное бюджетное образовательное учре...   \n",
              "4  Государственное бюджетное образовательное учре...   \n",
              "\n",
              "                   ShortName OlympiadType  Stage  Class     Subject  \\\n",
              "0  ГБОУ лицей «Вторая школа»          ВОШ      3     11  английский   \n",
              "1  ГБОУ лицей «Вторая школа»          ВОШ      3     11  английский   \n",
              "2  ГБОУ лицей «Вторая школа»          ВОШ      3     10  английский   \n",
              "3              ГБОУ СОШ № 26          ВОШ      4     11  английский   \n",
              "4              ГБОУ СОШ № 26          ВОШ      3     11  английский   \n",
              "\n",
              "       Status       Year  global_id  \n",
              "0      призёр  2012/2013    4472939  \n",
              "1      призёр  2012/2013    4472940  \n",
              "2      призёр  2012/2013    4472941  \n",
              "3  победитель  2012/2013    4472942  \n",
              "4      призёр  2012/2013    4472943  "
            ],
            "text/html": [
              "\n",
              "  <div id=\"df-68f51942-9d12-43bb-9b31-e24bff99084b\">\n",
              "    <div class=\"colab-df-container\">\n",
              "      <div>\n",
              "<style scoped>\n",
              "    .dataframe tbody tr th:only-of-type {\n",
              "        vertical-align: middle;\n",
              "    }\n",
              "\n",
              "    .dataframe tbody tr th {\n",
              "        vertical-align: top;\n",
              "    }\n",
              "\n",
              "    .dataframe thead th {\n",
              "        text-align: right;\n",
              "    }\n",
              "</style>\n",
              "<table border=\"1\" class=\"dataframe\">\n",
              "  <thead>\n",
              "    <tr style=\"text-align: right;\">\n",
              "      <th></th>\n",
              "      <th>FullName</th>\n",
              "      <th>ShortName</th>\n",
              "      <th>OlympiadType</th>\n",
              "      <th>Stage</th>\n",
              "      <th>Class</th>\n",
              "      <th>Subject</th>\n",
              "      <th>Status</th>\n",
              "      <th>Year</th>\n",
              "      <th>global_id</th>\n",
              "    </tr>\n",
              "  </thead>\n",
              "  <tbody>\n",
              "    <tr>\n",
              "      <th>0</th>\n",
              "      <td>Государственное бюджетное общеобразовательное ...</td>\n",
              "      <td>ГБОУ лицей «Вторая школа»</td>\n",
              "      <td>ВОШ</td>\n",
              "      <td>3</td>\n",
              "      <td>11</td>\n",
              "      <td>английский</td>\n",
              "      <td>призёр</td>\n",
              "      <td>2012/2013</td>\n",
              "      <td>4472939</td>\n",
              "    </tr>\n",
              "    <tr>\n",
              "      <th>1</th>\n",
              "      <td>Государственное бюджетное общеобразовательное ...</td>\n",
              "      <td>ГБОУ лицей «Вторая школа»</td>\n",
              "      <td>ВОШ</td>\n",
              "      <td>3</td>\n",
              "      <td>11</td>\n",
              "      <td>английский</td>\n",
              "      <td>призёр</td>\n",
              "      <td>2012/2013</td>\n",
              "      <td>4472940</td>\n",
              "    </tr>\n",
              "    <tr>\n",
              "      <th>2</th>\n",
              "      <td>Государственное бюджетное общеобразовательное ...</td>\n",
              "      <td>ГБОУ лицей «Вторая школа»</td>\n",
              "      <td>ВОШ</td>\n",
              "      <td>3</td>\n",
              "      <td>10</td>\n",
              "      <td>английский</td>\n",
              "      <td>призёр</td>\n",
              "      <td>2012/2013</td>\n",
              "      <td>4472941</td>\n",
              "    </tr>\n",
              "    <tr>\n",
              "      <th>3</th>\n",
              "      <td>Государственное бюджетное образовательное учре...</td>\n",
              "      <td>ГБОУ СОШ № 26</td>\n",
              "      <td>ВОШ</td>\n",
              "      <td>4</td>\n",
              "      <td>11</td>\n",
              "      <td>английский</td>\n",
              "      <td>победитель</td>\n",
              "      <td>2012/2013</td>\n",
              "      <td>4472942</td>\n",
              "    </tr>\n",
              "    <tr>\n",
              "      <th>4</th>\n",
              "      <td>Государственное бюджетное образовательное учре...</td>\n",
              "      <td>ГБОУ СОШ № 26</td>\n",
              "      <td>ВОШ</td>\n",
              "      <td>3</td>\n",
              "      <td>11</td>\n",
              "      <td>английский</td>\n",
              "      <td>призёр</td>\n",
              "      <td>2012/2013</td>\n",
              "      <td>4472943</td>\n",
              "    </tr>\n",
              "  </tbody>\n",
              "</table>\n",
              "</div>\n",
              "      <button class=\"colab-df-convert\" onclick=\"convertToInteractive('df-68f51942-9d12-43bb-9b31-e24bff99084b')\"\n",
              "              title=\"Convert this dataframe to an interactive table.\"\n",
              "              style=\"display:none;\">\n",
              "        \n",
              "  <svg xmlns=\"http://www.w3.org/2000/svg\" height=\"24px\"viewBox=\"0 0 24 24\"\n",
              "       width=\"24px\">\n",
              "    <path d=\"M0 0h24v24H0V0z\" fill=\"none\"/>\n",
              "    <path d=\"M18.56 5.44l.94 2.06.94-2.06 2.06-.94-2.06-.94-.94-2.06-.94 2.06-2.06.94zm-11 1L8.5 8.5l.94-2.06 2.06-.94-2.06-.94L8.5 2.5l-.94 2.06-2.06.94zm10 10l.94 2.06.94-2.06 2.06-.94-2.06-.94-.94-2.06-.94 2.06-2.06.94z\"/><path d=\"M17.41 7.96l-1.37-1.37c-.4-.4-.92-.59-1.43-.59-.52 0-1.04.2-1.43.59L10.3 9.45l-7.72 7.72c-.78.78-.78 2.05 0 2.83L4 21.41c.39.39.9.59 1.41.59.51 0 1.02-.2 1.41-.59l7.78-7.78 2.81-2.81c.8-.78.8-2.07 0-2.86zM5.41 20L4 18.59l7.72-7.72 1.47 1.35L5.41 20z\"/>\n",
              "  </svg>\n",
              "      </button>\n",
              "      \n",
              "  <style>\n",
              "    .colab-df-container {\n",
              "      display:flex;\n",
              "      flex-wrap:wrap;\n",
              "      gap: 12px;\n",
              "    }\n",
              "\n",
              "    .colab-df-convert {\n",
              "      background-color: #E8F0FE;\n",
              "      border: none;\n",
              "      border-radius: 50%;\n",
              "      cursor: pointer;\n",
              "      display: none;\n",
              "      fill: #1967D2;\n",
              "      height: 32px;\n",
              "      padding: 0 0 0 0;\n",
              "      width: 32px;\n",
              "    }\n",
              "\n",
              "    .colab-df-convert:hover {\n",
              "      background-color: #E2EBFA;\n",
              "      box-shadow: 0px 1px 2px rgba(60, 64, 67, 0.3), 0px 1px 3px 1px rgba(60, 64, 67, 0.15);\n",
              "      fill: #174EA6;\n",
              "    }\n",
              "\n",
              "    [theme=dark] .colab-df-convert {\n",
              "      background-color: #3B4455;\n",
              "      fill: #D2E3FC;\n",
              "    }\n",
              "\n",
              "    [theme=dark] .colab-df-convert:hover {\n",
              "      background-color: #434B5C;\n",
              "      box-shadow: 0px 1px 3px 1px rgba(0, 0, 0, 0.15);\n",
              "      filter: drop-shadow(0px 1px 2px rgba(0, 0, 0, 0.3));\n",
              "      fill: #FFFFFF;\n",
              "    }\n",
              "  </style>\n",
              "\n",
              "      <script>\n",
              "        const buttonEl =\n",
              "          document.querySelector('#df-68f51942-9d12-43bb-9b31-e24bff99084b button.colab-df-convert');\n",
              "        buttonEl.style.display =\n",
              "          google.colab.kernel.accessAllowed ? 'block' : 'none';\n",
              "\n",
              "        async function convertToInteractive(key) {\n",
              "          const element = document.querySelector('#df-68f51942-9d12-43bb-9b31-e24bff99084b');\n",
              "          const dataTable =\n",
              "            await google.colab.kernel.invokeFunction('convertToInteractive',\n",
              "                                                     [key], {});\n",
              "          if (!dataTable) return;\n",
              "\n",
              "          const docLinkHtml = 'Like what you see? Visit the ' +\n",
              "            '<a target=\"_blank\" href=https://colab.research.google.com/notebooks/data_table.ipynb>data table notebook</a>'\n",
              "            + ' to learn more about interactive tables.';\n",
              "          element.innerHTML = '';\n",
              "          dataTable['output_type'] = 'display_data';\n",
              "          await google.colab.output.renderOutput(dataTable, element);\n",
              "          const docLink = document.createElement('div');\n",
              "          docLink.innerHTML = docLinkHtml;\n",
              "          element.appendChild(docLink);\n",
              "        }\n",
              "      </script>\n",
              "    </div>\n",
              "  </div>\n",
              "  "
            ]
          },
          "metadata": {},
          "execution_count": 26
        }
      ]
    },
    {
      "cell_type": "code",
      "source": [
        "# так как одна и та же школа может по-разному отображаться в ShortName, возьмем только числовой номер школы и сделаем столбец ('numbers_of_school') только с номером\n",
        "# нормализуем данные, удалим кавычки и приведем все символы к нижнему регистру, так как есть школы без номера, то чтобы названия пришли к единому виду,\n",
        "# того, чтобы в дальнейшем можно было группировать по номеру школы\n",
        "\n",
        "# функция поиска номера школы\n",
        "import re\n",
        "\n",
        "def number_of_school(row):\n",
        "    # нормализация столбца с номерами школ - удаление кавычек и приведение к нижнему регистру\n",
        "    number_of_school_normal = row['ShortName'].replace('«', '').replace('»', '').strip().lower()\n",
        "    # поиск цифр в поле ShortName\n",
        "    number_of_school = re.findall(r'\\d+', number_of_school_normal)\n",
        "    row['start_year'] = row['Year'].split('/')[0]\n",
        "    if  number_of_school:\n",
        "        row['numbers_school'] = number_of_school[0]\n",
        "    else:\n",
        "        row['numbers_school'] = number_of_school_normal\n",
        "    return row"
      ],
      "metadata": {
        "id": "bfHDl5oo2Ivc"
      },
      "execution_count": null,
      "outputs": []
    },
    {
      "cell_type": "code",
      "source": [
        "df = df.apply(number_of_school, axis = 1)\n",
        "df.head(10)"
      ],
      "metadata": {
        "colab": {
          "base_uri": "https://localhost:8080/",
          "height": 363
        },
        "id": "EkHkH6J-0iJt",
        "outputId": "d3c54e21-6854-4013-ca64-ff577de1a77c"
      },
      "execution_count": null,
      "outputs": [
        {
          "output_type": "execute_result",
          "data": {
            "text/plain": [
              "                                            FullName  \\\n",
              "0  Государственное бюджетное общеобразовательное ...   \n",
              "1  Государственное бюджетное общеобразовательное ...   \n",
              "2  Государственное бюджетное общеобразовательное ...   \n",
              "3  Государственное бюджетное образовательное учре...   \n",
              "4  Государственное бюджетное образовательное учре...   \n",
              "5  Государственное бюджетное образовательное учре...   \n",
              "6  Государственное бюджетное образовательное учре...   \n",
              "7  Государственное бюджетное образовательное учре...   \n",
              "8  Государственное бюджетное общеобразовательное ...   \n",
              "9  Государственное бюджетное образовательное учре...   \n",
              "\n",
              "                   ShortName OlympiadType  Stage  Class     Subject  \\\n",
              "0  ГБОУ лицей «Вторая школа»          ВОШ      3     11  английский   \n",
              "1  ГБОУ лицей «Вторая школа»          ВОШ      3     11  английский   \n",
              "2  ГБОУ лицей «Вторая школа»          ВОШ      3     10  английский   \n",
              "3              ГБОУ СОШ № 26          ВОШ      4     11  английский   \n",
              "4              ГБОУ СОШ № 26          ВОШ      3     11  английский   \n",
              "5              ГБОУ СОШ № 56          ВОШ      3     10  английский   \n",
              "6               ГБОУ ЦО № 57          ВОШ      3     10  английский   \n",
              "7               ГБОУ ЦО № 57          ВОШ      3     11  английский   \n",
              "8           ГБОУ лицей № 138          ВОШ      3     11  английский   \n",
              "9              ГБОУ ЦО № 218          ВОШ      3     11  английский   \n",
              "\n",
              "       Status       Year global_id start_year           numbers_school  \n",
              "0      призёр  2012/2013   4472939       2012  гбоу лицей вторая школа  \n",
              "1      призёр  2012/2013   4472940       2012  гбоу лицей вторая школа  \n",
              "2      призёр  2012/2013   4472941       2012  гбоу лицей вторая школа  \n",
              "3  победитель  2012/2013   4472942       2012                       26  \n",
              "4      призёр  2012/2013   4472943       2012                       26  \n",
              "5      призёр  2012/2013   4472944       2012                       56  \n",
              "6      призёр  2012/2013   4472945       2012                       57  \n",
              "7      призёр  2012/2013   4472946       2012                       57  \n",
              "8      призёр  2012/2013   4472947       2012                      138  \n",
              "9      призёр  2012/2013   4472948       2012                      218  "
            ],
            "text/html": [
              "\n",
              "  <div id=\"df-2cd05aa0-a16f-43da-b83e-06f39db28aac\">\n",
              "    <div class=\"colab-df-container\">\n",
              "      <div>\n",
              "<style scoped>\n",
              "    .dataframe tbody tr th:only-of-type {\n",
              "        vertical-align: middle;\n",
              "    }\n",
              "\n",
              "    .dataframe tbody tr th {\n",
              "        vertical-align: top;\n",
              "    }\n",
              "\n",
              "    .dataframe thead th {\n",
              "        text-align: right;\n",
              "    }\n",
              "</style>\n",
              "<table border=\"1\" class=\"dataframe\">\n",
              "  <thead>\n",
              "    <tr style=\"text-align: right;\">\n",
              "      <th></th>\n",
              "      <th>FullName</th>\n",
              "      <th>ShortName</th>\n",
              "      <th>OlympiadType</th>\n",
              "      <th>Stage</th>\n",
              "      <th>Class</th>\n",
              "      <th>Subject</th>\n",
              "      <th>Status</th>\n",
              "      <th>Year</th>\n",
              "      <th>global_id</th>\n",
              "      <th>start_year</th>\n",
              "      <th>numbers_school</th>\n",
              "    </tr>\n",
              "  </thead>\n",
              "  <tbody>\n",
              "    <tr>\n",
              "      <th>0</th>\n",
              "      <td>Государственное бюджетное общеобразовательное ...</td>\n",
              "      <td>ГБОУ лицей «Вторая школа»</td>\n",
              "      <td>ВОШ</td>\n",
              "      <td>3</td>\n",
              "      <td>11</td>\n",
              "      <td>английский</td>\n",
              "      <td>призёр</td>\n",
              "      <td>2012/2013</td>\n",
              "      <td>4472939</td>\n",
              "      <td>2012</td>\n",
              "      <td>гбоу лицей вторая школа</td>\n",
              "    </tr>\n",
              "    <tr>\n",
              "      <th>1</th>\n",
              "      <td>Государственное бюджетное общеобразовательное ...</td>\n",
              "      <td>ГБОУ лицей «Вторая школа»</td>\n",
              "      <td>ВОШ</td>\n",
              "      <td>3</td>\n",
              "      <td>11</td>\n",
              "      <td>английский</td>\n",
              "      <td>призёр</td>\n",
              "      <td>2012/2013</td>\n",
              "      <td>4472940</td>\n",
              "      <td>2012</td>\n",
              "      <td>гбоу лицей вторая школа</td>\n",
              "    </tr>\n",
              "    <tr>\n",
              "      <th>2</th>\n",
              "      <td>Государственное бюджетное общеобразовательное ...</td>\n",
              "      <td>ГБОУ лицей «Вторая школа»</td>\n",
              "      <td>ВОШ</td>\n",
              "      <td>3</td>\n",
              "      <td>10</td>\n",
              "      <td>английский</td>\n",
              "      <td>призёр</td>\n",
              "      <td>2012/2013</td>\n",
              "      <td>4472941</td>\n",
              "      <td>2012</td>\n",
              "      <td>гбоу лицей вторая школа</td>\n",
              "    </tr>\n",
              "    <tr>\n",
              "      <th>3</th>\n",
              "      <td>Государственное бюджетное образовательное учре...</td>\n",
              "      <td>ГБОУ СОШ № 26</td>\n",
              "      <td>ВОШ</td>\n",
              "      <td>4</td>\n",
              "      <td>11</td>\n",
              "      <td>английский</td>\n",
              "      <td>победитель</td>\n",
              "      <td>2012/2013</td>\n",
              "      <td>4472942</td>\n",
              "      <td>2012</td>\n",
              "      <td>26</td>\n",
              "    </tr>\n",
              "    <tr>\n",
              "      <th>4</th>\n",
              "      <td>Государственное бюджетное образовательное учре...</td>\n",
              "      <td>ГБОУ СОШ № 26</td>\n",
              "      <td>ВОШ</td>\n",
              "      <td>3</td>\n",
              "      <td>11</td>\n",
              "      <td>английский</td>\n",
              "      <td>призёр</td>\n",
              "      <td>2012/2013</td>\n",
              "      <td>4472943</td>\n",
              "      <td>2012</td>\n",
              "      <td>26</td>\n",
              "    </tr>\n",
              "    <tr>\n",
              "      <th>5</th>\n",
              "      <td>Государственное бюджетное образовательное учре...</td>\n",
              "      <td>ГБОУ СОШ № 56</td>\n",
              "      <td>ВОШ</td>\n",
              "      <td>3</td>\n",
              "      <td>10</td>\n",
              "      <td>английский</td>\n",
              "      <td>призёр</td>\n",
              "      <td>2012/2013</td>\n",
              "      <td>4472944</td>\n",
              "      <td>2012</td>\n",
              "      <td>56</td>\n",
              "    </tr>\n",
              "    <tr>\n",
              "      <th>6</th>\n",
              "      <td>Государственное бюджетное образовательное учре...</td>\n",
              "      <td>ГБОУ ЦО № 57</td>\n",
              "      <td>ВОШ</td>\n",
              "      <td>3</td>\n",
              "      <td>10</td>\n",
              "      <td>английский</td>\n",
              "      <td>призёр</td>\n",
              "      <td>2012/2013</td>\n",
              "      <td>4472945</td>\n",
              "      <td>2012</td>\n",
              "      <td>57</td>\n",
              "    </tr>\n",
              "    <tr>\n",
              "      <th>7</th>\n",
              "      <td>Государственное бюджетное образовательное учре...</td>\n",
              "      <td>ГБОУ ЦО № 57</td>\n",
              "      <td>ВОШ</td>\n",
              "      <td>3</td>\n",
              "      <td>11</td>\n",
              "      <td>английский</td>\n",
              "      <td>призёр</td>\n",
              "      <td>2012/2013</td>\n",
              "      <td>4472946</td>\n",
              "      <td>2012</td>\n",
              "      <td>57</td>\n",
              "    </tr>\n",
              "    <tr>\n",
              "      <th>8</th>\n",
              "      <td>Государственное бюджетное общеобразовательное ...</td>\n",
              "      <td>ГБОУ лицей № 138</td>\n",
              "      <td>ВОШ</td>\n",
              "      <td>3</td>\n",
              "      <td>11</td>\n",
              "      <td>английский</td>\n",
              "      <td>призёр</td>\n",
              "      <td>2012/2013</td>\n",
              "      <td>4472947</td>\n",
              "      <td>2012</td>\n",
              "      <td>138</td>\n",
              "    </tr>\n",
              "    <tr>\n",
              "      <th>9</th>\n",
              "      <td>Государственное бюджетное образовательное учре...</td>\n",
              "      <td>ГБОУ ЦО № 218</td>\n",
              "      <td>ВОШ</td>\n",
              "      <td>3</td>\n",
              "      <td>11</td>\n",
              "      <td>английский</td>\n",
              "      <td>призёр</td>\n",
              "      <td>2012/2013</td>\n",
              "      <td>4472948</td>\n",
              "      <td>2012</td>\n",
              "      <td>218</td>\n",
              "    </tr>\n",
              "  </tbody>\n",
              "</table>\n",
              "</div>\n",
              "      <button class=\"colab-df-convert\" onclick=\"convertToInteractive('df-2cd05aa0-a16f-43da-b83e-06f39db28aac')\"\n",
              "              title=\"Convert this dataframe to an interactive table.\"\n",
              "              style=\"display:none;\">\n",
              "        \n",
              "  <svg xmlns=\"http://www.w3.org/2000/svg\" height=\"24px\"viewBox=\"0 0 24 24\"\n",
              "       width=\"24px\">\n",
              "    <path d=\"M0 0h24v24H0V0z\" fill=\"none\"/>\n",
              "    <path d=\"M18.56 5.44l.94 2.06.94-2.06 2.06-.94-2.06-.94-.94-2.06-.94 2.06-2.06.94zm-11 1L8.5 8.5l.94-2.06 2.06-.94-2.06-.94L8.5 2.5l-.94 2.06-2.06.94zm10 10l.94 2.06.94-2.06 2.06-.94-2.06-.94-.94-2.06-.94 2.06-2.06.94z\"/><path d=\"M17.41 7.96l-1.37-1.37c-.4-.4-.92-.59-1.43-.59-.52 0-1.04.2-1.43.59L10.3 9.45l-7.72 7.72c-.78.78-.78 2.05 0 2.83L4 21.41c.39.39.9.59 1.41.59.51 0 1.02-.2 1.41-.59l7.78-7.78 2.81-2.81c.8-.78.8-2.07 0-2.86zM5.41 20L4 18.59l7.72-7.72 1.47 1.35L5.41 20z\"/>\n",
              "  </svg>\n",
              "      </button>\n",
              "      \n",
              "  <style>\n",
              "    .colab-df-container {\n",
              "      display:flex;\n",
              "      flex-wrap:wrap;\n",
              "      gap: 12px;\n",
              "    }\n",
              "\n",
              "    .colab-df-convert {\n",
              "      background-color: #E8F0FE;\n",
              "      border: none;\n",
              "      border-radius: 50%;\n",
              "      cursor: pointer;\n",
              "      display: none;\n",
              "      fill: #1967D2;\n",
              "      height: 32px;\n",
              "      padding: 0 0 0 0;\n",
              "      width: 32px;\n",
              "    }\n",
              "\n",
              "    .colab-df-convert:hover {\n",
              "      background-color: #E2EBFA;\n",
              "      box-shadow: 0px 1px 2px rgba(60, 64, 67, 0.3), 0px 1px 3px 1px rgba(60, 64, 67, 0.15);\n",
              "      fill: #174EA6;\n",
              "    }\n",
              "\n",
              "    [theme=dark] .colab-df-convert {\n",
              "      background-color: #3B4455;\n",
              "      fill: #D2E3FC;\n",
              "    }\n",
              "\n",
              "    [theme=dark] .colab-df-convert:hover {\n",
              "      background-color: #434B5C;\n",
              "      box-shadow: 0px 1px 3px 1px rgba(0, 0, 0, 0.15);\n",
              "      filter: drop-shadow(0px 1px 2px rgba(0, 0, 0, 0.3));\n",
              "      fill: #FFFFFF;\n",
              "    }\n",
              "  </style>\n",
              "\n",
              "      <script>\n",
              "        const buttonEl =\n",
              "          document.querySelector('#df-2cd05aa0-a16f-43da-b83e-06f39db28aac button.colab-df-convert');\n",
              "        buttonEl.style.display =\n",
              "          google.colab.kernel.accessAllowed ? 'block' : 'none';\n",
              "\n",
              "        async function convertToInteractive(key) {\n",
              "          const element = document.querySelector('#df-2cd05aa0-a16f-43da-b83e-06f39db28aac');\n",
              "          const dataTable =\n",
              "            await google.colab.kernel.invokeFunction('convertToInteractive',\n",
              "                                                     [key], {});\n",
              "          if (!dataTable) return;\n",
              "\n",
              "          const docLinkHtml = 'Like what you see? Visit the ' +\n",
              "            '<a target=\"_blank\" href=https://colab.research.google.com/notebooks/data_table.ipynb>data table notebook</a>'\n",
              "            + ' to learn more about interactive tables.';\n",
              "          element.innerHTML = '';\n",
              "          dataTable['output_type'] = 'display_data';\n",
              "          await google.colab.output.renderOutput(dataTable, element);\n",
              "          const docLink = document.createElement('div');\n",
              "          docLink.innerHTML = docLinkHtml;\n",
              "          element.appendChild(docLink);\n",
              "        }\n",
              "      </script>\n",
              "    </div>\n",
              "  </div>\n",
              "  "
            ]
          },
          "metadata": {},
          "execution_count": 28
        }
      ]
    },
    {
      "cell_type": "code",
      "source": [
        "# преобразование типа года\n",
        "df['Year']  = pd.to_numeric(df['start_year'])"
      ],
      "metadata": {
        "id": "m4qzWAZ_UkK5"
      },
      "execution_count": null,
      "outputs": []
    },
    {
      "cell_type": "markdown",
      "source": [
        "## Графики"
      ],
      "metadata": {
        "id": "u6sw63nisW_8"
      }
    },
    {
      "cell_type": "markdown",
      "source": [
        "### 1. Bar Chart - Сколько призеров и сколько победителей в каждой олимпиаде (здесь их всего две ВОШ и МОШ)"
      ],
      "metadata": {
        "id": "qjSHqON_sbDP"
      }
    },
    {
      "cell_type": "code",
      "source": [
        "# в какой олимпиаде больше участников\n",
        "olimp = df.filter(items = ['OlympiadType', 'Class']).groupby(['OlympiadType']).count().sort_values(by = 'Class', ascending=False)\n",
        "olimp"
      ],
      "metadata": {
        "colab": {
          "base_uri": "https://localhost:8080/",
          "height": 216
        },
        "id": "gEkSWh_csaHh",
        "outputId": "2d7ffe3d-a449-4f68-8b7d-4688b4c67e7c"
      },
      "execution_count": null,
      "outputs": [
        {
          "output_type": "error",
          "ename": "NameError",
          "evalue": "ignored",
          "traceback": [
            "\u001b[0;31m---------------------------------------------------------------------------\u001b[0m",
            "\u001b[0;31mNameError\u001b[0m                                 Traceback (most recent call last)",
            "\u001b[0;32m<ipython-input-1-840c10004fec>\u001b[0m in \u001b[0;36m<cell line: 2>\u001b[0;34m()\u001b[0m\n\u001b[1;32m      1\u001b[0m \u001b[0;31m# в какой олимпиаде больше участников\u001b[0m\u001b[0;34m\u001b[0m\u001b[0;34m\u001b[0m\u001b[0m\n\u001b[0;32m----> 2\u001b[0;31m \u001b[0molimp\u001b[0m \u001b[0;34m=\u001b[0m \u001b[0mdf\u001b[0m\u001b[0;34m.\u001b[0m\u001b[0mfilter\u001b[0m\u001b[0;34m(\u001b[0m\u001b[0mitems\u001b[0m \u001b[0;34m=\u001b[0m \u001b[0;34m[\u001b[0m\u001b[0;34m'OlympiadType'\u001b[0m\u001b[0;34m,\u001b[0m \u001b[0;34m'Class'\u001b[0m\u001b[0;34m]\u001b[0m\u001b[0;34m)\u001b[0m\u001b[0;34m.\u001b[0m\u001b[0mgroupby\u001b[0m\u001b[0;34m(\u001b[0m\u001b[0;34m[\u001b[0m\u001b[0;34m'OlympiadType'\u001b[0m\u001b[0;34m]\u001b[0m\u001b[0;34m)\u001b[0m\u001b[0;34m.\u001b[0m\u001b[0mcount\u001b[0m\u001b[0;34m(\u001b[0m\u001b[0;34m)\u001b[0m\u001b[0;34m.\u001b[0m\u001b[0msort_values\u001b[0m\u001b[0;34m(\u001b[0m\u001b[0mby\u001b[0m \u001b[0;34m=\u001b[0m \u001b[0;34m'Class'\u001b[0m\u001b[0;34m,\u001b[0m \u001b[0mascending\u001b[0m\u001b[0;34m=\u001b[0m\u001b[0;32mFalse\u001b[0m\u001b[0;34m)\u001b[0m\u001b[0;34m\u001b[0m\u001b[0;34m\u001b[0m\u001b[0m\n\u001b[0m\u001b[1;32m      3\u001b[0m \u001b[0molimp\u001b[0m\u001b[0;34m\u001b[0m\u001b[0;34m\u001b[0m\u001b[0m\n",
            "\u001b[0;31mNameError\u001b[0m: name 'df' is not defined"
          ]
        }
      ]
    },
    {
      "cell_type": "code",
      "source": [
        "# группировка по OlympiadType и по Status\n",
        "win_and_awardee =  df.filter(items = ['Status', 'OlympiadType', 'Class']).groupby(['Status', 'OlympiadType']).count().sort_values(by = 'Class', ascending=False)\n",
        "\n",
        "# удаление строки подзаголовка\n",
        "win_and_awardee.drop(win_and_awardee.tail(1).index, inplace=True)\n",
        "win_and_awardee"
      ],
      "metadata": {
        "colab": {
          "base_uri": "https://localhost:8080/",
          "height": 206
        },
        "id": "IzSDVR_FsV74",
        "outputId": "74067f00-8dd7-4eee-ede2-eb6e9085cd9b"
      },
      "execution_count": null,
      "outputs": [
        {
          "output_type": "execute_result",
          "data": {
            "text/plain": [
              "                         Class\n",
              "Status     OlympiadType       \n",
              "призёр     ВОШ           44197\n",
              "           МОШ           19580\n",
              "победитель ВОШ            5537\n",
              "           МОШ            4840"
            ],
            "text/html": [
              "\n",
              "  <div id=\"df-b0549965-f7f4-4d0c-aee2-48f5534672ce\">\n",
              "    <div class=\"colab-df-container\">\n",
              "      <div>\n",
              "<style scoped>\n",
              "    .dataframe tbody tr th:only-of-type {\n",
              "        vertical-align: middle;\n",
              "    }\n",
              "\n",
              "    .dataframe tbody tr th {\n",
              "        vertical-align: top;\n",
              "    }\n",
              "\n",
              "    .dataframe thead th {\n",
              "        text-align: right;\n",
              "    }\n",
              "</style>\n",
              "<table border=\"1\" class=\"dataframe\">\n",
              "  <thead>\n",
              "    <tr style=\"text-align: right;\">\n",
              "      <th></th>\n",
              "      <th></th>\n",
              "      <th>Class</th>\n",
              "    </tr>\n",
              "    <tr>\n",
              "      <th>Status</th>\n",
              "      <th>OlympiadType</th>\n",
              "      <th></th>\n",
              "    </tr>\n",
              "  </thead>\n",
              "  <tbody>\n",
              "    <tr>\n",
              "      <th rowspan=\"2\" valign=\"top\">призёр</th>\n",
              "      <th>ВОШ</th>\n",
              "      <td>44197</td>\n",
              "    </tr>\n",
              "    <tr>\n",
              "      <th>МОШ</th>\n",
              "      <td>19580</td>\n",
              "    </tr>\n",
              "    <tr>\n",
              "      <th rowspan=\"2\" valign=\"top\">победитель</th>\n",
              "      <th>ВОШ</th>\n",
              "      <td>5537</td>\n",
              "    </tr>\n",
              "    <tr>\n",
              "      <th>МОШ</th>\n",
              "      <td>4840</td>\n",
              "    </tr>\n",
              "  </tbody>\n",
              "</table>\n",
              "</div>\n",
              "      <button class=\"colab-df-convert\" onclick=\"convertToInteractive('df-b0549965-f7f4-4d0c-aee2-48f5534672ce')\"\n",
              "              title=\"Convert this dataframe to an interactive table.\"\n",
              "              style=\"display:none;\">\n",
              "        \n",
              "  <svg xmlns=\"http://www.w3.org/2000/svg\" height=\"24px\"viewBox=\"0 0 24 24\"\n",
              "       width=\"24px\">\n",
              "    <path d=\"M0 0h24v24H0V0z\" fill=\"none\"/>\n",
              "    <path d=\"M18.56 5.44l.94 2.06.94-2.06 2.06-.94-2.06-.94-.94-2.06-.94 2.06-2.06.94zm-11 1L8.5 8.5l.94-2.06 2.06-.94-2.06-.94L8.5 2.5l-.94 2.06-2.06.94zm10 10l.94 2.06.94-2.06 2.06-.94-2.06-.94-.94-2.06-.94 2.06-2.06.94z\"/><path d=\"M17.41 7.96l-1.37-1.37c-.4-.4-.92-.59-1.43-.59-.52 0-1.04.2-1.43.59L10.3 9.45l-7.72 7.72c-.78.78-.78 2.05 0 2.83L4 21.41c.39.39.9.59 1.41.59.51 0 1.02-.2 1.41-.59l7.78-7.78 2.81-2.81c.8-.78.8-2.07 0-2.86zM5.41 20L4 18.59l7.72-7.72 1.47 1.35L5.41 20z\"/>\n",
              "  </svg>\n",
              "      </button>\n",
              "      \n",
              "  <style>\n",
              "    .colab-df-container {\n",
              "      display:flex;\n",
              "      flex-wrap:wrap;\n",
              "      gap: 12px;\n",
              "    }\n",
              "\n",
              "    .colab-df-convert {\n",
              "      background-color: #E8F0FE;\n",
              "      border: none;\n",
              "      border-radius: 50%;\n",
              "      cursor: pointer;\n",
              "      display: none;\n",
              "      fill: #1967D2;\n",
              "      height: 32px;\n",
              "      padding: 0 0 0 0;\n",
              "      width: 32px;\n",
              "    }\n",
              "\n",
              "    .colab-df-convert:hover {\n",
              "      background-color: #E2EBFA;\n",
              "      box-shadow: 0px 1px 2px rgba(60, 64, 67, 0.3), 0px 1px 3px 1px rgba(60, 64, 67, 0.15);\n",
              "      fill: #174EA6;\n",
              "    }\n",
              "\n",
              "    [theme=dark] .colab-df-convert {\n",
              "      background-color: #3B4455;\n",
              "      fill: #D2E3FC;\n",
              "    }\n",
              "\n",
              "    [theme=dark] .colab-df-convert:hover {\n",
              "      background-color: #434B5C;\n",
              "      box-shadow: 0px 1px 3px 1px rgba(0, 0, 0, 0.15);\n",
              "      filter: drop-shadow(0px 1px 2px rgba(0, 0, 0, 0.3));\n",
              "      fill: #FFFFFF;\n",
              "    }\n",
              "  </style>\n",
              "\n",
              "      <script>\n",
              "        const buttonEl =\n",
              "          document.querySelector('#df-b0549965-f7f4-4d0c-aee2-48f5534672ce button.colab-df-convert');\n",
              "        buttonEl.style.display =\n",
              "          google.colab.kernel.accessAllowed ? 'block' : 'none';\n",
              "\n",
              "        async function convertToInteractive(key) {\n",
              "          const element = document.querySelector('#df-b0549965-f7f4-4d0c-aee2-48f5534672ce');\n",
              "          const dataTable =\n",
              "            await google.colab.kernel.invokeFunction('convertToInteractive',\n",
              "                                                     [key], {});\n",
              "          if (!dataTable) return;\n",
              "\n",
              "          const docLinkHtml = 'Like what you see? Visit the ' +\n",
              "            '<a target=\"_blank\" href=https://colab.research.google.com/notebooks/data_table.ipynb>data table notebook</a>'\n",
              "            + ' to learn more about interactive tables.';\n",
              "          element.innerHTML = '';\n",
              "          dataTable['output_type'] = 'display_data';\n",
              "          await google.colab.output.renderOutput(dataTable, element);\n",
              "          const docLink = document.createElement('div');\n",
              "          docLink.innerHTML = docLinkHtml;\n",
              "          element.appendChild(docLink);\n",
              "        }\n",
              "      </script>\n",
              "    </div>\n",
              "  </div>\n",
              "  "
            ]
          },
          "metadata": {},
          "execution_count": 35
        }
      ]
    },
    {
      "cell_type": "code",
      "source": [
        "# столбчатая диаграмма показывает количество призеров и победителей по каждой олимпиаде в целом\n",
        "win_and_awardee.plot(kind='bar',\n",
        "                     title='Взаимосвязь - \"вид олимпиады\" и \"тип победителя\"',\n",
        "                     xlabel='Тип победителя / Олимпиада',\n",
        "                     ylabel='Количество')"
      ],
      "metadata": {
        "colab": {
          "base_uri": "https://localhost:8080/",
          "height": 407
        },
        "id": "dwsU1GmC7MF9",
        "outputId": "676fc1dc-6fc3-4b20-81e5-9698b78a2e41"
      },
      "execution_count": null,
      "outputs": [
        {
          "output_type": "execute_result",
          "data": {
            "text/plain": [
              "<matplotlib.axes._subplots.AxesSubplot at 0x7fa78abd4d90>"
            ]
          },
          "metadata": {},
          "execution_count": 36
        },
        {
          "output_type": "display_data",
          "data": {
            "text/plain": [
              "<Figure size 432x288 with 1 Axes>"
            ],
            "image/png": "[encoded data removed]"
          },
          "metadata": {
            "needs_background": "light"
          }
        }
      ]
    },
    {
      "cell_type": "code",
      "source": [
        "# cоставим сводную таблицу процентного соотношения между видом олимпиады и статусом победителя, мы узнаем в какой олимпиаде чаще становятся победителями\n",
        "win = pd.pivot_table(win_and_awardee, index = 'OlympiadType', columns = 'Status', values = 'Class', aggfunc = np.sum)\n",
        "win['количество участников'] =  win['победитель'] + win['призёр']\n",
        "# win.info()\n",
        "win['%победителей'] = round((win['победитель'] * 100) / win['количество участников'], 2)\n",
        "win['%призеров'] =  round(win['призёр'] * 100 / win['количество участников'].round(), 2)\n",
        "win"
      ],
      "metadata": {
        "colab": {
          "base_uri": "https://localhost:8080/",
          "height": 143
        },
        "id": "cccLRgeJ9Xgh",
        "outputId": "752f551a-34c9-45f0-ca20-43f1621ba85d"
      },
      "execution_count": null,
      "outputs": [
        {
          "output_type": "execute_result",
          "data": {
            "text/plain": [
              "Status        победитель  призёр  количество участников  %победителей  \\\n",
              "OlympiadType                                                            \n",
              "ВОШ                 5537   44197                  49734         11.13   \n",
              "МОШ                 4840   19580                  24420         19.82   \n",
              "\n",
              "Status        %призеров  \n",
              "OlympiadType             \n",
              "ВОШ               88.87  \n",
              "МОШ               80.18  "
            ],
            "text/html": [
              "\n",
              "  <div id=\"df-cabf2ab4-8922-4f03-8480-5f9206083738\">\n",
              "    <div class=\"colab-df-container\">\n",
              "      <div>\n",
              "<style scoped>\n",
              "    .dataframe tbody tr th:only-of-type {\n",
              "        vertical-align: middle;\n",
              "    }\n",
              "\n",
              "    .dataframe tbody tr th {\n",
              "        vertical-align: top;\n",
              "    }\n",
              "\n",
              "    .dataframe thead th {\n",
              "        text-align: right;\n",
              "    }\n",
              "</style>\n",
              "<table border=\"1\" class=\"dataframe\">\n",
              "  <thead>\n",
              "    <tr style=\"text-align: right;\">\n",
              "      <th>Status</th>\n",
              "      <th>победитель</th>\n",
              "      <th>призёр</th>\n",
              "      <th>количество участников</th>\n",
              "      <th>%победителей</th>\n",
              "      <th>%призеров</th>\n",
              "    </tr>\n",
              "    <tr>\n",
              "      <th>OlympiadType</th>\n",
              "      <th></th>\n",
              "      <th></th>\n",
              "      <th></th>\n",
              "      <th></th>\n",
              "      <th></th>\n",
              "    </tr>\n",
              "  </thead>\n",
              "  <tbody>\n",
              "    <tr>\n",
              "      <th>ВОШ</th>\n",
              "      <td>5537</td>\n",
              "      <td>44197</td>\n",
              "      <td>49734</td>\n",
              "      <td>11.13</td>\n",
              "      <td>88.87</td>\n",
              "    </tr>\n",
              "    <tr>\n",
              "      <th>МОШ</th>\n",
              "      <td>4840</td>\n",
              "      <td>19580</td>\n",
              "      <td>24420</td>\n",
              "      <td>19.82</td>\n",
              "      <td>80.18</td>\n",
              "    </tr>\n",
              "  </tbody>\n",
              "</table>\n",
              "</div>\n",
              "      <button class=\"colab-df-convert\" onclick=\"convertToInteractive('df-cabf2ab4-8922-4f03-8480-5f9206083738')\"\n",
              "              title=\"Convert this dataframe to an interactive table.\"\n",
              "              style=\"display:none;\">\n",
              "        \n",
              "  <svg xmlns=\"http://www.w3.org/2000/svg\" height=\"24px\"viewBox=\"0 0 24 24\"\n",
              "       width=\"24px\">\n",
              "    <path d=\"M0 0h24v24H0V0z\" fill=\"none\"/>\n",
              "    <path d=\"M18.56 5.44l.94 2.06.94-2.06 2.06-.94-2.06-.94-.94-2.06-.94 2.06-2.06.94zm-11 1L8.5 8.5l.94-2.06 2.06-.94-2.06-.94L8.5 2.5l-.94 2.06-2.06.94zm10 10l.94 2.06.94-2.06 2.06-.94-2.06-.94-.94-2.06-.94 2.06-2.06.94z\"/><path d=\"M17.41 7.96l-1.37-1.37c-.4-.4-.92-.59-1.43-.59-.52 0-1.04.2-1.43.59L10.3 9.45l-7.72 7.72c-.78.78-.78 2.05 0 2.83L4 21.41c.39.39.9.59 1.41.59.51 0 1.02-.2 1.41-.59l7.78-7.78 2.81-2.81c.8-.78.8-2.07 0-2.86zM5.41 20L4 18.59l7.72-7.72 1.47 1.35L5.41 20z\"/>\n",
              "  </svg>\n",
              "      </button>\n",
              "      \n",
              "  <style>\n",
              "    .colab-df-container {\n",
              "      display:flex;\n",
              "      flex-wrap:wrap;\n",
              "      gap: 12px;\n",
              "    }\n",
              "\n",
              "    .colab-df-convert {\n",
              "      background-color: #E8F0FE;\n",
              "      border: none;\n",
              "      border-radius: 50%;\n",
              "      cursor: pointer;\n",
              "      display: none;\n",
              "      fill: #1967D2;\n",
              "      height: 32px;\n",
              "      padding: 0 0 0 0;\n",
              "      width: 32px;\n",
              "    }\n",
              "\n",
              "    .colab-df-convert:hover {\n",
              "      background-color: #E2EBFA;\n",
              "      box-shadow: 0px 1px 2px rgba(60, 64, 67, 0.3), 0px 1px 3px 1px rgba(60, 64, 67, 0.15);\n",
              "      fill: #174EA6;\n",
              "    }\n",
              "\n",
              "    [theme=dark] .colab-df-convert {\n",
              "      background-color: #3B4455;\n",
              "      fill: #D2E3FC;\n",
              "    }\n",
              "\n",
              "    [theme=dark] .colab-df-convert:hover {\n",
              "      background-color: #434B5C;\n",
              "      box-shadow: 0px 1px 3px 1px rgba(0, 0, 0, 0.15);\n",
              "      filter: drop-shadow(0px 1px 2px rgba(0, 0, 0, 0.3));\n",
              "      fill: #FFFFFF;\n",
              "    }\n",
              "  </style>\n",
              "\n",
              "      <script>\n",
              "        const buttonEl =\n",
              "          document.querySelector('#df-cabf2ab4-8922-4f03-8480-5f9206083738 button.colab-df-convert');\n",
              "        buttonEl.style.display =\n",
              "          google.colab.kernel.accessAllowed ? 'block' : 'none';\n",
              "\n",
              "        async function convertToInteractive(key) {\n",
              "          const element = document.querySelector('#df-cabf2ab4-8922-4f03-8480-5f9206083738');\n",
              "          const dataTable =\n",
              "            await google.colab.kernel.invokeFunction('convertToInteractive',\n",
              "                                                     [key], {});\n",
              "          if (!dataTable) return;\n",
              "\n",
              "          const docLinkHtml = 'Like what you see? Visit the ' +\n",
              "            '<a target=\"_blank\" href=https://colab.research.google.com/notebooks/data_table.ipynb>data table notebook</a>'\n",
              "            + ' to learn more about interactive tables.';\n",
              "          element.innerHTML = '';\n",
              "          dataTable['output_type'] = 'display_data';\n",
              "          await google.colab.output.renderOutput(dataTable, element);\n",
              "          const docLink = document.createElement('div');\n",
              "          docLink.innerHTML = docLinkHtml;\n",
              "          element.appendChild(docLink);\n",
              "        }\n",
              "      </script>\n",
              "    </div>\n",
              "  </div>\n",
              "  "
            ]
          },
          "metadata": {},
          "execution_count": 59
        }
      ]
    },
    {
      "cell_type": "code",
      "source": [
        "# столбчатая диаграмма с накоплением, показывает количество призеров и победителей в процентном соотношении от общего количества участников в конкретной олимпиаде\n",
        "win.filter(['%победителей', '%призеров']).plot(kind='bar', stacked=True,\n",
        "                     title='Отношение победители-призёры',\n",
        "                     xlabel='кол-во',\n",
        "                     ylabel='Количество')\n",
        "plt.legend(bbox_to_anchor=(0.6, 0.8, 0.5, 0.5))"
      ],
      "metadata": {
        "colab": {
          "base_uri": "https://localhost:8080/",
          "height": 375
        },
        "id": "2xWVFKm765y4",
        "outputId": "1f8139b7-0b48-4df0-cca4-f87462553094"
      },
      "execution_count": null,
      "outputs": [
        {
          "output_type": "execute_result",
          "data": {
            "text/plain": [
              "<matplotlib.legend.Legend at 0x7fa78bb6b3d0>"
            ]
          },
          "metadata": {},
          "execution_count": 58
        },
        {
          "output_type": "display_data",
          "data": {
            "text/plain": [
              "<Figure size 432x288 with 1 Axes>"
            ],
            "image/png": "[encoded data removed]"
          },
          "metadata": {
            "needs_background": "light"
          }
        }
      ]
    },
    {
      "cell_type": "markdown",
      "source": [
        "####  ВЫВОД: в МОШ становятся победителями чаще! Гипотеза: в МОШ легче задания или менее строгие критерии"
      ],
      "metadata": {
        "id": "B6YEdQ8-AE_f"
      }
    },
    {
      "cell_type": "code",
      "source": [
        "\n",
        "win_vosh_subj =  df.filter(items = ['Status', 'OlympiadType', 'Subject', 'Class'])filter.groupby(['Subject', 'OlympiadType']).count().sort_values(by = 'Class', ascending=False)\n",
        "win_only_vosh = df['OlympiadType'].isin(['ВОШ'])\n",
        "win_vosh_subj = df[win_only_vosh].filter(items = ['Subject', 'Status','Class']).groupby(['Subject', 'Status']).count().sort_values(by = 'Class', ascending=False).reset_index()\n",
        "win_vosh_subj = pd.pivot_table(win_vosh_subj , index = 'Subject', columns = 'Status', values = 'Class')\n",
        "\n",
        "win_vosh_subj"
      ],
      "metadata": {
        "id": "aq9nPj1_FZkq"
      },
      "execution_count": null,
      "outputs": []
    },
    {
      "cell_type": "code",
      "source": [
        "# Распределение победителей и призёров ВОШ по предметам\n",
        "win_vosh_subj.plot(kind='bar', stacked=True, sort_columns = True)\n",
        "plt.legend(bbox_to_anchor=(0.6, 0.8, 0.5, 0.5))"
      ],
      "metadata": {
        "colab": {
          "base_uri": "https://localhost:8080/",
          "height": 216
        },
        "id": "6Hb4zhT4FdlJ",
        "outputId": "818a6192-fcba-4a4e-f584-bf89dc89a2c1"
      },
      "execution_count": null,
      "outputs": [
        {
          "output_type": "error",
          "ename": "NameError",
          "evalue": "ignored",
          "traceback": [
            "\u001b[0;31m---------------------------------------------------------------------------\u001b[0m",
            "\u001b[0;31mNameError\u001b[0m                                 Traceback (most recent call last)",
            "\u001b[0;32m<ipython-input-1-68706ad77b51>\u001b[0m in \u001b[0;36m<cell line: 2>\u001b[0;34m()\u001b[0m\n\u001b[1;32m      1\u001b[0m \u001b[0;31m# Распределение победителей и призёров ВОШ по предметам\u001b[0m\u001b[0;34m\u001b[0m\u001b[0;34m\u001b[0m\u001b[0m\n\u001b[0;32m----> 2\u001b[0;31m \u001b[0mwin_vosh_subj\u001b[0m\u001b[0;34m.\u001b[0m\u001b[0mplot\u001b[0m\u001b[0;34m(\u001b[0m\u001b[0mkind\u001b[0m\u001b[0;34m=\u001b[0m\u001b[0;34m'bar'\u001b[0m\u001b[0;34m,\u001b[0m \u001b[0mstacked\u001b[0m\u001b[0;34m=\u001b[0m\u001b[0;32mTrue\u001b[0m\u001b[0;34m,\u001b[0m \u001b[0msort_columns\u001b[0m \u001b[0;34m=\u001b[0m \u001b[0;32mTrue\u001b[0m\u001b[0;34m)\u001b[0m\u001b[0;34m\u001b[0m\u001b[0;34m\u001b[0m\u001b[0m\n\u001b[0m\u001b[1;32m      3\u001b[0m \u001b[0mplt\u001b[0m\u001b[0;34m.\u001b[0m\u001b[0mlegend\u001b[0m\u001b[0;34m(\u001b[0m\u001b[0mbbox_to_anchor\u001b[0m\u001b[0;34m=\u001b[0m\u001b[0;34m(\u001b[0m\u001b[0;36m0.6\u001b[0m\u001b[0;34m,\u001b[0m \u001b[0;36m0.8\u001b[0m\u001b[0;34m,\u001b[0m \u001b[0;36m0.5\u001b[0m\u001b[0;34m,\u001b[0m \u001b[0;36m0.5\u001b[0m\u001b[0;34m)\u001b[0m\u001b[0;34m)\u001b[0m\u001b[0;34m\u001b[0m\u001b[0;34m\u001b[0m\u001b[0m\n",
            "\u001b[0;31mNameError\u001b[0m: name 'win_vosh_subj' is not defined"
          ]
        }
      ]
    },
    {
      "cell_type": "markdown",
      "source": [
        "Вывод:  топ популярных предметов и победителей по гуманитарным предметам. Наименьшее количество участников в ИКТ, мхк, астрономия, китайский, итальянский, в этих предметах меньше конкуренция, следовательно больше шансов стать победителем. Гипотеза - Обществознание очень популярно, так можно получить БВИ в ВУЗы, следовательно олимпиадники стремятся на специальности, где требуется Обществознание - юридические, экономические специальности. Предмет ИКТ(информатика) принимается на малое количество технических специальностей в ВУЗах, поэтому предпочитают сдавать математику или физику. Либо предмет ИКТ плохо преподается в школах и ученики \"не тянут\" олимпиады."
      ],
      "metadata": {
        "id": "pBS1yZBHq8kK"
      }
    },
    {
      "cell_type": "markdown",
      "source": [
        "### 2. Line Chart - Распределение количества победителей и призёров по годам - линейная диаграмма"
      ],
      "metadata": {
        "id": "I879einA_2mX"
      }
    },
    {
      "cell_type": "markdown",
      "source": [],
      "metadata": {
        "id": "Y1uMnyPCoags"
      }
    },
    {
      "cell_type": "code",
      "source": [
        "# распределение победителей и призеров по годам\n",
        "\n",
        "win_vosh_year =  df.filter(items = ['Status', 'OlympiadType', 'Year', 'Class']).groupby(['Status', 'OlympiadType', 'Year']).count().sort_values(by = 'Class', ascending=False)\n",
        "\n",
        "win_only_vosh = df['OlympiadType'].isin(['ВОШ'])\n",
        "win_vosh_year = df[win_only_vosh].filter(items = ['start_year', 'Status','Class']).groupby(['start_year', 'Status']).count().sort_values(by = 'start_year', ascending=False).reset_index()\n",
        "win_vosh = pd.pivot_table(win_vosh_year, index = 'start_year', columns = 'Status', values = 'Class')\n",
        "\n",
        "win_vosh"
      ],
      "metadata": {
        "colab": {
          "base_uri": "https://localhost:8080/",
          "height": 332
        },
        "id": "Ub-StWIv-HO0",
        "outputId": "dca83d5c-0008-4c26-8b97-862cc6a4d93b"
      },
      "execution_count": null,
      "outputs": [
        {
          "output_type": "execute_result",
          "data": {
            "text/plain": [
              "Status      победитель  призёр\n",
              "start_year                    \n",
              "2012               158    2922\n",
              "2013               187    3751\n",
              "2014               603    5127\n",
              "2015               733    5927\n",
              "2016               811    6154\n",
              "2017              1004    6244\n",
              "2018              1086    6997\n",
              "2019               955    7075"
            ],
            "text/html": [
              "\n",
              "  <div id=\"df-2eda3dc1-eb21-4064-870b-7e40f3beed61\">\n",
              "    <div class=\"colab-df-container\">\n",
              "      <div>\n",
              "<style scoped>\n",
              "    .dataframe tbody tr th:only-of-type {\n",
              "        vertical-align: middle;\n",
              "    }\n",
              "\n",
              "    .dataframe tbody tr th {\n",
              "        vertical-align: top;\n",
              "    }\n",
              "\n",
              "    .dataframe thead th {\n",
              "        text-align: right;\n",
              "    }\n",
              "</style>\n",
              "<table border=\"1\" class=\"dataframe\">\n",
              "  <thead>\n",
              "    <tr style=\"text-align: right;\">\n",
              "      <th>Status</th>\n",
              "      <th>победитель</th>\n",
              "      <th>призёр</th>\n",
              "    </tr>\n",
              "    <tr>\n",
              "      <th>start_year</th>\n",
              "      <th></th>\n",
              "      <th></th>\n",
              "    </tr>\n",
              "  </thead>\n",
              "  <tbody>\n",
              "    <tr>\n",
              "      <th>2012</th>\n",
              "      <td>158</td>\n",
              "      <td>2922</td>\n",
              "    </tr>\n",
              "    <tr>\n",
              "      <th>2013</th>\n",
              "      <td>187</td>\n",
              "      <td>3751</td>\n",
              "    </tr>\n",
              "    <tr>\n",
              "      <th>2014</th>\n",
              "      <td>603</td>\n",
              "      <td>5127</td>\n",
              "    </tr>\n",
              "    <tr>\n",
              "      <th>2015</th>\n",
              "      <td>733</td>\n",
              "      <td>5927</td>\n",
              "    </tr>\n",
              "    <tr>\n",
              "      <th>2016</th>\n",
              "      <td>811</td>\n",
              "      <td>6154</td>\n",
              "    </tr>\n",
              "    <tr>\n",
              "      <th>2017</th>\n",
              "      <td>1004</td>\n",
              "      <td>6244</td>\n",
              "    </tr>\n",
              "    <tr>\n",
              "      <th>2018</th>\n",
              "      <td>1086</td>\n",
              "      <td>6997</td>\n",
              "    </tr>\n",
              "    <tr>\n",
              "      <th>2019</th>\n",
              "      <td>955</td>\n",
              "      <td>7075</td>\n",
              "    </tr>\n",
              "  </tbody>\n",
              "</table>\n",
              "</div>\n",
              "      <button class=\"colab-df-convert\" onclick=\"convertToInteractive('df-2eda3dc1-eb21-4064-870b-7e40f3beed61')\"\n",
              "              title=\"Convert this dataframe to an interactive table.\"\n",
              "              style=\"display:none;\">\n",
              "        \n",
              "  <svg xmlns=\"http://www.w3.org/2000/svg\" height=\"24px\"viewBox=\"0 0 24 24\"\n",
              "       width=\"24px\">\n",
              "    <path d=\"M0 0h24v24H0V0z\" fill=\"none\"/>\n",
              "    <path d=\"M18.56 5.44l.94 2.06.94-2.06 2.06-.94-2.06-.94-.94-2.06-.94 2.06-2.06.94zm-11 1L8.5 8.5l.94-2.06 2.06-.94-2.06-.94L8.5 2.5l-.94 2.06-2.06.94zm10 10l.94 2.06.94-2.06 2.06-.94-2.06-.94-.94-2.06-.94 2.06-2.06.94z\"/><path d=\"M17.41 7.96l-1.37-1.37c-.4-.4-.92-.59-1.43-.59-.52 0-1.04.2-1.43.59L10.3 9.45l-7.72 7.72c-.78.78-.78 2.05 0 2.83L4 21.41c.39.39.9.59 1.41.59.51 0 1.02-.2 1.41-.59l7.78-7.78 2.81-2.81c.8-.78.8-2.07 0-2.86zM5.41 20L4 18.59l7.72-7.72 1.47 1.35L5.41 20z\"/>\n",
              "  </svg>\n",
              "      </button>\n",
              "      \n",
              "  <style>\n",
              "    .colab-df-container {\n",
              "      display:flex;\n",
              "      flex-wrap:wrap;\n",
              "      gap: 12px;\n",
              "    }\n",
              "\n",
              "    .colab-df-convert {\n",
              "      background-color: #E8F0FE;\n",
              "      border: none;\n",
              "      border-radius: 50%;\n",
              "      cursor: pointer;\n",
              "      display: none;\n",
              "      fill: #1967D2;\n",
              "      height: 32px;\n",
              "      padding: 0 0 0 0;\n",
              "      width: 32px;\n",
              "    }\n",
              "\n",
              "    .colab-df-convert:hover {\n",
              "      background-color: #E2EBFA;\n",
              "      box-shadow: 0px 1px 2px rgba(60, 64, 67, 0.3), 0px 1px 3px 1px rgba(60, 64, 67, 0.15);\n",
              "      fill: #174EA6;\n",
              "    }\n",
              "\n",
              "    [theme=dark] .colab-df-convert {\n",
              "      background-color: #3B4455;\n",
              "      fill: #D2E3FC;\n",
              "    }\n",
              "\n",
              "    [theme=dark] .colab-df-convert:hover {\n",
              "      background-color: #434B5C;\n",
              "      box-shadow: 0px 1px 3px 1px rgba(0, 0, 0, 0.15);\n",
              "      filter: drop-shadow(0px 1px 2px rgba(0, 0, 0, 0.3));\n",
              "      fill: #FFFFFF;\n",
              "    }\n",
              "  </style>\n",
              "\n",
              "      <script>\n",
              "        const buttonEl =\n",
              "          document.querySelector('#df-2eda3dc1-eb21-4064-870b-7e40f3beed61 button.colab-df-convert');\n",
              "        buttonEl.style.display =\n",
              "          google.colab.kernel.accessAllowed ? 'block' : 'none';\n",
              "\n",
              "        async function convertToInteractive(key) {\n",
              "          const element = document.querySelector('#df-2eda3dc1-eb21-4064-870b-7e40f3beed61');\n",
              "          const dataTable =\n",
              "            await google.colab.kernel.invokeFunction('convertToInteractive',\n",
              "                                                     [key], {});\n",
              "          if (!dataTable) return;\n",
              "\n",
              "          const docLinkHtml = 'Like what you see? Visit the ' +\n",
              "            '<a target=\"_blank\" href=https://colab.research.google.com/notebooks/data_table.ipynb>data table notebook</a>'\n",
              "            + ' to learn more about interactive tables.';\n",
              "          element.innerHTML = '';\n",
              "          dataTable['output_type'] = 'display_data';\n",
              "          await google.colab.output.renderOutput(dataTable, element);\n",
              "          const docLink = document.createElement('div');\n",
              "          docLink.innerHTML = docLinkHtml;\n",
              "          element.appendChild(docLink);\n",
              "        }\n",
              "      </script>\n",
              "    </div>\n",
              "  </div>\n",
              "  "
            ]
          },
          "metadata": {},
          "execution_count": 30
        }
      ]
    },
    {
      "cell_type": "code",
      "source": [
        "# применяем функцию plot из matplotlib\n",
        "for status in win_vosh.columns:\n",
        "    plt.plot(win_vosh.index, win_vosh[status])\\\n",
        "\n",
        "plt.title('Динамика')\n",
        "plt.xlabel('Год')\n",
        "plt.ylabel('Кол-во')\n",
        "plt.legend(win_vosh)"
      ],
      "metadata": {
        "colab": {
          "base_uri": "https://localhost:8080/",
          "height": 313
        },
        "id": "2M3XqyJKE52Z",
        "outputId": "6b87105e-0d92-47b1-8d58-55618975522d"
      },
      "execution_count": null,
      "outputs": [
        {
          "output_type": "execute_result",
          "data": {
            "text/plain": [
              "<matplotlib.legend.Legend at 0x7f0acbdf7210>"
            ]
          },
          "metadata": {},
          "execution_count": 31
        },
        {
          "output_type": "display_data",
          "data": {
            "text/plain": [
              "<Figure size 432x288 with 1 Axes>"
            ],
            "image/png": "[encoded data removed]"
          },
          "metadata": {
            "needs_background": "light"
          }
        }
      ]
    },
    {
      "cell_type": "code",
      "source": [
        "win_mosh_year =  df.filter(items = ['Status', 'OlympiadType', 'start_year', 'Class']).groupby(['Status', 'OlympiadType', 'start_year']).count().sort_values(by = 'start_year', ascending=False)\n",
        "\n",
        "win_only_mosh = df['OlympiadType'].isin(['МОШ'])\n",
        "win_mosh_year = df[win_only_mosh].filter(items = ['start_year', 'Status','Class']).groupby(['start_year', 'Status']).count().sort_values(by = 'start_year', ascending=False).reset_index()\n",
        "win_mosh = pd.pivot_table(win_mosh_year, index = 'start_year', columns = 'Status', values = 'Class')\n",
        "\n",
        "win_mosh"
      ],
      "metadata": {
        "colab": {
          "base_uri": "https://localhost:8080/",
          "height": 300
        },
        "id": "I6w2Gk-9Du0B",
        "outputId": "5f65131e-5605-4137-ca18-4f0f7e4a69eb"
      },
      "execution_count": null,
      "outputs": [
        {
          "output_type": "execute_result",
          "data": {
            "text/plain": [
              "Status      победитель  призёр\n",
              "start_year                    \n",
              "2012               412    1905\n",
              "2013               594    2337\n",
              "2014               588    2602\n",
              "2015               643    2649\n",
              "2016               701    2819\n",
              "2017               782    3206\n",
              "2018              1120    4062"
            ],
            "text/html": [
              "\n",
              "  <div id=\"df-bb3e5c46-5e7e-46f5-8a68-bae50732fa20\">\n",
              "    <div class=\"colab-df-container\">\n",
              "      <div>\n",
              "<style scoped>\n",
              "    .dataframe tbody tr th:only-of-type {\n",
              "        vertical-align: middle;\n",
              "    }\n",
              "\n",
              "    .dataframe tbody tr th {\n",
              "        vertical-align: top;\n",
              "    }\n",
              "\n",
              "    .dataframe thead th {\n",
              "        text-align: right;\n",
              "    }\n",
              "</style>\n",
              "<table border=\"1\" class=\"dataframe\">\n",
              "  <thead>\n",
              "    <tr style=\"text-align: right;\">\n",
              "      <th>Status</th>\n",
              "      <th>победитель</th>\n",
              "      <th>призёр</th>\n",
              "    </tr>\n",
              "    <tr>\n",
              "      <th>start_year</th>\n",
              "      <th></th>\n",
              "      <th></th>\n",
              "    </tr>\n",
              "  </thead>\n",
              "  <tbody>\n",
              "    <tr>\n",
              "      <th>2012</th>\n",
              "      <td>412</td>\n",
              "      <td>1905</td>\n",
              "    </tr>\n",
              "    <tr>\n",
              "      <th>2013</th>\n",
              "      <td>594</td>\n",
              "      <td>2337</td>\n",
              "    </tr>\n",
              "    <tr>\n",
              "      <th>2014</th>\n",
              "      <td>588</td>\n",
              "      <td>2602</td>\n",
              "    </tr>\n",
              "    <tr>\n",
              "      <th>2015</th>\n",
              "      <td>643</td>\n",
              "      <td>2649</td>\n",
              "    </tr>\n",
              "    <tr>\n",
              "      <th>2016</th>\n",
              "      <td>701</td>\n",
              "      <td>2819</td>\n",
              "    </tr>\n",
              "    <tr>\n",
              "      <th>2017</th>\n",
              "      <td>782</td>\n",
              "      <td>3206</td>\n",
              "    </tr>\n",
              "    <tr>\n",
              "      <th>2018</th>\n",
              "      <td>1120</td>\n",
              "      <td>4062</td>\n",
              "    </tr>\n",
              "  </tbody>\n",
              "</table>\n",
              "</div>\n",
              "      <button class=\"colab-df-convert\" onclick=\"convertToInteractive('df-bb3e5c46-5e7e-46f5-8a68-bae50732fa20')\"\n",
              "              title=\"Convert this dataframe to an interactive table.\"\n",
              "              style=\"display:none;\">\n",
              "        \n",
              "  <svg xmlns=\"http://www.w3.org/2000/svg\" height=\"24px\"viewBox=\"0 0 24 24\"\n",
              "       width=\"24px\">\n",
              "    <path d=\"M0 0h24v24H0V0z\" fill=\"none\"/>\n",
              "    <path d=\"M18.56 5.44l.94 2.06.94-2.06 2.06-.94-2.06-.94-.94-2.06-.94 2.06-2.06.94zm-11 1L8.5 8.5l.94-2.06 2.06-.94-2.06-.94L8.5 2.5l-.94 2.06-2.06.94zm10 10l.94 2.06.94-2.06 2.06-.94-2.06-.94-.94-2.06-.94 2.06-2.06.94z\"/><path d=\"M17.41 7.96l-1.37-1.37c-.4-.4-.92-.59-1.43-.59-.52 0-1.04.2-1.43.59L10.3 9.45l-7.72 7.72c-.78.78-.78 2.05 0 2.83L4 21.41c.39.39.9.59 1.41.59.51 0 1.02-.2 1.41-.59l7.78-7.78 2.81-2.81c.8-.78.8-2.07 0-2.86zM5.41 20L4 18.59l7.72-7.72 1.47 1.35L5.41 20z\"/>\n",
              "  </svg>\n",
              "      </button>\n",
              "      \n",
              "  <style>\n",
              "    .colab-df-container {\n",
              "      display:flex;\n",
              "      flex-wrap:wrap;\n",
              "      gap: 12px;\n",
              "    }\n",
              "\n",
              "    .colab-df-convert {\n",
              "      background-color: #E8F0FE;\n",
              "      border: none;\n",
              "      border-radius: 50%;\n",
              "      cursor: pointer;\n",
              "      display: none;\n",
              "      fill: #1967D2;\n",
              "      height: 32px;\n",
              "      padding: 0 0 0 0;\n",
              "      width: 32px;\n",
              "    }\n",
              "\n",
              "    .colab-df-convert:hover {\n",
              "      background-color: #E2EBFA;\n",
              "      box-shadow: 0px 1px 2px rgba(60, 64, 67, 0.3), 0px 1px 3px 1px rgba(60, 64, 67, 0.15);\n",
              "      fill: #174EA6;\n",
              "    }\n",
              "\n",
              "    [theme=dark] .colab-df-convert {\n",
              "      background-color: #3B4455;\n",
              "      fill: #D2E3FC;\n",
              "    }\n",
              "\n",
              "    [theme=dark] .colab-df-convert:hover {\n",
              "      background-color: #434B5C;\n",
              "      box-shadow: 0px 1px 3px 1px rgba(0, 0, 0, 0.15);\n",
              "      filter: drop-shadow(0px 1px 2px rgba(0, 0, 0, 0.3));\n",
              "      fill: #FFFFFF;\n",
              "    }\n",
              "  </style>\n",
              "\n",
              "      <script>\n",
              "        const buttonEl =\n",
              "          document.querySelector('#df-bb3e5c46-5e7e-46f5-8a68-bae50732fa20 button.colab-df-convert');\n",
              "        buttonEl.style.display =\n",
              "          google.colab.kernel.accessAllowed ? 'block' : 'none';\n",
              "\n",
              "        async function convertToInteractive(key) {\n",
              "          const element = document.querySelector('#df-bb3e5c46-5e7e-46f5-8a68-bae50732fa20');\n",
              "          const dataTable =\n",
              "            await google.colab.kernel.invokeFunction('convertToInteractive',\n",
              "                                                     [key], {});\n",
              "          if (!dataTable) return;\n",
              "\n",
              "          const docLinkHtml = 'Like what you see? Visit the ' +\n",
              "            '<a target=\"_blank\" href=https://colab.research.google.com/notebooks/data_table.ipynb>data table notebook</a>'\n",
              "            + ' to learn more about interactive tables.';\n",
              "          element.innerHTML = '';\n",
              "          dataTable['output_type'] = 'display_data';\n",
              "          await google.colab.output.renderOutput(dataTable, element);\n",
              "          const docLink = document.createElement('div');\n",
              "          docLink.innerHTML = docLinkHtml;\n",
              "          element.appendChild(docLink);\n",
              "        }\n",
              "      </script>\n",
              "    </div>\n",
              "  </div>\n",
              "  "
            ]
          },
          "metadata": {},
          "execution_count": 32
        }
      ]
    },
    {
      "cell_type": "code",
      "source": [
        "for status in win_mosh.columns:\n",
        "    plt.plot(win_mosh.index, win_mosh[status])\\\n",
        "\n",
        "plt.title('Динамика')\n",
        "plt.xlabel('Год')\n",
        "plt.ylabel('Кол-во')\n",
        "plt.legend(win_mosh)"
      ],
      "metadata": {
        "colab": {
          "base_uri": "https://localhost:8080/",
          "height": 313
        },
        "id": "0j2dDa91Ey3L",
        "outputId": "5f10af02-55c9-4b78-c03e-181214bac51d"
      },
      "execution_count": null,
      "outputs": [
        {
          "output_type": "execute_result",
          "data": {
            "text/plain": [
              "<matplotlib.legend.Legend at 0x7fa78aca23d0>"
            ]
          },
          "metadata": {},
          "execution_count": 42
        },
        {
          "output_type": "display_data",
          "data": {
            "text/plain": [
              "<Figure size 432x288 with 1 Axes>"
            ],
            "image/png": "[encoded data removed]"
          },
          "metadata": {
            "needs_background": "light"
          }
        }
      ]
    },
    {
      "cell_type": "code",
      "source": [
        "win_olimp_year =  df.filter(items = ['Status', 'OlympiadType', 'start_year', 'Class']).groupby(['Status', 'OlympiadType', 'start_year']).count().sort_values(by = 'start_year', ascending=False).reset_index()\n",
        "win_olimp_year.drop(win_olimp_year .head(3).index, inplace=True)\n",
        "win_olimp_year.head(5)\n"
      ],
      "metadata": {
        "colab": {
          "base_uri": "https://localhost:8080/",
          "height": 206
        },
        "id": "vVBXRvGsPqac",
        "outputId": "9b842f2e-a491-4e54-8bca-6f335f2e8b6a"
      },
      "execution_count": null,
      "outputs": [
        {
          "output_type": "execute_result",
          "data": {
            "text/plain": [
              "       Status OlympiadType start_year  Class\n",
              "3  победитель          ВОШ       2018   1086\n",
              "4      призёр          ВОШ       2018   6997\n",
              "5  победитель          МОШ       2018   1120\n",
              "6      призёр          МОШ       2018   4062\n",
              "7  победитель          ВОШ       2017   1004"
            ],
            "text/html": [
              "\n",
              "  <div id=\"df-c3209e87-a0f3-40a2-b219-38b132d975a7\">\n",
              "    <div class=\"colab-df-container\">\n",
              "      <div>\n",
              "<style scoped>\n",
              "    .dataframe tbody tr th:only-of-type {\n",
              "        vertical-align: middle;\n",
              "    }\n",
              "\n",
              "    .dataframe tbody tr th {\n",
              "        vertical-align: top;\n",
              "    }\n",
              "\n",
              "    .dataframe thead th {\n",
              "        text-align: right;\n",
              "    }\n",
              "</style>\n",
              "<table border=\"1\" class=\"dataframe\">\n",
              "  <thead>\n",
              "    <tr style=\"text-align: right;\">\n",
              "      <th></th>\n",
              "      <th>Status</th>\n",
              "      <th>OlympiadType</th>\n",
              "      <th>start_year</th>\n",
              "      <th>Class</th>\n",
              "    </tr>\n",
              "  </thead>\n",
              "  <tbody>\n",
              "    <tr>\n",
              "      <th>3</th>\n",
              "      <td>победитель</td>\n",
              "      <td>ВОШ</td>\n",
              "      <td>2018</td>\n",
              "      <td>1086</td>\n",
              "    </tr>\n",
              "    <tr>\n",
              "      <th>4</th>\n",
              "      <td>призёр</td>\n",
              "      <td>ВОШ</td>\n",
              "      <td>2018</td>\n",
              "      <td>6997</td>\n",
              "    </tr>\n",
              "    <tr>\n",
              "      <th>5</th>\n",
              "      <td>победитель</td>\n",
              "      <td>МОШ</td>\n",
              "      <td>2018</td>\n",
              "      <td>1120</td>\n",
              "    </tr>\n",
              "    <tr>\n",
              "      <th>6</th>\n",
              "      <td>призёр</td>\n",
              "      <td>МОШ</td>\n",
              "      <td>2018</td>\n",
              "      <td>4062</td>\n",
              "    </tr>\n",
              "    <tr>\n",
              "      <th>7</th>\n",
              "      <td>победитель</td>\n",
              "      <td>ВОШ</td>\n",
              "      <td>2017</td>\n",
              "      <td>1004</td>\n",
              "    </tr>\n",
              "  </tbody>\n",
              "</table>\n",
              "</div>\n",
              "      <button class=\"colab-df-convert\" onclick=\"convertToInteractive('df-c3209e87-a0f3-40a2-b219-38b132d975a7')\"\n",
              "              title=\"Convert this dataframe to an interactive table.\"\n",
              "              style=\"display:none;\">\n",
              "        \n",
              "  <svg xmlns=\"http://www.w3.org/2000/svg\" height=\"24px\"viewBox=\"0 0 24 24\"\n",
              "       width=\"24px\">\n",
              "    <path d=\"M0 0h24v24H0V0z\" fill=\"none\"/>\n",
              "    <path d=\"M18.56 5.44l.94 2.06.94-2.06 2.06-.94-2.06-.94-.94-2.06-.94 2.06-2.06.94zm-11 1L8.5 8.5l.94-2.06 2.06-.94-2.06-.94L8.5 2.5l-.94 2.06-2.06.94zm10 10l.94 2.06.94-2.06 2.06-.94-2.06-.94-.94-2.06-.94 2.06-2.06.94z\"/><path d=\"M17.41 7.96l-1.37-1.37c-.4-.4-.92-.59-1.43-.59-.52 0-1.04.2-1.43.59L10.3 9.45l-7.72 7.72c-.78.78-.78 2.05 0 2.83L4 21.41c.39.39.9.59 1.41.59.51 0 1.02-.2 1.41-.59l7.78-7.78 2.81-2.81c.8-.78.8-2.07 0-2.86zM5.41 20L4 18.59l7.72-7.72 1.47 1.35L5.41 20z\"/>\n",
              "  </svg>\n",
              "      </button>\n",
              "      \n",
              "  <style>\n",
              "    .colab-df-container {\n",
              "      display:flex;\n",
              "      flex-wrap:wrap;\n",
              "      gap: 12px;\n",
              "    }\n",
              "\n",
              "    .colab-df-convert {\n",
              "      background-color: #E8F0FE;\n",
              "      border: none;\n",
              "      border-radius: 50%;\n",
              "      cursor: pointer;\n",
              "      display: none;\n",
              "      fill: #1967D2;\n",
              "      height: 32px;\n",
              "      padding: 0 0 0 0;\n",
              "      width: 32px;\n",
              "    }\n",
              "\n",
              "    .colab-df-convert:hover {\n",
              "      background-color: #E2EBFA;\n",
              "      box-shadow: 0px 1px 2px rgba(60, 64, 67, 0.3), 0px 1px 3px 1px rgba(60, 64, 67, 0.15);\n",
              "      fill: #174EA6;\n",
              "    }\n",
              "\n",
              "    [theme=dark] .colab-df-convert {\n",
              "      background-color: #3B4455;\n",
              "      fill: #D2E3FC;\n",
              "    }\n",
              "\n",
              "    [theme=dark] .colab-df-convert:hover {\n",
              "      background-color: #434B5C;\n",
              "      box-shadow: 0px 1px 3px 1px rgba(0, 0, 0, 0.15);\n",
              "      filter: drop-shadow(0px 1px 2px rgba(0, 0, 0, 0.3));\n",
              "      fill: #FFFFFF;\n",
              "    }\n",
              "  </style>\n",
              "\n",
              "      <script>\n",
              "        const buttonEl =\n",
              "          document.querySelector('#df-c3209e87-a0f3-40a2-b219-38b132d975a7 button.colab-df-convert');\n",
              "        buttonEl.style.display =\n",
              "          google.colab.kernel.accessAllowed ? 'block' : 'none';\n",
              "\n",
              "        async function convertToInteractive(key) {\n",
              "          const element = document.querySelector('#df-c3209e87-a0f3-40a2-b219-38b132d975a7');\n",
              "          const dataTable =\n",
              "            await google.colab.kernel.invokeFunction('convertToInteractive',\n",
              "                                                     [key], {});\n",
              "          if (!dataTable) return;\n",
              "\n",
              "          const docLinkHtml = 'Like what you see? Visit the ' +\n",
              "            '<a target=\"_blank\" href=https://colab.research.google.com/notebooks/data_table.ipynb>data table notebook</a>'\n",
              "            + ' to learn more about interactive tables.';\n",
              "          element.innerHTML = '';\n",
              "          dataTable['output_type'] = 'display_data';\n",
              "          await google.colab.output.renderOutput(dataTable, element);\n",
              "          const docLink = document.createElement('div');\n",
              "          docLink.innerHTML = docLinkHtml;\n",
              "          element.appendChild(docLink);\n",
              "        }\n",
              "      </script>\n",
              "    </div>\n",
              "  </div>\n",
              "  "
            ]
          },
          "metadata": {},
          "execution_count": 34
        }
      ]
    },
    {
      "cell_type": "code",
      "source": [
        "# функция, которая поможет подготовить данные для сводной таблицы, чтобы построить линейную зависимость год - количество победителей\n",
        "def distribution(row):\n",
        "    if row['OlympiadType'] == 'ВОШ' and row['Status'] == 'победитель':\n",
        "        row['Status'] = 'победитель-ВОШ'\n",
        "    elif row['OlympiadType'] == 'ВОШ' and row['Status'] == 'призёр':\n",
        "        row['Status'] = 'призёр-ВОШ'\n",
        "    elif row['OlympiadType'] == 'МОШ' and row['Status'] == 'победитель':\n",
        "        row['Status'] = 'победитель-МОШ'\n",
        "    elif row['OlympiadType'] == 'МОШ' and row['Status'] == 'призёр':\n",
        "        row['Status'] = 'призёр-МОШ'\n",
        "    return row"
      ],
      "metadata": {
        "id": "dreTMI6dQjjK"
      },
      "execution_count": null,
      "outputs": []
    },
    {
      "cell_type": "code",
      "source": [
        "wins = win_olimp_year.apply(distribution, axis=1)\n",
        "wins.head(5)"
      ],
      "metadata": {
        "colab": {
          "base_uri": "https://localhost:8080/",
          "height": 206
        },
        "id": "w7bPF8CxSHmc",
        "outputId": "a7dd3fcc-a1d9-491e-a36c-f96121263034"
      },
      "execution_count": null,
      "outputs": [
        {
          "output_type": "execute_result",
          "data": {
            "text/plain": [
              "           Status OlympiadType start_year  Class\n",
              "3  победитель-ВОШ          ВОШ       2018   1086\n",
              "4      призёр-ВОШ          ВОШ       2018   6997\n",
              "5  победитель-МОШ          МОШ       2018   1120\n",
              "6      призёр-МОШ          МОШ       2018   4062\n",
              "7  победитель-ВОШ          ВОШ       2017   1004"
            ],
            "text/html": [
              "\n",
              "  <div id=\"df-5c78f580-2f28-4414-b3fe-8d0aea712f09\">\n",
              "    <div class=\"colab-df-container\">\n",
              "      <div>\n",
              "<style scoped>\n",
              "    .dataframe tbody tr th:only-of-type {\n",
              "        vertical-align: middle;\n",
              "    }\n",
              "\n",
              "    .dataframe tbody tr th {\n",
              "        vertical-align: top;\n",
              "    }\n",
              "\n",
              "    .dataframe thead th {\n",
              "        text-align: right;\n",
              "    }\n",
              "</style>\n",
              "<table border=\"1\" class=\"dataframe\">\n",
              "  <thead>\n",
              "    <tr style=\"text-align: right;\">\n",
              "      <th></th>\n",
              "      <th>Status</th>\n",
              "      <th>OlympiadType</th>\n",
              "      <th>start_year</th>\n",
              "      <th>Class</th>\n",
              "    </tr>\n",
              "  </thead>\n",
              "  <tbody>\n",
              "    <tr>\n",
              "      <th>3</th>\n",
              "      <td>победитель-ВОШ</td>\n",
              "      <td>ВОШ</td>\n",
              "      <td>2018</td>\n",
              "      <td>1086</td>\n",
              "    </tr>\n",
              "    <tr>\n",
              "      <th>4</th>\n",
              "      <td>призёр-ВОШ</td>\n",
              "      <td>ВОШ</td>\n",
              "      <td>2018</td>\n",
              "      <td>6997</td>\n",
              "    </tr>\n",
              "    <tr>\n",
              "      <th>5</th>\n",
              "      <td>победитель-МОШ</td>\n",
              "      <td>МОШ</td>\n",
              "      <td>2018</td>\n",
              "      <td>1120</td>\n",
              "    </tr>\n",
              "    <tr>\n",
              "      <th>6</th>\n",
              "      <td>призёр-МОШ</td>\n",
              "      <td>МОШ</td>\n",
              "      <td>2018</td>\n",
              "      <td>4062</td>\n",
              "    </tr>\n",
              "    <tr>\n",
              "      <th>7</th>\n",
              "      <td>победитель-ВОШ</td>\n",
              "      <td>ВОШ</td>\n",
              "      <td>2017</td>\n",
              "      <td>1004</td>\n",
              "    </tr>\n",
              "  </tbody>\n",
              "</table>\n",
              "</div>\n",
              "      <button class=\"colab-df-convert\" onclick=\"convertToInteractive('df-5c78f580-2f28-4414-b3fe-8d0aea712f09')\"\n",
              "              title=\"Convert this dataframe to an interactive table.\"\n",
              "              style=\"display:none;\">\n",
              "        \n",
              "  <svg xmlns=\"http://www.w3.org/2000/svg\" height=\"24px\"viewBox=\"0 0 24 24\"\n",
              "       width=\"24px\">\n",
              "    <path d=\"M0 0h24v24H0V0z\" fill=\"none\"/>\n",
              "    <path d=\"M18.56 5.44l.94 2.06.94-2.06 2.06-.94-2.06-.94-.94-2.06-.94 2.06-2.06.94zm-11 1L8.5 8.5l.94-2.06 2.06-.94-2.06-.94L8.5 2.5l-.94 2.06-2.06.94zm10 10l.94 2.06.94-2.06 2.06-.94-2.06-.94-.94-2.06-.94 2.06-2.06.94z\"/><path d=\"M17.41 7.96l-1.37-1.37c-.4-.4-.92-.59-1.43-.59-.52 0-1.04.2-1.43.59L10.3 9.45l-7.72 7.72c-.78.78-.78 2.05 0 2.83L4 21.41c.39.39.9.59 1.41.59.51 0 1.02-.2 1.41-.59l7.78-7.78 2.81-2.81c.8-.78.8-2.07 0-2.86zM5.41 20L4 18.59l7.72-7.72 1.47 1.35L5.41 20z\"/>\n",
              "  </svg>\n",
              "      </button>\n",
              "      \n",
              "  <style>\n",
              "    .colab-df-container {\n",
              "      display:flex;\n",
              "      flex-wrap:wrap;\n",
              "      gap: 12px;\n",
              "    }\n",
              "\n",
              "    .colab-df-convert {\n",
              "      background-color: #E8F0FE;\n",
              "      border: none;\n",
              "      border-radius: 50%;\n",
              "      cursor: pointer;\n",
              "      display: none;\n",
              "      fill: #1967D2;\n",
              "      height: 32px;\n",
              "      padding: 0 0 0 0;\n",
              "      width: 32px;\n",
              "    }\n",
              "\n",
              "    .colab-df-convert:hover {\n",
              "      background-color: #E2EBFA;\n",
              "      box-shadow: 0px 1px 2px rgba(60, 64, 67, 0.3), 0px 1px 3px 1px rgba(60, 64, 67, 0.15);\n",
              "      fill: #174EA6;\n",
              "    }\n",
              "\n",
              "    [theme=dark] .colab-df-convert {\n",
              "      background-color: #3B4455;\n",
              "      fill: #D2E3FC;\n",
              "    }\n",
              "\n",
              "    [theme=dark] .colab-df-convert:hover {\n",
              "      background-color: #434B5C;\n",
              "      box-shadow: 0px 1px 3px 1px rgba(0, 0, 0, 0.15);\n",
              "      filter: drop-shadow(0px 1px 2px rgba(0, 0, 0, 0.3));\n",
              "      fill: #FFFFFF;\n",
              "    }\n",
              "  </style>\n",
              "\n",
              "      <script>\n",
              "        const buttonEl =\n",
              "          document.querySelector('#df-5c78f580-2f28-4414-b3fe-8d0aea712f09 button.colab-df-convert');\n",
              "        buttonEl.style.display =\n",
              "          google.colab.kernel.accessAllowed ? 'block' : 'none';\n",
              "\n",
              "        async function convertToInteractive(key) {\n",
              "          const element = document.querySelector('#df-5c78f580-2f28-4414-b3fe-8d0aea712f09');\n",
              "          const dataTable =\n",
              "            await google.colab.kernel.invokeFunction('convertToInteractive',\n",
              "                                                     [key], {});\n",
              "          if (!dataTable) return;\n",
              "\n",
              "          const docLinkHtml = 'Like what you see? Visit the ' +\n",
              "            '<a target=\"_blank\" href=https://colab.research.google.com/notebooks/data_table.ipynb>data table notebook</a>'\n",
              "            + ' to learn more about interactive tables.';\n",
              "          element.innerHTML = '';\n",
              "          dataTable['output_type'] = 'display_data';\n",
              "          await google.colab.output.renderOutput(dataTable, element);\n",
              "          const docLink = document.createElement('div');\n",
              "          docLink.innerHTML = docLinkHtml;\n",
              "          element.appendChild(docLink);\n",
              "        }\n",
              "      </script>\n",
              "    </div>\n",
              "  </div>\n",
              "  "
            ]
          },
          "metadata": {},
          "execution_count": 36
        }
      ]
    },
    {
      "cell_type": "code",
      "source": [
        "# делаем сводную таблицу\n",
        "wins_olimps = pd.pivot_table(wins, index = 'start_year', columns = 'Status', values = 'Class')\n",
        "wins_olimps"
      ],
      "metadata": {
        "colab": {
          "base_uri": "https://localhost:8080/",
          "height": 300
        },
        "id": "MKsscAV4Sx-b",
        "outputId": "d7ecd49f-9232-479f-b7ab-7daa05fecd52"
      },
      "execution_count": null,
      "outputs": [
        {
          "output_type": "execute_result",
          "data": {
            "text/plain": [
              "Status      победитель-ВОШ  победитель-МОШ  призёр-ВОШ  призёр-МОШ\n",
              "start_year                                                        \n",
              "2012                   158             412        2922        1905\n",
              "2013                   187             594        3751        2337\n",
              "2014                   603             588        5127        2602\n",
              "2015                   733             643        5927        2649\n",
              "2016                   811             701        6154        2819\n",
              "2017                  1004             782        6244        3206\n",
              "2018                  1086            1120        6997        4062"
            ],
            "text/html": [
              "\n",
              "  <div id=\"df-51f01af2-544f-4a2a-8e83-6974d62a3fcb\">\n",
              "    <div class=\"colab-df-container\">\n",
              "      <div>\n",
              "<style scoped>\n",
              "    .dataframe tbody tr th:only-of-type {\n",
              "        vertical-align: middle;\n",
              "    }\n",
              "\n",
              "    .dataframe tbody tr th {\n",
              "        vertical-align: top;\n",
              "    }\n",
              "\n",
              "    .dataframe thead th {\n",
              "        text-align: right;\n",
              "    }\n",
              "</style>\n",
              "<table border=\"1\" class=\"dataframe\">\n",
              "  <thead>\n",
              "    <tr style=\"text-align: right;\">\n",
              "      <th>Status</th>\n",
              "      <th>победитель-ВОШ</th>\n",
              "      <th>победитель-МОШ</th>\n",
              "      <th>призёр-ВОШ</th>\n",
              "      <th>призёр-МОШ</th>\n",
              "    </tr>\n",
              "    <tr>\n",
              "      <th>start_year</th>\n",
              "      <th></th>\n",
              "      <th></th>\n",
              "      <th></th>\n",
              "      <th></th>\n",
              "    </tr>\n",
              "  </thead>\n",
              "  <tbody>\n",
              "    <tr>\n",
              "      <th>2012</th>\n",
              "      <td>158</td>\n",
              "      <td>412</td>\n",
              "      <td>2922</td>\n",
              "      <td>1905</td>\n",
              "    </tr>\n",
              "    <tr>\n",
              "      <th>2013</th>\n",
              "      <td>187</td>\n",
              "      <td>594</td>\n",
              "      <td>3751</td>\n",
              "      <td>2337</td>\n",
              "    </tr>\n",
              "    <tr>\n",
              "      <th>2014</th>\n",
              "      <td>603</td>\n",
              "      <td>588</td>\n",
              "      <td>5127</td>\n",
              "      <td>2602</td>\n",
              "    </tr>\n",
              "    <tr>\n",
              "      <th>2015</th>\n",
              "      <td>733</td>\n",
              "      <td>643</td>\n",
              "      <td>5927</td>\n",
              "      <td>2649</td>\n",
              "    </tr>\n",
              "    <tr>\n",
              "      <th>2016</th>\n",
              "      <td>811</td>\n",
              "      <td>701</td>\n",
              "      <td>6154</td>\n",
              "      <td>2819</td>\n",
              "    </tr>\n",
              "    <tr>\n",
              "      <th>2017</th>\n",
              "      <td>1004</td>\n",
              "      <td>782</td>\n",
              "      <td>6244</td>\n",
              "      <td>3206</td>\n",
              "    </tr>\n",
              "    <tr>\n",
              "      <th>2018</th>\n",
              "      <td>1086</td>\n",
              "      <td>1120</td>\n",
              "      <td>6997</td>\n",
              "      <td>4062</td>\n",
              "    </tr>\n",
              "  </tbody>\n",
              "</table>\n",
              "</div>\n",
              "      <button class=\"colab-df-convert\" onclick=\"convertToInteractive('df-51f01af2-544f-4a2a-8e83-6974d62a3fcb')\"\n",
              "              title=\"Convert this dataframe to an interactive table.\"\n",
              "              style=\"display:none;\">\n",
              "        \n",
              "  <svg xmlns=\"http://www.w3.org/2000/svg\" height=\"24px\"viewBox=\"0 0 24 24\"\n",
              "       width=\"24px\">\n",
              "    <path d=\"M0 0h24v24H0V0z\" fill=\"none\"/>\n",
              "    <path d=\"M18.56 5.44l.94 2.06.94-2.06 2.06-.94-2.06-.94-.94-2.06-.94 2.06-2.06.94zm-11 1L8.5 8.5l.94-2.06 2.06-.94-2.06-.94L8.5 2.5l-.94 2.06-2.06.94zm10 10l.94 2.06.94-2.06 2.06-.94-2.06-.94-.94-2.06-.94 2.06-2.06.94z\"/><path d=\"M17.41 7.96l-1.37-1.37c-.4-.4-.92-.59-1.43-.59-.52 0-1.04.2-1.43.59L10.3 9.45l-7.72 7.72c-.78.78-.78 2.05 0 2.83L4 21.41c.39.39.9.59 1.41.59.51 0 1.02-.2 1.41-.59l7.78-7.78 2.81-2.81c.8-.78.8-2.07 0-2.86zM5.41 20L4 18.59l7.72-7.72 1.47 1.35L5.41 20z\"/>\n",
              "  </svg>\n",
              "      </button>\n",
              "      \n",
              "  <style>\n",
              "    .colab-df-container {\n",
              "      display:flex;\n",
              "      flex-wrap:wrap;\n",
              "      gap: 12px;\n",
              "    }\n",
              "\n",
              "    .colab-df-convert {\n",
              "      background-color: #E8F0FE;\n",
              "      border: none;\n",
              "      border-radius: 50%;\n",
              "      cursor: pointer;\n",
              "      display: none;\n",
              "      fill: #1967D2;\n",
              "      height: 32px;\n",
              "      padding: 0 0 0 0;\n",
              "      width: 32px;\n",
              "    }\n",
              "\n",
              "    .colab-df-convert:hover {\n",
              "      background-color: #E2EBFA;\n",
              "      box-shadow: 0px 1px 2px rgba(60, 64, 67, 0.3), 0px 1px 3px 1px rgba(60, 64, 67, 0.15);\n",
              "      fill: #174EA6;\n",
              "    }\n",
              "\n",
              "    [theme=dark] .colab-df-convert {\n",
              "      background-color: #3B4455;\n",
              "      fill: #D2E3FC;\n",
              "    }\n",
              "\n",
              "    [theme=dark] .colab-df-convert:hover {\n",
              "      background-color: #434B5C;\n",
              "      box-shadow: 0px 1px 3px 1px rgba(0, 0, 0, 0.15);\n",
              "      filter: drop-shadow(0px 1px 2px rgba(0, 0, 0, 0.3));\n",
              "      fill: #FFFFFF;\n",
              "    }\n",
              "  </style>\n",
              "\n",
              "      <script>\n",
              "        const buttonEl =\n",
              "          document.querySelector('#df-51f01af2-544f-4a2a-8e83-6974d62a3fcb button.colab-df-convert');\n",
              "        buttonEl.style.display =\n",
              "          google.colab.kernel.accessAllowed ? 'block' : 'none';\n",
              "\n",
              "        async function convertToInteractive(key) {\n",
              "          const element = document.querySelector('#df-51f01af2-544f-4a2a-8e83-6974d62a3fcb');\n",
              "          const dataTable =\n",
              "            await google.colab.kernel.invokeFunction('convertToInteractive',\n",
              "                                                     [key], {});\n",
              "          if (!dataTable) return;\n",
              "\n",
              "          const docLinkHtml = 'Like what you see? Visit the ' +\n",
              "            '<a target=\"_blank\" href=https://colab.research.google.com/notebooks/data_table.ipynb>data table notebook</a>'\n",
              "            + ' to learn more about interactive tables.';\n",
              "          element.innerHTML = '';\n",
              "          dataTable['output_type'] = 'display_data';\n",
              "          await google.colab.output.renderOutput(dataTable, element);\n",
              "          const docLink = document.createElement('div');\n",
              "          docLink.innerHTML = docLinkHtml;\n",
              "          element.appendChild(docLink);\n",
              "        }\n",
              "      </script>\n",
              "    </div>\n",
              "  </div>\n",
              "  "
            ]
          },
          "metadata": {},
          "execution_count": 37
        }
      ]
    },
    {
      "cell_type": "code",
      "source": [
        "# Строим линейную зависмость\n",
        "for status in wins_olimps.columns:\n",
        "    plt.plot(wins_olimps.index, wins_olimps[status])\\\n",
        "\n",
        "plt.title('Динамика')\n",
        "plt.xlabel('Год')\n",
        "plt.ylabel('Кол-во')\n",
        "plt.legend(wins_olimps)"
      ],
      "metadata": {
        "colab": {
          "base_uri": "https://localhost:8080/",
          "height": 313
        },
        "id": "n2o6DODeTwRV",
        "outputId": "d19e43ae-5146-4fc4-e5bc-245ff6920582"
      },
      "execution_count": null,
      "outputs": [
        {
          "output_type": "execute_result",
          "data": {
            "text/plain": [
              "<matplotlib.legend.Legend at 0x7f0acbe88990>"
            ]
          },
          "metadata": {},
          "execution_count": 38
        },
        {
          "output_type": "display_data",
          "data": {
            "text/plain": [
              "<Figure size 432x288 with 1 Axes>"
            ],
            "image/png": "[encoded data removed]"
          },
          "metadata": {
            "needs_background": "light"
          }
        }
      ]
    },
    {
      "cell_type": "markdown",
      "source": [
        "ВЫВОД: Больше всего призеров ВОШ. По всем показателям динамика положительная. Больше победителей с каждым годом, НО количество призеров растет сильнее, чем количество победителей. Гипотеза - все больше учащихся дедают ставку на участие в олимпиадах, так как можно получить БВИ для поступления в ВУЗ."
      ],
      "metadata": {
        "id": "b0p4PTKyhGXV"
      }
    },
    {
      "cell_type": "markdown",
      "source": [
        "### 3. Area Chart для сравнения победителей по статусам"
      ],
      "metadata": {
        "id": "UOnJt8IRg_bn"
      }
    },
    {
      "cell_type": "code",
      "source": [
        "wins_olimps.plot(kind='area',\n",
        "                             title='Динамика по годам',\n",
        "                             xlabel='Год',\n",
        "                                # stacked=False,\n",
        "                             ylabel='Кол-во')\n",
        "plt.legend(bbox_to_anchor=(1.0, .5, 0.5, 0.5))"
      ],
      "metadata": {
        "colab": {
          "base_uri": "https://localhost:8080/",
          "height": 313
        },
        "id": "qY57O8QCt-Tx",
        "outputId": "7d930624-f4c5-4ba5-fe94-b8d2ab042fc9"
      },
      "execution_count": null,
      "outputs": [
        {
          "output_type": "execute_result",
          "data": {
            "text/plain": [
              "<matplotlib.legend.Legend at 0x7f0acbe88910>"
            ]
          },
          "metadata": {},
          "execution_count": 39
        },
        {
          "output_type": "display_data",
          "data": {
            "text/plain": [
              "<Figure size 432x288 with 1 Axes>"
            ],
            "image/png": "[encoded data removed]"
          },
          "metadata": {
            "needs_background": "light"
          }
        }
      ]
    },
    {
      "cell_type": "markdown",
      "source": [
        "ВЫВОД: Максимально растет количество призеров ВОШ. Гипотеза - все больше учащихся дедают ставку на участие в олимпиадах, так как можно получить БВИ для поступления в ВУЗ. Уровень подготовки учащихся растет."
      ],
      "metadata": {
        "id": "TkTimahRCAiR"
      }
    },
    {
      "cell_type": "markdown",
      "source": [
        "### 4. Таблица, показывающая ТОП школ по победителям"
      ],
      "metadata": {
        "id": "dKAXjSGbGAN1"
      }
    },
    {
      "cell_type": "code",
      "source": [
        "# Сделаем сводную таблицу распределения победителей по школам\n",
        "\n",
        "win_school =  df.filter(items = ['numbers_school', 'Status', 'Class']).groupby(['numbers_school', 'Status']).count().sort_values(by = 'Class', ascending=False)\n",
        "win_school_status = pd.pivot_table(win_school, index = 'numbers_school', columns = 'Status', values = 'Class').sort_values(by = 'победитель', ascending=False)\n",
        "win_school_status['Общее количество победителей'] = win_school_status['победитель'] +  win_school_status['призёр']\n",
        "win_school_status.drop(win_school_status.tail(1242).index, inplace=True)\n",
        "win_school_status_ = win_school_status.filter(items=['numbers_school', 'Общее количество победителей']).sort_values(by = 'Общее количество победителей', ascending=False).reset_index()\n",
        "\n",
        "win_school_status_"
      ],
      "metadata": {
        "colab": {
          "base_uri": "https://localhost:8080/",
          "height": 677
        },
        "id": "anSIMCPM_l_I",
        "outputId": "85d0e2bb-7a14-48e3-81f4-50c57b09798c"
      },
      "execution_count": null,
      "outputs": [
        {
          "output_type": "execute_result",
          "data": {
            "text/plain": [
              "Status                                numbers_school  \\\n",
              "0                            гбоу лицей вторая школа   \n",
              "1                                                179   \n",
              "2                                                 57   \n",
              "3                                               1535   \n",
              "4                                               2007   \n",
              "5       фгбоу впо мгу им. м.в. ломоносова . сунц мгу   \n",
              "6                                               1543   \n",
              "7                                               1514   \n",
              "8                                               1329   \n",
              "9                                               1568   \n",
              "10                                              1252   \n",
              "11                                    ниу вшэ. лицей   \n",
              "12                                     лицей ниу вшэ   \n",
              "13                                              1518   \n",
              "14                  гбоу школа-интернат интеллектуал   \n",
              "15                           гбоу школа интеллектуал   \n",
              "16                                          сунц мгу   \n",
              "17                                               444   \n",
              "18                                               548   \n",
              "19                                              1955   \n",
              "\n",
              "Status  Общее количество победителей  \n",
              "0                             2330.0  \n",
              "1                             2329.0  \n",
              "2                             2129.0  \n",
              "3                             1689.0  \n",
              "4                             1640.0  \n",
              "5                             1489.0  \n",
              "6                             1388.0  \n",
              "7                             1198.0  \n",
              "8                             1162.0  \n",
              "9                             1117.0  \n",
              "10                             942.0  \n",
              "11                             888.0  \n",
              "12                             834.0  \n",
              "13                             788.0  \n",
              "14                             668.0  \n",
              "15                             564.0  \n",
              "16                             559.0  \n",
              "17                             528.0  \n",
              "18                             514.0  \n",
              "19                             363.0  "
            ],
            "text/html": [
              "\n",
              "  <div id=\"df-98bb1e79-aec9-44c1-86ae-b175dd369f7c\">\n",
              "    <div class=\"colab-df-container\">\n",
              "      <div>\n",
              "<style scoped>\n",
              "    .dataframe tbody tr th:only-of-type {\n",
              "        vertical-align: middle;\n",
              "    }\n",
              "\n",
              "    .dataframe tbody tr th {\n",
              "        vertical-align: top;\n",
              "    }\n",
              "\n",
              "    .dataframe thead th {\n",
              "        text-align: right;\n",
              "    }\n",
              "</style>\n",
              "<table border=\"1\" class=\"dataframe\">\n",
              "  <thead>\n",
              "    <tr style=\"text-align: right;\">\n",
              "      <th>Status</th>\n",
              "      <th>numbers_school</th>\n",
              "      <th>Общее количество победителей</th>\n",
              "    </tr>\n",
              "  </thead>\n",
              "  <tbody>\n",
              "    <tr>\n",
              "      <th>0</th>\n",
              "      <td>гбоу лицей вторая школа</td>\n",
              "      <td>2330.0</td>\n",
              "    </tr>\n",
              "    <tr>\n",
              "      <th>1</th>\n",
              "      <td>179</td>\n",
              "      <td>2329.0</td>\n",
              "    </tr>\n",
              "    <tr>\n",
              "      <th>2</th>\n",
              "      <td>57</td>\n",
              "      <td>2129.0</td>\n",
              "    </tr>\n",
              "    <tr>\n",
              "      <th>3</th>\n",
              "      <td>1535</td>\n",
              "      <td>1689.0</td>\n",
              "    </tr>\n",
              "    <tr>\n",
              "      <th>4</th>\n",
              "      <td>2007</td>\n",
              "      <td>1640.0</td>\n",
              "    </tr>\n",
              "    <tr>\n",
              "      <th>5</th>\n",
              "      <td>фгбоу впо мгу им. м.в. ломоносова . сунц мгу</td>\n",
              "      <td>1489.0</td>\n",
              "    </tr>\n",
              "    <tr>\n",
              "      <th>6</th>\n",
              "      <td>1543</td>\n",
              "      <td>1388.0</td>\n",
              "    </tr>\n",
              "    <tr>\n",
              "      <th>7</th>\n",
              "      <td>1514</td>\n",
              "      <td>1198.0</td>\n",
              "    </tr>\n",
              "    <tr>\n",
              "      <th>8</th>\n",
              "      <td>1329</td>\n",
              "      <td>1162.0</td>\n",
              "    </tr>\n",
              "    <tr>\n",
              "      <th>9</th>\n",
              "      <td>1568</td>\n",
              "      <td>1117.0</td>\n",
              "    </tr>\n",
              "    <tr>\n",
              "      <th>10</th>\n",
              "      <td>1252</td>\n",
              "      <td>942.0</td>\n",
              "    </tr>\n",
              "    <tr>\n",
              "      <th>11</th>\n",
              "      <td>ниу вшэ. лицей</td>\n",
              "      <td>888.0</td>\n",
              "    </tr>\n",
              "    <tr>\n",
              "      <th>12</th>\n",
              "      <td>лицей ниу вшэ</td>\n",
              "      <td>834.0</td>\n",
              "    </tr>\n",
              "    <tr>\n",
              "      <th>13</th>\n",
              "      <td>1518</td>\n",
              "      <td>788.0</td>\n",
              "    </tr>\n",
              "    <tr>\n",
              "      <th>14</th>\n",
              "      <td>гбоу школа-интернат интеллектуал</td>\n",
              "      <td>668.0</td>\n",
              "    </tr>\n",
              "    <tr>\n",
              "      <th>15</th>\n",
              "      <td>гбоу школа интеллектуал</td>\n",
              "      <td>564.0</td>\n",
              "    </tr>\n",
              "    <tr>\n",
              "      <th>16</th>\n",
              "      <td>сунц мгу</td>\n",
              "      <td>559.0</td>\n",
              "    </tr>\n",
              "    <tr>\n",
              "      <th>17</th>\n",
              "      <td>444</td>\n",
              "      <td>528.0</td>\n",
              "    </tr>\n",
              "    <tr>\n",
              "      <th>18</th>\n",
              "      <td>548</td>\n",
              "      <td>514.0</td>\n",
              "    </tr>\n",
              "    <tr>\n",
              "      <th>19</th>\n",
              "      <td>1955</td>\n",
              "      <td>363.0</td>\n",
              "    </tr>\n",
              "  </tbody>\n",
              "</table>\n",
              "</div>\n",
              "      <button class=\"colab-df-convert\" onclick=\"convertToInteractive('df-98bb1e79-aec9-44c1-86ae-b175dd369f7c')\"\n",
              "              title=\"Convert this dataframe to an interactive table.\"\n",
              "              style=\"display:none;\">\n",
              "        \n",
              "  <svg xmlns=\"http://www.w3.org/2000/svg\" height=\"24px\"viewBox=\"0 0 24 24\"\n",
              "       width=\"24px\">\n",
              "    <path d=\"M0 0h24v24H0V0z\" fill=\"none\"/>\n",
              "    <path d=\"M18.56 5.44l.94 2.06.94-2.06 2.06-.94-2.06-.94-.94-2.06-.94 2.06-2.06.94zm-11 1L8.5 8.5l.94-2.06 2.06-.94-2.06-.94L8.5 2.5l-.94 2.06-2.06.94zm10 10l.94 2.06.94-2.06 2.06-.94-2.06-.94-.94-2.06-.94 2.06-2.06.94z\"/><path d=\"M17.41 7.96l-1.37-1.37c-.4-.4-.92-.59-1.43-.59-.52 0-1.04.2-1.43.59L10.3 9.45l-7.72 7.72c-.78.78-.78 2.05 0 2.83L4 21.41c.39.39.9.59 1.41.59.51 0 1.02-.2 1.41-.59l7.78-7.78 2.81-2.81c.8-.78.8-2.07 0-2.86zM5.41 20L4 18.59l7.72-7.72 1.47 1.35L5.41 20z\"/>\n",
              "  </svg>\n",
              "      </button>\n",
              "      \n",
              "  <style>\n",
              "    .colab-df-container {\n",
              "      display:flex;\n",
              "      flex-wrap:wrap;\n",
              "      gap: 12px;\n",
              "    }\n",
              "\n",
              "    .colab-df-convert {\n",
              "      background-color: #E8F0FE;\n",
              "      border: none;\n",
              "      border-radius: 50%;\n",
              "      cursor: pointer;\n",
              "      display: none;\n",
              "      fill: #1967D2;\n",
              "      height: 32px;\n",
              "      padding: 0 0 0 0;\n",
              "      width: 32px;\n",
              "    }\n",
              "\n",
              "    .colab-df-convert:hover {\n",
              "      background-color: #E2EBFA;\n",
              "      box-shadow: 0px 1px 2px rgba(60, 64, 67, 0.3), 0px 1px 3px 1px rgba(60, 64, 67, 0.15);\n",
              "      fill: #174EA6;\n",
              "    }\n",
              "\n",
              "    [theme=dark] .colab-df-convert {\n",
              "      background-color: #3B4455;\n",
              "      fill: #D2E3FC;\n",
              "    }\n",
              "\n",
              "    [theme=dark] .colab-df-convert:hover {\n",
              "      background-color: #434B5C;\n",
              "      box-shadow: 0px 1px 3px 1px rgba(0, 0, 0, 0.15);\n",
              "      filter: drop-shadow(0px 1px 2px rgba(0, 0, 0, 0.3));\n",
              "      fill: #FFFFFF;\n",
              "    }\n",
              "  </style>\n",
              "\n",
              "      <script>\n",
              "        const buttonEl =\n",
              "          document.querySelector('#df-98bb1e79-aec9-44c1-86ae-b175dd369f7c button.colab-df-convert');\n",
              "        buttonEl.style.display =\n",
              "          google.colab.kernel.accessAllowed ? 'block' : 'none';\n",
              "\n",
              "        async function convertToInteractive(key) {\n",
              "          const element = document.querySelector('#df-98bb1e79-aec9-44c1-86ae-b175dd369f7c');\n",
              "          const dataTable =\n",
              "            await google.colab.kernel.invokeFunction('convertToInteractive',\n",
              "                                                     [key], {});\n",
              "          if (!dataTable) return;\n",
              "\n",
              "          const docLinkHtml = 'Like what you see? Visit the ' +\n",
              "            '<a target=\"_blank\" href=https://colab.research.google.com/notebooks/data_table.ipynb>data table notebook</a>'\n",
              "            + ' to learn more about interactive tables.';\n",
              "          element.innerHTML = '';\n",
              "          dataTable['output_type'] = 'display_data';\n",
              "          await google.colab.output.renderOutput(dataTable, element);\n",
              "          const docLink = document.createElement('div');\n",
              "          docLink.innerHTML = docLinkHtml;\n",
              "          element.appendChild(docLink);\n",
              "        }\n",
              "      </script>\n",
              "    </div>\n",
              "  </div>\n",
              "  "
            ]
          },
          "metadata": {},
          "execution_count": 64
        }
      ]
    },
    {
      "cell_type": "code",
      "source": [
        "win_school_status_.style.bar(align='mid')"
      ],
      "metadata": {
        "colab": {
          "base_uri": "https://localhost:8080/",
          "height": 694
        },
        "id": "8ScjoMJYH97c",
        "outputId": "3f66b5c9-9cc1-4953-c4c0-a12ed26d0b3d"
      },
      "execution_count": null,
      "outputs": [
        {
          "output_type": "execute_result",
          "data": {
            "text/plain": [
              "<pandas.io.formats.style.Styler at 0x7f0accc1ff90>"
            ],
            "text/html": [
              "<style type=\"text/css\">\n",
              "#T_ae19c_row0_col1, #T_ae19c_row1_col1 {\n",
              "  width: 10em;\n",
              "  height: 80%;\n",
              "  background: linear-gradient(90deg,#d65f5f 100.0%, transparent 100.0%);\n",
              "}\n",
              "#T_ae19c_row2_col1 {\n",
              "  width: 10em;\n",
              "  height: 80%;\n",
              "  background: linear-gradient(90deg,#d65f5f 91.4%, transparent 91.4%);\n",
              "}\n",
              "#T_ae19c_row3_col1 {\n",
              "  width: 10em;\n",
              "  height: 80%;\n",
              "  background: linear-gradient(90deg,#d65f5f 72.5%, transparent 72.5%);\n",
              "}\n",
              "#T_ae19c_row4_col1 {\n",
              "  width: 10em;\n",
              "  height: 80%;\n",
              "  background: linear-gradient(90deg,#d65f5f 70.4%, transparent 70.4%);\n",
              "}\n",
              "#T_ae19c_row5_col1 {\n",
              "  width: 10em;\n",
              "  height: 80%;\n",
              "  background: linear-gradient(90deg,#d65f5f 63.9%, transparent 63.9%);\n",
              "}\n",
              "#T_ae19c_row6_col1 {\n",
              "  width: 10em;\n",
              "  height: 80%;\n",
              "  background: linear-gradient(90deg,#d65f5f 59.6%, transparent 59.6%);\n",
              "}\n",
              "#T_ae19c_row7_col1 {\n",
              "  width: 10em;\n",
              "  height: 80%;\n",
              "  background: linear-gradient(90deg,#d65f5f 51.4%, transparent 51.4%);\n",
              "}\n",
              "#T_ae19c_row8_col1 {\n",
              "  width: 10em;\n",
              "  height: 80%;\n",
              "  background: linear-gradient(90deg,#d65f5f 49.9%, transparent 49.9%);\n",
              "}\n",
              "#T_ae19c_row9_col1 {\n",
              "  width: 10em;\n",
              "  height: 80%;\n",
              "  background: linear-gradient(90deg,#d65f5f 47.9%, transparent 47.9%);\n",
              "}\n",
              "#T_ae19c_row10_col1 {\n",
              "  width: 10em;\n",
              "  height: 80%;\n",
              "  background: linear-gradient(90deg,#d65f5f 40.4%, transparent 40.4%);\n",
              "}\n",
              "#T_ae19c_row11_col1 {\n",
              "  width: 10em;\n",
              "  height: 80%;\n",
              "  background: linear-gradient(90deg,#d65f5f 38.1%, transparent 38.1%);\n",
              "}\n",
              "#T_ae19c_row12_col1 {\n",
              "  width: 10em;\n",
              "  height: 80%;\n",
              "  background: linear-gradient(90deg,#d65f5f 35.8%, transparent 35.8%);\n",
              "}\n",
              "#T_ae19c_row13_col1 {\n",
              "  width: 10em;\n",
              "  height: 80%;\n",
              "  background: linear-gradient(90deg,#d65f5f 33.8%, transparent 33.8%);\n",
              "}\n",
              "#T_ae19c_row14_col1 {\n",
              "  width: 10em;\n",
              "  height: 80%;\n",
              "  background: linear-gradient(90deg,#d65f5f 28.7%, transparent 28.7%);\n",
              "}\n",
              "#T_ae19c_row15_col1 {\n",
              "  width: 10em;\n",
              "  height: 80%;\n",
              "  background: linear-gradient(90deg,#d65f5f 24.2%, transparent 24.2%);\n",
              "}\n",
              "#T_ae19c_row16_col1 {\n",
              "  width: 10em;\n",
              "  height: 80%;\n",
              "  background: linear-gradient(90deg,#d65f5f 24.0%, transparent 24.0%);\n",
              "}\n",
              "#T_ae19c_row17_col1 {\n",
              "  width: 10em;\n",
              "  height: 80%;\n",
              "  background: linear-gradient(90deg,#d65f5f 22.7%, transparent 22.7%);\n",
              "}\n",
              "#T_ae19c_row18_col1 {\n",
              "  width: 10em;\n",
              "  height: 80%;\n",
              "  background: linear-gradient(90deg,#d65f5f 22.1%, transparent 22.1%);\n",
              "}\n",
              "#T_ae19c_row19_col1 {\n",
              "  width: 10em;\n",
              "  height: 80%;\n",
              "  background: linear-gradient(90deg,#d65f5f 15.6%, transparent 15.6%);\n",
              "}\n",
              "</style>\n",
              "<table id=\"T_ae19c_\" class=\"dataframe\">\n",
              "  <thead>\n",
              "    <tr>\n",
              "      <th class=\"index_name level0\" >Status</th>\n",
              "      <th class=\"col_heading level0 col0\" >numbers_school</th>\n",
              "      <th class=\"col_heading level0 col1\" >Общее количество победителей</th>\n",
              "    </tr>\n",
              "  </thead>\n",
              "  <tbody>\n",
              "    <tr>\n",
              "      <th id=\"T_ae19c_level0_row0\" class=\"row_heading level0 row0\" >0</th>\n",
              "      <td id=\"T_ae19c_row0_col0\" class=\"data row0 col0\" >гбоу лицей вторая школа</td>\n",
              "      <td id=\"T_ae19c_row0_col1\" class=\"data row0 col1\" >2330.000000</td>\n",
              "    </tr>\n",
              "    <tr>\n",
              "      <th id=\"T_ae19c_level0_row1\" class=\"row_heading level0 row1\" >1</th>\n",
              "      <td id=\"T_ae19c_row1_col0\" class=\"data row1 col0\" >179</td>\n",
              "      <td id=\"T_ae19c_row1_col1\" class=\"data row1 col1\" >2329.000000</td>\n",
              "    </tr>\n",
              "    <tr>\n",
              "      <th id=\"T_ae19c_level0_row2\" class=\"row_heading level0 row2\" >2</th>\n",
              "      <td id=\"T_ae19c_row2_col0\" class=\"data row2 col0\" >57</td>\n",
              "      <td id=\"T_ae19c_row2_col1\" class=\"data row2 col1\" >2129.000000</td>\n",
              "    </tr>\n",
              "    <tr>\n",
              "      <th id=\"T_ae19c_level0_row3\" class=\"row_heading level0 row3\" >3</th>\n",
              "      <td id=\"T_ae19c_row3_col0\" class=\"data row3 col0\" >1535</td>\n",
              "      <td id=\"T_ae19c_row3_col1\" class=\"data row3 col1\" >1689.000000</td>\n",
              "    </tr>\n",
              "    <tr>\n",
              "      <th id=\"T_ae19c_level0_row4\" class=\"row_heading level0 row4\" >4</th>\n",
              "      <td id=\"T_ae19c_row4_col0\" class=\"data row4 col0\" >2007</td>\n",
              "      <td id=\"T_ae19c_row4_col1\" class=\"data row4 col1\" >1640.000000</td>\n",
              "    </tr>\n",
              "    <tr>\n",
              "      <th id=\"T_ae19c_level0_row5\" class=\"row_heading level0 row5\" >5</th>\n",
              "      <td id=\"T_ae19c_row5_col0\" class=\"data row5 col0\" >фгбоу впо мгу им. м.в. ломоносова . сунц мгу</td>\n",
              "      <td id=\"T_ae19c_row5_col1\" class=\"data row5 col1\" >1489.000000</td>\n",
              "    </tr>\n",
              "    <tr>\n",
              "      <th id=\"T_ae19c_level0_row6\" class=\"row_heading level0 row6\" >6</th>\n",
              "      <td id=\"T_ae19c_row6_col0\" class=\"data row6 col0\" >1543</td>\n",
              "      <td id=\"T_ae19c_row6_col1\" class=\"data row6 col1\" >1388.000000</td>\n",
              "    </tr>\n",
              "    <tr>\n",
              "      <th id=\"T_ae19c_level0_row7\" class=\"row_heading level0 row7\" >7</th>\n",
              "      <td id=\"T_ae19c_row7_col0\" class=\"data row7 col0\" >1514</td>\n",
              "      <td id=\"T_ae19c_row7_col1\" class=\"data row7 col1\" >1198.000000</td>\n",
              "    </tr>\n",
              "    <tr>\n",
              "      <th id=\"T_ae19c_level0_row8\" class=\"row_heading level0 row8\" >8</th>\n",
              "      <td id=\"T_ae19c_row8_col0\" class=\"data row8 col0\" >1329</td>\n",
              "      <td id=\"T_ae19c_row8_col1\" class=\"data row8 col1\" >1162.000000</td>\n",
              "    </tr>\n",
              "    <tr>\n",
              "      <th id=\"T_ae19c_level0_row9\" class=\"row_heading level0 row9\" >9</th>\n",
              "      <td id=\"T_ae19c_row9_col0\" class=\"data row9 col0\" >1568</td>\n",
              "      <td id=\"T_ae19c_row9_col1\" class=\"data row9 col1\" >1117.000000</td>\n",
              "    </tr>\n",
              "    <tr>\n",
              "      <th id=\"T_ae19c_level0_row10\" class=\"row_heading level0 row10\" >10</th>\n",
              "      <td id=\"T_ae19c_row10_col0\" class=\"data row10 col0\" >1252</td>\n",
              "      <td id=\"T_ae19c_row10_col1\" class=\"data row10 col1\" >942.000000</td>\n",
              "    </tr>\n",
              "    <tr>\n",
              "      <th id=\"T_ae19c_level0_row11\" class=\"row_heading level0 row11\" >11</th>\n",
              "      <td id=\"T_ae19c_row11_col0\" class=\"data row11 col0\" >ниу вшэ. лицей</td>\n",
              "      <td id=\"T_ae19c_row11_col1\" class=\"data row11 col1\" >888.000000</td>\n",
              "    </tr>\n",
              "    <tr>\n",
              "      <th id=\"T_ae19c_level0_row12\" class=\"row_heading level0 row12\" >12</th>\n",
              "      <td id=\"T_ae19c_row12_col0\" class=\"data row12 col0\" >лицей ниу вшэ</td>\n",
              "      <td id=\"T_ae19c_row12_col1\" class=\"data row12 col1\" >834.000000</td>\n",
              "    </tr>\n",
              "    <tr>\n",
              "      <th id=\"T_ae19c_level0_row13\" class=\"row_heading level0 row13\" >13</th>\n",
              "      <td id=\"T_ae19c_row13_col0\" class=\"data row13 col0\" >1518</td>\n",
              "      <td id=\"T_ae19c_row13_col1\" class=\"data row13 col1\" >788.000000</td>\n",
              "    </tr>\n",
              "    <tr>\n",
              "      <th id=\"T_ae19c_level0_row14\" class=\"row_heading level0 row14\" >14</th>\n",
              "      <td id=\"T_ae19c_row14_col0\" class=\"data row14 col0\" >гбоу школа-интернат интеллектуал</td>\n",
              "      <td id=\"T_ae19c_row14_col1\" class=\"data row14 col1\" >668.000000</td>\n",
              "    </tr>\n",
              "    <tr>\n",
              "      <th id=\"T_ae19c_level0_row15\" class=\"row_heading level0 row15\" >15</th>\n",
              "      <td id=\"T_ae19c_row15_col0\" class=\"data row15 col0\" >гбоу школа интеллектуал</td>\n",
              "      <td id=\"T_ae19c_row15_col1\" class=\"data row15 col1\" >564.000000</td>\n",
              "    </tr>\n",
              "    <tr>\n",
              "      <th id=\"T_ae19c_level0_row16\" class=\"row_heading level0 row16\" >16</th>\n",
              "      <td id=\"T_ae19c_row16_col0\" class=\"data row16 col0\" >сунц мгу</td>\n",
              "      <td id=\"T_ae19c_row16_col1\" class=\"data row16 col1\" >559.000000</td>\n",
              "    </tr>\n",
              "    <tr>\n",
              "      <th id=\"T_ae19c_level0_row17\" class=\"row_heading level0 row17\" >17</th>\n",
              "      <td id=\"T_ae19c_row17_col0\" class=\"data row17 col0\" >444</td>\n",
              "      <td id=\"T_ae19c_row17_col1\" class=\"data row17 col1\" >528.000000</td>\n",
              "    </tr>\n",
              "    <tr>\n",
              "      <th id=\"T_ae19c_level0_row18\" class=\"row_heading level0 row18\" >18</th>\n",
              "      <td id=\"T_ae19c_row18_col0\" class=\"data row18 col0\" >548</td>\n",
              "      <td id=\"T_ae19c_row18_col1\" class=\"data row18 col1\" >514.000000</td>\n",
              "    </tr>\n",
              "    <tr>\n",
              "      <th id=\"T_ae19c_level0_row19\" class=\"row_heading level0 row19\" >19</th>\n",
              "      <td id=\"T_ae19c_row19_col0\" class=\"data row19 col0\" >1955</td>\n",
              "      <td id=\"T_ae19c_row19_col1\" class=\"data row19 col1\" >363.000000</td>\n",
              "    </tr>\n",
              "  </tbody>\n",
              "</table>\n"
            ]
          },
          "metadata": {},
          "execution_count": 65
        }
      ]
    },
    {
      "cell_type": "markdown",
      "source": [
        "### ВЫВОД: В таблице представлены ТОП школ по количеству победителей в олимпиадах. Гипотеза - данные школы являются лучшими в рейтинге школ Москвы. В районах, где находятся школы, проживают люди с большим достатком, для которых важен уровень образования детей."
      ],
      "metadata": {
        "id": "l7bRj-W9-Zpf"
      }
    },
    {
      "cell_type": "markdown",
      "source": [
        "## 5. Boxplot Chart - покажет выбросы, неверные данные, похожие на ошибки в данных"
      ],
      "metadata": {
        "id": "emDEn8UPt0QV"
      }
    },
    {
      "cell_type": "code",
      "source": [
        "# Сделаем свождную таблицу по общему количеству победилей, распереденных по классам обучения\n",
        "\n",
        "win_class =  df.filter(items = ['Class', 'Status', 'Stage']).groupby(['Class', 'Status']).count().sort_values(by = 'Stage', ascending=False)\n",
        "win_class_common = pd.pivot_table(win_class, index = 'Class', columns = 'Status', values = 'Stage').sort_values(by = 'победитель', ascending=False)\n",
        "win_class_common['Общее количество победителей'] = win_class_common['победитель'] +  win_class_common['призёр']\n",
        "win_class_common_ = win_class_common.filter(items=['Class', 'Общее количество победителей']).sort_values(by = 'Общее количество победителей', ascending=False).reset_index()\n",
        "win_class_common_"
      ],
      "metadata": {
        "colab": {
          "base_uri": "https://localhost:8080/",
          "height": 426
        },
        "id": "x9At-rZFo76d",
        "outputId": "e427ca60-884a-4319-840d-ac22636a35c5"
      },
      "execution_count": null,
      "outputs": [
        {
          "output_type": "execute_result",
          "data": {
            "text/plain": [
              "Status  Class  Общее количество победителей\n",
              "0          11                         23457\n",
              "1          10                         18716\n",
              "2           9                         17179\n",
              "3           8                          4276\n",
              "4           7                          3657\n",
              "5           6                          3626\n",
              "6           5                          2644\n",
              "7           4                           283\n",
              "8           3                           204\n",
              "9           2                            99\n",
              "10          1                            71\n",
              "11         12                            16"
            ],
            "text/html": [
              "\n",
              "  <div id=\"df-a643fc3b-1ae8-4a57-9ed9-64034cdb67bd\">\n",
              "    <div class=\"colab-df-container\">\n",
              "      <div>\n",
              "<style scoped>\n",
              "    .dataframe tbody tr th:only-of-type {\n",
              "        vertical-align: middle;\n",
              "    }\n",
              "\n",
              "    .dataframe tbody tr th {\n",
              "        vertical-align: top;\n",
              "    }\n",
              "\n",
              "    .dataframe thead th {\n",
              "        text-align: right;\n",
              "    }\n",
              "</style>\n",
              "<table border=\"1\" class=\"dataframe\">\n",
              "  <thead>\n",
              "    <tr style=\"text-align: right;\">\n",
              "      <th>Status</th>\n",
              "      <th>Class</th>\n",
              "      <th>Общее количество победителей</th>\n",
              "    </tr>\n",
              "  </thead>\n",
              "  <tbody>\n",
              "    <tr>\n",
              "      <th>0</th>\n",
              "      <td>11</td>\n",
              "      <td>23457</td>\n",
              "    </tr>\n",
              "    <tr>\n",
              "      <th>1</th>\n",
              "      <td>10</td>\n",
              "      <td>18716</td>\n",
              "    </tr>\n",
              "    <tr>\n",
              "      <th>2</th>\n",
              "      <td>9</td>\n",
              "      <td>17179</td>\n",
              "    </tr>\n",
              "    <tr>\n",
              "      <th>3</th>\n",
              "      <td>8</td>\n",
              "      <td>4276</td>\n",
              "    </tr>\n",
              "    <tr>\n",
              "      <th>4</th>\n",
              "      <td>7</td>\n",
              "      <td>3657</td>\n",
              "    </tr>\n",
              "    <tr>\n",
              "      <th>5</th>\n",
              "      <td>6</td>\n",
              "      <td>3626</td>\n",
              "    </tr>\n",
              "    <tr>\n",
              "      <th>6</th>\n",
              "      <td>5</td>\n",
              "      <td>2644</td>\n",
              "    </tr>\n",
              "    <tr>\n",
              "      <th>7</th>\n",
              "      <td>4</td>\n",
              "      <td>283</td>\n",
              "    </tr>\n",
              "    <tr>\n",
              "      <th>8</th>\n",
              "      <td>3</td>\n",
              "      <td>204</td>\n",
              "    </tr>\n",
              "    <tr>\n",
              "      <th>9</th>\n",
              "      <td>2</td>\n",
              "      <td>99</td>\n",
              "    </tr>\n",
              "    <tr>\n",
              "      <th>10</th>\n",
              "      <td>1</td>\n",
              "      <td>71</td>\n",
              "    </tr>\n",
              "    <tr>\n",
              "      <th>11</th>\n",
              "      <td>12</td>\n",
              "      <td>16</td>\n",
              "    </tr>\n",
              "  </tbody>\n",
              "</table>\n",
              "</div>\n",
              "      <button class=\"colab-df-convert\" onclick=\"convertToInteractive('df-a643fc3b-1ae8-4a57-9ed9-64034cdb67bd')\"\n",
              "              title=\"Convert this dataframe to an interactive table.\"\n",
              "              style=\"display:none;\">\n",
              "        \n",
              "  <svg xmlns=\"http://www.w3.org/2000/svg\" height=\"24px\"viewBox=\"0 0 24 24\"\n",
              "       width=\"24px\">\n",
              "    <path d=\"M0 0h24v24H0V0z\" fill=\"none\"/>\n",
              "    <path d=\"M18.56 5.44l.94 2.06.94-2.06 2.06-.94-2.06-.94-.94-2.06-.94 2.06-2.06.94zm-11 1L8.5 8.5l.94-2.06 2.06-.94-2.06-.94L8.5 2.5l-.94 2.06-2.06.94zm10 10l.94 2.06.94-2.06 2.06-.94-2.06-.94-.94-2.06-.94 2.06-2.06.94z\"/><path d=\"M17.41 7.96l-1.37-1.37c-.4-.4-.92-.59-1.43-.59-.52 0-1.04.2-1.43.59L10.3 9.45l-7.72 7.72c-.78.78-.78 2.05 0 2.83L4 21.41c.39.39.9.59 1.41.59.51 0 1.02-.2 1.41-.59l7.78-7.78 2.81-2.81c.8-.78.8-2.07 0-2.86zM5.41 20L4 18.59l7.72-7.72 1.47 1.35L5.41 20z\"/>\n",
              "  </svg>\n",
              "      </button>\n",
              "      \n",
              "  <style>\n",
              "    .colab-df-container {\n",
              "      display:flex;\n",
              "      flex-wrap:wrap;\n",
              "      gap: 12px;\n",
              "    }\n",
              "\n",
              "    .colab-df-convert {\n",
              "      background-color: #E8F0FE;\n",
              "      border: none;\n",
              "      border-radius: 50%;\n",
              "      cursor: pointer;\n",
              "      display: none;\n",
              "      fill: #1967D2;\n",
              "      height: 32px;\n",
              "      padding: 0 0 0 0;\n",
              "      width: 32px;\n",
              "    }\n",
              "\n",
              "    .colab-df-convert:hover {\n",
              "      background-color: #E2EBFA;\n",
              "      box-shadow: 0px 1px 2px rgba(60, 64, 67, 0.3), 0px 1px 3px 1px rgba(60, 64, 67, 0.15);\n",
              "      fill: #174EA6;\n",
              "    }\n",
              "\n",
              "    [theme=dark] .colab-df-convert {\n",
              "      background-color: #3B4455;\n",
              "      fill: #D2E3FC;\n",
              "    }\n",
              "\n",
              "    [theme=dark] .colab-df-convert:hover {\n",
              "      background-color: #434B5C;\n",
              "      box-shadow: 0px 1px 3px 1px rgba(0, 0, 0, 0.15);\n",
              "      filter: drop-shadow(0px 1px 2px rgba(0, 0, 0, 0.3));\n",
              "      fill: #FFFFFF;\n",
              "    }\n",
              "  </style>\n",
              "\n",
              "      <script>\n",
              "        const buttonEl =\n",
              "          document.querySelector('#df-a643fc3b-1ae8-4a57-9ed9-64034cdb67bd button.colab-df-convert');\n",
              "        buttonEl.style.display =\n",
              "          google.colab.kernel.accessAllowed ? 'block' : 'none';\n",
              "\n",
              "        async function convertToInteractive(key) {\n",
              "          const element = document.querySelector('#df-a643fc3b-1ae8-4a57-9ed9-64034cdb67bd');\n",
              "          const dataTable =\n",
              "            await google.colab.kernel.invokeFunction('convertToInteractive',\n",
              "                                                     [key], {});\n",
              "          if (!dataTable) return;\n",
              "\n",
              "          const docLinkHtml = 'Like what you see? Visit the ' +\n",
              "            '<a target=\"_blank\" href=https://colab.research.google.com/notebooks/data_table.ipynb>data table notebook</a>'\n",
              "            + ' to learn more about interactive tables.';\n",
              "          element.innerHTML = '';\n",
              "          dataTable['output_type'] = 'display_data';\n",
              "          await google.colab.output.renderOutput(dataTable, element);\n",
              "          const docLink = document.createElement('div');\n",
              "          docLink.innerHTML = docLinkHtml;\n",
              "          element.appendChild(docLink);\n",
              "        }\n",
              "      </script>\n",
              "    </div>\n",
              "  </div>\n",
              "  "
            ]
          },
          "metadata": {},
          "execution_count": 85
        }
      ]
    },
    {
      "cell_type": "code",
      "source": [
        "win_class_common_['Class'].plot(kind='box',\n",
        "                   title='Распределение количества победителей по классам', grid=True)"
      ],
      "metadata": {
        "colab": {
          "base_uri": "https://localhost:8080/",
          "height": 299
        },
        "id": "E9Pp43EKrkgt",
        "outputId": "e2226467-7334-433f-bfc2-e99fa9de7d42"
      },
      "execution_count": null,
      "outputs": [
        {
          "output_type": "execute_result",
          "data": {
            "text/plain": [
              "<matplotlib.axes._subplots.AxesSubplot at 0x7f0ac1da1d50>"
            ]
          },
          "metadata": {},
          "execution_count": 82
        },
        {
          "output_type": "display_data",
          "data": {
            "text/plain": [
              "<Figure size 432x288 with 1 Axes>"
            ],
            "image/png": "[encoded data removed]"
          },
          "metadata": {
            "needs_background": "light"
          }
        }
      ]
    },
    {
      "cell_type": "markdown",
      "source": [
        "### ВЫВОД: 12 и -1-2 класс скорее всего ошибочны, так как 12-го класса не существует в Российской системе образования, начальная школа не принимает участия в таких олимпиадах"
      ],
      "metadata": {
        "id": "q9c20Uq4uQdy"
      }
    },
    {
      "cell_type": "markdown",
      "source": [
        "## 6. Scatter chart (точечная диаграмма) - распределение победителей по классам"
      ],
      "metadata": {
        "id": "uTx9qW91Cusk"
      }
    },
    {
      "cell_type": "code",
      "source": [
        "# Взаимосвязь между классом и количеством побеждающих\n",
        "\n",
        "win_class_common_.plot(kind='scatter',\n",
        "        x='Общее количество победителей',\n",
        "        y='Class',\n",
        "        title='Взаимосвязь', grid = True)\n",
        "plt.ylim(1, 15)\n",
        "\n",
        "\n"
      ],
      "metadata": {
        "colab": {
          "base_uri": "https://localhost:8080/",
          "height": 313
        },
        "id": "xaMivYZ_uP1e",
        "outputId": "10ca6994-4437-4e70-e4f1-095a6fd360da"
      },
      "execution_count": null,
      "outputs": [
        {
          "output_type": "execute_result",
          "data": {
            "text/plain": [
              "(1.0, 15.0)"
            ]
          },
          "metadata": {},
          "execution_count": 107
        },
        {
          "output_type": "display_data",
          "data": {
            "text/plain": [
              "<Figure size 432x288 with 1 Axes>"
            ],
            "image/png": "[encoded data removed]"
          },
          "metadata": {
            "needs_background": "light"
          }
        }
      ]
    },
    {
      "cell_type": "markdown",
      "source": [
        "### Больше всего победителей в 11-м классе. Гипотеза - одиннадцатиклассники лучше всего подготовлены, имеют более высокий уровень знаний. Для 9-11 классников участие в олимпиадах наиболее необходимо, так как дает БВИ в ВУЗ."
      ],
      "metadata": {
        "id": "agAhSU3gAV_G"
      }
    }
  ]
}