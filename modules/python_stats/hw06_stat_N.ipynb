{
  "nbformat": 4,
  "nbformat_minor": 0,
  "metadata": {
    "colab": {
      "provenance": []
    },
    "kernelspec": {
      "name": "python3",
      "display_name": "Python 3"
    },
    "language_info": {
      "name": "python"
    }
  },
  "cells": [
    {
      "cell_type": "code",
      "execution_count": null,
      "metadata": {
        "id": "IgL9Y7lvMtyC"
      },
      "outputs": [],
      "source": [
        "!pip install scipy"
      ]
    },
    {
      "cell_type": "code",
      "source": [
        "import numpy as np\n",
        "import pandas as pd  # для работы с таблицами\n",
        "from scipy import stats # При работе со статистикой\n",
        "import matplotlib.pyplot as plt  # Библиотека для визуализации результатов\n",
        "\n",
        "import seaborn as sns # Более продвинутая библиотека для визуализации"
      ],
      "metadata": {
        "id": "tKy0G4eeNAr2"
      },
      "execution_count": null,
      "outputs": []
    },
    {
      "cell_type": "code",
      "source": [
        "# scipy.stats\n",
        "# Например так:\n",
        "# Находим квантиль Za по таблице где уровень\n",
        "lvl = 1 - ((1-0.95) / 2)\n",
        "# from scipy import stats\n",
        "Za = stats.norm.ppf(lvl)\n",
        "\n",
        "Za"
      ],
      "metadata": {
        "colab": {
          "base_uri": "https://localhost:8080/"
        },
        "id": "pQaPN8iqhmB7",
        "outputId": "345145b7-fa8c-419d-b628-bcaf1acb9ec9"
      },
      "execution_count": null,
      "outputs": [
        {
          "output_type": "execute_result",
          "data": {
            "text/plain": [
              "1.959963984540054"
            ]
          },
          "metadata": {},
          "execution_count": 7
        }
      ]
    },
    {
      "cell_type": "markdown",
      "metadata": {
        "id": "c-qS5kYZx65d"
      },
      "source": [
        "# Задания для самостоятельного решения\n"
      ]
    },
    {
      "cell_type": "markdown",
      "metadata": {
        "id": "dzKQfGBQx65d"
      },
      "source": [
        "<div class=\"alert alert-info\">\n",
        "<b>Задание № 0</b>\n",
        "\n",
        "Найдите минимально необходимый объем выборки для построения интервальной оценки среднего.\n",
        "\n",
        "- желаемая точность $\\Delta$ = 3;\n",
        "- дисперсия $\\sigma^2$  = 225;\n",
        "- уровень доверия $\\beta$ = 0.95.\n",
        "    \n",
        "Ответ округлите до целого\n",
        "</div>"
      ]
    },
    {
      "cell_type": "code",
      "source": [
        "1234\n",
        "sigma = 15\n",
        "Z = 1.96\n",
        "Delta = 3\n",
        "n = int(((sigma*Z)/Delta)**2)"
      ],
      "metadata": {
        "id": "ONTYY8gU8SZ5"
      },
      "execution_count": null,
      "outputs": []
    },
    {
      "cell_type": "code",
      "execution_count": null,
      "metadata": {
        "id": "rF9tfZFZx65e",
        "outputId": "5ddad25f-9149-433f-e24e-a71308c41d95",
        "colab": {
          "base_uri": "https://localhost:8080/"
        }
      },
      "outputs": [
        {
          "output_type": "execute_result",
          "data": {
            "text/plain": [
              "23"
            ]
          },
          "metadata": {},
          "execution_count": 3
        }
      ],
      "source": [
        "### Ваши код/вычисления...\n",
        "\n",
        "Delta = 3\n",
        "sigma = 15\n",
        "#Z = 1-(1-𝛽)/2\n",
        "Z = 0.975\n",
        "\n",
        "N = int(((sigma*Z)/Delta)**2)\n",
        "\n",
        "N #Запишите в эту переменную ваш высчитанный ответ!\n"
      ]
    },
    {
      "cell_type": "markdown",
      "metadata": {
        "id": "Rz0ToHkmx65e"
      },
      "source": [
        "<div class=\"alert alert-info\">\n",
        "<b>Задание № 1</b>\n",
        "\n",
        "Постройте `98% доверительный интервал` для среднего значения, если известно, что\n",
        "\n",
        "- объем выборки n = 25;\n",
        "- среднее значение по выборке $\\overline x$ = 130;\n",
        "- Из достоверных источников известно стандартное отклонение $\\sigma = 15$.\n",
        "    \n",
        "В ответ укажите длину полученного доверительного интервала (разницу между правым и левым концом), окруленную до целого\n",
        "</div>"
      ]
    },
    {
      "cell_type": "code",
      "execution_count": null,
      "metadata": {
        "id": "xc4GLynsx65e",
        "colab": {
          "base_uri": "https://localhost:8080/"
        },
        "outputId": "74e98480-7742-488c-94e7-2849c43ed9ba"
      },
      "outputs": [
        {
          "output_type": "execute_result",
          "data": {
            "text/plain": [
              "5"
            ]
          },
          "metadata": {},
          "execution_count": 4
        }
      ],
      "source": [
        "### Ваши код/вычесления...\n",
        "# сначала надо найти дельту d и расчитать как среднее минус дельта и среднее плюс дельта\n",
        "\n",
        "d =  (0.99*15) / 5\n",
        "l1 = 130 - d\n",
        "l2 = 130 + d\n",
        "L = int(l2 -l1)  #Запишите в эту переменную ваш высчитанный ответ!\n",
        "L"
      ]
    },
    {
      "cell_type": "markdown",
      "metadata": {
        "id": "Y62wGKivx65f"
      },
      "source": [
        "### 2. Вам даны две выборки роста мужчин и женщин. Докажите, используя t-Тест Стьдента, что различия между выборками незначительно, если уровень значимости равен 0.001"
      ]
    },
    {
      "cell_type": "markdown",
      "metadata": {
        "id": "O01FvE5Lx65f"
      },
      "source": [
        "<div class=\"alert alert-info\">\n",
        "<b>Задание № 2</b>\n",
        "\n",
        "Даны две выборки роста мужчин и женщин.\n",
        "- Докажите, используя `t-Тест Стьдента`, что различие между выборками незначительно, если уровень значимости равен $\\alpha$ `= 0.001`.\n",
        "- Покажите различия визуально\n",
        "</div>"
      ]
    },
    {
      "cell_type": "code",
      "execution_count": null,
      "metadata": {
        "id": "Zm5jQPeYx65f",
        "colab": {
          "base_uri": "https://localhost:8080/"
        },
        "outputId": "0716143c-60ee-477a-eac8-d885543a889b"
      },
      "outputs": [
        {
          "output_type": "execute_result",
          "data": {
            "text/plain": [
              "(3.6635841716708892, 0.00024875321033580573)"
            ]
          },
          "metadata": {},
          "execution_count": 47
        }
      ],
      "source": [
        "import scipy.stats as stats\n",
        "np.random.seed(42) #фиксация случайности\n",
        "\n",
        "mens  = stats.norm.rvs(loc=171, scale=100, size=150000)  # Выборка мужчин со средним ростом 171\n",
        "womens = stats.norm.rvs(loc=170, scale=100, size=150000)  # Выборка женщин со средним ростом 170\n",
        "#В двух строчках выше генерируется две выбороки, где loc это среднее значение, а scale это дисперсия\n",
        "\n",
        "### Ваш код...\n",
        "t, p_value = stats.ttest_ind(mens, womens) #Критерий Стьюдента (t-test)\n",
        "t, p_value"
      ]
    },
    {
      "cell_type": "code",
      "source": [
        "stats.ttest_ind(mens, womens, equal_var = False)"
      ],
      "metadata": {
        "colab": {
          "base_uri": "https://localhost:8080/"
        },
        "id": "Ypnate_zhCXC",
        "outputId": "06838973-b0a7-4af8-b270-4ee4a2f2680c"
      },
      "execution_count": null,
      "outputs": [
        {
          "output_type": "execute_result",
          "data": {
            "text/plain": [
              "Ttest_indResult(statistic=3.6635841716708897, pvalue=0.00024875321039012085)"
            ]
          },
          "metadata": {},
          "execution_count": 48
        }
      ]
    },
    {
      "cell_type": "code",
      "source": [
        "plt.hist(mens, bins=15); #мужчины\n",
        "plt.hist(womens, bins=15);  #женщины"
      ],
      "metadata": {
        "colab": {
          "base_uri": "https://localhost:8080/",
          "height": 265
        },
        "id": "uEIo0FHqlZ2H",
        "outputId": "d411ce94-0fe6-4ea0-fd05-1bb541f2085e"
      },
      "execution_count": null,
      "outputs": [
        {
          "output_type": "display_data",
          "data": {
            "text/plain": [
              "<Figure size 432x288 with 1 Axes>"
            ],
            "image/png": "[encoded data removed]"
          },
          "metadata": {
            "needs_background": "light"
          }
        }
      ]
    },
    {
      "cell_type": "code",
      "source": [
        "# plt.boxplot(mens)\n",
        "plt.boxplot(womens)"
      ],
      "metadata": {
        "colab": {
          "base_uri": "https://localhost:8080/",
          "height": 412
        },
        "id": "EpfbwK-8naOE",
        "outputId": "9d65ab62-2234-4093-b0a3-4acf1c6db8cc"
      },
      "execution_count": null,
      "outputs": [
        {
          "output_type": "execute_result",
          "data": {
            "text/plain": [
              "{'boxes': [<matplotlib.lines.Line2D at 0x7f7d4f7982d0>],\n",
              " 'caps': [<matplotlib.lines.Line2D at 0x7f7d4f79d350>,\n",
              "  <matplotlib.lines.Line2D at 0x7f7d4f79d890>],\n",
              " 'fliers': [<matplotlib.lines.Line2D at 0x7f7d4f7a6390>],\n",
              " 'means': [],\n",
              " 'medians': [<matplotlib.lines.Line2D at 0x7f7d4f79de10>],\n",
              " 'whiskers': [<matplotlib.lines.Line2D at 0x7f7d4f798890>,\n",
              "  <matplotlib.lines.Line2D at 0x7f7d4f798dd0>]}"
            ]
          },
          "metadata": {},
          "execution_count": 17
        },
        {
          "output_type": "display_data",
          "data": {
            "text/plain": [
              "<Figure size 432x288 with 1 Axes>"
            ],
            "image/png": "[encoded data removed]"
          },
          "metadata": {
            "needs_background": "light"
          }
        }
      ]
    },
    {
      "cell_type": "markdown",
      "source": [
        "Вывод: p_value меньше альфа, отвергаем нулевую гипотезу, нельзя принять то, что различие между выборками незначительно"
      ],
      "metadata": {
        "id": "uqlyyhRyhNF8"
      }
    },
    {
      "cell_type": "markdown",
      "metadata": {
        "id": "1xsJlDJdx65f"
      },
      "source": [
        "### 3. Определите объем необходимой выборки для исследования среднего чека за кофе в случайном городе, если известно, что в этом городе стандартное отклонение = 150, уровень доверия = 95%. Погрешность 50 рублей."
      ]
    },
    {
      "cell_type": "markdown",
      "metadata": {
        "id": "VLH7FF1cx65f"
      },
      "source": [
        "<div class=\"alert alert-info\">\n",
        "<b>Задание № 3</b>\n",
        "\n",
        "Определите объем необходимой выборки для исследования среднего чека за кофе в случайном городе если известно, что в этом городе:\n",
        "\n",
        "- стандартное отклонение $\\sigma = 150$;\n",
        "- уровень доверия $\\beta$  = 95%;\n",
        "- Погрешность $\\Delta = 50$ рублей.\n",
        "</div>"
      ]
    },
    {
      "cell_type": "code",
      "execution_count": null,
      "metadata": {
        "id": "HnzGTZrqx65f",
        "colab": {
          "base_uri": "https://localhost:8080/"
        },
        "outputId": "fdd524d1-8de2-4088-c573-903291918360"
      },
      "outputs": [
        {
          "output_type": "execute_result",
          "data": {
            "text/plain": [
              "34"
            ]
          },
          "metadata": {},
          "execution_count": 8
        }
      ],
      "source": [
        "### Ваш код...\n",
        "lvl = 1 - ((1-0.95)/2)\n",
        "Z = stats.norm.ppf(lvl)\n",
        "# Z = 1.96\n",
        "Delta = 50\n",
        "sigma = 150\n",
        "\n",
        "N = int(((sigma*Z)/Delta)**2)\n",
        "N"
      ]
    },
    {
      "cell_type": "markdown",
      "metadata": {
        "id": "520SqVgEx65g"
      },
      "source": [
        "<div class=\"alert alert-info\">\n",
        "<b>Задание № 4</b>\n",
        "\n",
        "Представьте, что вы хотите разоблачить \"волшебника\" который считает, что умеет предсказывать погоду на завтра, отвечая просто: дождь или солнце. Вы пронаблюдали за ответами \"волшебника\" в течении какого-то периода времени и получили некие результаты (см.ниже).\n",
        "\n",
        "Можно ли сказать, что маг действительно умеет предсказывать погоду? Уровень значимости принять за `0.05` ($\\alpha=0.05$).\n",
        "</div>"
      ]
    },
    {
      "cell_type": "code",
      "execution_count": null,
      "metadata": {
        "id": "VVZ28aNXx65g",
        "colab": {
          "base_uri": "https://localhost:8080/",
          "height": 112
        },
        "outputId": "ba7766d2-875d-410e-a5a3-ea722fa76f28"
      },
      "outputs": [
        {
          "output_type": "execute_result",
          "data": {
            "text/plain": [
              "        Верные ответы волшебника  Неверные ответы\n",
              "Дождь                         10               15\n",
              "Солнце                        39               34"
            ],
            "text/html": [
              "\n",
              "  <div id=\"df-766a9720-d237-4966-a33a-daa17210267c\">\n",
              "    <div class=\"colab-df-container\">\n",
              "      <div>\n",
              "<style scoped>\n",
              "    .dataframe tbody tr th:only-of-type {\n",
              "        vertical-align: middle;\n",
              "    }\n",
              "\n",
              "    .dataframe tbody tr th {\n",
              "        vertical-align: top;\n",
              "    }\n",
              "\n",
              "    .dataframe thead th {\n",
              "        text-align: right;\n",
              "    }\n",
              "</style>\n",
              "<table border=\"1\" class=\"dataframe\">\n",
              "  <thead>\n",
              "    <tr style=\"text-align: right;\">\n",
              "      <th></th>\n",
              "      <th>Верные ответы волшебника</th>\n",
              "      <th>Неверные ответы</th>\n",
              "    </tr>\n",
              "  </thead>\n",
              "  <tbody>\n",
              "    <tr>\n",
              "      <th>Дождь</th>\n",
              "      <td>10</td>\n",
              "      <td>15</td>\n",
              "    </tr>\n",
              "    <tr>\n",
              "      <th>Солнце</th>\n",
              "      <td>39</td>\n",
              "      <td>34</td>\n",
              "    </tr>\n",
              "  </tbody>\n",
              "</table>\n",
              "</div>\n",
              "      <button class=\"colab-df-convert\" onclick=\"convertToInteractive('df-766a9720-d237-4966-a33a-daa17210267c')\"\n",
              "              title=\"Convert this dataframe to an interactive table.\"\n",
              "              style=\"display:none;\">\n",
              "        \n",
              "  <svg xmlns=\"http://www.w3.org/2000/svg\" height=\"24px\"viewBox=\"0 0 24 24\"\n",
              "       width=\"24px\">\n",
              "    <path d=\"M0 0h24v24H0V0z\" fill=\"none\"/>\n",
              "    <path d=\"M18.56 5.44l.94 2.06.94-2.06 2.06-.94-2.06-.94-.94-2.06-.94 2.06-2.06.94zm-11 1L8.5 8.5l.94-2.06 2.06-.94-2.06-.94L8.5 2.5l-.94 2.06-2.06.94zm10 10l.94 2.06.94-2.06 2.06-.94-2.06-.94-.94-2.06-.94 2.06-2.06.94z\"/><path d=\"M17.41 7.96l-1.37-1.37c-.4-.4-.92-.59-1.43-.59-.52 0-1.04.2-1.43.59L10.3 9.45l-7.72 7.72c-.78.78-.78 2.05 0 2.83L4 21.41c.39.39.9.59 1.41.59.51 0 1.02-.2 1.41-.59l7.78-7.78 2.81-2.81c.8-.78.8-2.07 0-2.86zM5.41 20L4 18.59l7.72-7.72 1.47 1.35L5.41 20z\"/>\n",
              "  </svg>\n",
              "      </button>\n",
              "      \n",
              "  <style>\n",
              "    .colab-df-container {\n",
              "      display:flex;\n",
              "      flex-wrap:wrap;\n",
              "      gap: 12px;\n",
              "    }\n",
              "\n",
              "    .colab-df-convert {\n",
              "      background-color: #E8F0FE;\n",
              "      border: none;\n",
              "      border-radius: 50%;\n",
              "      cursor: pointer;\n",
              "      display: none;\n",
              "      fill: #1967D2;\n",
              "      height: 32px;\n",
              "      padding: 0 0 0 0;\n",
              "      width: 32px;\n",
              "    }\n",
              "\n",
              "    .colab-df-convert:hover {\n",
              "      background-color: #E2EBFA;\n",
              "      box-shadow: 0px 1px 2px rgba(60, 64, 67, 0.3), 0px 1px 3px 1px rgba(60, 64, 67, 0.15);\n",
              "      fill: #174EA6;\n",
              "    }\n",
              "\n",
              "    [theme=dark] .colab-df-convert {\n",
              "      background-color: #3B4455;\n",
              "      fill: #D2E3FC;\n",
              "    }\n",
              "\n",
              "    [theme=dark] .colab-df-convert:hover {\n",
              "      background-color: #434B5C;\n",
              "      box-shadow: 0px 1px 3px 1px rgba(0, 0, 0, 0.15);\n",
              "      filter: drop-shadow(0px 1px 2px rgba(0, 0, 0, 0.3));\n",
              "      fill: #FFFFFF;\n",
              "    }\n",
              "  </style>\n",
              "\n",
              "      <script>\n",
              "        const buttonEl =\n",
              "          document.querySelector('#df-766a9720-d237-4966-a33a-daa17210267c button.colab-df-convert');\n",
              "        buttonEl.style.display =\n",
              "          google.colab.kernel.accessAllowed ? 'block' : 'none';\n",
              "\n",
              "        async function convertToInteractive(key) {\n",
              "          const element = document.querySelector('#df-766a9720-d237-4966-a33a-daa17210267c');\n",
              "          const dataTable =\n",
              "            await google.colab.kernel.invokeFunction('convertToInteractive',\n",
              "                                                     [key], {});\n",
              "          if (!dataTable) return;\n",
              "\n",
              "          const docLinkHtml = 'Like what you see? Visit the ' +\n",
              "            '<a target=\"_blank\" href=https://colab.research.google.com/notebooks/data_table.ipynb>data table notebook</a>'\n",
              "            + ' to learn more about interactive tables.';\n",
              "          element.innerHTML = '';\n",
              "          dataTable['output_type'] = 'display_data';\n",
              "          await google.colab.output.renderOutput(dataTable, element);\n",
              "          const docLink = document.createElement('div');\n",
              "          docLink.innerHTML = docLinkHtml;\n",
              "          element.appendChild(docLink);\n",
              "        }\n",
              "      </script>\n",
              "    </div>\n",
              "  </div>\n",
              "  "
            ]
          },
          "metadata": {},
          "execution_count": 9
        }
      ],
      "source": [
        "observations = pd.DataFrame([[10, 15],[39, 34]],\n",
        "                            index=['Дождь','Солнце'],\n",
        "                            columns=['Верные ответы волшебника','Неверные ответы'])\n",
        "observations"
      ]
    },
    {
      "cell_type": "code",
      "execution_count": null,
      "metadata": {
        "id": "2gin0eVwx65g",
        "colab": {
          "base_uri": "https://localhost:8080/"
        },
        "outputId": "02177c61-251c-41c3-b693-219e5e2f5103"
      },
      "outputs": [
        {
          "output_type": "execute_result",
          "data": {
            "text/plain": [
              "(0.5811965811965812, 0.35417955365927367)"
            ]
          },
          "metadata": {},
          "execution_count": 19
        }
      ],
      "source": [
        "import scipy.stats as stats\n",
        "# Учтите, что у стат. тестов, в том числе и точного теста Фишера под нулевой гипотезой подразумевается случайность/отсутсвие эффекта\n",
        "\n",
        "oddsratio, pvalue = stats.fisher_exact(observations) #Возможно пригодится эта функция.\n",
        "\n",
        "### Ваш код...\n",
        "oddsratio, pvalue"
      ]
    },
    {
      "cell_type": "markdown",
      "source": [
        "Вопрос:  маг действительно умеет предсказывать погоду?\n",
        "* H0: Маг умеет предссказывать погоду\n",
        "* H1: Маг не умеет предсказывать погоду\n",
        "\n",
        "Вывод: pvalue получилось больше альфа (уровня значимости) => принимаем нулевую гипотезу"
      ],
      "metadata": {
        "id": "TvmAlyu4pepp"
      }
    },
    {
      "cell_type": "markdown",
      "metadata": {
        "id": "INRlLak2x65g"
      },
      "source": [
        "<div class=\"alert alert-info\">\n",
        "<b>Задание № 5</b>\n",
        "\n",
        "Используя функцию mean_confidence_interval(data, confidence), постройте доверительный интервал с уровнем доверия $\\beta = 90\\%$ для выборки:\n",
        "\n",
        "</div>"
      ]
    },
    {
      "cell_type": "code",
      "execution_count": null,
      "metadata": {
        "id": "fgbC_0whx65g",
        "colab": {
          "base_uri": "https://localhost:8080/"
        },
        "outputId": "6948d3f7-e595-475b-f917-0f1addabce46"
      },
      "outputs": [
        {
          "output_type": "execute_result",
          "data": {
            "text/plain": [
              "(6.074074746111319, 6.628571428571429, 7.183068111031539)"
            ]
          },
          "metadata": {},
          "execution_count": 22
        }
      ],
      "source": [
        "#Вспомогательная функция для подсчета доверительного интервала\n",
        "# https://stackoverflow.com/questions/15033511/compute-a-confidence-interval-from-sample-data\n",
        "\n",
        "def mean_confidence_interval(data, confidence=0.95): #Сложный пример реализации. Проще смотри в лекци.\n",
        "    n = len(data)\n",
        "    m, se = np.mean(data), stats.sem(data)\n",
        "    h = se * stats.t.ppf((1 + confidence)/2, n)  #  функция ppf из scipy возвращает нам перцентиль\n",
        "    return m-h, m, m+h\n",
        "\n",
        "data = [4,5,8,9,6,7,5,6,7,8,5,6,7,0,9,8,4,6,\n",
        "        7,9,8,6,5,7,8,9,6,7,5,8,6,7,9,5,10]\n",
        "\n",
        "### Ваш код...\n",
        "\n",
        "l, s, r = mean_confidence_interval(data, 0.90)\n",
        "l, s, r"
      ]
    },
    {
      "cell_type": "code",
      "source": [
        "import pandas as pd\n",
        "df = pd.DataFrame(data)\n",
        "df.hist(bins=10)\n",
        "print('Среднее по всей выборке: ', df.mean())"
      ],
      "metadata": {
        "colab": {
          "base_uri": "https://localhost:8080/",
          "height": 318
        },
        "id": "5FAu_v57q8U6",
        "outputId": "01f7dabf-5af0-49ce-adfe-02da9f6eeb73"
      },
      "execution_count": null,
      "outputs": [
        {
          "output_type": "stream",
          "name": "stdout",
          "text": [
            "Среднее по всей выборке:  0    6.628571\n",
            "dtype: float64\n"
          ]
        },
        {
          "output_type": "display_data",
          "data": {
            "text/plain": [
              "<Figure size 432x288 with 1 Axes>"
            ],
            "image/png": "[encoded data removed]"
          },
          "metadata": {
            "needs_background": "light"
          }
        }
      ]
    },
    {
      "cell_type": "markdown",
      "metadata": {
        "id": "mKT0Vnvrx65h"
      },
      "source": [
        "<div class=\"alert alert-info\">\n",
        "<b>Задание № 6</b>\n",
        "\n",
        "Принадлежат ли выборки `A` и `B` одному множеству?\n",
        "    \n",
        "- Оцените это с помощью известных вам тестов для проверок статистических гипотез;\n",
        "- Покажите различия визуально.\n",
        "</div>"
      ]
    },
    {
      "cell_type": "code",
      "execution_count": null,
      "metadata": {
        "id": "_1FrI-7Hx65h",
        "colab": {
          "base_uri": "https://localhost:8080/"
        },
        "outputId": "a8e3e2a1-970e-43eb-b41f-9aa80253643b"
      },
      "outputs": [
        {
          "output_type": "execute_result",
          "data": {
            "text/plain": [
              "(11.865233896372924, 4.623319592204015e-25)"
            ]
          },
          "metadata": {},
          "execution_count": 30
        }
      ],
      "source": [
        "A = [4,5,8,9,6,7,5,6,7,6,8,5,6,7,8,4,\n",
        "    6,7,9,8,6,5,7,8,6,7,5,6,8,6,7,5,\n",
        "    4,5,8,9,6,7,5,6,7,6,8,5,6,7,8,4,\n",
        "    6,7,9,8,6,5,7,8,6,7,5,6,8,6,7,5,\n",
        "    4,5,8,9,6,7,5,6,7,6,8,5,6,7,8,4,\n",
        "    6,7,9,8,6,5,7,8,6,7,5,6,8,6,7,5,\n",
        "    4,5,8,9,6,7,5,6,7,6,8,5,6,7,8,4]\n",
        "\n",
        "B = [5,6,7,8,4,6,7,2,6,5,7,5,3,5,3,\n",
        "    5,3,5,5,8,7,6,4,5,3,5,4,6,4,5,3,\n",
        "    2,6,4,3,5,4,3,4,5,4,3,4,5,4,3,4,\n",
        "    2,6,4,3,5,4,3,4,5,4,3,4,5,4,3,4,\n",
        "    3,4,4,1,2,4,3,2,4,3,2,1,5,3,4,6,\n",
        "    3,2,4,5,6,4,3,3,5,3,4,4,4,2,5,3]\n",
        "\n",
        "\n",
        "#Ваш код:\n",
        "\n",
        "t, p_value = stats.ttest_ind(A, B) #Критерий Стьюдента (t-test)\n",
        "\n",
        "t, p_value"
      ]
    },
    {
      "cell_type": "code",
      "source": [
        "plt.hist(A, bins=8);\n",
        "plt.hist(B, bins=8);"
      ],
      "metadata": {
        "colab": {
          "base_uri": "https://localhost:8080/",
          "height": 265
        },
        "id": "vfVLTB3wHfpg",
        "outputId": "9d5af87b-5c4f-4fb3-cd68-9a3abc0df99a"
      },
      "execution_count": null,
      "outputs": [
        {
          "output_type": "display_data",
          "data": {
            "text/plain": [
              "<Figure size 432x288 with 1 Axes>"
            ],
            "image/png": "[encoded data removed]"
          },
          "metadata": {
            "needs_background": "light"
          }
        }
      ]
    },
    {
      "cell_type": "markdown",
      "source": [
        "Вывод: pvalue очень маленький, нулевая гипотеза отвергается"
      ],
      "metadata": {
        "id": "7-X1MjUNHRS_"
      }
    },
    {
      "cell_type": "markdown",
      "metadata": {
        "id": "g8heWP3Ex65h"
      },
      "source": [
        "<div class=\"alert alert-info\">\n",
        "<b>Задание № 7 (задание без подвоха)</b>\n",
        "\n",
        "На примере датасета про жилье в New York City, мы сталкивались с примером, когда переменная имеет не совсем нормальное распределение.\n",
        "\n",
        "- Предположим, Вы сформировали две гипотезы:\n",
        "    - нулевая гипотеза - распределение нормальное;\n",
        "    - альтернативная гипотеза - распределение ненормальное.\n",
        "- допустим, вы применили какой-то тест (сейчас неважно какой), который показал уровень значимости  `p-value = 0.03`. Каковы будут ваши выводы? Будем считать что у нас нормальное распределение или все-таки нет?)\n",
        "    \n",
        "</div>"
      ]
    },
    {
      "cell_type": "code",
      "execution_count": null,
      "metadata": {
        "id": "MAswK9lNx65h"
      },
      "outputs": [],
      "source": [
        "### Ваши выводы:\n",
        "При уровне значимости меньше 3% можно принять нулевую гипотезу, при уровне значимости больше 3% альтернативную гипотезу"
      ]
    },
    {
      "cell_type": "markdown",
      "metadata": {
        "id": "5h8ptdBex65h"
      },
      "source": [
        "<div class=\"alert alert-info\">\n",
        "<b>Задание № 8</b>\n",
        "    \n",
        "Первая выборка — это пациенты, которых лечили препаратом `А`.  Вторая выборка — пациенты, которых лечили препаратом `B`.\n",
        "\n",
        "Значения в выборках — это некоторая характеристика эффективности лечения (уровень метаболита в крови, температура через три дня после начала лечения, срок выздоровления, число койко-дней, и т.д.)\n",
        "\n",
        "- Требуется выяснить, имеется ли значимое различие эффективности препаратов `А` и `B`, или различия являются чисто случайными и объясняются «естественной» дисперсией выбранной характеристики?  (`уровень значимости принять за 0.05 (5%)`)\n",
        "\n",
        "- При каком минимальном p-value различия были бы уже значимы?\n",
        "    \n",
        "- Если выборки незначительно отличаются, то продемонстрируйте это визуально\n",
        "</div>"
      ]
    },
    {
      "cell_type": "code",
      "execution_count": null,
      "metadata": {
        "id": "ncKdRdC-x65h",
        "colab": {
          "base_uri": "https://localhost:8080/"
        },
        "outputId": "4aa1f563-1718-4f53-d70a-e8affa10ae2d"
      },
      "outputs": [
        {
          "output_type": "execute_result",
          "data": {
            "text/plain": [
              "(-1.95300880485141, 0.051284593140469285)"
            ]
          },
          "metadata": {},
          "execution_count": 41
        }
      ],
      "source": [
        "np.random.seed(11)\n",
        "A = stats.norm.rvs(scale=15, loc=169, size=300)\n",
        "B = stats.norm.rvs(scale=14, loc=171.4, size=300)\n",
        "\n",
        "### Ваш код:\n",
        "# Подсказка, обратите внимание на Two-sample T-test\n",
        "t, p_value = stats.ttest_ind(A, B) # используем t-test для несвязных выборок\n",
        "\n",
        "t, p_value"
      ]
    },
    {
      "cell_type": "markdown",
      "source": [
        "pvalue больше 5% (уровня значимости) =>  принимаем нулевую гипотезу\n",
        "\n",
        "\n",
        "Вопрос - имеется ли значимое различие эффективности препаратов А и B, или различия являются чисто случайными и объясняются «естественной» дисперсией выбранной характеристики?\n",
        "* H0 - ответ да, имеется\n",
        "* H1 - ответ нет"
      ],
      "metadata": {
        "id": "fGc6whGINDp2"
      }
    },
    {
      "cell_type": "code",
      "source": [
        "plt.hist(B, bins=15);\n",
        "plt.hist(A, bins=15);"
      ],
      "metadata": {
        "colab": {
          "base_uri": "https://localhost:8080/",
          "height": 265
        },
        "id": "3bXBAjynOmMu",
        "outputId": "3a667b48-ae5b-4410-c918-b0c6ce2c1e45"
      },
      "execution_count": null,
      "outputs": [
        {
          "output_type": "display_data",
          "data": {
            "text/plain": [
              "<Figure size 432x288 with 1 Axes>"
            ],
            "image/png": "[encoded data removed]"
          },
          "metadata": {
            "needs_background": "light"
          }
        }
      ]
    }
  ]
}