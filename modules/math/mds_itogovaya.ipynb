{
  "nbformat": 4,
  "nbformat_minor": 0,
  "metadata": {
    "colab": {
      "provenance": []
    },
    "kernelspec": {
      "name": "python3",
      "display_name": "Python 3"
    },
    "language_info": {
      "name": "python"
    }
  },
  "cells": [
    {
      "cell_type": "code",
      "execution_count": null,
      "metadata": {
        "id": "1GyIP-PM2Qh-"
      },
      "outputs": [],
      "source": [
        "import matplotlib.pyplot as plt\n",
        "import numpy as np\n",
        "import scipy.optimize as spo\n",
        "from scipy.optimize import differential_evolution\n",
        "from scipy.optimize import minimize\n",
        "from scipy.stats import norm\n",
        "%matplotlib inline\n",
        "import sympy as sym\n",
        "from scipy.optimize import minimize"
      ]
    },
    {
      "cell_type": "markdown",
      "source": [
        "\n",
        "###Задание 1\n",
        "\n",
        "Вычислите производную функции: tan2(sin(x)+cos(2x+3))\n",
        "\n",
        "в точке x=1"
      ],
      "metadata": {
        "id": "anUWzMkIqab2"
      }
    },
    {
      "cell_type": "code",
      "source": [
        "from scipy.misc import derivative # способ 1\n",
        "def f(x):\n",
        "    return (np.tan(np.sin(x) + np.cos(2*x + 3)))**2\n",
        "derivative(f, 1.0, n=1, dx=1e-6)"
      ],
      "metadata": {
        "colab": {
          "base_uri": "https://localhost:8080/"
        },
        "id": "WwatA89_qKGj",
        "outputId": "b14b615d-0547-4763-f377-5cbc5cc4a1e2"
      },
      "execution_count": null,
      "outputs": [
        {
          "output_type": "execute_result",
          "data": {
            "text/plain": [
              "55.3859176464222"
            ]
          },
          "metadata": {},
          "execution_count": 272
        }
      ]
    },
    {
      "cell_type": "code",
      "source": [
        "from sympy import *\n",
        "x = Symbol('x')\n",
        "dx = diff((sym.tan(sym.sin(x) + sym.cos(2*x + 3)))**2) # способ 2\n",
        "dx.subs({x: 1}).evalf()"
      ],
      "metadata": {
        "colab": {
          "base_uri": "https://localhost:8080/",
          "height": 37
        },
        "id": "23gb8RhbJnAY",
        "outputId": "399ae720-5c9d-4e8f-c37e-c51653e067e3"
      },
      "execution_count": null,
      "outputs": [
        {
          "output_type": "execute_result",
          "data": {
            "text/plain": [
              "55.3859176353379"
            ],
            "text/latex": "$\\displaystyle 55.3859176353379$"
          },
          "metadata": {},
          "execution_count": 277
        }
      ]
    },
    {
      "cell_type": "markdown",
      "source": [
        "\n",
        "###Задание 2\n",
        "\n",
        "Дан объект в\n",
        "пространстве 2D\n",
        "\n",
        "\n",
        "При помощи матричных операций выполните:\n",
        "\n",
        "* Масштабирование и смещение объекта (применить 2 матрицы трансформаций). Масштабирование на (0.5, 1.2) и смещение на (200, 300)\n",
        "\n"
      ],
      "metadata": {
        "id": "I0ddkVE73qUZ"
      }
    },
    {
      "cell_type": "code",
      "source": [
        "import numpy as np\n",
        "import matplotlib.pyplot as plt\n",
        "\n",
        "A = [\n",
        "[-100, -100, 1],\n",
        "[0, 100, 1],\n",
        "[100, -100, 1],\n",
        "[-100, -100, 1]\n",
        "]\n",
        "\n",
        "A = np.array(A)\n",
        "\n",
        "x = A[:,0]\n",
        "y = A[:,1]\n",
        "plt.plot(x, y)\n",
        "plt.ylim([-200, 200])\n",
        "plt.xlim([-200, 200])"
      ],
      "metadata": {
        "colab": {
          "base_uri": "https://localhost:8080/",
          "height": 287
        },
        "id": "ztvPgc7l3pq8",
        "outputId": "7ea1e517-6ccb-48fe-c30b-a5da44a5e789"
      },
      "execution_count": null,
      "outputs": [
        {
          "output_type": "execute_result",
          "data": {
            "text/plain": [
              "(-200.0, 200.0)"
            ]
          },
          "metadata": {},
          "execution_count": 278
        },
        {
          "output_type": "display_data",
          "data": {
            "text/plain": [
              "<Figure size 432x288 with 1 Axes>"
            ],
            "image/png": "[encoded data removed]"
          },
          "metadata": {
            "needs_background": "light"
          }
        }
      ]
    },
    {
      "cell_type": "code",
      "source": [
        "B = np.array([[0.5, 0, 0], [0, 1.2, 0], [0, 0, 1]]) # создаем единичную матрицу, для изменения размера объекта по горизонтали/вертикали изменяем значение a или d соответственно\n",
        "B"
      ],
      "metadata": {
        "colab": {
          "base_uri": "https://localhost:8080/"
        },
        "id": "BZWhUN6a4FBM",
        "outputId": "39035457-cc72-4668-f4da-5f47650f3740"
      },
      "execution_count": null,
      "outputs": [
        {
          "output_type": "execute_result",
          "data": {
            "text/plain": [
              "array([[0.5, 0. , 0. ],\n",
              "       [0. , 1.2, 0. ],\n",
              "       [0. , 0. , 1. ]])"
            ]
          },
          "metadata": {},
          "execution_count": 53
        }
      ]
    },
    {
      "cell_type": "code",
      "source": [
        "res_0 = B@A.transpose()\n",
        "tt_0 = res_0.transpose()\n",
        "tt_0"
      ],
      "metadata": {
        "colab": {
          "base_uri": "https://localhost:8080/"
        },
        "id": "ZYwq99Gk6Zpt",
        "outputId": "29bcd4cc-30b6-4ec0-ee66-d7665b4c4ec1"
      },
      "execution_count": null,
      "outputs": [
        {
          "output_type": "execute_result",
          "data": {
            "text/plain": [
              "array([[ -50., -120.,    1.],\n",
              "       [   0.,  120.,    1.],\n",
              "       [  50., -120.,    1.],\n",
              "       [ -50., -120.,    1.]])"
            ]
          },
          "metadata": {},
          "execution_count": 54
        }
      ]
    },
    {
      "cell_type": "code",
      "source": [
        "A0 = np.array(tt_0)\n",
        "\n",
        "x = A0[:,0]\n",
        "y = A0[:,1]\n",
        "plt.plot(x, y)\n",
        "plt.ylim([-200, 200])\n",
        "plt.xlim([-200, 200])"
      ],
      "metadata": {
        "colab": {
          "base_uri": "https://localhost:8080/",
          "height": 287
        },
        "id": "2uQq0eYv6cNP",
        "outputId": "f4fa5919-f436-4baa-8d46-cde62e4bc8c2"
      },
      "execution_count": null,
      "outputs": [
        {
          "output_type": "execute_result",
          "data": {
            "text/plain": [
              "(-200.0, 200.0)"
            ]
          },
          "metadata": {},
          "execution_count": 55
        },
        {
          "output_type": "display_data",
          "data": {
            "text/plain": [
              "<Figure size 432x288 with 1 Axes>"
            ],
            "image/png": "[encoded data removed]"
          },
          "metadata": {
            "needs_background": "light"
          }
        }
      ]
    },
    {
      "cell_type": "code",
      "source": [
        "C = np.array([[1, 0, 200], [0, 1, 300], [0, 0, 1]])\n",
        "C"
      ],
      "metadata": {
        "colab": {
          "base_uri": "https://localhost:8080/"
        },
        "id": "HI_LxqSw8AQn",
        "outputId": "715f0d9e-f09b-4bbe-93cb-f36e8a7f9018"
      },
      "execution_count": null,
      "outputs": [
        {
          "output_type": "execute_result",
          "data": {
            "text/plain": [
              "array([[  1,   0, 200],\n",
              "       [  0,   1, 300],\n",
              "       [  0,   0,   1]])"
            ]
          },
          "metadata": {},
          "execution_count": 69
        }
      ]
    },
    {
      "cell_type": "code",
      "source": [
        "res_1 = C@A0.transpose()\n",
        "tt_1 = res_1.transpose()\n",
        "tt_1"
      ],
      "metadata": {
        "colab": {
          "base_uri": "https://localhost:8080/"
        },
        "id": "Sj2BMddI8anm",
        "outputId": "f482a3d8-abec-4bd4-fa5e-292f0660b02d"
      },
      "execution_count": null,
      "outputs": [
        {
          "output_type": "execute_result",
          "data": {
            "text/plain": [
              "array([[150., 180.,   1.],\n",
              "       [200., 420.,   1.],\n",
              "       [250., 180.,   1.],\n",
              "       [150., 180.,   1.]])"
            ]
          },
          "metadata": {},
          "execution_count": 70
        }
      ]
    },
    {
      "cell_type": "code",
      "source": [
        "A1 = np.array(tt_1)\n",
        "\n",
        "x = A1[:,0]\n",
        "y = A1[:,1]\n",
        "plt.plot(x, y)\n",
        "plt.ylim([0, 500])\n",
        "plt.xlim([0, 500])"
      ],
      "metadata": {
        "colab": {
          "base_uri": "https://localhost:8080/",
          "height": 287
        },
        "id": "-F9od0548MH-",
        "outputId": "747d8b7d-90e4-4534-b2d2-5ddd571ad088"
      },
      "execution_count": null,
      "outputs": [
        {
          "output_type": "execute_result",
          "data": {
            "text/plain": [
              "(0.0, 500.0)"
            ]
          },
          "metadata": {},
          "execution_count": 71
        },
        {
          "output_type": "display_data",
          "data": {
            "text/plain": [
              "<Figure size 432x288 with 1 Axes>"
            ],
            "image/png": "[encoded data removed]"
          },
          "metadata": {
            "needs_background": "light"
          }
        }
      ]
    },
    {
      "cell_type": "markdown",
      "source": [
        "\n",
        "### Задание 3\n",
        "\n",
        "Найдите собственные значения и собственные вектора матрицы:\n"
      ],
      "metadata": {
        "id": "Phdd6_ZBAsj6"
      }
    },
    {
      "cell_type": "code",
      "source": [
        "m = np.array([[1, 4],\n",
        "              [1, 1]])\n",
        "print(m)\n",
        "\n"
      ],
      "metadata": {
        "colab": {
          "base_uri": "https://localhost:8080/"
        },
        "id": "0XqfmHsMAunX",
        "outputId": "cb255e6c-d11d-482f-d238-86d54783c1d8"
      },
      "execution_count": null,
      "outputs": [
        {
          "output_type": "stream",
          "name": "stdout",
          "text": [
            "[[1 4]\n",
            " [1 1]]\n"
          ]
        }
      ]
    },
    {
      "cell_type": "code",
      "source": [
        "m_eig = np.linalg.eig(m)"
      ],
      "metadata": {
        "id": "_GuUoU0fA8kU"
      },
      "execution_count": null,
      "outputs": []
    },
    {
      "cell_type": "code",
      "source": [
        "m_eig[0] #собственные значения"
      ],
      "metadata": {
        "colab": {
          "base_uri": "https://localhost:8080/"
        },
        "id": "WUCiGjBxBLfA",
        "outputId": "502f99db-c2c8-46d9-e52a-99c6d272245c"
      },
      "execution_count": null,
      "outputs": [
        {
          "output_type": "execute_result",
          "data": {
            "text/plain": [
              "array([ 3., -1.])"
            ]
          },
          "metadata": {},
          "execution_count": 281
        }
      ]
    },
    {
      "cell_type": "code",
      "source": [
        "m_eig[1]  #собственные вектора"
      ],
      "metadata": {
        "colab": {
          "base_uri": "https://localhost:8080/"
        },
        "id": "qB34PfqCBO23",
        "outputId": "f81ff2b6-2e38-4998-b056-641efde77264"
      },
      "execution_count": null,
      "outputs": [
        {
          "output_type": "execute_result",
          "data": {
            "text/plain": [
              "array([[ 0.89442719, -0.89442719],\n",
              "       [ 0.4472136 ,  0.4472136 ]])"
            ]
          },
          "metadata": {},
          "execution_count": 282
        }
      ]
    },
    {
      "cell_type": "markdown",
      "source": [
        "\n",
        "###Задание 4\n",
        "\n",
        "Дана функция с неизвестными параметрами a и b, вам также известны значения функции fx в точках x.\n",
        "\n",
        "Найдите оптимальные параметры a, b, минимизирующие абсолютную ошибку error.\n"
      ],
      "metadata": {
        "id": "Zj5KAZsjB5Jm"
      }
    },
    {
      "cell_type": "code",
      "source": [
        "def f(x, a, b):\n",
        "    return np.e**a * np.sin(b*x) + x"
      ],
      "metadata": {
        "id": "DM1yyNipB7sZ"
      },
      "execution_count": null,
      "outputs": []
    },
    {
      "cell_type": "code",
      "source": [
        "x = np.array([0.        , 0.26315789, 0.52631579, 0.78947368, 1.05263158,\n",
        "              1.31578947, 1.57894737, 1.84210526, 2.10526316, 2.36842105,\n",
        "              2.63157895, 2.89473684, 3.15789474, 3.42105263, 3.68421053,\n",
        "              3.94736842, 4.21052632, 4.47368421, 4.73684211, 5.        ])\n",
        "\n",
        "fx = np.array([  0.        , -12.01819092, -18.90968634, -17.68786571,\n",
        "                -8.7529108 ,   4.27524517,  16.06801336,  21.81250213,\n",
        "                19.22059845,   9.48411207,  -3.22273056, -13.48576488,\n",
        "               -16.91096359, -11.95866834,  -0.58630088,  12.56873816,\n",
        "                22.12489421,  24.20292139,  18.04522521,   6.33211092])"
      ],
      "metadata": {
        "id": "Ydvf-wCvCATJ"
      },
      "execution_count": null,
      "outputs": []
    },
    {
      "cell_type": "code",
      "source": [
        "plt.plot(x, fx)\n",
        "plt.show()"
      ],
      "metadata": {
        "colab": {
          "base_uri": "https://localhost:8080/",
          "height": 265
        },
        "id": "I3_96AhsCCQb",
        "outputId": "0dc8cb01-7415-4c09-aa58-85d88f844b0f"
      },
      "execution_count": null,
      "outputs": [
        {
          "output_type": "display_data",
          "data": {
            "text/plain": [
              "<Figure size 432x288 with 1 Axes>"
            ],
            "image/png": "[encoded data removed]"
          },
          "metadata": {
            "needs_background": "light"
          }
        }
      ]
    },
    {
      "cell_type": "code",
      "source": [
        "def error(params):\n",
        "    return np.sum(np.abs(fx - f(x, params[0], params[1])))\n",
        "\n",
        "x0 = [10, 10]\n",
        "res_m = minimize(error, x0, method='Nelder-Mead', options = {'xtol': 1e-6, 'disp': True})"
      ],
      "metadata": {
        "colab": {
          "base_uri": "https://localhost:8080/"
        },
        "id": "0oK_bDQKNWre",
        "outputId": "b298f66a-8720-4d35-abfb-34d03780e65a"
      },
      "execution_count": null,
      "outputs": [
        {
          "output_type": "stream",
          "name": "stdout",
          "text": [
            "Optimization terminated successfully.\n",
            "         Current function value: 0.000102\n",
            "         Iterations: 67\n",
            "         Function evaluations: 135\n"
          ]
        }
      ]
    },
    {
      "cell_type": "code",
      "source": [
        "plt.figure(figsize=(12, 8))\n",
        "plt.plot(x, fx, color='blue', label = 'data')\n",
        "plt.plot(x, f(x, res_m.x[0], res_m.x[1]), color='red', label = 'fit')\n",
        "plt.xlabel('x')\n",
        "plt.ylabel('fx')\n",
        "plt.legend()\n",
        "plt.show()"
      ],
      "metadata": {
        "colab": {
          "base_uri": "https://localhost:8080/",
          "height": 497
        },
        "id": "CvFYYqZL-9uq",
        "outputId": "480109ef-6585-47fc-f310-55c35124454c"
      },
      "execution_count": null,
      "outputs": [
        {
          "output_type": "display_data",
          "data": {
            "text/plain": [
              "<Figure size 864x576 with 1 Axes>"
            ],
            "image/png": "[encoded data removed]"
          },
          "metadata": {
            "needs_background": "light"
          }
        }
      ]
    },
    {
      "cell_type": "markdown",
      "source": [],
      "metadata": {
        "id": "sOFZwu1B6kB7"
      }
    },
    {
      "cell_type": "markdown",
      "source": [
        "###Задание 5\n",
        "\n",
        "Дана матрица рейтингов фильмов (строки - пользователи (10 человек), столбцы - фильмы (15 фильмов))\n",
        "\n",
        "Необходимо найти наиболее похожего пользователя по косинусной метрике для каждого из пользователей (ответ: 10 пар вида (x, y), где y - наиболее похожий пользователь на пользователя x)."
      ],
      "metadata": {
        "id": "tiMjSB-o7k75"
      }
    },
    {
      "cell_type": "code",
      "source": [
        "def cosine( a, b ):\n",
        "    \"\"\"\n",
        "    Подсчет косинуса угла между векторами a, b по их координатам\n",
        "    \"\"\"\n",
        "    # длины векторов\n",
        "    aLength = np.linalg.norm( a )\n",
        "    bLength = np.linalg.norm( b )\n",
        "\n",
        "    return np.dot( a, b ) / ( aLength * bLength )\n",
        "\n",
        "raitings = np.array([[ 4,  4,  9,  4,  1,  6, 10,  7,  9,  6,  9,  2,  8,  6,  6],\n",
        "                     [ 9,  2,  5, 10,  7,  8, 10,  5,  6,  2,  1,  6,  8,  9,  7],\n",
        "                     [ 1,  6,  8,  8,  4,  9,  3,  8, 10,  5,  2,  6,  8,  1,  6],\n",
        "                     [ 6,  1,  9,  7,  7,  9,  2,  3,  5,  1,  6,  6,  3,  2,  7],\n",
        "                     [ 3,  7,  3,  5,  7,  9,  9,  6,  2,  9,  1,  2,  8, 10,  6],\n",
        "                     [ 8,  3,  7,  3,  8,  6,  1,  8,  8,  6,  1,  9,  4, 10,  1],\n",
        "                     [ 9,  8,  4,  8,  8, 10,  6,  1,  1,  2,  9,  5,  2,  7,  2],\n",
        "                     [ 4,  1,  6,  4,  3, 10,  4,  4,  2,  8,  7,  9,  3,  8,  3],\n",
        "                     [ 2,  7,  7,  6, 10,  6,  8,  9,  8,  6, 10,  1,  7, 10,  4],\n",
        "                     [ 5, 10,  8,  8,  9,  7,  2,  9,  9, 10,  8,  8,  8,  6, 10]])\n",
        "res = {}\n",
        "for i, el_i in enumerate(raitings):\n",
        "    for j, el_j in enumerate(raitings):\n",
        "        if el_i[i] != el_j[j]:\n",
        "            degree = np.arccos(cosine(el_i, el_j) ) * 360 / 2 / np.pi #вычисление угла между строками\n",
        "            res[i, j] = degree\n",
        "\n",
        "for id in range(0, len(raitings)):\n",
        "    result = {}\n",
        "    for k in res:\n",
        "        if k[0] == id:\n",
        "            el = res[k]\n",
        "            result[k] = el\n",
        "\n",
        "    for k in result:\n",
        "        if result[k] == min(result.values()):\n",
        "            print('Самая похожая пара пользователей:', k)\n",
        "\n",
        "\n",
        "\n"
      ],
      "metadata": {
        "colab": {
          "base_uri": "https://localhost:8080/"
        },
        "id": "nVVlx0ltcu_k",
        "outputId": "454862bb-e7c4-4795-a7a0-4fa5ef4df171"
      },
      "execution_count": null,
      "outputs": [
        {
          "output_type": "stream",
          "name": "stdout",
          "text": [
            "Самая похожая пара пользователей: (0, 8)\n",
            "Самая похожая пара пользователей: (1, 4)\n",
            "Самая похожая пара пользователей: (2, 9)\n",
            "Самая похожая пара пользователей: (3, 9)\n",
            "Самая похожая пара пользователей: (4, 8)\n",
            "Самая похожая пара пользователей: (5, 9)\n",
            "Самая похожая пара пользователей: (6, 3)\n",
            "Самая похожая пара пользователей: (7, 5)\n",
            "Самая похожая пара пользователей: (8, 0)\n",
            "Самая похожая пара пользователей: (9, 2)\n"
          ]
        }
      ]
    }
  ]
}