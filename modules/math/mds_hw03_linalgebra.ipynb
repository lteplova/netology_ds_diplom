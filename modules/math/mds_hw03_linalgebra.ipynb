{
  "nbformat": 4,
  "nbformat_minor": 0,
  "metadata": {
    "colab": {
      "provenance": []
    },
    "kernelspec": {
      "name": "python3",
      "display_name": "Python 3"
    },
    "language_info": {
      "name": "python"
    }
  },
  "cells": [
    {
      "cell_type": "code",
      "execution_count": null,
      "metadata": {
        "colab": {
          "base_uri": "https://localhost:8080/",
          "height": 287
        },
        "id": "q6QWUYVdfMRL",
        "outputId": "cf9b1d3d-2885-4aee-8f97-ceec9eb9b13b"
      },
      "outputs": [
        {
          "output_type": "execute_result",
          "data": {
            "text/plain": [
              "(-200.0, 200.0)"
            ]
          },
          "metadata": {},
          "execution_count": 2
        },
        {
          "output_type": "display_data",
          "data": {
            "text/plain": [
              "<Figure size 432x288 with 1 Axes>"
            ],
            "image/png": "[encoded data removed]"
          },
          "metadata": {
            "needs_background": "light"
          }
        }
      ],
      "source": [
        "import numpy as np\n",
        "import matplotlib.pyplot as plt\n",
        "\n",
        "A = [\n",
        "[-100, -100, 1],\n",
        "[-100, 100, 1],\n",
        "[100, 100, 1],\n",
        "[0, 0, 1],\n",
        "[100, -100, 1],\n",
        "[-100, -100, 1]\n",
        "]\n",
        "\n",
        "A = np.array(A)\n",
        "\n",
        "x = A[:,0]\n",
        "y = A[:,1]\n",
        "plt.plot(x, y)\n",
        "plt.ylim([-200, 200])\n",
        "plt.xlim([-200, 200])"
      ]
    },
    {
      "cell_type": "markdown",
      "source": [
        "\n",
        "\n",
        "#### Уровень 0:\n",
        "### Задание 1\n",
        "\n",
        "При помощи линейных отображений:\n",
        "\n",
        "* Уменьшить объект в два раза\n",
        "* Повернуть на 130 градусов\n",
        "* Отразить объект относительно прямой y=x (поможет матрица [[0, 1, 0], [1, 0, 0], [0, 0, 1]])\n",
        "\n"
      ],
      "metadata": {
        "id": "QS5di828fddR"
      }
    },
    {
      "cell_type": "code",
      "source": [
        "# Уменьшить объект в два раза\n",
        "B = np.array([[0.5, 0, 0], [0, 0.5, 0], [0, 0, 1]]) # создаем единичную матрицу, для уменьшения размера объекта по горизонтали/вертикали изменяем значение a или d соответственно, поделив 1 на 2\n",
        "B"
      ],
      "metadata": {
        "colab": {
          "base_uri": "https://localhost:8080/"
        },
        "id": "JCM1IVjefiy7",
        "outputId": "69639b61-ffb8-48d6-8776-7ef4289fca51"
      },
      "execution_count": null,
      "outputs": [
        {
          "output_type": "execute_result",
          "data": {
            "text/plain": [
              "array([[0.5, 0. , 0. ],\n",
              "       [0. , 0.5, 0. ],\n",
              "       [0. , 0. , 1. ]])"
            ]
          },
          "metadata": {},
          "execution_count": 3
        }
      ]
    },
    {
      "cell_type": "code",
      "source": [
        "res_0 = B@A.transpose()\n",
        "tt_0 = res_0.transpose()\n",
        "tt_0"
      ],
      "metadata": {
        "colab": {
          "base_uri": "https://localhost:8080/"
        },
        "id": "Vnf1xX1zqHjd",
        "outputId": "987b736b-10e7-43a4-dd8a-f30740c3dc48"
      },
      "execution_count": null,
      "outputs": [
        {
          "output_type": "execute_result",
          "data": {
            "text/plain": [
              "array([[-50., -50.,   1.],\n",
              "       [-50.,  50.,   1.],\n",
              "       [ 50.,  50.,   1.],\n",
              "       [  0.,   0.,   1.],\n",
              "       [ 50., -50.,   1.],\n",
              "       [-50., -50.,   1.]])"
            ]
          },
          "metadata": {},
          "execution_count": 4
        }
      ]
    },
    {
      "cell_type": "code",
      "source": [
        "A0 = np.array(tt_0)\n",
        "\n",
        "x = A0[:,0]\n",
        "y = A0[:,1]\n",
        "plt.plot(x, y)\n",
        "plt.ylim([-200, 200])\n",
        "plt.xlim([-200, 200])"
      ],
      "metadata": {
        "colab": {
          "base_uri": "https://localhost:8080/",
          "height": 287
        },
        "id": "rd9AIEFwqbBA",
        "outputId": "a38f56b6-abe0-4653-ba52-f6afeb590cd7"
      },
      "execution_count": null,
      "outputs": [
        {
          "output_type": "execute_result",
          "data": {
            "text/plain": [
              "(-200.0, 200.0)"
            ]
          },
          "metadata": {},
          "execution_count": 120
        },
        {
          "output_type": "display_data",
          "data": {
            "text/plain": [
              "<Figure size 432x288 with 1 Axes>"
            ],
            "image/png": "[encoded data removed]"
          },
          "metadata": {
            "needs_background": "light"
          }
        }
      ]
    },
    {
      "cell_type": "code",
      "source": [
        "import math"
      ],
      "metadata": {
        "id": "hg5MDwxuPRQ9"
      },
      "execution_count": null,
      "outputs": []
    },
    {
      "cell_type": "code",
      "source": [
        "# Повернуть на 130 градусов\n",
        "# Поворот — это комбинация масштабирования и наклона, но для сохранения начальных пропорций объекта, преобразования должны проводится с точными вычислениями при использовании синусов и косинусов.\n",
        "# Сам поворот происходит против часовой стрелки, α задаёт угол поворота в градусах.\n",
        "\n",
        "C = [[math.cos(130*math.pi/180), math.sin(130*math.pi/180), 0],\n",
        "     [-(math.sin(130*math.pi/180)), math.cos(130*math.pi/180), 0],\n",
        "     [0, 0,1]]"
      ],
      "metadata": {
        "id": "OrZhBSQAN0-w"
      },
      "execution_count": null,
      "outputs": []
    },
    {
      "cell_type": "code",
      "source": [
        "res_1 = C@A.transpose()\n",
        "tt_1 = res_1.transpose()\n",
        "tt_1"
      ],
      "metadata": {
        "colab": {
          "base_uri": "https://localhost:8080/"
        },
        "id": "T8XUs1WBOO8l",
        "outputId": "850397af-f7a0-434d-f1a4-e3d2a2a848b6"
      },
      "execution_count": null,
      "outputs": [
        {
          "output_type": "execute_result",
          "data": {
            "text/plain": [
              "array([[ -12.32568334,  140.88320528,    1.        ],\n",
              "       [ 140.88320528,   12.32568334,    1.        ],\n",
              "       [  12.32568334, -140.88320528,    1.        ],\n",
              "       [   0.        ,    0.        ,    1.        ],\n",
              "       [-140.88320528,  -12.32568334,    1.        ],\n",
              "       [ -12.32568334,  140.88320528,    1.        ]])"
            ]
          },
          "metadata": {},
          "execution_count": 122
        }
      ]
    },
    {
      "cell_type": "code",
      "source": [
        "A1 = np.array(tt_1)\n",
        "\n",
        "x = A1[:,0]\n",
        "y = A1[:,1]\n",
        "plt.plot(x, y)\n",
        "plt.ylim([-200, 200])\n",
        "plt.xlim([-200, 200])"
      ],
      "metadata": {
        "colab": {
          "base_uri": "https://localhost:8080/",
          "height": 287
        },
        "id": "P_A0RZJSPXfX",
        "outputId": "8330143a-8caa-41fd-fecd-7f5a92dd10e9"
      },
      "execution_count": null,
      "outputs": [
        {
          "output_type": "execute_result",
          "data": {
            "text/plain": [
              "(-200.0, 200.0)"
            ]
          },
          "metadata": {},
          "execution_count": 123
        },
        {
          "output_type": "display_data",
          "data": {
            "text/plain": [
              "<Figure size 432x288 with 1 Axes>"
            ],
            "image/png": "[encoded data removed]"
          },
          "metadata": {
            "needs_background": "light"
          }
        }
      ]
    },
    {
      "cell_type": "code",
      "source": [
        "# Отразить объект относительно прямой y=x (поможет матрица [[0, 1, 0], [1, 0, 0], [0, 0, 1]])\n",
        "D = np.array ( [[0, 1, 0], [1, 0, 0], [0, 0, 1]])\n"
      ],
      "metadata": {
        "id": "RKYIVa7AQho6"
      },
      "execution_count": null,
      "outputs": []
    },
    {
      "cell_type": "code",
      "source": [
        "res_2 = D@A.transpose()\n",
        "tt_2= res_2.transpose()\n",
        "tt_2"
      ],
      "metadata": {
        "colab": {
          "base_uri": "https://localhost:8080/"
        },
        "id": "llbfLCY5Q3bt",
        "outputId": "b47c78d0-414e-42dd-e18c-1b8a0f325b6b"
      },
      "execution_count": null,
      "outputs": [
        {
          "output_type": "execute_result",
          "data": {
            "text/plain": [
              "array([[-100, -100,    1],\n",
              "       [ 100, -100,    1],\n",
              "       [ 100,  100,    1],\n",
              "       [   0,    0,    1],\n",
              "       [-100,  100,    1],\n",
              "       [-100, -100,    1]])"
            ]
          },
          "metadata": {},
          "execution_count": 125
        }
      ]
    },
    {
      "cell_type": "code",
      "source": [
        "A2 = np.array(tt_2)\n",
        "\n",
        "x = A2[:,0]\n",
        "y = A2[:,1]\n",
        "plt.plot(x, y)\n",
        "plt.ylim([-200, 200])\n",
        "plt.xlim([-200, 200])"
      ],
      "metadata": {
        "colab": {
          "base_uri": "https://localhost:8080/",
          "height": 287
        },
        "id": "YfBK50TRRNZ6",
        "outputId": "d2d16750-5363-46c9-84f8-b71e3b836074"
      },
      "execution_count": null,
      "outputs": [
        {
          "output_type": "execute_result",
          "data": {
            "text/plain": [
              "(-200.0, 200.0)"
            ]
          },
          "metadata": {},
          "execution_count": 126
        },
        {
          "output_type": "display_data",
          "data": {
            "text/plain": [
              "<Figure size 432x288 with 1 Axes>"
            ],
            "image/png": "[encoded data removed]"
          },
          "metadata": {
            "needs_background": "light"
          }
        }
      ]
    },
    {
      "cell_type": "markdown",
      "source": [
        "\n",
        "#### Уровень 1:\n",
        "### Задание 2\n",
        "\n",
        "Найдите спектральное разложение матрицы:\n",
        "\n",
        "m = np.array([[1, 2],\n",
        "              [2, 3]])\n",
        "print(m)\n",
        "\n"
      ],
      "metadata": {
        "id": "yEmCfa0Bfsal"
      }
    },
    {
      "cell_type": "code",
      "source": [
        "m = np.array([[1, 2], [2, 3]])\n",
        "print(m)"
      ],
      "metadata": {
        "id": "x0RsSFfhfxnY",
        "colab": {
          "base_uri": "https://localhost:8080/"
        },
        "outputId": "13db33bf-ad0e-4389-9d83-900bd4cca0aa"
      },
      "execution_count": null,
      "outputs": [
        {
          "output_type": "stream",
          "name": "stdout",
          "text": [
            "[[1 2]\n",
            " [2 3]]\n"
          ]
        }
      ]
    },
    {
      "cell_type": "code",
      "source": [
        "m_eig = np.linalg.eig(m) # собственные значения и вектора\n",
        "m_eig"
      ],
      "metadata": {
        "colab": {
          "base_uri": "https://localhost:8080/"
        },
        "id": "XPxk6Fr4J7Px",
        "outputId": "db7926dd-0b31-499c-9cb3-173c89a832ad"
      },
      "execution_count": null,
      "outputs": [
        {
          "output_type": "execute_result",
          "data": {
            "text/plain": [
              "(array([-0.23606798,  4.23606798]), array([[-0.85065081, -0.52573111],\n",
              "        [ 0.52573111, -0.85065081]]))"
            ]
          },
          "metadata": {},
          "execution_count": 37
        }
      ]
    },
    {
      "cell_type": "code",
      "source": [
        "S = m_eig[1] # матрица, столбцы которой являются собственными векторами матрицы\n",
        "S"
      ],
      "metadata": {
        "colab": {
          "base_uri": "https://localhost:8080/"
        },
        "id": "VQagcfCwaDAt",
        "outputId": "8f696dd7-f22a-4fc0-c011-06258b57561c"
      },
      "execution_count": null,
      "outputs": [
        {
          "output_type": "execute_result",
          "data": {
            "text/plain": [
              "array([[-0.85065081, -0.52573111],\n",
              "       [ 0.52573111, -0.85065081]])"
            ]
          },
          "metadata": {},
          "execution_count": 36
        }
      ]
    },
    {
      "cell_type": "code",
      "source": [
        "D = np.diag(m_eig[0]) # диагональная матрица с соответсвтующими собственными значениями матрицы m\n",
        "D"
      ],
      "metadata": {
        "colab": {
          "base_uri": "https://localhost:8080/"
        },
        "id": "LSsV7u-BS95S",
        "outputId": "1bc89b8d-bd08-4d5d-de39-a031fa6258ed"
      },
      "execution_count": null,
      "outputs": [
        {
          "output_type": "execute_result",
          "data": {
            "text/plain": [
              "array([[-0.23606798,  0.        ],\n",
              "       [ 0.        ,  4.23606798]])"
            ]
          },
          "metadata": {},
          "execution_count": 38
        }
      ]
    },
    {
      "cell_type": "code",
      "source": [
        "M = (S@D)@S.transpose() # получение исходной матрицы m, разложенной на множители\n",
        "M"
      ],
      "metadata": {
        "colab": {
          "base_uri": "https://localhost:8080/"
        },
        "id": "G4WeXfp7bJlJ",
        "outputId": "7a593168-40cd-4d8b-c9cc-8d3ef68761a8"
      },
      "execution_count": null,
      "outputs": [
        {
          "output_type": "execute_result",
          "data": {
            "text/plain": [
              "array([[1., 2.],\n",
              "       [2., 3.]])"
            ]
          },
          "metadata": {},
          "execution_count": 40
        }
      ]
    },
    {
      "cell_type": "code",
      "source": [],
      "metadata": {
        "id": "SVRPu4PCaVQ8"
      },
      "execution_count": null,
      "outputs": []
    }
  ]
}