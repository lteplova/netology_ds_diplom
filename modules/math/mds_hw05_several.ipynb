{
  "nbformat": 4,
  "nbformat_minor": 0,
  "metadata": {
    "colab": {
      "provenance": []
    },
    "kernelspec": {
      "name": "python3",
      "display_name": "Python 3"
    },
    "language_info": {
      "name": "python"
    }
  },
  "cells": [
    {
      "cell_type": "code",
      "execution_count": null,
      "metadata": {
        "id": "sIJXvC_1gy7j"
      },
      "outputs": [],
      "source": [
        "import numpy as np\n",
        "import sympy as sym\n",
        "from scipy.misc import derivative"
      ]
    },
    {
      "cell_type": "markdown",
      "source": [
        "\n",
        "####Уровень 0:\n",
        "###Задание 1\n",
        "\n",
        "Посчитайте частные производные функций:\n",
        "\n",
        "1)\n",
        "2)\n"
      ],
      "metadata": {
        "id": "H7Hz9L12hJU6"
      }
    },
    {
      "cell_type": "code",
      "source": [
        "x = sym.Symbol('x')\n",
        "y = sym.Symbol('y')"
      ],
      "metadata": {
        "id": "bEMvucGthImT"
      },
      "execution_count": null,
      "outputs": []
    },
    {
      "cell_type": "code",
      "source": [
        "# частная производная функции по x\n",
        "sym.diff((2*(x**2)*(y**3)) + (1/x) + (y**2)*x + 7, x)"
      ],
      "metadata": {
        "colab": {
          "base_uri": "https://localhost:8080/",
          "height": 51
        },
        "id": "1wKs2nJYkFeC",
        "outputId": "38876b08-ae75-4427-f588-bef562e7c448"
      },
      "execution_count": null,
      "outputs": [
        {
          "output_type": "execute_result",
          "data": {
            "text/plain": [
              "4*x*y**3 + y**2 - 1/x**2"
            ],
            "text/latex": "$\\displaystyle 4 x y^{3} + y^{2} - \\frac{1}{x^{2}}$"
          },
          "metadata": {},
          "execution_count": 4
        }
      ]
    },
    {
      "cell_type": "code",
      "source": [
        "# частная производная функции по y\n",
        "sym.diff((2*(x**2)*(y**3)) + (1/x) + (y**2)*x + 7, y)"
      ],
      "metadata": {
        "colab": {
          "base_uri": "https://localhost:8080/",
          "height": 38
        },
        "id": "Y_houps7kqv9",
        "outputId": "533ecd93-3ea1-4766-fd2b-ebc9ec0712a6"
      },
      "execution_count": null,
      "outputs": [
        {
          "output_type": "execute_result",
          "data": {
            "text/plain": [
              "6*x**2*y**2 + 2*x*y"
            ],
            "text/latex": "$\\displaystyle 6 x^{2} y^{2} + 2 x y$"
          },
          "metadata": {},
          "execution_count": 5
        }
      ]
    },
    {
      "cell_type": "code",
      "source": [
        "# частная производная функции по x\n",
        "sym.diff(((x**2)*y) - sym.sin(x*y) + sym.cos(x**2 + (6*y)) , x)"
      ],
      "metadata": {
        "colab": {
          "base_uri": "https://localhost:8080/",
          "height": 38
        },
        "id": "mq-Ng4oikutG",
        "outputId": "c3843bf9-a582-4c3b-a493-09bd30c980e6"
      },
      "execution_count": null,
      "outputs": [
        {
          "output_type": "execute_result",
          "data": {
            "text/plain": [
              "2*x*y - 2*x*sin(x**2 + 6*y) - y*cos(x*y)"
            ],
            "text/latex": "$\\displaystyle 2 x y - 2 x \\sin{\\left(x^{2} + 6 y \\right)} - y \\cos{\\left(x y \\right)}$"
          },
          "metadata": {},
          "execution_count": 10
        }
      ]
    },
    {
      "cell_type": "code",
      "source": [
        "# частная производная функции по y\n",
        "sym.diff(((x**2)*y) - sym.sin(x*y) + sym.cos(x**2 + (6*y)) , y)"
      ],
      "metadata": {
        "colab": {
          "base_uri": "https://localhost:8080/",
          "height": 38
        },
        "id": "LqIgEk2Vld4m",
        "outputId": "f4134b5f-234f-42a8-ead7-ca7941580bfd"
      },
      "execution_count": null,
      "outputs": [
        {
          "output_type": "execute_result",
          "data": {
            "text/plain": [
              "x**2 - x*cos(x*y) - 6*sin(x**2 + 6*y)"
            ],
            "text/latex": "$\\displaystyle x^{2} - x \\cos{\\left(x y \\right)} - 6 \\sin{\\left(x^{2} + 6 y \\right)}$"
          },
          "metadata": {},
          "execution_count": 11
        }
      ]
    },
    {
      "cell_type": "code",
      "source": [
        "\n"
      ],
      "metadata": {
        "id": "qVdnVIzwL1Qm"
      },
      "execution_count": null,
      "outputs": []
    },
    {
      "cell_type": "markdown",
      "source": [
        "\n",
        "####Уровень 1:\n",
        "###Задание 2\n",
        "\n",
        "Вычислите градиент функции:\n",
        "\n"
      ],
      "metadata": {
        "id": "p2281hexhNan"
      }
    },
    {
      "cell_type": "code",
      "source": [
        "def f(x, y):\n",
        "    return (2*(x**2)*(y**3)) + (1/x) + (y**2)*x + 7"
      ],
      "metadata": {
        "id": "V16NEwiAnJNk"
      },
      "execution_count": null,
      "outputs": []
    },
    {
      "cell_type": "code",
      "source": [
        "a = sym.diff(f(x,y), x)\n",
        "b = sym.diff(f(x,y), y)"
      ],
      "metadata": {
        "id": "yUF6LOUUojaA"
      },
      "execution_count": null,
      "outputs": []
    },
    {
      "cell_type": "code",
      "source": [
        "gradient = np.array([a, b])\n",
        "gradient"
      ],
      "metadata": {
        "colab": {
          "base_uri": "https://localhost:8080/"
        },
        "id": "cPxZ6hAXhUBS",
        "outputId": "5b1a63d5-50ab-4558-9e3e-c93814e7d166"
      },
      "execution_count": null,
      "outputs": [
        {
          "output_type": "execute_result",
          "data": {
            "text/plain": [
              "array([4*x*y**3 + y**2 - 1/x**2, 6*x**2*y**2 + 2*x*y], dtype=object)"
            ]
          },
          "metadata": {},
          "execution_count": 14
        }
      ]
    },
    {
      "cell_type": "code",
      "source": [
        "a = sym.diff(f(x,y), x).evalf(subs={x:1, y:2})\n",
        "b = sym.diff(f(x,y), y).evalf(subs={x:1, y:2})\n",
        "\n",
        "gradient = np.array([a, b])\n",
        "gradient"
      ],
      "metadata": {
        "id": "LUBYBQ2GL9QR",
        "outputId": "5c42ac16-8b61-40bc-e4da-decf519bf128",
        "colab": {
          "base_uri": "https://localhost:8080/"
        }
      },
      "execution_count": null,
      "outputs": [
        {
          "output_type": "execute_result",
          "data": {
            "text/plain": [
              "array([35.0000000000000, 28.0000000000000], dtype=object)"
            ]
          },
          "metadata": {},
          "execution_count": 4
        }
      ]
    },
    {
      "cell_type": "markdown",
      "source": [
        "\n",
        "###Задание 3\n",
        "\n",
        "Постройте трехмерный график функции\n",
        "\n"
      ],
      "metadata": {
        "id": "-G9CbFIphUV1"
      }
    },
    {
      "cell_type": "code",
      "source": [
        "x1 = sym.Symbol('x1')\n",
        "x2 = sym.Symbol('x2')"
      ],
      "metadata": {
        "id": "i-5pQuJ9rKVP"
      },
      "execution_count": null,
      "outputs": []
    },
    {
      "cell_type": "code",
      "source": [
        "def f(x1, x2):\n",
        "    return x2**2 - x1**2*x2 + 2*x1*x2"
      ],
      "metadata": {
        "id": "bzQtoxixhhO1"
      },
      "execution_count": null,
      "outputs": []
    },
    {
      "cell_type": "code",
      "source": [
        "f(x1, x2)"
      ],
      "metadata": {
        "colab": {
          "base_uri": "https://localhost:8080/",
          "height": 38
        },
        "id": "0IaaLwJ5rHW2",
        "outputId": "a61cfb97-a393-43eb-b645-521041aa4334"
      },
      "execution_count": null,
      "outputs": [
        {
          "output_type": "execute_result",
          "data": {
            "text/plain": [
              "-x1**2*x2 + 2*x1*x2 + x2**2"
            ],
            "text/latex": "$\\displaystyle - x_{1}^{2} x_{2} + 2 x_{1} x_{2} + x_{2}^{2}$"
          },
          "metadata": {},
          "execution_count": 38
        }
      ]
    },
    {
      "cell_type": "code",
      "source": [
        "from matplotlib import projections\n",
        "from mpl_toolkits.mplot3d import Axes3D\n",
        "import matplotlib.pyplot as plt\n",
        "import matplotlib.cm as cm\n",
        "from matplotlib.ticker import LinearLocator, FormatStrFormatter\n",
        "\n",
        "fig = plt.figure()\n",
        "ax = fig.gca(projection = '3d')\n",
        "\n",
        "delta = 0.0025\n",
        "X = np.arange(-1.0, 1.0, delta)\n",
        "Y = np.arange(-1.0, 1.0, delta)\n",
        "X, Y = np.meshgrid(X, Y)\n",
        "Z = Y**2 - X**2*Y + 2*X*Y\n",
        "\n",
        "surf = ax.plot_surface(X, Y, Z, cmap = cm.coolwarm, linewidth = 0, antialiased = False)\n",
        "\n",
        "ax.set_zlim(-5, 5.0)\n",
        "ax.zaxis.set_major_locator(LinearLocator(10))\n",
        "ax.zaxis.set_major_formatter(FormatStrFormatter('%.02f'))\n",
        "\n",
        "fig.colorbar(surf, shrink=0.5, aspect=5)\n",
        "\n",
        "ax.azim = 10\n",
        "ax.dist = 10\n",
        "ax.elev = 30\n",
        "\n",
        "plt.show()\n",
        "\n"
      ],
      "metadata": {
        "colab": {
          "base_uri": "https://localhost:8080/",
          "height": 248
        },
        "id": "M58eC1PnrnCb",
        "outputId": "a893d9e8-853c-4f03-b0ed-f3937ba25090"
      },
      "execution_count": null,
      "outputs": [
        {
          "output_type": "display_data",
          "data": {
            "text/plain": [
              "<Figure size 432x288 with 2 Axes>"
            ],
            "image/png": "[encoded data removed]"
          },
          "metadata": {
            "needs_background": "light"
          }
        }
      ]
    }
  ]
}