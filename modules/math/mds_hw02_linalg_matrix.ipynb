{
  "nbformat": 4,
  "nbformat_minor": 0,
  "metadata": {
    "colab": {
      "provenance": []
    },
    "kernelspec": {
      "name": "python3",
      "display_name": "Python 3"
    },
    "language_info": {
      "name": "python"
    }
  },
  "cells": [
    {
      "cell_type": "code",
      "execution_count": null,
      "metadata": {
        "id": "ExpM8Xui9uBE"
      },
      "outputs": [],
      "source": [
        "import numpy as np\n",
        "import random"
      ]
    },
    {
      "cell_type": "markdown",
      "source": [
        "\n",
        "###Уровень 0:\n",
        "####Задание 1\n",
        "\n",
        "   * Создайте матрицу 3 на 3, заполненную числами от 1 до 9\n",
        "   * Прибавьте к ней матрицу с единицами на диагонале\n",
        "   * Умножьте полученную матрицу на вектор (1, 2, 3)\n",
        "   * Вычислить транспонированную матрицу от полученной в результате прибавления матрицы\n",
        "   * Посчитайте обратную матрицу к полученной в результате прибавления матрице\n"
      ],
      "metadata": {
        "id": "Q_gcyDOx9_JU"
      }
    },
    {
      "cell_type": "code",
      "source": [
        "A = np.arange(1, 10) # создаем массив от 1 до 9\n",
        "random.shuffle(A) # перемешиваем случайно числа\n",
        "A = A.reshape(3, 3) # изменяем размерность, получаем матрицу 3х3\n",
        "A"
      ],
      "metadata": {
        "colab": {
          "base_uri": "https://localhost:8080/"
        },
        "id": "p0kZ9drW97sv",
        "outputId": "f4fb099d-97db-499e-dd1c-eb0a6d9aac3a"
      },
      "execution_count": null,
      "outputs": [
        {
          "output_type": "execute_result",
          "data": {
            "text/plain": [
              "array([[2, 7, 3],\n",
              "       [1, 4, 6],\n",
              "       [9, 8, 5]])"
            ]
          },
          "metadata": {},
          "execution_count": 16
        }
      ]
    },
    {
      "cell_type": "code",
      "source": [
        "B = np.eye(3) # диагональная единичная матрица\n",
        "B"
      ],
      "metadata": {
        "colab": {
          "base_uri": "https://localhost:8080/"
        },
        "id": "gSmClrenG3u2",
        "outputId": "0d2d71c2-fe46-4480-9a68-ffa4dfedc527"
      },
      "execution_count": null,
      "outputs": [
        {
          "output_type": "execute_result",
          "data": {
            "text/plain": [
              "array([[1., 0., 0.],\n",
              "       [0., 1., 0.],\n",
              "       [0., 0., 1.]])"
            ]
          },
          "metadata": {},
          "execution_count": 17
        }
      ]
    },
    {
      "cell_type": "code",
      "source": [
        "C = A + B\n",
        "C"
      ],
      "metadata": {
        "colab": {
          "base_uri": "https://localhost:8080/"
        },
        "id": "_tAubAzXIhrn",
        "outputId": "59f51609-9e4d-409b-8fcf-18fcee293dc3"
      },
      "execution_count": null,
      "outputs": [
        {
          "output_type": "execute_result",
          "data": {
            "text/plain": [
              "array([[3., 7., 3.],\n",
              "       [1., 5., 6.],\n",
              "       [9., 8., 6.]])"
            ]
          },
          "metadata": {},
          "execution_count": 18
        }
      ]
    },
    {
      "cell_type": "code",
      "source": [
        "v = np.array([1, 2, 3])\n",
        "v"
      ],
      "metadata": {
        "colab": {
          "base_uri": "https://localhost:8080/"
        },
        "id": "38p-n8A5LgSF",
        "outputId": "4aed132c-0270-4eee-ea52-5f6deb080875"
      },
      "execution_count": null,
      "outputs": [
        {
          "output_type": "execute_result",
          "data": {
            "text/plain": [
              "array([1, 2, 3])"
            ]
          },
          "metadata": {},
          "execution_count": 20
        }
      ]
    },
    {
      "cell_type": "code",
      "source": [
        "np.dot(C, v) # умножение матрицы на столбец"
      ],
      "metadata": {
        "colab": {
          "base_uri": "https://localhost:8080/"
        },
        "id": "bjrGBYnjL1m4",
        "outputId": "8e369437-6fbf-438d-83d3-428abf029087"
      },
      "execution_count": null,
      "outputs": [
        {
          "output_type": "execute_result",
          "data": {
            "text/plain": [
              "array([26., 29., 43.])"
            ]
          },
          "metadata": {},
          "execution_count": 21
        }
      ]
    },
    {
      "cell_type": "code",
      "source": [
        "np.transpose(C) # транспонирование матрицы С"
      ],
      "metadata": {
        "colab": {
          "base_uri": "https://localhost:8080/"
        },
        "id": "KPgJZ69sMLwR",
        "outputId": "9e7abf9e-ab84-4171-f84a-ccae434487fd"
      },
      "execution_count": null,
      "outputs": [
        {
          "output_type": "execute_result",
          "data": {
            "text/plain": [
              "array([[3., 1., 9.],\n",
              "       [7., 5., 8.],\n",
              "       [3., 6., 6.]])"
            ]
          },
          "metadata": {},
          "execution_count": 22
        }
      ]
    },
    {
      "cell_type": "code",
      "source": [
        "np.linalg.inv(C) # обратная матрица для матрицы С"
      ],
      "metadata": {
        "colab": {
          "base_uri": "https://localhost:8080/"
        },
        "id": "UrUQKVK2MeeM",
        "outputId": "e4b07bbd-3a0c-4761-e1cb-d30f759656d9"
      },
      "execution_count": null,
      "outputs": [
        {
          "output_type": "execute_result",
          "data": {
            "text/plain": [
              "array([[-0.10526316, -0.10526316,  0.15789474],\n",
              "       [ 0.28070175, -0.05263158, -0.0877193 ],\n",
              "       [-0.21637427,  0.22807018,  0.04678363]])"
            ]
          },
          "metadata": {},
          "execution_count": 23
        }
      ]
    },
    {
      "cell_type": "markdown",
      "source": [
        "\n",
        "###Уровень 1:\n",
        "####Задание 2\n",
        "\n",
        "Найдите собственные значения и собственные вектора матрицы:\n",
        "\n",
        "m = np.array([[2, 2],\n",
        "              [1, 3]])\n",
        "print(m)\n",
        "\n"
      ],
      "metadata": {
        "id": "d8zyMRcX-YuB"
      }
    },
    {
      "cell_type": "code",
      "source": [
        "m = np.array([[2, 2], [1, 3]])\n",
        "print(m)"
      ],
      "metadata": {
        "colab": {
          "base_uri": "https://localhost:8080/"
        },
        "id": "wNZ_LNpF-i4z",
        "outputId": "a9b9d379-dc6b-4e11-d756-5ecd9284c3cf"
      },
      "execution_count": null,
      "outputs": [
        {
          "output_type": "stream",
          "name": "stdout",
          "text": [
            "[[2 2]\n",
            " [1 3]]\n"
          ]
        }
      ]
    },
    {
      "cell_type": "code",
      "source": [
        "np.linalg.eig(m) # собственные значения и вектора"
      ],
      "metadata": {
        "colab": {
          "base_uri": "https://localhost:8080/"
        },
        "id": "TyXQUNbjMzLJ",
        "outputId": "a81c19ef-5a0d-4252-e024-2b1a79abd1ef"
      },
      "execution_count": null,
      "outputs": [
        {
          "output_type": "execute_result",
          "data": {
            "text/plain": [
              "(array([1., 4.]), array([[-0.89442719, -0.70710678],\n",
              "        [ 0.4472136 , -0.70710678]]))"
            ]
          },
          "metadata": {},
          "execution_count": 30
        }
      ]
    },
    {
      "cell_type": "markdown",
      "source": [
        "\n",
        "####Задание 3\n",
        "\n",
        "Придумайте матрицу, у которой определитель = 1, и все элементы не равны 0.\n",
        "\n",
        "P.S. Матрица должна быть ненулевой и размерностью не менее 2!\n"
      ],
      "metadata": {
        "id": "b_XK9XtKOyBC"
      }
    },
    {
      "cell_type": "code",
      "source": [
        "M = np.array([[2, 1], [5, 3]])\n",
        "np.linalg.det(M)"
      ],
      "metadata": {
        "colab": {
          "base_uri": "https://localhost:8080/"
        },
        "id": "5aasNrh0N_SN",
        "outputId": "5029dde7-d94e-486e-b3f1-62385345d44a"
      },
      "execution_count": null,
      "outputs": [
        {
          "output_type": "execute_result",
          "data": {
            "text/plain": [
              "1.0000000000000009"
            ]
          },
          "metadata": {},
          "execution_count": 35
        }
      ]
    }
  ]
}