{
  "nbformat": 4,
  "nbformat_minor": 0,
  "metadata": {
    "colab": {
      "provenance": []
    },
    "kernelspec": {
      "name": "python3",
      "display_name": "Python 3"
    },
    "language_info": {
      "name": "python"
    }
  },
  "cells": [
    {
      "cell_type": "code",
      "execution_count": null,
      "metadata": {
        "id": "ygDPL2tj69ut"
      },
      "outputs": [],
      "source": [
        "import numpy as np\n"
      ]
    },
    {
      "cell_type": "code",
      "source": [
        "film_1 = np.array([0,0,0,0,1,0])      # Игра в имитацию\n",
        "film_2 = np.array([0,1,0,1,0,0])      # Ярость\n",
        "film_3 = np.array([0,0,1,1,1,0])      # 12 лет рабства\n",
        "film_4 = np.array([1,0,0,1,0,1])      # Однажды в Голливуде"
      ],
      "metadata": {
        "id": "RgV13-6h7jh6"
      },
      "execution_count": null,
      "outputs": []
    },
    {
      "cell_type": "markdown",
      "source": [
        "Уровень 0\n",
        "####Задание 1\n",
        "\n",
        "Найти угол между векторами-фильмами \"Ярость\" и \"12 лет рабства\". Результатом будет являться косинусная мера, которую можно использовать для определения похожести векторов.\n"
      ],
      "metadata": {
        "id": "kBq-5bPL7pTc"
      }
    },
    {
      "cell_type": "code",
      "source": [
        "# скалярное произведение векторов делится на произведение нормализованных по Евклиду векторов (это косинусная мера), от этой величины берется арккосинус и переводится в градусы из радиан\n",
        "np.rad2deg(np.arccos(np.dot(film_2, film_3)/(np.linalg.norm(film_2)*np.linalg.norm(film_3))))"
      ],
      "metadata": {
        "colab": {
          "base_uri": "https://localhost:8080/"
        },
        "id": "Sl_IrfZK7oqj",
        "outputId": "49f1b551-ea7f-4acb-8f5a-f08dc8b73674"
      },
      "execution_count": null,
      "outputs": [
        {
          "output_type": "execute_result",
          "data": {
            "text/plain": [
              "65.90515744788931"
            ]
          },
          "metadata": {},
          "execution_count": 9
        }
      ]
    },
    {
      "cell_type": "markdown",
      "source": [
        "\n",
        "Уровень 1:\n",
        "####Задание 2\n",
        "\n",
        "Вычислить с помощью Python значение первой производной для функции\n",
        "в точке"
      ],
      "metadata": {
        "id": "or_fUnam7850"
      }
    },
    {
      "cell_type": "code",
      "source": [
        "import sympy as sym"
      ],
      "metadata": {
        "id": "XJD4IYqi78Kd"
      },
      "execution_count": null,
      "outputs": []
    },
    {
      "cell_type": "code",
      "source": [
        "x = sym.Symbol ('x') # задается параметр функции"
      ],
      "metadata": {
        "id": "pw5jTQNNIrTP"
      },
      "execution_count": null,
      "outputs": []
    },
    {
      "cell_type": "code",
      "source": [
        "result = sym.diff(3*x*(x**2 + x)**3, x) # вычисление производной относительно x"
      ],
      "metadata": {
        "id": "j_BF0-euJaN2"
      },
      "execution_count": null,
      "outputs": []
    },
    {
      "cell_type": "code",
      "source": [
        "result"
      ],
      "metadata": {
        "id": "9ZVU2MwQ_JF6",
        "outputId": "7ebb5f01-58f4-49d8-d620-cce9db057c88",
        "colab": {
          "base_uri": "https://localhost:8080/",
          "height": 42
        }
      },
      "execution_count": null,
      "outputs": [
        {
          "output_type": "execute_result",
          "data": {
            "text/plain": [
              "3*x*(6*x + 3)*(x**2 + x)**2 + 3*(x**2 + x)**3"
            ],
            "text/latex": "$\\displaystyle 3 x \\left(6 x + 3\\right) \\left(x^{2} + x\\right)^{2} + 3 \\left(x^{2} + x\\right)^{3}$"
          },
          "metadata": {},
          "execution_count": 5
        }
      ]
    },
    {
      "cell_type": "code",
      "source": [
        "result.subs(x, 1) # вычисление значения производной в точке x=1"
      ],
      "metadata": {
        "colab": {
          "base_uri": "https://localhost:8080/",
          "height": 37
        },
        "id": "5pS_aZnVJo5s",
        "outputId": "e12456c0-fa7e-44cd-df90-99dd5242656b"
      },
      "execution_count": null,
      "outputs": [
        {
          "output_type": "execute_result",
          "data": {
            "text/plain": [
              "132"
            ],
            "text/latex": "$\\displaystyle 132$"
          },
          "metadata": {},
          "execution_count": 6
        }
      ]
    },
    {
      "cell_type": "markdown",
      "source": [
        "\n",
        "####Задание 3\n",
        "\n",
        "Объединить векторы фильмов в матрицу, где каждый вектор является строкой матрицы. Умножьте вектор [1,2,3,4] на полученную матрицу\n"
      ],
      "metadata": {
        "id": "_oZMtdn38A7K"
      }
    },
    {
      "cell_type": "code",
      "source": [
        "v = np.array([1, 2, 3, 4])\n",
        "A = np.array([film_1, film_2, film_3, film_4])\n"
      ],
      "metadata": {
        "id": "VN2GI5jd8HA-"
      },
      "execution_count": null,
      "outputs": []
    },
    {
      "cell_type": "code",
      "source": [
        "# умножение вектора на столбец\n",
        "np.dot(v, A)"
      ],
      "metadata": {
        "colab": {
          "base_uri": "https://localhost:8080/"
        },
        "id": "6GKjUCy2G7ho",
        "outputId": "7337c50d-8430-43c5-8d12-e258712f295e"
      },
      "execution_count": null,
      "outputs": [
        {
          "output_type": "execute_result",
          "data": {
            "text/plain": [
              "array([4, 2, 3, 9, 4, 4])"
            ]
          },
          "metadata": {},
          "execution_count": 38
        }
      ]
    }
  ]
}