{
  "nbformat": 4,
  "nbformat_minor": 0,
  "metadata": {
    "colab": {
      "provenance": [],
      "toc_visible": true,
      "gpuType": "T4"
    },
    "kernelspec": {
      "name": "python3",
      "display_name": "Python 3"
    },
    "language_info": {
      "name": "python"
    },
    "accelerator": "GPU"
  },
  "cells": [
    {
      "cell_type": "markdown",
      "source": [
        "# Домашнее задание к занятию \"Многослойная нейронная сеть\""
      ],
      "metadata": {
        "id": "8WycERbRL1vg"
      }
    },
    {
      "cell_type": "markdown",
      "source": [
        "Задание\n",
        "\n",
        "Постройте модель на основе полносвязных слоёв для классификации Fashion MNIST из библиотеки torchvision ( [datasets](https://pytorch.org/vision/stable/datasets.html)).\n",
        "Получите качество на тестовой выборке не ниже 88%\n",
        "\n",
        "Инструкция по выполнению задания:\n",
        "\n",
        "* Скачайте тренировочную и тестовою часть датасета\n",
        "* Постройте модель, выбрав стартовую архитектуру\n",
        "* Обучите модель и сверьте качество на тестовой части с заданным порогом\n",
        "* Изменяйте архитектуру модели пока качество на тестовой части не будет выше порога.\n",
        "* Вариации архитектуры можно реализовать через изменение количества слоёв, количества нейронов в слоях и использование регуляризации. Можно использовать различные оптимизаторы.\n"
      ],
      "metadata": {
        "id": "VyfwsCBxL48i"
      }
    },
    {
      "cell_type": "markdown",
      "source": [
        "### Импорт библиотек"
      ],
      "metadata": {
        "id": "Cj4_ta2HMst_"
      }
    },
    {
      "cell_type": "code",
      "execution_count": null,
      "metadata": {
        "id": "Zd2bf262LoTt"
      },
      "outputs": [],
      "source": [
        "import matplotlib.pyplot as plt\n",
        "%matplotlib inline\n",
        "import torch\n",
        "import numpy as np\n",
        "import torchvision as tv\n",
        "import pandas as pd\n",
        "from torch.utils.data import Dataset, DataLoader\n",
        "import torch.nn as nn\n",
        "import torch.nn.functional as F\n",
        "import time\n"
      ]
    },
    {
      "cell_type": "markdown",
      "source": [
        "### Загрузка данных"
      ],
      "metadata": {
        "id": "iiExGrkENHCp"
      }
    },
    {
      "cell_type": "code",
      "source": [
        "BATCH_SIZE=128"
      ],
      "metadata": {
        "id": "NPs5Cwj6Niw5"
      },
      "execution_count": null,
      "outputs": []
    },
    {
      "cell_type": "code",
      "source": [
        "train_dataset = tv.datasets.FashionMNIST('.', train=True, transform=tv.transforms.ToTensor(), download=True)\n",
        "test_dataset = tv.datasets.FashionMNIST('.', train=False, transform=tv.transforms.ToTensor(), download=True)\n",
        "train = torch.utils.data.DataLoader(train_dataset, batch_size=BATCH_SIZE)\n",
        "test = torch.utils.data.DataLoader(test_dataset, batch_size=BATCH_SIZE)"
      ],
      "metadata": {
        "colab": {
          "base_uri": "https://localhost:8080/"
        },
        "id": "E-LSuFZeNKPq",
        "outputId": "2086aadb-e9c9-4eac-cf2d-2e93c4ab860e"
      },
      "execution_count": null,
      "outputs": [
        {
          "output_type": "stream",
          "name": "stdout",
          "text": [
            "Downloading http://fashion-mnist.s3-website.eu-central-1.amazonaws.com/train-images-idx3-ubyte.gz\n",
            "Downloading http://fashion-mnist.s3-website.eu-central-1.amazonaws.com/train-images-idx3-ubyte.gz to ./FashionMNIST/raw/train-images-idx3-ubyte.gz\n"
          ]
        },
        {
          "output_type": "stream",
          "name": "stderr",
          "text": [
            "100%|██████████| 26421880/26421880 [00:02<00:00, 12814335.43it/s]\n"
          ]
        },
        {
          "output_type": "stream",
          "name": "stdout",
          "text": [
            "Extracting ./FashionMNIST/raw/train-images-idx3-ubyte.gz to ./FashionMNIST/raw\n",
            "\n",
            "Downloading http://fashion-mnist.s3-website.eu-central-1.amazonaws.com/train-labels-idx1-ubyte.gz\n",
            "Downloading http://fashion-mnist.s3-website.eu-central-1.amazonaws.com/train-labels-idx1-ubyte.gz to ./FashionMNIST/raw/train-labels-idx1-ubyte.gz\n"
          ]
        },
        {
          "output_type": "stream",
          "name": "stderr",
          "text": [
            "100%|██████████| 29515/29515 [00:00<00:00, 212503.70it/s]\n"
          ]
        },
        {
          "output_type": "stream",
          "name": "stdout",
          "text": [
            "Extracting ./FashionMNIST/raw/train-labels-idx1-ubyte.gz to ./FashionMNIST/raw\n",
            "\n",
            "Downloading http://fashion-mnist.s3-website.eu-central-1.amazonaws.com/t10k-images-idx3-ubyte.gz\n",
            "Downloading http://fashion-mnist.s3-website.eu-central-1.amazonaws.com/t10k-images-idx3-ubyte.gz to ./FashionMNIST/raw/t10k-images-idx3-ubyte.gz\n"
          ]
        },
        {
          "output_type": "stream",
          "name": "stderr",
          "text": [
            "100%|██████████| 4422102/4422102 [00:01<00:00, 4015977.64it/s]\n"
          ]
        },
        {
          "output_type": "stream",
          "name": "stdout",
          "text": [
            "Extracting ./FashionMNIST/raw/t10k-images-idx3-ubyte.gz to ./FashionMNIST/raw\n",
            "\n",
            "Downloading http://fashion-mnist.s3-website.eu-central-1.amazonaws.com/t10k-labels-idx1-ubyte.gz\n",
            "Downloading http://fashion-mnist.s3-website.eu-central-1.amazonaws.com/t10k-labels-idx1-ubyte.gz to ./FashionMNIST/raw/t10k-labels-idx1-ubyte.gz\n"
          ]
        },
        {
          "output_type": "stream",
          "name": "stderr",
          "text": [
            "100%|██████████| 5148/5148 [00:00<00:00, 5048463.17it/s]"
          ]
        },
        {
          "output_type": "stream",
          "name": "stdout",
          "text": [
            "Extracting ./FashionMNIST/raw/t10k-labels-idx1-ubyte.gz to ./FashionMNIST/raw\n",
            "\n"
          ]
        },
        {
          "output_type": "stream",
          "name": "stderr",
          "text": [
            "\n"
          ]
        }
      ]
    },
    {
      "cell_type": "code",
      "source": [
        "device = torch.device('cuda' if torch.cuda.is_available() else 'cpu')\n",
        "print(device)"
      ],
      "metadata": {
        "colab": {
          "base_uri": "https://localhost:8080/"
        },
        "id": "boyykBnjNorS",
        "outputId": "db8c2680-1f3d-4d3b-989e-430a918fc45a"
      },
      "execution_count": null,
      "outputs": [
        {
          "output_type": "stream",
          "name": "stdout",
          "text": [
            "cuda\n"
          ]
        }
      ]
    },
    {
      "cell_type": "markdown",
      "source": [
        "### отрисовка классов"
      ],
      "metadata": {
        "id": "p8D9sFY3WvPY"
      }
    },
    {
      "cell_type": "code",
      "source": [
        "def output_label(label):\n",
        "    output_mapping = {\n",
        "                 0: \"T-shirt/Top\",\n",
        "                 1: \"Trouser\",\n",
        "                 2: \"Pullover\",\n",
        "                 3: \"Dress\",\n",
        "                 4: \"Coat\",\n",
        "                 5: \"Sandal\",\n",
        "                 6: \"Shirt\",\n",
        "                 7: \"Sneaker\",\n",
        "                 8: \"Bag\",\n",
        "                 9: \"Ankle Boot\"\n",
        "                 }\n",
        "    input = (label.item() if type(label) == torch.Tensor else label)\n",
        "    return output_mapping[input]"
      ],
      "metadata": {
        "id": "2YBGBLPpS_xr"
      },
      "execution_count": null,
      "outputs": []
    },
    {
      "cell_type": "code",
      "source": [
        "a = output_label(0)\n",
        "a"
      ],
      "metadata": {
        "colab": {
          "base_uri": "https://localhost:8080/",
          "height": 36
        },
        "id": "J13uGxSdU1rl",
        "outputId": "207c46ff-553e-4218-c461-f2c257b81f24"
      },
      "execution_count": null,
      "outputs": [
        {
          "output_type": "execute_result",
          "data": {
            "text/plain": [
              "'T-shirt/Top'"
            ],
            "application/vnd.google.colaboratory.intrinsic+json": {
              "type": "string"
            }
          },
          "metadata": {},
          "execution_count": 8
        }
      ]
    },
    {
      "cell_type": "code",
      "source": [
        "a = next(iter(train))\n",
        "a[0].size()"
      ],
      "metadata": {
        "colab": {
          "base_uri": "https://localhost:8080/"
        },
        "id": "DIUmDClNTLYP",
        "outputId": "f464515b-a805-49b5-e8e0-359f661c0886"
      },
      "execution_count": null,
      "outputs": [
        {
          "output_type": "execute_result",
          "data": {
            "text/plain": [
              "torch.Size([128, 1, 28, 28])"
            ]
          },
          "metadata": {},
          "execution_count": 9
        }
      ]
    },
    {
      "cell_type": "code",
      "source": [
        "len(train_dataset)"
      ],
      "metadata": {
        "colab": {
          "base_uri": "https://localhost:8080/"
        },
        "id": "DWr86gfjTU14",
        "outputId": "8e05d0ad-5bd1-4ee9-fca8-6fd3a40b1e44"
      },
      "execution_count": null,
      "outputs": [
        {
          "output_type": "execute_result",
          "data": {
            "text/plain": [
              "60000"
            ]
          },
          "metadata": {},
          "execution_count": 10
        }
      ]
    },
    {
      "cell_type": "code",
      "source": [
        "image, label = next(iter(train_dataset))\n",
        "plt.imshow(image.squeeze(), cmap=\"gray\")\n",
        "print(label)"
      ],
      "metadata": {
        "colab": {
          "base_uri": "https://localhost:8080/",
          "height": 448
        },
        "id": "tesmz_NsTedg",
        "outputId": "f4683524-17aa-4afd-db43-438a9241e7da"
      },
      "execution_count": null,
      "outputs": [
        {
          "output_type": "stream",
          "name": "stdout",
          "text": [
            "9\n"
          ]
        },
        {
          "output_type": "display_data",
          "data": {
            "text/plain": [
              "<Figure size 640x480 with 1 Axes>"
            ],
            "image/png": "[encoded data removed]"
          },
          "metadata": {}
        }
      ]
    },
    {
      "cell_type": "code",
      "source": [
        "demo_loader = torch.utils.data.DataLoader(train_dataset, batch_size=10)\n",
        "\n",
        "batch = next(iter(demo_loader))\n",
        "images, labels = batch\n",
        "print(type(images), type(labels))\n",
        "print(images.shape, labels.shape)"
      ],
      "metadata": {
        "colab": {
          "base_uri": "https://localhost:8080/"
        },
        "id": "rIWDZKriTvIu",
        "outputId": "e3c012d1-ab0a-47d4-aced-03d58aa09f4f"
      },
      "execution_count": null,
      "outputs": [
        {
          "output_type": "stream",
          "name": "stdout",
          "text": [
            "<class 'torch.Tensor'> <class 'torch.Tensor'>\n",
            "torch.Size([10, 1, 28, 28]) torch.Size([10])\n"
          ]
        }
      ]
    },
    {
      "cell_type": "code",
      "source": [
        "grid = tv.utils.make_grid(images, nrow=10)\n",
        "\n",
        "plt.figure(figsize=(15, 20))\n",
        "plt.imshow(np.transpose(grid, (1, 2, 0)))\n",
        "print(\"labels: \", end=\" \")\n",
        "for i, label in enumerate(labels):\n",
        "    print(output_label(label), end=\", \")"
      ],
      "metadata": {
        "colab": {
          "base_uri": "https://localhost:8080/",
          "height": 179
        },
        "id": "_RecRCsIT6qB",
        "outputId": "d3b7997f-c587-4a2b-e2aa-d27953fa74ee"
      },
      "execution_count": null,
      "outputs": [
        {
          "output_type": "stream",
          "name": "stdout",
          "text": [
            "labels:  Ankle Boot, T-shirt/Top, T-shirt/Top, Dress, T-shirt/Top, Pullover, Sneaker, Pullover, Sandal, Sandal, "
          ]
        },
        {
          "output_type": "display_data",
          "data": {
            "text/plain": [
              "<Figure size 1500x2000 with 1 Axes>"
            ],
            "image/png": "[encoded data removed]"
          },
          "metadata": {}
        }
      ]
    },
    {
      "cell_type": "markdown",
      "source": [
        "### Класс для создания стартовой сети"
      ],
      "metadata": {
        "id": "qzr6qKldRPuV"
      }
    },
    {
      "cell_type": "code",
      "source": [
        "class FashionMnist(nn.Module):\n",
        "\n",
        "    def __init__(self):\n",
        "        super(FashionMnist, self).__init__()\n",
        "        self.flt = nn.Flatten()\n",
        "        self.fn1 = nn.Linear(784, 256)\n",
        "        self.fn2 = nn.Linear(256, 10)\n",
        "\n",
        "    def forward(self, x):\n",
        "        x = self.flt(x)\n",
        "        x = self.fn1(x)\n",
        "        x = F.relu(self.fn2(x))\n",
        "\n",
        "        return x\n",
        "\n",
        "\n",
        "\n",
        "model = FashionMnist()\n",
        "model.to(device)"
      ],
      "metadata": {
        "colab": {
          "base_uri": "https://localhost:8080/"
        },
        "id": "RZkFvZDkRLI_",
        "outputId": "3e8c2760-a5d2-4c73-bffd-77e6ba25c44f"
      },
      "execution_count": null,
      "outputs": [
        {
          "output_type": "execute_result",
          "data": {
            "text/plain": [
              "FashionMnist(\n",
              "  (flt): Flatten(start_dim=1, end_dim=-1)\n",
              "  (fn1): Linear(in_features=784, out_features=256, bias=True)\n",
              "  (fn2): Linear(in_features=256, out_features=10, bias=True)\n",
              ")"
            ]
          },
          "metadata": {},
          "execution_count": 12
        }
      ]
    },
    {
      "cell_type": "code",
      "source": [
        "# инициализация функции потерь и оптимизатора\n",
        "loss = torch.nn.CrossEntropyLoss()\n",
        "trainer = torch.optim.SGD(model.parameters(), lr=.01)\n",
        "num_epochs = 10"
      ],
      "metadata": {
        "id": "kkPQp0NaUyJl"
      },
      "execution_count": null,
      "outputs": []
    },
    {
      "cell_type": "markdown",
      "source": [
        "### Функция обучения"
      ],
      "metadata": {
        "id": "9UdMX74LVQXI"
      }
    },
    {
      "cell_type": "code",
      "source": [
        "def train_model():\n",
        "    for ep in range(num_epochs):\n",
        "        train_iters, train_passed  = 0, 0\n",
        "        train_loss, train_acc = 0., 0.\n",
        "        start=time.time()\n",
        "\n",
        "        model.train()\n",
        "        for X, y in train:\n",
        "            X = X.to(device)\n",
        "            y = y.to(device)\n",
        "            trainer.zero_grad()\n",
        "            y_pred = model(X)\n",
        "            l = loss(y_pred, y)\n",
        "            l.backward()\n",
        "            trainer.step()\n",
        "            train_loss += l.item()\n",
        "            train_acc += (y_pred.argmax(dim=1) == y).sum().item()\n",
        "            train_iters += 1\n",
        "            train_passed += len(X)\n",
        "\n",
        "        test_iters, test_passed  = 0, 0\n",
        "        test_loss, test_acc = 0., 0.\n",
        "        model.eval()\n",
        "        for X, y in test:\n",
        "            X = X.to(device)\n",
        "            y = y.to(device)\n",
        "            y_pred = model(X)\n",
        "            l = loss(y_pred, y)\n",
        "            test_loss += l.item()\n",
        "            test_acc += (y_pred.argmax(dim=1) == y).sum().item()\n",
        "            test_iters += 1\n",
        "            test_passed += len(X)\n",
        "\n",
        "        print(\"ep: {}, taked: {:.3f}, train_loss: {}, train_acc: {}%, test_loss: {}, test_acc: {}%,\".format(\n",
        "            ep, time.time() - start, train_loss / train_iters, round(((train_acc/ train_passed)*100), 2),\n",
        "            test_loss / test_iters, round(((test_acc/ test_passed)*100), 2))\n",
        "        )"
      ],
      "metadata": {
        "id": "JqJnG9YWVAgQ"
      },
      "execution_count": null,
      "outputs": []
    },
    {
      "cell_type": "code",
      "source": [
        "train_model()"
      ],
      "metadata": {
        "colab": {
          "base_uri": "https://localhost:8080/"
        },
        "id": "ZZRjuMYiWVbZ",
        "outputId": "a01b7958-676d-4ed7-a162-f4badee50397"
      },
      "execution_count": null,
      "outputs": [
        {
          "output_type": "stream",
          "name": "stdout",
          "text": [
            "ep: 0, taked: 10.566, train_loss: 1.6855292935361232, train_acc: 47.61%, test_loss: 1.4038858640043042, test_acc: 52.97%,\n",
            "ep: 1, taked: 7.028, train_loss: 1.3263173347343005, train_acc: 56.38%, test_loss: 1.2745217960092086, test_acc: 57.46%,\n",
            "ep: 2, taked: 7.706, train_loss: 1.2393294350424808, train_acc: 59.16%, test_loss: 1.2158931010886083, test_acc: 59.42%,\n",
            "ep: 3, taked: 7.788, train_loss: 1.19261756571117, train_acc: 60.39%, test_loss: 1.181278559226024, test_acc: 60.22%,\n",
            "ep: 4, taked: 7.006, train_loss: 1.16279381259418, train_acc: 61.04%, test_loss: 1.1583273395707336, test_acc: 60.77%,\n",
            "ep: 5, taked: 7.680, train_loss: 1.1055218027090468, train_acc: 61.69%, test_loss: 1.030923540079141, test_acc: 62.14%,\n",
            "ep: 6, taked: 7.410, train_loss: 0.997698398414197, train_acc: 63.36%, test_loss: 0.9968861462194708, test_acc: 63.18%,\n",
            "ep: 7, taked: 7.247, train_loss: 0.9707000972365519, train_acc: 64.39%, test_loss: 0.9771620140799994, test_acc: 63.84%,\n",
            "ep: 8, taked: 7.898, train_loss: 0.9521105720290243, train_acc: 65.09%, test_loss: 0.9622370993034749, test_acc: 64.41%,\n",
            "ep: 9, taked: 7.281, train_loss: 0.9375462370640688, train_acc: 65.54%, test_loss: 0.9502858112129984, test_acc: 64.64%,\n"
          ]
        }
      ]
    },
    {
      "cell_type": "markdown",
      "source": [
        "### Подбор параметров сети для улучшения показателей обучения"
      ],
      "metadata": {
        "id": "mPucNaj5Luk5"
      }
    },
    {
      "cell_type": "markdown",
      "source": [
        "#### изменение оптимизатора"
      ],
      "metadata": {
        "id": "DmP24yDH37k-"
      }
    },
    {
      "cell_type": "code",
      "source": [
        "loss = torch.nn.CrossEntropyLoss()\n",
        "trainer = torch.optim.Adam(model.parameters(), lr=1e-3, betas=(0.9, 0.99))\n",
        "\n",
        "num_epochs = 10"
      ],
      "metadata": {
        "id": "wF3CyLru1gVx"
      },
      "execution_count": null,
      "outputs": []
    },
    {
      "cell_type": "code",
      "source": [
        "train_model()"
      ],
      "metadata": {
        "colab": {
          "base_uri": "https://localhost:8080/"
        },
        "id": "K67NZ8Fc3Y7i",
        "outputId": "bcaa4cdf-9a64-4fa6-d4f7-ae77d18a11be"
      },
      "execution_count": null,
      "outputs": [
        {
          "output_type": "stream",
          "name": "stdout",
          "text": [
            "ep: 0, taked: 7.273, train_loss: 0.5295253286737878, train_acc: 81.57%, test_loss: 0.5390367673922188, test_acc: 81.2%,\n",
            "ep: 1, taked: 7.949, train_loss: 0.4454728241032883, train_acc: 84.39%, test_loss: 0.477006268274935, test_acc: 83.39%,\n",
            "ep: 2, taked: 7.572, train_loss: 0.4292883011323811, train_acc: 84.97%, test_loss: 0.466237548408629, test_acc: 83.92%,\n",
            "ep: 3, taked: 7.483, train_loss: 0.419329587171581, train_acc: 85.36%, test_loss: 0.46327964829493173, test_acc: 83.97%,\n",
            "ep: 4, taked: 7.907, train_loss: 0.41177430186571595, train_acc: 85.58%, test_loss: 0.45914543542680863, test_acc: 83.97%,\n",
            "ep: 5, taked: 7.376, train_loss: 0.40603796886736904, train_acc: 85.75%, test_loss: 0.45712681699402724, test_acc: 83.94%,\n",
            "ep: 6, taked: 7.926, train_loss: 0.4013789278040054, train_acc: 85.91%, test_loss: 0.45581646508808377, test_acc: 84.1%,\n",
            "ep: 7, taked: 8.089, train_loss: 0.3977846408894321, train_acc: 86.04%, test_loss: 0.4558759663678423, test_acc: 84.16%,\n",
            "ep: 8, taked: 7.317, train_loss: 0.39478334870292686, train_acc: 86.06%, test_loss: 0.4572471931010862, test_acc: 84.2%,\n",
            "ep: 9, taked: 8.012, train_loss: 0.3922506003046849, train_acc: 86.11%, test_loss: 0.45969036711922173, test_acc: 84.14%,\n"
          ]
        }
      ]
    },
    {
      "cell_type": "code",
      "source": [
        "trainer = torch.optim.RMSprop(model.parameters(), lr=0.01)"
      ],
      "metadata": {
        "id": "O0yH9vN85Br6"
      },
      "execution_count": null,
      "outputs": []
    },
    {
      "cell_type": "code",
      "source": [
        "train_model()"
      ],
      "metadata": {
        "colab": {
          "base_uri": "https://localhost:8080/"
        },
        "id": "rMwL4wZM6Qkc",
        "outputId": "ecbdb0e1-5b10-418b-fce5-2ab95d6f5cbc"
      },
      "execution_count": null,
      "outputs": [
        {
          "output_type": "stream",
          "name": "stdout",
          "text": [
            "ep: 0, taked: 10.934, train_loss: 7.971532508826205, train_acc: 16.67%, test_loss: 2.3024603203882146, test_acc: 10.01%,\n",
            "ep: 1, taked: 10.699, train_loss: 4.842534008310802, train_acc: 10.13%, test_loss: 2.3025853633880615, test_acc: 10.0%,\n",
            "ep: 2, taked: 10.644, train_loss: 2.3025853633880615, train_acc: 10.0%, test_loss: 2.3025853633880615, test_acc: 10.0%,\n",
            "ep: 3, taked: 10.727, train_loss: 2.3025853633880615, train_acc: 10.0%, test_loss: 2.3025853633880615, test_acc: 10.0%,\n",
            "ep: 4, taked: 11.725, train_loss: 2.3025853633880615, train_acc: 10.0%, test_loss: 2.3025853633880615, test_acc: 10.0%,\n",
            "ep: 5, taked: 10.606, train_loss: 2.3025853633880615, train_acc: 10.0%, test_loss: 2.3025853633880615, test_acc: 10.0%,\n",
            "ep: 6, taked: 9.887, train_loss: 2.3025853633880615, train_acc: 10.0%, test_loss: 2.3025853633880615, test_acc: 10.0%,\n",
            "ep: 7, taked: 10.812, train_loss: 2.3025853633880615, train_acc: 10.0%, test_loss: 2.3025853633880615, test_acc: 10.0%,\n",
            "ep: 8, taked: 10.785, train_loss: 2.3025853633880615, train_acc: 10.0%, test_loss: 2.3025853633880615, test_acc: 10.0%,\n",
            "ep: 9, taked: 10.805, train_loss: 2.3025853633880615, train_acc: 10.0%, test_loss: 2.3025853633880615, test_acc: 10.0%,\n"
          ]
        }
      ]
    },
    {
      "cell_type": "markdown",
      "source": [
        "#### добавление Dropout"
      ],
      "metadata": {
        "id": "lMQDC63-4FLm"
      }
    },
    {
      "cell_type": "code",
      "source": [
        "# классс с добавлением Dropout слоев\n",
        "class FashionMnist(nn.Module):\n",
        "\n",
        "    def __init__(self):\n",
        "        super(FashionMnist, self).__init__()\n",
        "        self.flt = nn.Flatten()\n",
        "        self.fn1 = nn.Linear(784, 2560)\n",
        "        self.act1 = nn.ReLU()\n",
        "        self.dropout1 =  nn.Dropout(p=0.5, inplace=False)\n",
        "        self.fn2 = nn.Linear(2560, 1280)\n",
        "        self.act2 = nn.ReLU()\n",
        "        self.dropout2 =  nn.Dropout(p=0.5, inplace=False)\n",
        "        self.fn3 = nn.Linear(1280, 640)\n",
        "        self.act3 = nn.ReLU()\n",
        "        self.dropout3 =  nn.Dropout(p=0.5, inplace=False)\n",
        "        self.fn4 = nn.Linear(640, 10)\n",
        "\n",
        "    def forward(self, x):\n",
        "        x = self.flt(x)\n",
        "        x = self.act1(self.fn1(x))\n",
        "        x = self.dropout1(x)\n",
        "        x = self.act2(self.fn2(x))\n",
        "        x = self.dropout2(x)\n",
        "        x = self.act2(self.fn3(x))\n",
        "        x = self.dropout3(x)\n",
        "        x = self.fn4(x)\n",
        "\n",
        "        return x\n",
        "\n",
        "model = FashionMnist()\n",
        "model.to(device)"
      ],
      "metadata": {
        "colab": {
          "base_uri": "https://localhost:8080/"
        },
        "id": "2-OZuc3R4J-g",
        "outputId": "68b0c347-b69b-4e7a-9a9b-b9f60e4a62f8"
      },
      "execution_count": null,
      "outputs": [
        {
          "output_type": "execute_result",
          "data": {
            "text/plain": [
              "FashionMnist(\n",
              "  (flt): Flatten(start_dim=1, end_dim=-1)\n",
              "  (fn1): Linear(in_features=784, out_features=2560, bias=True)\n",
              "  (act1): ReLU()\n",
              "  (dropout1): Dropout(p=0.5, inplace=False)\n",
              "  (fn2): Linear(in_features=2560, out_features=1280, bias=True)\n",
              "  (act2): ReLU()\n",
              "  (dropout2): Dropout(p=0.5, inplace=False)\n",
              "  (fn3): Linear(in_features=1280, out_features=640, bias=True)\n",
              "  (act3): ReLU()\n",
              "  (dropout3): Dropout(p=0.5, inplace=False)\n",
              "  (fn5): Linear(in_features=640, out_features=10, bias=True)\n",
              ")"
            ]
          },
          "metadata": {},
          "execution_count": 22
        }
      ]
    },
    {
      "cell_type": "code",
      "source": [
        "trainer = torch.optim.Adam(model.parameters(), lr=1e-3, betas=(0.9, 0.99))\n",
        "num_epochs = 20\n",
        "train_model()"
      ],
      "metadata": {
        "colab": {
          "base_uri": "https://localhost:8080/"
        },
        "id": "VGXr9m0U9dI0",
        "outputId": "f5fbf794-1720-42b8-d4cc-099966c6f98f"
      },
      "execution_count": null,
      "outputs": [
        {
          "output_type": "stream",
          "name": "stdout",
          "text": [
            "ep: 0, taked: 9.218, train_loss: 0.3684044415190784, train_acc: 87.11%, test_loss: 0.36052990808517116, test_acc: 87.55%,\n",
            "ep: 1, taked: 9.158, train_loss: 0.3537338802110412, train_acc: 87.42%, test_loss: 0.36126564065866834, test_acc: 87.73%,\n",
            "ep: 2, taked: 9.216, train_loss: 0.3550036941319386, train_acc: 87.51%, test_loss: 0.3640012067707279, test_acc: 87.73%,\n",
            "ep: 3, taked: 8.574, train_loss: 0.34476634462886274, train_acc: 87.83%, test_loss: 0.355923496658289, test_acc: 87.98%,\n",
            "ep: 4, taked: 9.127, train_loss: 0.34492552493299755, train_acc: 87.79%, test_loss: 0.3546910759391664, test_acc: 88.02%,\n",
            "ep: 5, taked: 9.108, train_loss: 0.3402095564456383, train_acc: 87.95%, test_loss: 0.3528236827895611, test_acc: 87.46%,\n",
            "ep: 6, taked: 9.229, train_loss: 0.34204176595724467, train_acc: 87.93%, test_loss: 0.3619977688487572, test_acc: 87.73%,\n",
            "ep: 7, taked: 9.149, train_loss: 0.3386823212477698, train_acc: 88.13%, test_loss: 0.3572012104942829, test_acc: 87.94%,\n",
            "ep: 8, taked: 9.090, train_loss: 0.33850179142408027, train_acc: 88.08%, test_loss: 0.3534750006621397, test_acc: 88.01%,\n",
            "ep: 9, taked: 9.241, train_loss: 0.3379513243558819, train_acc: 88.08%, test_loss: 0.3668413880882384, test_acc: 87.36%,\n",
            "ep: 10, taked: 9.240, train_loss: 0.3305248930128907, train_acc: 88.21%, test_loss: 0.3618496650759178, test_acc: 87.67%,\n",
            "ep: 11, taked: 8.523, train_loss: 0.33458418168747095, train_acc: 88.34%, test_loss: 0.3628173259240163, test_acc: 88.08%,\n",
            "ep: 12, taked: 9.178, train_loss: 0.32984279394785226, train_acc: 88.55%, test_loss: 0.370591682157939, test_acc: 88.25%,\n",
            "ep: 13, taked: 9.158, train_loss: 0.32869003999080737, train_acc: 88.43%, test_loss: 0.3624038243595558, test_acc: 88.62%,\n",
            "ep: 14, taked: 9.138, train_loss: 0.32469814618640364, train_acc: 88.56%, test_loss: 0.3550851462008078, test_acc: 88.53%,\n",
            "ep: 15, taked: 8.606, train_loss: 0.32581472952864066, train_acc: 88.5%, test_loss: 0.38602904126613957, test_acc: 87.29%,\n",
            "ep: 16, taked: 13.775, train_loss: 0.3279263403878283, train_acc: 88.47%, test_loss: 0.37444694642024706, test_acc: 88.19%,\n",
            "ep: 17, taked: 10.130, train_loss: 0.32495517819039604, train_acc: 88.53%, test_loss: 0.39550559128387064, test_acc: 87.56%,\n",
            "ep: 18, taked: 10.739, train_loss: 0.32408964967549736, train_acc: 88.63%, test_loss: 0.374045312027388, test_acc: 88.1%,\n",
            "ep: 19, taked: 9.124, train_loss: 0.324089172488845, train_acc: 88.65%, test_loss: 0.3621388602105877, test_acc: 88.56%,\n"
          ]
        }
      ]
    },
    {
      "cell_type": "markdown",
      "source": [
        "#### добавление BatchNorm"
      ],
      "metadata": {
        "id": "6nw2eiHN4KtZ"
      }
    },
    {
      "cell_type": "code",
      "source": [
        "# классс с добавлением BatchNorm слоев\n",
        "class FashionMnist(nn.Module):\n",
        "\n",
        "    def __init__(self):\n",
        "        super(FashionMnist, self).__init__()\n",
        "        self.flt = nn.Flatten()\n",
        "        self.fn1 = nn.Linear(784, 512)\n",
        "        self.act1 = nn.ReLU()\n",
        "        self.bn1 =  nn.BatchNorm1d(512)\n",
        "        self.fn2 = nn.Linear(512, 256)\n",
        "        self.act2 = nn.ReLU()\n",
        "        self.bn2 =  nn.BatchNorm1d(256)\n",
        "        self.fn3 = nn.Linear(256, 128)\n",
        "        self.act3 = nn.ReLU()\n",
        "        self.bn3 =  nn.BatchNorm1d(128)\n",
        "        self.fn4 = nn.Linear(128, 10)\n",
        "\n",
        "    def forward(self, x):\n",
        "        x = self.flt(x)\n",
        "        x = self.act1(self.fn1(x))\n",
        "        x = self.bn1(x)\n",
        "        x = self.act2(self.fn2(x))\n",
        "        x = self.bn2(x)\n",
        "        x = self.act2(self.fn3(x))\n",
        "        x = self.bn3(x)\n",
        "        x = self.fn4(x)\n",
        "\n",
        "        return x\n",
        "\n",
        "model = FashionMnist()\n",
        "model.to(device)"
      ],
      "metadata": {
        "colab": {
          "base_uri": "https://localhost:8080/"
        },
        "id": "Ywi3EEkM4QiC",
        "outputId": "d23cbd41-1112-4135-b838-e11db318acf0"
      },
      "execution_count": null,
      "outputs": [
        {
          "output_type": "execute_result",
          "data": {
            "text/plain": [
              "FashionMnist(\n",
              "  (flt): Flatten(start_dim=1, end_dim=-1)\n",
              "  (fn1): Linear(in_features=784, out_features=512, bias=True)\n",
              "  (act1): ReLU()\n",
              "  (bn1): BatchNorm1d(512, eps=1e-05, momentum=0.1, affine=True, track_running_stats=True)\n",
              "  (fn2): Linear(in_features=512, out_features=256, bias=True)\n",
              "  (act2): ReLU()\n",
              "  (bn2): BatchNorm1d(256, eps=1e-05, momentum=0.1, affine=True, track_running_stats=True)\n",
              "  (fn3): Linear(in_features=256, out_features=128, bias=True)\n",
              "  (act3): ReLU()\n",
              "  (bn3): BatchNorm1d(128, eps=1e-05, momentum=0.1, affine=True, track_running_stats=True)\n",
              "  (fn4): Linear(in_features=128, out_features=10, bias=True)\n",
              ")"
            ]
          },
          "metadata": {},
          "execution_count": 29
        }
      ]
    },
    {
      "cell_type": "code",
      "source": [
        "train_model()"
      ],
      "metadata": {
        "colab": {
          "base_uri": "https://localhost:8080/"
        },
        "id": "ICNjNipjChwG",
        "outputId": "d8a00ebb-2531-4993-a8b1-24fbad062aae"
      },
      "execution_count": null,
      "outputs": [
        {
          "output_type": "stream",
          "name": "stdout",
          "text": [
            "ep: 0, taked: 7.941, train_loss: 2.378104294795217, train_acc: 13.56%, test_loss: 2.38375282891189, test_acc: 13.92%,\n",
            "ep: 1, taked: 7.482, train_loss: 2.378104294795217, train_acc: 13.56%, test_loss: 2.38375282891189, test_acc: 13.92%,\n",
            "ep: 2, taked: 7.656, train_loss: 2.378104294795217, train_acc: 13.56%, test_loss: 2.38375282891189, test_acc: 13.92%,\n",
            "ep: 3, taked: 7.850, train_loss: 2.378104294795217, train_acc: 13.56%, test_loss: 2.38375282891189, test_acc: 13.92%,\n",
            "ep: 4, taked: 7.261, train_loss: 2.378104294795217, train_acc: 13.56%, test_loss: 2.38375282891189, test_acc: 13.92%,\n",
            "ep: 5, taked: 7.900, train_loss: 2.378104294795217, train_acc: 13.56%, test_loss: 2.38375282891189, test_acc: 13.92%,\n",
            "ep: 6, taked: 7.920, train_loss: 2.378104294795217, train_acc: 13.56%, test_loss: 2.38375282891189, test_acc: 13.92%,\n",
            "ep: 7, taked: 7.248, train_loss: 2.378104294795217, train_acc: 13.56%, test_loss: 2.38375282891189, test_acc: 13.92%,\n",
            "ep: 8, taked: 7.943, train_loss: 2.378104294795217, train_acc: 13.56%, test_loss: 2.38375282891189, test_acc: 13.92%,\n",
            "ep: 9, taked: 7.909, train_loss: 2.378104294795217, train_acc: 13.56%, test_loss: 2.38375282891189, test_acc: 13.92%,\n",
            "ep: 10, taked: 8.137, train_loss: 2.378104294795217, train_acc: 13.56%, test_loss: 2.38375282891189, test_acc: 13.92%,\n",
            "ep: 11, taked: 7.887, train_loss: 2.378104294795217, train_acc: 13.56%, test_loss: 2.38375282891189, test_acc: 13.92%,\n",
            "ep: 12, taked: 8.004, train_loss: 2.378104294795217, train_acc: 13.56%, test_loss: 2.38375282891189, test_acc: 13.92%,\n",
            "ep: 13, taked: 7.305, train_loss: 2.378104294795217, train_acc: 13.56%, test_loss: 2.38375282891189, test_acc: 13.92%,\n",
            "ep: 14, taked: 7.981, train_loss: 2.378104294795217, train_acc: 13.56%, test_loss: 2.38375282891189, test_acc: 13.92%,\n",
            "ep: 15, taked: 7.383, train_loss: 2.378104294795217, train_acc: 13.56%, test_loss: 2.38375282891189, test_acc: 13.92%,\n",
            "ep: 16, taked: 7.622, train_loss: 2.378104294795217, train_acc: 13.56%, test_loss: 2.38375282891189, test_acc: 13.92%,\n",
            "ep: 17, taked: 7.875, train_loss: 2.378104294795217, train_acc: 13.56%, test_loss: 2.38375282891189, test_acc: 13.92%,\n",
            "ep: 18, taked: 7.325, train_loss: 2.378104294795217, train_acc: 13.56%, test_loss: 2.38375282891189, test_acc: 13.92%,\n",
            "ep: 19, taked: 7.832, train_loss: 2.378104294795217, train_acc: 13.56%, test_loss: 2.38375282891189, test_acc: 13.92%,\n"
          ]
        }
      ]
    },
    {
      "cell_type": "markdown",
      "source": [
        "Вывод: лучший результат модель показала с оптимизатором Adam и со слоями Dropout"
      ],
      "metadata": {
        "id": "rE89_HC4EdmI"
      }
    }
  ]
}