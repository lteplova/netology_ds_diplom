{
  "nbformat": 4,
  "nbformat_minor": 0,
  "metadata": {
    "colab": {
      "provenance": [],
      "toc_visible": true
    },
    "kernelspec": {
      "name": "python3",
      "display_name": "Python 3"
    },
    "language_info": {
      "name": "python"
    }
  },
  "cells": [
    {
      "cell_type": "markdown",
      "source": [
        "# Домашнее задание к занятию \"Рекуррентные сети\""
      ],
      "metadata": {
        "id": "Eii5AOyDQsRZ"
      }
    },
    {
      "cell_type": "markdown",
      "source": [
        "Задание 1.\n",
        "Обучите нейронную сеть решать шифр Цезаря.\n",
        "\n",
        "Что необходимо сделать:\n",
        "\n",
        "* Написать алгоритм шифра Цезаря для генерации выборки (сдвиг на К каждой буквы. Например, при сдвиге на 2 буква “А” переходит в букву “В” и тп)\n",
        "* Сделать нейронную сеть\n",
        "* Обучить ее (вход - зашифрованная фраза, выход - дешифрованная фраза)\n",
        "* Проверить качество\n",
        "\n",
        "Задание 2.\n",
        "Выполнить практическую работу из лекционного ноутбука.\n",
        "\n",
        "* Построить RNN-ячейку на основе полносвязных слоев\n",
        "* Применить построенную ячейку для генерации текста с выражениями героев сериала “Симпсоны”\n"
      ],
      "metadata": {
        "id": "5xo-1VtmQwqb"
      }
    },
    {
      "cell_type": "markdown",
      "source": [
        "### импорт библиотек"
      ],
      "metadata": {
        "id": "MtIDlbn9RDbK"
      }
    },
    {
      "cell_type": "code",
      "source": [
        "import pandas as pd\n",
        "import time\n",
        "import torch\n",
        "import re\n",
        "import numpy as np\n",
        "import matplotlib.pyplot as plt\n"
      ],
      "metadata": {
        "id": "aN8YC1dqRHuH"
      },
      "execution_count": null,
      "outputs": []
    },
    {
      "cell_type": "markdown",
      "source": [
        "## Задание 1"
      ],
      "metadata": {
        "id": "CpuOifI9Q-Op"
      }
    },
    {
      "cell_type": "markdown",
      "source": [
        "### Загрузка текста и препроцессинг"
      ],
      "metadata": {
        "id": "EKPuaU_xBaqY"
      }
    },
    {
      "cell_type": "code",
      "source": [
        "df = pd.read_csv('/content/text.txt', sep = '/n', header=None, names = ['original'])\n",
        "df"
      ],
      "metadata": {
        "colab": {
          "base_uri": "https://localhost:8080/",
          "height": 479
        },
        "id": "k9v1pYimdVdg",
        "outputId": "d20b5cf4-0ffb-44f2-ef18-46a784800d62"
      },
      "execution_count": null,
      "outputs": [
        {
          "output_type": "stream",
          "name": "stderr",
          "text": [
            "<ipython-input-3-c1d116b37645>:1: ParserWarning: Falling back to the 'python' engine because the 'c' engine does not support regex separators (separators > 1 char and different from '\\s+' are interpreted as regex); you can avoid this warning by specifying engine='python'.\n",
            "  df = pd.read_csv('/content/text.txt', sep = '/n', header=None, names = ['original'])\n"
          ]
        },
        {
          "output_type": "execute_result",
          "data": {
            "text/plain": [
              "                         original\n",
              "0                           Мцыри\n",
              "1                               1\n",
              "2         Немного лет тому назад,\n",
              "3      Там, где, сливаяся, шумят,\n",
              "4    Обнявшись, будто две сестры,\n",
              "..                            ...\n",
              "774         И что вполголоса поет\n",
              "775      Он мне про милую страну.\n",
              "776      И с этой мыслью я засну,\n",
              "777      И никого не прокляну!..»\n",
              "778                       1839 г.\n",
              "\n",
              "[779 rows x 1 columns]"
            ],
            "text/html": [
              "\n",
              "  <div id=\"df-677e6c44-c041-4625-b0e2-8ccf5e548a29\" class=\"colab-df-container\">\n",
              "    <div>\n",
              "<style scoped>\n",
              "    .dataframe tbody tr th:only-of-type {\n",
              "        vertical-align: middle;\n",
              "    }\n",
              "\n",
              "    .dataframe tbody tr th {\n",
              "        vertical-align: top;\n",
              "    }\n",
              "\n",
              "    .dataframe thead th {\n",
              "        text-align: right;\n",
              "    }\n",
              "</style>\n",
              "<table border=\"1\" class=\"dataframe\">\n",
              "  <thead>\n",
              "    <tr style=\"text-align: right;\">\n",
              "      <th></th>\n",
              "      <th>original</th>\n",
              "    </tr>\n",
              "  </thead>\n",
              "  <tbody>\n",
              "    <tr>\n",
              "      <th>0</th>\n",
              "      <td>Мцыри</td>\n",
              "    </tr>\n",
              "    <tr>\n",
              "      <th>1</th>\n",
              "      <td>1</td>\n",
              "    </tr>\n",
              "    <tr>\n",
              "      <th>2</th>\n",
              "      <td>Немного лет тому назад,</td>\n",
              "    </tr>\n",
              "    <tr>\n",
              "      <th>3</th>\n",
              "      <td>Там, где, сливаяся, шумят,</td>\n",
              "    </tr>\n",
              "    <tr>\n",
              "      <th>4</th>\n",
              "      <td>Обнявшись, будто две сестры,</td>\n",
              "    </tr>\n",
              "    <tr>\n",
              "      <th>...</th>\n",
              "      <td>...</td>\n",
              "    </tr>\n",
              "    <tr>\n",
              "      <th>774</th>\n",
              "      <td>И что вполголоса поет</td>\n",
              "    </tr>\n",
              "    <tr>\n",
              "      <th>775</th>\n",
              "      <td>Он мне про милую страну.</td>\n",
              "    </tr>\n",
              "    <tr>\n",
              "      <th>776</th>\n",
              "      <td>И с этой мыслью я засну,</td>\n",
              "    </tr>\n",
              "    <tr>\n",
              "      <th>777</th>\n",
              "      <td>И никого не прокляну!..»</td>\n",
              "    </tr>\n",
              "    <tr>\n",
              "      <th>778</th>\n",
              "      <td>1839 г.</td>\n",
              "    </tr>\n",
              "  </tbody>\n",
              "</table>\n",
              "<p>779 rows × 1 columns</p>\n",
              "</div>\n",
              "    <div class=\"colab-df-buttons\">\n",
              "\n",
              "  <div class=\"colab-df-container\">\n",
              "    <button class=\"colab-df-convert\" onclick=\"convertToInteractive('df-677e6c44-c041-4625-b0e2-8ccf5e548a29')\"\n",
              "            title=\"Convert this dataframe to an interactive table.\"\n",
              "            style=\"display:none;\">\n",
              "\n",
              "  <svg xmlns=\"http://www.w3.org/2000/svg\" height=\"24px\" viewBox=\"0 -960 960 960\">\n",
              "    <path d=\"M120-120v-720h720v720H120Zm60-500h600v-160H180v160Zm220 220h160v-160H400v160Zm0 220h160v-160H400v160ZM180-400h160v-160H180v160Zm440 0h160v-160H620v160ZM180-180h160v-160H180v160Zm440 0h160v-160H620v160Z\"/>\n",
              "  </svg>\n",
              "    </button>\n",
              "\n",
              "  <style>\n",
              "    .colab-df-container {\n",
              "      display:flex;\n",
              "      gap: 12px;\n",
              "    }\n",
              "\n",
              "    .colab-df-convert {\n",
              "      background-color: #E8F0FE;\n",
              "      border: none;\n",
              "      border-radius: 50%;\n",
              "      cursor: pointer;\n",
              "      display: none;\n",
              "      fill: #1967D2;\n",
              "      height: 32px;\n",
              "      padding: 0 0 0 0;\n",
              "      width: 32px;\n",
              "    }\n",
              "\n",
              "    .colab-df-convert:hover {\n",
              "      background-color: #E2EBFA;\n",
              "      box-shadow: 0px 1px 2px rgba(60, 64, 67, 0.3), 0px 1px 3px 1px rgba(60, 64, 67, 0.15);\n",
              "      fill: #174EA6;\n",
              "    }\n",
              "\n",
              "    .colab-df-buttons div {\n",
              "      margin-bottom: 4px;\n",
              "    }\n",
              "\n",
              "    [theme=dark] .colab-df-convert {\n",
              "      background-color: #3B4455;\n",
              "      fill: #D2E3FC;\n",
              "    }\n",
              "\n",
              "    [theme=dark] .colab-df-convert:hover {\n",
              "      background-color: #434B5C;\n",
              "      box-shadow: 0px 1px 3px 1px rgba(0, 0, 0, 0.15);\n",
              "      filter: drop-shadow(0px 1px 2px rgba(0, 0, 0, 0.3));\n",
              "      fill: #FFFFFF;\n",
              "    }\n",
              "  </style>\n",
              "\n",
              "    <script>\n",
              "      const buttonEl =\n",
              "        document.querySelector('#df-677e6c44-c041-4625-b0e2-8ccf5e548a29 button.colab-df-convert');\n",
              "      buttonEl.style.display =\n",
              "        google.colab.kernel.accessAllowed ? 'block' : 'none';\n",
              "\n",
              "      async function convertToInteractive(key) {\n",
              "        const element = document.querySelector('#df-677e6c44-c041-4625-b0e2-8ccf5e548a29');\n",
              "        const dataTable =\n",
              "          await google.colab.kernel.invokeFunction('convertToInteractive',\n",
              "                                                    [key], {});\n",
              "        if (!dataTable) return;\n",
              "\n",
              "        const docLinkHtml = 'Like what you see? Visit the ' +\n",
              "          '<a target=\"_blank\" href=https://colab.research.google.com/notebooks/data_table.ipynb>data table notebook</a>'\n",
              "          + ' to learn more about interactive tables.';\n",
              "        element.innerHTML = '';\n",
              "        dataTable['output_type'] = 'display_data';\n",
              "        await google.colab.output.renderOutput(dataTable, element);\n",
              "        const docLink = document.createElement('div');\n",
              "        docLink.innerHTML = docLinkHtml;\n",
              "        element.appendChild(docLink);\n",
              "      }\n",
              "    </script>\n",
              "  </div>\n",
              "\n",
              "\n",
              "<div id=\"df-40ad0413-400f-4ef9-8217-bec76271f9ba\">\n",
              "  <button class=\"colab-df-quickchart\" onclick=\"quickchart('df-40ad0413-400f-4ef9-8217-bec76271f9ba')\"\n",
              "            title=\"Suggest charts.\"\n",
              "            style=\"display:none;\">\n",
              "\n",
              "<svg xmlns=\"http://www.w3.org/2000/svg\" height=\"24px\"viewBox=\"0 0 24 24\"\n",
              "     width=\"24px\">\n",
              "    <g>\n",
              "        <path d=\"M19 3H5c-1.1 0-2 .9-2 2v14c0 1.1.9 2 2 2h14c1.1 0 2-.9 2-2V5c0-1.1-.9-2-2-2zM9 17H7v-7h2v7zm4 0h-2V7h2v10zm4 0h-2v-4h2v4z\"/>\n",
              "    </g>\n",
              "</svg>\n",
              "  </button>\n",
              "\n",
              "<style>\n",
              "  .colab-df-quickchart {\n",
              "    background-color: #E8F0FE;\n",
              "    border: none;\n",
              "    border-radius: 50%;\n",
              "    cursor: pointer;\n",
              "    display: none;\n",
              "    fill: #1967D2;\n",
              "    height: 32px;\n",
              "    padding: 0 0 0 0;\n",
              "    width: 32px;\n",
              "  }\n",
              "\n",
              "  .colab-df-quickchart:hover {\n",
              "    background-color: #E2EBFA;\n",
              "    box-shadow: 0px 1px 2px rgba(60, 64, 67, 0.3), 0px 1px 3px 1px rgba(60, 64, 67, 0.15);\n",
              "    fill: #174EA6;\n",
              "  }\n",
              "\n",
              "  [theme=dark] .colab-df-quickchart {\n",
              "    background-color: #3B4455;\n",
              "    fill: #D2E3FC;\n",
              "  }\n",
              "\n",
              "  [theme=dark] .colab-df-quickchart:hover {\n",
              "    background-color: #434B5C;\n",
              "    box-shadow: 0px 1px 3px 1px rgba(0, 0, 0, 0.15);\n",
              "    filter: drop-shadow(0px 1px 2px rgba(0, 0, 0, 0.3));\n",
              "    fill: #FFFFFF;\n",
              "  }\n",
              "</style>\n",
              "\n",
              "  <script>\n",
              "    async function quickchart(key) {\n",
              "      const charts = await google.colab.kernel.invokeFunction(\n",
              "          'suggestCharts', [key], {});\n",
              "    }\n",
              "    (() => {\n",
              "      let quickchartButtonEl =\n",
              "        document.querySelector('#df-40ad0413-400f-4ef9-8217-bec76271f9ba button');\n",
              "      quickchartButtonEl.style.display =\n",
              "        google.colab.kernel.accessAllowed ? 'block' : 'none';\n",
              "    })();\n",
              "  </script>\n",
              "</div>\n",
              "    </div>\n",
              "  </div>\n"
            ]
          },
          "metadata": {},
          "execution_count": 3
        }
      ]
    },
    {
      "cell_type": "code",
      "source": [
        "# функция для препроцессинга текста (оставляем только буквы русского алфавита без других символов)\n",
        "ru_words = re.compile(\"[А-Яа-я]+\")\n",
        "\n",
        "def words_only(text):\n",
        "    return \" \".join(ru_words.findall(text)).lower()"
      ],
      "metadata": {
        "id": "AzKygxqS9Qz7"
      },
      "execution_count": null,
      "outputs": []
    },
    {
      "cell_type": "code",
      "source": [
        "df['norm'] = df.original.apply(words_only)\n",
        "df.replace({'' : np.NaN}, inplace = True) # замена строк с пустыми значениями на NaN\n",
        "df.dropna(inplace = True) # удаление строк с Nan\n",
        "df"
      ],
      "metadata": {
        "colab": {
          "base_uri": "https://localhost:8080/",
          "height": 424
        },
        "id": "ShClliNv_OnL",
        "outputId": "54b9359b-40f7-462c-d4ea-5707e531ab59"
      },
      "execution_count": null,
      "outputs": [
        {
          "output_type": "execute_result",
          "data": {
            "text/plain": [
              "                         original                        norm\n",
              "0                           Мцыри                       мцыри\n",
              "2         Немного лет тому назад,      немного лет тому назад\n",
              "3      Там, где, сливаяся, шумят,      там где сливаяся шумят\n",
              "4    Обнявшись, будто две сестры,  обнявшись будто две сестры\n",
              "5            Струи Арагвы и Куры,         струи арагвы и куры\n",
              "..                            ...                         ...\n",
              "774         И что вполголоса поет       и что вполголоса поет\n",
              "775      Он мне про милую страну.     он мне про милую страну\n",
              "776      И с этой мыслью я засну,     и с этой мыслью я засну\n",
              "777      И никого не прокляну!..»        и никого не прокляну\n",
              "778                       1839 г.                           г\n",
              "\n",
              "[750 rows x 2 columns]"
            ],
            "text/html": [
              "\n",
              "  <div id=\"df-9eaf6a7c-a348-4345-9fe5-a8ca16554ebf\" class=\"colab-df-container\">\n",
              "    <div>\n",
              "<style scoped>\n",
              "    .dataframe tbody tr th:only-of-type {\n",
              "        vertical-align: middle;\n",
              "    }\n",
              "\n",
              "    .dataframe tbody tr th {\n",
              "        vertical-align: top;\n",
              "    }\n",
              "\n",
              "    .dataframe thead th {\n",
              "        text-align: right;\n",
              "    }\n",
              "</style>\n",
              "<table border=\"1\" class=\"dataframe\">\n",
              "  <thead>\n",
              "    <tr style=\"text-align: right;\">\n",
              "      <th></th>\n",
              "      <th>original</th>\n",
              "      <th>norm</th>\n",
              "    </tr>\n",
              "  </thead>\n",
              "  <tbody>\n",
              "    <tr>\n",
              "      <th>0</th>\n",
              "      <td>Мцыри</td>\n",
              "      <td>мцыри</td>\n",
              "    </tr>\n",
              "    <tr>\n",
              "      <th>2</th>\n",
              "      <td>Немного лет тому назад,</td>\n",
              "      <td>немного лет тому назад</td>\n",
              "    </tr>\n",
              "    <tr>\n",
              "      <th>3</th>\n",
              "      <td>Там, где, сливаяся, шумят,</td>\n",
              "      <td>там где сливаяся шумят</td>\n",
              "    </tr>\n",
              "    <tr>\n",
              "      <th>4</th>\n",
              "      <td>Обнявшись, будто две сестры,</td>\n",
              "      <td>обнявшись будто две сестры</td>\n",
              "    </tr>\n",
              "    <tr>\n",
              "      <th>5</th>\n",
              "      <td>Струи Арагвы и Куры,</td>\n",
              "      <td>струи арагвы и куры</td>\n",
              "    </tr>\n",
              "    <tr>\n",
              "      <th>...</th>\n",
              "      <td>...</td>\n",
              "      <td>...</td>\n",
              "    </tr>\n",
              "    <tr>\n",
              "      <th>774</th>\n",
              "      <td>И что вполголоса поет</td>\n",
              "      <td>и что вполголоса поет</td>\n",
              "    </tr>\n",
              "    <tr>\n",
              "      <th>775</th>\n",
              "      <td>Он мне про милую страну.</td>\n",
              "      <td>он мне про милую страну</td>\n",
              "    </tr>\n",
              "    <tr>\n",
              "      <th>776</th>\n",
              "      <td>И с этой мыслью я засну,</td>\n",
              "      <td>и с этой мыслью я засну</td>\n",
              "    </tr>\n",
              "    <tr>\n",
              "      <th>777</th>\n",
              "      <td>И никого не прокляну!..»</td>\n",
              "      <td>и никого не прокляну</td>\n",
              "    </tr>\n",
              "    <tr>\n",
              "      <th>778</th>\n",
              "      <td>1839 г.</td>\n",
              "      <td>г</td>\n",
              "    </tr>\n",
              "  </tbody>\n",
              "</table>\n",
              "<p>750 rows × 2 columns</p>\n",
              "</div>\n",
              "    <div class=\"colab-df-buttons\">\n",
              "\n",
              "  <div class=\"colab-df-container\">\n",
              "    <button class=\"colab-df-convert\" onclick=\"convertToInteractive('df-9eaf6a7c-a348-4345-9fe5-a8ca16554ebf')\"\n",
              "            title=\"Convert this dataframe to an interactive table.\"\n",
              "            style=\"display:none;\">\n",
              "\n",
              "  <svg xmlns=\"http://www.w3.org/2000/svg\" height=\"24px\" viewBox=\"0 -960 960 960\">\n",
              "    <path d=\"M120-120v-720h720v720H120Zm60-500h600v-160H180v160Zm220 220h160v-160H400v160Zm0 220h160v-160H400v160ZM180-400h160v-160H180v160Zm440 0h160v-160H620v160ZM180-180h160v-160H180v160Zm440 0h160v-160H620v160Z\"/>\n",
              "  </svg>\n",
              "    </button>\n",
              "\n",
              "  <style>\n",
              "    .colab-df-container {\n",
              "      display:flex;\n",
              "      gap: 12px;\n",
              "    }\n",
              "\n",
              "    .colab-df-convert {\n",
              "      background-color: #E8F0FE;\n",
              "      border: none;\n",
              "      border-radius: 50%;\n",
              "      cursor: pointer;\n",
              "      display: none;\n",
              "      fill: #1967D2;\n",
              "      height: 32px;\n",
              "      padding: 0 0 0 0;\n",
              "      width: 32px;\n",
              "    }\n",
              "\n",
              "    .colab-df-convert:hover {\n",
              "      background-color: #E2EBFA;\n",
              "      box-shadow: 0px 1px 2px rgba(60, 64, 67, 0.3), 0px 1px 3px 1px rgba(60, 64, 67, 0.15);\n",
              "      fill: #174EA6;\n",
              "    }\n",
              "\n",
              "    .colab-df-buttons div {\n",
              "      margin-bottom: 4px;\n",
              "    }\n",
              "\n",
              "    [theme=dark] .colab-df-convert {\n",
              "      background-color: #3B4455;\n",
              "      fill: #D2E3FC;\n",
              "    }\n",
              "\n",
              "    [theme=dark] .colab-df-convert:hover {\n",
              "      background-color: #434B5C;\n",
              "      box-shadow: 0px 1px 3px 1px rgba(0, 0, 0, 0.15);\n",
              "      filter: drop-shadow(0px 1px 2px rgba(0, 0, 0, 0.3));\n",
              "      fill: #FFFFFF;\n",
              "    }\n",
              "  </style>\n",
              "\n",
              "    <script>\n",
              "      const buttonEl =\n",
              "        document.querySelector('#df-9eaf6a7c-a348-4345-9fe5-a8ca16554ebf button.colab-df-convert');\n",
              "      buttonEl.style.display =\n",
              "        google.colab.kernel.accessAllowed ? 'block' : 'none';\n",
              "\n",
              "      async function convertToInteractive(key) {\n",
              "        const element = document.querySelector('#df-9eaf6a7c-a348-4345-9fe5-a8ca16554ebf');\n",
              "        const dataTable =\n",
              "          await google.colab.kernel.invokeFunction('convertToInteractive',\n",
              "                                                    [key], {});\n",
              "        if (!dataTable) return;\n",
              "\n",
              "        const docLinkHtml = 'Like what you see? Visit the ' +\n",
              "          '<a target=\"_blank\" href=https://colab.research.google.com/notebooks/data_table.ipynb>data table notebook</a>'\n",
              "          + ' to learn more about interactive tables.';\n",
              "        element.innerHTML = '';\n",
              "        dataTable['output_type'] = 'display_data';\n",
              "        await google.colab.output.renderOutput(dataTable, element);\n",
              "        const docLink = document.createElement('div');\n",
              "        docLink.innerHTML = docLinkHtml;\n",
              "        element.appendChild(docLink);\n",
              "      }\n",
              "    </script>\n",
              "  </div>\n",
              "\n",
              "\n",
              "<div id=\"df-f000f2e7-87f4-4e2c-aa7f-fa1a0b52f9b4\">\n",
              "  <button class=\"colab-df-quickchart\" onclick=\"quickchart('df-f000f2e7-87f4-4e2c-aa7f-fa1a0b52f9b4')\"\n",
              "            title=\"Suggest charts.\"\n",
              "            style=\"display:none;\">\n",
              "\n",
              "<svg xmlns=\"http://www.w3.org/2000/svg\" height=\"24px\"viewBox=\"0 0 24 24\"\n",
              "     width=\"24px\">\n",
              "    <g>\n",
              "        <path d=\"M19 3H5c-1.1 0-2 .9-2 2v14c0 1.1.9 2 2 2h14c1.1 0 2-.9 2-2V5c0-1.1-.9-2-2-2zM9 17H7v-7h2v7zm4 0h-2V7h2v10zm4 0h-2v-4h2v4z\"/>\n",
              "    </g>\n",
              "</svg>\n",
              "  </button>\n",
              "\n",
              "<style>\n",
              "  .colab-df-quickchart {\n",
              "    background-color: #E8F0FE;\n",
              "    border: none;\n",
              "    border-radius: 50%;\n",
              "    cursor: pointer;\n",
              "    display: none;\n",
              "    fill: #1967D2;\n",
              "    height: 32px;\n",
              "    padding: 0 0 0 0;\n",
              "    width: 32px;\n",
              "  }\n",
              "\n",
              "  .colab-df-quickchart:hover {\n",
              "    background-color: #E2EBFA;\n",
              "    box-shadow: 0px 1px 2px rgba(60, 64, 67, 0.3), 0px 1px 3px 1px rgba(60, 64, 67, 0.15);\n",
              "    fill: #174EA6;\n",
              "  }\n",
              "\n",
              "  [theme=dark] .colab-df-quickchart {\n",
              "    background-color: #3B4455;\n",
              "    fill: #D2E3FC;\n",
              "  }\n",
              "\n",
              "  [theme=dark] .colab-df-quickchart:hover {\n",
              "    background-color: #434B5C;\n",
              "    box-shadow: 0px 1px 3px 1px rgba(0, 0, 0, 0.15);\n",
              "    filter: drop-shadow(0px 1px 2px rgba(0, 0, 0, 0.3));\n",
              "    fill: #FFFFFF;\n",
              "  }\n",
              "</style>\n",
              "\n",
              "  <script>\n",
              "    async function quickchart(key) {\n",
              "      const charts = await google.colab.kernel.invokeFunction(\n",
              "          'suggestCharts', [key], {});\n",
              "    }\n",
              "    (() => {\n",
              "      let quickchartButtonEl =\n",
              "        document.querySelector('#df-f000f2e7-87f4-4e2c-aa7f-fa1a0b52f9b4 button');\n",
              "      quickchartButtonEl.style.display =\n",
              "        google.colab.kernel.accessAllowed ? 'block' : 'none';\n",
              "    })();\n",
              "  </script>\n",
              "</div>\n",
              "    </div>\n",
              "  </div>\n"
            ]
          },
          "metadata": {},
          "execution_count": 5
        }
      ]
    },
    {
      "cell_type": "markdown",
      "source": [
        "### Шифрование текста"
      ],
      "metadata": {
        "id": "KKUwnV13BiUg"
      }
    },
    {
      "cell_type": "code",
      "source": [
        "# функция зашифровки\n",
        "def encryption(text):\n",
        "    alphabet = 'абвгдеёжзийклмнопрстуфхцчшщъыьэюяабвгдеёжзийклмнопрстуфхцчшщъыьэюя'\n",
        "    text = text.lower()\n",
        "    shift = 2\n",
        "    result = ''\n",
        "    for i in text:\n",
        "        if i != ' ':\n",
        "            location = alphabet.find(i) + shift # найти номер места в алфавите и прибавить сдвиг\n",
        "        if i in alphabet:\n",
        "            result += alphabet[location]  # записать в результат новую букву\n",
        "        else:\n",
        "            result += i\n",
        "    return result"
      ],
      "metadata": {
        "id": "Es5tISE_By8R"
      },
      "execution_count": null,
      "outputs": []
    },
    {
      "cell_type": "code",
      "source": [
        "# функция расшифровки\n",
        "\n",
        "def decryption(text):\n",
        "    alphabet = 'абвгдеёжзийклмнопрстуфхцчшщъыьэюяабвгдеёжзийклмнопрстуфхцчшщъыьэюя'\n",
        "    text = text.lower()\n",
        "    shift = 2\n",
        "    result = ''\n",
        "    for i in text:\n",
        "        if i != ' ':\n",
        "            location = alphabet.find(i) - shift\n",
        "        if i in alphabet:\n",
        "            result += alphabet[location]\n",
        "        else:\n",
        "            result += i\n",
        "    return result"
      ],
      "metadata": {
        "id": "vEBhGVPpMwu4"
      },
      "execution_count": null,
      "outputs": []
    },
    {
      "cell_type": "code",
      "source": [
        "df['encryption'] = df.norm.astype('str').apply(encryption) # зашифрованный текст\n",
        "df['decryption'] = df.encryption.astype('str').apply(decryption) # расшифрованный текст для проверки"
      ],
      "metadata": {
        "id": "-LhMnPdPLway"
      },
      "execution_count": null,
      "outputs": []
    },
    {
      "cell_type": "code",
      "source": [
        "df.head(10)"
      ],
      "metadata": {
        "colab": {
          "base_uri": "https://localhost:8080/",
          "height": 363
        },
        "id": "yZaj0L4FMo3Q",
        "outputId": "62335dce-956f-4abd-f5d8-3d6fcfa7aef4"
      },
      "execution_count": null,
      "outputs": [
        {
          "output_type": "execute_result",
          "data": {
            "text/plain": [
              "                        original                        norm  \\\n",
              "0                          Мцыри                       мцыри   \n",
              "2        Немного лет тому назад,      немного лет тому назад   \n",
              "3     Там, где, сливаяся, шумят,      там где сливаяся шумят   \n",
              "4   Обнявшись, будто две сестры,  обнявшись будто две сестры   \n",
              "5           Струи Арагвы и Куры,         струи арагвы и куры   \n",
              "6      Был монастырь. Из-за горы    был монастырь из за горы   \n",
              "7          И нынче видит пешеход       и нынче видит пешеход   \n",
              "8       Столбы обрушенных ворот,     столбы обрушенных ворот   \n",
              "9     И башни, и церковный свод;    и башни и церковный свод   \n",
              "10      Но не курится уж под ним    но не курится уж под ним   \n",
              "\n",
              "                    encryption                  decryption  \n",
              "0                        ошэтк                       мцыри  \n",
              "2       пжопрер нжф фрох пвйвё      немного лет тому назад  \n",
              "3       фво еёж ункдвбуб ъхобф      там где сливаяся шумят  \n",
              "4   ргпбдъкую гхёфр ёдж ужуфтэ  обнявшись будто две сестры  \n",
              "5          уфтхк втведэ к мхтэ         струи арагвы и куры  \n",
              "6     гэн орпвуфэтю кй йв ертэ    был монастырь из за горы  \n",
              "7        к пэпщж дкёкф сжъжчрё       и нынче видит пешеход  \n",
              "8      уфрнгэ ргтхъжппэч дртрф     столбы обрушенных ворот  \n",
              "9     к гвъпк к шжтмрдпэл удрё    и башни и церковный свод  \n",
              "10    пр пж мхткфуб хи срё пко    но не курится уж под ним  "
            ],
            "text/html": [
              "\n",
              "  <div id=\"df-ae9c1f18-30fb-4954-9809-ec312747a826\" class=\"colab-df-container\">\n",
              "    <div>\n",
              "<style scoped>\n",
              "    .dataframe tbody tr th:only-of-type {\n",
              "        vertical-align: middle;\n",
              "    }\n",
              "\n",
              "    .dataframe tbody tr th {\n",
              "        vertical-align: top;\n",
              "    }\n",
              "\n",
              "    .dataframe thead th {\n",
              "        text-align: right;\n",
              "    }\n",
              "</style>\n",
              "<table border=\"1\" class=\"dataframe\">\n",
              "  <thead>\n",
              "    <tr style=\"text-align: right;\">\n",
              "      <th></th>\n",
              "      <th>original</th>\n",
              "      <th>norm</th>\n",
              "      <th>encryption</th>\n",
              "      <th>decryption</th>\n",
              "    </tr>\n",
              "  </thead>\n",
              "  <tbody>\n",
              "    <tr>\n",
              "      <th>0</th>\n",
              "      <td>Мцыри</td>\n",
              "      <td>мцыри</td>\n",
              "      <td>ошэтк</td>\n",
              "      <td>мцыри</td>\n",
              "    </tr>\n",
              "    <tr>\n",
              "      <th>2</th>\n",
              "      <td>Немного лет тому назад,</td>\n",
              "      <td>немного лет тому назад</td>\n",
              "      <td>пжопрер нжф фрох пвйвё</td>\n",
              "      <td>немного лет тому назад</td>\n",
              "    </tr>\n",
              "    <tr>\n",
              "      <th>3</th>\n",
              "      <td>Там, где, сливаяся, шумят,</td>\n",
              "      <td>там где сливаяся шумят</td>\n",
              "      <td>фво еёж ункдвбуб ъхобф</td>\n",
              "      <td>там где сливаяся шумят</td>\n",
              "    </tr>\n",
              "    <tr>\n",
              "      <th>4</th>\n",
              "      <td>Обнявшись, будто две сестры,</td>\n",
              "      <td>обнявшись будто две сестры</td>\n",
              "      <td>ргпбдъкую гхёфр ёдж ужуфтэ</td>\n",
              "      <td>обнявшись будто две сестры</td>\n",
              "    </tr>\n",
              "    <tr>\n",
              "      <th>5</th>\n",
              "      <td>Струи Арагвы и Куры,</td>\n",
              "      <td>струи арагвы и куры</td>\n",
              "      <td>уфтхк втведэ к мхтэ</td>\n",
              "      <td>струи арагвы и куры</td>\n",
              "    </tr>\n",
              "    <tr>\n",
              "      <th>6</th>\n",
              "      <td>Был монастырь. Из-за горы</td>\n",
              "      <td>был монастырь из за горы</td>\n",
              "      <td>гэн орпвуфэтю кй йв ертэ</td>\n",
              "      <td>был монастырь из за горы</td>\n",
              "    </tr>\n",
              "    <tr>\n",
              "      <th>7</th>\n",
              "      <td>И нынче видит пешеход</td>\n",
              "      <td>и нынче видит пешеход</td>\n",
              "      <td>к пэпщж дкёкф сжъжчрё</td>\n",
              "      <td>и нынче видит пешеход</td>\n",
              "    </tr>\n",
              "    <tr>\n",
              "      <th>8</th>\n",
              "      <td>Столбы обрушенных ворот,</td>\n",
              "      <td>столбы обрушенных ворот</td>\n",
              "      <td>уфрнгэ ргтхъжппэч дртрф</td>\n",
              "      <td>столбы обрушенных ворот</td>\n",
              "    </tr>\n",
              "    <tr>\n",
              "      <th>9</th>\n",
              "      <td>И башни, и церковный свод;</td>\n",
              "      <td>и башни и церковный свод</td>\n",
              "      <td>к гвъпк к шжтмрдпэл удрё</td>\n",
              "      <td>и башни и церковный свод</td>\n",
              "    </tr>\n",
              "    <tr>\n",
              "      <th>10</th>\n",
              "      <td>Но не курится уж под ним</td>\n",
              "      <td>но не курится уж под ним</td>\n",
              "      <td>пр пж мхткфуб хи срё пко</td>\n",
              "      <td>но не курится уж под ним</td>\n",
              "    </tr>\n",
              "  </tbody>\n",
              "</table>\n",
              "</div>\n",
              "    <div class=\"colab-df-buttons\">\n",
              "\n",
              "  <div class=\"colab-df-container\">\n",
              "    <button class=\"colab-df-convert\" onclick=\"convertToInteractive('df-ae9c1f18-30fb-4954-9809-ec312747a826')\"\n",
              "            title=\"Convert this dataframe to an interactive table.\"\n",
              "            style=\"display:none;\">\n",
              "\n",
              "  <svg xmlns=\"http://www.w3.org/2000/svg\" height=\"24px\" viewBox=\"0 -960 960 960\">\n",
              "    <path d=\"M120-120v-720h720v720H120Zm60-500h600v-160H180v160Zm220 220h160v-160H400v160Zm0 220h160v-160H400v160ZM180-400h160v-160H180v160Zm440 0h160v-160H620v160ZM180-180h160v-160H180v160Zm440 0h160v-160H620v160Z\"/>\n",
              "  </svg>\n",
              "    </button>\n",
              "\n",
              "  <style>\n",
              "    .colab-df-container {\n",
              "      display:flex;\n",
              "      gap: 12px;\n",
              "    }\n",
              "\n",
              "    .colab-df-convert {\n",
              "      background-color: #E8F0FE;\n",
              "      border: none;\n",
              "      border-radius: 50%;\n",
              "      cursor: pointer;\n",
              "      display: none;\n",
              "      fill: #1967D2;\n",
              "      height: 32px;\n",
              "      padding: 0 0 0 0;\n",
              "      width: 32px;\n",
              "    }\n",
              "\n",
              "    .colab-df-convert:hover {\n",
              "      background-color: #E2EBFA;\n",
              "      box-shadow: 0px 1px 2px rgba(60, 64, 67, 0.3), 0px 1px 3px 1px rgba(60, 64, 67, 0.15);\n",
              "      fill: #174EA6;\n",
              "    }\n",
              "\n",
              "    .colab-df-buttons div {\n",
              "      margin-bottom: 4px;\n",
              "    }\n",
              "\n",
              "    [theme=dark] .colab-df-convert {\n",
              "      background-color: #3B4455;\n",
              "      fill: #D2E3FC;\n",
              "    }\n",
              "\n",
              "    [theme=dark] .colab-df-convert:hover {\n",
              "      background-color: #434B5C;\n",
              "      box-shadow: 0px 1px 3px 1px rgba(0, 0, 0, 0.15);\n",
              "      filter: drop-shadow(0px 1px 2px rgba(0, 0, 0, 0.3));\n",
              "      fill: #FFFFFF;\n",
              "    }\n",
              "  </style>\n",
              "\n",
              "    <script>\n",
              "      const buttonEl =\n",
              "        document.querySelector('#df-ae9c1f18-30fb-4954-9809-ec312747a826 button.colab-df-convert');\n",
              "      buttonEl.style.display =\n",
              "        google.colab.kernel.accessAllowed ? 'block' : 'none';\n",
              "\n",
              "      async function convertToInteractive(key) {\n",
              "        const element = document.querySelector('#df-ae9c1f18-30fb-4954-9809-ec312747a826');\n",
              "        const dataTable =\n",
              "          await google.colab.kernel.invokeFunction('convertToInteractive',\n",
              "                                                    [key], {});\n",
              "        if (!dataTable) return;\n",
              "\n",
              "        const docLinkHtml = 'Like what you see? Visit the ' +\n",
              "          '<a target=\"_blank\" href=https://colab.research.google.com/notebooks/data_table.ipynb>data table notebook</a>'\n",
              "          + ' to learn more about interactive tables.';\n",
              "        element.innerHTML = '';\n",
              "        dataTable['output_type'] = 'display_data';\n",
              "        await google.colab.output.renderOutput(dataTable, element);\n",
              "        const docLink = document.createElement('div');\n",
              "        docLink.innerHTML = docLinkHtml;\n",
              "        element.appendChild(docLink);\n",
              "      }\n",
              "    </script>\n",
              "  </div>\n",
              "\n",
              "\n",
              "<div id=\"df-91f2adf6-c672-41bf-87a2-e9de86c30873\">\n",
              "  <button class=\"colab-df-quickchart\" onclick=\"quickchart('df-91f2adf6-c672-41bf-87a2-e9de86c30873')\"\n",
              "            title=\"Suggest charts.\"\n",
              "            style=\"display:none;\">\n",
              "\n",
              "<svg xmlns=\"http://www.w3.org/2000/svg\" height=\"24px\"viewBox=\"0 0 24 24\"\n",
              "     width=\"24px\">\n",
              "    <g>\n",
              "        <path d=\"M19 3H5c-1.1 0-2 .9-2 2v14c0 1.1.9 2 2 2h14c1.1 0 2-.9 2-2V5c0-1.1-.9-2-2-2zM9 17H7v-7h2v7zm4 0h-2V7h2v10zm4 0h-2v-4h2v4z\"/>\n",
              "    </g>\n",
              "</svg>\n",
              "  </button>\n",
              "\n",
              "<style>\n",
              "  .colab-df-quickchart {\n",
              "    background-color: #E8F0FE;\n",
              "    border: none;\n",
              "    border-radius: 50%;\n",
              "    cursor: pointer;\n",
              "    display: none;\n",
              "    fill: #1967D2;\n",
              "    height: 32px;\n",
              "    padding: 0 0 0 0;\n",
              "    width: 32px;\n",
              "  }\n",
              "\n",
              "  .colab-df-quickchart:hover {\n",
              "    background-color: #E2EBFA;\n",
              "    box-shadow: 0px 1px 2px rgba(60, 64, 67, 0.3), 0px 1px 3px 1px rgba(60, 64, 67, 0.15);\n",
              "    fill: #174EA6;\n",
              "  }\n",
              "\n",
              "  [theme=dark] .colab-df-quickchart {\n",
              "    background-color: #3B4455;\n",
              "    fill: #D2E3FC;\n",
              "  }\n",
              "\n",
              "  [theme=dark] .colab-df-quickchart:hover {\n",
              "    background-color: #434B5C;\n",
              "    box-shadow: 0px 1px 3px 1px rgba(0, 0, 0, 0.15);\n",
              "    filter: drop-shadow(0px 1px 2px rgba(0, 0, 0, 0.3));\n",
              "    fill: #FFFFFF;\n",
              "  }\n",
              "</style>\n",
              "\n",
              "  <script>\n",
              "    async function quickchart(key) {\n",
              "      const charts = await google.colab.kernel.invokeFunction(\n",
              "          'suggestCharts', [key], {});\n",
              "    }\n",
              "    (() => {\n",
              "      let quickchartButtonEl =\n",
              "        document.querySelector('#df-91f2adf6-c672-41bf-87a2-e9de86c30873 button');\n",
              "      quickchartButtonEl.style.display =\n",
              "        google.colab.kernel.accessAllowed ? 'block' : 'none';\n",
              "    })();\n",
              "  </script>\n",
              "</div>\n",
              "    </div>\n",
              "  </div>\n"
            ]
          },
          "metadata": {},
          "execution_count": 21
        }
      ]
    },
    {
      "cell_type": "markdown",
      "source": [
        "### Нейронная сеть для дешифровки текста"
      ],
      "metadata": {
        "id": "Wem_bjhdRCAA"
      }
    },
    {
      "cell_type": "markdown",
      "source": [
        "#### Подготовка данных"
      ],
      "metadata": {
        "id": "XwYD5qsqyurJ"
      }
    },
    {
      "cell_type": "code",
      "source": [
        "# создание словаря\n",
        "CHARS = set('абвгдеёжзийклмнопрстуфхцчшщъыьэюя ')  # все символы, которые мы хотим использовать для кодировки = наш словарь\n",
        "INDEX_TO_CHAR = ['none'] + [w for w in CHARS]  # все неизвестные символы будут получать тег none\n",
        "CHAR_TO_INDEX = {w: i for i, w in enumerate(INDEX_TO_CHAR)}  # словарь токен-индекс"
      ],
      "metadata": {
        "id": "-75FKI_CbXt3"
      },
      "execution_count": null,
      "outputs": []
    },
    {
      "cell_type": "code",
      "source": [
        "# берем столбец входных данных с зашифрованными текстами (то, что будем подавать на вход в сеть)\n",
        "input = df['encryption'].tolist()\n",
        "input[:10]"
      ],
      "metadata": {
        "colab": {
          "base_uri": "https://localhost:8080/"
        },
        "id": "dbWefzWIUqQs",
        "outputId": "9b6879e2-4f79-4024-df8a-9a0a8a186ad7"
      },
      "execution_count": null,
      "outputs": [
        {
          "output_type": "execute_result",
          "data": {
            "text/plain": [
              "['ошэтк',\n",
              " 'пжопрер нжф фрох пвйвё',\n",
              " 'фво еёж ункдвбуб ъхобф',\n",
              " 'ргпбдъкую гхёфр ёдж ужуфтэ',\n",
              " 'уфтхк втведэ к мхтэ',\n",
              " 'гэн орпвуфэтю кй йв ертэ',\n",
              " 'к пэпщж дкёкф сжъжчрё',\n",
              " 'уфрнгэ ргтхъжппэч дртрф',\n",
              " 'к гвъпк к шжтмрдпэл удрё',\n",
              " 'пр пж мхткфуб хи срё пко']"
            ]
          },
          "metadata": {},
          "execution_count": 11
        }
      ]
    },
    {
      "cell_type": "code",
      "source": [
        "# берем столбец выходных данных с расшифрованными текстами (то, что будет таргетом)\n",
        "\n",
        "output = df['decryption'].tolist()  # колонка с готовыми текстами\n",
        "output[:10]"
      ],
      "metadata": {
        "colab": {
          "base_uri": "https://localhost:8080/"
        },
        "id": "Ia-tbufTt1o2",
        "outputId": "0f354b73-a4da-4b37-acb0-6a5338f1c974"
      },
      "execution_count": null,
      "outputs": [
        {
          "output_type": "execute_result",
          "data": {
            "text/plain": [
              "['мцыри',\n",
              " 'немного лет тому назад',\n",
              " 'там где сливаяся шумят',\n",
              " 'обнявшись будто две сестры',\n",
              " 'струи арагвы и куры',\n",
              " 'был монастырь из за горы',\n",
              " 'и нынче видит пешеход',\n",
              " 'столбы обрушенных ворот',\n",
              " 'и башни и церковный свод',\n",
              " 'но не курится уж под ним']"
            ]
          },
          "metadata": {},
          "execution_count": 12
        }
      ]
    },
    {
      "cell_type": "code",
      "source": [
        "# токенезация\n",
        "text_input = [[c for c in ph] for ph in input if type(ph) is str]\n",
        "text_output = [[c for c in ph] for ph in output if type(ph) is str]"
      ],
      "metadata": {
        "id": "3eQAL2sbVJXo"
      },
      "execution_count": null,
      "outputs": []
    },
    {
      "cell_type": "code",
      "source": [
        "# кодируем данные в вектора\n",
        "MAX_LEN = 40  # мы хотим ограничить максимальную длину ввода\n",
        "X = torch.zeros((len(text_input), MAX_LEN), dtype=int)  # создаём пустой вектор для текста, чтобы класть в него индексы токенов\n",
        "for i in range(len(text_input)):  # для каждого предложения\n",
        "    for j, w in enumerate(text_input[i]):  # для каждого токена\n",
        "        if j >= MAX_LEN:\n",
        "            break\n",
        "        X[i, j] = CHAR_TO_INDEX.get(w, CHAR_TO_INDEX['none'])\n",
        "\n",
        "Y = torch.zeros((len(text_output), MAX_LEN), dtype=int)  # создаём пустой вектор для текста, чтобы класть в него индексы токенов\n",
        "for i in range(len(text_output)):  # для каждого предложения\n",
        "    for j, w in enumerate(text_output[i]):  # для каждого токена\n",
        "        if j >= MAX_LEN:\n",
        "            break\n",
        "        Y[i, j] = CHAR_TO_INDEX.get(w, CHAR_TO_INDEX['none'])"
      ],
      "metadata": {
        "id": "Wj94HZ7WVVCc"
      },
      "execution_count": null,
      "outputs": []
    },
    {
      "cell_type": "code",
      "source": [
        "X[0]"
      ],
      "metadata": {
        "colab": {
          "base_uri": "https://localhost:8080/"
        },
        "id": "61WCSGu01xex",
        "outputId": "74c17874-b14e-4f28-beff-bafe10450eff"
      },
      "execution_count": null,
      "outputs": [
        {
          "output_type": "execute_result",
          "data": {
            "text/plain": [
              "tensor([21,  6, 34, 33, 17,  0,  0,  0,  0,  0,  0,  0,  0,  0,  0,  0,  0,  0,\n",
              "         0,  0,  0,  0,  0,  0,  0,  0,  0,  0,  0,  0,  0,  0,  0,  0,  0,  0,\n",
              "         0,  0,  0,  0])"
            ]
          },
          "metadata": {},
          "execution_count": 78
        }
      ]
    },
    {
      "cell_type": "code",
      "source": [
        "Y[0]"
      ],
      "metadata": {
        "colab": {
          "base_uri": "https://localhost:8080/"
        },
        "id": "4g0x1n5V4lQI",
        "outputId": "bf29fc1f-1b81-44b7-c3aa-fdce8061a704"
      },
      "execution_count": null,
      "outputs": [
        {
          "output_type": "execute_result",
          "data": {
            "text/plain": [
              "tensor([20, 31, 28, 16,  2,  0,  0,  0,  0,  0,  0,  0,  0,  0,  0,  0,  0,  0,\n",
              "         0,  0,  0,  0,  0,  0,  0,  0,  0,  0,  0,  0,  0,  0,  0,  0,  0,  0,\n",
              "         0,  0,  0,  0])"
            ]
          },
          "metadata": {},
          "execution_count": 77
        }
      ]
    },
    {
      "cell_type": "code",
      "source": [
        "Y.shape"
      ],
      "metadata": {
        "colab": {
          "base_uri": "https://localhost:8080/"
        },
        "id": "UZ7uXHGG19K6",
        "outputId": "980478b4-7139-4638-c88f-ffa8a15c3969"
      },
      "execution_count": null,
      "outputs": [
        {
          "output_type": "execute_result",
          "data": {
            "text/plain": [
              "torch.Size([750, 40])"
            ]
          },
          "metadata": {},
          "execution_count": 89
        }
      ]
    },
    {
      "cell_type": "markdown",
      "source": [
        "### Эмбендинг и RNN ячейка"
      ],
      "metadata": {
        "id": "65ypFny9C8sq"
      }
    },
    {
      "cell_type": "code",
      "source": [
        "embeddings = torch.nn.Embedding(len(INDEX_TO_CHAR), 35)  # размер словаря * размер вектора для кодировки каждого слова\n",
        "t = embeddings(X[0:5])\n",
        "t.shape"
      ],
      "metadata": {
        "colab": {
          "base_uri": "https://localhost:8080/"
        },
        "id": "RUBP44YJ7Z7G",
        "outputId": "f30d27e4-a8aa-4e5f-cffa-4f09adf90446"
      },
      "execution_count": null,
      "outputs": [
        {
          "output_type": "execute_result",
          "data": {
            "text/plain": [
              "torch.Size([5, 40, 35])"
            ]
          },
          "metadata": {},
          "execution_count": 96
        }
      ]
    },
    {
      "cell_type": "code",
      "source": [
        "rnn = torch.nn.RNN(35, 128, batch_first=True)  # на вход - размер эмбеддинга, размер скрытого состояния и порядок размерностей\n",
        "o, s = rnn(t)\n",
        "# вектора для слов: батч * число токенов * размер скрытого состояния\n",
        "# вектор скрытого состояния: число вектров (один) * батч * размер скрытого состояния\n",
        "o.shape, s.shape"
      ],
      "metadata": {
        "colab": {
          "base_uri": "https://localhost:8080/"
        },
        "id": "chVWIjz98fzG",
        "outputId": "3b0901a8-81c9-42a2-a103-0b7b29429678"
      },
      "execution_count": null,
      "outputs": [
        {
          "output_type": "execute_result",
          "data": {
            "text/plain": [
              "(torch.Size([5, 40, 128]), torch.Size([1, 5, 128]))"
            ]
          },
          "metadata": {},
          "execution_count": 108
        }
      ]
    },
    {
      "cell_type": "markdown",
      "source": [
        "#### RNN"
      ],
      "metadata": {
        "id": "wryb2Kw60bB8"
      }
    },
    {
      "cell_type": "code",
      "source": [
        "class Network(torch.nn.Module):\n",
        "    def __init__(self):\n",
        "        super(Network, self).__init__()\n",
        "        self.embedding = torch.nn.Embedding(35, 50)\n",
        "        self.rnn = torch.nn.RNN(50, 128)\n",
        "        self.out = torch.nn.Linear(128, 35)\n",
        "\n",
        "    def forward(self, sentences, state=None):\n",
        "        x = self.embedding(sentences)\n",
        "        x, s = self.rnn(x) # берём выход с последнего слоя для всех токенов, а не скрытое состояние\n",
        "        return self.out(x)\n",
        "\n",
        "model = Network()\n",
        "model"
      ],
      "metadata": {
        "colab": {
          "base_uri": "https://localhost:8080/"
        },
        "id": "dOybRXvQ0gwS",
        "outputId": "f8ebda05-d8c9-4d1d-d36e-e9b23ea0e4ee"
      },
      "execution_count": null,
      "outputs": [
        {
          "output_type": "execute_result",
          "data": {
            "text/plain": [
              "Network(\n",
              "  (embedding): Embedding(35, 50)\n",
              "  (rnn): RNN(50, 128)\n",
              "  (out): Linear(in_features=128, out_features=35, bias=True)\n",
              ")"
            ]
          },
          "metadata": {},
          "execution_count": 103
        }
      ]
    },
    {
      "cell_type": "code",
      "source": [
        "criterion = torch.nn.CrossEntropyLoss()\n",
        "optimizer = torch.optim.SGD(model.parameters(), lr=.05)"
      ],
      "metadata": {
        "id": "De324MFo0tng"
      },
      "execution_count": null,
      "outputs": []
    },
    {
      "cell_type": "markdown",
      "source": [
        "#### Обучение"
      ],
      "metadata": {
        "id": "Ofoi-xKg0oJe"
      }
    },
    {
      "cell_type": "code",
      "source": [
        "history_loss = []\n",
        "\n",
        "for ep in range(100):\n",
        "    start = time.time()\n",
        "    train_loss = 0.\n",
        "    train_passed = 0\n",
        "\n",
        "    for i in range(int(len(X) / 100)):\n",
        "        # берём батч в 100 элементов\n",
        "        X_batch = X[i * 100:(i + 1) * 100]\n",
        "        Y_batch = Y[i * 100:(i + 1) * 100].flatten()\n",
        "\n",
        "\n",
        "        optimizer.zero_grad()\n",
        "\n",
        "        answers = model.forward(X_batch)\n",
        "        answers = answers.view(-1, len(INDEX_TO_CHAR))\n",
        "        loss = criterion(answers, Y_batch)\n",
        "        train_loss += loss.item()\n",
        "\n",
        "        loss.backward()\n",
        "        optimizer.step()\n",
        "        train_passed += 1\n",
        "\n",
        "    print(\"Epoch {}. Time: {:.3f}, Train loss: {:.3f}\".format(ep, time.time() - start, train_loss / train_passed))\n",
        "    history_loss.append(train_loss / train_passed)"
      ],
      "metadata": {
        "id": "4AVgr8su0mAj"
      },
      "execution_count": null,
      "outputs": []
    },
    {
      "cell_type": "code",
      "source": [
        "# график для отображения динамики loss\n",
        "plt.figure(figsize=(7, 4))\n",
        "\n",
        "plt.plot(history_loss, label = 'train')\n",
        "\n",
        "plt.title('Loss by epoch iterations')\n",
        "plt.ylabel('Entropy Loss')\n",
        "plt.xlabel('epoch')\n",
        "plt.legend()\n",
        "plt.show()"
      ],
      "metadata": {
        "colab": {
          "base_uri": "https://localhost:8080/",
          "height": 410
        },
        "id": "VlHFpl2R__g_",
        "outputId": "bb544207-bc98-40db-fac9-9010626827a8"
      },
      "execution_count": null,
      "outputs": [
        {
          "output_type": "display_data",
          "data": {
            "text/plain": [
              "<Figure size 700x400 with 1 Axes>"
            ],
            "image/png": "[encoded data removed]"
          },
          "metadata": {}
        }
      ]
    },
    {
      "cell_type": "code",
      "source": [
        "def generate_decryption_sentence(word):\n",
        "    sentence = list(word.lower())\n",
        "    sentence = [CHAR_TO_INDEX.get(s, 0) for s in sentence]\n",
        "    answers = model.forward(torch.tensor(sentence))\n",
        "    probas, indices = answers.topk(1)\n",
        "    return ''.join([INDEX_TO_CHAR[ind.item()] for ind in indices.flatten()])"
      ],
      "metadata": {
        "id": "ZQcMG1wP8Qte"
      },
      "execution_count": null,
      "outputs": []
    },
    {
      "cell_type": "code",
      "source": [
        "encryption('Мой дядя самых честных правил')"
      ],
      "metadata": {
        "colab": {
          "base_uri": "https://localhost:8080/",
          "height": 35
        },
        "id": "FCcC-xOT81xX",
        "outputId": "cb7455f2-a449-4ca0-f819-53f5628aec14"
      },
      "execution_count": null,
      "outputs": [
        {
          "output_type": "execute_result",
          "data": {
            "text/plain": [
              "'орл ёбёб увоэч щжуфпэч ствдкн'"
            ],
            "application/vnd.google.colaboratory.intrinsic+json": {
              "type": "string"
            }
          },
          "metadata": {},
          "execution_count": 142
        }
      ]
    },
    {
      "cell_type": "code",
      "source": [
        "generate_decryption_sentence('Орл ёБёб увоэч щжуфпэч ствдкн')"
      ],
      "metadata": {
        "colab": {
          "base_uri": "https://localhost:8080/",
          "height": 35
        },
        "id": "4y2RJZ9z8mGy",
        "outputId": "ca85a2dd-2df4-4e5b-99ad-caa73598f235"
      },
      "execution_count": null,
      "outputs": [
        {
          "output_type": "execute_result",
          "data": {
            "text/plain": [
              "'мой дядя самых честных правил'"
            ],
            "application/vnd.google.colaboratory.intrinsic+json": {
              "type": "string"
            }
          },
          "metadata": {},
          "execution_count": 145
        }
      ]
    },
    {
      "cell_type": "markdown",
      "source": [
        "Вывод: Обучение прошло успешно, ошибка заметно падает. Тест проходит очень хорошо, незнакомые фразы расшифровываются правильно."
      ],
      "metadata": {
        "id": "SliPIa5XFI9P"
      }
    },
    {
      "cell_type": "markdown",
      "source": [
        "## Задание 2"
      ],
      "metadata": {
        "id": "3wL1qN2jCNFe"
      }
    },
    {
      "cell_type": "markdown",
      "source": [
        "\n",
        "1. Построить RNN-ячейку на основе полносвязных слоев\n",
        "2. Применить построенную ячейку для генерации текста с выражениями героев сериала “Симпсоны”\n"
      ],
      "metadata": {
        "id": "tkYni8vVCWfU"
      }
    },
    {
      "cell_type": "markdown",
      "source": [
        "### Загрузка и подготовка данных"
      ],
      "metadata": {
        "id": "yozIayuNHXJK"
      }
    },
    {
      "cell_type": "code",
      "source": [
        "df = pd.read_csv('/content/data.csv')\n",
        "df.head()"
      ],
      "metadata": {
        "colab": {
          "base_uri": "https://localhost:8080/",
          "height": 571
        },
        "id": "s-lRXm2gCSEO",
        "outputId": "e35e7a5b-f5bb-4291-9a7a-970f0cc5c533"
      },
      "execution_count": null,
      "outputs": [
        {
          "output_type": "execute_result",
          "data": {
            "text/plain": [
              "   Unnamed: 0     id  episode_id  number  \\\n",
              "0           0  10368          35      29   \n",
              "1           1  10369          35      30   \n",
              "2           2  10370          35      31   \n",
              "3           3  10372          35      33   \n",
              "4           4  10374          35      35   \n",
              "\n",
              "                                            raw_text  timestamp_in_ms  \\\n",
              "0           Lisa Simpson: Maggie, look. What's that?           235000   \n",
              "1                    Lisa Simpson: Lee-mur. Lee-mur.           237000   \n",
              "2                    Lisa Simpson: Zee-boo. Zee-boo.           239000   \n",
              "3  Lisa Simpson: I'm trying to teach Maggie that ...           245000   \n",
              "4  Lisa Simpson: It's like an ox, only it has a h...           254000   \n",
              "\n",
              "   speaking_line  character_id  location_id raw_character_text  \\\n",
              "0           True             9          5.0       Lisa Simpson   \n",
              "1           True             9          5.0       Lisa Simpson   \n",
              "2           True             9          5.0       Lisa Simpson   \n",
              "3           True             9          5.0       Lisa Simpson   \n",
              "4           True             9          5.0       Lisa Simpson   \n",
              "\n",
              "  raw_location_text                                       spoken_words  \\\n",
              "0      Simpson Home                         Maggie, look. What's that?   \n",
              "1      Simpson Home                                  Lee-mur. Lee-mur.   \n",
              "2      Simpson Home                                  Zee-boo. Zee-boo.   \n",
              "3      Simpson Home  I'm trying to teach Maggie that nature doesn't...   \n",
              "4      Simpson Home  It's like an ox, only it has a hump and a dewl...   \n",
              "\n",
              "                                     normalized_text  word_count  \n",
              "0                             maggie look whats that         4.0  \n",
              "1                                    lee-mur lee-mur         2.0  \n",
              "2                                    zee-boo zee-boo         2.0  \n",
              "3  im trying to teach maggie that nature doesnt e...        24.0  \n",
              "4  its like an ox only it has a hump and a dewlap...        18.0  "
            ],
            "text/html": [
              "\n",
              "  <div id=\"df-975f58c5-fa64-4748-b6bb-e18de4207148\" class=\"colab-df-container\">\n",
              "    <div>\n",
              "<style scoped>\n",
              "    .dataframe tbody tr th:only-of-type {\n",
              "        vertical-align: middle;\n",
              "    }\n",
              "\n",
              "    .dataframe tbody tr th {\n",
              "        vertical-align: top;\n",
              "    }\n",
              "\n",
              "    .dataframe thead th {\n",
              "        text-align: right;\n",
              "    }\n",
              "</style>\n",
              "<table border=\"1\" class=\"dataframe\">\n",
              "  <thead>\n",
              "    <tr style=\"text-align: right;\">\n",
              "      <th></th>\n",
              "      <th>Unnamed: 0</th>\n",
              "      <th>id</th>\n",
              "      <th>episode_id</th>\n",
              "      <th>number</th>\n",
              "      <th>raw_text</th>\n",
              "      <th>timestamp_in_ms</th>\n",
              "      <th>speaking_line</th>\n",
              "      <th>character_id</th>\n",
              "      <th>location_id</th>\n",
              "      <th>raw_character_text</th>\n",
              "      <th>raw_location_text</th>\n",
              "      <th>spoken_words</th>\n",
              "      <th>normalized_text</th>\n",
              "      <th>word_count</th>\n",
              "    </tr>\n",
              "  </thead>\n",
              "  <tbody>\n",
              "    <tr>\n",
              "      <th>0</th>\n",
              "      <td>0</td>\n",
              "      <td>10368</td>\n",
              "      <td>35</td>\n",
              "      <td>29</td>\n",
              "      <td>Lisa Simpson: Maggie, look. What's that?</td>\n",
              "      <td>235000</td>\n",
              "      <td>True</td>\n",
              "      <td>9</td>\n",
              "      <td>5.0</td>\n",
              "      <td>Lisa Simpson</td>\n",
              "      <td>Simpson Home</td>\n",
              "      <td>Maggie, look. What's that?</td>\n",
              "      <td>maggie look whats that</td>\n",
              "      <td>4.0</td>\n",
              "    </tr>\n",
              "    <tr>\n",
              "      <th>1</th>\n",
              "      <td>1</td>\n",
              "      <td>10369</td>\n",
              "      <td>35</td>\n",
              "      <td>30</td>\n",
              "      <td>Lisa Simpson: Lee-mur. Lee-mur.</td>\n",
              "      <td>237000</td>\n",
              "      <td>True</td>\n",
              "      <td>9</td>\n",
              "      <td>5.0</td>\n",
              "      <td>Lisa Simpson</td>\n",
              "      <td>Simpson Home</td>\n",
              "      <td>Lee-mur. Lee-mur.</td>\n",
              "      <td>lee-mur lee-mur</td>\n",
              "      <td>2.0</td>\n",
              "    </tr>\n",
              "    <tr>\n",
              "      <th>2</th>\n",
              "      <td>2</td>\n",
              "      <td>10370</td>\n",
              "      <td>35</td>\n",
              "      <td>31</td>\n",
              "      <td>Lisa Simpson: Zee-boo. Zee-boo.</td>\n",
              "      <td>239000</td>\n",
              "      <td>True</td>\n",
              "      <td>9</td>\n",
              "      <td>5.0</td>\n",
              "      <td>Lisa Simpson</td>\n",
              "      <td>Simpson Home</td>\n",
              "      <td>Zee-boo. Zee-boo.</td>\n",
              "      <td>zee-boo zee-boo</td>\n",
              "      <td>2.0</td>\n",
              "    </tr>\n",
              "    <tr>\n",
              "      <th>3</th>\n",
              "      <td>3</td>\n",
              "      <td>10372</td>\n",
              "      <td>35</td>\n",
              "      <td>33</td>\n",
              "      <td>Lisa Simpson: I'm trying to teach Maggie that ...</td>\n",
              "      <td>245000</td>\n",
              "      <td>True</td>\n",
              "      <td>9</td>\n",
              "      <td>5.0</td>\n",
              "      <td>Lisa Simpson</td>\n",
              "      <td>Simpson Home</td>\n",
              "      <td>I'm trying to teach Maggie that nature doesn't...</td>\n",
              "      <td>im trying to teach maggie that nature doesnt e...</td>\n",
              "      <td>24.0</td>\n",
              "    </tr>\n",
              "    <tr>\n",
              "      <th>4</th>\n",
              "      <td>4</td>\n",
              "      <td>10374</td>\n",
              "      <td>35</td>\n",
              "      <td>35</td>\n",
              "      <td>Lisa Simpson: It's like an ox, only it has a h...</td>\n",
              "      <td>254000</td>\n",
              "      <td>True</td>\n",
              "      <td>9</td>\n",
              "      <td>5.0</td>\n",
              "      <td>Lisa Simpson</td>\n",
              "      <td>Simpson Home</td>\n",
              "      <td>It's like an ox, only it has a hump and a dewl...</td>\n",
              "      <td>its like an ox only it has a hump and a dewlap...</td>\n",
              "      <td>18.0</td>\n",
              "    </tr>\n",
              "  </tbody>\n",
              "</table>\n",
              "</div>\n",
              "    <div class=\"colab-df-buttons\">\n",
              "\n",
              "  <div class=\"colab-df-container\">\n",
              "    <button class=\"colab-df-convert\" onclick=\"convertToInteractive('df-975f58c5-fa64-4748-b6bb-e18de4207148')\"\n",
              "            title=\"Convert this dataframe to an interactive table.\"\n",
              "            style=\"display:none;\">\n",
              "\n",
              "  <svg xmlns=\"http://www.w3.org/2000/svg\" height=\"24px\" viewBox=\"0 -960 960 960\">\n",
              "    <path d=\"M120-120v-720h720v720H120Zm60-500h600v-160H180v160Zm220 220h160v-160H400v160Zm0 220h160v-160H400v160ZM180-400h160v-160H180v160Zm440 0h160v-160H620v160ZM180-180h160v-160H180v160Zm440 0h160v-160H620v160Z\"/>\n",
              "  </svg>\n",
              "    </button>\n",
              "\n",
              "  <style>\n",
              "    .colab-df-container {\n",
              "      display:flex;\n",
              "      gap: 12px;\n",
              "    }\n",
              "\n",
              "    .colab-df-convert {\n",
              "      background-color: #E8F0FE;\n",
              "      border: none;\n",
              "      border-radius: 50%;\n",
              "      cursor: pointer;\n",
              "      display: none;\n",
              "      fill: #1967D2;\n",
              "      height: 32px;\n",
              "      padding: 0 0 0 0;\n",
              "      width: 32px;\n",
              "    }\n",
              "\n",
              "    .colab-df-convert:hover {\n",
              "      background-color: #E2EBFA;\n",
              "      box-shadow: 0px 1px 2px rgba(60, 64, 67, 0.3), 0px 1px 3px 1px rgba(60, 64, 67, 0.15);\n",
              "      fill: #174EA6;\n",
              "    }\n",
              "\n",
              "    .colab-df-buttons div {\n",
              "      margin-bottom: 4px;\n",
              "    }\n",
              "\n",
              "    [theme=dark] .colab-df-convert {\n",
              "      background-color: #3B4455;\n",
              "      fill: #D2E3FC;\n",
              "    }\n",
              "\n",
              "    [theme=dark] .colab-df-convert:hover {\n",
              "      background-color: #434B5C;\n",
              "      box-shadow: 0px 1px 3px 1px rgba(0, 0, 0, 0.15);\n",
              "      filter: drop-shadow(0px 1px 2px rgba(0, 0, 0, 0.3));\n",
              "      fill: #FFFFFF;\n",
              "    }\n",
              "  </style>\n",
              "\n",
              "    <script>\n",
              "      const buttonEl =\n",
              "        document.querySelector('#df-975f58c5-fa64-4748-b6bb-e18de4207148 button.colab-df-convert');\n",
              "      buttonEl.style.display =\n",
              "        google.colab.kernel.accessAllowed ? 'block' : 'none';\n",
              "\n",
              "      async function convertToInteractive(key) {\n",
              "        const element = document.querySelector('#df-975f58c5-fa64-4748-b6bb-e18de4207148');\n",
              "        const dataTable =\n",
              "          await google.colab.kernel.invokeFunction('convertToInteractive',\n",
              "                                                    [key], {});\n",
              "        if (!dataTable) return;\n",
              "\n",
              "        const docLinkHtml = 'Like what you see? Visit the ' +\n",
              "          '<a target=\"_blank\" href=https://colab.research.google.com/notebooks/data_table.ipynb>data table notebook</a>'\n",
              "          + ' to learn more about interactive tables.';\n",
              "        element.innerHTML = '';\n",
              "        dataTable['output_type'] = 'display_data';\n",
              "        await google.colab.output.renderOutput(dataTable, element);\n",
              "        const docLink = document.createElement('div');\n",
              "        docLink.innerHTML = docLinkHtml;\n",
              "        element.appendChild(docLink);\n",
              "      }\n",
              "    </script>\n",
              "  </div>\n",
              "\n",
              "\n",
              "<div id=\"df-af6bf249-2e0b-479d-9b8e-089fa51239c1\">\n",
              "  <button class=\"colab-df-quickchart\" onclick=\"quickchart('df-af6bf249-2e0b-479d-9b8e-089fa51239c1')\"\n",
              "            title=\"Suggest charts.\"\n",
              "            style=\"display:none;\">\n",
              "\n",
              "<svg xmlns=\"http://www.w3.org/2000/svg\" height=\"24px\"viewBox=\"0 0 24 24\"\n",
              "     width=\"24px\">\n",
              "    <g>\n",
              "        <path d=\"M19 3H5c-1.1 0-2 .9-2 2v14c0 1.1.9 2 2 2h14c1.1 0 2-.9 2-2V5c0-1.1-.9-2-2-2zM9 17H7v-7h2v7zm4 0h-2V7h2v10zm4 0h-2v-4h2v4z\"/>\n",
              "    </g>\n",
              "</svg>\n",
              "  </button>\n",
              "\n",
              "<style>\n",
              "  .colab-df-quickchart {\n",
              "    background-color: #E8F0FE;\n",
              "    border: none;\n",
              "    border-radius: 50%;\n",
              "    cursor: pointer;\n",
              "    display: none;\n",
              "    fill: #1967D2;\n",
              "    height: 32px;\n",
              "    padding: 0 0 0 0;\n",
              "    width: 32px;\n",
              "  }\n",
              "\n",
              "  .colab-df-quickchart:hover {\n",
              "    background-color: #E2EBFA;\n",
              "    box-shadow: 0px 1px 2px rgba(60, 64, 67, 0.3), 0px 1px 3px 1px rgba(60, 64, 67, 0.15);\n",
              "    fill: #174EA6;\n",
              "  }\n",
              "\n",
              "  [theme=dark] .colab-df-quickchart {\n",
              "    background-color: #3B4455;\n",
              "    fill: #D2E3FC;\n",
              "  }\n",
              "\n",
              "  [theme=dark] .colab-df-quickchart:hover {\n",
              "    background-color: #434B5C;\n",
              "    box-shadow: 0px 1px 3px 1px rgba(0, 0, 0, 0.15);\n",
              "    filter: drop-shadow(0px 1px 2px rgba(0, 0, 0, 0.3));\n",
              "    fill: #FFFFFF;\n",
              "  }\n",
              "</style>\n",
              "\n",
              "  <script>\n",
              "    async function quickchart(key) {\n",
              "      const charts = await google.colab.kernel.invokeFunction(\n",
              "          'suggestCharts', [key], {});\n",
              "    }\n",
              "    (() => {\n",
              "      let quickchartButtonEl =\n",
              "        document.querySelector('#df-af6bf249-2e0b-479d-9b8e-089fa51239c1 button');\n",
              "      quickchartButtonEl.style.display =\n",
              "        google.colab.kernel.accessAllowed ? 'block' : 'none';\n",
              "    })();\n",
              "  </script>\n",
              "</div>\n",
              "    </div>\n",
              "  </div>\n"
            ]
          },
          "metadata": {},
          "execution_count": 3
        }
      ]
    },
    {
      "cell_type": "code",
      "source": [
        "df.dropna(inplace=True)"
      ],
      "metadata": {
        "id": "B-bgtLBRZu4d"
      },
      "execution_count": null,
      "outputs": []
    },
    {
      "cell_type": "code",
      "source": [
        "phrases = df['normalized_text'].tolist()  # колонка с предобработанными текстами\n",
        "phrases[:10]"
      ],
      "metadata": {
        "colab": {
          "base_uri": "https://localhost:8080/"
        },
        "id": "DRUbfetaF19l",
        "outputId": "a75f41d3-a1aa-4fe9-a44f-f7b42869bca7"
      },
      "execution_count": null,
      "outputs": [
        {
          "output_type": "execute_result",
          "data": {
            "text/plain": [
              "['maggie look whats that',\n",
              " 'lee-mur lee-mur',\n",
              " 'zee-boo zee-boo',\n",
              " 'im trying to teach maggie that nature doesnt end with the barnyard i want her to have all the advantages that i didnt have',\n",
              " 'its like an ox only it has a hump and a dewlap hump and dew-lap hump and dew-lap',\n",
              " 'you know his blood type how romantic',\n",
              " 'oh yeah whats my shoe size',\n",
              " 'ring',\n",
              " 'yes dad',\n",
              " 'ooh look maggie what is that do-dec-ah-edron dodecahedron']"
            ]
          },
          "metadata": {},
          "execution_count": 6
        }
      ]
    },
    {
      "cell_type": "code",
      "source": [
        "# токенизация\n",
        "text = [[c for c in ph] for ph in phrases if type(ph) is str]"
      ],
      "metadata": {
        "id": "WVrvQyBxF7pd"
      },
      "execution_count": null,
      "outputs": []
    },
    {
      "cell_type": "code",
      "source": [
        "# Создание словаря и кодировка текста\n",
        "\n",
        "CHARS = set('abcdefghijklmnopqrstuvwxyz ')  # все символы, которые мы хотим использовать для кодировки = наш словарь\n",
        "INDEX_TO_CHAR = ['none'] + [w for w in CHARS]  # все неизвестные символы будут получать тег none\n",
        "CHAR_TO_INDEX = {w: i for i, w in enumerate(INDEX_TO_CHAR)}  # словарь токен-индекс"
      ],
      "metadata": {
        "id": "65cJLSbyGBXv"
      },
      "execution_count": null,
      "outputs": []
    },
    {
      "cell_type": "code",
      "source": [
        "# векторы с фразами\n",
        "MAX_LEN = 50  # мы хотим ограничить максимальную длину ввода\n",
        "X = torch.zeros((len(text), MAX_LEN), dtype=int)  # создаём пустой вектор для текста, чтобы класть в него индексы токенов\n",
        "for i in range(len(text)):  # для каждого предложения\n",
        "    for j, w in enumerate(text[i]):  # для каждого токена\n",
        "        if j >= MAX_LEN:\n",
        "            break\n",
        "        X[i, j] = CHAR_TO_INDEX.get(w, CHAR_TO_INDEX['none'])"
      ],
      "metadata": {
        "id": "RGtcwN0EGMha"
      },
      "execution_count": null,
      "outputs": []
    },
    {
      "cell_type": "code",
      "source": [
        "X[0].shape"
      ],
      "metadata": {
        "colab": {
          "base_uri": "https://localhost:8080/"
        },
        "id": "3CjahyipGTw7",
        "outputId": "bd9165d0-cea9-4702-988d-3e46fcaccfff"
      },
      "execution_count": null,
      "outputs": [
        {
          "output_type": "execute_result",
          "data": {
            "text/plain": [
              "torch.Size([50])"
            ]
          },
          "metadata": {},
          "execution_count": 10
        }
      ]
    },
    {
      "cell_type": "code",
      "source": [
        "# превращение векторов в эмбединги\n",
        "embeddings = torch.nn.Embedding(len(INDEX_TO_CHAR), 28)  # размер словаря * размер вектора для кодировки каждого слова\n",
        "t = embeddings(X[0:5])\n",
        "t.shape"
      ],
      "metadata": {
        "colab": {
          "base_uri": "https://localhost:8080/"
        },
        "id": "t_lI4o7mGked",
        "outputId": "93405435-89e0-4a88-aa5d-54e4c71f6ef5"
      },
      "execution_count": null,
      "outputs": [
        {
          "output_type": "execute_result",
          "data": {
            "text/plain": [
              "torch.Size([5, 50, 28])"
            ]
          },
          "metadata": {},
          "execution_count": 11
        }
      ]
    },
    {
      "cell_type": "code",
      "source": [
        "rnn = torch.nn.RNN(28, 128, batch_first=True)  # на вход - размер эмбеддинга, размер скрытого состояния и порядок размерностей\n",
        "o, s = rnn(t)\n",
        "# вектора для слов: батч * число токенов * размер скрытого состояния\n",
        "# вектор скрытого состояния: число вектров (один) * батч * размер скрытого состояния\n",
        "o.shape, s.shape"
      ],
      "metadata": {
        "colab": {
          "base_uri": "https://localhost:8080/"
        },
        "id": "Zg7JbD-PHUD-",
        "outputId": "a85d7029-1a88-4aff-c8cf-013ce2a76771"
      },
      "execution_count": null,
      "outputs": [
        {
          "output_type": "execute_result",
          "data": {
            "text/plain": [
              "(torch.Size([5, 50, 128]), torch.Size([1, 5, 128]))"
            ]
          },
          "metadata": {},
          "execution_count": 13
        }
      ]
    },
    {
      "cell_type": "code",
      "source": [
        "rnn"
      ],
      "metadata": {
        "colab": {
          "base_uri": "https://localhost:8080/"
        },
        "id": "XuEd61rHLRfw",
        "outputId": "0b70fbf5-bb21-4b3e-9fdc-17f7e59ac3c9"
      },
      "execution_count": null,
      "outputs": [
        {
          "output_type": "execute_result",
          "data": {
            "text/plain": [
              "RNN(28, 128, batch_first=True)"
            ]
          },
          "metadata": {},
          "execution_count": 14
        }
      ]
    },
    {
      "cell_type": "markdown",
      "source": [
        "### Построение нейронной сети"
      ],
      "metadata": {
        "id": "cF17A_6sLH1B"
      }
    },
    {
      "cell_type": "code",
      "source": [
        "class Network(torch.nn.Module):\n",
        "    def __init__(self):\n",
        "        super(Network, self).__init__()\n",
        "        self.embedding = torch.nn.Embedding(28, 30)\n",
        "        self.rnn = torch.nn.RNN(30, 128)\n",
        "        self.out = torch.nn.Linear(128, 28)\n",
        "\n",
        "    def forward(self, sentences, state=None):\n",
        "        x = self.embedding(sentences)\n",
        "        x, s = self.rnn(x) # берём выход с последнего слоя для всех токенов, а не скрытое состояние\n",
        "        return self.out(x)"
      ],
      "metadata": {
        "id": "10hDZNmjGryq"
      },
      "execution_count": null,
      "outputs": []
    },
    {
      "cell_type": "code",
      "source": [
        "model = Network()"
      ],
      "metadata": {
        "id": "l5WE_lJjaMeJ"
      },
      "execution_count": null,
      "outputs": []
    },
    {
      "cell_type": "code",
      "source": [
        "criterion = torch.nn.CrossEntropyLoss()  # типичный лосс многоклассовой классификации\n",
        "optimizer = torch.optim.Adam(model.parameters(), lr=.01)"
      ],
      "metadata": {
        "id": "c-00US7MPypz"
      },
      "execution_count": null,
      "outputs": []
    },
    {
      "cell_type": "markdown",
      "source": [
        "### Обучение"
      ],
      "metadata": {
        "id": "B3a5UHleLLy3"
      }
    },
    {
      "cell_type": "code",
      "source": [
        "history_loss = []\n",
        "\n",
        "\n",
        "for ep in range(100):\n",
        "    start = time.time()\n",
        "    train_loss = 0.\n",
        "    train_passed = 0\n",
        "\n",
        "    for i in range(int(len(X) / 100)):\n",
        "        # берём батч в 100 элементов\n",
        "        batch = X[i * 100:(i + 1) * 100]\n",
        "        X_batch = batch[:, :-1]\n",
        "        Y_batch = batch[:, 1:].flatten()\n",
        "\n",
        "        optimizer.zero_grad()\n",
        "        answers = model.forward(X_batch)\n",
        "        answers = answers.view(-1, len(INDEX_TO_CHAR))\n",
        "        loss = criterion(answers, Y_batch)\n",
        "        train_loss += loss.item()\n",
        "\n",
        "        loss.backward()\n",
        "        optimizer.step()\n",
        "        train_passed += 1\n",
        "\n",
        "    if ep % 10 == 0:\n",
        "            print(\"Epoch {}. Time: {:.3f}, Train loss: {:.3f}\".format(ep, time.time() - start, train_loss / train_passed))\n",
        "    history_loss.append(train_loss / train_passed)\n"
      ],
      "metadata": {
        "colab": {
          "base_uri": "https://localhost:8080/"
        },
        "id": "iYaYjO-4bLXv",
        "outputId": "e5fd40fc-b61d-478d-b286-1a2ef83720ee"
      },
      "execution_count": null,
      "outputs": [
        {
          "output_type": "stream",
          "name": "stdout",
          "text": [
            "Epoch 0. Time: 2.419, Train loss: 1.726\n",
            "Epoch 10. Time: 2.390, Train loss: 1.624\n",
            "Epoch 20. Time: 3.050, Train loss: 1.617\n",
            "Epoch 30. Time: 2.349, Train loss: 1.614\n",
            "Epoch 40. Time: 2.361, Train loss: 1.630\n",
            "Epoch 50. Time: 2.460, Train loss: 1.636\n",
            "Epoch 60. Time: 2.808, Train loss: 1.630\n",
            "Epoch 70. Time: 2.659, Train loss: 1.631\n",
            "Epoch 80. Time: 2.413, Train loss: 1.630\n",
            "Epoch 90. Time: 2.424, Train loss: 1.629\n"
          ]
        }
      ]
    },
    {
      "cell_type": "code",
      "source": [
        "# график для отображения динамики loss\n",
        "plt.figure(figsize=(7, 4))\n",
        "\n",
        "plt.plot(history_loss, label = 'train')\n",
        "\n",
        "plt.title('Loss by epoch iterations')\n",
        "plt.ylabel('Entropy Loss')\n",
        "plt.xlabel('epoch')\n",
        "plt.legend()\n",
        "plt.show()"
      ],
      "metadata": {
        "colab": {
          "base_uri": "https://localhost:8080/",
          "height": 410
        },
        "id": "ybFcuKUmat9a",
        "outputId": "4cd6b115-c717-4664-fd83-f050effa6e3f"
      },
      "execution_count": null,
      "outputs": [
        {
          "output_type": "display_data",
          "data": {
            "text/plain": [
              "<Figure size 700x400 with 1 Axes>"
            ],
            "image/png": "[encoded data removed]"
          },
          "metadata": {}
        }
      ]
    },
    {
      "cell_type": "code",
      "source": [
        "def generate_sentence(word):\n",
        "    sentence = list(word)\n",
        "    sentence = [CHAR_TO_INDEX.get(s, 0) for s in sentence]\n",
        "    answers = model.forward(torch.tensor(sentence))\n",
        "    probas, indices = answers.topk(1)\n",
        "    return ''.join([INDEX_TO_CHAR[ind.item()] for ind in indices.flatten()])"
      ],
      "metadata": {
        "id": "mTc1vI5SQJiY"
      },
      "execution_count": null,
      "outputs": []
    },
    {
      "cell_type": "code",
      "source": [
        "generate_sentence('like an ox only')"
      ],
      "metadata": {
        "colab": {
          "base_uri": "https://localhost:8080/",
          "height": 35
        },
        "id": "G0cnqHPVQMmM",
        "outputId": "1934fd3d-366d-49c4-e165-efba83bc23f9"
      },
      "execution_count": null,
      "outputs": [
        {
          "output_type": "execute_result",
          "data": {
            "text/plain": [
              "' ne tn t ct  eo'"
            ],
            "application/vnd.google.colaboratory.intrinsic+json": {
              "type": "string"
            }
          },
          "metadata": {},
          "execution_count": 28
        }
      ]
    },
    {
      "cell_type": "markdown",
      "source": [
        "Вывод: текст генерируется, но качество получаемых выходов плохое"
      ],
      "metadata": {
        "id": "iIrcJCT8c3E_"
      }
    },
    {
      "cell_type": "code",
      "source": [],
      "metadata": {
        "id": "sqAdxLUYecnP"
      },
      "execution_count": null,
      "outputs": []
    }
  ]
}