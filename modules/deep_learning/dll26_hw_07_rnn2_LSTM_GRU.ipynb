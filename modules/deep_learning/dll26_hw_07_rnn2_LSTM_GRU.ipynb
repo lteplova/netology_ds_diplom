{
  "nbformat": 4,
  "nbformat_minor": 0,
  "metadata": {
    "colab": {
      "provenance": [],
      "gpuType": "T4",
      "toc_visible": true
    },
    "kernelspec": {
      "name": "python3",
      "display_name": "Python 3"
    },
    "language_info": {
      "name": "python"
    },
    "accelerator": "GPU"
  },
  "cells": [
    {
      "cell_type": "markdown",
      "source": [
        "# Домашнее задание по лекции \"Рекуррентные сети 2\"\n",
        "\n",
        "\n",
        "научить модель предсказывать y(i) по x(i)\n",
        "пробовать RNN, LSTM, GRU\n",
        "\n",
        "Задание 2 (дополнительное и необязательное)\n",
        "применить LSTM для решения лекционного практического задания\n",
        "colab.research.google.com...mRGTSSeICL"
      ],
      "metadata": {
        "id": "uC-rqhLYHhNe"
      }
    },
    {
      "cell_type": "markdown",
      "source": [
        "### импорт библиотек"
      ],
      "metadata": {
        "id": "VhuodQRyIr0F"
      }
    },
    {
      "cell_type": "code",
      "source": [
        "import torch\n",
        "from torch import nn\n",
        "import re\n",
        "import random\n",
        "import tqdm\n",
        "import time\n",
        "import numpy as np\n",
        "import matplotlib.pyplot as plt\n",
        "import pandas as pd\n"
      ],
      "metadata": {
        "id": "HlRMb4GNIviL"
      },
      "execution_count": null,
      "outputs": []
    },
    {
      "cell_type": "markdown",
      "source": [
        "## Задание 1"
      ],
      "metadata": {
        "id": "CZEY8b50WDH7"
      }
    },
    {
      "cell_type": "markdown",
      "source": [
        "Сгенерировать последовательности, которые бы состояли из цифр (от 0 до 9)\n",
        "и задавались следующим образом:\n",
        "x - последовательность цифр\n",
        "y1 = x1, y(i) = x(i) + x(1). Если y(i) >= 10, то y(i) = y(i) - 10\n",
        "\n",
        "Задача:\n",
        "научить модель предсказывать y(i) по x(i)\n",
        "пробовать RNN, LSTM, GRU"
      ],
      "metadata": {
        "id": "Mvf72gMHImQV"
      }
    },
    {
      "cell_type": "markdown",
      "source": [
        "### генерация и подготовка данных"
      ],
      "metadata": {
        "id": "fUPnunr0I2NI"
      }
    },
    {
      "cell_type": "code",
      "execution_count": null,
      "metadata": {
        "id": "aqy5BghjHY2q"
      },
      "outputs": [],
      "source": [
        "# создание последовательностей\n",
        "X_1 = torch.randint(0,9,(1000,25)).numpy()\n",
        "X_2 = torch.randint(0,9,(1000,75)).numpy()\n",
        "X_3 = torch.randint(0,9,(1000,150)).numpy()"
      ]
    },
    {
      "cell_type": "code",
      "source": [
        "# функция создания таргета\n",
        "def target(X):\n",
        "    Y = []\n",
        "    Y_j = []\n",
        "    for i, el in enumerate(X):\n",
        "        for j, x in enumerate(el):\n",
        "            if j == 0:\n",
        "                x_1 = x\n",
        "                Y_j.append(x_1)\n",
        "            else:\n",
        "                y = x_1 + x\n",
        "                if y > 9:\n",
        "                    Y_j.append(y - 10)\n",
        "                else:\n",
        "                    Y_j.append(y)\n",
        "        Y.append(Y_j)\n",
        "        Y_j = []\n",
        "    return Y"
      ],
      "metadata": {
        "id": "KqZk0Ce5adsz"
      },
      "execution_count": null,
      "outputs": []
    },
    {
      "cell_type": "code",
      "source": [
        "Y_1 = target(X_1)\n",
        "Y_2 = target(X_2)\n",
        "Y_3 = target(X_3)\n",
        "\n",
        "X_1 = [[el for el in seq] for seq in X_1]\n",
        "X_2 = [[el for el in seq] for seq in X_2]\n",
        "X_3 = [[el for el in seq] for seq in X_3]"
      ],
      "metadata": {
        "id": "WduoCfoYaUSL"
      },
      "execution_count": null,
      "outputs": []
    },
    {
      "cell_type": "code",
      "source": [
        "print(X_1[0])\n",
        "print(Y_1[0])"
      ],
      "metadata": {
        "colab": {
          "base_uri": "https://localhost:8080/"
        },
        "id": "pRqbEGV6e_X_",
        "outputId": "27f612f2-8178-45d7-ad6f-5632c428ced8"
      },
      "execution_count": null,
      "outputs": [
        {
          "output_type": "stream",
          "name": "stdout",
          "text": [
            "[1, 1, 5, 8, 0, 2, 0, 1, 6, 1, 3, 7, 3, 8, 1, 5, 8, 8, 1, 0, 4, 5, 6, 4, 3]\n",
            "[1, 2, 6, 9, 1, 3, 1, 2, 7, 2, 4, 8, 4, 9, 2, 6, 9, 9, 2, 1, 5, 6, 7, 5, 4]\n"
          ]
        }
      ]
    },
    {
      "cell_type": "code",
      "source": [
        "print(X_2[0])\n",
        "print(Y_2[0])"
      ],
      "metadata": {
        "colab": {
          "base_uri": "https://localhost:8080/"
        },
        "id": "dbDBmUS_foUj",
        "outputId": "08e95094-1115-471b-d686-a2f0f31fa55e"
      },
      "execution_count": null,
      "outputs": [
        {
          "output_type": "stream",
          "name": "stdout",
          "text": [
            "[2, 5, 0, 4, 6, 5, 5, 6, 7, 6, 0, 5, 1, 7, 4, 0, 8, 7, 1, 3, 6, 5, 4, 3, 3, 8, 1, 5, 7, 3, 5, 4, 2, 3, 2, 1, 0, 5, 6, 3, 2, 2, 3, 5, 7, 1, 5, 7, 0, 0, 6, 7, 4, 4, 2, 7, 1, 1, 8, 1, 8, 3, 0, 3, 5, 1, 6, 0, 0, 7, 5, 0, 7, 7, 8]\n",
            "[2, 7, 2, 6, 8, 7, 7, 8, 9, 8, 2, 7, 3, 9, 6, 2, 0, 9, 3, 5, 8, 7, 6, 5, 5, 0, 3, 7, 9, 5, 7, 6, 4, 5, 4, 3, 2, 7, 8, 5, 4, 4, 5, 7, 9, 3, 7, 9, 2, 2, 8, 9, 6, 6, 4, 9, 3, 3, 0, 3, 0, 5, 2, 5, 7, 3, 8, 2, 2, 9, 7, 2, 9, 9, 0]\n"
          ]
        }
      ]
    },
    {
      "cell_type": "code",
      "source": [
        "# словарь для кодировки данных\n",
        "INDEX_TO_CHAR = sorted(list('0123456789'))\n",
        "CHAR_TO_INDEX = {c: i for i, c in enumerate(INDEX_TO_CHAR)}"
      ],
      "metadata": {
        "id": "U_oTZSA5fWIz"
      },
      "execution_count": null,
      "outputs": []
    },
    {
      "cell_type": "code",
      "source": [
        "# Функция кодировки данных в вектора\n",
        "\n",
        "def to_tensor(data):\n",
        "    MAX_LEN = len(data[0])  # мы хотим ограничить максимальную длину ввода\n",
        "    Z = torch.zeros((len(data), MAX_LEN), dtype=int)  # создаём пустой вектор для входных символов, чтобы класть в него индексы токенов\n",
        "    for i in range(len(data)):  # для каждого предложения\n",
        "        for j, w in enumerate(data[i]):  # для каждого токена\n",
        "            if j >= MAX_LEN:\n",
        "                break\n",
        "            Z[i, j] = CHAR_TO_INDEX[str(w)]\n",
        "    return Z"
      ],
      "metadata": {
        "id": "JN1dWV3PmOH-"
      },
      "execution_count": null,
      "outputs": []
    },
    {
      "cell_type": "code",
      "source": [
        "X1 = to_tensor(X_1)\n",
        "Y1 = to_tensor(Y_1)\n",
        "X2 = to_tensor(X_2)\n",
        "Y2 = to_tensor(Y_2)\n",
        "X3 = to_tensor(X_3)\n",
        "Y3 = to_tensor(Y_3)"
      ],
      "metadata": {
        "id": "7vrFrf0FmF92"
      },
      "execution_count": null,
      "outputs": []
    },
    {
      "cell_type": "code",
      "source": [
        "X2.shape"
      ],
      "metadata": {
        "colab": {
          "base_uri": "https://localhost:8080/"
        },
        "id": "4YMjX7IDc5wa",
        "outputId": "e786673e-6bb3-4249-ffcc-063054929be9"
      },
      "execution_count": null,
      "outputs": [
        {
          "output_type": "execute_result",
          "data": {
            "text/plain": [
              "torch.Size([1000, 75])"
            ]
          },
          "metadata": {},
          "execution_count": 10
        }
      ]
    },
    {
      "cell_type": "code",
      "source": [
        "Y2.shape"
      ],
      "metadata": {
        "colab": {
          "base_uri": "https://localhost:8080/"
        },
        "id": "hHWhk9GJxHYP",
        "outputId": "09f51a11-6020-42e8-f17f-584287b74015"
      },
      "execution_count": null,
      "outputs": [
        {
          "output_type": "execute_result",
          "data": {
            "text/plain": [
              "torch.Size([1000, 75])"
            ]
          },
          "metadata": {},
          "execution_count": 11
        }
      ]
    },
    {
      "cell_type": "markdown",
      "source": [
        "### вспомогательные функции"
      ],
      "metadata": {
        "id": "q1YuJnkEQ8mn"
      }
    },
    {
      "cell_type": "code",
      "source": [
        "# функция для обучения\n",
        "def train(X, y):\n",
        "    history_loss = []\n",
        "\n",
        "    n_epochs = 100\n",
        "    for epoch in range(1, n_epochs + 1):\n",
        "    # for ep in range(100):\n",
        "        start = time.time()\n",
        "        train_loss = 0.\n",
        "        train_passed = 0\n",
        "\n",
        "        for i in range(int(len(X1) / 100)):\n",
        "            # берём батч в 100 элементов\n",
        "            X_batch = X1[i * 100:(i + 1) * 100]\n",
        "            Y_batch = Y1[i * 100:(i + 1) * 100].flatten()\n",
        "\n",
        "\n",
        "            optimizer.zero_grad()\n",
        "\n",
        "            answers = model.forward(X_batch)\n",
        "            answers = answers.view(-1, len(INDEX_TO_CHAR))\n",
        "            loss = criterion(answers, Y_batch)\n",
        "            train_loss += loss.item()\n",
        "\n",
        "            loss.backward()\n",
        "            optimizer.step()\n",
        "            train_passed += 1\n",
        "\n",
        "        if epoch%10 == 0:\n",
        "            print(\"Epoch : {}/{}.............'. Time: {:.3f}, Train loss: {:.3f}\".format(epoch, n_epochs, time.time() - start, train_loss / train_passed))\n",
        "        history_loss.append(train_loss / train_passed)\n",
        "    return history_loss"
      ],
      "metadata": {
        "id": "b4z1_-v6REhg"
      },
      "execution_count": null,
      "outputs": []
    },
    {
      "cell_type": "code",
      "source": [
        "# отрисовка гарфика лосса\n",
        "def loss_plt(history):\n",
        "    plt.figure(figsize=(7, 4))\n",
        "\n",
        "    plt.plot(history, label = 'train')\n",
        "\n",
        "    plt.title('Loss by epoch iterations')\n",
        "    plt.ylabel('Entropy Loss')\n",
        "    plt.xlabel('epoch')\n",
        "    plt.legend()\n",
        "    plt.show()\n"
      ],
      "metadata": {
        "id": "YWfOE9sERja2"
      },
      "execution_count": null,
      "outputs": []
    },
    {
      "cell_type": "code",
      "source": [
        "# генерация выходной последовательности\n",
        "def generate_decryption_sentence(word):\n",
        "    sentence = list(word.lower())\n",
        "    sentence = [CHAR_TO_INDEX.get(s, 0) for s in sentence]\n",
        "    answers = model.forward(torch.tensor(sentence))\n",
        "    probas, indices = answers.topk(1)\n",
        "    return ''.join([INDEX_TO_CHAR[ind.item()] for ind in indices.flatten()])"
      ],
      "metadata": {
        "id": "naaZlXR6TVSB"
      },
      "execution_count": null,
      "outputs": []
    },
    {
      "cell_type": "code",
      "source": [],
      "metadata": {
        "id": "Oocj56vCttAX"
      },
      "execution_count": null,
      "outputs": []
    },
    {
      "cell_type": "code",
      "source": [
        "class Network(torch.nn.Module):\n",
        "    def __init__(self, rnnClass, dictionary_size, embedding_size, num_hiddens, num_classes):\n",
        "\n",
        "    # def __init__(self):\n",
        "        super(Network, self).__init__()\n",
        "        # self.embedding = torch.nn.Embedding(dictionary_size, embedding_size)\n",
        "        # self.rnn = torch.nn.RNN(embedding_size, num_hiddens)\n",
        "        # self.out = torch.nn.Linear(num_hiddens, num_classes)\n",
        "\n",
        "        self.num_hiddens = num_hiddens\n",
        "        self.embedding = nn.Embedding(dictionary_size, embedding_size)\n",
        "        self.hidden = rnnClass(embedding_size, num_hiddens, batch_first=True)\n",
        "        self.output = nn.Linear(num_hiddens, num_classes)\n",
        "\n",
        "    def forward(self, sentences, state=None):\n",
        "        x = self.embedding(sentences)\n",
        "        x, s = self.hidden (x) # берём выход с последнего слоя для всех токенов, а не скрытое состояние\n",
        "        return self.output(x)\n",
        "\n",
        "# model = Network()\n",
        "# model"
      ],
      "metadata": {
        "id": "wf8xzJiixR6x"
      },
      "execution_count": null,
      "outputs": []
    },
    {
      "cell_type": "markdown",
      "source": [
        "### Эксперименты с NN"
      ],
      "metadata": {
        "id": "ZXStV_ICtnBk"
      }
    },
    {
      "cell_type": "markdown",
      "source": [
        "#### dataset 1"
      ],
      "metadata": {
        "id": "cI7Cna0KSxZs"
      }
    },
    {
      "cell_type": "markdown",
      "source": [
        "##### RNN"
      ],
      "metadata": {
        "id": "xuabBw4ba0Jy"
      }
    },
    {
      "cell_type": "code",
      "source": [
        "X1[0]"
      ],
      "metadata": {
        "id": "C7iODP_7uNxM",
        "outputId": "4f9cacdf-07be-42b4-85b4-0fe8d021378b",
        "colab": {
          "base_uri": "https://localhost:8080/"
        }
      },
      "execution_count": null,
      "outputs": [
        {
          "output_type": "execute_result",
          "data": {
            "text/plain": [
              "tensor([1, 1, 5, 8, 0, 2, 0, 1, 6, 1, 3, 7, 3, 8, 1, 5, 8, 8, 1, 0, 4, 5, 6, 4,\n",
              "        3])"
            ]
          },
          "metadata": {},
          "execution_count": 21
        }
      ]
    },
    {
      "cell_type": "code",
      "source": [
        "rnnClass = nn.RNN\n",
        "embedding_size = len(X1[0])\n",
        "dictionary_size = len(INDEX_TO_CHAR)\n",
        "num_hiddens = 128\n",
        "num_classes = len(INDEX_TO_CHAR)\n",
        "model = Network(rnnClass, dictionary_size, embedding_size, num_hiddens, num_classes)\n",
        "model"
      ],
      "metadata": {
        "colab": {
          "base_uri": "https://localhost:8080/"
        },
        "id": "vy6SSRtRLClq",
        "outputId": "6346ba75-9e38-4f04-bd46-0ea78e4c5f25"
      },
      "execution_count": null,
      "outputs": [
        {
          "output_type": "execute_result",
          "data": {
            "text/plain": [
              "Network(\n",
              "  (embedding): Embedding(10, 25)\n",
              "  (hidden): RNN(25, 128, batch_first=True)\n",
              "  (output): Linear(in_features=128, out_features=10, bias=True)\n",
              ")"
            ]
          },
          "metadata": {},
          "execution_count": 19
        }
      ]
    },
    {
      "cell_type": "code",
      "source": [
        "criterion = torch.nn.CrossEntropyLoss()\n",
        "optimizer = torch.optim.Adam(model.parameters())"
      ],
      "metadata": {
        "id": "d9TnRXQsUQ-i"
      },
      "execution_count": null,
      "outputs": []
    },
    {
      "cell_type": "code",
      "source": [
        "len(INDEX_TO_CHAR)"
      ],
      "metadata": {
        "colab": {
          "base_uri": "https://localhost:8080/"
        },
        "id": "fF6apopqt4z1",
        "outputId": "2039a41d-1bb5-4b56-fc56-c887aadf3173"
      },
      "execution_count": null,
      "outputs": [
        {
          "output_type": "execute_result",
          "data": {
            "text/plain": [
              "10"
            ]
          },
          "metadata": {},
          "execution_count": 18
        }
      ]
    },
    {
      "cell_type": "code",
      "source": [
        "embeddings = torch.nn.Embedding(len(INDEX_TO_CHAR), 10)  # размер словаря * размер вектора для кодировки каждого слова\n",
        "t = embeddings(X1)\n",
        "rnn = torch.nn.RNN(10, 128, batch_first=True)\n",
        "o, s = rnn(t)\n",
        "o.shape, s.shape"
      ],
      "metadata": {
        "colab": {
          "base_uri": "https://localhost:8080/"
        },
        "id": "Dxg9PEROUK1Q",
        "outputId": "091942b7-0464-466f-b248-c0fc025cbd92"
      },
      "execution_count": null,
      "outputs": [
        {
          "output_type": "execute_result",
          "data": {
            "text/plain": [
              "(torch.Size([1000, 25, 128]), torch.Size([1, 1000, 128]))"
            ]
          },
          "metadata": {},
          "execution_count": 215
        }
      ]
    },
    {
      "cell_type": "code",
      "source": [
        "common_history = {}\n",
        "common_history ['dataset_1'] = {'rnn' : 0, 'lstm' : 0, 'gru' : 0}\n",
        "common_history ['dataset_2'] = {'rnn' : 0, 'lstm' : 0, 'gru' : 0}\n",
        "common_history ['dataset_3'] = {'rnn' : 0, 'lstm' : 0, 'gru' : 0}\n",
        "# common_history"
      ],
      "metadata": {
        "id": "ljUSe-iyoaBL"
      },
      "execution_count": null,
      "outputs": []
    },
    {
      "cell_type": "code",
      "source": [
        "\n",
        "history_loss = train(X1, Y1)\n",
        "common_history ['dataset_1']['rnn'] = round(min(history_loss), 4)\n",
        "loss_plt(history_loss)"
      ],
      "metadata": {
        "colab": {
          "base_uri": "https://localhost:8080/",
          "height": 589
        },
        "id": "6u5EJTGFNzx7",
        "outputId": "759d74e0-a360-45d2-fc16-1752e93b3aaa"
      },
      "execution_count": null,
      "outputs": [
        {
          "output_type": "stream",
          "name": "stdout",
          "text": [
            "Epoch : 10/100.............'. Time: 0.224, Train loss: 2.192\n",
            "Epoch : 20/100.............'. Time: 0.144, Train loss: 1.962\n",
            "Epoch : 30/100.............'. Time: 0.146, Train loss: 1.503\n",
            "Epoch : 40/100.............'. Time: 0.144, Train loss: 1.069\n",
            "Epoch : 50/100.............'. Time: 0.145, Train loss: 0.774\n",
            "Epoch : 60/100.............'. Time: 0.142, Train loss: 0.513\n",
            "Epoch : 70/100.............'. Time: 0.147, Train loss: 0.357\n",
            "Epoch : 80/100.............'. Time: 0.226, Train loss: 0.283\n",
            "Epoch : 90/100.............'. Time: 0.155, Train loss: 0.223\n",
            "Epoch : 100/100.............'. Time: 0.140, Train loss: 0.196\n"
          ]
        },
        {
          "output_type": "display_data",
          "data": {
            "text/plain": [
              "<Figure size 700x400 with 1 Axes>"
            ],
            "image/png": "[encoded data removed]"
          },
          "metadata": {}
        }
      ]
    },
    {
      "cell_type": "code",
      "source": [
        "generate_decryption_sentence('123')"
      ],
      "metadata": {
        "colab": {
          "base_uri": "https://localhost:8080/",
          "height": 35
        },
        "id": "24lGnu90VGDG",
        "outputId": "158389f3-0599-4fe2-c4e7-faebc1756bf9"
      },
      "execution_count": null,
      "outputs": [
        {
          "output_type": "execute_result",
          "data": {
            "text/plain": [
              "'134'"
            ],
            "application/vnd.google.colaboratory.intrinsic+json": {
              "type": "string"
            }
          },
          "metadata": {},
          "execution_count": 218
        }
      ]
    },
    {
      "cell_type": "markdown",
      "source": [
        "##### LSTM"
      ],
      "metadata": {
        "id": "JZaqACt9axC_"
      }
    },
    {
      "cell_type": "code",
      "source": [
        "rnnClass = nn.LSTM\n",
        "embedding_size = len(X1[0])\n",
        "dictionary_size = len(INDEX_TO_CHAR)\n",
        "num_hiddens = 128\n",
        "num_classes = len(INDEX_TO_CHAR)\n",
        "model = Network(rnnClass, dictionary_size, embedding_size, num_hiddens, num_classes)\n",
        "model"
      ],
      "metadata": {
        "colab": {
          "base_uri": "https://localhost:8080/"
        },
        "id": "pNxxJIX-a8Ed",
        "outputId": "441780d7-1efc-4536-cdf6-aa3851858883"
      },
      "execution_count": null,
      "outputs": [
        {
          "output_type": "execute_result",
          "data": {
            "text/plain": [
              "Network(\n",
              "  (embedding): Embedding(10, 25)\n",
              "  (hidden): LSTM(25, 128, batch_first=True)\n",
              "  (output): Linear(in_features=128, out_features=10, bias=True)\n",
              ")"
            ]
          },
          "metadata": {},
          "execution_count": 219
        }
      ]
    },
    {
      "cell_type": "code",
      "source": [
        "embedding = nn.Embedding(len(INDEX_TO_CHAR), 10)\n",
        "t = embeddings(X1)\n",
        "rnn = nn.LSTM(10,128, batch_first=True)\n",
        "o, s = rnn(t)\n",
        "o.shape, len(s), s[0].shape, s[1].shape"
      ],
      "metadata": {
        "colab": {
          "base_uri": "https://localhost:8080/"
        },
        "id": "w7V3PZ21avB0",
        "outputId": "22b648fe-b80e-45a5-b43d-38fb91eba4b9"
      },
      "execution_count": null,
      "outputs": [
        {
          "output_type": "execute_result",
          "data": {
            "text/plain": [
              "(torch.Size([1000, 25, 128]),\n",
              " 2,\n",
              " torch.Size([1, 1000, 128]),\n",
              " torch.Size([1, 1000, 128]))"
            ]
          },
          "metadata": {},
          "execution_count": 220
        }
      ]
    },
    {
      "cell_type": "code",
      "source": [
        "criterion = torch.nn.CrossEntropyLoss()\n",
        "optimizer = torch.optim.Adam(model.parameters())\n",
        "history_loss = train(X1, Y1)\n",
        "common_history ['dataset_1']['lstm'] = round(min(history_loss), 4)\n",
        "loss_plt(history_loss)"
      ],
      "metadata": {
        "colab": {
          "base_uri": "https://localhost:8080/",
          "height": 589
        },
        "id": "8acVIW5abFqB",
        "outputId": "d9f23b2d-53e2-4ac8-e036-9ef2b02595af"
      },
      "execution_count": null,
      "outputs": [
        {
          "output_type": "stream",
          "name": "stdout",
          "text": [
            "Epoch : 10/100.............'. Time: 0.441, Train loss: 2.178\n",
            "Epoch : 20/100.............'. Time: 0.443, Train loss: 1.112\n",
            "Epoch : 30/100.............'. Time: 0.435, Train loss: 0.471\n",
            "Epoch : 40/100.............'. Time: 0.448, Train loss: 0.137\n",
            "Epoch : 50/100.............'. Time: 0.451, Train loss: 0.043\n",
            "Epoch : 60/100.............'. Time: 0.445, Train loss: 0.023\n",
            "Epoch : 70/100.............'. Time: 0.676, Train loss: 0.015\n",
            "Epoch : 80/100.............'. Time: 0.451, Train loss: 0.010\n",
            "Epoch : 90/100.............'. Time: 0.435, Train loss: 0.008\n",
            "Epoch : 100/100.............'. Time: 0.457, Train loss: 0.006\n"
          ]
        },
        {
          "output_type": "display_data",
          "data": {
            "text/plain": [
              "<Figure size 700x400 with 1 Axes>"
            ],
            "image/png": "[encoded data removed]"
          },
          "metadata": {}
        }
      ]
    },
    {
      "cell_type": "code",
      "source": [
        "generate_decryption_sentence('123')"
      ],
      "metadata": {
        "colab": {
          "base_uri": "https://localhost:8080/",
          "height": 35
        },
        "id": "Br8Yb1zFebT-",
        "outputId": "16a8b217-8ef6-40b3-f864-73aac5a1bf74"
      },
      "execution_count": null,
      "outputs": [
        {
          "output_type": "execute_result",
          "data": {
            "text/plain": [
              "'134'"
            ],
            "application/vnd.google.colaboratory.intrinsic+json": {
              "type": "string"
            }
          },
          "metadata": {},
          "execution_count": 222
        }
      ]
    },
    {
      "cell_type": "markdown",
      "source": [
        "##### GRU"
      ],
      "metadata": {
        "id": "RESvY7xJehFI"
      }
    },
    {
      "cell_type": "code",
      "source": [
        "rnnClass = nn.GRU\n",
        "embedding_size = len(X1[0])\n",
        "dictionary_size = len(INDEX_TO_CHAR)\n",
        "num_hiddens = 128\n",
        "num_classes = len(INDEX_TO_CHAR)\n",
        "model = Network(rnnClass, dictionary_size, embedding_size, num_hiddens, num_classes)\n",
        "model"
      ],
      "metadata": {
        "colab": {
          "base_uri": "https://localhost:8080/"
        },
        "id": "eWsIGwshej-l",
        "outputId": "bc5b13ce-8e34-4ab9-bda6-48589b719aeb"
      },
      "execution_count": null,
      "outputs": [
        {
          "output_type": "execute_result",
          "data": {
            "text/plain": [
              "Network(\n",
              "  (embedding): Embedding(10, 25)\n",
              "  (hidden): GRU(25, 128, batch_first=True)\n",
              "  (output): Linear(in_features=128, out_features=10, bias=True)\n",
              ")"
            ]
          },
          "metadata": {},
          "execution_count": 223
        }
      ]
    },
    {
      "cell_type": "code",
      "source": [
        "embedding = nn.Embedding(len(INDEX_TO_CHAR), 10)\n",
        "t = embeddings(X1)\n",
        "rnn = nn.GRU(10,128, batch_first=True)\n",
        "o, s = rnn(t)\n",
        "o.shape, len(s), s[0].shape"
      ],
      "metadata": {
        "colab": {
          "base_uri": "https://localhost:8080/"
        },
        "id": "R57RbVQueoFt",
        "outputId": "15c33641-5e1d-4b2f-874a-225c022162ce"
      },
      "execution_count": null,
      "outputs": [
        {
          "output_type": "execute_result",
          "data": {
            "text/plain": [
              "(torch.Size([1000, 25, 128]), 1, torch.Size([1000, 128]))"
            ]
          },
          "metadata": {},
          "execution_count": 224
        }
      ]
    },
    {
      "cell_type": "code",
      "source": [
        "criterion = torch.nn.CrossEntropyLoss()\n",
        "optimizer = torch.optim.Adam(model.parameters())\n",
        "history_loss = train(X1, Y1)\n",
        "common_history ['dataset_1']['gru']  = round(min(history_loss), 4)\n",
        "loss_plt(history_loss)"
      ],
      "metadata": {
        "colab": {
          "base_uri": "https://localhost:8080/",
          "height": 589
        },
        "id": "ifSBSMgte31K",
        "outputId": "237aa91f-093a-45a5-b8fd-92ba992c7989"
      },
      "execution_count": null,
      "outputs": [
        {
          "output_type": "stream",
          "name": "stdout",
          "text": [
            "Epoch : 10/100.............'. Time: 0.372, Train loss: 2.186\n",
            "Epoch : 20/100.............'. Time: 0.366, Train loss: 1.192\n",
            "Epoch : 30/100.............'. Time: 0.375, Train loss: 0.176\n",
            "Epoch : 40/100.............'. Time: 0.362, Train loss: 0.045\n",
            "Epoch : 50/100.............'. Time: 0.376, Train loss: 0.022\n",
            "Epoch : 60/100.............'. Time: 0.561, Train loss: 0.014\n",
            "Epoch : 70/100.............'. Time: 0.364, Train loss: 0.009\n",
            "Epoch : 80/100.............'. Time: 0.373, Train loss: 0.007\n",
            "Epoch : 90/100.............'. Time: 0.583, Train loss: 0.005\n",
            "Epoch : 100/100.............'. Time: 0.369, Train loss: 0.004\n"
          ]
        },
        {
          "output_type": "display_data",
          "data": {
            "text/plain": [
              "<Figure size 700x400 with 1 Axes>"
            ],
            "image/png": "[encoded data removed]"
          },
          "metadata": {}
        }
      ]
    },
    {
      "cell_type": "code",
      "source": [
        "generate_decryption_sentence('12356789')\n"
      ],
      "metadata": {
        "colab": {
          "base_uri": "https://localhost:8080/",
          "height": 35
        },
        "id": "J2IivvTRh331",
        "outputId": "c27f360f-15df-499a-b1eb-09fd90b2f786"
      },
      "execution_count": null,
      "outputs": [
        {
          "output_type": "execute_result",
          "data": {
            "text/plain": [
              "'13467892'"
            ],
            "application/vnd.google.colaboratory.intrinsic+json": {
              "type": "string"
            }
          },
          "metadata": {},
          "execution_count": 226
        }
      ]
    },
    {
      "cell_type": "markdown",
      "source": [
        "#### dataset 2"
      ],
      "metadata": {
        "id": "o83CvTWbS3yv"
      }
    },
    {
      "cell_type": "markdown",
      "source": [
        "##### RNN"
      ],
      "metadata": {
        "id": "YXXQUMHYjDYK"
      }
    },
    {
      "cell_type": "code",
      "source": [
        "rnnClass = nn.RNN\n",
        "embedding_size = len(X2[0])\n",
        "dictionary_size = len(INDEX_TO_CHAR)\n",
        "num_hiddens = 128\n",
        "num_classes = len(INDEX_TO_CHAR)\n",
        "model = Network(rnnClass, dictionary_size, embedding_size, num_hiddens, num_classes)\n",
        "model"
      ],
      "metadata": {
        "colab": {
          "base_uri": "https://localhost:8080/"
        },
        "id": "_cy1tfYpS44A",
        "outputId": "261e53f6-2621-41da-ec03-0781a70c9d19"
      },
      "execution_count": null,
      "outputs": [
        {
          "output_type": "execute_result",
          "data": {
            "text/plain": [
              "Network(\n",
              "  (embedding): Embedding(10, 75)\n",
              "  (hidden): RNN(75, 128, batch_first=True)\n",
              "  (output): Linear(in_features=128, out_features=10, bias=True)\n",
              ")"
            ]
          },
          "metadata": {},
          "execution_count": 227
        }
      ]
    },
    {
      "cell_type": "code",
      "source": [
        "embeddings = torch.nn.Embedding(len(INDEX_TO_CHAR), 10)  # размер словаря * размер вектора для кодировки каждого слова\n",
        "t = embeddings(X2)\n",
        "rnn = torch.nn.RNN(10, 128, batch_first=True)\n",
        "o, s = rnn(t)\n",
        "o.shape, s.shape"
      ],
      "metadata": {
        "colab": {
          "base_uri": "https://localhost:8080/"
        },
        "id": "RzqV9f86UwTe",
        "outputId": "d4c9abde-5428-413e-c072-12045ca21c21"
      },
      "execution_count": null,
      "outputs": [
        {
          "output_type": "execute_result",
          "data": {
            "text/plain": [
              "(torch.Size([1000, 75, 128]), torch.Size([1, 1000, 128]))"
            ]
          },
          "metadata": {},
          "execution_count": 228
        }
      ]
    },
    {
      "cell_type": "code",
      "source": [
        "criterion = torch.nn.CrossEntropyLoss()\n",
        "optimizer = torch.optim.Adam(model.parameters())"
      ],
      "metadata": {
        "id": "tdnbSwiTU5nO"
      },
      "execution_count": null,
      "outputs": []
    },
    {
      "cell_type": "code",
      "source": [
        "history_loss = train(X2, Y2)\n",
        "common_history ['dataset_2']['rnn']  = round(min(history_loss), 4)\n",
        "loss_plt(history_loss)"
      ],
      "metadata": {
        "colab": {
          "base_uri": "https://localhost:8080/",
          "height": 589
        },
        "id": "Nim8xoKVOksX",
        "outputId": "0a0d166c-025a-4de3-8a25-ad0bc872c804"
      },
      "execution_count": null,
      "outputs": [
        {
          "output_type": "stream",
          "name": "stdout",
          "text": [
            "Epoch : 10/100.............'. Time: 0.172, Train loss: 2.172\n",
            "Epoch : 20/100.............'. Time: 0.176, Train loss: 1.779\n",
            "Epoch : 30/100.............'. Time: 0.187, Train loss: 1.488\n",
            "Epoch : 40/100.............'. Time: 0.220, Train loss: 1.223\n",
            "Epoch : 50/100.............'. Time: 0.258, Train loss: 1.147\n",
            "Epoch : 60/100.............'. Time: 0.162, Train loss: 1.065\n",
            "Epoch : 70/100.............'. Time: 0.176, Train loss: 0.738\n",
            "Epoch : 80/100.............'. Time: 0.166, Train loss: 0.689\n",
            "Epoch : 90/100.............'. Time: 0.267, Train loss: 0.698\n",
            "Epoch : 100/100.............'. Time: 0.256, Train loss: 0.642\n"
          ]
        },
        {
          "output_type": "display_data",
          "data": {
            "text/plain": [
              "<Figure size 700x400 with 1 Axes>"
            ],
            "image/png": "[encoded data removed]"
          },
          "metadata": {}
        }
      ]
    },
    {
      "cell_type": "code",
      "source": [
        "generate_decryption_sentence('123456789')"
      ],
      "metadata": {
        "colab": {
          "base_uri": "https://localhost:8080/",
          "height": 35
        },
        "id": "-bNW3DYsVLwO",
        "outputId": "b76c8a94-d250-4ffe-e97a-3e22a6a0c165"
      },
      "execution_count": null,
      "outputs": [
        {
          "output_type": "execute_result",
          "data": {
            "text/plain": [
              "'134567891'"
            ],
            "application/vnd.google.colaboratory.intrinsic+json": {
              "type": "string"
            }
          },
          "metadata": {},
          "execution_count": 231
        }
      ]
    },
    {
      "cell_type": "markdown",
      "source": [
        "##### LSTM"
      ],
      "metadata": {
        "id": "eCm9mo-5jWSO"
      }
    },
    {
      "cell_type": "code",
      "source": [
        "rnnClass = nn.LSTM\n",
        "embedding_size = len(X2[0])\n",
        "dictionary_size = len(INDEX_TO_CHAR)\n",
        "num_hiddens = 128\n",
        "num_classes = len(INDEX_TO_CHAR)\n",
        "model = Network(rnnClass, dictionary_size, embedding_size, num_hiddens, num_classes)\n",
        "model"
      ],
      "metadata": {
        "colab": {
          "base_uri": "https://localhost:8080/"
        },
        "outputId": "80ba9408-3548-44ed-eea2-90acce808b63",
        "id": "rjQOyGjpkChI"
      },
      "execution_count": null,
      "outputs": [
        {
          "output_type": "execute_result",
          "data": {
            "text/plain": [
              "Network(\n",
              "  (embedding): Embedding(10, 75)\n",
              "  (hidden): LSTM(75, 128, batch_first=True)\n",
              "  (output): Linear(in_features=128, out_features=10, bias=True)\n",
              ")"
            ]
          },
          "metadata": {},
          "execution_count": 232
        }
      ]
    },
    {
      "cell_type": "code",
      "source": [
        "embedding = nn.Embedding(len(INDEX_TO_CHAR), 10)\n",
        "t = embeddings(X2)\n",
        "rnn = nn.LSTM(10,128, batch_first=True)\n",
        "o, s = rnn(t)\n",
        "o.shape, len(s), s[0].shape, s[1].shape"
      ],
      "metadata": {
        "colab": {
          "base_uri": "https://localhost:8080/"
        },
        "outputId": "c0bc95b0-7f53-48ee-d848-7b86e96dbaa5",
        "id": "biiW84E1kChK"
      },
      "execution_count": null,
      "outputs": [
        {
          "output_type": "execute_result",
          "data": {
            "text/plain": [
              "(torch.Size([1000, 75, 128]),\n",
              " 2,\n",
              " torch.Size([1, 1000, 128]),\n",
              " torch.Size([1, 1000, 128]))"
            ]
          },
          "metadata": {},
          "execution_count": 233
        }
      ]
    },
    {
      "cell_type": "code",
      "source": [
        "criterion = torch.nn.CrossEntropyLoss()\n",
        "optimizer = torch.optim.Adam(model.parameters())\n",
        "history_loss = train(X2, Y2)\n",
        "common_history ['dataset_2']['lstm']  = round(min(history_loss), 4)\n",
        "loss_plt(history_loss)"
      ],
      "metadata": {
        "colab": {
          "base_uri": "https://localhost:8080/",
          "height": 589
        },
        "outputId": "1a5d47f7-6d5a-4a76-9f16-fa42f73f318c",
        "id": "_mnqroHRkChK"
      },
      "execution_count": null,
      "outputs": [
        {
          "output_type": "stream",
          "name": "stdout",
          "text": [
            "Epoch : 10/100.............'. Time: 0.510, Train loss: 2.090\n",
            "Epoch : 20/100.............'. Time: 0.495, Train loss: 0.873\n",
            "Epoch : 30/100.............'. Time: 0.491, Train loss: 0.120\n",
            "Epoch : 40/100.............'. Time: 0.495, Train loss: 0.039\n",
            "Epoch : 50/100.............'. Time: 0.771, Train loss: 0.020\n",
            "Epoch : 60/100.............'. Time: 0.503, Train loss: 0.013\n",
            "Epoch : 70/100.............'. Time: 0.504, Train loss: 0.009\n",
            "Epoch : 80/100.............'. Time: 0.510, Train loss: 0.007\n",
            "Epoch : 90/100.............'. Time: 0.514, Train loss: 0.005\n",
            "Epoch : 100/100.............'. Time: 0.522, Train loss: 0.004\n"
          ]
        },
        {
          "output_type": "display_data",
          "data": {
            "text/plain": [
              "<Figure size 700x400 with 1 Axes>"
            ],
            "image/png": "[encoded data removed]"
          },
          "metadata": {}
        }
      ]
    },
    {
      "cell_type": "code",
      "source": [
        "generate_decryption_sentence('1234567893')"
      ],
      "metadata": {
        "colab": {
          "base_uri": "https://localhost:8080/",
          "height": 35
        },
        "outputId": "992a5a6a-62b2-458d-8fea-7c4b9cc73d86",
        "id": "dvSxDmCGkChK"
      },
      "execution_count": null,
      "outputs": [
        {
          "output_type": "execute_result",
          "data": {
            "text/plain": [
              "'1345678994'"
            ],
            "application/vnd.google.colaboratory.intrinsic+json": {
              "type": "string"
            }
          },
          "metadata": {},
          "execution_count": 235
        }
      ]
    },
    {
      "cell_type": "markdown",
      "source": [
        "##### GRU"
      ],
      "metadata": {
        "id": "EcQVS45djZ-y"
      }
    },
    {
      "cell_type": "code",
      "source": [
        "rnnClass = nn.GRU\n",
        "embedding_size = len(X2[0])\n",
        "dictionary_size = len(INDEX_TO_CHAR)\n",
        "num_hiddens = 128\n",
        "num_classes = len(INDEX_TO_CHAR)\n",
        "model = Network(rnnClass, dictionary_size, embedding_size, num_hiddens, num_classes)\n",
        "model"
      ],
      "metadata": {
        "colab": {
          "base_uri": "https://localhost:8080/"
        },
        "outputId": "ebd69c78-e240-4311-d187-2515edea3a07",
        "id": "PN2HxHaBkYag"
      },
      "execution_count": null,
      "outputs": [
        {
          "output_type": "execute_result",
          "data": {
            "text/plain": [
              "Network(\n",
              "  (embedding): Embedding(10, 75)\n",
              "  (hidden): GRU(75, 128, batch_first=True)\n",
              "  (output): Linear(in_features=128, out_features=10, bias=True)\n",
              ")"
            ]
          },
          "metadata": {},
          "execution_count": 236
        }
      ]
    },
    {
      "cell_type": "code",
      "source": [
        "embedding = nn.Embedding(len(INDEX_TO_CHAR), 10)\n",
        "t = embeddings(X2)\n",
        "rnn = nn.GRU(10,128, batch_first=True)\n",
        "o, s = rnn(t)\n",
        "o.shape, len(s), s[0].shape"
      ],
      "metadata": {
        "colab": {
          "base_uri": "https://localhost:8080/"
        },
        "outputId": "219c7f99-4f7e-4011-f5c2-9d2049a5b08b",
        "id": "QIAHxzhhkYau"
      },
      "execution_count": null,
      "outputs": [
        {
          "output_type": "execute_result",
          "data": {
            "text/plain": [
              "(torch.Size([1000, 75, 128]), 1, torch.Size([1000, 128]))"
            ]
          },
          "metadata": {},
          "execution_count": 237
        }
      ]
    },
    {
      "cell_type": "code",
      "source": [
        "criterion = torch.nn.CrossEntropyLoss()\n",
        "optimizer = torch.optim.Adam(model.parameters())\n",
        "history_loss = train(X2, Y2)\n",
        "common_history ['dataset_2']['gru']  = round(min(history_loss), 4)\n",
        "loss_plt(history_loss)"
      ],
      "metadata": {
        "colab": {
          "base_uri": "https://localhost:8080/",
          "height": 589
        },
        "outputId": "79fbd642-b550-4858-c20f-a83b932bce41",
        "id": "SXuIK-fLkYa0"
      },
      "execution_count": null,
      "outputs": [
        {
          "output_type": "stream",
          "name": "stdout",
          "text": [
            "Epoch : 10/100.............'. Time: 0.429, Train loss: 2.145\n",
            "Epoch : 20/100.............'. Time: 0.675, Train loss: 0.854\n",
            "Epoch : 30/100.............'. Time: 0.463, Train loss: 0.109\n",
            "Epoch : 40/100.............'. Time: 0.438, Train loss: 0.036\n",
            "Epoch : 50/100.............'. Time: 0.443, Train loss: 0.019\n",
            "Epoch : 60/100.............'. Time: 0.442, Train loss: 0.012\n",
            "Epoch : 70/100.............'. Time: 0.435, Train loss: 0.009\n",
            "Epoch : 80/100.............'. Time: 0.449, Train loss: 0.006\n",
            "Epoch : 90/100.............'. Time: 0.450, Train loss: 0.005\n",
            "Epoch : 100/100.............'. Time: 0.682, Train loss: 0.004\n"
          ]
        },
        {
          "output_type": "display_data",
          "data": {
            "text/plain": [
              "<Figure size 700x400 with 1 Axes>"
            ],
            "image/png": "[encoded data removed]"
          },
          "metadata": {}
        }
      ]
    },
    {
      "cell_type": "code",
      "source": [
        "generate_decryption_sentence('123567892')\n"
      ],
      "metadata": {
        "colab": {
          "base_uri": "https://localhost:8080/",
          "height": 35
        },
        "outputId": "0d5ca9cd-2cc8-4303-a541-2e9160726b13",
        "id": "p7UEoyoqkYa1"
      },
      "execution_count": null,
      "outputs": [
        {
          "output_type": "execute_result",
          "data": {
            "text/plain": [
              "'134678993'"
            ],
            "application/vnd.google.colaboratory.intrinsic+json": {
              "type": "string"
            }
          },
          "metadata": {},
          "execution_count": 239
        }
      ]
    },
    {
      "cell_type": "markdown",
      "source": [
        "#### dataset 3"
      ],
      "metadata": {
        "id": "eslBS1qzS_OP"
      }
    },
    {
      "cell_type": "markdown",
      "source": [
        "##### RNN"
      ],
      "metadata": {
        "id": "eR7ZKoD0jfBG"
      }
    },
    {
      "cell_type": "code",
      "source": [
        "rnnClass = nn.RNN\n",
        "embedding_size = len(X3[0])\n",
        "dictionary_size = len(INDEX_TO_CHAR)\n",
        "num_hiddens = 128\n",
        "num_classes = len(INDEX_TO_CHAR)\n",
        "model = Network(rnnClass, dictionary_size, embedding_size, num_hiddens, num_classes)\n",
        "model"
      ],
      "metadata": {
        "colab": {
          "base_uri": "https://localhost:8080/"
        },
        "id": "E8bGozcvS9wo",
        "outputId": "10f8afad-cf4d-4609-afac-398ba75a1816"
      },
      "execution_count": null,
      "outputs": [
        {
          "output_type": "execute_result",
          "data": {
            "text/plain": [
              "Network(\n",
              "  (embedding): Embedding(10, 150)\n",
              "  (hidden): RNN(150, 128, batch_first=True)\n",
              "  (output): Linear(in_features=128, out_features=10, bias=True)\n",
              ")"
            ]
          },
          "metadata": {},
          "execution_count": 240
        }
      ]
    },
    {
      "cell_type": "code",
      "source": [
        "embeddings = torch.nn.Embedding(len(INDEX_TO_CHAR), 10)  # размер словаря * размер вектора для кодировки каждого слова\n",
        "t = embeddings(X3)\n",
        "rnn = torch.nn.RNN(10, 128, batch_first=True)\n",
        "o, s = rnn(t)\n",
        "o.shape, s.shape"
      ],
      "metadata": {
        "colab": {
          "base_uri": "https://localhost:8080/"
        },
        "id": "aLUBWw8PU_1u",
        "outputId": "1087891e-55ac-4cca-9244-6a2cfbccfeb9"
      },
      "execution_count": null,
      "outputs": [
        {
          "output_type": "execute_result",
          "data": {
            "text/plain": [
              "(torch.Size([1000, 150, 128]), torch.Size([1, 1000, 128]))"
            ]
          },
          "metadata": {},
          "execution_count": 241
        }
      ]
    },
    {
      "cell_type": "code",
      "source": [
        "criterion = torch.nn.CrossEntropyLoss()\n",
        "optimizer = torch.optim.Adam(model.parameters())"
      ],
      "metadata": {
        "id": "L9bkZAprVC1X"
      },
      "execution_count": null,
      "outputs": []
    },
    {
      "cell_type": "code",
      "source": [
        "history_loss = train(X3, Y3)\n",
        "common_history ['dataset_3']['rnn']  = round(min(history_loss), 4)\n",
        "loss_plt(history_loss)"
      ],
      "metadata": {
        "colab": {
          "base_uri": "https://localhost:8080/",
          "height": 589
        },
        "id": "ltEn_RtlPwRk",
        "outputId": "c8c91672-355d-4252-b2ea-62e86716237b"
      },
      "execution_count": null,
      "outputs": [
        {
          "output_type": "stream",
          "name": "stdout",
          "text": [
            "Epoch : 10/100.............'. Time: 0.201, Train loss: 2.154\n",
            "Epoch : 20/100.............'. Time: 0.197, Train loss: 1.773\n",
            "Epoch : 30/100.............'. Time: 0.194, Train loss: 1.603\n",
            "Epoch : 40/100.............'. Time: 0.195, Train loss: 1.560\n",
            "Epoch : 50/100.............'. Time: 0.205, Train loss: 1.500\n",
            "Epoch : 60/100.............'. Time: 0.259, Train loss: 1.157\n",
            "Epoch : 70/100.............'. Time: 0.198, Train loss: 0.946\n",
            "Epoch : 80/100.............'. Time: 0.197, Train loss: 0.762\n",
            "Epoch : 90/100.............'. Time: 0.197, Train loss: 0.982\n",
            "Epoch : 100/100.............'. Time: 0.197, Train loss: 0.468\n"
          ]
        },
        {
          "output_type": "display_data",
          "data": {
            "text/plain": [
              "<Figure size 700x400 with 1 Axes>"
            ],
            "image/png": "[encoded data removed]"
          },
          "metadata": {}
        }
      ]
    },
    {
      "cell_type": "code",
      "source": [
        "generate_decryption_sentence('123456789')"
      ],
      "metadata": {
        "colab": {
          "base_uri": "https://localhost:8080/",
          "height": 35
        },
        "id": "sI0Dq4vBVH8f",
        "outputId": "a9d029ec-0ba2-41ea-fa94-3ffd9483ce0e"
      },
      "execution_count": null,
      "outputs": [
        {
          "output_type": "execute_result",
          "data": {
            "text/plain": [
              "'134567897'"
            ],
            "application/vnd.google.colaboratory.intrinsic+json": {
              "type": "string"
            }
          },
          "metadata": {},
          "execution_count": 244
        }
      ]
    },
    {
      "cell_type": "markdown",
      "source": [
        "##### LSTM"
      ],
      "metadata": {
        "id": "ZYZpJk98jkMi"
      }
    },
    {
      "cell_type": "code",
      "source": [
        "rnnClass = nn.LSTM\n",
        "embedding_size = len(X3[0])\n",
        "dictionary_size = len(INDEX_TO_CHAR)\n",
        "num_hiddens = 128\n",
        "num_classes = len(INDEX_TO_CHAR)\n",
        "model = Network(rnnClass, dictionary_size, embedding_size, num_hiddens, num_classes)\n",
        "model"
      ],
      "metadata": {
        "colab": {
          "base_uri": "https://localhost:8080/"
        },
        "outputId": "23e484f9-acae-4fcf-8040-507c37c98bd3",
        "id": "tHdLG34xkwsm"
      },
      "execution_count": null,
      "outputs": [
        {
          "output_type": "execute_result",
          "data": {
            "text/plain": [
              "Network(\n",
              "  (embedding): Embedding(10, 150)\n",
              "  (hidden): LSTM(150, 128, batch_first=True)\n",
              "  (output): Linear(in_features=128, out_features=10, bias=True)\n",
              ")"
            ]
          },
          "metadata": {},
          "execution_count": 245
        }
      ]
    },
    {
      "cell_type": "code",
      "source": [
        "embedding = nn.Embedding(len(INDEX_TO_CHAR), 10)\n",
        "t = embeddings(X3)\n",
        "rnn = nn.LSTM(10,128, batch_first=True)\n",
        "o, s = rnn(t)\n",
        "o.shape, len(s), s[0].shape, s[1].shape"
      ],
      "metadata": {
        "colab": {
          "base_uri": "https://localhost:8080/"
        },
        "outputId": "b0b1f603-6e44-47fd-f364-bc41316c928f",
        "id": "34qGnT5Jkws6"
      },
      "execution_count": null,
      "outputs": [
        {
          "output_type": "execute_result",
          "data": {
            "text/plain": [
              "(torch.Size([1000, 150, 128]),\n",
              " 2,\n",
              " torch.Size([1, 1000, 128]),\n",
              " torch.Size([1, 1000, 128]))"
            ]
          },
          "metadata": {},
          "execution_count": 246
        }
      ]
    },
    {
      "cell_type": "code",
      "source": [
        "criterion = torch.nn.CrossEntropyLoss()\n",
        "optimizer = torch.optim.Adam(model.parameters())\n",
        "history_loss = train(X3, Y3)\n",
        "common_history ['dataset_3']['lstm']  = round(min(history_loss), 4)\n",
        "loss_plt(history_loss)"
      ],
      "metadata": {
        "colab": {
          "base_uri": "https://localhost:8080/",
          "height": 589
        },
        "outputId": "fb0489fa-7da3-4176-b6d2-8f3666e88c42",
        "id": "wVPx0vCEkws6"
      },
      "execution_count": null,
      "outputs": [
        {
          "output_type": "stream",
          "name": "stdout",
          "text": [
            "Epoch : 10/100.............'. Time: 0.621, Train loss: 1.960\n",
            "Epoch : 20/100.............'. Time: 0.802, Train loss: 0.290\n",
            "Epoch : 30/100.............'. Time: 0.626, Train loss: 0.049\n",
            "Epoch : 40/100.............'. Time: 0.961, Train loss: 0.022\n",
            "Epoch : 50/100.............'. Time: 0.603, Train loss: 0.013\n",
            "Epoch : 60/100.............'. Time: 0.955, Train loss: 0.009\n",
            "Epoch : 70/100.............'. Time: 0.611, Train loss: 0.006\n",
            "Epoch : 80/100.............'. Time: 0.962, Train loss: 0.005\n",
            "Epoch : 90/100.............'. Time: 0.601, Train loss: 0.004\n",
            "Epoch : 100/100.............'. Time: 0.948, Train loss: 0.003\n"
          ]
        },
        {
          "output_type": "display_data",
          "data": {
            "text/plain": [
              "<Figure size 700x400 with 1 Axes>"
            ],
            "image/png": "[encoded data removed]"
          },
          "metadata": {}
        }
      ]
    },
    {
      "cell_type": "code",
      "source": [
        "generate_decryption_sentence('123456789')"
      ],
      "metadata": {
        "colab": {
          "base_uri": "https://localhost:8080/",
          "height": 35
        },
        "outputId": "00ce8380-43bb-4d77-90e0-7d4cc5d47229",
        "id": "1flOb3m2kws6"
      },
      "execution_count": null,
      "outputs": [
        {
          "output_type": "execute_result",
          "data": {
            "text/plain": [
              "'134567892'"
            ],
            "application/vnd.google.colaboratory.intrinsic+json": {
              "type": "string"
            }
          },
          "metadata": {},
          "execution_count": 248
        }
      ]
    },
    {
      "cell_type": "markdown",
      "source": [
        "##### GRU"
      ],
      "metadata": {
        "id": "gwztuezWjmyQ"
      }
    },
    {
      "cell_type": "code",
      "source": [
        "rnnClass = nn.GRU\n",
        "embedding_size = len(X3[0])\n",
        "dictionary_size = len(INDEX_TO_CHAR)\n",
        "num_hiddens = 128\n",
        "num_classes = len(INDEX_TO_CHAR)\n",
        "model = Network(rnnClass, dictionary_size, embedding_size, num_hiddens, num_classes)\n",
        "model"
      ],
      "metadata": {
        "colab": {
          "base_uri": "https://localhost:8080/"
        },
        "outputId": "5e0fdc70-4e31-43cd-cd98-a287ac01fb9b",
        "id": "2b1u7xTgk2Df"
      },
      "execution_count": null,
      "outputs": [
        {
          "output_type": "execute_result",
          "data": {
            "text/plain": [
              "Network(\n",
              "  (embedding): Embedding(10, 150)\n",
              "  (hidden): GRU(150, 128, batch_first=True)\n",
              "  (output): Linear(in_features=128, out_features=10, bias=True)\n",
              ")"
            ]
          },
          "metadata": {},
          "execution_count": 249
        }
      ]
    },
    {
      "cell_type": "code",
      "source": [
        "embedding = nn.Embedding(len(INDEX_TO_CHAR), 10)\n",
        "t = embeddings(X1)\n",
        "rnn = nn.GRU(10,128, batch_first=True)\n",
        "o, s = rnn(t)\n",
        "o.shape, len(s), s[0].shape"
      ],
      "metadata": {
        "colab": {
          "base_uri": "https://localhost:8080/"
        },
        "outputId": "3b12f46a-aa25-4d93-a8df-28e868b4d4e3",
        "id": "2kdiJQshk2Dp"
      },
      "execution_count": null,
      "outputs": [
        {
          "output_type": "execute_result",
          "data": {
            "text/plain": [
              "(torch.Size([1000, 25, 128]), 1, torch.Size([1000, 128]))"
            ]
          },
          "metadata": {},
          "execution_count": 250
        }
      ]
    },
    {
      "cell_type": "code",
      "source": [
        "criterion = torch.nn.CrossEntropyLoss()\n",
        "optimizer = torch.optim.Adam(model.parameters())\n",
        "history_loss = train(X3, Y3)\n",
        "common_history ['dataset_3']['gru']  = round(min(history_loss), 4)\n",
        "loss_plt(history_loss)"
      ],
      "metadata": {
        "colab": {
          "base_uri": "https://localhost:8080/",
          "height": 589
        },
        "outputId": "e7ccab05-5596-42b8-de78-0055ff43238d",
        "id": "onsHh-s6k2Dp"
      },
      "execution_count": null,
      "outputs": [
        {
          "output_type": "stream",
          "name": "stdout",
          "text": [
            "Epoch : 10/100.............'. Time: 0.538, Train loss: 2.109\n",
            "Epoch : 20/100.............'. Time: 0.803, Train loss: 0.690\n",
            "Epoch : 30/100.............'. Time: 0.760, Train loss: 0.104\n",
            "Epoch : 40/100.............'. Time: 0.808, Train loss: 0.038\n",
            "Epoch : 50/100.............'. Time: 0.799, Train loss: 0.021\n",
            "Epoch : 60/100.............'. Time: 0.750, Train loss: 0.013\n",
            "Epoch : 70/100.............'. Time: 0.524, Train loss: 0.010\n",
            "Epoch : 80/100.............'. Time: 0.529, Train loss: 0.007\n",
            "Epoch : 90/100.............'. Time: 0.525, Train loss: 0.006\n",
            "Epoch : 100/100.............'. Time: 0.534, Train loss: 0.005\n"
          ]
        },
        {
          "output_type": "display_data",
          "data": {
            "text/plain": [
              "<Figure size 700x400 with 1 Axes>"
            ],
            "image/png": "[encoded data removed]"
          },
          "metadata": {}
        }
      ]
    },
    {
      "cell_type": "code",
      "source": [
        "generate_decryption_sentence('1234567890')\n"
      ],
      "metadata": {
        "colab": {
          "base_uri": "https://localhost:8080/",
          "height": 35
        },
        "outputId": "a610a654-112f-49a6-8ff3-25e87183ec79",
        "id": "j15BJ2WNk2Dp"
      },
      "execution_count": null,
      "outputs": [
        {
          "output_type": "execute_result",
          "data": {
            "text/plain": [
              "'7901234597'"
            ],
            "application/vnd.google.colaboratory.intrinsic+json": {
              "type": "string"
            }
          },
          "metadata": {},
          "execution_count": 258
        }
      ]
    },
    {
      "cell_type": "markdown",
      "source": [
        "#### Результат"
      ],
      "metadata": {
        "id": "1u0M8EcA-dlu"
      }
    },
    {
      "cell_type": "code",
      "source": [
        "common_history"
      ],
      "metadata": {
        "colab": {
          "base_uri": "https://localhost:8080/"
        },
        "id": "CROmlIDGP9u3",
        "outputId": "8ab41fe5-0a86-42f4-f297-6ff6f9ef2ae1"
      },
      "execution_count": null,
      "outputs": [
        {
          "output_type": "execute_result",
          "data": {
            "text/plain": [
              "{'dataset_1': {'rnn': 0.1963, 'lstm': 0.006, 'gru': 0.0043},\n",
              " 'dataset_2': {'rnn': 0.642, 'lstm': 0.0042, 'gru': 0.0041},\n",
              " 'dataset_3': {'rnn': 0.468, 'lstm': 0.0032, 'gru': 0.0047}}"
            ]
          },
          "metadata": {},
          "execution_count": 254
        }
      ]
    },
    {
      "cell_type": "code",
      "source": [
        "compare_result = pd.DataFrame.from_dict(common_history)\n",
        "compare_result"
      ],
      "metadata": {
        "colab": {
          "base_uri": "https://localhost:8080/",
          "height": 143
        },
        "id": "EAfvZfrmmLMU",
        "outputId": "6574d88c-af39-442d-8511-d77b38b7bae8"
      },
      "execution_count": null,
      "outputs": [
        {
          "output_type": "execute_result",
          "data": {
            "text/plain": [
              "      dataset_1  dataset_2  dataset_3\n",
              "rnn      0.1963     0.6420     0.4680\n",
              "lstm     0.0060     0.0042     0.0032\n",
              "gru      0.0043     0.0041     0.0047"
            ],
            "text/html": [
              "\n",
              "  <div id=\"df-994f4c8f-3316-44ae-ba2b-a45cc5da5692\" class=\"colab-df-container\">\n",
              "    <div>\n",
              "<style scoped>\n",
              "    .dataframe tbody tr th:only-of-type {\n",
              "        vertical-align: middle;\n",
              "    }\n",
              "\n",
              "    .dataframe tbody tr th {\n",
              "        vertical-align: top;\n",
              "    }\n",
              "\n",
              "    .dataframe thead th {\n",
              "        text-align: right;\n",
              "    }\n",
              "</style>\n",
              "<table border=\"1\" class=\"dataframe\">\n",
              "  <thead>\n",
              "    <tr style=\"text-align: right;\">\n",
              "      <th></th>\n",
              "      <th>dataset_1</th>\n",
              "      <th>dataset_2</th>\n",
              "      <th>dataset_3</th>\n",
              "    </tr>\n",
              "  </thead>\n",
              "  <tbody>\n",
              "    <tr>\n",
              "      <th>rnn</th>\n",
              "      <td>0.1963</td>\n",
              "      <td>0.6420</td>\n",
              "      <td>0.4680</td>\n",
              "    </tr>\n",
              "    <tr>\n",
              "      <th>lstm</th>\n",
              "      <td>0.0060</td>\n",
              "      <td>0.0042</td>\n",
              "      <td>0.0032</td>\n",
              "    </tr>\n",
              "    <tr>\n",
              "      <th>gru</th>\n",
              "      <td>0.0043</td>\n",
              "      <td>0.0041</td>\n",
              "      <td>0.0047</td>\n",
              "    </tr>\n",
              "  </tbody>\n",
              "</table>\n",
              "</div>\n",
              "    <div class=\"colab-df-buttons\">\n",
              "\n",
              "  <div class=\"colab-df-container\">\n",
              "    <button class=\"colab-df-convert\" onclick=\"convertToInteractive('df-994f4c8f-3316-44ae-ba2b-a45cc5da5692')\"\n",
              "            title=\"Convert this dataframe to an interactive table.\"\n",
              "            style=\"display:none;\">\n",
              "\n",
              "  <svg xmlns=\"http://www.w3.org/2000/svg\" height=\"24px\" viewBox=\"0 -960 960 960\">\n",
              "    <path d=\"M120-120v-720h720v720H120Zm60-500h600v-160H180v160Zm220 220h160v-160H400v160Zm0 220h160v-160H400v160ZM180-400h160v-160H180v160Zm440 0h160v-160H620v160ZM180-180h160v-160H180v160Zm440 0h160v-160H620v160Z\"/>\n",
              "  </svg>\n",
              "    </button>\n",
              "\n",
              "  <style>\n",
              "    .colab-df-container {\n",
              "      display:flex;\n",
              "      gap: 12px;\n",
              "    }\n",
              "\n",
              "    .colab-df-convert {\n",
              "      background-color: #E8F0FE;\n",
              "      border: none;\n",
              "      border-radius: 50%;\n",
              "      cursor: pointer;\n",
              "      display: none;\n",
              "      fill: #1967D2;\n",
              "      height: 32px;\n",
              "      padding: 0 0 0 0;\n",
              "      width: 32px;\n",
              "    }\n",
              "\n",
              "    .colab-df-convert:hover {\n",
              "      background-color: #E2EBFA;\n",
              "      box-shadow: 0px 1px 2px rgba(60, 64, 67, 0.3), 0px 1px 3px 1px rgba(60, 64, 67, 0.15);\n",
              "      fill: #174EA6;\n",
              "    }\n",
              "\n",
              "    .colab-df-buttons div {\n",
              "      margin-bottom: 4px;\n",
              "    }\n",
              "\n",
              "    [theme=dark] .colab-df-convert {\n",
              "      background-color: #3B4455;\n",
              "      fill: #D2E3FC;\n",
              "    }\n",
              "\n",
              "    [theme=dark] .colab-df-convert:hover {\n",
              "      background-color: #434B5C;\n",
              "      box-shadow: 0px 1px 3px 1px rgba(0, 0, 0, 0.15);\n",
              "      filter: drop-shadow(0px 1px 2px rgba(0, 0, 0, 0.3));\n",
              "      fill: #FFFFFF;\n",
              "    }\n",
              "  </style>\n",
              "\n",
              "    <script>\n",
              "      const buttonEl =\n",
              "        document.querySelector('#df-994f4c8f-3316-44ae-ba2b-a45cc5da5692 button.colab-df-convert');\n",
              "      buttonEl.style.display =\n",
              "        google.colab.kernel.accessAllowed ? 'block' : 'none';\n",
              "\n",
              "      async function convertToInteractive(key) {\n",
              "        const element = document.querySelector('#df-994f4c8f-3316-44ae-ba2b-a45cc5da5692');\n",
              "        const dataTable =\n",
              "          await google.colab.kernel.invokeFunction('convertToInteractive',\n",
              "                                                    [key], {});\n",
              "        if (!dataTable) return;\n",
              "\n",
              "        const docLinkHtml = 'Like what you see? Visit the ' +\n",
              "          '<a target=\"_blank\" href=https://colab.research.google.com/notebooks/data_table.ipynb>data table notebook</a>'\n",
              "          + ' to learn more about interactive tables.';\n",
              "        element.innerHTML = '';\n",
              "        dataTable['output_type'] = 'display_data';\n",
              "        await google.colab.output.renderOutput(dataTable, element);\n",
              "        const docLink = document.createElement('div');\n",
              "        docLink.innerHTML = docLinkHtml;\n",
              "        element.appendChild(docLink);\n",
              "      }\n",
              "    </script>\n",
              "  </div>\n",
              "\n",
              "    </div>\n",
              "  </div>\n"
            ]
          },
          "metadata": {},
          "execution_count": 255
        }
      ]
    },
    {
      "cell_type": "markdown",
      "source": [
        "Вывод:\n",
        "\n",
        "для данной задачи RNN выдает довольно плохие результаты.\n",
        "\n",
        "\n",
        "Самый лучший результат на третьем датасете из последовательностей по 150 символов при использовании LSTM.\n",
        "\n",
        "Все модели отрабатывают плохо ситуацию, когда сумма больше 10."
      ],
      "metadata": {
        "id": "42lsChOlsvPr"
      }
    },
    {
      "cell_type": "markdown",
      "source": [
        "## Задание 2"
      ],
      "metadata": {
        "id": "-72Wetf7ll89"
      }
    },
    {
      "cell_type": "markdown",
      "source": [
        "### загрузка и подготовка данных"
      ],
      "metadata": {
        "id": "d536lkQWlo5i"
      }
    },
    {
      "cell_type": "code",
      "source": [
        "!wget https://s3.amazonaws.com/text-datasets/nietzsche.txt"
      ],
      "metadata": {
        "colab": {
          "base_uri": "https://localhost:8080/"
        },
        "id": "4BncvQeZllbo",
        "outputId": "c7d3e1de-ab8a-4094-fa7e-0af6b557709d"
      },
      "execution_count": null,
      "outputs": [
        {
          "output_type": "stream",
          "name": "stdout",
          "text": [
            "--2023-08-27 19:10:39--  https://s3.amazonaws.com/text-datasets/nietzsche.txt\n",
            "Resolving s3.amazonaws.com (s3.amazonaws.com)... 54.231.138.232, 52.216.145.189, 52.217.77.94, ...\n",
            "Connecting to s3.amazonaws.com (s3.amazonaws.com)|54.231.138.232|:443... connected.\n",
            "HTTP request sent, awaiting response... 200 OK\n",
            "Length: 600901 (587K) [text/plain]\n",
            "Saving to: ‘nietzsche.txt’\n",
            "\n",
            "nietzsche.txt       100%[===================>] 586.82K   536KB/s    in 1.1s    \n",
            "\n",
            "2023-08-27 19:10:41 (536 KB/s) - ‘nietzsche.txt’ saved [600901/600901]\n",
            "\n"
          ]
        }
      ]
    },
    {
      "cell_type": "code",
      "source": [
        "with open('nietzsche.txt', encoding='utf-8') as f:\n",
        "    text = f.read().lower()\n",
        "print('length:', len(text))\n",
        "text = re.sub('[^a-z ]', ' ', text)\n",
        "text = re.sub('\\s+', ' ', text)"
      ],
      "metadata": {
        "colab": {
          "base_uri": "https://localhost:8080/"
        },
        "id": "_hEIxmf28xw7",
        "outputId": "02a9ee21-2627-407b-a550-4ebdac8a9a2e"
      },
      "execution_count": null,
      "outputs": [
        {
          "output_type": "stream",
          "name": "stdout",
          "text": [
            "length: 600893\n"
          ]
        }
      ]
    },
    {
      "cell_type": "code",
      "source": [
        "INDEX_TO_CHAR = sorted(list(set(text)))\n",
        "CHAR_TO_INDEX = {c: i for i, c in enumerate(INDEX_TO_CHAR)}"
      ],
      "metadata": {
        "id": "z4r1jfrs8139"
      },
      "execution_count": null,
      "outputs": []
    },
    {
      "cell_type": "code",
      "source": [
        "MAX_LEN = 40\n",
        "STEP = 3\n",
        "SENTENCES = []\n",
        "NEXT_CHARS = []\n",
        "for i in range(0, len(text) - MAX_LEN, STEP):\n",
        "    SENTENCES.append(text[i: i + MAX_LEN])\n",
        "    NEXT_CHARS.append(text[i + MAX_LEN])\n",
        "print('Num sents:', len(SENTENCES))"
      ],
      "metadata": {
        "colab": {
          "base_uri": "https://localhost:8080/"
        },
        "id": "mYTieYP-84VU",
        "outputId": "c47a3382-56a1-40a3-b990-aea7ba92b0ef"
      },
      "execution_count": null,
      "outputs": [
        {
          "output_type": "stream",
          "name": "stdout",
          "text": [
            "Num sents: 193075\n"
          ]
        }
      ]
    },
    {
      "cell_type": "code",
      "source": [
        "print('Vectorization...')\n",
        "X = torch.zeros((len(SENTENCES), MAX_LEN), dtype=int)\n",
        "Y = torch.zeros((len(SENTENCES)), dtype=int)\n",
        "for i, sentence in enumerate(SENTENCES):\n",
        "    for t, char in enumerate(sentence):\n",
        "        X[i, t] = CHAR_TO_INDEX[char]\n",
        "    Y[i] = CHAR_TO_INDEX[NEXT_CHARS[i]]"
      ],
      "metadata": {
        "colab": {
          "base_uri": "https://localhost:8080/"
        },
        "id": "sxh-bAT187XN",
        "outputId": "0a1323f3-8ec3-4e58-a650-8c90a3b76219"
      },
      "execution_count": null,
      "outputs": [
        {
          "output_type": "stream",
          "name": "stdout",
          "text": [
            "Vectorization...\n"
          ]
        }
      ]
    },
    {
      "cell_type": "code",
      "source": [
        "BATCH_SIZE=512\n",
        "dataset = torch.utils.data.TensorDataset(X, Y)\n",
        "data = torch.utils.data.DataLoader(dataset, BATCH_SIZE, shuffle=True)\n"
      ],
      "metadata": {
        "id": "ghx9oJIk8-Mz"
      },
      "execution_count": null,
      "outputs": []
    },
    {
      "cell_type": "markdown",
      "source": [
        "### нейронная сеть и обучение"
      ],
      "metadata": {
        "id": "7lN4z4IV8-1o"
      }
    },
    {
      "cell_type": "code",
      "source": [
        "class NeuralNetwork(nn.Module):\n",
        "    def __init__(self, rnnClass, dictionary_size, embedding_size, num_hiddens, num_classes):\n",
        "        super().__init__()\n",
        "\n",
        "        self.num_hiddens = num_hiddens\n",
        "        self.embedding = nn.Embedding(dictionary_size, embedding_size)\n",
        "        self.hidden = rnnClass(embedding_size, num_hiddens, batch_first=True)\n",
        "        self.output = nn.Linear(num_hiddens, num_classes)\n",
        "\n",
        "    def forward(self, X):\n",
        "        out = self.embedding(X)\n",
        "        _, state = self.hidden(out)\n",
        "        predictions = self.output(state[0].squeeze())\n",
        "        return predictions"
      ],
      "metadata": {
        "id": "jE6nN9Yk9FLj"
      },
      "execution_count": null,
      "outputs": []
    },
    {
      "cell_type": "code",
      "source": [
        "model = NeuralNetwork(nn.LSTM, len(CHAR_TO_INDEX), 64, 128, len(CHAR_TO_INDEX))\n",
        "model"
      ],
      "metadata": {
        "colab": {
          "base_uri": "https://localhost:8080/"
        },
        "id": "FIqcELfv9OMg",
        "outputId": "67e22fcc-e460-48c7-9a9f-c427c5676b62"
      },
      "execution_count": null,
      "outputs": [
        {
          "output_type": "execute_result",
          "data": {
            "text/plain": [
              "NeuralNetwork(\n",
              "  (embedding): Embedding(27, 64)\n",
              "  (hidden): LSTM(64, 128, batch_first=True)\n",
              "  (output): Linear(in_features=128, out_features=27, bias=True)\n",
              ")"
            ]
          },
          "metadata": {},
          "execution_count": 10
        }
      ]
    },
    {
      "cell_type": "code",
      "source": [
        "embedding = nn.Embedding(len(INDEX_TO_CHAR), 15)\n",
        "rnn = nn.LSTM(15,128, batch_first=True)"
      ],
      "metadata": {
        "id": "evYqSsSP9IaJ"
      },
      "execution_count": null,
      "outputs": []
    },
    {
      "cell_type": "code",
      "source": [
        "o, s = rnn(embedding(X[0:10]))\n",
        "o.shape, len(s), s[0].shape, s[1].shape"
      ],
      "metadata": {
        "colab": {
          "base_uri": "https://localhost:8080/"
        },
        "id": "jgINYFI09XhW",
        "outputId": "7c8ec588-05fa-4501-ae43-1721e15b1e35"
      },
      "execution_count": null,
      "outputs": [
        {
          "output_type": "execute_result",
          "data": {
            "text/plain": [
              "(torch.Size([10, 40, 128]),\n",
              " 2,\n",
              " torch.Size([1, 10, 128]),\n",
              " torch.Size([1, 10, 128]))"
            ]
          },
          "metadata": {},
          "execution_count": 11
        }
      ]
    },
    {
      "cell_type": "code",
      "source": [
        "device = 'cuda' if torch.cuda.is_available() else 'cpu'\n",
        "device"
      ],
      "metadata": {
        "colab": {
          "base_uri": "https://localhost:8080/",
          "height": 35
        },
        "id": "eGU5tgO5-GrG",
        "outputId": "3e342690-a042-483b-d690-6b74919de05e"
      },
      "execution_count": null,
      "outputs": [
        {
          "output_type": "execute_result",
          "data": {
            "text/plain": [
              "'cuda'"
            ],
            "application/vnd.google.colaboratory.intrinsic+json": {
              "type": "string"
            }
          },
          "metadata": {},
          "execution_count": 12
        }
      ]
    },
    {
      "cell_type": "code",
      "source": [
        "model = model.to(device)\n"
      ],
      "metadata": {
        "id": "-g5pevAX9icG"
      },
      "execution_count": null,
      "outputs": []
    },
    {
      "cell_type": "code",
      "source": [
        "def sample(preds):\n",
        "    softmaxed = torch.softmax(preds, 0)\n",
        "    probas = torch.distributions.multinomial.Multinomial(1, softmaxed).sample()\n",
        "    return probas.argmax()\n",
        "\n",
        "def generate_text():\n",
        "    start_index = random.randint(0, len(text) - MAX_LEN - 1)\n",
        "\n",
        "    generated = ''\n",
        "    sentence = text[start_index: start_index + MAX_LEN]\n",
        "    generated += sentence\n",
        "\n",
        "    for i in range(MAX_LEN):\n",
        "        x_pred = torch.zeros((1, MAX_LEN), dtype=int)\n",
        "        for t, char in enumerate(generated[-MAX_LEN:]):\n",
        "            x_pred[0, t] = CHAR_TO_INDEX[char]\n",
        "\n",
        "        preds = model(x_pred.to(device))\n",
        "        next_char = INDEX_TO_CHAR[sample(preds)]\n",
        "        generated = generated + next_char\n",
        "\n",
        "    print(generated[:MAX_LEN] + '|' + generated[MAX_LEN:])"
      ],
      "metadata": {
        "id": "6ec4NEbU9nxL"
      },
      "execution_count": null,
      "outputs": []
    },
    {
      "cell_type": "code",
      "source": [
        "generate_text()"
      ],
      "metadata": {
        "colab": {
          "base_uri": "https://localhost:8080/"
        },
        "id": "cRBQte8A9pqV",
        "outputId": "dec298ab-158a-4848-d6eb-b9f5c7d88f24"
      },
      "execution_count": null,
      "outputs": [
        {
          "output_type": "stream",
          "name": "stdout",
          "text": [
            "sent day excites distrust and displeasur|cqxcobtvxbtxyphyumsazgapcwytqq jpokfaemq\n"
          ]
        }
      ]
    },
    {
      "cell_type": "code",
      "source": [
        "criterion = torch.nn.CrossEntropyLoss()\n",
        "optimizer = torch.optim.Adam(model.parameters())"
      ],
      "metadata": {
        "id": "1p3uLw4-9rmP"
      },
      "execution_count": null,
      "outputs": []
    },
    {
      "cell_type": "code",
      "source": [
        "for ep in range(100):\n",
        "    start = time.time()\n",
        "    train_loss = 0.\n",
        "    train_passed = 0\n",
        "\n",
        "    model.train()\n",
        "    for X_b, y_b in data:\n",
        "        X_b, y_b = X_b.to(device), y_b.to(device)\n",
        "        optimizer.zero_grad()\n",
        "        answers = model(X_b)\n",
        "        loss = criterion(answers, y_b)\n",
        "        train_loss += loss.item()\n",
        "\n",
        "        loss.backward()\n",
        "        optimizer.step()\n",
        "        train_passed += 1\n",
        "\n",
        "    print(\"Epoch {}. Time: {:.3f}, Train loss: {:.3f}\".format(ep, time.time() - start, train_loss / train_passed))\n",
        "    model.eval()\n",
        "    generate_text()"
      ],
      "metadata": {
        "colab": {
          "base_uri": "https://localhost:8080/"
        },
        "id": "9YY_9QcC9uOg",
        "outputId": "72baf45a-40b5-4907-a5b4-1d3b0fc2b73e"
      },
      "execution_count": null,
      "outputs": [
        {
          "output_type": "stream",
          "name": "stdout",
          "text": [
            "Epoch 0. Time: 4.910, Train loss: 2.180\n",
            "oa in the midst of hellenic culture with| and mangers the souophis of of the nods\n",
            "Epoch 1. Time: 4.701, Train loss: 1.792\n",
            " which is certainly neither categorical |theer to veary to and enjigan in expente\n",
            "Epoch 2. Time: 4.450, Train loss: 1.657\n",
            "r specialties to our hospitality for ins|mans whaken surdelys the filing frequent\n",
            "Epoch 3. Time: 4.396, Train loss: 1.573\n",
            "e as they are and have always been the g|reas themses we hangrenests nom these it\n",
            "Epoch 4. Time: 4.849, Train loss: 1.515\n",
            "being be not involved is there such a th|oubled comemach demary indures be reaxer\n",
            "Epoch 5. Time: 4.398, Train loss: 1.470\n",
            "in ajax whose suicide would not have see|n animent eurmplents the millary engour \n",
            "Epoch 6. Time: 4.434, Train loss: 1.433\n",
            "n would have remained an animal thus has| not destren the simle clasire to sycult\n",
            "Epoch 7. Time: 4.802, Train loss: 1.402\n",
            "l one might say arbitrary will is now ne|w senctud by frich we phaseous and ideal\n",
            "Epoch 8. Time: 4.426, Train loss: 1.376\n",
            "siders evil is usually an unseasonable e|xsessed stills the eheriety us they mode\n",
            "Epoch 9. Time: 4.860, Train loss: 1.356\n",
            "heir own resources who want to make thei|r impletation scritianced to bentage it \n",
            "Epoch 10. Time: 4.483, Train loss: 1.336\n",
            "the influence of methodism and more rece|ach of spechalious parderence and others\n",
            "Epoch 11. Time: 4.586, Train loss: 1.319\n",
            "ng of the individual and hence comes und|er supersibe to wishes thing he existect\n",
            "Epoch 12. Time: 5.684, Train loss: 1.305\n",
            "ns and to bring to light their secret da|nger to brought ons a mest of they indiv\n",
            "Epoch 13. Time: 4.485, Train loss: 1.290\n",
            "er this condition in its further effects| still leck to admiration the s believed\n",
            "Epoch 14. Time: 4.953, Train loss: 1.279\n",
            " nowadays makes known that he is not a s|onmers and love should inconcient that i\n",
            "Epoch 15. Time: 4.505, Train loss: 1.267\n",
            "ends am ready day and night for my new f|eels from the ecrisited to exprises the \n",
            "Epoch 16. Time: 4.539, Train loss: 1.255\n",
            " morals regarded as the doctrine of the |lagour and believed with the finally exp\n",
            "Epoch 17. Time: 4.860, Train loss: 1.246\n",
            "lways ill smelling books the odour of pa|y something of the again an aboving rath\n",
            "Epoch 18. Time: 4.646, Train loss: 1.235\n",
            " a rule always before one s eyes the man|ifacted with it is essentially the indal\n",
            "Epoch 19. Time: 4.811, Train loss: 1.227\n",
            "ng the greeks likewise concerning the ge|rman statingly renality at a opprincion \n",
            "Epoch 20. Time: 4.570, Train loss: 1.219\n",
            "d ticklishness as to make them talk of t|he facts at this delice feel they will n\n",
            "Epoch 21. Time: 4.522, Train loss: 1.211\n",
            " greek inserted here the right time in o|rderness that to prideness a duction tha\n",
            "Epoch 22. Time: 5.088, Train loss: 1.204\n",
            "ord noble still mean for us nowadays how| too cave anchiens of the super morely t\n",
            "Epoch 23. Time: 4.423, Train loss: 1.197\n",
            " quantity we have moods and variations a|re made the ere the very essented as the\n",
            "Epoch 24. Time: 4.604, Train loss: 1.189\n",
            "and respect during the times of the mast|er of the common hive have failly mystes\n",
            "Epoch 25. Time: 4.771, Train loss: 1.182\n",
            "rom the outside and not from the inside |for the feeling from south they depthili\n",
            "Epoch 26. Time: 4.392, Train loss: 1.175\n",
            "ded and defamed the lofty independent sp|iundarce the fainted compulses revenge h\n",
            "Epoch 27. Time: 4.883, Train loss: 1.170\n",
            "eference to the weaker at first the most| conditions and developed and the evil m\n",
            "Epoch 28. Time: 4.484, Train loss: 1.164\n",
            "t difficult to nourish know the dangerou|s but rome respectly has just but this s\n",
            "Epoch 29. Time: 4.385, Train loss: 1.158\n",
            "hat it is by what standard could i deter|ioration man outses its also beete we ph\n",
            "Epoch 30. Time: 4.922, Train loss: 1.152\n",
            "dens and widens anew the old stream of d|omalities it cook of the words in it it \n",
            "Epoch 31. Time: 4.610, Train loss: 1.147\n",
            "mighty unity which afterwards branches o|ften super to the philosophical were a g\n",
            "Epoch 32. Time: 4.728, Train loss: 1.142\n",
            "sness and clumsy importunity with which |is reason in the doction with attenthmen\n",
            "Epoch 33. Time: 4.585, Train loss: 1.137\n",
            "s buyers of every class they can find al|so the logical and the rank hitherto rel\n",
            "Epoch 34. Time: 4.508, Train loss: 1.131\n",
            "ing of europe is at the same time an inv|olving of will if one such ascrock in al\n",
            "Epoch 35. Time: 4.934, Train loss: 1.126\n",
            "h instinctively aims at appearance and s|trong and have vanify clairly the congre\n",
            "Epoch 36. Time: 4.414, Train loss: 1.121\n",
            " the individual such a course of conduct| be and again minly or known his viet ef\n",
            "Epoch 37. Time: 4.623, Train loss: 1.117\n",
            "cret struggle with the pangs of conscien|ce motaied and progress what did mentive\n",
            "Epoch 38. Time: 4.844, Train loss: 1.112\n",
            " inhuman must serve us as surviving spec|iliansing a will smilitted by the temint\n",
            "Epoch 39. Time: 4.483, Train loss: 1.107\n",
            "mism schopenhauer has perhaps become mor|e repsirated and indeed to defite end su\n",
            "Epoch 40. Time: 4.926, Train loss: 1.104\n",
            "when the various excitations of desire a|nd particul find however preserving of a\n",
            "Epoch 41. Time: 4.492, Train loss: 1.099\n",
            "pathy applies to when it resists your sy|stomschics so what is palosce ones of th\n",
            "Epoch 42. Time: 4.511, Train loss: 1.093\n",
            "and nowhere else this mode of reasoning |endegling fonest present as these curron\n",
            "Epoch 43. Time: 4.911, Train loss: 1.090\n",
            " that just endeavouring to be otherwise |is not be pasn as way unscapious self pr\n",
            "Epoch 44. Time: 4.607, Train loss: 1.085\n",
            " of experiments by the name with which i|n precisely inventive to knings as oppre\n",
            "Epoch 45. Time: 4.816, Train loss: 1.082\n",
            "oped rough individualities will be the v|arious spinits as the extenture fundamen\n",
            "Epoch 46. Time: 4.475, Train loss: 1.078\n",
            "may perhaps in thousands of years be pow|erful wheres of judgent form themselves \n",
            "Epoch 47. Time: 4.486, Train loss: 1.074\n",
            "we should do honour to our name we are n|ot and accidentation more progrection th\n",
            "Epoch 48. Time: 4.933, Train loss: 1.070\n",
            "al itself here as that which it has alwa|ys so called remained my a cublarces obs\n",
            "Epoch 49. Time: 4.512, Train loss: 1.066\n",
            "nglish morality to be recognized as auth|orate hard hadke as good maid most empor\n",
            "Epoch 50. Time: 4.571, Train loss: 1.062\n",
            "d will to power we believe that severity| puppose of their poised with slowers fo\n",
            "Epoch 51. Time: 4.690, Train loss: 1.059\n",
            "world and notwithstanding all the contor|ds of which in every more an every spiri\n",
            "Epoch 52. Time: 4.472, Train loss: 1.056\n",
            "t of enlightenment had he been born in o|ur lying now the world it and natural at\n",
            "Epoch 53. Time: 4.857, Train loss: 1.051\n",
            "not to walk therein that these last word| are and close and if they not did an ex\n",
            "Epoch 54. Time: 4.381, Train loss: 1.047\n",
            "wards to believe implicitly in this opin|ions from the same impulses and the idea\n",
            "Epoch 55. Time: 4.497, Train loss: 1.045\n",
            "our of richard wagner s german nature th|at the best entire them a sove all known\n",
            "Epoch 56. Time: 4.908, Train loss: 1.041\n",
            " peculiar right of masters to create val|ues and the emancis who athense it is ef\n",
            "Epoch 57. Time: 4.412, Train loss: 1.039\n",
            "ssed and despairing a staff and support |this doctrination sin it is to some mann\n",
            "Epoch 58. Time: 4.834, Train loss: 1.034\n",
            " with it in the present state of knowled|ge for this fact this is unerrect say th\n",
            "Epoch 59. Time: 4.516, Train loss: 1.032\n",
            "ace and the rule in themselves and at th|e religious est never a rongulantly exis\n",
            "Epoch 60. Time: 4.581, Train loss: 1.029\n",
            "the unselfing and depersonalizing of the| certain circumsor moze in the present i\n",
            "Epoch 61. Time: 4.809, Train loss: 1.025\n",
            "set our teeth firmly let us open our eye| itself the above and our brysholed and \n",
            "Epoch 62. Time: 4.482, Train loss: 1.023\n",
            "ning of a joy in pain in emotion especia|lly it was intercitivation before be ass\n",
            "Epoch 63. Time: 4.665, Train loss: 1.019\n",
            "lities it calls virtues and these virtue| which one thing in his opposition to so\n",
            "Epoch 64. Time: 4.667, Train loss: 1.017\n",
            "northern grey in grey from sunless conce|rned was stronger in the means for elegn\n",
            "Epoch 65. Time: 4.453, Train loss: 1.012\n",
            "nd is for all eternity insatiably callin|g stood inspires for mystriness would we\n",
            "Epoch 66. Time: 4.889, Train loss: 1.010\n",
            "s egoism really suffers more as a result| or susprionimaticall speaking this conc\n",
            "Epoch 67. Time: 4.383, Train loss: 1.006\n",
            "eems that the latin races are far more d|istrance that it give personalities shad\n",
            "Epoch 68. Time: 4.581, Train loss: 1.006\n",
            "a world of almost in every respect capti|on for him too consence the instinct be \n",
            "Epoch 69. Time: 4.901, Train loss: 1.001\n",
            "ough in short they betray something ther|efore and some desire of refined more ha\n",
            "Epoch 70. Time: 4.517, Train loss: 0.999\n",
            "r own opinion of themselves by means of |the predisped has the old dranorizin not\n",
            "Epoch 71. Time: 4.840, Train loss: 0.996\n",
            "entirely the blundering psychology of fo|r exactly something is incancy of anothe\n",
            "Epoch 72. Time: 4.567, Train loss: 0.995\n",
            "the noblest and remotest sentiment to wh|ee she had potcris of europe who forewor\n",
            "Epoch 73. Time: 4.373, Train loss: 0.991\n",
            "es this masquerade of a sickly recluse b|y their interpredewing and visionsymvin \n",
            "Epoch 74. Time: 4.909, Train loss: 0.990\n",
            "modest and citizen like in their desires| does not in advanced that powen and it \n",
            "Epoch 75. Time: 4.493, Train loss: 0.985\n",
            " understanding and ready welcome for tho|se who did one possesses beneational and\n",
            "Epoch 76. Time: 4.689, Train loss: 0.982\n",
            "ble nor anything egyptian pythagorean or|gany envy to vision and devocuct if thei\n",
            "Epoch 77. Time: 4.686, Train loss: 0.981\n",
            " form of which faith comes to it modern |or all is not long to faired no one s de\n",
            "Epoch 78. Time: 4.514, Train loss: 0.978\n",
            "self preservation socrates and plato are| amonx the bony young uneacmblen that ho\n",
            "Epoch 79. Time: 4.876, Train loss: 0.976\n",
            "ow to keep silence who takes pleasure in| produce it is a said the best now the t\n",
            "Epoch 80. Time: 4.402, Train loss: 0.974\n",
            " among artists and scholars plenty of th|is is a functions of pleasure as a best \n",
            "Epoch 81. Time: 4.504, Train loss: 0.971\n",
            "d it is a sort of logical violation and |eye defeption the discover cruref and co\n",
            "Epoch 82. Time: 4.912, Train loss: 0.968\n",
            "ng is known in any way whatever it denot|est and approves and by the vosoit then \n",
            "Epoch 83. Time: 4.512, Train loss: 0.972\n",
            "en sacrificed human beings to their god |by man like every believes exists and co\n",
            "Epoch 84. Time: 4.899, Train loss: 0.963\n",
            " literally man feeling or human outlook |the fate exthing in the revilish ideas w\n",
            "Epoch 85. Time: 4.389, Train loss: 0.962\n",
            "ing of the individual and hence comes un|ishen in juidnalificar circumstances of \n",
            "Epoch 86. Time: 4.505, Train loss: 0.961\n",
            "that the exchange of honours and rights |in the christian spirit worlds of precis\n",
            "Epoch 87. Time: 4.914, Train loss: 0.958\n",
            "oman retrogrades since the french revolu|tion that is evident gregarious consques\n",
            "Epoch 88. Time: 4.528, Train loss: 0.958\n",
            "mpathy as the worst of all pampering and| chompelsy that when has friewness it is\n",
            "Epoch 89. Time: 4.752, Train loss: 0.955\n",
            "it is not even the opinion of all pessim|ism northecty itself one happen to which\n",
            "Epoch 90. Time: 4.631, Train loss: 0.951\n",
            "akes people happy or virtuous excepting |tows would it is the same sharpoed for t\n",
            "Epoch 91. Time: 4.474, Train loss: 0.951\n",
            "a single planet now with red light now w|e are the spirit a stated the occaus and\n",
            "Epoch 92. Time: 4.900, Train loss: 0.950\n",
            "a non ruling non authoritative and non s|phasic pasch to co love has its unifound\n",
            "Epoch 93. Time: 4.400, Train loss: 0.947\n",
            "s a piece of botch work that phenomenon |of that science people indeed the sense \n",
            "Epoch 94. Time: 4.619, Train loss: 0.945\n",
            "en such a man has sympathy well that sym|pathy moreover it is not about man even \n",
            "Epoch 95. Time: 4.871, Train loss: 0.944\n",
            "springs rushes flows and comes to a clos|h it is before the lugn is necessary in \n",
            "Epoch 96. Time: 4.366, Train loss: 0.943\n",
            "ther in recovery and the free spirit dra|ven in themselves way they s for the imp\n",
            "Epoch 97. Time: 4.917, Train loss: 0.940\n",
            "iny of the world and notwithstanding all| in the exception and how is the a sign \n",
            "Epoch 98. Time: 4.502, Train loss: 0.938\n",
            "ble even as the fundamental principle of| early again shitterf are an eye hung af\n",
            "Epoch 99. Time: 4.492, Train loss: 0.938\n",
            "en style were then the same as those of |very rich in the higher man he askegerfu\n"
          ]
        }
      ]
    }
  ]
}