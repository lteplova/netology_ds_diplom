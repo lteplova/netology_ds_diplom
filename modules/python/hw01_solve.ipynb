{
  "nbformat": 4,
  "nbformat_minor": 0,
  "metadata": {
    "colab": {
      "provenance": []
    },
    "kernelspec": {
      "name": "python3",
      "display_name": "Python 3"
    },
    "language_info": {
      "name": "python"
    }
  },
  "cells": [
    {
      "cell_type": "markdown",
      "source": [
        "### Задание 1"
      ],
      "metadata": {
        "id": "yivAB9OFOxP4"
      }
    },
    {
      "cell_type": "code",
      "execution_count": null,
      "metadata": {
        "id": "_MW8Y0CnzZVT",
        "colab": {
          "base_uri": "https://localhost:8080/"
        },
        "outputId": "84e54c89-40e7-4128-daae-15cbff379794"
      },
      "outputs": [
        {
          "output_type": "stream",
          "name": "stdout",
          "text": [
            "Фраза 1: wdwdf\n",
            "Фраза 2: wewewew\n",
            "Фраза 2 длиннее фразы 1\n"
          ]
        }
      ],
      "source": [
        "phrase_1 = input('Фраза 1: ')\n",
        "phrase_2 = input('Фраза 2: ')\n",
        "if len(phrase_1) > len(phrase_2):\n",
        "     print('Фраза 1 длиннее фразы 2')\n",
        "elif len(phrase_1) < len(phrase_2):\n",
        "    print('Фраза 2 длиннее фразы 1')\n",
        "else:\n",
        "     print('Фразы равной длины')\n",
        "\n",
        "\n"
      ]
    },
    {
      "cell_type": "markdown",
      "source": [
        "### Задание 2"
      ],
      "metadata": {
        "id": "zr032uXCPUxZ"
      }
    },
    {
      "cell_type": "code",
      "source": [
        "year = int(input('Введите год: '))\n",
        "if year % 4 == 0:\n",
        "  print('Результат: Високосный год')\n",
        "else:\n",
        "    print('Результат: Обычный год')\n"
      ],
      "metadata": {
        "colab": {
          "base_uri": "https://localhost:8080/"
        },
        "id": "NkUsPouWPK-V",
        "outputId": "2eadfe57-6b2a-404e-b564-72683be83a87"
      },
      "execution_count": null,
      "outputs": [
        {
          "output_type": "stream",
          "name": "stdout",
          "text": [
            "Введите год: 2020\n",
            "Результат: Високосный год\n"
          ]
        }
      ]
    },
    {
      "cell_type": "markdown",
      "source": [
        "### Задание 3"
      ],
      "metadata": {
        "id": "VFFqQ65vywbV"
      }
    },
    {
      "cell_type": "code",
      "source": [
        "day = int(input('Введите день рождения: '))\n",
        "month = str(input('Введите месяц рождения: ')).lower()\n",
        "if ((day >= 22) and (day <= 31) and (month == 'декабрь')) or ((day >= 1) and (day <= 19) and (month == 'январь')):\n",
        "  print('Ваш знак зодиака: Козерог')\n",
        "elif ((day >= 20) and (day <= 31) and (month == 'январь')) or ((day >= 1) and (day <= 19) and (month == 'фераль')):\n",
        "  print('Ваш знак зодиака: Водолей')\n",
        "elif ((day >= 20) and (day <= 29) and (month == 'фераль')) or ((day >= 1) and (day <= 21) and (month == 'март')):\n",
        "  print('Ваш знак зодиака: Рыбы')\n",
        "elif ((day >= 22) and (day <= 31) and (month == 'март')) or ((day >= 1) and (day <= 21) and (month == 'апрель')):\n",
        "  print('Ваш знак зодиака: Овен')\n",
        "elif ((day >= 22) and (day <= 30) and (month == 'апрель')) or ((day >= 1) and (day <= 21) and (month == 'май')):\n",
        "  print('Ваш знак зодиака: Телец')\n",
        "elif ((day >= 22) and (day <= 31) and (month == 'май')) or ((day >= 1) and (day <= 21) and (month == 'июнь')):\n",
        "  print('Ваш знак зодиака: Близнецы')\n",
        "elif ((day >= 22) and (day <= 30) and (month == 'июнь')) or ((day >= 1) and (day <= 21) and (month == 'июль')):\n",
        "  print('Ваш знак зодиака: Рак')\n",
        "elif ((day >= 22) and (day <= 31) and (month == 'июль')) or ((day >= 1) and (day <= 21) and (month == 'август')):\n",
        "  print('Ваш знак зодиака: Лев')\n",
        "elif ((day >= 22) and (day <= 31) and (month == 'август')) or ((day >= 1) and (day <= 21) and (month == 'сентябрь')):\n",
        "  print('Ваш знак зодиака: Дева')\n",
        "elif ((day >= 22) and (day <= 30) and (month == 'сентябрь')) or ((day >= 1) and (day <= 21) and (month == 'октябрь')):\n",
        "  print('Ваш знак зодиака: Весы')\n",
        "elif ((day >= 22) and (day <= 31) and (month == 'октябрь')) or ((day >= 1) and (day <= 20) and (month == 'ноябрь')):\n",
        "  print('Ваш знак зодиака: Скорпион')\n",
        "elif ((day >= 21) and (day <= 30) and (month == 'ноябрь')) or ((day >= 1) and (day <= 21) and (month == 'декабрь')):\n",
        "  print('Ваш знак зодиака: Стрелец')\n",
        "else:\n",
        "  print('Введены некорректные данные!')"
      ],
      "metadata": {
        "colab": {
          "base_uri": "https://localhost:8080/"
        },
        "id": "ADhfsgEoyz-a",
        "outputId": "66aa66ac-9512-4208-b24c-f9d843a839c1"
      },
      "execution_count": null,
      "outputs": [
        {
          "output_type": "stream",
          "name": "stdout",
          "text": [
            "Введите день рождения: 123\n",
            "Введите месяц рождения: лод\n",
            "Введены некорректные данные!\n"
          ]
        }
      ]
    },
    {
      "cell_type": "markdown",
      "source": [
        "### Задание 4"
      ],
      "metadata": {
        "id": "N1Pvk-7tHNV5"
      }
    },
    {
      "cell_type": "code",
      "source": [
        "width = int(input('width = '))\n",
        "length = int(input('length = '))\n",
        "height = int(input('height = '))\n",
        "if (width <= 15) and (length <= 15) and (height<=15):\n",
        " print('Коробка №1')\n",
        "elif ((width > 15) and (width < 50)) and ((length > 15) and (length < 50)) and ((height > 15) and (height < 50)):\n",
        " print('Коробка №2')\n",
        "elif length >= 200:\n",
        " print('Ищите упаковку для лыж')\n",
        "else:\n",
        "  print('Стандартная коробка №3')"
      ],
      "metadata": {
        "colab": {
          "base_uri": "https://localhost:8080/"
        },
        "id": "AJ7yakOEHVXI",
        "outputId": "1c2f6252-84f0-48dd-bdb7-6cdaef6aaac6"
      },
      "execution_count": null,
      "outputs": [
        {
          "output_type": "stream",
          "name": "stdout",
          "text": [
            "width = 50\n",
            "length = 15\n",
            "height = 21\n",
            "Стандартная коробка №3\n"
          ]
        }
      ]
    },
    {
      "cell_type": "markdown",
      "source": [
        "### Задание 5"
      ],
      "metadata": {
        "id": "CNGsm_-SPwi4"
      }
    },
    {
      "cell_type": "markdown",
      "source": [
        "#### Первый вариант решения:"
      ],
      "metadata": {
        "id": "Ghn4HBYTWagc"
      }
    },
    {
      "cell_type": "code",
      "source": [
        "number = input('Введите номер билета:')\n",
        "if len(number) == 6:\n",
        "  a = int(number) // 100000\n",
        "  b = int(number) // 10000 - (a * 10)\n",
        "  c = int(number) // 1000 - (a * 100 + b * 10)\n",
        "  d = int(number) // 100 - (a * 1000 + b * 100 + c * 10)\n",
        "  e = int(number) // 10 - (a * 10000 + b * 1000 + c * 100 + d*10)\n",
        "  g = int(number) // 1 - (a * 100000 + b * 10000 + c * 1000 + d * 100 + e * 10)\n",
        "  if (a + b+ c) == (d + e + g):\n",
        "    print('Ура, счастливый билет!')\n",
        "  else:\n",
        "    print('Несчастливый билет!')\n",
        "else:\n",
        "  print('Это не номер билета!')"
      ],
      "metadata": {
        "colab": {
          "base_uri": "https://localhost:8080/"
        },
        "id": "nnUQrYMFdnWD",
        "outputId": "1d864f08-8885-4e19-a129-139490635507"
      },
      "execution_count": null,
      "outputs": [
        {
          "output_type": "stream",
          "name": "stdout",
          "text": [
            "Введите номер билета:123\n",
            "Это не номер билета!\n"
          ]
        }
      ]
    },
    {
      "cell_type": "markdown",
      "source": [
        "#### Второй вариант решения:"
      ],
      "metadata": {
        "id": "IljORVDCWQD4"
      }
    },
    {
      "cell_type": "code",
      "source": [
        "number = input('Введите номер билета:')\n",
        "if len(number) == 6:\n",
        "  sum_1 = int(number[0]) + int(number[1]) + int(number[2])\n",
        "  sum_2 = int(number[3]) + int(number[4]) + int(number[5])\n",
        "  if sum_1  == sum_2:\n",
        "    print('Ура, счастливый билет!')\n",
        "  else:\n",
        "    print('Несчастливый билет!')\n",
        "else:\n",
        "  print('Это не номер билета!')"
      ],
      "metadata": {
        "colab": {
          "base_uri": "https://localhost:8080/"
        },
        "id": "jryzhgX8SUP4",
        "outputId": "2e9e1b27-cb75-45a7-8f52-b40784cfb22b"
      },
      "execution_count": null,
      "outputs": [
        {
          "output_type": "stream",
          "name": "stdout",
          "text": [
            "Введите номер билета:456456\n",
            "Ура, счастливый билет!\n"
          ]
        }
      ]
    },
    {
      "cell_type": "markdown",
      "source": [
        "### Задание 6"
      ],
      "metadata": {
        "id": "vBEz3V_HWjPi"
      }
    },
    {
      "cell_type": "code",
      "source": [
        "figure = input('Введите тип фигуры: ').lower()\n",
        "if figure == ('треугольник'):\n",
        "  a = int(input('Введите сторону А: '))\n",
        "  b = int(input('Введите сторону B: '))\n",
        "  c = int(input('Введите сторону C: '))\n",
        "  p = (a + b + c) / 2\n",
        "  print(f'Результат:\\nПлощадь треугольника равна: {(p * (p - a) * (p - b) * (p - c)) ** (0.5):.2}')\n",
        "elif figure == ('круг'):\n",
        "  r = int(input('Введите радиус круга: '))\n",
        "  print(f'Результат:\\nПлощадь круга: {3.14 * r**2}')\n",
        "elif figure == ('прямоугольник'):\n",
        "  a = int(input('Введите сторону А: '))\n",
        "  b = int(input('Введите сторону B: '))\n",
        "  print(f'Результат:\\nПлощадь прямоугольника: {a * b}')\n",
        "else:\n",
        "  print ('Неверные данные')"
      ],
      "metadata": {
        "colab": {
          "base_uri": "https://localhost:8080/"
        },
        "id": "NudOuNxKWnF9",
        "outputId": "0dfddcf0-00fb-465d-abfc-bd2a95caeb9d"
      },
      "execution_count": null,
      "outputs": [
        {
          "output_type": "stream",
          "name": "stdout",
          "text": [
            "Введите тип фигуры: Круг\n",
            "Введите радиус круга: 456456\n",
            "Результат:\n",
            "Площадь круга: 654225530999.04\n"
          ]
        }
      ]
    }
  ]
}