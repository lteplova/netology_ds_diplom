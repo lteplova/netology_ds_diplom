{
  "nbformat": 4,
  "nbformat_minor": 0,
  "metadata": {
    "colab": {
      "provenance": []
    },
    "kernelspec": {
      "name": "python3",
      "display_name": "Python 3"
    },
    "language_info": {
      "name": "python"
    }
  },
  "cells": [
    {
      "cell_type": "markdown",
      "source": [
        "# Задание 1"
      ],
      "metadata": {
        "id": "OuGE4nhANg0C"
      }
    },
    {
      "cell_type": "code",
      "source": [
        "import re\n",
        "\n",
        "car_id = input()\n",
        "pattern_car_id = re.findall(r'[А, В, Е, К, М, Н, О, Р, С, Т, У, Х]{1}\\d{3}[А, В, Е, К, М, Н, О, Р, С, Т, У, Х]{2}\\d{2,3}', car_id)\n",
        "region = re.search(r'\\d{2,3}$', car_id)\n",
        "res = region.group()\n",
        "if pattern_car_id != []:\n",
        "    print (f'Результат: Номер {pattern_car_id} валиден. Регион: {res}')\n",
        "else:\n",
        "    print (f'car_id = {car_id}')\n",
        "    print('Результат: Номер не валиден')\n"
      ],
      "metadata": {
        "colab": {
          "base_uri": "https://localhost:8080/"
        },
        "id": "848MSuIUNkqi",
        "outputId": "d4af050a-1f9d-42df-b3cb-87248847f08e"
      },
      "execution_count": null,
      "outputs": [
        {
          "output_type": "stream",
          "name": "stdout",
          "text": [
            "АВ211К123\n",
            "car_id = АВ211К123\n",
            "Результат: Номер не валиден\n"
          ]
        }
      ]
    },
    {
      "cell_type": "markdown",
      "source": [
        "# Задание 2"
      ],
      "metadata": {
        "id": "ouKhZ5z6DxSn"
      }
    },
    {
      "cell_type": "code",
      "source": [
        "def remove_repeats(some_string):\n",
        "    res = re.sub(r'\\b([\\w]+)(\\s+\\1)+\\b', r'\\1', some_string)\n",
        "    return res\n",
        "\n",
        "remove_repeats('Напишите функцию функцию, которая будет будет будет будет удалять все все все все последовательные повторы слов из из из из заданной строки строки при помощи регулярных выражений.')"
      ],
      "metadata": {
        "colab": {
          "base_uri": "https://localhost:8080/",
          "height": 36
        },
        "id": "EkOs7C6yDwn0",
        "outputId": "77f30d9c-08e9-40a9-e3e8-d3c73968fbf2"
      },
      "execution_count": null,
      "outputs": [
        {
          "output_type": "execute_result",
          "data": {
            "text/plain": [
              "'Напишите функцию, которая будет удалять все последовательные повторы слов из заданной строки при помощи регулярных выражений.'"
            ],
            "application/vnd.google.colaboratory.intrinsic+json": {
              "type": "string"
            }
          },
          "metadata": {},
          "execution_count": 12
        }
      ]
    },
    {
      "cell_type": "markdown",
      "source": [
        "# Задание 3"
      ],
      "metadata": {
        "id": "2fvPjnSyG1dF"
      }
    },
    {
      "cell_type": "code",
      "source": [
        "import re\n",
        "\n",
        "def acronym(some_word):\n",
        "    res = re.sub(r'(\\w)(\\w*)(\\s|$)', r'\\1', some_word)\n",
        "    return res\n",
        "\n",
        "acronym('Near field Communication').upper()\n"
      ],
      "metadata": {
        "colab": {
          "base_uri": "https://localhost:8080/",
          "height": 36
        },
        "id": "23HVgoyxQqj2",
        "outputId": "dfb6db14-b064-4bc0-8f60-ef5b1402848b"
      },
      "execution_count": null,
      "outputs": [
        {
          "output_type": "execute_result",
          "data": {
            "text/plain": [
              "'NFC'"
            ],
            "application/vnd.google.colaboratory.intrinsic+json": {
              "type": "string"
            }
          },
          "metadata": {},
          "execution_count": 57
        }
      ]
    },
    {
      "cell_type": "markdown",
      "source": [
        "# Задание 4"
      ],
      "metadata": {
        "id": "7FijvHquS3BB"
      }
    },
    {
      "cell_type": "code",
      "source": [
        "import re\n",
        "\n",
        "def domain(emails):\n",
        "    domains = {}\n",
        "    for el in emails:\n",
        "        domain = re.findall(r'(?<=@)\\w+.\\w+', el)[0]\n",
        "        if domain in domains:\n",
        "            domains[domain] += 1\n",
        "        else:\n",
        "            domains[domain] = 1\n",
        "    return domains\n",
        "\n",
        "domain(['test@gmail.com', 'xyz@test.in', 'test@ya.ru', 'xyz@mail.ru', 'xyz@ya.ru', 'xyz@gmail.com'])\n",
        "\n",
        "\n"
      ],
      "metadata": {
        "colab": {
          "base_uri": "https://localhost:8080/"
        },
        "id": "1HAoLFPOS6AB",
        "outputId": "e1813fc2-e715-42eb-81bd-7ae4269f522b"
      },
      "execution_count": null,
      "outputs": [
        {
          "output_type": "execute_result",
          "data": {
            "text/plain": [
              "{'gmail.com': 2, 'mail.ru': 1, 'test.in': 1, 'ya.ru': 2}"
            ]
          },
          "metadata": {},
          "execution_count": 1
        }
      ]
    },
    {
      "cell_type": "code",
      "source": [
        "def mail_domain(list_mail):\n",
        "  list_domain = re.findall(r'\\w+\\.\\w+', ' '.join(list_mail))\n",
        "  for mail in set(list_domain):\n",
        "    print(f'{mail}: {list_domain.count(mail)}')\n",
        "\n",
        "mail_domain(['test@gmail.com', 'xyz@test.in', 'test@ya.ru', 'xyz@mail.ru', 'xyz@ya.ru', 'xyz@gmail.com'])\n"
      ],
      "metadata": {
        "colab": {
          "base_uri": "https://localhost:8080/"
        },
        "id": "Fne9SZ8YuibR",
        "outputId": "eb3e96a5-f320-42de-b6d1-ab229b86c235"
      },
      "execution_count": null,
      "outputs": [
        {
          "output_type": "stream",
          "name": "stdout",
          "text": [
            "ya.ru: 2\n",
            "test.in: 1\n",
            "mail.ru: 1\n",
            "gmail.com: 2\n"
          ]
        }
      ]
    },
    {
      "cell_type": "markdown",
      "source": [
        "# Задание 5"
      ],
      "metadata": {
        "id": "Q99g8yjUXYda"
      }
    },
    {
      "cell_type": "code",
      "source": [
        "import re\n",
        "\n",
        "def count_letter(some_text):\n",
        "\n",
        "    # отрезаем только первые буквы слов re.sub(r'(\\w)(\\w*)(.|,|$)(\\s?)', r'\\1, ', some_text)\n",
        "\n",
        "    # находим все гласные\n",
        "    vowel_pattern = re.findall(r'[а+|е+|ё+|и+|о+|у+|ы+|э+|ю+|я+|a+|e+|i+|o+|u+|y+]', re.sub(r'(\\w)(\\w*)(.|,|$)(\\s?)', r'\\1, ', some_text), flags=re.IGNORECASE) #\n",
        "\n",
        "     # находим все согласные\n",
        "    consonant_pattern = re.findall(r'[б+|в+|г+|д+|ж+|з+|й+|к+|л+|м+|н+|п+|р+|с+|т+|ф+|х+|ц+|ч+|ш+|щ+|b+|c+|d+|f+|g+|h+|j+|k+|l+|m+|n+|p+|q+|r+|s+|t+|v+|w+|x+|z]', re.sub(r'(\\w)(\\w*)(.|,|$)(\\s?)', r'\\1, ', some_text), flags=re.IGNORECASE)\n",
        "\n",
        "    return len(vowel_pattern), len(consonant_pattern)\n",
        "\n",
        "(vowel, consonant) = count_letter('Эталонной реализацией Python является интерпретатор CPython, поддерживающий большинство активно используемых платформ. Он распространяется под свободной лицензией Python Software Foundation License, позволяющей использовать его без ограничений в любых приложениях, включая проприетарные.')\n",
        "print(f'Слов на гласные буквы: {vowel}')\n",
        "print(f'Слов на согласные буквы: {consonant}')"
      ],
      "metadata": {
        "colab": {
          "base_uri": "https://localhost:8080/"
        },
        "id": "EgfYHzUSXbkh",
        "outputId": "80de38d2-5066-4574-a808-f597047c1a40"
      },
      "execution_count": null,
      "outputs": [
        {
          "output_type": "stream",
          "name": "stdout",
          "text": [
            "Слов на гласные буквы: 9\n",
            "Слов на согласные буквы: 21\n"
          ]
        }
      ]
    },
    {
      "cell_type": "markdown",
      "source": [
        "# Задание 6\n"
      ],
      "metadata": {
        "id": "cREsWdwthYSa"
      }
    },
    {
      "cell_type": "code",
      "source": [
        "import re\n",
        "\n",
        "def check_number_phone(number):\n",
        "\n",
        "\n",
        "    pattern_number = re.sub(r'(\\+?\\s?)(7|8)(\\s?-?)(\\(?)(\\d{3})(\\s?-?)(\\)?\\s?)(\\d{3})(\\s?-?)(\\d{2})(\\s?-?)(\\d{2}$)', r'+7-\\5-\\8-\\10-\\12', number)\n",
        "\n",
        "\n",
        "    return pattern_number\n",
        "\n",
        "number = input()\n",
        "res = check_number_phone(number)\n",
        "if res != number or re.findall(r'\\+7-\\d{3}-\\d{3}-\\d{2}-\\d{2}', number):\n",
        "        print (f'phone = {number}')\n",
        "        print(f'Результат: {res}')\n",
        "else:\n",
        "    print(f'phone = {number}')\n",
        "    print('Результат: Номер не валиден')"
      ],
      "metadata": {
        "colab": {
          "base_uri": "https://localhost:8080/"
        },
        "id": "2ntENMw2MQ1b",
        "outputId": "97ac4dbf-dcfd-490b-df3b-efb41002973e"
      },
      "execution_count": null,
      "outputs": [
        {
          "output_type": "stream",
          "name": "stdout",
          "text": [
            "423-555-55-5555\n",
            "phone = 423-555-55-5555\n",
            "Результат: Номер не валиден\n"
          ]
        }
      ]
    }
  ]
}