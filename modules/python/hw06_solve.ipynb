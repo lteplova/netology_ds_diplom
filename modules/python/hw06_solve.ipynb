{
  "nbformat": 4,
  "nbformat_minor": 0,
  "metadata": {
    "colab": {
      "provenance": []
    },
    "kernelspec": {
      "name": "python3",
      "display_name": "Python 3"
    },
    "language_info": {
      "name": "python"
    }
  },
  "cells": [
    {
      "cell_type": "markdown",
      "source": [
        "Задание 1\n",
        "Печатные газеты использовали свой формат дат для каждого выпуска. Для каждой газеты из списка напишите формат указанной даты для перевода в объект datetime:\n",
        "The Moscow Times — Wednesday, October 2, 2002\n",
        "The Guardian — Friday, 11.10.13\n",
        "Daily News — Thursday, 18 August 1977\n",
        "\n",
        "Задание 2\n",
        "Дан поток дат в формате YYYY-MM-DD, в которых встречаются некорректные значения:\n",
        "stream = [‘2018-04-02’, ‘2018-02-29’, ‘2018-19-02’]\n",
        "\n",
        "Напишите функцию, которая проверяет эти даты на корректность. То есть для каждой даты возвращает True — дата корректна или False — некорректная.\n",
        "\n",
        "Задание 3\n",
        "Напишите функцию date_range, которая возвращает список дат за период от start_date до end_date. Даты должны вводиться в формате YYYY-MM-DD. В случае неверного формата или при start_date > end_date должен возвращаться пустой список.\n",
        "\n",
        "Задание 4 (необязательное)\n",
        "Ваш коллега прислал код функции:\n",
        "\n",
        "DEFAULT_USER_COUNT = 3\n",
        "\n",
        "def delete_and_return_last_user(region, default_list=[‘A100’, ‘A101’, ‘A102’]):\n",
        "\"\"“\n",
        "Удаляет из списка default_list последнего пользователя\n",
        "и возвращает ID нового последнего пользователя.\n",
        "”\"\"\n",
        "element_to_delete = default_list[-1]\n",
        "default_list.remove(element_to_delete)\n",
        "\n",
        "1\n",
        "return default_list[DEFAULT_USER_COUNT-2]\n",
        "\n",
        "При однократном вызове этой функции всё работает корректно:\n",
        "delete_and_return_last_user(1)\n",
        "‘A101’\n",
        "\n",
        "Однако при повторном вызове получается ошибка IndexError: list index out of range.\n",
        "\n",
        "Задание:\n",
        "\n",
        "    Что значит ошибка list index out of range?\n",
        "    Почему при первом запуске функция работает корректно, а при втором — нет?\n"
      ],
      "metadata": {
        "id": "yFDZVnk_sUkZ"
      }
    },
    {
      "cell_type": "markdown",
      "source": [
        "### Задание 1\n",
        "\n"
      ],
      "metadata": {
        "id": "c3X7hY2LH11l"
      }
    },
    {
      "cell_type": "code",
      "execution_count": null,
      "metadata": {
        "colab": {
          "base_uri": "https://localhost:8080/"
        },
        "id": "sYMvGlulHrKz",
        "outputId": "edfaeee8-f79c-4dc2-dee5-1df6fa7b9f61"
      },
      "outputs": [
        {
          "output_type": "stream",
          "name": "stdout",
          "text": [
            "2002-10-02 00:00:00\n",
            "2013-10-11 00:00:00\n",
            "1977-08-18 00:00:00\n"
          ]
        }
      ],
      "source": [
        "from datetime import datetime\n",
        "moscow_time = 'Wednesday, October 2, 2002'\n",
        "guardian = 'Friday, 11.10.13'\n",
        "daily_news = 'Thursday, 18 August 1977'\n",
        "\n",
        "moscow_time_obj = datetime.strptime(moscow_time, '%A, %B %d, %Y')\n",
        "guardian_obj = datetime.strptime(guardian, '%A, %d.%m.%y')\n",
        "daily_news_obj = datetime.strptime(daily_news, '%A, %d %B %Y')\n",
        "\n",
        "print(moscow_time_obj)\n",
        "print(guardian_obj)\n",
        "print(daily_news_obj)"
      ]
    },
    {
      "cell_type": "markdown",
      "source": [
        "### Задание 2\n"
      ],
      "metadata": {
        "id": "9NGrp9mKHwdo"
      }
    },
    {
      "cell_type": "code",
      "source": [
        "from datetime import datetime\n",
        "\n",
        "stream = ['2018-04-02', '2018-02-29', '2018-19-02']\n",
        "\n",
        "def correct_data():\n",
        "\n",
        "    for el in stream:\n",
        "        try:\n",
        "            el = datetime.strptime(el, '%Y-%m-%d')\n",
        "            el = True\n",
        "            print(el)\n",
        "        except:\n",
        "            el = False\n",
        "            print(el)\n",
        "    return\n",
        "\n",
        "\n",
        "correct_data()"
      ],
      "metadata": {
        "colab": {
          "base_uri": "https://localhost:8080/"
        },
        "id": "c1z8sy_Vy_M8",
        "outputId": "a1cacea3-fa62-4092-ef20-88cb453ed731"
      },
      "execution_count": null,
      "outputs": [
        {
          "output_type": "stream",
          "name": "stdout",
          "text": [
            "True\n",
            "False\n",
            "False\n"
          ]
        }
      ]
    },
    {
      "cell_type": "markdown",
      "source": [
        "### Задание 3\n"
      ],
      "metadata": {
        "id": "AJlLLRaP2TVv"
      }
    },
    {
      "cell_type": "code",
      "source": [],
      "metadata": {
        "id": "qGoDji-V2XIi"
      },
      "execution_count": null,
      "outputs": []
    },
    {
      "cell_type": "code",
      "source": [
        "from datetime import datetime\n",
        "from datetime import timedelta\n",
        "\n",
        "def date_range(start_date, end_date):\n",
        "\n",
        "    try:\n",
        "        start_date = datetime.strptime(start_date,'%Y-%m-%d')\n",
        "        end_date = datetime.strptime(end_date,'%Y-%m-%d')\n",
        "    except:\n",
        "        return print()\n",
        "        if start_date > end_date:\n",
        "            print()\n",
        "        else:\n",
        "            between_dt = start_date\n",
        "            while between_dt <= end_date:\n",
        "                print(between_dt.strftime('%Y-%m-%d'))\n",
        "                between_dt += timedelta(days=1)\n",
        "    return\n",
        "\n",
        "date_range(input('Введите начальную дату: '), input('Введите конечную дату: '))"
      ],
      "metadata": {
        "colab": {
          "base_uri": "https://localhost:8080/"
        },
        "id": "nZet-sC5CG1_",
        "outputId": "010e5066-f501-4aa7-d648-bdcf7ef4a620"
      },
      "execution_count": null,
      "outputs": [
        {
          "output_type": "stream",
          "name": "stdout",
          "text": [
            "Введите начальную дату: 1\n",
            "Введите конечную дату: 2\n",
            "\n"
          ]
        }
      ]
    },
    {
      "cell_type": "markdown",
      "source": [
        "# Задание 4\n",
        "\n",
        "\n",
        "  - Что значит ошибка list index out of range?\n",
        "\n",
        "    индекс находится вне диапазона списка\n",
        "\n",
        "\n",
        "  -  Почему при первом запуске функция работает корректно, а при втором - нет?\n",
        "\n",
        "    при первом проходе индекс еще существует, а далее элемент удален\n",
        "    длина списка изменилась и нет элемента с индексом, к которому хотим обратиться\n"
      ],
      "metadata": {
        "id": "KsZN-SgjOivR"
      }
    }
  ]
}