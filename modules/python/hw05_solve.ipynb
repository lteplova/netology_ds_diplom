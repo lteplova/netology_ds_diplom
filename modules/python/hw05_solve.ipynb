{
  "nbformat": 4,
  "nbformat_minor": 0,
  "metadata": {
    "colab": {
      "provenance": []
    },
    "kernelspec": {
      "name": "python3",
      "display_name": "Python 3"
    },
    "language_info": {
      "name": "python"
    }
  },
  "cells": [
    {
      "cell_type": "markdown",
      "source": [
        "Домашнее задание\n",
        "\n",
        "    Переведите содержимое файла purchase_log.txt* в словарь purchases вида:\n",
        "    {‘1840e0b9d4’: ‘Продукты’, …}\n",
        "\n",
        "    Для каждого user_id в файле visit_log.csv определите третий столбец с категорией покупки, если покупка была, сам файл visit_log.csv* изменять не надо. Запишите в файл funnel.csv визиты из файла visit_log.csv*, в которых были покупки с указанием категории.\n",
        "    Учтите условия на данные:\n",
        "    содержимое purchase_log.txt* помещается в оперативную память компьютера;\n",
        "    содержимое visit_log.csv* — нет; используйте только построчную обработку этого файла.\n",
        "\n",
        "*Все файлы, необходимые для выполнения домашнего задания, находятся в разделе “Дополнительные материалы к домашнему заданию” (нужно скачать архив)."
      ],
      "metadata": {
        "id": "Qfi7Ef4Tr7Hv"
      }
    },
    {
      "cell_type": "markdown",
      "source": [
        "# Задание 1"
      ],
      "metadata": {
        "id": "o4K-FnZAgFgR"
      }
    },
    {
      "cell_type": "code",
      "execution_count": null,
      "metadata": {
        "id": "kcBwY-Z-f1lX",
        "colab": {
          "base_uri": "https://localhost:8080/"
        },
        "outputId": "f30334a1-ff38-4561-89d4-5acbf031a39d"
      },
      "outputs": [
        {
          "output_type": "stream",
          "name": "stdout",
          "text": [
            "{'user_id': 'user_id', 'category': 'category'}\n",
            "{'user_id': '1840e0b9d4', 'category': 'Продукты'}\n",
            "{'user_id': '4e4f90fcfb', 'category': 'Электроника'}\n",
            "{'user_id': 'afea8d72fc', 'category': 'Электроника'}\n",
            "{'user_id': '373a6055fe', 'category': 'Бытовая техника'}\n",
            "{'user_id': '9b2ab046f3', 'category': 'Электроника'}\n",
            "{'user_id': '9f39d307c3', 'category': 'Электроника'}\n",
            "{'user_id': '44edeffc91', 'category': 'Продукты'}\n",
            "{'user_id': '704474fa2d', 'category': 'Продукты'}\n",
            "{'user_id': '1de31be403', 'category': 'Бытовая техника'}\n",
            "{'user_id': 'b71f36a5e4', 'category': 'Продукты'}\n"
          ]
        }
      ],
      "source": [
        "import json\n",
        "\n",
        "i = 0\n",
        "with open ('purchase_log.txt', 'r') as f:\n",
        "   for line in f:\n",
        "       line = line.strip()\n",
        "       dict_ = json.loads(line)\n",
        "       print(dict_)\n",
        "\n",
        "       i += 1\n",
        "       if i > 10:\n",
        "        break\n"
      ]
    },
    {
      "cell_type": "markdown",
      "source": [
        "# Задание 2\n"
      ],
      "metadata": {
        "id": "1JHkwgSrs8Gy"
      }
    },
    {
      "cell_type": "code",
      "source": [
        "import json\n",
        "import csv\n",
        "\n",
        "purchase_dict = {} # {704474fa2d: Продукты, 9f39d307c3: Электроника}\n",
        "with open ('purchase_log.txt', 'r') as f:\n",
        "        for line_purchase in f:\n",
        "            line_purchase = line_purchase.strip() # удаление лишних символов\n",
        "            purchase = json.loads(line_purchase) # преобразование в словарь\n",
        "            purchase_dict[purchase['user_id']] = purchase['category'] #\n",
        "\n",
        "# Создаем файл на добавление строк\n",
        "with open ('/content/drive/MyDrive/data_colab/funnel.csv', 'a') as funnel:\n",
        "    list_writer = csv.writer(funnel) #  запись в funnel\n",
        "    list_writer.writerow(['user_id', 'source', 'category']) # Создаем заголовки столбцов\n",
        "\n",
        "    # Читаем файл с визитами\n",
        "    with open ('/content/drive/MyDrive/data_colab/visit_log.csv', 'r') as f:\n",
        "        # читаем файл построчно\n",
        "        for visit in f:\n",
        "            visit = csv.DictReader(f, fieldnames = ['user_id', 'source']) # Парсим строку как словарь\n",
        "\n",
        "            for row in visit:\n",
        "                row_id = row['user_id']\n",
        "                row_source = row['source']\n",
        "                if row_id in purchase_dict: # если id есть в покупках, то записываем в финальный файл с добалвением категории\n",
        "                    category_id = purchase_dict[row_id]\n",
        "\n",
        "                    append_line = [row_id, row_source, category_id] # создаем стороку значений для добавления в файл funnel.csv\n",
        "                    list_writer.writerow(append_line) # пишем строку в конец файла funnel.csv"
      ],
      "metadata": {
        "id": "V2IcPqkKix5X"
      },
      "execution_count": null,
      "outputs": []
    }
  ]
}