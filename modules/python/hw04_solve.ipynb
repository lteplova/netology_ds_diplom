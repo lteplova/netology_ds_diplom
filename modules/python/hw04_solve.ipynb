{
  "nbformat": 4,
  "nbformat_minor": 0,
  "metadata": {
    "colab": {
      "provenance": []
    },
    "kernelspec": {
      "name": "python3",
      "display_name": "Python 3"
    },
    "language_info": {
      "name": "python"
    }
  },
  "cells": [
    {
      "cell_type": "markdown",
      "source": [
        "### Задание 1"
      ],
      "metadata": {
        "id": "WS04vuxBy6ba"
      }
    },
    {
      "cell_type": "code",
      "source": [
        "directories = {\n",
        "              '1': ['2207 876234', '11-2'],\n",
        "              '2': ['10006'],\n",
        "              '3': []\n",
        "              }\n",
        "\n",
        "documents = [\n",
        "              {'type': 'passport', 'number': '2207 876234', 'name': 'Василий Гупкин'},\n",
        "              {'type': 'invoice', 'number': '11-2', 'name': 'Геннадий Покемонов'},\n",
        "              {'type': 'insurance', 'number': '10006', 'name': 'Аристарх Павлов'}\n",
        "              ]\n",
        "\n",
        "def doc(): #вывод владельца документа по его номеру (пункт 1)\n",
        "  out = 'Документ не найден в базе'\n",
        "  number = input('Введите номер документа: ')\n",
        "  number_norm = number.replace(' ', '').replace('-', '')\n",
        "  for el in documents:\n",
        "    number_doc = el['number'].replace(' ', '').replace('-', '')\n",
        "    if number_norm == number_doc:\n",
        "      out = el['name']\n",
        "  return out\n",
        "\n",
        "def directory(): # вывод полки по номеру документа (пункт 2)\n",
        "    number = input('Введите номер документа:')\n",
        "    res = 'Документ не найден в базе'\n",
        "    for i in directories:\n",
        "        if number in directories[i]:\n",
        "            res = 'Документ хранится на полке: ' + i\n",
        "    return res\n",
        "\n",
        "def info(): # инфо по полкам (пункт 3)\n",
        "    result = []\n",
        "    for shelf, content in directories.items():\n",
        "        for doc in documents:\n",
        "            if doc['number'] in content :\n",
        "                result.append(f\"№: {doc['number']}, тип: {doc['type']}, владелец: {doc['name']}, полка хранения: {shelf}\")\n",
        "    return result\n",
        "\n",
        "def add_shelf(): # добавление полки (пункт 4)\n",
        "  num_shelf = input('Введите номер полки: ')\n",
        "  out_int = []\n",
        "  if num_shelf in directories.keys():\n",
        "      print(f\"Такая полка уже существует. Текущий перечень полок: {' '.join(directories.keys())}\")\n",
        "  else:\n",
        "    directories.setdefault(num_shelf, [])\n",
        "    out_int = sorted(list(map(int, directories.keys())))\n",
        "    print(f\"Полка добавлена. Текущий перечень полок: {' '.join(directories.keys())}\")\n",
        "  return\n",
        "\n",
        "def remove_shelf():  # удаление полки (пункт 5)\n",
        "  num_shelf = input('Введите номер полки: ')\n",
        "  if num_shelf in list(directories.keys()):\n",
        "    if len(directories[num_shelf]) == 0:\n",
        "     print('Результат: ')\n",
        "     print('Полка удалена.')\n",
        "     directories.pop(num_shelf)\n",
        "    elif len(directories[num_shelf]):\n",
        "     print('Результат: ')\n",
        "     print('На полке есть документ, удалите их перед удалением полки.')\n",
        "  else:\n",
        "   print('Результат: ')\n",
        "   print('Такой полки не существует.')\n",
        "  out = list(directories.keys())\n",
        "  return out\n",
        "\n",
        "def commands_to_manage():\n",
        "    command = input('\\nВведите команду: ')\n",
        "    while command != 'q':\n",
        "        if command == 'p':\n",
        "            print(doc())\n",
        "            command = input('\\nВведите команду: ')\n",
        "        elif command == 's':\n",
        "            print(directory())\n",
        "            command = input('\\nВведите команду: ')\n",
        "        elif command == 'l':\n",
        "            result = info()\n",
        "            for i in result:\n",
        "                print(i)\n",
        "            command = input('\\nВведите команду: ')\n",
        "        elif command == 'ads':\n",
        "            result = add_shelf()\n",
        "            command = input('\\nВведите команду: ')\n",
        "        elif command == 'ds':\n",
        "            print('Текущий перечень полок:', ', '.join(remove_shelf()))\n",
        "            command = input('\\nВведите команду: ')\n",
        "        else:\n",
        "            print('\\nНеверная команда')\n",
        "            command = input('\\nВведите команду: ')\n",
        "    return command\n",
        "\n",
        "commands_to_manage()"
      ],
      "metadata": {
        "colab": {
          "base_uri": "https://localhost:8080/",
          "height": 238
        },
        "id": "h652VqnOy-DH",
        "outputId": "b7121f88-067a-4027-e360-0a1a44ab388e"
      },
      "execution_count": null,
      "outputs": [
        {
          "name": "stdout",
          "output_type": "stream",
          "text": [
            "\n",
            "Введите команду: l\n",
            "№: 2207 876234, тип: passport, владелец: Василий Гупкин, полка хранения: 1\n",
            "№: 11-2, тип: invoice, владелец: Геннадий Покемонов, полка хранения: 1\n",
            "№: 10006, тип: insurance, владелец: Аристарх Павлов, полка хранения: 2\n",
            "\n",
            "Введите команду: s\n",
            "Введите номер документа:11-2\n",
            "Документ хранится на полке: 1\n",
            "\n",
            "Введите команду: q\n"
          ]
        },
        {
          "output_type": "execute_result",
          "data": {
            "text/plain": [
              "'q'"
            ],
            "application/vnd.google.colaboratory.intrinsic+json": {
              "type": "string"
            }
          },
          "metadata": {},
          "execution_count": 25
        }
      ]
    }
  ]
}