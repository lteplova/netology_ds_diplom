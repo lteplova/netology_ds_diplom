{
  "nbformat": 4,
  "nbformat_minor": 0,
  "metadata": {
    "colab": {
      "provenance": []
    },
    "kernelspec": {
      "name": "python3",
      "display_name": "Python 3"
    },
    "language_info": {
      "name": "python"
    }
  },
  "cells": [
    {
      "cell_type": "markdown",
      "source": [
        "Домашнее задание\n",
        "\n",
        "Задание 1\n",
        "Напишите функцию, которая возвращает название валюты (поле ‘Name’) с максимальным значением курса с помощью сервиса www.cbr-xml-daily.ru...ly_json.js\n",
        "\n",
        "Задание 2\n",
        "Добавьте в класс Rate параметр diff (со значениями True или False), который в случае значения True в методах курсов валют (eur, usd итд) будет возвращать не курс валюты, а изменение по сравнению в прошлым значением. Считайте, self.diff будет принимать значение True только при возврате значения курса. При отображении всей информации о валюте он не используется.\n",
        "\n",
        "Задание 3\n",
        "Напишите класс Designer, который учитывает количество международных премий. Подсказки в коде занятия (“Ноутбук к лекциям «Понятие класса» + презентация”, zip-файл “Используемый ноутбук к лекциям «Понятие класса»).\n",
        "\n",
        "Комментарий по классу Designer такой:\n",
        "Напишите класс Designer, который учитывает количество международных премий для дизайнеров (из презентации: “Повышение на 1 грейд за каждые 7 баллов. Получение международной премии – это +2 балла”). Считайте, что при выходе на работу сотрудник уже имеет две премии и их количество не меняется со стажем (конечно если хотите это можно вручную менять).\n",
        "\n",
        "Класс Designer пишется по аналогии с классом Developer из материалов занятия."
      ],
      "metadata": {
        "id": "UQhbmxONsogG"
      }
    },
    {
      "cell_type": "markdown",
      "source": [
        "#  Задание 1\n",
        "Напишите функцию, которая возвращает название валюты (поле ‘Name’) с максимальным значением курса с помощью сервисаhttps://www.cbr-xml-daily.ru/\n",
        "daily_json.js"
      ],
      "metadata": {
        "id": "BxyO-L1jW1H5"
      }
    },
    {
      "cell_type": "markdown",
      "source": [
        "# Задание 1"
      ],
      "metadata": {
        "id": "AK5B1Vs9LCnP"
      }
    },
    {
      "cell_type": "code",
      "execution_count": null,
      "metadata": {
        "colab": {
          "base_uri": "https://localhost:8080/"
        },
        "id": "Sbbj9LYbWuZN",
        "outputId": "434ed688-bdc2-412d-d854-5aad79ac9661"
      },
      "outputs": [
        {
          "output_type": "execute_result",
          "data": {
            "text/plain": [
              "('СДР (специальные права заимствования)', 118.9006)"
            ]
          },
          "metadata": {},
          "execution_count": 1
        }
      ],
      "source": [
        "import requests\n",
        "\n",
        "def max_rate(url):\n",
        "\n",
        "    rates = {}\n",
        "    full_data = requests.get(url).json()\n",
        "    for k, v in full_data['Valute'].items():\n",
        "        rates[v['Name']] = v['Value']\n",
        "    max_key = max(rates, key=rates.get)\n",
        "\n",
        "    return max_key, rates[max_key]\n",
        "\n",
        "max_rate('https://www.cbr-xml-daily.ru/daily_json.js')\n",
        ""
      ]
    },
    {
      "cell_type": "markdown",
      "source": [
        "№ Задание 2"
      ],
      "metadata": {
        "id": "NI03E3ltLF-M"
      }
    },
    {
      "cell_type": "code",
      "source": [
        "import requests\n",
        "\n",
        "class Rate:\n",
        "    def __init__(self, format_='value', diff_ = True):\n",
        "        self.format = format_\n",
        "        self.diff = diff_\n",
        "\n",
        "    def exchange_rates(self):\n",
        "        \"\"\"\n",
        "        Возвращает ответ сервиса с информацией о валютах в виде:\n",
        "\n",
        "        {\n",
        "            'AMD': {\n",
        "                'CharCode': 'AMD',\n",
        "                'ID': 'R01060',\n",
        "                'Name': 'Армянских драмов',\n",
        "                'Nominal': 100,\n",
        "                'NumCode': '051',\n",
        "                'Previous': 14.103,\n",
        "                'Value': 14.0879\n",
        "                },\n",
        "            ...\n",
        "        }\n",
        "        \"\"\"\n",
        "        self.r = requests.get('https://www.cbr-xml-daily.ru/daily_json.js')\n",
        "        return self.r.json()['Valute']\n",
        "\n",
        "    def make_format(self, currency):\n",
        "        \"\"\"\n",
        "        Возвращает информацию о валюте currency в двух вариантах:\n",
        "        - полная информация о валюте при self.format = 'full':\n",
        "        Rate('full').make_format('EUR')\n",
        "        {\n",
        "            'CharCode': 'EUR',\n",
        "            'ID': 'R01239',\n",
        "            'Name': 'Евро',\n",
        "            'Nominal': 1,\n",
        "            'NumCode': '978',\n",
        "            'Previous': 79.6765,\n",
        "            'Value': 79.4966\n",
        "        }\n",
        "\n",
        "        Rate('value').make_format('EUR')\n",
        "        79.4966\n",
        "        \"\"\"\n",
        "        response = self.exchange_rates()\n",
        "\n",
        "        if currency in response:\n",
        "            if self.format == 'full' and self.diff == False:\n",
        "                return response[currency]\n",
        "            elif self.format == 'full' and self.diff == True:\n",
        "                return response[currency]['Value'] - response[currency]['Previous']\n",
        "\n",
        "            if self.format == 'value' and self.diff == False:\n",
        "                return response[currency]['Value']\n",
        "            elif self.format == 'full' and self.diff == True:\n",
        "                return response[currency]['Value'] - response[currency]['Previous']\n",
        "\n",
        "        return 'Error'\n",
        "\n",
        "\n",
        "    def eur(self):\n",
        "        \"\"\"Возвращает курс евро на сегодня в формате self.format\"\"\"\n",
        "        return self.make_format('EUR')\n",
        "\n",
        "    def usd(self):\n",
        "        \"\"\"Возвращает курс доллара на сегодня в формате self.format\"\"\"\n",
        "        return self.make_format('USD')\n",
        "\n",
        "    def brl(self):\n",
        "        \"\"\"Возвращает курс бразильского реала на сегодня в формате self.format\"\"\"\n",
        "        return self.make_format('BRL')"
      ],
      "metadata": {
        "id": "p-O1wB1ofSPJ"
      },
      "execution_count": null,
      "outputs": []
    },
    {
      "cell_type": "code",
      "source": [
        "r = Rate(format_='full', diff_= True)\n",
        "\n"
      ],
      "metadata": {
        "id": "-IOFHM6nf3g7"
      },
      "execution_count": null,
      "outputs": []
    },
    {
      "cell_type": "code",
      "source": [
        "r.eur()"
      ],
      "metadata": {
        "colab": {
          "base_uri": "https://localhost:8080/"
        },
        "id": "ZEHObm1dhpSM",
        "outputId": "81161723-3ef2-4887-f407-010a4fe52be0"
      },
      "execution_count": null,
      "outputs": [
        {
          "output_type": "execute_result",
          "data": {
            "text/plain": [
              "-6.662900000000008"
            ]
          },
          "metadata": {},
          "execution_count": 50
        }
      ]
    },
    {
      "cell_type": "code",
      "source": [
        "r.usd()"
      ],
      "metadata": {
        "colab": {
          "base_uri": "https://localhost:8080/"
        },
        "id": "xCTAG46Pnv-H",
        "outputId": "c2d8f19e-5d7d-4712-f071-d6aec5912170"
      },
      "execution_count": null,
      "outputs": [
        {
          "output_type": "execute_result",
          "data": {
            "text/plain": [
              "-7.428200000000004"
            ]
          },
          "metadata": {},
          "execution_count": 49
        }
      ]
    },
    {
      "cell_type": "markdown",
      "source": [
        "# Задание 3\n",
        "\n"
      ],
      "metadata": {
        "id": "ehL_6ElfLKVs"
      }
    },
    {
      "cell_type": "code",
      "source": [],
      "metadata": {
        "id": "TF4_W5uQLO80"
      },
      "execution_count": null,
      "outputs": []
    },
    {
      "cell_type": "code",
      "source": [
        "class Employee:\n",
        "    def __init__(self, name, seniority):\n",
        "        self.name = name\n",
        "        self.seniority = seniority\n",
        "\n",
        "        self.grade = 1\n",
        "\n",
        "    def grade_up(self):\n",
        "        \"\"\"Повышает уровень сотрудника\"\"\"\n",
        "        self.grade += 1\n",
        "\n",
        "    def publish_grade(self):\n",
        "        \"\"\"Публикация результатов аккредитации сотрудников\"\"\"\n",
        "        print(self.name, self.grade)\n",
        "\n",
        "    def check_if_it_is_time_for_upgrade(self):\n",
        "        pass"
      ],
      "metadata": {
        "id": "OpBJYavFi58_"
      },
      "execution_count": null,
      "outputs": []
    },
    {
      "cell_type": "code",
      "source": [
        "class Designer(Employee):\n",
        "    def __init__(self, name, seniority = 1, award = 2):\n",
        "        super().__init__(name, seniority)\n",
        "        self.award = award\n",
        "\n",
        "        # добавим два очка за каждую премию\n",
        "        self.seniority = self.seniority + 2 * self.award\n",
        "\n",
        "    def check_if_it_is_time_for_upgrade(self):\n",
        "\n",
        "        self.seniority += 1\n",
        "        # print(self.award, self.seniority)\n",
        "\n",
        "        # условие повышения сотрудника из презентации\n",
        "        if self.seniority % 7 == 0:\n",
        "            self.grade_up()\n",
        "\n",
        "        return self.publish_grade()"
      ],
      "metadata": {
        "id": "6kihwpYdjCWY"
      },
      "execution_count": null,
      "outputs": []
    },
    {
      "cell_type": "code",
      "source": [
        "mike = Designer('Михаил', 0, 2)"
      ],
      "metadata": {
        "id": "yq_6bK3wyg3N"
      },
      "execution_count": null,
      "outputs": []
    },
    {
      "cell_type": "code",
      "source": [
        "mike.check_if_it_is_time_for_upgrade()"
      ],
      "metadata": {
        "colab": {
          "base_uri": "https://localhost:8080/"
        },
        "id": "DOpkySpGys4a",
        "outputId": "900ec64a-661a-421a-e305-16d26646cdbd"
      },
      "execution_count": null,
      "outputs": [
        {
          "output_type": "stream",
          "name": "stdout",
          "text": [
            "Михаил 1\n"
          ]
        }
      ]
    },
    {
      "cell_type": "code",
      "source": [
        "for i in range(20):\n",
        "    mike.check_if_it_is_time_for_upgrade()"
      ],
      "metadata": {
        "colab": {
          "base_uri": "https://localhost:8080/"
        },
        "id": "A7ru9E3O_ZAc",
        "outputId": "4d16962f-f0b8-4b21-fe0d-0d0fc6cd8cca"
      },
      "execution_count": null,
      "outputs": [
        {
          "output_type": "stream",
          "name": "stdout",
          "text": [
            "2 5\n",
            "Михаил 1\n",
            "2 6\n",
            "Михаил 1\n",
            "2 7\n",
            "Михаил 2\n",
            "2 8\n",
            "Михаил 2\n",
            "2 9\n",
            "Михаил 2\n",
            "2 10\n",
            "Михаил 2\n",
            "2 11\n",
            "Михаил 2\n",
            "2 12\n",
            "Михаил 2\n",
            "2 13\n",
            "Михаил 2\n",
            "2 14\n",
            "Михаил 3\n",
            "2 15\n",
            "Михаил 3\n",
            "2 16\n",
            "Михаил 3\n",
            "2 17\n",
            "Михаил 3\n",
            "2 18\n",
            "Михаил 3\n",
            "2 19\n",
            "Михаил 3\n",
            "2 20\n",
            "Михаил 3\n",
            "2 21\n",
            "Михаил 4\n",
            "2 22\n",
            "Михаил 4\n",
            "2 23\n",
            "Михаил 4\n",
            "2 24\n",
            "Михаил 4\n"
          ]
        }
      ]
    }
  ]
}