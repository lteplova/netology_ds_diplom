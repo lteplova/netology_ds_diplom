{
  "nbformat": 4,
  "nbformat_minor": 0,
  "metadata": {
    "colab": {
      "provenance": []
    },
    "kernelspec": {
      "name": "python3",
      "display_name": "Python 3"
    },
    "language_info": {
      "name": "python"
    }
  },
  "cells": [
    {
      "cell_type": "markdown",
      "source": [
        "# Задание 1"
      ],
      "metadata": {
        "id": "W8rsTxNDTgbv"
      }
    },
    {
      "cell_type": "code",
      "source": [
        "ids = {'user1': [213, 213, 213, 15, 213],\n",
        "       'user2': [54, 54, 119, 119, 119],\n",
        "       'user3': [213, 98, 98, 35]}\n",
        "# res = []\n",
        "# for el in ids.values():\n",
        "#   res += el\n",
        "# res = set(res)\n",
        "print('Результат:')\n",
        "print(set(sum(ids.values(), [])))\n",
        "# print(res)"
      ],
      "metadata": {
        "colab": {
          "base_uri": "https://localhost:8080/"
        },
        "id": "PlBv2WWbTklj",
        "outputId": "fbccdf14-a784-4cca-9e9a-c31bf3733ab3"
      },
      "execution_count": null,
      "outputs": [
        {
          "output_type": "stream",
          "name": "stdout",
          "text": [
            "Результат:\n",
            "{98, 35, 15, 213, 54, 119}\n"
          ]
        }
      ]
    },
    {
      "cell_type": "markdown",
      "source": [
        "### Задание 2"
      ],
      "metadata": {
        "id": "DDAeje_5V7E1"
      }
    },
    {
      "cell_type": "code",
      "source": [
        "queries = [\n",
        "          'смотреть сериалы онлайн',\n",
        "          'новости спорта',\n",
        "          'афиша кино',\n",
        "          'курс доллара',\n",
        "          'сериалы этим летом',\n",
        "          'курс по питону',\n",
        "          'сериалы про спорт'\n",
        "           ]\n",
        "amount = {}\n",
        "res = {}\n",
        "count = []\n",
        "for el in queries:\n",
        "  amount[el] = count.append(len(el.split()))\n",
        "for el in count:\n",
        " res[el] = count.count(el)\n",
        " s = sum(res.values())\n",
        "print('Результат:')\n",
        "for el in sorted(res):\n",
        "  print(f'Поисковых запросов, содержащих {el} слов(а): {(res[el] * 100 / s): .2f}%')\n",
        "\n",
        "\n",
        "# result = {}\n",
        "# for query in queries:\n",
        "# \tsplitted_query_len = len(query.split())\n",
        "# \tresult.setdefault(splitted_query_len, 0)\n",
        "# \tresult[splitted_query_len] += 1\n",
        "\n",
        "# for key, value in result.items():\n",
        "# \tprint(f'Поисковых запросов, содержащих {key} слов(а): {round(100.0*value/len(queries), 2)}%')"
      ],
      "metadata": {
        "colab": {
          "base_uri": "https://localhost:8080/"
        },
        "id": "IIYcLxVVV-ze",
        "outputId": "c741b0b2-d2be-46a8-d72a-202fd2a159d6"
      },
      "execution_count": null,
      "outputs": [
        {
          "output_type": "stream",
          "name": "stdout",
          "text": [
            "Результат:\n",
            "Поисковых запросов, содержащих 2 слов(а):  42.86%\n",
            "Поисковых запросов, содержащих 3 слов(а):  57.14%\n"
          ]
        }
      ]
    },
    {
      "cell_type": "markdown",
      "source": [
        "### Задание 3"
      ],
      "metadata": {
        "id": "QOlYFF-M58gV"
      }
    },
    {
      "cell_type": "code",
      "source": [
        "\n",
        "results = {\n",
        "          'vk': {'revenue': 103, 'cost': 98},\n",
        "          'yandex': {'revenue': 179, 'cost': 153},\n",
        "          'facebook': {'revenue': 103, 'cost': 110},\n",
        "          'adwords': {'revenue': 35, 'cost': 34},\n",
        "          'twitter': {'revenue': 11, 'cost': 24},\n",
        "          }\n",
        "print('Результат:')\n",
        "for el in results:\n",
        "  results[el].setdefault('ROI', format((results[el]['revenue'] / results[el]['cost'] - 1) * 100, '.2f'))\n",
        "for i in sorted(results.items()): print(i)\n"
      ],
      "metadata": {
        "colab": {
          "base_uri": "https://localhost:8080/"
        },
        "id": "s-Y8oZIP6BnD",
        "outputId": "edd3401c-0347-40a2-9750-d8ec97eb8897"
      },
      "execution_count": null,
      "outputs": [
        {
          "output_type": "stream",
          "name": "stdout",
          "text": [
            "Результат:\n",
            "('adwords', {'revenue': 35, 'cost': 34, 'ROI': '2.94'})\n",
            "('facebook', {'revenue': 103, 'cost': 110, 'ROI': '-6.36'})\n",
            "('twitter', {'revenue': 11, 'cost': 24, 'ROI': '-54.17'})\n",
            "('vk', {'revenue': 103, 'cost': 98, 'ROI': '5.10'})\n",
            "('yandex', {'revenue': 179, 'cost': 153, 'ROI': '16.99'})\n"
          ]
        }
      ]
    },
    {
      "cell_type": "markdown",
      "source": [],
      "metadata": {
        "id": "nAP2q12EuwUX"
      }
    },
    {
      "cell_type": "markdown",
      "source": [],
      "metadata": {
        "id": "TYDfUmAETjfQ"
      }
    },
    {
      "cell_type": "markdown",
      "source": [
        "### Задание 4"
      ],
      "metadata": {
        "id": "6pTIRG1Jv_hk"
      }
    },
    {
      "cell_type": "code",
      "source": [
        "stats = {\n",
        "        'facebook': 55,\n",
        "        'yandex': 115,\n",
        "        'vk': 120,\n",
        "        'google': 99,\n",
        "        'email': 42,\n",
        "        'ok': 98\n",
        "        }\n",
        "print(f'Результат: Максимальный объем продаж на рекламном канале: {list(dict(sorted(stats.items(), key=lambda kv:kv[1])).keys())[-1]}')\n"
      ],
      "metadata": {
        "colab": {
          "base_uri": "https://localhost:8080/"
        },
        "id": "tyH_I80twCqZ",
        "outputId": "0cd014a8-c119-4393-d73b-46e9ac07d5fc"
      },
      "execution_count": null,
      "outputs": [
        {
          "output_type": "stream",
          "name": "stdout",
          "text": [
            "Результат: Максимальный объем продаж на рекламном канале: vk\n"
          ]
        }
      ]
    },
    {
      "cell_type": "code",
      "source": [
        "stats = {\n",
        "        'facebook': 55,\n",
        "        'yandex': 115,\n",
        "        'vk': 120,\n",
        "        'google': 99,\n",
        "        'email': 42,\n",
        "        'ok': 98\n",
        "        }\n"
      ],
      "metadata": {
        "colab": {
          "base_uri": "https://localhost:8080/",
          "height": 228
        },
        "id": "djqhycfCuy1E",
        "outputId": "699005bc-85fa-4936-9107-2e097ef243ba"
      },
      "execution_count": null,
      "outputs": [
        {
          "output_type": "error",
          "ename": "ValueError",
          "evalue": "ignored",
          "traceback": [
            "\u001b[0;31m---------------------------------------------------------------------------\u001b[0m",
            "\u001b[0;31mValueError\u001b[0m                                Traceback (most recent call last)",
            "\u001b[0;32m<ipython-input-3-d5968cd398cd>\u001b[0m in \u001b[0;36m<module>\u001b[0;34m()\u001b[0m\n\u001b[1;32m      8\u001b[0m         }\n\u001b[1;32m      9\u001b[0m \u001b[0;34m\u001b[0m\u001b[0m\n\u001b[0;32m---> 10\u001b[0;31m \u001b[0;32mfor\u001b[0m \u001b[0mk\u001b[0m\u001b[0;34m,\u001b[0m \u001b[0mv\u001b[0m \u001b[0;32min\u001b[0m \u001b[0mstats\u001b[0m\u001b[0;34m:\u001b[0m\u001b[0;34m\u001b[0m\u001b[0;34m\u001b[0m\u001b[0m\n\u001b[0m\u001b[1;32m     11\u001b[0m     \u001b[0mprint\u001b[0m \u001b[0;34m(\u001b[0m\u001b[0mk\u001b[0m\u001b[0;34m)\u001b[0m\u001b[0;34m\u001b[0m\u001b[0;34m\u001b[0m\u001b[0m\n",
            "\u001b[0;31mValueError\u001b[0m: too many values to unpack (expected 2)"
          ]
        }
      ]
    },
    {
      "cell_type": "markdown",
      "source": [
        "### Задание 5"
      ],
      "metadata": {
        "id": "6qrVsPsCxxfw"
      }
    },
    {
      "cell_type": "code",
      "source": [
        "my_l = ['a', 'b', 'c', 'd', 'e', 'f']\n",
        "res = my_l[-1]\n",
        "my_l = reversed(my_l[:-1])\n",
        "for i in my_l:\n",
        " res = {i: res}\n",
        "print(res)"
      ],
      "metadata": {
        "colab": {
          "base_uri": "https://localhost:8080/"
        },
        "id": "iua2S0Ju1jPs",
        "outputId": "8d6e8168-7f52-4cbf-b05d-a627a179fdbe"
      },
      "execution_count": null,
      "outputs": [
        {
          "output_type": "stream",
          "name": "stdout",
          "text": [
            "{'a': {'b': {'c': {'d': {'e': 'f'}}}}}\n"
          ]
        }
      ]
    },
    {
      "cell_type": "code",
      "source": [
        "my_l = ['2018-01-01', 'yandex', 'cpc', 100]\n",
        "res = my_l[-1]\n",
        "my_l = reversed(my_l[:-1])\n",
        "for i in my_l:\n",
        " res = {i: res}\n",
        "print(res)"
      ],
      "metadata": {
        "colab": {
          "base_uri": "https://localhost:8080/"
        },
        "id": "b8HcJI1EofYk",
        "outputId": "2f455495-cd2a-4430-aafc-1dc8528b0787"
      },
      "execution_count": null,
      "outputs": [
        {
          "output_type": "stream",
          "name": "stdout",
          "text": [
            "{'2018-01-01': {'yandex': {'cpc': 100}}}\n"
          ]
        }
      ]
    },
    {
      "cell_type": "markdown",
      "source": [
        "### Задание 6"
      ],
      "metadata": {
        "id": "OCCJrIm60olq"
      }
    },
    {
      "cell_type": "code",
      "source": [
        "amount = int(input('Введите количество порций: '))\n",
        "cook_book = {\n",
        "'салат': [\n",
        "{'ingridient_name': 'сыр', 'quantity': 50, 'measure': 'гр'},\n",
        "{'ingridient_name': 'томаты', 'quantity': 2, 'measure': 'шт'},\n",
        "{'ingridient_name': 'огурцы', 'quantity': 20, 'measure': 'гр'},\n",
        "{'ingridient_name': 'маслины', 'quantity': 10, 'measure': 'гр'},\n",
        "{'ingridient_name': 'оливковое масло', 'quantity': 20, 'measure': 'мл'},\n",
        "{'ingridient_name': 'салат', 'quantity': 10, 'measure': 'гр'},\n",
        "{'ingridient_name': 'перец', 'quantity': 20, 'measure': 'гр'}\n",
        "],\n",
        "'пицца': [\n",
        "{'ingridient_name': 'сыр', 'quantity': 20, 'measure': 'гр'},\n",
        "{'ingridient_name': 'колбаса', 'quantity': 30, 'measure': 'гр'},\n",
        "{'ingridient_name': 'бекон', 'quantity': 30, 'measure': 'гр'},\n",
        "{'ingridient_name': 'оливки', 'quantity': 10, 'measure': 'гр'},\n",
        "{'ingridient_name': 'томаты', 'quantity': 20, 'measure': 'гр'},\n",
        "{'ingridient_name': 'тесто', 'quantity': 100, 'measure': 'гр'},\n",
        "],\n",
        "'лимонад': [\n",
        "{'ingridient_name': 'лимон', 'quantity': 1, 'measure': 'шт'},\n",
        "{'ingridient_name': 'вода', 'quantity': 200, 'measure': 'мл'},\n",
        "{'ingridient_name': 'сахар', 'quantity': 10, 'measure': 'гр'},\n",
        "{'ingridient_name': 'лайм', 'quantity': 20, 'measure': 'гр'},\n",
        "]\n",
        "}\n",
        "\n",
        "res1 = {}\n",
        "res2 = {}\n",
        "res3 = {}\n",
        "for el in cook_book:\n",
        "    for ingridient in cook_book[el]:\n",
        "      if ingridient['measure'] == 'гр':\n",
        "        if ingridient['ingridient_name'] in res1:\n",
        "          res1[ingridient['ingridient_name']] += ingridient['quantity']\n",
        "        else:\n",
        "         res1[ingridient['ingridient_name']] = ingridient['quantity']\n",
        "      elif ingridient['measure'] == 'шт':\n",
        "            if ingridient['ingridient_name'] in res2:\n",
        "              res2[ingridient['ingridient_name']] += ingridient['quantity']\n",
        "            else:\n",
        "              res2[ingridient['ingridient_name']] = ingridient['quantity']\n",
        "      elif ingridient['measure'] == 'мл':\n",
        "         if ingridient['ingridient_name'] in res3:\n",
        "              res3[ingridient['ingridient_name']] += ingridient['quantity']\n",
        "         else:\n",
        "          res3[ingridient['ingridient_name']] = ingridient['quantity']\n",
        "\n",
        "print('Результат:\\n')\n",
        "for key, val in res1.items():\n",
        "  print(f'{key.capitalize()}: {val * amount} гр')\n",
        "for key, val in res2.items():\n",
        "  print(f'{key.capitalize()}: {int(val) * amount} шт')\n",
        "for key, val in res3.items():\n",
        "  print(f'{key.capitalize()}: {int(val) * amount} мл')"
      ],
      "metadata": {
        "colab": {
          "base_uri": "https://localhost:8080/"
        },
        "id": "GoVRBaaZ0sbo",
        "outputId": "dbea7214-a13c-4410-dd7d-21061d5fbae2"
      },
      "execution_count": null,
      "outputs": [
        {
          "output_type": "stream",
          "name": "stdout",
          "text": [
            "Введите количество порций: 3\n",
            "Результат:\n",
            "\n",
            "Сыр: 210 гр\n",
            "Огурцы: 60 гр\n",
            "Маслины: 30 гр\n",
            "Салат: 30 гр\n",
            "Перец: 60 гр\n",
            "Колбаса: 90 гр\n",
            "Бекон: 90 гр\n",
            "Оливки: 30 гр\n",
            "Томаты: 60 гр\n",
            "Тесто: 300 гр\n",
            "Сахар: 30 гр\n",
            "Лайм: 60 гр\n",
            "Томаты: 6 шт\n",
            "Лимон: 3 шт\n",
            "Оливковое масло: 60 мл\n",
            "Вода: 600 мл\n"
          ]
        }
      ]
    }
  ]
}