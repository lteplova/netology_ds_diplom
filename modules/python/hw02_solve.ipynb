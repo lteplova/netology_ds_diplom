{
  "nbformat": 4,
  "nbformat_minor": 0,
  "metadata": {
    "colab": {
      "provenance": []
    },
    "kernelspec": {
      "name": "python3",
      "display_name": "Python 3"
    },
    "language_info": {
      "name": "python"
    }
  },
  "cells": [
    {
      "cell_type": "markdown",
      "source": [
        "### Задание 1"
      ],
      "metadata": {
        "id": "3crrjUpj1lup"
      }
    },
    {
      "cell_type": "code",
      "execution_count": null,
      "metadata": {
        "colab": {
          "base_uri": "https://localhost:8080/"
        },
        "id": "000glQiZmaJQ",
        "outputId": "a06d1ed5-d455-4df6-f565-55c3bfe1ca33"
      },
      "outputs": [
        {
          "output_type": "stream",
          "name": "stdout",
          "text": [
            "Введи слово:\n",
            "ntcn\n",
            "Результат:\n",
            "tc\n"
          ]
        }
      ],
      "source": [
        "word = input('Введи слово:\\n')\n",
        "num = int(len(word) / 2)\n",
        "if len(word) % 2 == 0:\n",
        "  print('Результат:')\n",
        "  print(word[num-1:num+1])\n",
        "else:\n",
        "  print('Результат:')\n",
        "  print(word[num])\n"
      ]
    },
    {
      "cell_type": "code",
      "source": [
        "word = input('Введи слово:\\n')\n",
        "print(word[int(len(word)/2-1):int(len(word)/2+1)] if len(word)%2==0 else word[len(word)//2])"
      ],
      "metadata": {
        "colab": {
          "base_uri": "https://localhost:8080/"
        },
        "id": "w8qjAafumsk9",
        "outputId": "496ea795-e5d3-4a85-dad7-fe92bbd5d757"
      },
      "execution_count": null,
      "outputs": [
        {
          "output_type": "stream",
          "name": "stdout",
          "text": [
            "Введи слово:\n",
            "ntcn\n",
            "tc\n"
          ]
        }
      ]
    },
    {
      "cell_type": "markdown",
      "source": [
        "### Задание 2\n"
      ],
      "metadata": {
        "id": "uYdNGaIu8OG3"
      }
    },
    {
      "cell_type": "code",
      "source": [
        "res = 0\n",
        "number = int(input('Введите число:\\n'))\n",
        "if number != 0:\n",
        "  while number !=0:\n",
        "    res = res + number\n",
        "    number = int(input('Введите число:\\n'))\n",
        "  else:\n",
        "    print('Результат:')\n",
        "    print(res)\n",
        "else:\n",
        "  print('Результат:')\n",
        "  print(number)"
      ],
      "metadata": {
        "colab": {
          "base_uri": "https://localhost:8080/"
        },
        "id": "nMtTJsCrAa-g",
        "outputId": "aa9adaec-56e0-4acf-bb9c-e9d48c6b1927"
      },
      "execution_count": null,
      "outputs": [
        {
          "output_type": "stream",
          "name": "stdout",
          "text": [
            "Введите число:\n",
            "666\n",
            "Введите число:\n",
            "777\n",
            "Введите число:\n",
            "0\n",
            "Результат:\n",
            "1443\n"
          ]
        }
      ]
    },
    {
      "cell_type": "code",
      "source": [
        "number = int(input('Введите число '))\n",
        "sum_ = 0\n",
        "while number:\n",
        "   sum_ += number\n",
        "   number = int(input('Введите число '))\n",
        "print(sum_)\n"
      ],
      "metadata": {
        "colab": {
          "base_uri": "https://localhost:8080/"
        },
        "id": "Gu-rliJxm4ar",
        "outputId": "b4830036-a7d9-4e66-b6ec-d025d467c0b0"
      },
      "execution_count": null,
      "outputs": [
        {
          "output_type": "stream",
          "name": "stdout",
          "text": [
            "Введите число 1\n",
            "Введите число 5\n",
            "Введите число 4\n",
            "Введите число 0\n",
            "10\n"
          ]
        }
      ]
    },
    {
      "cell_type": "markdown",
      "source": [
        "#### Задание 3"
      ],
      "metadata": {
        "id": "on4LeeHAEM34"
      }
    },
    {
      "cell_type": "code",
      "source": [
        "boys = ['Peter', 'Alex', 'John', 'Arthur', 'Richar']\n",
        "girls = ['Kate', 'Liza', 'Kira', 'Emma', 'Trisha']\n",
        "if (len(boys)) == (len(girls)):\n",
        " print('Результат:\\nИдеальные пары:')\n",
        " for g, b in list(zip(sorted(boys), sorted(girls))):\n",
        "  print(f'{g} и {b}')\n",
        "else:\n",
        " print('Результат:\\nВнимание, кто-то может остаться без пары!')"
      ],
      "metadata": {
        "colab": {
          "base_uri": "https://localhost:8080/"
        },
        "id": "D-tcZETiEQdR",
        "outputId": "25393a9b-fe33-4da2-99cb-d5caa8cb8def"
      },
      "execution_count": null,
      "outputs": [
        {
          "output_type": "stream",
          "name": "stdout",
          "text": [
            "Результат:\n",
            "Идеальные пары:\n",
            "Alex и Emma\n",
            "Arthur и Kate\n",
            "John и Kira\n",
            "Peter и Liza\n",
            "Richar и Trisha\n"
          ]
        }
      ]
    },
    {
      "cell_type": "markdown",
      "source": [
        "#### Задание 4"
      ],
      "metadata": {
        "id": "WwAuUEpHI_8M"
      }
    },
    {
      "cell_type": "code",
      "source": [
        "countries_temperature = [\n",
        "                      ['Thailand', [75.2, 77, 78.8, 73.4, 68, 75.2, 77]],\n",
        "                      ['Germany', [57.2, 55.4, 59, 59, 53.6]],\n",
        "                      ['Russia', [35.6, 37.4, 39.2, 41, 42.8, 39.2, 35.6]],\n",
        "                      ['Poland', [50, 50, 53.6, 57.2, 55.4, 55.4]]\n",
        "  ]\n",
        "print('Результат:\\n\\nСредняя температура в странах:')\n",
        "for country, temp in countries_temperature:\n",
        " print(f'{country} -  {(((sum(temp) / len(temp)) - 32) / 1.8) :.1f} C')"
      ],
      "metadata": {
        "colab": {
          "base_uri": "https://localhost:8080/"
        },
        "id": "YQerzNKwJCL6",
        "outputId": "b354e127-1981-416f-c32a-22a30d3aeb48"
      },
      "execution_count": null,
      "outputs": [
        {
          "output_type": "stream",
          "name": "stdout",
          "text": [
            "Результат:\n",
            "\n",
            "Средняя температура в странах:\n",
            "Thailand -  23.9 C\n",
            "Germany -  13.8 C\n",
            "Russia -  3.7 C\n",
            "Poland -  12.0 C\n"
          ]
        }
      ]
    },
    {
      "cell_type": "markdown",
      "source": [
        "### Задание 5"
      ],
      "metadata": {
        "id": "pork28CGDCDd"
      }
    },
    {
      "cell_type": "code",
      "source": [
        "stream = [\n",
        "          '2018-01-01,user1,3',\n",
        "          '2018-01-07,user1,4',\n",
        "          '2018-03-29,user1,1',\n",
        "          '2018-04-04,user1,13',\n",
        "          '2018-01-05,user2,7',\n",
        "          '2018-06-14,user3,4',\n",
        "          '2018-07-02,user3,10',\n",
        "          '2018-03-21,user4,19',\n",
        "          '2018-03-22,user4,4',\n",
        "          '2018-04-22,user4,8',\n",
        "          '2018-05-03,user4,9',\n",
        "          '2018-05-11,user4,11',\n",
        "]\n",
        "result ={}\n",
        "cnt = 0\n",
        "for el in stream:\n",
        "  (name, val) = el.split(',')[1:]\n",
        "  cnt += int(val)\n",
        "  if name in result:\n",
        "    result[name] += int(val)\n",
        "  else:\n",
        "    result[name] = int(val)\n",
        "print(f'Результат:\\nСреднее количество просмотров на уникального пользователя:{cnt/len(result): .2f}')\n",
        "#print(sum(result.values())/len(result))\n"
      ],
      "metadata": {
        "colab": {
          "base_uri": "https://localhost:8080/"
        },
        "id": "ue3OQMCUDFq_",
        "outputId": "80bd75ad-36b4-431d-94ce-3a90607bcc8a"
      },
      "execution_count": null,
      "outputs": [
        {
          "output_type": "stream",
          "name": "stdout",
          "text": [
            "Результат:\n",
            "Среднее количество просмотров на уникального пользователя: 23.25\n"
          ]
        }
      ]
    },
    {
      "cell_type": "code",
      "source": [
        "stream = [\n",
        "'2018-01-01,user100,150',\n",
        "'2018-01-07,user99,205',\n",
        "'2018-03-29,user1001,81'\n",
        "]\n",
        "result ={}\n",
        "for el in stream:\n",
        "  (name, val) = el.split(',')[1:]\n",
        "  if name in result:\n",
        "    result[name] += int(val)\n",
        "  else:\n",
        "    result[name] = int(val)\n",
        "print(f'Результат:\\nСреднее количество просмотров на уникального пользователя:{sum(result.values())/len(result): .2f}')\n"
      ],
      "metadata": {
        "colab": {
          "base_uri": "https://localhost:8080/"
        },
        "id": "kwo2I6nPbOcQ",
        "outputId": "ca6e160f-8391-40b0-e5ef-9d9dd447ec70"
      },
      "execution_count": null,
      "outputs": [
        {
          "output_type": "stream",
          "name": "stdout",
          "text": [
            "Результат:\n",
            "Среднее количество просмотров на уникального пользователя: 145.33\n"
          ]
        }
      ]
    },
    {
      "cell_type": "code",
      "source": [
        "stream = [\n",
        "'2018-01-01,user100,150',\n",
        "'2018-01-07,user99,205',\n",
        "'2018-03-29,user1001,81'\n",
        "]\n",
        "total_views = sum([int(element.split(',')[2]) for element in stream])\n",
        "no_of_users = len(set([element.split(',')[1] for element in stream]))\n",
        "\n",
        "print(\"Среднее число просмотров на уникального пользователя:\", round(total_views / no_of_users, 2))"
      ],
      "metadata": {
        "colab": {
          "base_uri": "https://localhost:8080/"
        },
        "id": "khRB9C-znVzu",
        "outputId": "ec0b4bdd-0576-4827-b302-e799f3321a62"
      },
      "execution_count": null,
      "outputs": [
        {
          "output_type": "stream",
          "name": "stdout",
          "text": [
            "Среднее число просмотров на уникального пользователя: 145.33\n"
          ]
        }
      ]
    },
    {
      "cell_type": "markdown",
      "source": [
        "### Задание 6"
      ],
      "metadata": {
        "id": "jIiHQqIUb5RD"
      }
    },
    {
      "cell_type": "code",
      "source": [
        "numbers = list(input('Введите числа, разделенные пробелом:\\n').split(' '))\n",
        "res = {}\n",
        "res2 = []\n",
        "for el in numbers:\n",
        "  res[el] = numbers.count(el)\n",
        "for item in res:\n",
        "  if res[item] != 1:\n",
        "    res2.append(item)\n",
        "if len(res2) > 0:\n",
        " print('Результат:')\n",
        " print(*sorted(res2))\n",
        "else:\n",
        "  print('Результат:')\n",
        "  print('Подходящих чисел нет!')\n",
        "\n"
      ],
      "metadata": {
        "colab": {
          "base_uri": "https://localhost:8080/"
        },
        "id": "AYOHRxMbcAhq",
        "outputId": "d59e4a91-a8d3-4e4b-b1e3-782e8d85cb61"
      },
      "execution_count": null,
      "outputs": [
        {
          "output_type": "stream",
          "name": "stdout",
          "text": [
            "Введите числа, разделенные пробелом:\n",
            "1 1 2 2 3 4 5\n",
            "Результат:\n",
            "1 2\n"
          ]
        }
      ]
    }
  ]
}