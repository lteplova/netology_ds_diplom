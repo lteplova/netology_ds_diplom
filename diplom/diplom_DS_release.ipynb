{
  "cells": [
    {
      "cell_type": "markdown",
      "metadata": {
        "id": "_EDMT0okHSGW"
      },
      "source": [
        "#Защита дипломного проекта по профессии «Data Scientist»\n",
        "\n",
        "---\n",
        "\n"
      ]
    },
    {
      "cell_type": "markdown",
      "metadata": {
        "id": "wRtjCDlPHXpa"
      },
      "source": [
        "#Тема\n",
        " **Создание модели ML для классификации (MBTI) по типам личности на основе написанного текста**\n",
        "\n",
        "\n",
        "---\n",
        "\n"
      ]
    },
    {
      "cell_type": "markdown",
      "metadata": {
        "id": "NDZg6xp8KrmK"
      },
      "source": [
        "Проблема:\n",
        "Можно определить тип личности, характер, склонности человека по результатам психологического тестирования, но можно ли это сделать на основе написанного им текста? Можно ли обучить искусственный интеллект определить по небольшому тексту характер собеседника.\n",
        "\n",
        "\n",
        "Области применения:\n",
        "\n",
        "1.  В чатах технической поддержки в зависимости от предопределенного типа личности можно выбрать тональность ответа\n",
        "2. Рекомендации товаров/услуг/продуктов на основе типа личности\n",
        "3. Выдавать персональный лендинг с предложением в зависимости от типа личности\n",
        "4. При собеседовании на должность сотрудник отдела кадров может составить психологический портрет на основе эссе, написанным соискателем."
      ]
    },
    {
      "cell_type": "markdown",
      "metadata": {
        "id": "jF8jcrDEHgvt"
      },
      "source": [
        "    Introversion (I) – Extroversion (E)\n",
        "    Intuition (N) – Sensing (S)\n",
        "    Thinking (T) – Feeling (F)\n",
        "    Judging (J) – Perceiving (P)\n",
        "\n",
        "    Ориентация сознания: экстраверсия (E) или интроверсия (I).\n",
        "    Ориентация в ситуациях: опора на материальную информацию (S) или интуицию (N).\n",
        "    Принятие решений: логика (T) или эмоции (F).\n",
        "    Подготовка решений: четкое планирование (J) или ориентация на обстоятельства (P).\n",
        "\n",
        "\n",
        "Материалы:\n",
        "\n",
        "https://www.myersbriggs.org/my-mbti-personality-type/myers-briggs-overview/\n",
        "\n",
        "https://iq.hse.ru/news/366225961.html\n",
        "\n",
        "[хабр](https://habr.com/ru/companies/meanotek/articles/689360/)\n",
        "\n",
        " [датасет](https://www.kaggle.com/datasets/datasnaek/mbti-type)\n",
        "\n",
        "https://www.16personalities.com/ru/tipy-lichnosti"
      ]
    },
    {
      "cell_type": "markdown",
      "metadata": {
        "id": "rouIdP_JIo38"
      },
      "source": [
        "\n",
        "\n",
        "Данная классификация создана на основе работ Майерс, Бриггс и Юнга\n",
        "\n",
        "**Аналитики**\n",
        "\n",
        "Стратег — INTJ\n",
        "\n",
        "Новатор-перфекционист, которому комфортнее всего в одиночестве. Такие люди лучше всего переносят самостоятельную работу и не нуждаются в команде как таковой. У них хорошо развиты самоорганизация и личная ответственность. Легко воплощают идеи на практике, обладая одновременно и интуитивным, и рациональным мышлением. Пример — Гендальф Серый (серия фильмов «Властелин колец»).\n",
        "\n",
        "Ученый — INTP\n",
        "\n",
        "Изменчивый, но компетентный, любит действовать по алгоритму и решать проблемы, быстро находит ошибки и несоответствия. Ученые хорошо чувствуют себя в изоляции и очень продуктивны в одиночестве. Пример — Альберт Эйнштейн.\n",
        "\n",
        "Полемист — ENTP\n",
        "\n",
        "Харизматичный интеллектуал, который любит дергать за ниточки. Часто к этому типу относятся руководители. Он логичен, рационален и объективен, но требует постоянной умственной стимуляции. Часто такие лидеры фокусируются на больших идеях и ненавидят рутину. Пример — Тирион Ланнистер (книжный цикл Джорджа Мартина «Песнь Льда и Пламени»).\n",
        "\n",
        "Командир — ENTJ\n",
        "\n",
        "Последовательный планировщик, который любит ломать границы и находить решения в любой ситуации. Он ценит продуктивность и профессионализм, в том числе при постановке целей, определении структуры и иерархии. Харизматичен и уверен в себе, мотивирует других к достижению общей цели. Пример — Стив Джобс.\n",
        "\n",
        "**Дипломаты**\n",
        "\n",
        "Активист — INFJ\n",
        "\n",
        "Прямолинейный и творческий, гнет свою линию, но обладает прекрасной интуицией. Эмпат, хорошо понимает людей и внимателен к их чувствам. Глубокий мыслитель, у которого всегда сотня идей в голове. Пример — Мартин Лютер Кинг.\n",
        "\n",
        "Посредник — INFP\n",
        "\n",
        "Уравновешенный, с развитой системой ценностей, погруженный в свои идеи и фантазии. Истинный идеалист, дружелюбный даже в конфликтных ситуациях. Пример — Амели Пулен (фильм «Амели» 2001-го года).\n",
        "\n",
        "Борец — ENFP\n",
        "\n",
        "Проницательный, любитель экспериментов, с развитой интуицией. Любит находиться в обществе и руководствуется чувствами, а не логикой. Чрезвычайно ценят креативность и свободу. Пример — Квентин Тарантино.\n",
        "\n",
        "Тренер — ENFJ\n",
        "\n",
        "Прирожденный лидер, больше движимый интуицией и чувствами, чем логикой и рациональностью. На менеджерских позициях он умеет вдохновлять. Тренер целеустремлен, но в то же время чрезвычайно чуток к потребностям окружающих. Пример — Опра Уинфри.\n",
        "\n",
        "**Хранители**\n",
        "\n",
        "Администратор — ISTJ\n",
        "\n",
        "Послушно и последовательно выполняет все задачи, предпочитает ясность и четкую организацию, ценит честь, трудолюбие и социальную ответственность. Обычно такие люди ведут себя максимально сдержанно. Пример — Джордж Вашингтон.\n",
        "\n",
        "Консул — ESFJ\n",
        "\n",
        "Преданный коллективу, общительный, внимательный. Ставит интересы команды выше личных и любит личное общение на нерабочие темы. Консулы отлично налаживают контакт, умеют поддержать и мотивировать. Пример — Моника Геллер (телесериал «Друзья»).\n",
        "\n",
        "Защитник — ISFJ\n",
        "\n",
        "Самый экстравертный среди интровертов, обладает этикой и профессионализмом, внимателен к чувствам и предпочтениям своих коллег. Защитники — прирожденные менеджеры, которые поддерживают командных дух. Пример — британская королева Елизавета II.\n",
        "\n",
        "Менеджер — ESTJ\n",
        "\n",
        "Это прагматик, который принимает консервативные решения и разбирается с повседневной рутиной. Он трудолюбив, лоялен и методичен. Пример — Дуайт Шрут (телесериал «Офис»).\n",
        "\n",
        "\n",
        "**Искатели**\n",
        "\n",
        "Виртуоз — ISTP\n",
        "\n",
        "Прямолинейный, последовательный, лояльный к коллегам, но не слишком придерживающийся правил. Самый непредсказуемый из всех: может быть логичным и рациональным, а может — спонтанным. Пример — Джеймс Бонд (серия фильмов об «Агенте 007»).\n",
        "\n",
        "Артист — ISFP\n",
        "\n",
        "Чуткий и деятельный альтруист. Приветлив, дружелюбен, избегает конфликтов и любит учиться новому. Артист — по-настоящему творческая личность. Пример — Фрида Кало.\n",
        "\n",
        "Делец — ESTP\n",
        "\n",
        "Азартный, увлеченный, любит риск и решает самые сложные задачи с наскока. Наиболее эффективен в экстремальных условиях и проектах, где нужно действовать быстро и решительно. Пример — д’Артаньян (роман Александра Дюма «Три мушкетера»).\n",
        "\n",
        "Развлекатель — ESFP\n",
        "\n",
        "Душа коллектива, артист и оратор. Энергичный, творческий, фонтанирует идеями и открыто выражает эмоции. Обожает быть в центре внимания, но при этом щедрый и отзывчивый к коллегам. Пример — Элтон Джон.\n"
      ]
    },
    {
      "cell_type": "markdown",
      "metadata": {
        "id": "mTG40hPhMJgi"
      },
      "source": [
        "# Реализация"
      ]
    },
    {
      "cell_type": "markdown",
      "metadata": {
        "id": "d82vDWocIBDL"
      },
      "source": [
        "### импорт библиотек\n"
      ]
    },
    {
      "cell_type": "code",
      "execution_count": null,
      "metadata": {
        "id": "bweKRNNxIEYv"
      },
      "outputs": [],
      "source": [
        "import pandas as pd\n",
        "import numpy as np\n",
        "from collections import Counter\n",
        "from datetime import datetime\n",
        "from tqdm.notebook import tqdm\n",
        "\n",
        "import seaborn as sns\n",
        "import matplotlib.pyplot as plt\n",
        "from wordcloud import WordCloud, STOPWORDS\n",
        "from scipy.stats import uniform\n",
        "import torch.nn.functional as F\n",
        "\n",
        "import torch\n",
        "import torchvision\n",
        "from torch.utils.data import Dataset, DataLoader\n",
        "import numpy as np\n",
        "import torch.nn as nn\n",
        "import math\n",
        "import torch.optim as optim\n",
        "\n",
        "import re\n",
        "import time\n",
        "import nltk\n",
        "from nltk.tokenize import sent_tokenize\n",
        "from nltk.corpus import stopwords\n",
        "from nltk.tokenize import word_tokenize\n",
        "from tqdm import tqdm\n",
        "from gensim import models\n",
        "import gensim\n",
        "from gensim.models import Word2Vec\n",
        "from sklearn.metrics import make_scorer, accuracy_score, precision_score, recall_score, f1_score\n",
        "\n",
        "from sklearn.model_selection import train_test_split\n",
        "from sklearn.model_selection import GridSearchCV\n",
        "from sklearn.ensemble import RandomForestClassifier\n",
        "from sklearn.dummy import DummyClassifier\n",
        "from sklearn.linear_model import LogisticRegression\n",
        "from sklearn.linear_model import SGDClassifier\n",
        "from sklearn.preprocessing import LabelEncoder\n",
        "from sklearn.feature_extraction.text import TfidfVectorizer\n",
        "from gensim.models import TfidfModel\n",
        "from sklearn.feature_extraction.text import CountVectorizer\n",
        "from sklearn.feature_extraction.text import TfidfTransformer\n",
        "from sklearn.ensemble import RandomForestClassifier\n",
        "from sklearn.decomposition import TruncatedSVD\n",
        "from sklearn.metrics import *\n",
        "\n",
        "from sklearn.linear_model import LogisticRegression, Ridge\n",
        "from sklearn.svm import SVC\n",
        "from xgboost import XGBClassifier\n",
        "from sklearn.naive_bayes import BernoulliNB\n",
        "from sklearn.model_selection import RandomizedSearchCV\n",
        "from sklearn.model_selection import cross_validate\n",
        "from sklearn import metrics\n",
        "\n",
        "import warnings\n",
        "warnings.filterwarnings(\"ignore\")"
      ]
    },
    {
      "cell_type": "markdown",
      "metadata": {
        "id": "VtXDphD8KFqB"
      },
      "source": [
        "\n",
        "Датасет содержит более 8600 строк.\n",
        "В нем содержатся данные о человеке.\n",
        "1 колонка - тип личности (4-буквенный код/тип MBTI этого человека)\n",
        "2- колонка 50 опубликованных им материалов (каждая запись разделена знаком '|||')"
      ]
    },
    {
      "cell_type": "markdown",
      "metadata": {
        "id": "NW4BudtiCIit"
      },
      "source": [
        "### загрузка данных"
      ]
    },
    {
      "cell_type": "code",
      "execution_count": null,
      "metadata": {
        "colab": {
          "base_uri": "https://localhost:8080/"
        },
        "id": "0zH4yFxyRe0f",
        "outputId": "fa6a31d6-759b-4b44-cadc-9d809c55ef4c"
      },
      "outputs": [],
      "source": [
        "!wget https://github.com/lteplova/dl26_ssd/raw/bcc33d74d825e5c790f5f43518ca96277f6c69b4/archive.zip"
      ]
    },
    {
      "cell_type": "code",
      "execution_count": null,
      "metadata": {
        "colab": {
          "base_uri": "https://localhost:8080/"
        },
        "id": "zxGfNEgOTcQ3",
        "outputId": "80dfae97-73c4-4ae4-d6a0-339685ba45ce"
      },
      "outputs": [],
      "source": [
        "!unzip archive.zip"
      ]
    },
    {
      "cell_type": "code",
      "execution_count": null,
      "metadata": {
        "colab": {
          "base_uri": "https://localhost:8080/"
        },
        "id": "a9q1m4z7HEG4",
        "outputId": "785a7df4-159c-4912-c67c-537075bbcf6d"
      },
      "outputs": [],
      "source": [
        "data = pd.read_csv('/content/mbti_1.csv')\n",
        "\n",
        "data"
      ]
    },
    {
      "cell_type": "markdown",
      "metadata": {
        "id": "9gwA1DKpCHkN"
      },
      "source": [
        "### изучение данных"
      ]
    },
    {
      "cell_type": "code",
      "execution_count": null,
      "metadata": {
        "colab": {
          "base_uri": "https://localhost:8080/"
        },
        "id": "c9OX_L8tKAj9",
        "outputId": "5077aecd-3672-41e3-e5c1-19e829579f61"
      },
      "outputs": [],
      "source": [
        "data.info()"
      ]
    },
    {
      "cell_type": "code",
      "execution_count": null,
      "metadata": {
        "colab": {
          "base_uri": "https://localhost:8080/",
          "height": 424
        },
        "id": "VmFY10H3CPfT",
        "outputId": "324e276e-a52b-4ed1-e5cc-463fe6518cb9"
      },
      "outputs": [],
      "source": [
        "data = data.rename(columns = {'type': 'class_MBTI'})\n",
        "data = data[['posts', 'class_MBTI']]\n",
        "data"
      ]
    },
    {
      "cell_type": "code",
      "execution_count": null,
      "metadata": {
        "colab": {
          "base_uri": "https://localhost:8080/"
        },
        "id": "kIQZQATcCG7E",
        "outputId": "1039a638-608c-4d32-e949-536add91a2d4"
      },
      "outputs": [],
      "source": [
        "# всего типов личностей в результате комбинаций признаков характера\n",
        "data.class_MBTI.unique()"
      ]
    },
    {
      "cell_type": "markdown",
      "metadata": {
        "id": "vGPBce1hMCyk"
      },
      "source": [
        "Я буду называть большие категории типами, их подкатегории классами.\n",
        "\n",
        "Аналитик (тип)\n",
        "\n",
        "Стратег — INTJ |\n",
        "Ученый — INTP |\n",
        "Полемист — ENTP |\n",
        "Командир — ENTJ |\n",
        "\n",
        "Дипломат (тип)\n",
        "\n",
        "Активист — INFJ |\n",
        "Посредник — INFP |\n",
        "Борец — ENFP |\n",
        "Тренер — ENFJ |\n",
        "\n",
        "Хранитель (тип)\n",
        "\n",
        "Администратор — ISTJ |\n",
        "Консул — ESFJ |\n",
        "Защитник — ISFJ |\n",
        "Менеджер — ESTJ |\n",
        "\n",
        "Искатель (тип)\n",
        "\n",
        "Виртуоз — ISTP |\n",
        "Артист — ISFP |\n",
        "Делец — ESTP |\n",
        "Развлекатель — ESFP |\n"
      ]
    },
    {
      "cell_type": "code",
      "execution_count": null,
      "metadata": {
        "id": "Guvl9pGtLRdM"
      },
      "outputs": [],
      "source": [
        "# Функция для добавления столбцов с русскими названиями 16 классов и 4 типа\n",
        "\n",
        "def classif(row):\n",
        "    if (row['class_MBTI'] == 'INTJ'):\n",
        "        row['cls'] = 'Стратег'\n",
        "        row['common_type'] = 'Аналитик'\n",
        "    elif (row['class_MBTI'] == 'INTP'):\n",
        "        row['cls'] = 'Ученый'\n",
        "        row['common_type'] = 'Аналитик'\n",
        "    elif (row['class_MBTI'] == 'ENTP'):\n",
        "        row['cls'] = 'Полимелист'\n",
        "        row['common_type'] = 'Аналитик'\n",
        "    elif (row['class_MBTI'] == 'ENTJ'):\n",
        "        row['cls'] = 'Командир'\n",
        "        row['common_type'] = 'Аналитик'\n",
        "    elif (row['class_MBTI'] == 'INFJ'):\n",
        "        row['cls'] = 'Активист'\n",
        "        row['common_type'] = 'Дипломат'\n",
        "    elif (row['class_MBTI'] == 'INFP'):\n",
        "        row['cls'] = 'Посредник'\n",
        "        row['common_type'] = 'Дипломат'\n",
        "    elif (row['class_MBTI'] == 'ENFP'):\n",
        "        row['cls'] = 'Борец'\n",
        "        row['common_type'] = 'Дипломат'\n",
        "    elif (row['class_MBTI'] == 'ENFJ'):\n",
        "        row['cls'] = 'Тренер'\n",
        "        row['common_type'] = 'Дипломат'\n",
        "    elif (row['class_MBTI'] == 'ISTJ'):\n",
        "        row['cls'] = 'Администратор'\n",
        "        row['common_type'] = 'Хранитель'\n",
        "    elif (row['class_MBTI'] == 'ESFJ'):\n",
        "        row['cls'] = 'Консул'\n",
        "        row['common_type'] = 'Хранитель'\n",
        "    elif (row['class_MBTI'] == 'ISFJ'):\n",
        "        row['cls'] = 'Защитник'\n",
        "        row['common_type'] = 'Хранитель'\n",
        "    elif (row['class_MBTI'] == 'ESTJ'):\n",
        "        row['cls'] = 'Менеджер'\n",
        "        row['common_type'] = 'Хранитель'\n",
        "    elif (row['class_MBTI'] == 'ISTP'):\n",
        "        row['cls'] = 'Виртуоз'\n",
        "        row['common_type'] = 'Искатель'\n",
        "    elif (row['class_MBTI'] == 'ESTP'):\n",
        "        row['cls'] = 'Делец'\n",
        "        row['common_type'] = 'Искатель'\n",
        "    elif (row['class_MBTI'] =='ISFP'):\n",
        "        row['cls'] = 'Артист'\n",
        "        row['common_type'] = 'Искатель'\n",
        "    elif (row['class_MBTI'] == 'ESFP'):\n",
        "        row['cls'] = 'Развлекатель'\n",
        "        row['common_type'] = 'Искатель'\n",
        "    return row\n"
      ]
    },
    {
      "cell_type": "code",
      "execution_count": null,
      "metadata": {
        "colab": {
          "base_uri": "https://localhost:8080/",
          "height": 424
        },
        "id": "1JEJ7dBCPDkI",
        "outputId": "64a7b4b5-29e6-4270-83ca-376566b31277"
      },
      "outputs": [],
      "source": [
        "df = data.apply(classif, axis = 1)\n",
        "df"
      ]
    },
    {
      "cell_type": "markdown",
      "metadata": {
        "id": "Ck_ExZE9eqG1"
      },
      "source": [
        "#### баланс классов"
      ]
    },
    {
      "cell_type": "code",
      "execution_count": null,
      "metadata": {
        "id": "gpyTQjDURVeA"
      },
      "outputs": [],
      "source": [
        "# проверим распределение классов и сбалансированность датасета\n",
        "# функция создает датасет с распределением классов\n",
        "def loads_labels(dataset):\n",
        "    labels = []\n",
        "    for i in dataset:\n",
        "        labels.append(i)\n",
        "    counts = Counter(labels)\n",
        "    count_df =  pd.DataFrame([(k, v) for k, v in counts.items()],\n",
        "    columns=['cls', 'count'])\n",
        "    return count_df.sort_values(by = 'count', ascending = False)"
      ]
    },
    {
      "cell_type": "code",
      "execution_count": null,
      "metadata": {
        "colab": {
          "base_uri": "https://localhost:8080/",
          "height": 551
        },
        "id": "1AqHpDyTUL3h",
        "outputId": "82ad5e19-a738-43f6-b506-1ee1c7a129f1"
      },
      "outputs": [],
      "source": [
        "df_balance_1 = loads_labels(df.cls.values)\n",
        "df_balance_1.reset_index()"
      ]
    },
    {
      "cell_type": "code",
      "execution_count": null,
      "metadata": {
        "colab": {
          "base_uri": "https://localhost:8080/",
          "height": 410
        },
        "id": "y4BegYD5ZB1P",
        "outputId": "ee08c949-e19c-4a88-c089-a34a0eb127d7"
      },
      "outputs": [],
      "source": [
        "ax = df_balance_1.plot.barh(x='cls', y='count', rot=0, figsize = (10,4), title='Распределение - класс личности / количество',\n",
        "                     xlabel='Количество / Класс',\n",
        "                     ylabel='Класс')"
      ]
    },
    {
      "cell_type": "markdown",
      "metadata": {
        "id": "VkaOV5xSc_pV"
      },
      "source": [
        "В данных есть дисбаланс, больше всего записей типа INFP (Посредник), далее идет INFJ (Активист), меньше всего записей от ESTJ (Менеджер), ESFJ (Консул), ESFP (Развлекатель)."
      ]
    },
    {
      "cell_type": "code",
      "execution_count": null,
      "metadata": {
        "colab": {
          "base_uri": "https://localhost:8080/",
          "height": 175
        },
        "id": "dEvVJl5ESPOP",
        "outputId": "3b1aad45-7f2c-4013-e1fc-16950b1f4eec"
      },
      "outputs": [],
      "source": [
        "df_balance_2 = loads_labels(df.common_type.values)\n",
        "df_balance_2"
      ]
    },
    {
      "cell_type": "code",
      "execution_count": null,
      "metadata": {
        "colab": {
          "base_uri": "https://localhost:8080/",
          "height": 410
        },
        "id": "hNgOEws8b1if",
        "outputId": "1c228f16-9acf-4aa0-bbb9-12b2bac4f0d4"
      },
      "outputs": [],
      "source": [
        "ax = df_balance_2.plot.bar(x='cls', y='count', rot=0, figsize = (4,4), title='Распределение - тип / количество',\n",
        "                     xlabel='Количество / Класс',\n",
        "                     ylabel='Класс')"
      ]
    },
    {
      "cell_type": "markdown",
      "metadata": {
        "id": "I53A8b51eDrv"
      },
      "source": [
        "Можно предположить, что комментарии склонны оставлять люди, которым ближе дипломатия и аналитика, такие люди умеют и могут делиться мнением."
      ]
    },
    {
      "cell_type": "markdown",
      "metadata": {
        "id": "1GjURp1jeYHB"
      },
      "source": [
        "#### анализ постов (количество слов), взаимосвязь между длиной постов и типом личности"
      ]
    },
    {
      "cell_type": "code",
      "execution_count": null,
      "metadata": {
        "id": "fGlGH2yrXcQU"
      },
      "outputs": [],
      "source": [
        "df1 = df.copy()"
      ]
    },
    {
      "cell_type": "code",
      "execution_count": null,
      "metadata": {
        "id": "oC8lEc9Dv70a"
      },
      "outputs": [],
      "source": [
        "df1['len_text_w'] = 0\n",
        "df1['len_text_s'] = 0\n",
        "df1['mean_length_post'] = 0\n",
        "df1['length_posts'] = 0\n",
        "# количество слов в постах для каждого таргета\n",
        "df1.len_text_w = df1.posts.astype('str').apply(lambda text : len(text.split()))\n",
        "# количество символов без пробелов в постах для каждого таргета\n",
        "df1.len_text_s =  df1.posts.astype('str').apply(lambda text : len(text.replace(' ', '')))\n",
        "# количество символов в постах для каждого таргета\n",
        "df1.length_posts = df1.posts.astype('str').apply(len)\n",
        "# сденяя длина поста\n",
        "df1.mean_length_post = df1.posts.astype('str').apply(lambda text: len(text.split())/50)"
      ]
    },
    {
      "cell_type": "code",
      "execution_count": null,
      "metadata": {
        "colab": {
          "base_uri": "https://localhost:8080/",
          "height": 424
        },
        "id": "ypd4tGouBUpe",
        "outputId": "fcb58a15-cfb2-4189-c88e-0a498fc8c705"
      },
      "outputs": [],
      "source": [
        "df1"
      ]
    },
    {
      "cell_type": "code",
      "execution_count": null,
      "metadata": {
        "colab": {
          "base_uri": "https://localhost:8080/",
          "height": 512
        },
        "id": "WFHDE1QJYhq1",
        "outputId": "dc7d87a2-6b5f-46ff-abaf-1026215840bd"
      },
      "outputs": [],
      "source": [
        "plt.figure(figsize = (20, 6))\n",
        "plt.subplot(1, 4, 1)\n",
        "sns.histplot(df1[\"len_text_s\"]).set_title(\"Количество символов (без пробелов)\")\n",
        "\n",
        "plt.subplot(1, 4, 2)\n",
        "sns.histplot(df1[\"length_posts\"]).set_title(\"Количество символов в посте\")\n",
        "\n",
        "plt.subplot(1, 4, 3)\n",
        "sns.histplot(df1[\"len_text_w\"]).set_title(\"Количество слов в посте\")\n",
        "\n",
        "plt.subplot(1, 4, 4)\n",
        "sns.histplot(df1[\"mean_length_post\"]).set_title(\"Средняя длина поста\");"
      ]
    },
    {
      "cell_type": "markdown",
      "metadata": {
        "id": "cjE7daynerGc"
      },
      "source": [
        "По графикам видим, что большее количество слов на каждый класс личности сотставляет от 1000 до 2000 слов, или 6-9 тысяч символов с пробелами или 5-7 тысяч символов без учета пробелов. Основная часть постов в среднем от 18 до 32 слов."
      ]
    },
    {
      "cell_type": "code",
      "execution_count": null,
      "metadata": {
        "id": "tV1bmFvoi3G3"
      },
      "outputs": [],
      "source": [
        "# функция подсчитывает количество слов в каждом посте пользователя\n",
        "def variance(row):\n",
        "    l = []\n",
        "    for i in row.split('|||'):\n",
        "        l.append(len(i.split()))\n",
        "    return np.var(l)\n",
        "\n",
        "df1['variance_of_word_counts'] = df1['posts'].apply(lambda x: variance(x))"
      ]
    },
    {
      "cell_type": "code",
      "execution_count": null,
      "metadata": {
        "colab": {
          "base_uri": "https://localhost:8080/",
          "height": 424
        },
        "id": "36XELq7xjSVC",
        "outputId": "225193a0-1edf-4061-a0c0-92c809e3bb16"
      },
      "outputs": [],
      "source": [
        "df1 = df1.sort_values(by  = 'len_text_w', ascending = False)\n",
        "df1"
      ]
    },
    {
      "cell_type": "code",
      "execution_count": null,
      "metadata": {
        "colab": {
          "base_uri": "https://localhost:8080/"
        },
        "id": "_q_HZ7rd0IuU",
        "outputId": "be337c5c-4a72-49ff-9c9b-592efa00b3c1"
      },
      "outputs": [],
      "source": [
        "len(df1.posts.values[0])"
      ]
    },
    {
      "cell_type": "code",
      "execution_count": null,
      "metadata": {
        "colab": {
          "base_uri": "https://localhost:8080/",
          "height": 782
        },
        "id": "dyvtdsi5i_SQ",
        "outputId": "ef9dd669-7d17-428c-8195-f03c2fc07230"
      },
      "outputs": [],
      "source": [
        "plt.figure(figsize=(20,10))\n",
        "sns.swarmplot(x = df1.cls, y = df1.variance_of_word_counts, s = 2, palette = 'pastel');"
      ]
    },
    {
      "cell_type": "markdown",
      "metadata": {
        "id": "kUPTd73spGaQ"
      },
      "source": [
        "Тепловая карта показывает насколько длинные посты оставляет человек, относящийся к определенному классу"
      ]
    },
    {
      "cell_type": "markdown",
      "metadata": {
        "id": "_AQyrOvA4Slp"
      },
      "source": [
        "Выводы, я вижу несколько поблем для успешного обучения на данном датасете:\n",
        "1. Дисбаланс данных (метрика будет не очень показательна).\n",
        "2. Разброс длин постов. Большое количество длинных постов (их придется обрезать и потеряется часть информации).\n",
        "3. Обучение на 16 классов при условии 1 и 2 пунктов будет неэффективным.\n",
        "4. Обучение на 4 класса не дает более детальную информацию о личности."
      ]
    },
    {
      "cell_type": "markdown",
      "metadata": {
        "id": "claQXNFPT_8t"
      },
      "source": [
        "#### препроцессинг текста (удаление интернет-ссылок, знаков препинания и других символов, которые не являются буквами)\n"
      ]
    },
    {
      "cell_type": "code",
      "execution_count": null,
      "metadata": {
        "colab": {
          "base_uri": "https://localhost:8080/"
        },
        "id": "vJbqfCHcnb2t",
        "outputId": "5af59c6a-79d0-41eb-a3ad-aa13ed54eacc"
      },
      "outputs": [],
      "source": [
        "import nltk\n",
        "nltk.download('stopwords')\n",
        "nltk.download('punkt')\n",
        "nltk.download('wordnet')"
      ]
    },
    {
      "cell_type": "code",
      "execution_count": null,
      "metadata": {
        "colab": {
          "base_uri": "https://localhost:8080/"
        },
        "id": "WgcNtV9QrLAg",
        "outputId": "90d4f7ec-003a-4731-8874-4c655c528c36"
      },
      "outputs": [],
      "source": [
        "df"
      ]
    },
    {
      "cell_type": "code",
      "execution_count": null,
      "metadata": {
        "id": "SYqHMPjhZdJB"
      },
      "outputs": [],
      "source": [
        "# фукция чистит текст от ссылок, пунктуационных знаков, длинных и коротких слов, удаляет сами упоминания классов из постов\n",
        "# ссылки нужно удалить, потому что они не дают нам никакой полезной информации о личности, их смысл нельзя проанализировать, только тот факт, что кто-то комментирует ссылаясь на видео или картинку\n",
        "\n",
        "def clear(df):\n",
        "    texts = df['posts'].copy()\n",
        "    # labels = df['class_MBTI'].copy()\n",
        "\n",
        "    # удаление ссылок\n",
        "    df[\"posts\"] = df[\"posts\"].apply(lambda x: re.sub(r'https?:\\/\\/.*?[\\s+]', '', x.replace(\"|\",\" \") + \" \"))\n",
        "\n",
        "    # удаление пунктуационных знаков\n",
        "    df[\"posts\"] = df[\"posts\"].apply(lambda x: re.sub(r'[\\.+]', \".\",x))\n",
        "\n",
        "    #удаление повторяющихся пробелов\n",
        "    df[\"posts\"] = df[\"posts\"].apply(lambda x: re.sub(r'[^\\w\\s]','',x))\n",
        "\n",
        "    #удаление всего, что не относится к буквам\n",
        "    df[\"posts\"] = df[\"posts\"].apply(lambda x: re.sub(r'[^a-zA-Z\\s]','',x))\n",
        "\n",
        "    #перевод в нижний регистр\n",
        "    df[\"posts\"] = df[\"posts\"].apply(lambda x: x.lower())\n",
        "\n",
        "    #удаление слов с повторяющимися несколькими буквами подряд\n",
        "    df[\"posts\"] = df[\"posts\"].apply(lambda x: re.sub(r'([a-z])\\1{2,}[\\s|\\w]*','',x))\n",
        "\n",
        "    #удаления очень коротких (меньше 3-х символов) или очень длинных слов\n",
        "    df[\"posts\"] = df[\"posts\"].apply(lambda x: re.sub(r'(\\b\\w{0,3})?\\b','',x))\n",
        "    df[\"posts\"] = df[\"posts\"].apply(lambda x: re.sub(r'(\\b\\w{30,1000})?\\b','',x))\n",
        "\n",
        "    df[\"posts\"] = df[\"posts\"].apply(lambda x: re.sub(r'\\s{2,}',' ',x))\n",
        "\n",
        "    #удаление упоминаний типов личности из самих постов\n",
        "\n",
        "    pers_types = ['INFP' ,'INFJ', 'INTP', 'INTJ', 'ENTP', 'ENFP', 'ISTP' ,'ISFP' ,'ENTJ', 'ISTJ','ENFJ', 'ISFJ' ,'ESTP', 'ESFP' ,'ESFJ' ,'ESTJ']\n",
        "    pers_types = [p.lower() for p in pers_types]\n",
        "    p = re.compile(\"(\" + \"|\".join(pers_types) + \")\")\n",
        "\n",
        "    df[\"posts\"] = df[\"posts\"].apply(lambda x: re.sub(p,'',x))\n",
        "\n",
        "    df[\"posts\"] = df[\"posts\"].apply(lambda x: re.sub(r'\\s{2,}',' ',x))\n",
        "\n",
        "    df[\"posts\"] = df[\"posts\"].apply(lambda x: x.lstrip().rstrip())\n",
        "\n",
        "\n",
        "\n",
        "    return df\n"
      ]
    },
    {
      "cell_type": "code",
      "execution_count": null,
      "metadata": {
        "id": "QAs6lIvmZnni"
      },
      "outputs": [],
      "source": [
        "cleared_df = clear(df)"
      ]
    },
    {
      "cell_type": "code",
      "execution_count": null,
      "metadata": {
        "id": "zK4rRQst12Tt"
      },
      "outputs": [],
      "source": [
        "# удаление строк с  малым количеством слов (меньше 100 слов) для того, чтобы сгладить дисбаланс\n",
        "def remove_short_posts(row):\n",
        "    if len(row['posts']) < 100:\n",
        "        row['posts'] = 0\n",
        "    return row"
      ]
    },
    {
      "cell_type": "code",
      "execution_count": null,
      "metadata": {
        "colab": {
          "base_uri": "https://localhost:8080/"
        },
        "id": "SCCmFP8X2gtc",
        "outputId": "e2b94ea8-e681-4654-b823-344b80b2a54a"
      },
      "outputs": [],
      "source": [
        "cleared_df = cleared_df.apply(remove_short_posts, axis = 1)\n",
        "cleared_df = cleared_df.loc[((cleared_df['posts'] != 0))]\n",
        "cleared_df"
      ]
    },
    {
      "cell_type": "code",
      "execution_count": null,
      "metadata": {
        "id": "zrCN5idihBOm"
      },
      "outputs": [],
      "source": [
        "# препроцессинг текстов постов с удалением стоп-слов, лишних пробелов и токенизацией, взятием начальной формы слова (лемматизацией)\n",
        "def preprocess(text):\n",
        "    # lemmatizer = nltk.WordNetLemmatizer()\n",
        "    stop_words = stopwords.words('english')\n",
        "    words = []\n",
        "    for el in text:\n",
        "        sentences = nltk.sent_tokenize(el, language=\"english\")\n",
        "        for sentence in sentences:\n",
        "            tokens = nltk.word_tokenize(sentence)\n",
        "            tokens = [i for i in tokens if (i not in stop_words)]\n",
        "            # tokens = \" \".join([lemmatizer.lemmatize(w) for w in tokens])\n",
        "            tokens = \" \".join([w for w in tokens])\n",
        "\n",
        "            words.append(tokens)\n",
        "    return words"
      ]
    },
    {
      "cell_type": "code",
      "execution_count": null,
      "metadata": {
        "id": "-7qOeXytsJyi"
      },
      "outputs": [],
      "source": [
        "words = preprocess(cleared_df.posts.values)\n",
        "cleared_df['prep_posts'] = words"
      ]
    },
    {
      "cell_type": "code",
      "execution_count": null,
      "metadata": {
        "colab": {
          "base_uri": "https://localhost:8080/"
        },
        "id": "hY6ztG0Y0iC8",
        "outputId": "b42de712-9488-489c-9067-b853db3f0fad"
      },
      "outputs": [],
      "source": [
        "len(cleared_df.prep_posts.values[0])"
      ]
    },
    {
      "cell_type": "markdown",
      "metadata": {
        "id": "YeWyjWait0Ou"
      },
      "source": [
        "сравнение поста пользователя до и после обработки"
      ]
    },
    {
      "cell_type": "code",
      "execution_count": null,
      "metadata": {
        "colab": {
          "base_uri": "https://localhost:8080/"
        },
        "id": "IQY5eJ3etYGd",
        "outputId": "92432f2f-8adb-4452-8f88-2e442ab3791f"
      },
      "outputs": [],
      "source": [
        "data['posts'].values[0]"
      ]
    },
    {
      "cell_type": "code",
      "execution_count": null,
      "metadata": {
        "colab": {
          "base_uri": "https://localhost:8080/"
        },
        "id": "LWWgNlfeSUtY",
        "outputId": "9c4eb2b1-5735-43d2-b91d-579a03a0e738"
      },
      "outputs": [],
      "source": [
        "len(data['posts'].values[0])"
      ]
    },
    {
      "cell_type": "code",
      "execution_count": null,
      "metadata": {
        "colab": {
          "base_uri": "https://localhost:8080/"
        },
        "id": "HoMwGfNda0Tj",
        "outputId": "ab7b4bd9-028f-4ecc-fed7-e90dcf3cda94"
      },
      "outputs": [],
      "source": [
        "cleared_df['posts'].values[0]"
      ]
    },
    {
      "cell_type": "code",
      "execution_count": null,
      "metadata": {
        "colab": {
          "base_uri": "https://localhost:8080/"
        },
        "id": "3LbjM3sHSXWB",
        "outputId": "b4740439-f924-4dc9-e2d8-0bacf50adf6d"
      },
      "outputs": [],
      "source": [
        "len(cleared_df['posts'].values[0])"
      ]
    },
    {
      "cell_type": "code",
      "execution_count": null,
      "metadata": {
        "colab": {
          "base_uri": "https://localhost:8080/"
        },
        "id": "EQL1CEWgx3o9",
        "outputId": "b387c56c-e8c1-4420-903b-82237c9f00d9"
      },
      "outputs": [],
      "source": [
        "cleared_df.prep_posts.values[0] # после удаления стоп слов"
      ]
    },
    {
      "cell_type": "code",
      "execution_count": null,
      "metadata": {
        "colab": {
          "base_uri": "https://localhost:8080/"
        },
        "id": "-9Ul3B5i5YpA",
        "outputId": "7068568d-97ac-422a-f90c-c93e261f0e40"
      },
      "outputs": [],
      "source": [
        "cleared_df"
      ]
    },
    {
      "cell_type": "markdown",
      "metadata": {
        "id": "0dYdiy72tGKv"
      },
      "source": [
        "#### Частотный анализ"
      ]
    },
    {
      "cell_type": "code",
      "execution_count": null,
      "metadata": {
        "id": "mvOZgopmwWup"
      },
      "outputs": [],
      "source": [
        "from nltk.tokenize import word_tokenize\n",
        "from nltk.probability import FreqDist\n",
        "tqdm.pandas()\n",
        "from string import punctuation"
      ]
    },
    {
      "cell_type": "code",
      "execution_count": null,
      "metadata": {
        "colab": {
          "base_uri": "https://localhost:8080/"
        },
        "id": "knHIh4qow5Z-",
        "outputId": "75248e2f-e29f-462c-98dc-2eaa2fe9f0d6"
      },
      "outputs": [],
      "source": [
        "# токенизация всего текста\n",
        "corpus = [token.lower() for text in cleared_df.posts for token in word_tokenize(text)]\n",
        "print(len(corpus))\n",
        "corpus[:5]"
      ]
    },
    {
      "cell_type": "code",
      "execution_count": null,
      "metadata": {
        "colab": {
          "base_uri": "https://localhost:8080/"
        },
        "id": "Gf7W2u6BwtTs",
        "outputId": "ecb80630-f022-40ba-8b0a-9dd73668d1b6"
      },
      "outputs": [],
      "source": [
        "# 10 самых частых слов\n",
        "fdist_t = FreqDist(corpus)\n",
        "fdist_t.most_common(10)"
      ]
    },
    {
      "cell_type": "code",
      "execution_count": null,
      "metadata": {
        "id": "5Iioy8C6ZARh"
      },
      "outputs": [],
      "source": [
        "# массив из 100 наиболее часто встречающихся слов\n",
        "top_words = []\n",
        "for i in fdist_t.most_common(100):\n",
        "    top_words.append(i)"
      ]
    },
    {
      "cell_type": "code",
      "execution_count": null,
      "metadata": {
        "colab": {
          "base_uri": "https://localhost:8080/"
        },
        "id": "txPv8zzddLky",
        "outputId": "cc3b6143-e218-4be5-f0f1-904b13b34d06"
      },
      "outputs": [],
      "source": [
        "word_freq = [i for i in top_words]\n",
        "wd = WordCloud(background_color = 'white')\n",
        "wd.generate_from_frequencies(dict(word_freq))\n",
        "plt.figure()\n",
        "plt.imshow(wd, interpolation = 'bilinear')\n",
        "plt.axis('off')\n",
        "plt.show()"
      ]
    },
    {
      "cell_type": "code",
      "execution_count": null,
      "metadata": {
        "colab": {
          "base_uri": "https://localhost:8080/"
        },
        "id": "E63_nxMY9YOc",
        "outputId": "1ba51a30-b2cd-4f61-bc2a-b5ac500fbc26"
      },
      "outputs": [],
      "source": [
        "fig, ax = plt.subplots(len(cleared_df['class_MBTI'].unique()), sharex=True, figsize=(15,len(cleared_df['class_MBTI'].unique())))\n",
        "k = 0\n",
        "for i in cleared_df['class_MBTI'].unique():\n",
        "    df_v = cleared_df[cleared_df['class_MBTI'] == i]\n",
        "    wordcloud = WordCloud(max_words=2000, background_color = 'white').generate(df_v['posts'].to_string())\n",
        "    plt.subplot(4,4,k+1)\n",
        "    plt.imshow(wordcloud, interpolation='bilinear')\n",
        "    plt.title(i)\n",
        "    ax[k].axis(\"off\")\n",
        "    k+=1"
      ]
    },
    {
      "cell_type": "markdown",
      "metadata": {
        "id": "btwICIN6DDyO"
      },
      "source": [
        "## Обучение разные подходы"
      ]
    },
    {
      "cell_type": "markdown",
      "metadata": {
        "id": "lxVp1odwyQOU"
      },
      "source": [
        "### обучение с помощью sklearn (+разные векторизации)"
      ]
    },
    {
      "cell_type": "code",
      "execution_count": null,
      "metadata": {
        "colab": {
          "base_uri": "https://localhost:8080/",
          "height": 424
        },
        "id": "BqE7K3Tuyjuz",
        "outputId": "fb81802b-e67f-4bbf-d814-2e28f8f59f6c"
      },
      "outputs": [],
      "source": [
        "cleared_df"
      ]
    },
    {
      "cell_type": "code",
      "execution_count": null,
      "metadata": {
        "colab": {
          "base_uri": "https://localhost:8080/",
          "height": 424
        },
        "id": "Fb0Yn_hT1iak",
        "outputId": "3fde140a-b7e7-4a12-955b-d33fdc432164"
      },
      "outputs": [],
      "source": [
        "# кодировка таргета\n",
        "le = LabelEncoder()\n",
        "\n",
        "# кодировка классов\n",
        "le.fit(cleared_df['class_MBTI'])\n",
        "cleared_df['label_cls'] =  le.transform(cleared_df['class_MBTI'])\n",
        "\n",
        "# кодировка типов\n",
        "le.fit(cleared_df['common_type'])\n",
        "cleared_df['label_type'] =  le.transform(cleared_df['common_type'])\n",
        "\n",
        "cleared_df"
      ]
    },
    {
      "cell_type": "code",
      "execution_count": null,
      "metadata": {
        "colab": {
          "base_uri": "https://localhost:8080/"
        },
        "id": "kp14pIk-e3wk",
        "outputId": "203621fe-fab8-4de9-9f84-a63e8931e268"
      },
      "outputs": [],
      "source": [
        "cleared_df['label_cls'].value_counts()"
      ]
    },
    {
      "cell_type": "code",
      "execution_count": null,
      "metadata": {
        "colab": {
          "base_uri": "https://localhost:8080/"
        },
        "id": "m2o5YOa1w18u",
        "outputId": "72fdc4b2-fd3d-4d51-cc74-715ff3d31c90"
      },
      "outputs": [],
      "source": [
        "# векторизация постов и подготовка признаков и метки\n",
        "# vect = CountVectorizer() # показал хуже результат\n",
        "# X =  vect.fit_transform(cleared_df.prep_posts)\n",
        "\n",
        "tfidf = TfidfVectorizer(ngram_range=(1, 1), stop_words='english', analyzer = 'word')\n",
        "X = tfidf.fit_transform(cleared_df.posts)\n",
        "\n",
        "print(X.shape)"
      ]
    },
    {
      "cell_type": "markdown",
      "metadata": {
        "id": "pRAUEkBTjlpg"
      },
      "source": [
        "#### обучение на векторах Tf-IDF\n",
        "(SGDClassifier/LogisticRegressor/RandomForest/XGBClassifier/SVC)\n",
        "\n",
        "Добавляю в сравнение DummyClassifier для того, чтобы откаллиброваться насколько правдиво выглядят другие метрики"
      ]
    },
    {
      "cell_type": "code",
      "execution_count": null,
      "metadata": {
        "id": "Z57asXMU8vfr"
      },
      "outputs": [],
      "source": [
        "models = [\n",
        "    RandomForestClassifier(n_estimators=100, random_state = 42),\n",
        "    LogisticRegression(C = 10, max_iter = 100, class_weight='balanced', random_state = 42),\n",
        "    DummyClassifier(strategy=\"prior\", random_state = 42),\n",
        "    SGDClassifier(alpha=0.001, loss='log_loss', tol = 0.0004, epsilon=0.01, max_iter=10, class_weight='balanced', learning_rate = 'optimal', shuffle = False, random_state=42),\n",
        "    SVC(kernel = 'linear', gamma = 'scale', class_weight='balanced', random_state = 42),\n",
        "    XGBClassifier(n_estimators = 200, max_depth = 2, nthread = 8, learning_rate = 0.2)\n",
        "    ]"
      ]
    },
    {
      "cell_type": "code",
      "execution_count": null,
      "metadata": {
        "id": "uZH6TGbe6nHF"
      },
      "outputs": [],
      "source": [
        "# функция для обучения нескольких моделей с сохранением результата в датафрейм\n",
        "def train_regress(models):\n",
        "\n",
        "    score = {}\n",
        "    # score_a_p = []\n",
        "    for model in models:\n",
        "        score_a_p = []\n",
        "\n",
        "        model.fit(X_train, y_train)\n",
        "        pred = model.predict(X_test)\n",
        "        predictions = [round(el) for el in pred]\n",
        "        accuracy = accuracy_score(y_test, predictions)\n",
        "        precision = precision_score(y_test, pred, average='weighted')\n",
        "        name = re.findall(r'\\w+\\(', str(model))\n",
        "        name = str(name[0].split('(')[0])\n",
        "        score_a_p.append(accuracy)\n",
        "        score_a_p.append(precision)\n",
        "        score[name] = score_a_p\n",
        "        # print(score)\n",
        "\n",
        "    result = pd.DataFrame.from_dict(score, orient='index').reset_index()\n",
        "    result['model'] = result['index']\n",
        "    result['accuracy'] = result[0]\n",
        "    result['precision'] = result[1]\n",
        "    result = result.drop(columns=[0, 1, 'index'])\n",
        "    result = result.sort_values(by = ['accuracy'], ascending = False)\n",
        "    result\n",
        "\n",
        "    return result"
      ]
    },
    {
      "cell_type": "code",
      "execution_count": null,
      "metadata": {
        "colab": {
          "base_uri": "https://localhost:8080/"
        },
        "id": "Detr-9yGvs0_",
        "outputId": "2585af9a-13cf-422c-b42c-494eb6f63882"
      },
      "outputs": [],
      "source": [
        "y = cleared_df.label_cls # обучение деление по классам\n",
        "# разделение на выборки для передачи данных в модель\n",
        "X_train, X_test, y_train, y_test = train_test_split(X, y, test_size=0.2, random_state=42)\n",
        "print ((X_train.shape),(y_train.shape),(X_test.shape),(y_test.shape))"
      ]
    },
    {
      "cell_type": "code",
      "execution_count": null,
      "metadata": {
        "id": "UNFussGD7jxm"
      },
      "outputs": [],
      "source": [
        "df1_res = train_regress(models)"
      ]
    },
    {
      "cell_type": "code",
      "execution_count": null,
      "metadata": {
        "colab": {
          "base_uri": "https://localhost:8080/",
          "height": 238
        },
        "id": "cG2uGw7v7wfJ",
        "outputId": "d4d5f8db-2b59-45a2-b3d4-48a71d670e46"
      },
      "outputs": [],
      "source": [
        "# сравнительные результаты 5 моделей / 16 классов / tf-idf\n",
        "df1_res"
      ]
    },
    {
      "cell_type": "code",
      "execution_count": null,
      "metadata": {
        "colab": {
          "base_uri": "https://localhost:8080/",
          "height": 490
        },
        "id": "MvbCqpsoV72h",
        "outputId": "c2ead514-377c-407a-c0f9-ad67111cc1e8"
      },
      "outputs": [],
      "source": [
        "ax = df1_res.plot.bar(x='model', y = ['accuracy' , 'precision'], rot=30, figsize = (7,4), title='сравнение результатов моделей 16 классов tf-idf',\n",
        "                     xlabel='модель',\n",
        "                     ylabel='значение метрики', grid = True)\n",
        "plt.legend(loc='lower left', prop={'size': 8 });\n"
      ]
    },
    {
      "cell_type": "markdown",
      "metadata": {
        "id": "VNT1U-lFzurD"
      },
      "source": [
        "По метрике precision лучший результат у LogisticRegression() - 0.319614 по accuracy 0.340842"
      ]
    },
    {
      "cell_type": "code",
      "execution_count": null,
      "metadata": {
        "colab": {
          "base_uri": "https://localhost:8080/"
        },
        "id": "4wIIUybWgAXV",
        "outputId": "34ed5c3e-ea73-4b23-ce8e-9a41c61d0a3c"
      },
      "outputs": [],
      "source": [
        "y = cleared_df.label_type # обучение деление по типам\n",
        "X_train, X_test, y_train, y_test = train_test_split(X, y, test_size=0.2, random_state=42)\n",
        "print ((X_train.shape),(y_train.shape),(X_test.shape),(y_test.shape))"
      ]
    },
    {
      "cell_type": "code",
      "execution_count": null,
      "metadata": {
        "colab": {
          "base_uri": "https://localhost:8080/",
          "height": 238
        },
        "id": "Ad3qOzIe8HOk",
        "outputId": "50c83829-35aa-4983-c6b6-65427a9e562b"
      },
      "outputs": [],
      "source": [
        "# сравнительные результаты 5 моделей / 4 класса / tf-idf\n",
        "df2_res = train_regress(models)\n",
        "df2_res"
      ]
    },
    {
      "cell_type": "code",
      "execution_count": null,
      "metadata": {
        "colab": {
          "base_uri": "https://localhost:8080/",
          "height": 490
        },
        "id": "pZlx-DFt8Px-",
        "outputId": "e8c4e87d-3a3a-4262-eaa5-b766f7b0a778"
      },
      "outputs": [],
      "source": [
        "ax = df2_res.plot.bar(x='model', y= ['accuracy' , 'precision'], rot=30, figsize = (7,4), title='сравнение результатов моделей 4 класса tf-idf',\n",
        "                     xlabel='модель',\n",
        "                     ylabel='значение метрики', grid = True)\n",
        "plt.legend(loc='lower left', prop={'size': 8 });"
      ]
    },
    {
      "cell_type": "markdown",
      "metadata": {
        "id": "LuY1H8iO0mKE"
      },
      "source": [
        "Лучший результат - accuracy: SVC - 0.660344, precision: SGDClassifier -\t0.664442"
      ]
    },
    {
      "cell_type": "code",
      "execution_count": null,
      "metadata": {
        "colab": {
          "base_uri": "https://localhost:8080/",
          "height": 798
        },
        "id": "Bb8VF50dqG71",
        "outputId": "c5036f61-f3b8-4c3e-a217-80d6e9caab13"
      },
      "outputs": [],
      "source": [
        "# Вывод всех результатов по tf-idf обучению\n",
        "\n",
        "df_1_2_acc = pd.DataFrame({'model': df1_res.sort_values(by = ['model']).model.values, 'acc_16': df1_res.sort_values(by = ['model']).accuracy.values,\n",
        "                           'acc_4': df2_res.sort_values(by = ['model']).accuracy.values})\n",
        "\n",
        "df_1_2_prec = pd.DataFrame({'model': df1_res.sort_values(by = ['model']).model.values, 'prec_16': df1_res.sort_values(by = ['model']).precision.values,\n",
        "                           'prec_4': df2_res.sort_values(by = ['model']).precision.values})\n",
        "\n",
        "plt.figure(figsize=(15, 8))\n",
        "\n",
        "plt.subplot(1, 2, 1)\n",
        "# определяем кол-во делений\n",
        "n_ticks = np.arange(6)\n",
        "# определяем сдвиг\n",
        "offset = 0.2\n",
        "# определяем ширину столбцов\n",
        "w = 0.4\n",
        "\n",
        "# добавляем сдвиг к кол-ву делений\n",
        "plt.bar(n_ticks - offset, df_1_2_acc.acc_4, width=w)\n",
        "plt.bar(n_ticks + offset, df_1_2_acc.acc_16, width=w)\n",
        "\n",
        "plt.title('Распеределение accuracy результатов разных моделей (tf-idf)')\n",
        "plt.xlabel('model')\n",
        "plt.ylabel('col')\n",
        "plt.legend(['4 типа', '16 классов'])\n",
        "plt.xticks(n_ticks, df_1_2_acc['model'], rotation = 30)  # добавляем метки делений\n",
        "plt.grid()\n",
        "\n",
        "plt.subplot(1, 2, 2)\n",
        "# определяем кол-во делений\n",
        "n_ticks = np.arange(6)\n",
        "# определяем сдвиг\n",
        "offset = 0.2\n",
        "# определяем ширину столбцов\n",
        "w = 0.4\n",
        "\n",
        "# добавляем сдвиг к кол-ву делений\n",
        "plt.bar(n_ticks - offset, df_1_2_prec.prec_4, width=w)\n",
        "plt.bar(n_ticks + offset, df_1_2_prec.prec_16, width=w)\n",
        "\n",
        "plt.title('Распеределение precision результатов разных моделей (tf-idf)')\n",
        "plt.xlabel('model')\n",
        "plt.ylabel('col')\n",
        "plt.legend(['4 типа', '16 классов'])\n",
        "plt.xticks(n_ticks, df_1_2_prec['model'], rotation = 30)  # добавляем метки делений\n",
        "plt.grid()\n",
        "\n",
        "plt.show()"
      ]
    },
    {
      "cell_type": "markdown",
      "metadata": {
        "id": "YID_gxNhsfAF"
      },
      "source": [
        "Для  итовой модели на данном этапе лидирует precision: SGDClassifier - 0.67"
      ]
    },
    {
      "cell_type": "markdown",
      "metadata": {
        "id": "501Wh-lxeBA7"
      },
      "source": [
        "#### обучение на w2v"
      ]
    },
    {
      "cell_type": "code",
      "execution_count": null,
      "metadata": {
        "id": "ld4_AZ0It0gJ"
      },
      "outputs": [],
      "source": [
        "# токенизация\n",
        "repliks = []\n",
        "for el in words:\n",
        "    sentences = nltk.sent_tokenize(el, language=\"english\")\n",
        "    for sentence in sentences:\n",
        "        tokens = nltk.word_tokenize(sentence)\n",
        "        repliks.append(tokens)"
      ]
    },
    {
      "cell_type": "code",
      "execution_count": null,
      "metadata": {
        "colab": {
          "base_uri": "https://localhost:8080/"
        },
        "id": "Kt9wpxNawxPw",
        "outputId": "e5b46e5f-32b5-4a5a-d777-780fe58eef3f"
      },
      "outputs": [],
      "source": [
        "%time  model_w2v = Word2Vec(repliks, workers=4, vector_size=300, min_count=5, window=10)\n"
      ]
    },
    {
      "cell_type": "code",
      "execution_count": null,
      "metadata": {
        "colab": {
          "base_uri": "https://localhost:8080/"
        },
        "id": "00s1nIQTd4AZ",
        "outputId": "a248b556-c9c0-4eca-e4d5-45b80ffcb52f"
      },
      "outputs": [],
      "source": [
        "model_w2v.build_vocab(repliks) # построение словаря\n",
        "model_w2v.train(repliks, total_examples=model_w2v.corpus_count, epochs=model_w2v.epochs)"
      ]
    },
    {
      "cell_type": "code",
      "execution_count": null,
      "metadata": {
        "colab": {
          "base_uri": "https://localhost:8080/"
        },
        "id": "_ubWZt7k9seP",
        "outputId": "2c6bb21c-88a6-49b0-a744-2f3f75ea2b2b"
      },
      "outputs": [],
      "source": [
        "vocab_len = len(model_w2v.wv) # длина словаря\n",
        "vocab_len"
      ]
    },
    {
      "cell_type": "code",
      "execution_count": null,
      "metadata": {
        "colab": {
          "base_uri": "https://localhost:8080/"
        },
        "id": "37Gos71MyU9S",
        "outputId": "1522fb85-ae83-4076-c669-0a14d2337aaa"
      },
      "outputs": [],
      "source": [
        "# вывод близких слов\n",
        "model_w2v.wv.most_similar(positive=[\"think\"], topn=5)"
      ]
    },
    {
      "cell_type": "code",
      "execution_count": null,
      "metadata": {
        "id": "v0pR1UyV2eKa"
      },
      "outputs": [],
      "source": [
        "# model_w2v.wv.get_vector('consider')"
      ]
    },
    {
      "cell_type": "code",
      "execution_count": null,
      "metadata": {
        "colab": {
          "base_uri": "https://localhost:8080/"
        },
        "id": "dl9_iaoH_pLg",
        "outputId": "5d842cc4-ded9-4d45-f1eb-bec2e162b88a"
      },
      "outputs": [],
      "source": [
        "# проверка модели и словаря\n",
        "print(model_w2v.wv.most_similar(positive=[\"moments\", \"girl\"], negative=[\"moments\"], topn=1))\n",
        "print(model_w2v.wv.most_similar(\"america\", topn=3))\n",
        "print(model_w2v.wv.doesnt_match(\"comedy thriller western novel\".split()))"
      ]
    },
    {
      "cell_type": "markdown",
      "metadata": {
        "id": "2tDBupZeztbG"
      },
      "source": [
        "#### Визуализация с помощью TNSE близких слов"
      ]
    },
    {
      "cell_type": "code",
      "execution_count": null,
      "metadata": {
        "id": "UPscw_hv0AXR"
      },
      "outputs": [],
      "source": [
        "from nltk import FreqDist\n",
        "from sklearn.manifold import TSNE"
      ]
    },
    {
      "cell_type": "code",
      "execution_count": null,
      "metadata": {
        "id": "JJ1BOXvoZUpZ"
      },
      "outputs": [],
      "source": [
        "fd = FreqDist() # определение частотности\n",
        "top_words = []\n",
        "top_only_words = []\n",
        "\n",
        "# создание массива с 100 топ-слов\n",
        "for text in repliks:\n",
        "    fd.update(text)\n",
        "for i in fd.most_common(100):\n",
        "    top_words.append(i)\n",
        "    top_only_words.append(i[0])"
      ]
    },
    {
      "cell_type": "code",
      "execution_count": null,
      "metadata": {
        "id": "KtnlazI3gOKV"
      },
      "outputs": [],
      "source": [
        "top_words_vec = model_w2v.wv[top_only_words]\n",
        "tsne = TSNE(n_components=2, random_state=0)\n",
        "top_words_tsne = tsne.fit_transform(top_words_vec)"
      ]
    },
    {
      "cell_type": "code",
      "execution_count": null,
      "metadata": {
        "colab": {
          "base_uri": "https://localhost:8080/"
        },
        "id": "DzV4-BytfjFf",
        "outputId": "46a18c38-70a4-4212-fe89-61f6dcf9e509"
      },
      "outputs": [],
      "source": [
        "# https://docs.bokeh.org/en/latest/\n",
        "from bokeh.models import ColumnDataSource, LabelSet\n",
        "from bokeh.plotting import figure, show, output_file\n",
        "from bokeh.io import output_notebook\n",
        "output_notebook()\n",
        "\n",
        "p = figure(title=\"T-SNE для топ-100\")\n",
        "\n",
        "\n",
        "source = ColumnDataSource(\n",
        "    data=dict(\n",
        "        x1=top_words_tsne[:,0],\n",
        "        x2=top_words_tsne[:,1],\n",
        "        names=top_only_words))\n",
        "\n",
        "p.scatter(\n",
        "    x=\"x1\",\n",
        "    y=\"x2\",\n",
        "    size=5,\n",
        "    source=source)\n",
        "\n",
        "labels = LabelSet(\n",
        "    x=\"x1\",\n",
        "    y=\"x2\",\n",
        "    text=\"names\",\n",
        "    y_offset=6,\n",
        "    text_font_size=\"5pt\",\n",
        "    text_color=\"#555555\",\n",
        "    source=source,\n",
        "    text_align='center')\n",
        "\n",
        "p.add_layout(labels)\n",
        "show(p)"
      ]
    },
    {
      "cell_type": "markdown",
      "metadata": {
        "id": "G8Udf18CeB9p"
      },
      "source": [
        "#### обучение с помощью sklearn на эмбедингах w2vec"
      ]
    },
    {
      "cell_type": "code",
      "execution_count": null,
      "metadata": {
        "id": "nonFoQQOd_rl"
      },
      "outputs": [],
      "source": [
        "# создание эмбеддингов\n",
        "def get_text_embedding(text):\n",
        "    result = []\n",
        "    for word in word_tokenize(text.lower()):\n",
        "        if word in model_w2v.wv:\n",
        "            result.append(model_w2v.wv[word])\n",
        "\n",
        "    if len(result):\n",
        "        result = np.average(result, axis=0)\n",
        "    else:\n",
        "        result = np.zeros(300)\n",
        "    return result"
      ]
    },
    {
      "cell_type": "code",
      "execution_count": null,
      "metadata": {
        "colab": {
          "base_uri": "https://localhost:8080/"
        },
        "id": "wWxzadXktx_6",
        "outputId": "a8ba7e3c-92ef-416d-d7c9-5ed13c7fe124"
      },
      "outputs": [],
      "source": [
        "features = [get_text_embedding(text) for text in tqdm(cleared_df.prep_posts.values)]"
      ]
    },
    {
      "cell_type": "code",
      "execution_count": null,
      "metadata": {
        "colab": {
          "base_uri": "https://localhost:8080/"
        },
        "id": "5UIjucA0eM4z",
        "outputId": "f8193708-2a40-4e01-b0e0-195c427de9b9"
      },
      "outputs": [],
      "source": [
        "# 16 классов\n",
        "X_train, X_test, y_train, y_test = train_test_split(features, cleared_df.label_cls.values, test_size=0.20, random_state=42)\n",
        "print (' train:', len(X_train), len(y_train), '\\n', 'test:', len(X_test),len(y_test))"
      ]
    },
    {
      "cell_type": "code",
      "execution_count": null,
      "metadata": {
        "colab": {
          "base_uri": "https://localhost:8080/",
          "height": 238
        },
        "id": "zxEMQY2I-8c4",
        "outputId": "26d67e4d-11ae-468f-d416-349dcf1d44f9"
      },
      "outputs": [],
      "source": [
        "# сравнительные результаты 5 моделей / 16 классов / w2vec\n",
        "\n",
        "df3_res = train_regress(models)\n",
        "df3_res"
      ]
    },
    {
      "cell_type": "code",
      "execution_count": null,
      "metadata": {
        "colab": {
          "base_uri": "https://localhost:8080/",
          "height": 490
        },
        "id": "DAjDzO-6A-mC",
        "outputId": "cfc98535-6bae-4678-fe71-6ccd78fd5f43"
      },
      "outputs": [],
      "source": [
        "ax = df3_res.plot.bar(x='model', y = ['accuracy' , 'precision'], rot=30, figsize = (7,4), title='сравнение результатов моделей 16 классов w2vec',\n",
        "                     xlabel='модель',\n",
        "                     ylabel='значение метрики', grid = True)\n",
        "plt.legend(loc='lower left', prop={'size': 8 });"
      ]
    },
    {
      "cell_type": "code",
      "execution_count": null,
      "metadata": {
        "colab": {
          "base_uri": "https://localhost:8080/"
        },
        "id": "10kxw5fuu1Fr",
        "outputId": "aa5bbebb-8614-45e5-9fe2-cfea8338c3e4"
      },
      "outputs": [],
      "source": [
        "# 4 класса\n",
        "X_train, X_test, y_train, y_test = train_test_split(features, cleared_df.label_type.values, test_size=0.20, random_state=42)\n",
        "print (' train:', len(X_train), len(y_train), '\\n', 'test:', len(X_test),len(y_test))"
      ]
    },
    {
      "cell_type": "code",
      "execution_count": null,
      "metadata": {
        "colab": {
          "base_uri": "https://localhost:8080/",
          "height": 238
        },
        "id": "7idPF0w1vKKW",
        "outputId": "4fde01b7-3f73-4983-8220-3cf2c83f1ec5"
      },
      "outputs": [],
      "source": [
        "# сравнительные результаты 5 моделей / 4 типа / w2vec\n",
        "\n",
        "df4_res = train_regress(models)\n",
        "df4_res"
      ]
    },
    {
      "cell_type": "code",
      "execution_count": null,
      "metadata": {
        "colab": {
          "base_uri": "https://localhost:8080/",
          "height": 490
        },
        "id": "lUpdFdBhQb6P",
        "outputId": "833439d6-4391-4cec-d5da-50c3c321552c"
      },
      "outputs": [],
      "source": [
        "ax = df4_res.plot.bar(x='model', y = ['accuracy' , 'precision'], rot=30, figsize = (7,4), title='сравнение результатов моделей 4 класса w2vec',\n",
        "                     xlabel='модель',\n",
        "                     ylabel='значение метрики', grid = True)\n",
        "plt.legend(loc='lower left', prop={'size': 8 });"
      ]
    },
    {
      "cell_type": "code",
      "execution_count": null,
      "metadata": {
        "id": "gJVZlabssqvl"
      },
      "outputs": [],
      "source": []
    },
    {
      "cell_type": "code",
      "execution_count": null,
      "metadata": {
        "colab": {
          "base_uri": "https://localhost:8080/",
          "height": 798
        },
        "id": "NlF3ldfnoQZZ",
        "outputId": "da0820cc-dbc4-4cce-dd1f-34ca2f32e8ac"
      },
      "outputs": [],
      "source": [
        "# Вывод всех результатов по w2vec обучению\n",
        "\n",
        "df_3_4_acc = pd.DataFrame({'model': df3_res.sort_values(by = ['model']).model.values, 'acc_16': df3_res.sort_values(by = ['model']).accuracy.values,\n",
        "                           'acc_4': df4_res.sort_values(by = ['model']).accuracy.values})\n",
        "\n",
        "df_3_4_prec = pd.DataFrame({'model': df3_res.sort_values(by = ['model']).model.values, 'prec_16': df3_res.sort_values(by = ['model']).precision.values,\n",
        "                           'prec_4': df4_res.sort_values(by = ['model']).precision.values})\n",
        "\n",
        "plt.figure(figsize=(15, 8))\n",
        "\n",
        "plt.subplot(1, 2, 1)\n",
        "# определяем кол-во делений\n",
        "n_ticks = np.arange(6)\n",
        "# определяем сдвиг\n",
        "offset = 0.2\n",
        "# определяем ширину столбцов\n",
        "w = 0.4\n",
        "\n",
        "# добавляем сдвиг к кол-ву делений\n",
        "plt.bar(n_ticks - offset, df_3_4_acc.acc_4, width=w)\n",
        "plt.bar(n_ticks + offset, df_3_4_acc.acc_16, width=w)\n",
        "\n",
        "plt.title('Распеределение accuracy результатов разных моделей (w2vec)')\n",
        "plt.xlabel('model')\n",
        "plt.ylabel('col')\n",
        "plt.legend(['4 типа', '16 классов'])\n",
        "plt.xticks(n_ticks, df_3_4_acc['model'], rotation = 30)  # добавляем метки делений\n",
        "plt.grid()\n",
        "\n",
        "plt.subplot(1, 2, 2)\n",
        "# определяем кол-во делений\n",
        "n_ticks = np.arange(6)\n",
        "# определяем сдвиг\n",
        "offset = 0.2\n",
        "# определяем ширину столбцов\n",
        "w = 0.4\n",
        "\n",
        "# добавляем сдвиг к кол-ву делений\n",
        "plt.bar(n_ticks - offset, df_3_4_prec.prec_4, width=w)\n",
        "plt.bar(n_ticks + offset, df_3_4_prec.prec_16, width=w)\n",
        "\n",
        "plt.title('Распеределение precision результатов разных моделей (w2vec)')\n",
        "plt.xlabel('model')\n",
        "plt.ylabel('col')\n",
        "plt.legend(['4 типа', '16 классов'])\n",
        "plt.xticks(n_ticks, df_3_4_prec['model'], rotation = 30)  # добавляем метки делений\n",
        "plt.grid()\n",
        "\n",
        "plt.show()"
      ]
    },
    {
      "cell_type": "markdown",
      "metadata": {
        "id": "sFNJcLBssq79"
      },
      "source": [
        "Сравнение значений метрики presision для 4-х видов обучения только по precision"
      ]
    },
    {
      "cell_type": "code",
      "execution_count": null,
      "metadata": {
        "colab": {
          "base_uri": "https://localhost:8080/",
          "height": 238
        },
        "id": "lUvGxTKcHsoC",
        "outputId": "90c24c58-ed69-4248-a071-a54c96bee470"
      },
      "outputs": [],
      "source": [
        "# датасет сравнение 4-х способов обучения\n",
        "\n",
        "df_result = pd.DataFrame({ 'model': df1_res.sort_values(by = ['model']).model.values,'presision_tfidf_16': df1_res.sort_values(by = ['model']).precision.values, 'presision_w2v_16': df3_res.sort_values(by = ['model']).precision.values, 'presision_tfidf_4': df2_res.sort_values(by = ['model']).precision.values, 'presision_w2v_4': df4_res.sort_values(by = ['model']).precision.values})\n",
        "df_result"
      ]
    },
    {
      "cell_type": "code",
      "execution_count": null,
      "metadata": {
        "colab": {
          "base_uri": "https://localhost:8080/",
          "height": 490
        },
        "id": "trgnML8EdldU",
        "outputId": "9ccd95c7-6dea-4a98-ceae-fd123330e7b1"
      },
      "outputs": [],
      "source": [
        "ax = df_result.plot.bar(x='model', y = ['presision_tfidf_16', 'presision_w2v_16', 'presision_tfidf_4', 'presision_w2v_4'], rot=30, figsize = (10,4),\n",
        "                        title='Распеределение precision разных моделей',\n",
        "                     xlabel='модель', legend = 'left',\n",
        "                     ylabel='значение метрики', grid = True)\n",
        "plt.legend(loc='upper left', prop={'size': 8 });"
      ]
    },
    {
      "cell_type": "markdown",
      "metadata": {
        "id": "HTemA2F5KATw"
      },
      "source": [
        "Мы видим, что лучший результат получился при обучении Tf-Idf векторов на 4 типа личности, лучший результат дала модель SGDClassifier\n",
        "precision - 0.67, эту модель беру в качестве рабочей на данном этапе"
      ]
    },
    {
      "cell_type": "code",
      "execution_count": null,
      "metadata": {
        "colab": {
          "base_uri": "https://localhost:8080/"
        },
        "id": "0bov0KHu2vXv",
        "outputId": "e62e6b0b-d5f7-4e0d-9c4a-e36b94581292"
      },
      "outputs": [],
      "source": [
        "df_result.info()"
      ]
    },
    {
      "cell_type": "markdown",
      "metadata": {
        "id": "VAkZ6eAAeNS8"
      },
      "source": [
        "### обучение с помощью GRU на pytorch на эмбедингах w2vec"
      ]
    },
    {
      "cell_type": "code",
      "execution_count": null,
      "metadata": {
        "colab": {
          "base_uri": "https://localhost:8080/",
          "height": 424
        },
        "id": "4z9YVeanNoQl",
        "outputId": "8d305d9d-7ef8-4dfd-ed53-18fef06a0da0"
      },
      "outputs": [],
      "source": [
        "cleared_df"
      ]
    },
    {
      "cell_type": "code",
      "execution_count": null,
      "metadata": {
        "id": "yUbMQEcOJVyU"
      },
      "outputs": [],
      "source": [
        "token_lists = [word_tokenize(text.lower()) for text in cleared_df.prep_posts.values]\n",
        "max_len = len(max(token_lists, key=len))"
      ]
    },
    {
      "cell_type": "code",
      "execution_count": null,
      "metadata": {
        "id": "JLLP0NgyrcOO"
      },
      "outputs": [],
      "source": [
        "# Создание эмбеддинга c длиной предложнения 100\n",
        "def get_word_embedding(tokens, max_len):\n",
        "    result = []\n",
        "    for i in range(max_len):\n",
        "        if i < len(tokens):\n",
        "            word = tokens[i]\n",
        "            if word in model_w2v.wv:\n",
        "                result.append(model_w2v.wv[word])\n",
        "            else:\n",
        "                result.append(np.zeros(300))\n",
        "        else:\n",
        "            result.append(np.zeros(300))\n",
        "    return result"
      ]
    },
    {
      "cell_type": "code",
      "execution_count": null,
      "metadata": {
        "colab": {
          "base_uri": "https://localhost:8080/"
        },
        "id": "0251XqlDrg23",
        "outputId": "58f2701c-8ff6-42b8-f6a2-d9d4acb3cee6"
      },
      "outputs": [],
      "source": [
        "features = [get_word_embedding(text, 100) for text in tqdm(token_lists)]\n",
        "# мы получили массив из векторов длиной в 100 (каждый элемент - это слово переведенное в w2v-вектор длиной 300)"
      ]
    },
    {
      "cell_type": "code",
      "execution_count": null,
      "metadata": {
        "id": "IvqOPtyOAEug"
      },
      "outputs": [],
      "source": [
        "y = cleared_df.label_type.values # обучение деление по типам"
      ]
    },
    {
      "cell_type": "code",
      "execution_count": null,
      "metadata": {
        "id": "sgnertgi_TMI"
      },
      "outputs": [],
      "source": [
        "device = torch.device('cuda' if torch.cuda.is_available() else 'cpu')"
      ]
    },
    {
      "cell_type": "markdown",
      "metadata": {
        "id": "R8x4HCgskoOx"
      },
      "source": [
        "#### Создание датасета и даталоадера"
      ]
    },
    {
      "cell_type": "code",
      "execution_count": null,
      "metadata": {
        "id": "K-_0rN76Y-rl"
      },
      "outputs": [],
      "source": [
        "from torch.utils.data import TensorDataset, DataLoader"
      ]
    },
    {
      "cell_type": "code",
      "execution_count": null,
      "metadata": {
        "id": "yXOb-LZTlwEJ"
      },
      "outputs": [],
      "source": [
        "# # разделение на тест и трэйн\n",
        "X_train, X_test, y_train, y_test = train_test_split(features, y, test_size=0.20, random_state=42)"
      ]
    },
    {
      "cell_type": "code",
      "execution_count": null,
      "metadata": {
        "id": "gRTHy31tWPnP"
      },
      "outputs": [],
      "source": [
        "# создание датасета\n",
        "class dataset(Dataset):\n",
        "\n",
        "    def __init__(self, features, labels):\n",
        "        # Initialize data, download, etc.\n",
        "\n",
        "        x = np.asarray(features) # np массив с признаками (в данном случае вектора w2v)\n",
        "        self.y = np.asarray(labels)\n",
        "        self.n_samples = x.shape[0]\n",
        "\n",
        "        # here the first column is the class label, the rest are the features\n",
        "        self.x_data = torch.tensor(x, dtype = torch.float32) # перевод в тензор torch признаков\n",
        "        self.y_data = torch.tensor(y) # перевод в тензор torch таргет\n",
        "        self.y_data = self.y_data\n",
        "\n",
        "    # support indexing such that dataset[i] can be used to get i-th sample\n",
        "    def __getitem__(self, index):\n",
        "        return self.x_data[index], self.y_data[index] # индексация данных\n",
        "\n",
        "    # we can call len(dataset) to return the size\n",
        "    def __len__(self):\n",
        "        return self.n_samples # количество элементов в датасете"
      ]
    },
    {
      "cell_type": "code",
      "execution_count": null,
      "metadata": {
        "id": "-VsfXPeNWWux"
      },
      "outputs": [],
      "source": [
        "dataset_train = dataset(X_train, y_train)\n",
        "dataset_test = dataset(X_test, y_test)"
      ]
    },
    {
      "cell_type": "code",
      "execution_count": null,
      "metadata": {
        "colab": {
          "base_uri": "https://localhost:8080/"
        },
        "id": "MshASyvAfV7A",
        "outputId": "5a3bb92f-22e8-44ab-aa57-deea405dd909"
      },
      "outputs": [],
      "source": [
        "print(len(dataset_train))\n",
        "print(len(dataset_test))"
      ]
    },
    {
      "cell_type": "code",
      "execution_count": null,
      "metadata": {
        "id": "IKU9wsrPwYMq"
      },
      "outputs": [],
      "source": [
        "first_data = dataset_train[0]\n",
        "features, labels = first_data\n",
        "labels = labels.reshape(1)\n",
        "print(features, '\\n', labels)"
      ]
    },
    {
      "cell_type": "code",
      "execution_count": null,
      "metadata": {
        "colab": {
          "base_uri": "https://localhost:8080/"
        },
        "id": "DRpgCRra5KO6",
        "outputId": "a0ba3ebb-1d8d-4fd3-9f67-cf43fd7ba089"
      },
      "outputs": [],
      "source": [
        "print(features.shape, labels.shape)"
      ]
    },
    {
      "cell_type": "code",
      "execution_count": null,
      "metadata": {
        "id": "0iumktaVymoU"
      },
      "outputs": [],
      "source": [
        "batch_size = 16\n",
        "# Создание даталоадер\n",
        "train_loader = DataLoader(dataset=dataset_train,\n",
        "                          batch_size=batch_size,\n",
        "                          shuffle=True,\n",
        "                          num_workers=2)\n",
        "\n",
        "test_loader = DataLoader(dataset=dataset_test,\n",
        "                          batch_size=batch_size,\n",
        "                          shuffle=False,\n",
        "                          num_workers=2)"
      ]
    },
    {
      "cell_type": "code",
      "execution_count": null,
      "metadata": {
        "colab": {
          "base_uri": "https://localhost:8080/"
        },
        "id": "YtmHO9LF3-jY",
        "outputId": "2d1cd212-742a-4d1c-a053-4e73b68e14f6"
      },
      "outputs": [],
      "source": [
        "# convert to an iterator and look at one random sample\n",
        "dataiter = iter(train_loader)\n",
        "data = next(dataiter)\n",
        "features, labels = data\n",
        "# print(features, labels)\n",
        "print(features.shape, labels.shape)"
      ]
    },
    {
      "cell_type": "markdown",
      "metadata": {
        "id": "35i0bnX1mAF0"
      },
      "source": [
        "#### класс GRU"
      ]
    },
    {
      "cell_type": "code",
      "execution_count": null,
      "metadata": {
        "id": "vLeh2UeJgGrk"
      },
      "outputs": [],
      "source": [
        "class GRU(nn.Module):\n",
        "    def __init__(self, embed_size, hidden_size):\n",
        "        super().__init__()\n",
        "\n",
        "        self.embed_size = embed_size\n",
        "        self.hidden_size = hidden_size\n",
        "\n",
        "        self.w_rh = nn.Parameter(torch.rand(hidden_size, hidden_size))\n",
        "        self.b_rh = nn.Parameter(torch.rand((1, hidden_size)))\n",
        "        self.w_rx = nn.Parameter(torch.rand(embed_size, hidden_size))\n",
        "        self.b_rx = nn.Parameter(torch.rand(1, hidden_size))\n",
        "\n",
        "        self.w_zh = nn.Parameter(torch.rand(hidden_size, hidden_size))\n",
        "        self.b_zh = nn.Parameter(torch.rand((1, hidden_size)))\n",
        "        self.w_zx = nn.Parameter(torch.rand(embed_size, hidden_size))\n",
        "        self.b_zx = nn.Parameter(torch.rand(1, hidden_size))\n",
        "\n",
        "        self.w_nh = nn.Parameter(torch.rand(hidden_size, hidden_size))\n",
        "        self.b_nh = nn.Parameter(torch.rand((1, hidden_size)))\n",
        "        self.w_nx = nn.Parameter(torch.rand(embed_size, hidden_size))\n",
        "        self.b_nx = nn.Parameter(torch.rand(1, hidden_size))\n",
        "\n",
        "    def forward(self, x, hidden = None):\n",
        "        '''\n",
        "        x – torch.FloatTensor with the shape (bs, *, emb_size)\n",
        "        hidden - torch.FloatTensro with the shape (bs, hidden_size)\n",
        "        return: torch.FloatTensor with the shape (bs, hidden_size)\n",
        "        '''\n",
        "        hidden = torch.zeros((x.size(0), self.hidden_size)).to(x.device) if hidden is None else hidden\n",
        "        for idx in range(x.size(1)):\n",
        "            r = torch.sigmoid(x[:, idx] @ self.w_rx + self.b_rx + hidden @ self.w_rh + self.b_rh)\n",
        "            z = torch.sigmoid(x[:, idx] @ self.w_zx + self.b_zx + hidden @ self.w_zh + self.b_zh)\n",
        "            n = torch.tanh(x[:, idx] @ self.w_zx + self.b_zx + r * (hidden @ self.w_zh + self.b_zh))\n",
        "            hidden = (1 - z) * n + z * hidden\n",
        "        return hidden\n",
        "\n"
      ]
    },
    {
      "cell_type": "code",
      "execution_count": null,
      "metadata": {
        "id": "AUcB1buCgQ-Q"
      },
      "outputs": [],
      "source": [
        "class GRUModel(nn.Module):\n",
        "    def __init__(self, embed_size, hidden_size, num_classes=4):\n",
        "        super().__init__()\n",
        "\n",
        "        self.gru = GRU(embed_size, hidden_size)\n",
        "        self.cls = nn.Linear(hidden_size, num_classes)\n",
        "\n",
        "    def forward(self, x):\n",
        "        hidden = self.gru(x)\n",
        "        output = self.cls(hidden)\n",
        "        return output\n",
        "\n"
      ]
    },
    {
      "cell_type": "code",
      "execution_count": null,
      "metadata": {
        "id": "8g2gKoaTmJru"
      },
      "outputs": [],
      "source": [
        "# функция обучения\n",
        "def training(model, criterion, optimizer, num_epochs, max_grad_norm=0):\n",
        "\n",
        "    loss_h = []\n",
        "    acc_h = []\n",
        "\n",
        "    for e in range(num_epochs):\n",
        "        model.train()\n",
        "        num_iter = 0\n",
        "        pbar = tqdm(train_loader)\n",
        "        for batch in pbar:\n",
        "            input_embeds = batch[0].to(device)\n",
        "            labels = batch[1].to(device)\n",
        "\n",
        "            optimizer.zero_grad()\n",
        "            prediction = model(input_embeds)\n",
        "            loss = criterion(prediction, labels)\n",
        "            loss.backward()\n",
        "            pbar.update(labels.size(0))\n",
        "            if max_grad_norm is not None:\n",
        "                torch.nn.utils.clip_grad_norm_(model.parameters(), max_grad_norm)\n",
        "            optimizer.step()\n",
        "            num_iter += 1\n",
        "        valid_loss = 0\n",
        "        valid_acc = 0\n",
        "        num_iter = 0\n",
        "        model.eval()\n",
        "        with torch.no_grad():\n",
        "            correct = 0\n",
        "            num_objects = 0\n",
        "\n",
        "            for batch in test_loader:\n",
        "                input_embeds = batch[0].to(device)\n",
        "                labels = batch[1].to(device)\n",
        "\n",
        "                prediction = model(input_embeds)\n",
        "                valid_loss += criterion(prediction, labels)\n",
        "\n",
        "                correct += (labels == prediction.argmax(-1)).float().sum()\n",
        "                num_objects += len(labels)\n",
        "\n",
        "                num_iter += 1\n",
        "\n",
        "        l = valid_loss / num_iter\n",
        "        acc = correct / num_objects\n",
        "        print(f\"Valid Loss: {l}, accuracy: {acc}\")\n",
        "\n",
        "        loss_h.append(l.cpu().numpy())\n",
        "        acc_h.append(acc.cpu().numpy())\n",
        "\n",
        "\n",
        "    return loss_h, acc_h"
      ]
    },
    {
      "cell_type": "code",
      "execution_count": null,
      "metadata": {
        "id": "qSKRbncUHif4"
      },
      "outputs": [],
      "source": [
        "# функция отрисовки графиков с результатами обучения\n",
        "\n",
        "def loss_plt(loss, acc):\n",
        "\n",
        "    plt.figure(figsize=(10, 5))\n",
        "\n",
        "    plt.subplot(1, 2, 1)\n",
        "    plt.plot(loss, label = 'val_loss')\n",
        "    plt.legend(fontsize=8)\n",
        "    plt.title(\"Loss GRU\")\n",
        "    plt.grid()\n",
        "    plt.subplot(1, 2, 2)\n",
        "    plt.plot(acc, label = 'val_acc')\n",
        "    plt.legend(fontsize=8)\n",
        "    plt.title(\"Accuracy GRU\")\n",
        "    plt.grid()\n",
        "    plt.show()"
      ]
    },
    {
      "cell_type": "code",
      "execution_count": null,
      "metadata": {
        "colab": {
          "base_uri": "https://localhost:8080/"
        },
        "id": "zu5QCKWcgTwY",
        "outputId": "da19f32e-9cf5-478e-b710-9b19594b28bd"
      },
      "outputs": [],
      "source": [
        "device = \"cuda\" if torch.cuda.is_available() else \"cpu\"\n",
        "\n",
        "model = GRUModel(300, 256).to(device)\n",
        "criterion = nn.CrossEntropyLoss()\n",
        "optimizer = torch.optim.Adam(model.parameters(), lr=1e-2)\n",
        "\n",
        "num_epochs = 5\n",
        "max_grad_norm = 1.0\n",
        "\n",
        "model"
      ]
    },
    {
      "cell_type": "code",
      "execution_count": null,
      "metadata": {
        "colab": {
          "base_uri": "https://localhost:8080/"
        },
        "id": "FbHxYVQGgXoY",
        "outputId": "781bde7e-5491-418a-dcb1-80c6a9fbab40"
      },
      "outputs": [],
      "source": [
        "loss, acc = training(model, criterion, optimizer, num_epochs, max_grad_norm)"
      ]
    },
    {
      "cell_type": "code",
      "execution_count": null,
      "metadata": {
        "colab": {
          "base_uri": "https://localhost:8080/",
          "height": 485
        },
        "id": "z09B0kyvKlJO",
        "outputId": "cb32befd-dd70-4059-f9f0-36ff65c22b1a"
      },
      "outputs": [],
      "source": [
        "loss_plt(loss, acc)"
      ]
    },
    {
      "cell_type": "markdown",
      "metadata": {
        "id": "jSnfDnrTl0wY"
      },
      "source": [
        "### обучение на основе Bert"
      ]
    },
    {
      "cell_type": "code",
      "execution_count": null,
      "metadata": {
        "colab": {
          "base_uri": "https://localhost:8080/"
        },
        "id": "oYsV4H8fCpZ-",
        "outputId": "4948cd40-dd78-4bd1-c0b8-79e52ea90fe5"
      },
      "outputs": [],
      "source": [
        "import torch\n",
        "\n",
        "if torch.cuda.is_available():\n",
        "    device = torch.device(\"cuda\")\n",
        "    print('There are %d GPU(s) available.' % torch.cuda.device_count())\n",
        "    print('We will use the GPU:', torch.cuda.get_device_name(0))\n",
        "else:\n",
        "    print('No GPU available, using the CPU instead.')\n",
        "    device = torch.device(\"cpu\")\n",
        "device"
      ]
    },
    {
      "cell_type": "code",
      "execution_count": null,
      "metadata": {
        "colab": {
          "base_uri": "https://localhost:8080/"
        },
        "id": "0NmMdkZO8R6q",
        "outputId": "7e8df3c8-d232-4527-aad2-54ed293ffe18"
      },
      "outputs": [],
      "source": [
        "!pip install transformers"
      ]
    },
    {
      "cell_type": "code",
      "execution_count": null,
      "metadata": {
        "id": "GuE5BqICAne2"
      },
      "outputs": [],
      "source": [
        "sentences = cleared_df.posts.values\n",
        "labels = cleared_df.label_type.values"
      ]
    },
    {
      "cell_type": "code",
      "execution_count": null,
      "metadata": {
        "colab": {
          "base_uri": "https://localhost:8080/",
          "height": 163,
          "referenced_widgets": [
            "f1260a81efea469fba31b615c09527aa",
            "bd8114a33fbf4841be5e65ef41696cfb",
            "e4da7002f942461bba92e1242f1db432",
            "1360afa7d98f4c5c8551bf160f42214f",
            "291736afb4884d98b150a0d82847e1e9",
            "ad96b4dc4ced4c49932bf5028b28de1a",
            "871bd348aaab4824b460642f0428be0d",
            "f802049c621b44b1a2d06e01580eba5d",
            "d5f33b99c06941cb8b07011626bc45c7",
            "34396c26f53148ed82dcbcdd2a2b69a4",
            "9149668eacc0476c94540cd51614bef7",
            "5dd906d4b5674949b6bf814aba507ff7",
            "e2dc32bfb81a4655a6491857a8283d61",
            "30843303397d4b1787f0b6e16e429ec8",
            "515558a123de4e0483e013a6a1698f91",
            "f0397854369140d1806deb52921755de",
            "1670a5abc29c4dd39b5691595639e00d",
            "8854893231fa488999b624117573059c",
            "edaae4f3fa4a402782aff478807a06f0",
            "38e7bb85722745ffae8b92ff2b9eae30",
            "ab68b0b5e9f347a6b31f9618d45c8c8c",
            "e8ddf478dfa443358e4c0f353a8cce4c",
            "7d043c93841d48e89153e072a3901348",
            "e5eabed539e441d39b0bdae3fecd54d4",
            "746309abe9ba4eb4991494c09d2b294b",
            "6d9248d16e4a4b43a8a5485679b96101",
            "6f9aeee051cd4348872e30bcc8222593",
            "c91b0c71119d4fdc98bb9195721ae834",
            "fd8cec8022fc416c806334203166301e",
            "02bad38ad3f64c43b141f38353d2adb5",
            "666c67f3302d4cc7bb9c5ce94e8600f9",
            "ac9c98e50c9446fb9c7d48813415967b",
            "29ec632ee83c4bd299885c339b93210f",
            "a720bd1567494947ae6f9d8c0a84e063",
            "5bb700c7cc2140a4b7c5d99add2a8a66",
            "059bccee791b439fbad2d252b5f56958",
            "e8363c207a38455cb539dbcf9c8e372b",
            "3879dcd4eb8349328826bb83ec622650",
            "bc3c26b25aa4437e9ba1fae9c9cb8104",
            "4c6a2a66d4604f19bb8f1a14a41d7646",
            "a7b67fb6599547208c878387f229232b",
            "cfb639914df74ffc8554155e31de99fb",
            "684e2191bcd54c7ea8bb08698dc3c5e3",
            "b3303899cbb44ec98828b48499b0a776"
          ]
        },
        "id": "Z474sSC6oe7A",
        "outputId": "b15c677b-72c3-49c3-8339-a083108089d8"
      },
      "outputs": [],
      "source": [
        "# токенезация\n",
        "from transformers import BertTokenizer,AutoTokenizer, AutoModelForMaskedLM,AutoModelForSequenceClassification\n",
        "from transformers import DebertaTokenizer\n",
        "from transformers import RobertaTokenizer, RobertaForSequenceClassification\n",
        "print('Loading BERT tokenizer...')\n",
        "tokenizer = BertTokenizer.from_pretrained('bert-base-uncased', do_lower_case=True)\n",
        "# tokenizer = AutoTokenizer.from_pretrained('distilroberta-base', do_lower_case=True)\n",
        "# tokenizer = AutoTokenizer.from_pretrained('roberta-large', do_lower_case=True)"
      ]
    },
    {
      "cell_type": "code",
      "execution_count": null,
      "metadata": {
        "colab": {
          "base_uri": "https://localhost:8080/"
        },
        "id": "dLIbudgfh6F0",
        "outputId": "8aad6b65-ff7b-4a62-8adf-f80647e5f998"
      },
      "outputs": [],
      "source": [
        "print(' Original: ', sentences[0])\n",
        "\n",
        "print('Tokenized: ', tokenizer.tokenize(sentences[0]))\n",
        "\n",
        "print('Token IDs: ', tokenizer.convert_tokens_to_ids(tokenizer.tokenize(sentences[0])))"
      ]
    },
    {
      "cell_type": "code",
      "execution_count": null,
      "metadata": {
        "colab": {
          "base_uri": "https://localhost:8080/"
        },
        "id": "2bBdb3pt8LuQ",
        "outputId": "26b758a7-71e4-4c58-f871-4096275717bd"
      },
      "outputs": [],
      "source": [
        "input_ids = []\n",
        "attention_masks = []\n",
        "\n",
        "for sent in sentences:\n",
        "    encoded_dict = tokenizer.encode_plus(\n",
        "                        sent,\n",
        "                        add_special_tokens = True,\n",
        "                        max_length = 256,\n",
        "                        truncation = True,\n",
        "                        pad_to_max_length = True,\n",
        "                        return_attention_mask = True,\n",
        "                        return_tensors = 'pt',\n",
        "                   )\n",
        "\n",
        "    input_ids.append(encoded_dict['input_ids'])\n",
        "\n",
        "    attention_masks.append(encoded_dict['attention_mask'])\n",
        "\n",
        "input_ids = torch.cat(input_ids, dim=0)\n",
        "attention_masks = torch.cat(attention_masks, dim=0)\n",
        "labels = torch.tensor(labels)\n",
        "\n",
        "print('Original: ', sentences[0])\n",
        "print('Token IDs:', input_ids[0])"
      ]
    },
    {
      "cell_type": "code",
      "execution_count": null,
      "metadata": {
        "colab": {
          "base_uri": "https://localhost:8080/"
        },
        "id": "GEgLpFVlo1Z-",
        "outputId": "02c47014-5ee7-47cd-dfbf-3213d24a69f9"
      },
      "outputs": [],
      "source": [
        "from torch.utils.data import TensorDataset, random_split\n",
        "\n",
        "dataset = TensorDataset(input_ids, attention_masks, labels)\n",
        "\n",
        "train_size = int(0.9 * len(dataset))\n",
        "val_size = len(dataset) - train_size\n",
        "\n",
        "train_dataset, val_dataset = random_split(dataset, [train_size, val_size])\n",
        "\n",
        "print('{:>5,} training samples'.format(train_size))\n",
        "print('{:>5,} validation samples'.format(val_size))"
      ]
    },
    {
      "cell_type": "code",
      "execution_count": null,
      "metadata": {
        "id": "XGUqOCtgqGhP"
      },
      "outputs": [],
      "source": [
        "from torch.utils.data import DataLoader, RandomSampler, SequentialSampler\n",
        "\n",
        "batch_size = 16\n",
        "\n",
        "\n",
        "train_dataloader = DataLoader(\n",
        "            train_dataset,\n",
        "            sampler = RandomSampler(train_dataset),\n",
        "            batch_size = batch_size\n",
        "        )\n",
        "\n",
        "\n",
        "validation_dataloader = DataLoader(\n",
        "            val_dataset,\n",
        "            sampler = SequentialSampler(val_dataset),\n",
        "            batch_size = batch_size\n",
        "        )"
      ]
    },
    {
      "cell_type": "code",
      "execution_count": null,
      "metadata": {
        "colab": {
          "base_uri": "https://localhost:8080/",
          "height": 908,
          "referenced_widgets": [
            "a0a071e7873d42359f02ba27d7493ccd",
            "47503ecd5af041929ef708d7b3c4424c",
            "0de35488748e43f3ad05d576791c02e6",
            "f65915385a384bf5bfc0e37688e57fba",
            "5efbf13867864792914a814958656c88",
            "92d026e7960b481c87744e85e7780c7a",
            "70dfe8a2acd745339c3d268be05562de",
            "519960728f7340e3ac870db61a4d68a5",
            "f4cc14a06ee04b16a8b137a1a934bc4d",
            "999ab5c58c6a420180e952cd2368a5cd",
            "8981dbad6448442089deccd9d1036c8a"
          ]
        },
        "id": "gFsCTp_mporB",
        "outputId": "362463bf-983c-4ae8-ab68-ecafdaea6ab6"
      },
      "outputs": [],
      "source": [
        "from transformers import BertForSequenceClassification, AdamW, DebertaForSequenceClassification\n",
        "\n",
        "model = BertForSequenceClassification.from_pretrained(\n",
        "    \"bert-base-uncased\",\n",
        "    num_labels = 4,\n",
        "    output_attentions = False,\n",
        "    output_hidden_states = False,\n",
        ")\n",
        "\n",
        "model.cuda()"
      ]
    },
    {
      "cell_type": "code",
      "execution_count": null,
      "metadata": {
        "colab": {
          "base_uri": "https://localhost:8080/"
        },
        "id": "8PIiVlDYCtSq",
        "outputId": "a306a291-8340-4dd0-800f-b69b1e1f04fb"
      },
      "outputs": [],
      "source": [
        "params = list(model.named_parameters())\n",
        "\n",
        "print('The BERT model has {:} different named parameters.\\n'.format(len(params)))\n",
        "\n",
        "print('==== Embedding Layer ====\\n')\n",
        "\n",
        "for p in params[0:5]:\n",
        "    print(\"{:<55} {:>12}\".format(p[0], str(tuple(p[1].size()))))\n",
        "\n",
        "print('\\n==== First Transformer ====\\n')\n",
        "\n",
        "for p in params[5:21]:\n",
        "    print(\"{:<55} {:>12}\".format(p[0], str(tuple(p[1].size()))))\n",
        "\n",
        "print('\\n==== Output Layer ====\\n')\n",
        "\n",
        "for p in params[-4:]:\n",
        "    print(\"{:<55} {:>12}\".format(p[0], str(tuple(p[1].size()))))"
      ]
    },
    {
      "cell_type": "code",
      "execution_count": null,
      "metadata": {
        "id": "GLs72DuMODJO"
      },
      "outputs": [],
      "source": [
        "optimizer = AdamW(model.parameters(),\n",
        "                  lr = 2e-5,\n",
        "                  eps = 1e-8\n",
        "                )\n"
      ]
    },
    {
      "cell_type": "code",
      "execution_count": null,
      "metadata": {
        "id": "-p0upAhhRiIx"
      },
      "outputs": [],
      "source": [
        "from transformers import get_linear_schedule_with_warmup\n",
        "\n",
        "epochs = 4\n",
        "\n",
        "total_steps = len(train_dataloader) * epochs\n",
        "\n",
        "scheduler = get_linear_schedule_with_warmup(optimizer,\n",
        "                                            num_warmup_steps = 0,\n",
        "                                            num_training_steps = total_steps)"
      ]
    },
    {
      "cell_type": "code",
      "execution_count": null,
      "metadata": {
        "id": "9cQNvaZ9bnyy"
      },
      "outputs": [],
      "source": [
        "def flat_accuracy(preds, labels):\n",
        "    pred_flat = np.argmax(preds, axis=1).flatten()\n",
        "    labels_flat = labels.flatten()\n",
        "    return np.sum(pred_flat == labels_flat) / len(labels_flat)"
      ]
    },
    {
      "cell_type": "code",
      "execution_count": null,
      "metadata": {
        "id": "gpt6tR83keZD"
      },
      "outputs": [],
      "source": [
        "import time\n",
        "import datetime\n",
        "\n",
        "def format_time(elapsed):\n",
        "    elapsed_rounded = int(round((elapsed)))\n",
        "    return str(datetime.timedelta(seconds=elapsed_rounded))"
      ]
    },
    {
      "cell_type": "code",
      "execution_count": null,
      "metadata": {
        "colab": {
          "base_uri": "https://localhost:8080/"
        },
        "id": "6J-FYdx6nFE_",
        "outputId": "d51572ba-1419-473e-9333-f5a05b1de6ed"
      },
      "outputs": [],
      "source": [
        "import random\n",
        "\n",
        "seed_val = 42\n",
        "\n",
        "random.seed(seed_val)\n",
        "np.random.seed(seed_val)\n",
        "torch.manual_seed(seed_val)\n",
        "torch.cuda.manual_seed_all(seed_val)\n",
        "\n",
        "training_stats = []\n",
        "\n",
        "total_t0 = time.time()\n",
        "\n",
        "for epoch_i in range(0, epochs):\n",
        "\n",
        "    print(\"\")\n",
        "    print('======== Epoch {:} / {:} ========'.format(epoch_i + 1, epochs))\n",
        "    print('Training...')\n",
        "\n",
        "    t0 = time.time()\n",
        "    total_train_loss = 0\n",
        "    model.train()\n",
        "\n",
        "    for step, batch in enumerate(train_dataloader):\n",
        "        if step % 40 == 0 and not step == 0:\n",
        "            elapsed = format_time(time.time() - t0)\n",
        "            print('  Batch {:>5,}  of  {:>5,}.    Elapsed: {:}.'.format(step, len(train_dataloader), elapsed))\n",
        "\n",
        "        b_input_ids = batch[0].to(device)\n",
        "        b_input_mask = batch[1].to(device)\n",
        "        b_labels = batch[2].to(device)\n",
        "        model.zero_grad()\n",
        "\n",
        "        res = model(b_input_ids,\n",
        "                             token_type_ids=None,\n",
        "                             attention_mask=b_input_mask,\n",
        "                             labels=b_labels)\n",
        "        loss = res['loss']\n",
        "        logits = res['logits']\n",
        "        total_train_loss += loss.item()\n",
        "        loss.backward()\n",
        "        torch.nn.utils.clip_grad_norm_(model.parameters(), 1.0)\n",
        "        optimizer.step()\n",
        "        scheduler.step()\n",
        "    avg_train_loss = total_train_loss / len(train_dataloader)\n",
        "    training_time = format_time(time.time() - t0)\n",
        "\n",
        "    print(\"\")\n",
        "    print(\"  Average training loss: {0:.2f}\".format(avg_train_loss))\n",
        "    print(\"  Training epcoh took: {:}\".format(training_time))\n",
        "    print(\"\")\n",
        "    print(\"Running Validation...\")\n",
        "\n",
        "    t0 = time.time()\n",
        "    model.eval()\n",
        "\n",
        "    total_eval_accuracy = 0\n",
        "    total_eval_loss = 0\n",
        "    nb_eval_steps = 0\n",
        "\n",
        "    for batch in validation_dataloader:\n",
        "        b_input_ids = batch[0].to(device)\n",
        "        b_input_mask = batch[1].to(device)\n",
        "        b_labels = batch[2].to(device)\n",
        "        with torch.no_grad():\n",
        "            res = model(b_input_ids,\n",
        "                                   token_type_ids=None,\n",
        "                                   attention_mask=b_input_mask,\n",
        "                                   labels=b_labels)\n",
        "        loss = res['loss']\n",
        "        logits = res['logits']\n",
        "\n",
        "        total_eval_loss += loss.item()\n",
        "\n",
        "        logits = logits.detach().cpu().numpy()\n",
        "        label_ids = b_labels.to('cpu').numpy()\n",
        "\n",
        "        total_eval_accuracy += flat_accuracy(logits, label_ids)\n",
        "\n",
        "    avg_val_accuracy = total_eval_accuracy / len(validation_dataloader)\n",
        "    print(\"  Accuracy: {0:.2f}\".format(avg_val_accuracy))\n",
        "\n",
        "    avg_val_loss = total_eval_loss / len(validation_dataloader)\n",
        "\n",
        "    validation_time = format_time(time.time() - t0)\n",
        "\n",
        "    print(\"  Validation Loss: {0:.2f}\".format(avg_val_loss))\n",
        "    print(\"  Validation took: {:}\".format(validation_time))\n",
        "\n",
        "    training_stats.append(\n",
        "        {\n",
        "            'epoch': epoch_i + 1,\n",
        "            'Training Loss': avg_train_loss,\n",
        "            'Valid. Loss': avg_val_loss,\n",
        "            'Valid. Accur.': avg_val_accuracy,\n",
        "            'Training Time': training_time,\n",
        "            'Validation Time': validation_time\n",
        "        }\n",
        "    )\n",
        "\n",
        "print(\"\")\n",
        "print(\"Training complete!\")\n",
        "\n",
        "print(\"Total training took {:} (h:mm:ss)\".format(format_time(time.time()-total_t0)))"
      ]
    },
    {
      "cell_type": "code",
      "execution_count": null,
      "metadata": {
        "colab": {
          "base_uri": "https://localhost:8080/",
          "height": 206
        },
        "id": "6O_NbXFGMukX",
        "outputId": "b9941d59-3d66-452b-b504-b02a9cf0168d"
      },
      "outputs": [],
      "source": [
        "pd.options.display.precision\n",
        "df_stats = pd.DataFrame(data=training_stats)\n",
        "df_stats = df_stats.set_index('epoch')\n",
        "df_stats"
      ]
    },
    {
      "cell_type": "code",
      "execution_count": null,
      "metadata": {
        "colab": {
          "base_uri": "https://localhost:8080/",
          "height": 592
        },
        "id": "68xreA9JAmG5",
        "outputId": "52f7c776-c1c0-4437-d7b6-1ea3bc844bdd"
      },
      "outputs": [],
      "source": [
        "%matplotlib inline\n",
        "import seaborn as sns\n",
        "\n",
        "sns.set(style='darkgrid')\n",
        "sns.set(font_scale=1.5)\n",
        "plt.rcParams[\"figure.figsize\"] = (10,6)\n",
        "plt.plot(df_stats['Training Loss'], 'b-o', label=\"Loss\")\n",
        "plt.plot(df_stats['Valid. Loss'], 'g-o', label=\"Accuracy\")\n",
        "plt.title(\"BERT валидационные метрики\")\n",
        "plt.xlabel(\"Epoch\")\n",
        "plt.ylabel(\"Loss\")\n",
        "plt.legend()\n",
        "plt.xticks([1, 2, 3, 4])\n",
        "\n",
        "plt.show()"
      ]
    },
    {
      "cell_type": "markdown",
      "metadata": {
        "id": "BOqFvzJ_fBNj"
      },
      "source": [
        "## Сравнение и выводы"
      ]
    },
    {
      "cell_type": "markdown",
      "metadata": {
        "id": "SMnyxajPfFj5"
      },
      "source": [
        "## Тестирование + итоговое решение"
      ]
    },
    {
      "cell_type": "markdown",
      "metadata": {
        "id": "2SLGE-XKggqo"
      },
      "source": [
        "Подбор параметров с помощью GridSearchCV\n"
      ]
    },
    {
      "cell_type": "code",
      "execution_count": null,
      "metadata": {
        "colab": {
          "base_uri": "https://localhost:8080/"
        },
        "id": "mqitA7hag36Q",
        "outputId": "9ecec9a5-b460-46b4-cee4-4024d4888837"
      },
      "outputs": [],
      "source": [
        "tfidf = TfidfVectorizer(ngram_range=(1, 1), stop_words='english', analyzer = 'word')\n",
        "X = tfidf.fit_transform(cleared_df.posts)\n",
        "\n",
        "y = cleared_df.label_type # обучение деление по типам\n",
        "# y = cleared_df.label_cls # обучение деление по классам\n",
        "\n",
        "# разделение на выборки для передачи данных в модель\n",
        "X_train, X_test, y_train, y_test = train_test_split(X, y, test_size=0.2, random_state=42)\n",
        "print ((X_train.shape),(y_train.shape),(X_test.shape),(y_test.shape))"
      ]
    },
    {
      "cell_type": "code",
      "execution_count": null,
      "metadata": {
        "colab": {
          "base_uri": "https://localhost:8080/",
          "height": 176
        },
        "id": "AihH2PaizcLp",
        "outputId": "799945b2-1e85-4d14-d6e7-8acd3a970247"
      },
      "outputs": [],
      "source": [
        "scoring = {'accuracy': make_scorer(accuracy_score),\n",
        "           'precision': make_scorer(precision_score, average = 'macro'),\n",
        "           'recall': make_scorer(recall_score, average = 'macro'),\n",
        "           'f1': make_scorer(f1_score, average = 'macro')}\n",
        "%%time\n",
        "\n",
        "params = {\n",
        "    \"loss\" : [\"hinge\", \"log\", \"log_loss\", \"squared_hinge\", \"modified_huber\"],\n",
        "    \"tol\" : [0.01, 0.1, 0.0004],\n",
        "    \"shuffle\" : [True, False],\n",
        "    \"alpha\" : [0.0001, 0.001, 0.01, 0.1],\n",
        "    'epsilon' : [0.1, 0.01, 0.001]\n",
        "}\n",
        "\n",
        "sgd = SGDClassifier(max_iter=10, tol = 0.0004)\n",
        "grid = GridSearchCV(sgd, params, cv=10, scoring=scoring, refit='f1')\n",
        "\n",
        "grid.fit(X_train,y_train)"
      ]
    },
    {
      "cell_type": "code",
      "execution_count": null,
      "metadata": {
        "colab": {
          "base_uri": "https://localhost:8080/"
        },
        "id": "HJ8fr-hP8Mm6",
        "outputId": "41b20582-5451-46a0-f470-53974fc9e2c6"
      },
      "outputs": [],
      "source": [
        "print(grid.best_estimator_)\n",
        "print(grid.best_params_ )"
      ]
    },
    {
      "cell_type": "code",
      "execution_count": null,
      "metadata": {
        "colab": {
          "base_uri": "https://localhost:8080/"
        },
        "id": "bB1R6r7q1uww",
        "outputId": "208daada-d3b5-4726-ac4c-2f256ee70505"
      },
      "outputs": [],
      "source": [
        "model = SGDClassifier(alpha=0.001, loss='log_loss', tol = 0.0004,\n",
        "                      epsilon=0.01, max_iter=10, class_weight='balanced', learning_rate = 'optimal', shuffle = False, random_state=42)\n",
        "\n",
        "model.fit(X_train, y_train)\n",
        "predicted = model.predict(X_test)\n",
        "print(classification_report(y_test, predicted))"
      ]
    },
    {
      "cell_type": "code",
      "execution_count": null,
      "metadata": {
        "colab": {
          "base_uri": "https://localhost:8080/"
        },
        "id": "VD4s9Uer1huj",
        "outputId": "5431cd5d-3e3d-4dd9-e108-311e775ce63e"
      },
      "outputs": [],
      "source": [
        "predicted = model.predict(X_test)\n",
        "# print(classification_report(y_test, predicted))\n",
        "precision = precision_score(y_test, predicted, average='weighted')\n",
        "precision"
      ]
    },
    {
      "cell_type": "code",
      "execution_count": null,
      "metadata": {
        "id": "bnbMhnUoXJx8"
      },
      "outputs": [],
      "source": [
        "# кодировка таргета\n",
        "le = LabelEncoder()\n",
        "# кодировка типов\n",
        "le.fit(cleared_df['common_type'])\n",
        "cleared_df['label_type'] =  le.transform(cleared_df['common_type'])"
      ]
    },
    {
      "cell_type": "code",
      "execution_count": null,
      "metadata": {
        "colab": {
          "base_uri": "https://localhost:8080/"
        },
        "id": "NLaPLsIwJWvm",
        "outputId": "c2d8a7ba-e281-4a03-ffbb-413b716fd6c2"
      },
      "outputs": [],
      "source": [
        "tfidf = TfidfVectorizer(ngram_range=(1, 1), stop_words='english', analyzer = 'word')\n",
        "X = tfidf.fit_transform(cleared_df.posts)\n",
        "\n",
        "y = cleared_df.label_type # обучение деление по типам\n",
        "# y = cleared_df.label_cls # обучение деление по классам\n",
        "\n",
        "# разделение на выборки для передачи данных в модель\n",
        "X_train, X_test, y_train, y_test = train_test_split(X, y, test_size=0.2, random_state=42)\n",
        "print ((X_train.shape),(y_train.shape),(X_test.shape),(y_test.shape))"
      ]
    },
    {
      "cell_type": "code",
      "execution_count": null,
      "metadata": {
        "colab": {
          "base_uri": "https://localhost:8080/",
          "height": 109
        },
        "id": "5Bb5FCB-3Ma9",
        "outputId": "75a1bf3a-8253-44d6-f341-2a7a90e3db72"
      },
      "outputs": [],
      "source": [
        "# Итоговая модель\n",
        "model_total = SGDClassifier(alpha=0.001, loss='log_loss', tol = 0.0004,\n",
        "                      epsilon=0.01, max_iter=10, class_weight='balanced',\n",
        "                            learning_rate = 'optimal', shuffle = False, random_state=42)\n",
        "model_total.fit(X_train, y_train)"
      ]
    },
    {
      "cell_type": "code",
      "execution_count": null,
      "metadata": {
        "colab": {
          "base_uri": "https://localhost:8080/"
        },
        "id": "ubQUtPbaCIMW",
        "outputId": "4d1624a1-851c-40b9-da21-89176eecb495"
      },
      "outputs": [],
      "source": [
        "predicted = model_total.predict(X_test)\n",
        "print(classification_report(y_test, predicted))"
      ]
    },
    {
      "cell_type": "code",
      "execution_count": null,
      "metadata": {
        "colab": {
          "base_uri": "https://localhost:8080/"
        },
        "id": "q-Hym9vE1-Lv",
        "outputId": "9dae90d2-651a-4e2f-8ee3-2dc8521eaecd"
      },
      "outputs": [],
      "source": [
        "precision = precision_score(y_test, predicted, average='weighted')\n",
        "precision"
      ]
    },
    {
      "cell_type": "code",
      "execution_count": null,
      "metadata": {
        "colab": {
          "base_uri": "https://localhost:8080/",
          "height": 412
        },
        "id": "7RbZopwGCIMX",
        "outputId": "164a3c09-eed4-4391-fb49-056c40459c23"
      },
      "outputs": [],
      "source": [
        "# тестирование\n",
        "\n",
        "# загрузка данных\n",
        "\n",
        "df_test = pd.read_csv('/content/human.txt', sep= '|')\n",
        "df_test = df_test.transpose().reset_index()\n",
        "df_test['posts'] = df_test[2]\n",
        "df_test['human'] = df_test['index']\n",
        "df_test['class'] = df_test[0]\n",
        "df_test['type'] = df_test[1]\n",
        "df_test = df_test.drop(columns=[0, 1, 2, 'index'])\n",
        "# препроцессинг текста\n",
        "df_test = clear(df_test)\n",
        "df_test['prep_posts'] = preprocess(df_test.posts.values)\n",
        "\n",
        "# векторизация\n",
        "X_test_text = tfidf.transform(df_test.prep_posts)\n",
        "\n",
        "# подача в модель\n",
        "predict_test = model_total.predict(X_test_text)\n",
        "\n",
        "# результат\n",
        "predict = le.inverse_transform(predict_test)\n",
        "\n",
        "df_test['prediction'] = predict\n",
        "\n",
        "# сведение реультатов\n",
        "result = pd.DataFrame({'human': df_test.human, 'type' : df_test['type'], 'prediction': df_test.prediction })\n",
        "def compare(row):\n",
        "    if row['type'] == row['prediction']:\n",
        "        row['acc'] = 1\n",
        "    else:\n",
        "        row['acc'] = 0\n",
        "    return row\n",
        "\n",
        "result = result.apply(compare, axis = 1)\n",
        "\n",
        "print(\"Отношение правильно предсказанных и ошибочных классов:\", result.acc.value_counts()[1]/len(result.acc.values))\n",
        "\n",
        "result"
      ]
    },
    {
      "cell_type": "markdown",
      "metadata": {
        "id": "PgdKQmj_F8h6"
      },
      "source": [
        "**Вывод**: остановилась на модели SGDClassifier(), в виду меньших ресурсозатрат и лучшего показателя метрики presision. Глубокое обучение не принесло значительного преимущества по результатам, превосходит по временным затратам.\n",
        "\n",
        "\n",
        "# Итоговая модель показала на валидационном датасете качетво - 67%.\n",
        "\n",
        "Я собрала свой собственный короткий датасе из 10-ти признаков для теста (музыканты и президенты), где результат обучения - 55%. Можно предположить, что тексты песен не подлинно отражают тип личности по MBTI, а публичные речи президентов могут быть написаны пресс-секретарями, либо не соответствовать действительным характеристикам личности по MBTI, так как публичный человек скрывает осознано или неосознано свое мнение."
      ]
    }
  ],
  "metadata": {
    "colab": {
      "collapsed_sections": [
        "NW4BudtiCIit",
        "1GjURp1jeYHB",
        "claQXNFPT_8t",
        "0dYdiy72tGKv",
        "2tDBupZeztbG",
        "VAkZ6eAAeNS8",
        "35i0bnX1mAF0",
        "jSnfDnrTl0wY"
      ],
      "provenance": [],
      "toc_visible": true
    },
    "kernelspec": {
      "display_name": "Python 3",
      "name": "python3"
    },
    "language_info": {
      "name": "python"
    },
    "widgets": {
      "application/vnd.jupyter.widget-state+json": {
        "02bad38ad3f64c43b141f38353d2adb5": {
          "model_module": "@jupyter-widgets/base",
          "model_module_version": "1.2.0",
          "model_name": "LayoutModel",
          "state": {
            "_model_module": "@jupyter-widgets/base",
            "_model_module_version": "1.2.0",
            "_model_name": "LayoutModel",
            "_view_count": null,
            "_view_module": "@jupyter-widgets/base",
            "_view_module_version": "1.2.0",
            "_view_name": "LayoutView",
            "align_content": null,
            "align_items": null,
            "align_self": null,
            "border": null,
            "bottom": null,
            "display": null,
            "flex": null,
            "flex_flow": null,
            "grid_area": null,
            "grid_auto_columns": null,
            "grid_auto_flow": null,
            "grid_auto_rows": null,
            "grid_column": null,
            "grid_gap": null,
            "grid_row": null,
            "grid_template_areas": null,
            "grid_template_columns": null,
            "grid_template_rows": null,
            "height": null,
            "justify_content": null,
            "justify_items": null,
            "left": null,
            "margin": null,
            "max_height": null,
            "max_width": null,
            "min_height": null,
            "min_width": null,
            "object_fit": null,
            "object_position": null,
            "order": null,
            "overflow": null,
            "overflow_x": null,
            "overflow_y": null,
            "padding": null,
            "right": null,
            "top": null,
            "visibility": null,
            "width": null
          }
        },
        "059bccee791b439fbad2d252b5f56958": {
          "model_module": "@jupyter-widgets/controls",
          "model_module_version": "1.5.0",
          "model_name": "FloatProgressModel",
          "state": {
            "_dom_classes": [],
            "_model_module": "@jupyter-widgets/controls",
            "_model_module_version": "1.5.0",
            "_model_name": "FloatProgressModel",
            "_view_count": null,
            "_view_module": "@jupyter-widgets/controls",
            "_view_module_version": "1.5.0",
            "_view_name": "ProgressView",
            "bar_style": "success",
            "description": "",
            "description_tooltip": null,
            "layout": "IPY_MODEL_a7b67fb6599547208c878387f229232b",
            "max": 570,
            "min": 0,
            "orientation": "horizontal",
            "style": "IPY_MODEL_cfb639914df74ffc8554155e31de99fb",
            "value": 570
          }
        },
        "0de35488748e43f3ad05d576791c02e6": {
          "model_module": "@jupyter-widgets/controls",
          "model_module_version": "1.5.0",
          "model_name": "FloatProgressModel",
          "state": {
            "_dom_classes": [],
            "_model_module": "@jupyter-widgets/controls",
            "_model_module_version": "1.5.0",
            "_model_name": "FloatProgressModel",
            "_view_count": null,
            "_view_module": "@jupyter-widgets/controls",
            "_view_module_version": "1.5.0",
            "_view_name": "ProgressView",
            "bar_style": "success",
            "description": "",
            "description_tooltip": null,
            "layout": "IPY_MODEL_519960728f7340e3ac870db61a4d68a5",
            "max": 440449768,
            "min": 0,
            "orientation": "horizontal",
            "style": "IPY_MODEL_f4cc14a06ee04b16a8b137a1a934bc4d",
            "value": 440449768
          }
        },
        "1360afa7d98f4c5c8551bf160f42214f": {
          "model_module": "@jupyter-widgets/controls",
          "model_module_version": "1.5.0",
          "model_name": "HTMLModel",
          "state": {
            "_dom_classes": [],
            "_model_module": "@jupyter-widgets/controls",
            "_model_module_version": "1.5.0",
            "_model_name": "HTMLModel",
            "_view_count": null,
            "_view_module": "@jupyter-widgets/controls",
            "_view_module_version": "1.5.0",
            "_view_name": "HTMLView",
            "description": "",
            "description_tooltip": null,
            "layout": "IPY_MODEL_34396c26f53148ed82dcbcdd2a2b69a4",
            "placeholder": "​",
            "style": "IPY_MODEL_9149668eacc0476c94540cd51614bef7",
            "value": " 28.0/28.0 [00:00&lt;00:00, 1.17kB/s]"
          }
        },
        "1670a5abc29c4dd39b5691595639e00d": {
          "model_module": "@jupyter-widgets/base",
          "model_module_version": "1.2.0",
          "model_name": "LayoutModel",
          "state": {
            "_model_module": "@jupyter-widgets/base",
            "_model_module_version": "1.2.0",
            "_model_name": "LayoutModel",
            "_view_count": null,
            "_view_module": "@jupyter-widgets/base",
            "_view_module_version": "1.2.0",
            "_view_name": "LayoutView",
            "align_content": null,
            "align_items": null,
            "align_self": null,
            "border": null,
            "bottom": null,
            "display": null,
            "flex": null,
            "flex_flow": null,
            "grid_area": null,
            "grid_auto_columns": null,
            "grid_auto_flow": null,
            "grid_auto_rows": null,
            "grid_column": null,
            "grid_gap": null,
            "grid_row": null,
            "grid_template_areas": null,
            "grid_template_columns": null,
            "grid_template_rows": null,
            "height": null,
            "justify_content": null,
            "justify_items": null,
            "left": null,
            "margin": null,
            "max_height": null,
            "max_width": null,
            "min_height": null,
            "min_width": null,
            "object_fit": null,
            "object_position": null,
            "order": null,
            "overflow": null,
            "overflow_x": null,
            "overflow_y": null,
            "padding": null,
            "right": null,
            "top": null,
            "visibility": null,
            "width": null
          }
        },
        "291736afb4884d98b150a0d82847e1e9": {
          "model_module": "@jupyter-widgets/base",
          "model_module_version": "1.2.0",
          "model_name": "LayoutModel",
          "state": {
            "_model_module": "@jupyter-widgets/base",
            "_model_module_version": "1.2.0",
            "_model_name": "LayoutModel",
            "_view_count": null,
            "_view_module": "@jupyter-widgets/base",
            "_view_module_version": "1.2.0",
            "_view_name": "LayoutView",
            "align_content": null,
            "align_items": null,
            "align_self": null,
            "border": null,
            "bottom": null,
            "display": null,
            "flex": null,
            "flex_flow": null,
            "grid_area": null,
            "grid_auto_columns": null,
            "grid_auto_flow": null,
            "grid_auto_rows": null,
            "grid_column": null,
            "grid_gap": null,
            "grid_row": null,
            "grid_template_areas": null,
            "grid_template_columns": null,
            "grid_template_rows": null,
            "height": null,
            "justify_content": null,
            "justify_items": null,
            "left": null,
            "margin": null,
            "max_height": null,
            "max_width": null,
            "min_height": null,
            "min_width": null,
            "object_fit": null,
            "object_position": null,
            "order": null,
            "overflow": null,
            "overflow_x": null,
            "overflow_y": null,
            "padding": null,
            "right": null,
            "top": null,
            "visibility": null,
            "width": null
          }
        },
        "29ec632ee83c4bd299885c339b93210f": {
          "model_module": "@jupyter-widgets/controls",
          "model_module_version": "1.5.0",
          "model_name": "DescriptionStyleModel",
          "state": {
            "_model_module": "@jupyter-widgets/controls",
            "_model_module_version": "1.5.0",
            "_model_name": "DescriptionStyleModel",
            "_view_count": null,
            "_view_module": "@jupyter-widgets/base",
            "_view_module_version": "1.2.0",
            "_view_name": "StyleView",
            "description_width": ""
          }
        },
        "30843303397d4b1787f0b6e16e429ec8": {
          "model_module": "@jupyter-widgets/controls",
          "model_module_version": "1.5.0",
          "model_name": "FloatProgressModel",
          "state": {
            "_dom_classes": [],
            "_model_module": "@jupyter-widgets/controls",
            "_model_module_version": "1.5.0",
            "_model_name": "FloatProgressModel",
            "_view_count": null,
            "_view_module": "@jupyter-widgets/controls",
            "_view_module_version": "1.5.0",
            "_view_name": "ProgressView",
            "bar_style": "success",
            "description": "",
            "description_tooltip": null,
            "layout": "IPY_MODEL_edaae4f3fa4a402782aff478807a06f0",
            "max": 231508,
            "min": 0,
            "orientation": "horizontal",
            "style": "IPY_MODEL_38e7bb85722745ffae8b92ff2b9eae30",
            "value": 231508
          }
        },
        "34396c26f53148ed82dcbcdd2a2b69a4": {
          "model_module": "@jupyter-widgets/base",
          "model_module_version": "1.2.0",
          "model_name": "LayoutModel",
          "state": {
            "_model_module": "@jupyter-widgets/base",
            "_model_module_version": "1.2.0",
            "_model_name": "LayoutModel",
            "_view_count": null,
            "_view_module": "@jupyter-widgets/base",
            "_view_module_version": "1.2.0",
            "_view_name": "LayoutView",
            "align_content": null,
            "align_items": null,
            "align_self": null,
            "border": null,
            "bottom": null,
            "display": null,
            "flex": null,
            "flex_flow": null,
            "grid_area": null,
            "grid_auto_columns": null,
            "grid_auto_flow": null,
            "grid_auto_rows": null,
            "grid_column": null,
            "grid_gap": null,
            "grid_row": null,
            "grid_template_areas": null,
            "grid_template_columns": null,
            "grid_template_rows": null,
            "height": null,
            "justify_content": null,
            "justify_items": null,
            "left": null,
            "margin": null,
            "max_height": null,
            "max_width": null,
            "min_height": null,
            "min_width": null,
            "object_fit": null,
            "object_position": null,
            "order": null,
            "overflow": null,
            "overflow_x": null,
            "overflow_y": null,
            "padding": null,
            "right": null,
            "top": null,
            "visibility": null,
            "width": null
          }
        },
        "3879dcd4eb8349328826bb83ec622650": {
          "model_module": "@jupyter-widgets/base",
          "model_module_version": "1.2.0",
          "model_name": "LayoutModel",
          "state": {
            "_model_module": "@jupyter-widgets/base",
            "_model_module_version": "1.2.0",
            "_model_name": "LayoutModel",
            "_view_count": null,
            "_view_module": "@jupyter-widgets/base",
            "_view_module_version": "1.2.0",
            "_view_name": "LayoutView",
            "align_content": null,
            "align_items": null,
            "align_self": null,
            "border": null,
            "bottom": null,
            "display": null,
            "flex": null,
            "flex_flow": null,
            "grid_area": null,
            "grid_auto_columns": null,
            "grid_auto_flow": null,
            "grid_auto_rows": null,
            "grid_column": null,
            "grid_gap": null,
            "grid_row": null,
            "grid_template_areas": null,
            "grid_template_columns": null,
            "grid_template_rows": null,
            "height": null,
            "justify_content": null,
            "justify_items": null,
            "left": null,
            "margin": null,
            "max_height": null,
            "max_width": null,
            "min_height": null,
            "min_width": null,
            "object_fit": null,
            "object_position": null,
            "order": null,
            "overflow": null,
            "overflow_x": null,
            "overflow_y": null,
            "padding": null,
            "right": null,
            "top": null,
            "visibility": null,
            "width": null
          }
        },
        "38e7bb85722745ffae8b92ff2b9eae30": {
          "model_module": "@jupyter-widgets/controls",
          "model_module_version": "1.5.0",
          "model_name": "ProgressStyleModel",
          "state": {
            "_model_module": "@jupyter-widgets/controls",
            "_model_module_version": "1.5.0",
            "_model_name": "ProgressStyleModel",
            "_view_count": null,
            "_view_module": "@jupyter-widgets/base",
            "_view_module_version": "1.2.0",
            "_view_name": "StyleView",
            "bar_color": null,
            "description_width": ""
          }
        },
        "47503ecd5af041929ef708d7b3c4424c": {
          "model_module": "@jupyter-widgets/controls",
          "model_module_version": "1.5.0",
          "model_name": "HTMLModel",
          "state": {
            "_dom_classes": [],
            "_model_module": "@jupyter-widgets/controls",
            "_model_module_version": "1.5.0",
            "_model_name": "HTMLModel",
            "_view_count": null,
            "_view_module": "@jupyter-widgets/controls",
            "_view_module_version": "1.5.0",
            "_view_name": "HTMLView",
            "description": "",
            "description_tooltip": null,
            "layout": "IPY_MODEL_92d026e7960b481c87744e85e7780c7a",
            "placeholder": "​",
            "style": "IPY_MODEL_70dfe8a2acd745339c3d268be05562de",
            "value": "model.safetensors: 100%"
          }
        },
        "4c6a2a66d4604f19bb8f1a14a41d7646": {
          "model_module": "@jupyter-widgets/controls",
          "model_module_version": "1.5.0",
          "model_name": "DescriptionStyleModel",
          "state": {
            "_model_module": "@jupyter-widgets/controls",
            "_model_module_version": "1.5.0",
            "_model_name": "DescriptionStyleModel",
            "_view_count": null,
            "_view_module": "@jupyter-widgets/base",
            "_view_module_version": "1.2.0",
            "_view_name": "StyleView",
            "description_width": ""
          }
        },
        "515558a123de4e0483e013a6a1698f91": {
          "model_module": "@jupyter-widgets/controls",
          "model_module_version": "1.5.0",
          "model_name": "HTMLModel",
          "state": {
            "_dom_classes": [],
            "_model_module": "@jupyter-widgets/controls",
            "_model_module_version": "1.5.0",
            "_model_name": "HTMLModel",
            "_view_count": null,
            "_view_module": "@jupyter-widgets/controls",
            "_view_module_version": "1.5.0",
            "_view_name": "HTMLView",
            "description": "",
            "description_tooltip": null,
            "layout": "IPY_MODEL_ab68b0b5e9f347a6b31f9618d45c8c8c",
            "placeholder": "​",
            "style": "IPY_MODEL_e8ddf478dfa443358e4c0f353a8cce4c",
            "value": " 232k/232k [00:00&lt;00:00, 3.11MB/s]"
          }
        },
        "519960728f7340e3ac870db61a4d68a5": {
          "model_module": "@jupyter-widgets/base",
          "model_module_version": "1.2.0",
          "model_name": "LayoutModel",
          "state": {
            "_model_module": "@jupyter-widgets/base",
            "_model_module_version": "1.2.0",
            "_model_name": "LayoutModel",
            "_view_count": null,
            "_view_module": "@jupyter-widgets/base",
            "_view_module_version": "1.2.0",
            "_view_name": "LayoutView",
            "align_content": null,
            "align_items": null,
            "align_self": null,
            "border": null,
            "bottom": null,
            "display": null,
            "flex": null,
            "flex_flow": null,
            "grid_area": null,
            "grid_auto_columns": null,
            "grid_auto_flow": null,
            "grid_auto_rows": null,
            "grid_column": null,
            "grid_gap": null,
            "grid_row": null,
            "grid_template_areas": null,
            "grid_template_columns": null,
            "grid_template_rows": null,
            "height": null,
            "justify_content": null,
            "justify_items": null,
            "left": null,
            "margin": null,
            "max_height": null,
            "max_width": null,
            "min_height": null,
            "min_width": null,
            "object_fit": null,
            "object_position": null,
            "order": null,
            "overflow": null,
            "overflow_x": null,
            "overflow_y": null,
            "padding": null,
            "right": null,
            "top": null,
            "visibility": null,
            "width": null
          }
        },
        "5bb700c7cc2140a4b7c5d99add2a8a66": {
          "model_module": "@jupyter-widgets/controls",
          "model_module_version": "1.5.0",
          "model_name": "HTMLModel",
          "state": {
            "_dom_classes": [],
            "_model_module": "@jupyter-widgets/controls",
            "_model_module_version": "1.5.0",
            "_model_name": "HTMLModel",
            "_view_count": null,
            "_view_module": "@jupyter-widgets/controls",
            "_view_module_version": "1.5.0",
            "_view_name": "HTMLView",
            "description": "",
            "description_tooltip": null,
            "layout": "IPY_MODEL_bc3c26b25aa4437e9ba1fae9c9cb8104",
            "placeholder": "​",
            "style": "IPY_MODEL_4c6a2a66d4604f19bb8f1a14a41d7646",
            "value": "(…)rt-base-uncased/resolve/main/config.json: 100%"
          }
        },
        "5dd906d4b5674949b6bf814aba507ff7": {
          "model_module": "@jupyter-widgets/controls",
          "model_module_version": "1.5.0",
          "model_name": "HBoxModel",
          "state": {
            "_dom_classes": [],
            "_model_module": "@jupyter-widgets/controls",
            "_model_module_version": "1.5.0",
            "_model_name": "HBoxModel",
            "_view_count": null,
            "_view_module": "@jupyter-widgets/controls",
            "_view_module_version": "1.5.0",
            "_view_name": "HBoxView",
            "box_style": "",
            "children": [
              "IPY_MODEL_e2dc32bfb81a4655a6491857a8283d61",
              "IPY_MODEL_30843303397d4b1787f0b6e16e429ec8",
              "IPY_MODEL_515558a123de4e0483e013a6a1698f91"
            ],
            "layout": "IPY_MODEL_f0397854369140d1806deb52921755de"
          }
        },
        "5efbf13867864792914a814958656c88": {
          "model_module": "@jupyter-widgets/base",
          "model_module_version": "1.2.0",
          "model_name": "LayoutModel",
          "state": {
            "_model_module": "@jupyter-widgets/base",
            "_model_module_version": "1.2.0",
            "_model_name": "LayoutModel",
            "_view_count": null,
            "_view_module": "@jupyter-widgets/base",
            "_view_module_version": "1.2.0",
            "_view_name": "LayoutView",
            "align_content": null,
            "align_items": null,
            "align_self": null,
            "border": null,
            "bottom": null,
            "display": null,
            "flex": null,
            "flex_flow": null,
            "grid_area": null,
            "grid_auto_columns": null,
            "grid_auto_flow": null,
            "grid_auto_rows": null,
            "grid_column": null,
            "grid_gap": null,
            "grid_row": null,
            "grid_template_areas": null,
            "grid_template_columns": null,
            "grid_template_rows": null,
            "height": null,
            "justify_content": null,
            "justify_items": null,
            "left": null,
            "margin": null,
            "max_height": null,
            "max_width": null,
            "min_height": null,
            "min_width": null,
            "object_fit": null,
            "object_position": null,
            "order": null,
            "overflow": null,
            "overflow_x": null,
            "overflow_y": null,
            "padding": null,
            "right": null,
            "top": null,
            "visibility": null,
            "width": null
          }
        },
        "666c67f3302d4cc7bb9c5ce94e8600f9": {
          "model_module": "@jupyter-widgets/controls",
          "model_module_version": "1.5.0",
          "model_name": "ProgressStyleModel",
          "state": {
            "_model_module": "@jupyter-widgets/controls",
            "_model_module_version": "1.5.0",
            "_model_name": "ProgressStyleModel",
            "_view_count": null,
            "_view_module": "@jupyter-widgets/base",
            "_view_module_version": "1.2.0",
            "_view_name": "StyleView",
            "bar_color": null,
            "description_width": ""
          }
        },
        "684e2191bcd54c7ea8bb08698dc3c5e3": {
          "model_module": "@jupyter-widgets/base",
          "model_module_version": "1.2.0",
          "model_name": "LayoutModel",
          "state": {
            "_model_module": "@jupyter-widgets/base",
            "_model_module_version": "1.2.0",
            "_model_name": "LayoutModel",
            "_view_count": null,
            "_view_module": "@jupyter-widgets/base",
            "_view_module_version": "1.2.0",
            "_view_name": "LayoutView",
            "align_content": null,
            "align_items": null,
            "align_self": null,
            "border": null,
            "bottom": null,
            "display": null,
            "flex": null,
            "flex_flow": null,
            "grid_area": null,
            "grid_auto_columns": null,
            "grid_auto_flow": null,
            "grid_auto_rows": null,
            "grid_column": null,
            "grid_gap": null,
            "grid_row": null,
            "grid_template_areas": null,
            "grid_template_columns": null,
            "grid_template_rows": null,
            "height": null,
            "justify_content": null,
            "justify_items": null,
            "left": null,
            "margin": null,
            "max_height": null,
            "max_width": null,
            "min_height": null,
            "min_width": null,
            "object_fit": null,
            "object_position": null,
            "order": null,
            "overflow": null,
            "overflow_x": null,
            "overflow_y": null,
            "padding": null,
            "right": null,
            "top": null,
            "visibility": null,
            "width": null
          }
        },
        "6d9248d16e4a4b43a8a5485679b96101": {
          "model_module": "@jupyter-widgets/controls",
          "model_module_version": "1.5.0",
          "model_name": "HTMLModel",
          "state": {
            "_dom_classes": [],
            "_model_module": "@jupyter-widgets/controls",
            "_model_module_version": "1.5.0",
            "_model_name": "HTMLModel",
            "_view_count": null,
            "_view_module": "@jupyter-widgets/controls",
            "_view_module_version": "1.5.0",
            "_view_name": "HTMLView",
            "description": "",
            "description_tooltip": null,
            "layout": "IPY_MODEL_ac9c98e50c9446fb9c7d48813415967b",
            "placeholder": "​",
            "style": "IPY_MODEL_29ec632ee83c4bd299885c339b93210f",
            "value": " 466k/466k [00:00&lt;00:00, 6.52MB/s]"
          }
        },
        "6f9aeee051cd4348872e30bcc8222593": {
          "model_module": "@jupyter-widgets/base",
          "model_module_version": "1.2.0",
          "model_name": "LayoutModel",
          "state": {
            "_model_module": "@jupyter-widgets/base",
            "_model_module_version": "1.2.0",
            "_model_name": "LayoutModel",
            "_view_count": null,
            "_view_module": "@jupyter-widgets/base",
            "_view_module_version": "1.2.0",
            "_view_name": "LayoutView",
            "align_content": null,
            "align_items": null,
            "align_self": null,
            "border": null,
            "bottom": null,
            "display": null,
            "flex": null,
            "flex_flow": null,
            "grid_area": null,
            "grid_auto_columns": null,
            "grid_auto_flow": null,
            "grid_auto_rows": null,
            "grid_column": null,
            "grid_gap": null,
            "grid_row": null,
            "grid_template_areas": null,
            "grid_template_columns": null,
            "grid_template_rows": null,
            "height": null,
            "justify_content": null,
            "justify_items": null,
            "left": null,
            "margin": null,
            "max_height": null,
            "max_width": null,
            "min_height": null,
            "min_width": null,
            "object_fit": null,
            "object_position": null,
            "order": null,
            "overflow": null,
            "overflow_x": null,
            "overflow_y": null,
            "padding": null,
            "right": null,
            "top": null,
            "visibility": null,
            "width": null
          }
        },
        "70dfe8a2acd745339c3d268be05562de": {
          "model_module": "@jupyter-widgets/controls",
          "model_module_version": "1.5.0",
          "model_name": "DescriptionStyleModel",
          "state": {
            "_model_module": "@jupyter-widgets/controls",
            "_model_module_version": "1.5.0",
            "_model_name": "DescriptionStyleModel",
            "_view_count": null,
            "_view_module": "@jupyter-widgets/base",
            "_view_module_version": "1.2.0",
            "_view_name": "StyleView",
            "description_width": ""
          }
        },
        "746309abe9ba4eb4991494c09d2b294b": {
          "model_module": "@jupyter-widgets/controls",
          "model_module_version": "1.5.0",
          "model_name": "FloatProgressModel",
          "state": {
            "_dom_classes": [],
            "_model_module": "@jupyter-widgets/controls",
            "_model_module_version": "1.5.0",
            "_model_name": "FloatProgressModel",
            "_view_count": null,
            "_view_module": "@jupyter-widgets/controls",
            "_view_module_version": "1.5.0",
            "_view_name": "ProgressView",
            "bar_style": "success",
            "description": "",
            "description_tooltip": null,
            "layout": "IPY_MODEL_02bad38ad3f64c43b141f38353d2adb5",
            "max": 466062,
            "min": 0,
            "orientation": "horizontal",
            "style": "IPY_MODEL_666c67f3302d4cc7bb9c5ce94e8600f9",
            "value": 466062
          }
        },
        "7d043c93841d48e89153e072a3901348": {
          "model_module": "@jupyter-widgets/controls",
          "model_module_version": "1.5.0",
          "model_name": "HBoxModel",
          "state": {
            "_dom_classes": [],
            "_model_module": "@jupyter-widgets/controls",
            "_model_module_version": "1.5.0",
            "_model_name": "HBoxModel",
            "_view_count": null,
            "_view_module": "@jupyter-widgets/controls",
            "_view_module_version": "1.5.0",
            "_view_name": "HBoxView",
            "box_style": "",
            "children": [
              "IPY_MODEL_e5eabed539e441d39b0bdae3fecd54d4",
              "IPY_MODEL_746309abe9ba4eb4991494c09d2b294b",
              "IPY_MODEL_6d9248d16e4a4b43a8a5485679b96101"
            ],
            "layout": "IPY_MODEL_6f9aeee051cd4348872e30bcc8222593"
          }
        },
        "871bd348aaab4824b460642f0428be0d": {
          "model_module": "@jupyter-widgets/controls",
          "model_module_version": "1.5.0",
          "model_name": "DescriptionStyleModel",
          "state": {
            "_model_module": "@jupyter-widgets/controls",
            "_model_module_version": "1.5.0",
            "_model_name": "DescriptionStyleModel",
            "_view_count": null,
            "_view_module": "@jupyter-widgets/base",
            "_view_module_version": "1.2.0",
            "_view_name": "StyleView",
            "description_width": ""
          }
        },
        "8854893231fa488999b624117573059c": {
          "model_module": "@jupyter-widgets/controls",
          "model_module_version": "1.5.0",
          "model_name": "DescriptionStyleModel",
          "state": {
            "_model_module": "@jupyter-widgets/controls",
            "_model_module_version": "1.5.0",
            "_model_name": "DescriptionStyleModel",
            "_view_count": null,
            "_view_module": "@jupyter-widgets/base",
            "_view_module_version": "1.2.0",
            "_view_name": "StyleView",
            "description_width": ""
          }
        },
        "8981dbad6448442089deccd9d1036c8a": {
          "model_module": "@jupyter-widgets/controls",
          "model_module_version": "1.5.0",
          "model_name": "DescriptionStyleModel",
          "state": {
            "_model_module": "@jupyter-widgets/controls",
            "_model_module_version": "1.5.0",
            "_model_name": "DescriptionStyleModel",
            "_view_count": null,
            "_view_module": "@jupyter-widgets/base",
            "_view_module_version": "1.2.0",
            "_view_name": "StyleView",
            "description_width": ""
          }
        },
        "9149668eacc0476c94540cd51614bef7": {
          "model_module": "@jupyter-widgets/controls",
          "model_module_version": "1.5.0",
          "model_name": "DescriptionStyleModel",
          "state": {
            "_model_module": "@jupyter-widgets/controls",
            "_model_module_version": "1.5.0",
            "_model_name": "DescriptionStyleModel",
            "_view_count": null,
            "_view_module": "@jupyter-widgets/base",
            "_view_module_version": "1.2.0",
            "_view_name": "StyleView",
            "description_width": ""
          }
        },
        "92d026e7960b481c87744e85e7780c7a": {
          "model_module": "@jupyter-widgets/base",
          "model_module_version": "1.2.0",
          "model_name": "LayoutModel",
          "state": {
            "_model_module": "@jupyter-widgets/base",
            "_model_module_version": "1.2.0",
            "_model_name": "LayoutModel",
            "_view_count": null,
            "_view_module": "@jupyter-widgets/base",
            "_view_module_version": "1.2.0",
            "_view_name": "LayoutView",
            "align_content": null,
            "align_items": null,
            "align_self": null,
            "border": null,
            "bottom": null,
            "display": null,
            "flex": null,
            "flex_flow": null,
            "grid_area": null,
            "grid_auto_columns": null,
            "grid_auto_flow": null,
            "grid_auto_rows": null,
            "grid_column": null,
            "grid_gap": null,
            "grid_row": null,
            "grid_template_areas": null,
            "grid_template_columns": null,
            "grid_template_rows": null,
            "height": null,
            "justify_content": null,
            "justify_items": null,
            "left": null,
            "margin": null,
            "max_height": null,
            "max_width": null,
            "min_height": null,
            "min_width": null,
            "object_fit": null,
            "object_position": null,
            "order": null,
            "overflow": null,
            "overflow_x": null,
            "overflow_y": null,
            "padding": null,
            "right": null,
            "top": null,
            "visibility": null,
            "width": null
          }
        },
        "999ab5c58c6a420180e952cd2368a5cd": {
          "model_module": "@jupyter-widgets/base",
          "model_module_version": "1.2.0",
          "model_name": "LayoutModel",
          "state": {
            "_model_module": "@jupyter-widgets/base",
            "_model_module_version": "1.2.0",
            "_model_name": "LayoutModel",
            "_view_count": null,
            "_view_module": "@jupyter-widgets/base",
            "_view_module_version": "1.2.0",
            "_view_name": "LayoutView",
            "align_content": null,
            "align_items": null,
            "align_self": null,
            "border": null,
            "bottom": null,
            "display": null,
            "flex": null,
            "flex_flow": null,
            "grid_area": null,
            "grid_auto_columns": null,
            "grid_auto_flow": null,
            "grid_auto_rows": null,
            "grid_column": null,
            "grid_gap": null,
            "grid_row": null,
            "grid_template_areas": null,
            "grid_template_columns": null,
            "grid_template_rows": null,
            "height": null,
            "justify_content": null,
            "justify_items": null,
            "left": null,
            "margin": null,
            "max_height": null,
            "max_width": null,
            "min_height": null,
            "min_width": null,
            "object_fit": null,
            "object_position": null,
            "order": null,
            "overflow": null,
            "overflow_x": null,
            "overflow_y": null,
            "padding": null,
            "right": null,
            "top": null,
            "visibility": null,
            "width": null
          }
        },
        "a0a071e7873d42359f02ba27d7493ccd": {
          "model_module": "@jupyter-widgets/controls",
          "model_module_version": "1.5.0",
          "model_name": "HBoxModel",
          "state": {
            "_dom_classes": [],
            "_model_module": "@jupyter-widgets/controls",
            "_model_module_version": "1.5.0",
            "_model_name": "HBoxModel",
            "_view_count": null,
            "_view_module": "@jupyter-widgets/controls",
            "_view_module_version": "1.5.0",
            "_view_name": "HBoxView",
            "box_style": "",
            "children": [
              "IPY_MODEL_47503ecd5af041929ef708d7b3c4424c",
              "IPY_MODEL_0de35488748e43f3ad05d576791c02e6",
              "IPY_MODEL_f65915385a384bf5bfc0e37688e57fba"
            ],
            "layout": "IPY_MODEL_5efbf13867864792914a814958656c88"
          }
        },
        "a720bd1567494947ae6f9d8c0a84e063": {
          "model_module": "@jupyter-widgets/controls",
          "model_module_version": "1.5.0",
          "model_name": "HBoxModel",
          "state": {
            "_dom_classes": [],
            "_model_module": "@jupyter-widgets/controls",
            "_model_module_version": "1.5.0",
            "_model_name": "HBoxModel",
            "_view_count": null,
            "_view_module": "@jupyter-widgets/controls",
            "_view_module_version": "1.5.0",
            "_view_name": "HBoxView",
            "box_style": "",
            "children": [
              "IPY_MODEL_5bb700c7cc2140a4b7c5d99add2a8a66",
              "IPY_MODEL_059bccee791b439fbad2d252b5f56958",
              "IPY_MODEL_e8363c207a38455cb539dbcf9c8e372b"
            ],
            "layout": "IPY_MODEL_3879dcd4eb8349328826bb83ec622650"
          }
        },
        "a7b67fb6599547208c878387f229232b": {
          "model_module": "@jupyter-widgets/base",
          "model_module_version": "1.2.0",
          "model_name": "LayoutModel",
          "state": {
            "_model_module": "@jupyter-widgets/base",
            "_model_module_version": "1.2.0",
            "_model_name": "LayoutModel",
            "_view_count": null,
            "_view_module": "@jupyter-widgets/base",
            "_view_module_version": "1.2.0",
            "_view_name": "LayoutView",
            "align_content": null,
            "align_items": null,
            "align_self": null,
            "border": null,
            "bottom": null,
            "display": null,
            "flex": null,
            "flex_flow": null,
            "grid_area": null,
            "grid_auto_columns": null,
            "grid_auto_flow": null,
            "grid_auto_rows": null,
            "grid_column": null,
            "grid_gap": null,
            "grid_row": null,
            "grid_template_areas": null,
            "grid_template_columns": null,
            "grid_template_rows": null,
            "height": null,
            "justify_content": null,
            "justify_items": null,
            "left": null,
            "margin": null,
            "max_height": null,
            "max_width": null,
            "min_height": null,
            "min_width": null,
            "object_fit": null,
            "object_position": null,
            "order": null,
            "overflow": null,
            "overflow_x": null,
            "overflow_y": null,
            "padding": null,
            "right": null,
            "top": null,
            "visibility": null,
            "width": null
          }
        },
        "ab68b0b5e9f347a6b31f9618d45c8c8c": {
          "model_module": "@jupyter-widgets/base",
          "model_module_version": "1.2.0",
          "model_name": "LayoutModel",
          "state": {
            "_model_module": "@jupyter-widgets/base",
            "_model_module_version": "1.2.0",
            "_model_name": "LayoutModel",
            "_view_count": null,
            "_view_module": "@jupyter-widgets/base",
            "_view_module_version": "1.2.0",
            "_view_name": "LayoutView",
            "align_content": null,
            "align_items": null,
            "align_self": null,
            "border": null,
            "bottom": null,
            "display": null,
            "flex": null,
            "flex_flow": null,
            "grid_area": null,
            "grid_auto_columns": null,
            "grid_auto_flow": null,
            "grid_auto_rows": null,
            "grid_column": null,
            "grid_gap": null,
            "grid_row": null,
            "grid_template_areas": null,
            "grid_template_columns": null,
            "grid_template_rows": null,
            "height": null,
            "justify_content": null,
            "justify_items": null,
            "left": null,
            "margin": null,
            "max_height": null,
            "max_width": null,
            "min_height": null,
            "min_width": null,
            "object_fit": null,
            "object_position": null,
            "order": null,
            "overflow": null,
            "overflow_x": null,
            "overflow_y": null,
            "padding": null,
            "right": null,
            "top": null,
            "visibility": null,
            "width": null
          }
        },
        "ac9c98e50c9446fb9c7d48813415967b": {
          "model_module": "@jupyter-widgets/base",
          "model_module_version": "1.2.0",
          "model_name": "LayoutModel",
          "state": {
            "_model_module": "@jupyter-widgets/base",
            "_model_module_version": "1.2.0",
            "_model_name": "LayoutModel",
            "_view_count": null,
            "_view_module": "@jupyter-widgets/base",
            "_view_module_version": "1.2.0",
            "_view_name": "LayoutView",
            "align_content": null,
            "align_items": null,
            "align_self": null,
            "border": null,
            "bottom": null,
            "display": null,
            "flex": null,
            "flex_flow": null,
            "grid_area": null,
            "grid_auto_columns": null,
            "grid_auto_flow": null,
            "grid_auto_rows": null,
            "grid_column": null,
            "grid_gap": null,
            "grid_row": null,
            "grid_template_areas": null,
            "grid_template_columns": null,
            "grid_template_rows": null,
            "height": null,
            "justify_content": null,
            "justify_items": null,
            "left": null,
            "margin": null,
            "max_height": null,
            "max_width": null,
            "min_height": null,
            "min_width": null,
            "object_fit": null,
            "object_position": null,
            "order": null,
            "overflow": null,
            "overflow_x": null,
            "overflow_y": null,
            "padding": null,
            "right": null,
            "top": null,
            "visibility": null,
            "width": null
          }
        },
        "ad96b4dc4ced4c49932bf5028b28de1a": {
          "model_module": "@jupyter-widgets/base",
          "model_module_version": "1.2.0",
          "model_name": "LayoutModel",
          "state": {
            "_model_module": "@jupyter-widgets/base",
            "_model_module_version": "1.2.0",
            "_model_name": "LayoutModel",
            "_view_count": null,
            "_view_module": "@jupyter-widgets/base",
            "_view_module_version": "1.2.0",
            "_view_name": "LayoutView",
            "align_content": null,
            "align_items": null,
            "align_self": null,
            "border": null,
            "bottom": null,
            "display": null,
            "flex": null,
            "flex_flow": null,
            "grid_area": null,
            "grid_auto_columns": null,
            "grid_auto_flow": null,
            "grid_auto_rows": null,
            "grid_column": null,
            "grid_gap": null,
            "grid_row": null,
            "grid_template_areas": null,
            "grid_template_columns": null,
            "grid_template_rows": null,
            "height": null,
            "justify_content": null,
            "justify_items": null,
            "left": null,
            "margin": null,
            "max_height": null,
            "max_width": null,
            "min_height": null,
            "min_width": null,
            "object_fit": null,
            "object_position": null,
            "order": null,
            "overflow": null,
            "overflow_x": null,
            "overflow_y": null,
            "padding": null,
            "right": null,
            "top": null,
            "visibility": null,
            "width": null
          }
        },
        "b3303899cbb44ec98828b48499b0a776": {
          "model_module": "@jupyter-widgets/controls",
          "model_module_version": "1.5.0",
          "model_name": "DescriptionStyleModel",
          "state": {
            "_model_module": "@jupyter-widgets/controls",
            "_model_module_version": "1.5.0",
            "_model_name": "DescriptionStyleModel",
            "_view_count": null,
            "_view_module": "@jupyter-widgets/base",
            "_view_module_version": "1.2.0",
            "_view_name": "StyleView",
            "description_width": ""
          }
        },
        "bc3c26b25aa4437e9ba1fae9c9cb8104": {
          "model_module": "@jupyter-widgets/base",
          "model_module_version": "1.2.0",
          "model_name": "LayoutModel",
          "state": {
            "_model_module": "@jupyter-widgets/base",
            "_model_module_version": "1.2.0",
            "_model_name": "LayoutModel",
            "_view_count": null,
            "_view_module": "@jupyter-widgets/base",
            "_view_module_version": "1.2.0",
            "_view_name": "LayoutView",
            "align_content": null,
            "align_items": null,
            "align_self": null,
            "border": null,
            "bottom": null,
            "display": null,
            "flex": null,
            "flex_flow": null,
            "grid_area": null,
            "grid_auto_columns": null,
            "grid_auto_flow": null,
            "grid_auto_rows": null,
            "grid_column": null,
            "grid_gap": null,
            "grid_row": null,
            "grid_template_areas": null,
            "grid_template_columns": null,
            "grid_template_rows": null,
            "height": null,
            "justify_content": null,
            "justify_items": null,
            "left": null,
            "margin": null,
            "max_height": null,
            "max_width": null,
            "min_height": null,
            "min_width": null,
            "object_fit": null,
            "object_position": null,
            "order": null,
            "overflow": null,
            "overflow_x": null,
            "overflow_y": null,
            "padding": null,
            "right": null,
            "top": null,
            "visibility": null,
            "width": null
          }
        },
        "bd8114a33fbf4841be5e65ef41696cfb": {
          "model_module": "@jupyter-widgets/controls",
          "model_module_version": "1.5.0",
          "model_name": "HTMLModel",
          "state": {
            "_dom_classes": [],
            "_model_module": "@jupyter-widgets/controls",
            "_model_module_version": "1.5.0",
            "_model_name": "HTMLModel",
            "_view_count": null,
            "_view_module": "@jupyter-widgets/controls",
            "_view_module_version": "1.5.0",
            "_view_name": "HTMLView",
            "description": "",
            "description_tooltip": null,
            "layout": "IPY_MODEL_ad96b4dc4ced4c49932bf5028b28de1a",
            "placeholder": "​",
            "style": "IPY_MODEL_871bd348aaab4824b460642f0428be0d",
            "value": "(…)cased/resolve/main/tokenizer_config.json: 100%"
          }
        },
        "c91b0c71119d4fdc98bb9195721ae834": {
          "model_module": "@jupyter-widgets/base",
          "model_module_version": "1.2.0",
          "model_name": "LayoutModel",
          "state": {
            "_model_module": "@jupyter-widgets/base",
            "_model_module_version": "1.2.0",
            "_model_name": "LayoutModel",
            "_view_count": null,
            "_view_module": "@jupyter-widgets/base",
            "_view_module_version": "1.2.0",
            "_view_name": "LayoutView",
            "align_content": null,
            "align_items": null,
            "align_self": null,
            "border": null,
            "bottom": null,
            "display": null,
            "flex": null,
            "flex_flow": null,
            "grid_area": null,
            "grid_auto_columns": null,
            "grid_auto_flow": null,
            "grid_auto_rows": null,
            "grid_column": null,
            "grid_gap": null,
            "grid_row": null,
            "grid_template_areas": null,
            "grid_template_columns": null,
            "grid_template_rows": null,
            "height": null,
            "justify_content": null,
            "justify_items": null,
            "left": null,
            "margin": null,
            "max_height": null,
            "max_width": null,
            "min_height": null,
            "min_width": null,
            "object_fit": null,
            "object_position": null,
            "order": null,
            "overflow": null,
            "overflow_x": null,
            "overflow_y": null,
            "padding": null,
            "right": null,
            "top": null,
            "visibility": null,
            "width": null
          }
        },
        "cfb639914df74ffc8554155e31de99fb": {
          "model_module": "@jupyter-widgets/controls",
          "model_module_version": "1.5.0",
          "model_name": "ProgressStyleModel",
          "state": {
            "_model_module": "@jupyter-widgets/controls",
            "_model_module_version": "1.5.0",
            "_model_name": "ProgressStyleModel",
            "_view_count": null,
            "_view_module": "@jupyter-widgets/base",
            "_view_module_version": "1.2.0",
            "_view_name": "StyleView",
            "bar_color": null,
            "description_width": ""
          }
        },
        "d5f33b99c06941cb8b07011626bc45c7": {
          "model_module": "@jupyter-widgets/controls",
          "model_module_version": "1.5.0",
          "model_name": "ProgressStyleModel",
          "state": {
            "_model_module": "@jupyter-widgets/controls",
            "_model_module_version": "1.5.0",
            "_model_name": "ProgressStyleModel",
            "_view_count": null,
            "_view_module": "@jupyter-widgets/base",
            "_view_module_version": "1.2.0",
            "_view_name": "StyleView",
            "bar_color": null,
            "description_width": ""
          }
        },
        "e2dc32bfb81a4655a6491857a8283d61": {
          "model_module": "@jupyter-widgets/controls",
          "model_module_version": "1.5.0",
          "model_name": "HTMLModel",
          "state": {
            "_dom_classes": [],
            "_model_module": "@jupyter-widgets/controls",
            "_model_module_version": "1.5.0",
            "_model_name": "HTMLModel",
            "_view_count": null,
            "_view_module": "@jupyter-widgets/controls",
            "_view_module_version": "1.5.0",
            "_view_name": "HTMLView",
            "description": "",
            "description_tooltip": null,
            "layout": "IPY_MODEL_1670a5abc29c4dd39b5691595639e00d",
            "placeholder": "​",
            "style": "IPY_MODEL_8854893231fa488999b624117573059c",
            "value": "(…)bert-base-uncased/resolve/main/vocab.txt: 100%"
          }
        },
        "e4da7002f942461bba92e1242f1db432": {
          "model_module": "@jupyter-widgets/controls",
          "model_module_version": "1.5.0",
          "model_name": "FloatProgressModel",
          "state": {
            "_dom_classes": [],
            "_model_module": "@jupyter-widgets/controls",
            "_model_module_version": "1.5.0",
            "_model_name": "FloatProgressModel",
            "_view_count": null,
            "_view_module": "@jupyter-widgets/controls",
            "_view_module_version": "1.5.0",
            "_view_name": "ProgressView",
            "bar_style": "success",
            "description": "",
            "description_tooltip": null,
            "layout": "IPY_MODEL_f802049c621b44b1a2d06e01580eba5d",
            "max": 28,
            "min": 0,
            "orientation": "horizontal",
            "style": "IPY_MODEL_d5f33b99c06941cb8b07011626bc45c7",
            "value": 28
          }
        },
        "e5eabed539e441d39b0bdae3fecd54d4": {
          "model_module": "@jupyter-widgets/controls",
          "model_module_version": "1.5.0",
          "model_name": "HTMLModel",
          "state": {
            "_dom_classes": [],
            "_model_module": "@jupyter-widgets/controls",
            "_model_module_version": "1.5.0",
            "_model_name": "HTMLModel",
            "_view_count": null,
            "_view_module": "@jupyter-widgets/controls",
            "_view_module_version": "1.5.0",
            "_view_name": "HTMLView",
            "description": "",
            "description_tooltip": null,
            "layout": "IPY_MODEL_c91b0c71119d4fdc98bb9195721ae834",
            "placeholder": "​",
            "style": "IPY_MODEL_fd8cec8022fc416c806334203166301e",
            "value": "(…)base-uncased/resolve/main/tokenizer.json: 100%"
          }
        },
        "e8363c207a38455cb539dbcf9c8e372b": {
          "model_module": "@jupyter-widgets/controls",
          "model_module_version": "1.5.0",
          "model_name": "HTMLModel",
          "state": {
            "_dom_classes": [],
            "_model_module": "@jupyter-widgets/controls",
            "_model_module_version": "1.5.0",
            "_model_name": "HTMLModel",
            "_view_count": null,
            "_view_module": "@jupyter-widgets/controls",
            "_view_module_version": "1.5.0",
            "_view_name": "HTMLView",
            "description": "",
            "description_tooltip": null,
            "layout": "IPY_MODEL_684e2191bcd54c7ea8bb08698dc3c5e3",
            "placeholder": "​",
            "style": "IPY_MODEL_b3303899cbb44ec98828b48499b0a776",
            "value": " 570/570 [00:00&lt;00:00, 9.37kB/s]"
          }
        },
        "e8ddf478dfa443358e4c0f353a8cce4c": {
          "model_module": "@jupyter-widgets/controls",
          "model_module_version": "1.5.0",
          "model_name": "DescriptionStyleModel",
          "state": {
            "_model_module": "@jupyter-widgets/controls",
            "_model_module_version": "1.5.0",
            "_model_name": "DescriptionStyleModel",
            "_view_count": null,
            "_view_module": "@jupyter-widgets/base",
            "_view_module_version": "1.2.0",
            "_view_name": "StyleView",
            "description_width": ""
          }
        },
        "edaae4f3fa4a402782aff478807a06f0": {
          "model_module": "@jupyter-widgets/base",
          "model_module_version": "1.2.0",
          "model_name": "LayoutModel",
          "state": {
            "_model_module": "@jupyter-widgets/base",
            "_model_module_version": "1.2.0",
            "_model_name": "LayoutModel",
            "_view_count": null,
            "_view_module": "@jupyter-widgets/base",
            "_view_module_version": "1.2.0",
            "_view_name": "LayoutView",
            "align_content": null,
            "align_items": null,
            "align_self": null,
            "border": null,
            "bottom": null,
            "display": null,
            "flex": null,
            "flex_flow": null,
            "grid_area": null,
            "grid_auto_columns": null,
            "grid_auto_flow": null,
            "grid_auto_rows": null,
            "grid_column": null,
            "grid_gap": null,
            "grid_row": null,
            "grid_template_areas": null,
            "grid_template_columns": null,
            "grid_template_rows": null,
            "height": null,
            "justify_content": null,
            "justify_items": null,
            "left": null,
            "margin": null,
            "max_height": null,
            "max_width": null,
            "min_height": null,
            "min_width": null,
            "object_fit": null,
            "object_position": null,
            "order": null,
            "overflow": null,
            "overflow_x": null,
            "overflow_y": null,
            "padding": null,
            "right": null,
            "top": null,
            "visibility": null,
            "width": null
          }
        },
        "f0397854369140d1806deb52921755de": {
          "model_module": "@jupyter-widgets/base",
          "model_module_version": "1.2.0",
          "model_name": "LayoutModel",
          "state": {
            "_model_module": "@jupyter-widgets/base",
            "_model_module_version": "1.2.0",
            "_model_name": "LayoutModel",
            "_view_count": null,
            "_view_module": "@jupyter-widgets/base",
            "_view_module_version": "1.2.0",
            "_view_name": "LayoutView",
            "align_content": null,
            "align_items": null,
            "align_self": null,
            "border": null,
            "bottom": null,
            "display": null,
            "flex": null,
            "flex_flow": null,
            "grid_area": null,
            "grid_auto_columns": null,
            "grid_auto_flow": null,
            "grid_auto_rows": null,
            "grid_column": null,
            "grid_gap": null,
            "grid_row": null,
            "grid_template_areas": null,
            "grid_template_columns": null,
            "grid_template_rows": null,
            "height": null,
            "justify_content": null,
            "justify_items": null,
            "left": null,
            "margin": null,
            "max_height": null,
            "max_width": null,
            "min_height": null,
            "min_width": null,
            "object_fit": null,
            "object_position": null,
            "order": null,
            "overflow": null,
            "overflow_x": null,
            "overflow_y": null,
            "padding": null,
            "right": null,
            "top": null,
            "visibility": null,
            "width": null
          }
        },
        "f1260a81efea469fba31b615c09527aa": {
          "model_module": "@jupyter-widgets/controls",
          "model_module_version": "1.5.0",
          "model_name": "HBoxModel",
          "state": {
            "_dom_classes": [],
            "_model_module": "@jupyter-widgets/controls",
            "_model_module_version": "1.5.0",
            "_model_name": "HBoxModel",
            "_view_count": null,
            "_view_module": "@jupyter-widgets/controls",
            "_view_module_version": "1.5.0",
            "_view_name": "HBoxView",
            "box_style": "",
            "children": [
              "IPY_MODEL_bd8114a33fbf4841be5e65ef41696cfb",
              "IPY_MODEL_e4da7002f942461bba92e1242f1db432",
              "IPY_MODEL_1360afa7d98f4c5c8551bf160f42214f"
            ],
            "layout": "IPY_MODEL_291736afb4884d98b150a0d82847e1e9"
          }
        },
        "f4cc14a06ee04b16a8b137a1a934bc4d": {
          "model_module": "@jupyter-widgets/controls",
          "model_module_version": "1.5.0",
          "model_name": "ProgressStyleModel",
          "state": {
            "_model_module": "@jupyter-widgets/controls",
            "_model_module_version": "1.5.0",
            "_model_name": "ProgressStyleModel",
            "_view_count": null,
            "_view_module": "@jupyter-widgets/base",
            "_view_module_version": "1.2.0",
            "_view_name": "StyleView",
            "bar_color": null,
            "description_width": ""
          }
        },
        "f65915385a384bf5bfc0e37688e57fba": {
          "model_module": "@jupyter-widgets/controls",
          "model_module_version": "1.5.0",
          "model_name": "HTMLModel",
          "state": {
            "_dom_classes": [],
            "_model_module": "@jupyter-widgets/controls",
            "_model_module_version": "1.5.0",
            "_model_name": "HTMLModel",
            "_view_count": null,
            "_view_module": "@jupyter-widgets/controls",
            "_view_module_version": "1.5.0",
            "_view_name": "HTMLView",
            "description": "",
            "description_tooltip": null,
            "layout": "IPY_MODEL_999ab5c58c6a420180e952cd2368a5cd",
            "placeholder": "​",
            "style": "IPY_MODEL_8981dbad6448442089deccd9d1036c8a",
            "value": " 440M/440M [00:06&lt;00:00, 209MB/s]"
          }
        },
        "f802049c621b44b1a2d06e01580eba5d": {
          "model_module": "@jupyter-widgets/base",
          "model_module_version": "1.2.0",
          "model_name": "LayoutModel",
          "state": {
            "_model_module": "@jupyter-widgets/base",
            "_model_module_version": "1.2.0",
            "_model_name": "LayoutModel",
            "_view_count": null,
            "_view_module": "@jupyter-widgets/base",
            "_view_module_version": "1.2.0",
            "_view_name": "LayoutView",
            "align_content": null,
            "align_items": null,
            "align_self": null,
            "border": null,
            "bottom": null,
            "display": null,
            "flex": null,
            "flex_flow": null,
            "grid_area": null,
            "grid_auto_columns": null,
            "grid_auto_flow": null,
            "grid_auto_rows": null,
            "grid_column": null,
            "grid_gap": null,
            "grid_row": null,
            "grid_template_areas": null,
            "grid_template_columns": null,
            "grid_template_rows": null,
            "height": null,
            "justify_content": null,
            "justify_items": null,
            "left": null,
            "margin": null,
            "max_height": null,
            "max_width": null,
            "min_height": null,
            "min_width": null,
            "object_fit": null,
            "object_position": null,
            "order": null,
            "overflow": null,
            "overflow_x": null,
            "overflow_y": null,
            "padding": null,
            "right": null,
            "top": null,
            "visibility": null,
            "width": null
          }
        },
        "fd8cec8022fc416c806334203166301e": {
          "model_module": "@jupyter-widgets/controls",
          "model_module_version": "1.5.0",
          "model_name": "DescriptionStyleModel",
          "state": {
            "_model_module": "@jupyter-widgets/controls",
            "_model_module_version": "1.5.0",
            "_model_name": "DescriptionStyleModel",
            "_view_count": null,
            "_view_module": "@jupyter-widgets/base",
            "_view_module_version": "1.2.0",
            "_view_name": "StyleView",
            "description_width": ""
          }
        }
      }
    }
  },
  "nbformat": 4,
  "nbformat_minor": 0
}
